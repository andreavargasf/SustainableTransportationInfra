{
 "cells": [
  {
   "cell_type": "markdown",
   "id": "8246506c-2b06-4fec-8fca-b73e9bb5cd4c",
   "metadata": {},
   "source": [
    "# Static LCA\n",
    "\n",
    "This is the fifth notebook of a series of 5 (see below the names of full list) intended to teach you the functionalities of the pyhton-based LCA software Brightway 2.5 (BW25) that you will use to carry out your group assignment. For a more nuanced undertsanding of the principles and working mechanisms of BW25 you are referred to [its documentation](https://docs.brightway.dev/en/latest/index.html).\n",
    "\n",
    "**Full list of notebooks of the series:**\n",
    "- 1.Getting started\n",
    "- 2a.Background\n",
    "- 2b.Foreground\n",
    "- 3.StaticLCA\n",
    "- 4.StochasticLCA\n",
    "\n",
    "## Pre-requesites:\n",
    "- Having read the tutorial _Computational Settings and Guidelines_ that you can find on Canvas -> [Module 'General documents & Information'](https://canvas.utwente.nl/courses/15132/modules#:~:text=General%20documents%20%26%20information-,General,-documents%20%26%20information)\n",
    "- Having installed Brightway25 and all relevant packages (make sure to do so in the correct virtual environment) and eventually having had a first contact with its documentation.\n",
    "- Knowledge of the foundations of life cycle assessment (LCA). If you did not attended the Lecture 3- Pavement Life cycle assessment (LCA) or need a refresher, please have a look at its slides that you can find on Canvas.\n",
    "- Access to the ecoinvent database version 3.9.1.\n",
    "- Acess to the foreground database defined in the excel file 'Foreground.xlsx'\n",
    "- Having gone through the previous notebooks.\n",
    "- Familiarity with the Python programming language and the Jupyter Lab environment. However, this is **not** a hard requirement since most methods are quite intuitive and will be explained throughput the tutorial. Nevertheless, In case you are a total beginner, or need a refresher, please read the tutorial _Computational Settings and Guidelines_ that you can find on Canvas -> [Module 'General documents & Information'](https://canvas.utwente.nl/courses/15132/modules#:~:text=General%20documents%20%26%20information-,General,-documents%20%26%20information)\n",
    "  \n",
    "\n",
    "## Content\n",
    "\n",
    "<span style='background:orange'> 4.1) Uncertainty Characterization </span>\n",
    "\n",
    "<span style='background:orange'> 4.XXX) .... </span>\n"
   ]
  },
  {
   "cell_type": "code",
   "execution_count": 39,
   "id": "8fec5955-c255-48a5-80a1-aa0c36c40ce4",
   "metadata": {},
   "outputs": [],
   "source": [
    "# Import scientific packages\n",
    "from IPython.display import display\n",
    "import pandas as pd\n",
    "import numpy as np\n",
    "import scipy as sp\n",
    "from pprint import pprint\n",
    "from tqdm import autonotebook\n",
    "import seaborn as sns\n",
    "import os\n",
    "import matplotlib.pyplot as plt\n",
    "import matplotlib.collections as clt\n",
    "from sklearn import cluster, mixture\n",
    "from sklearn.ensemble import ExtraTreesRegressor\n",
    "from sklearn.ensemble import ExtraTreesClassifier\n",
    "from sklearn.datasets import make_regression\n",
    "from sklearn.metrics import mean_squared_error\n",
    "import math\n",
    "\n",
    "# Import BW25 packages.\n",
    "import bw2analyzer as bwa\n",
    "import bw2calc as bc\n",
    "import bw2data as bd\n",
    "import bw2io as bi\n",
    "import bw_processing as bwp\n",
    "import pandas as pd\n",
    "from bw2data.query import Filter, Query\n"
   ]
  },
  {
   "cell_type": "code",
   "execution_count": 40,
   "id": "b2f28228-7456-467d-bf5f-e053f359088d",
   "metadata": {},
   "outputs": [],
   "source": [
    "#Importing the variables with the project name and background db\n",
    "from project_details import ei_name, project_name"
   ]
  },
  {
   "cell_type": "code",
   "execution_count": 41,
   "id": "88adff1a-75a3-45c7-90bf-2950d7bfc676",
   "metadata": {},
   "outputs": [
    {
     "data": {
      "text/plain": [
       "Databases dictionary with 3 object(s):\n",
       "\tasphalt\n",
       "\tbiosphere3\n",
       "\tecoinvent-391-cutoff"
      ]
     },
     "execution_count": 41,
     "metadata": {},
     "output_type": "execute_result"
    }
   ],
   "source": [
    "# set the selected project as the current project\n",
    "bd.projects.set_current(project_name)\n",
    "bd.databases"
   ]
  },
  {
   "cell_type": "code",
   "execution_count": 42,
   "id": "8de90679-8d3b-45c5-a363-4efbb469a633",
   "metadata": {},
   "outputs": [],
   "source": [
    "# Is the background database name the same as the one we wrote in `project_details.py`?\n",
    "assert ei_name in bd.databases"
   ]
  },
  {
   "cell_type": "markdown",
   "id": "9ed0b01b-a251-4f0f-a27d-ec27e2bcdac8",
   "metadata": {},
   "source": [
    "As already done in the previous notebooks, let's define and assign the name of the foreground database to a variable called \"fg_name\".\n",
    "The name must be equal to the content of the cell B1 in the excel file \"Foreground.xlsx\""
   ]
  },
  {
   "cell_type": "code",
   "execution_count": 43,
   "id": "e71296c4-23af-43ce-8193-60f88d76fc18",
   "metadata": {},
   "outputs": [],
   "source": [
    "fg_name = \"asphalt\""
   ]
  },
  {
   "cell_type": "code",
   "execution_count": 44,
   "id": "a8f90ad2-06de-42cb-94df-d3b0a094450c",
   "metadata": {},
   "outputs": [],
   "source": [
    "fgdb = bd.Database(fg_name)"
   ]
  },
  {
   "cell_type": "markdown",
   "id": "270c6680-91c6-4150-83a6-2354180953d7",
   "metadata": {},
   "source": [
    "## STEP 1: Uncertainty Characterization"
   ]
  },
  {
   "cell_type": "markdown",
   "id": "80138f6f-2e34-49fa-b312-b25602b6621f",
   "metadata": {},
   "source": [
    "In this example, we will be considering the transport distance of materials to the asphalt plant in A2, the transport distance of the asphalt mixture from the asphalt plant to the construction site in A4, and the diesel consumption of the machinery used for construction in A5 as uncertain parameters. The foreground file already provides uncertainty information for each of these parameters (associated with activities exchanges).\n",
    "\n",
    "<span style='background:orange'> **Action needed** Explain how that info was defined. Eventually, this might need to be explained in the uncertainty modelling lecture </span>"
   ]
  },
  {
   "cell_type": "code",
   "execution_count": 45,
   "id": "ff7aadee-29d0-42c9-9a12-976436fb5a59",
   "metadata": {},
   "outputs": [],
   "source": [
    "# List that will store tuples with info about the uncertain parameters (associated with activity exchanges)\n",
    "uncertain_parameters = []"
   ]
  },
  {
   "cell_type": "markdown",
   "id": "1ef77185-3415-40d4-9377-6546749672f7",
   "metadata": {},
   "source": [
    "### Transport distances in A2"
   ]
  },
  {
   "cell_type": "markdown",
   "id": "9ad27fd8-b0c4-4e9b-937d-ae23211c5263",
   "metadata": {},
   "source": [
    "The first step consists of identifying all activities that have 'production and transport' in the name"
   ]
  },
  {
   "cell_type": "code",
   "execution_count": 8,
   "id": "7001ab6e-c17e-4925-8993-dca0ee5bce8c",
   "metadata": {},
   "outputs": [
    {
     "data": {
      "text/plain": [
       "['bitumen, production and transport' (kilogram, NL, None),\n",
       " 'crushed stone, production and transport' (kilogram, NL, None),\n",
       " 'weak filler, production and transport' (kilogram, NL, None),\n",
       " 'other fillers, production and transport' (kilogram, NL, None),\n",
       " 'crushed sand, production and transport' (kilogram, NL, None),\n",
       " 'modified bitumen, production and transport' (kilogram, NL, None),\n",
       " 'natural sand, production and transport' (kilogram, NL, None),\n",
       " 'drip resistant material, production and transport' (kilogram, NL, None)]"
      ]
     },
     "execution_count": 8,
     "metadata": {},
     "output_type": "execute_result"
    }
   ],
   "source": [
    "transport_a2 = fgdb.search(\"production and transport\")\n",
    "transport_a2"
   ]
  },
  {
   "cell_type": "code",
   "execution_count": 50,
   "id": "6f2e675a-01fb-4d3f-9a36-332d6700fc01",
   "metadata": {},
   "outputs": [
    {
     "data": {
      "text/plain": [
       "{'name': 'market for transport, freight, lorry, unspecified',\n",
       " 'reference product': 'transport, freight, lorry, unspecified',\n",
       " 'location': 'RER',\n",
       " 'amount': 0.15,\n",
       " 'unit': 'ton kilometer',\n",
       " 'database': 'ecoinvent-391-cutoff',\n",
       " 'type': 'technosphere',\n",
       " 'categories': ('(unknown)',),\n",
       " 'comments': 'A2_bitumen_t',\n",
       " 'uncertainty_type': 2,\n",
       " 'loc': -1.8971199848858813,\n",
       " 'scale': 0.3474550330618338,\n",
       " 'input': ('ecoinvent-391-cutoff', 'd6655a43e0d3a5f786929ade5064e0fd'),\n",
       " 'output': ('asphalt', 'modified_bitumen')}"
      ]
     },
     "execution_count": 50,
     "metadata": {},
     "output_type": "execute_result"
    }
   ],
   "source": [
    "mod_bitumen = fgdb.search(\"modified bitumen, production and transport\")[0]\n",
    "mod_bitumen_transport = [exchange for exchange in mod_bitumen.exchanges()][2]\n",
    "mod_bitumen_transport.as_dict()\n"
   ]
  },
  {
   "cell_type": "code",
   "execution_count": 51,
   "id": "948d7711-801b-4396-a6fa-d879b8558df8",
   "metadata": {},
   "outputs": [],
   "source": [
    "mod_bitumen_transport['comments'] = 'A2_modbitumen_t'\n",
    "mod_bitumen_transport.save()"
   ]
  },
  {
   "cell_type": "code",
   "execution_count": 52,
   "id": "48b29a70-64b8-4b17-8531-17a8abf62afb",
   "metadata": {},
   "outputs": [
    {
     "data": {
      "text/plain": [
       "{'name': 'market for transport, freight, lorry, unspecified',\n",
       " 'reference product': 'transport, freight, lorry, unspecified',\n",
       " 'location': 'RER',\n",
       " 'amount': 0.15,\n",
       " 'unit': 'ton kilometer',\n",
       " 'database': 'ecoinvent-391-cutoff',\n",
       " 'type': 'technosphere',\n",
       " 'categories': ('(unknown)',),\n",
       " 'comments': 'A2_modbitumen_t',\n",
       " 'uncertainty_type': 2,\n",
       " 'loc': -1.8971199848858813,\n",
       " 'scale': 0.3474550330618338,\n",
       " 'input': ('ecoinvent-391-cutoff', 'd6655a43e0d3a5f786929ade5064e0fd'),\n",
       " 'output': ('asphalt', 'modified_bitumen')}"
      ]
     },
     "execution_count": 52,
     "metadata": {},
     "output_type": "execute_result"
    }
   ],
   "source": [
    "mod_bitumen_transport.as_dict()"
   ]
  },
  {
   "cell_type": "markdown",
   "id": "4cb0f299-da2b-4b12-b29e-c3f8a17e6b68",
   "metadata": {},
   "source": [
    "<span style='background:orange'> **Action needed** The code below needs to be updated to consider the new layout of the foreground db excel file </span>"
   ]
  },
  {
   "cell_type": "markdown",
   "id": "a1f6b04a-e8d8-4a92-ae09-1b57a35c57dd",
   "metadata": {},
   "source": [
    "Next we need to store the information about the uncertain parameters (associated with activitiy exchanges). This is done by running the cell below:"
   ]
  },
  {
   "cell_type": "code",
   "execution_count": 53,
   "id": "37b30e79-7a4c-49ab-a978-d2b4f7a19895",
   "metadata": {},
   "outputs": [
    {
     "data": {
      "text/plain": [
       "[('A2_bitumen_t', 2, -1.3862943611198906, 0.3474550330618338),\n",
       " ('A2_crushedstone_t', 2, -3.6888794541139363, 0.3474550330618338),\n",
       " ('A2_crushedstone_iv', 2, -0.4155154439616658, 0.3474550330618338),\n",
       " ('A2_weakfiller_t', 2, -1.995100393246085, 0.3474550330618338),\n",
       " ('A2_ownmaterial_t', 2, -3.6888794541139363, 0.3474550330618338),\n",
       " ('A2_ownmaterial_iv', 2, -1.8971199848858813, 0.3474550330618338),\n",
       " ('A2_crushedsand_t', 2, -3.6888794541139363, 0.3474550330618338),\n",
       " ('A2_crushedsand_iv', 2, -0.4155154439616658, 0.3474550330618338),\n",
       " ('A2_modbitumen_t', 2, -1.8971199848858813, 0.3474550330618338),\n",
       " ('A2_naturalsand_t', 2, -3.6888794541139363, 0.3474550330618338),\n",
       " ('A2_naturalsand_iv', 2, -1.8971199848858813, 0.3474550330618338),\n",
       " ('A2_dripresistantmaterial_t', 2, -1.731605546408308, 0.3474550330618338)]"
      ]
     },
     "execution_count": 53,
     "metadata": {},
     "output_type": "execute_result"
    }
   ],
   "source": [
    "uncertain_parameters = [] #list that stores the info about the uncertain parameters associated with exchanges\n",
    "\n",
    "for transport in transport_a2:\n",
    "    exchanges = transport.technosphere()\n",
    "    for exchange in exchanges:\n",
    "        exchanges_dict = exchange.as_dict()\n",
    "        if \"comments\" in exchanges_dict:\n",
    "            parameter = exchanges_dict[\"comments\"]\n",
    "            distribution = exchanges_dict[\"uncertainty_type\"]\n",
    "            loc = exchanges_dict[\"loc\"]\n",
    "            scale = exchanges_dict[\"scale\"]\n",
    "            uncertain_parameters.append((parameter, \n",
    "                    distribution, \n",
    "                    loc,\n",
    "                    scale))\n",
    "uncertain_parameters"
   ]
  },
  {
   "cell_type": "markdown",
   "id": "2b7fc273-a400-42c7-895c-a5341e987f63",
   "metadata": {},
   "source": [
    "## Transport distances in A4"
   ]
  },
  {
   "cell_type": "markdown",
   "id": "a340883e-f58e-49fe-ae5b-93a10322c30e",
   "metadata": {},
   "source": [
    "Execute the same procedure but for activities that have 'asphalt, transport to site' in the name"
   ]
  },
  {
   "cell_type": "code",
   "execution_count": 54,
   "id": "32793514-d647-437a-805e-f6ea6e2e453e",
   "metadata": {},
   "outputs": [
    {
     "data": {
      "text/plain": [
       "['asphalt, transport to site' (kilogram, NL, None)]"
      ]
     },
     "execution_count": 54,
     "metadata": {},
     "output_type": "execute_result"
    }
   ],
   "source": [
    "transport_a4 = fgdb.search(\"asphalt, transport to site\")\n",
    "transport_a4"
   ]
  },
  {
   "cell_type": "code",
   "execution_count": 55,
   "id": "02720137-a664-4c0c-b327-0c8dc89d7a21",
   "metadata": {},
   "outputs": [
    {
     "data": {
      "text/plain": [
       "[('A2_bitumen_t', 2, -1.3862943611198906, 0.3474550330618338),\n",
       " ('A2_crushedstone_t', 2, -3.6888794541139363, 0.3474550330618338),\n",
       " ('A2_crushedstone_iv', 2, -0.4155154439616658, 0.3474550330618338),\n",
       " ('A2_weakfiller_t', 2, -1.995100393246085, 0.3474550330618338),\n",
       " ('A2_ownmaterial_t', 2, -3.6888794541139363, 0.3474550330618338),\n",
       " ('A2_ownmaterial_iv', 2, -1.8971199848858813, 0.3474550330618338),\n",
       " ('A2_crushedsand_t', 2, -3.6888794541139363, 0.3474550330618338),\n",
       " ('A2_crushedsand_iv', 2, -0.4155154439616658, 0.3474550330618338),\n",
       " ('A2_modbitumen_t', 2, -1.8971199848858813, 0.3474550330618338),\n",
       " ('A2_naturalsand_t', 2, -3.6888794541139363, 0.3474550330618338),\n",
       " ('A2_naturalsand_iv', 2, -1.8971199848858813, 0.3474550330618338),\n",
       " ('A2_dripresistantmaterial_t', 2, -1.731605546408308, 0.3474550330618338),\n",
       " ('A4_distance_EURO5', 2, -3.402197881995739, 0.3474550330618338),\n",
       " ('A4_distance_EURO6', 2, -4.500810170663849, 0.3474550330618338)]"
      ]
     },
     "execution_count": 55,
     "metadata": {},
     "output_type": "execute_result"
    }
   ],
   "source": [
    "for transport in transport_a4:\n",
    "    exchanges = transport.technosphere()\n",
    "    for exchange in exchanges:\n",
    "        exchanges_dict = exchange.as_dict()\n",
    "        if \"comments\" in exchanges_dict:\n",
    "            parameter = exchanges_dict[\"comments\"]\n",
    "            distribution = exchanges_dict[\"uncertainty_type\"]\n",
    "            loc = exchanges_dict[\"loc\"]\n",
    "            scale = exchanges_dict[\"scale\"]\n",
    "            uncertain_parameters.append((parameter, \n",
    "                    distribution, \n",
    "                    loc,\n",
    "                    scale))\n",
    "uncertain_parameters"
   ]
  },
  {
   "cell_type": "markdown",
   "id": "ba44968c-968e-48be-bc77-40ea36e677e1",
   "metadata": {},
   "source": [
    "## Diesel consumption in A5"
   ]
  },
  {
   "cell_type": "markdown",
   "id": "4703bd43-980a-4685-9444-805285e389ce",
   "metadata": {},
   "source": [
    "Once again, similar procedure but for activities that have 'asphalt, construction' in the name"
   ]
  },
  {
   "cell_type": "code",
   "execution_count": 56,
   "id": "3afdb6b3-ab0a-496a-919e-2afd9e4708bb",
   "metadata": {},
   "outputs": [
    {
     "data": {
      "text/plain": [
       "['asphalt, construction' (kilogram, NL, None)]"
      ]
     },
     "execution_count": 56,
     "metadata": {},
     "output_type": "execute_result"
    }
   ],
   "source": [
    "construction_a5 = fgdb.search(\"asphalt, construction\")\n",
    "construction_a5"
   ]
  },
  {
   "cell_type": "code",
   "execution_count": 57,
   "id": "a5848eba-0361-4f4e-b25a-caf0f22a9ce6",
   "metadata": {},
   "outputs": [
    {
     "data": {
      "text/plain": [
       "[('A2_bitumen_t', 2, -1.3862943611198906, 0.3474550330618338),\n",
       " ('A2_crushedstone_t', 2, -3.6888794541139363, 0.3474550330618338),\n",
       " ('A2_crushedstone_iv', 2, -0.4155154439616658, 0.3474550330618338),\n",
       " ('A2_weakfiller_t', 2, -1.995100393246085, 0.3474550330618338),\n",
       " ('A2_ownmaterial_t', 2, -3.6888794541139363, 0.3474550330618338),\n",
       " ('A2_ownmaterial_iv', 2, -1.8971199848858813, 0.3474550330618338),\n",
       " ('A2_crushedsand_t', 2, -3.6888794541139363, 0.3474550330618338),\n",
       " ('A2_crushedsand_iv', 2, -0.4155154439616658, 0.3474550330618338),\n",
       " ('A2_modbitumen_t', 2, -1.8971199848858813, 0.3474550330618338),\n",
       " ('A2_naturalsand_t', 2, -3.6888794541139363, 0.3474550330618338),\n",
       " ('A2_naturalsand_iv', 2, -1.8971199848858813, 0.3474550330618338),\n",
       " ('A2_dripresistantmaterial_t', 2, -1.731605546408308, 0.3474550330618338),\n",
       " ('A4_distance_EURO5', 2, -3.402197881995739, 0.3474550330618338),\n",
       " ('A4_distance_EURO6', 2, -4.500810170663849, 0.3474550330618338),\n",
       " ('A5_construction', 2, -4.468892567695543, 0.03741657386773941)]"
      ]
     },
     "execution_count": 57,
     "metadata": {},
     "output_type": "execute_result"
    }
   ],
   "source": [
    "for consumption in construction_a5:\n",
    "    exchanges = consumption.technosphere()\n",
    "    for exchange in exchanges:\n",
    "        exchanges_dict = exchange.as_dict()\n",
    "        if \"comments\" in exchanges_dict:\n",
    "            parameter = exchanges_dict[\"comments\"]\n",
    "            distribution = exchanges_dict[\"uncertainty_type\"]\n",
    "            loc = exchanges_dict[\"loc\"]\n",
    "            scale = exchanges_dict[\"scale\"]\n",
    "            uncertain_parameters.append((parameter, \n",
    "                    distribution, \n",
    "                    loc,\n",
    "                    scale))\n",
    "uncertain_parameters"
   ]
  },
  {
   "cell_type": "markdown",
   "id": "2f4d6505-5438-4582-b421-fffb81893918",
   "metadata": {},
   "source": [
    "## STEP 2: Sample generation\n",
    "\n",
    "Now that we have retrieved the uncertain parameters information, we can proceed to generate our samples."
   ]
  },
  {
   "cell_type": "markdown",
   "id": "2f7aa472-188c-4268-8c19-dccbbbe9b1c7",
   "metadata": {},
   "source": [
    "First, we define a Latin hypercube sampling (LHS) function:"
   ]
  },
  {
   "cell_type": "code",
   "execution_count": 58,
   "id": "ef2c6b6a-4fce-4ca7-b386-b18f93456530",
   "metadata": {},
   "outputs": [],
   "source": [
    "def LHS_generator(inputs, sample_size, seed=None):\n",
    "    # Determine the number of parameters based on the length of inputs\n",
    "    num_parameters = len(inputs)\n",
    "\n",
    "    # Assign random seed (if specified) for reproducibility\n",
    "    if seed:\n",
    "        np.random.seed(seed)\n",
    "\n",
    "    # Initialize an empty array to hold the results\n",
    "    result = np.empty([sample_size, num_parameters])\n",
    "    \n",
    "    # Calculate the interval width for the uniform distribution\n",
    "    d = 1.0 / sample_size\n",
    "    \n",
    "    # Generate samples using uniform distribution within specified ranges\n",
    "    temp = np.array(\n",
    "        [\n",
    "            np.random.uniform(low=sample * d, high=(sample + 1) * d, size=num_parameters)\n",
    "            for sample in range(sample_size)\n",
    "        ]\n",
    "    )\n",
    "\n",
    "    # Process each parameter to perform Latin Hypercube Sampling for log-normal distribution\n",
    "    for parameter in range(num_parameters):\n",
    "        # Shuffle the samples to ensure randomness\n",
    "        np.random.shuffle(temp[:, parameter])\n",
    "        \n",
    "        # Apply the inverse cumulative distribution function (ppf) of the normal distribution\n",
    "        # then exponentiate to transform to a log-normal distribution\n",
    "        temp[:, parameter] = np.exp(sp.stats.norm.ppf(temp[:, parameter], loc=inputs[parameter][2], scale=inputs[parameter][3]))\n",
    "        \n",
    "        # Fill the result array with processed samples\n",
    "        for sample in range(sample_size):\n",
    "            result[sample, parameter] = temp[sample, parameter]\n",
    "\n",
    "    # Convert result to a DataFrame with column names from the first column of inputs\n",
    "    column_names = [inputs[i][0] for i in range(num_parameters)]\n",
    "    result_df = pd.DataFrame(result, columns=column_names)\n",
    "\n",
    "    return result_df"
   ]
  },
  {
   "cell_type": "markdown",
   "id": "ad1b6ee1-0dc2-4015-ac0f-2abf027a604f",
   "metadata": {},
   "source": [
    "Once defined the LHS function, we can run it for the  parameters for which we gathered and stored the information about their uncertaintyv(stored in the list 'uncertain_parameters'). We will consider a sample size equal to 100."
   ]
  },
  {
   "cell_type": "code",
   "execution_count": 59,
   "id": "6ecccc87-2f3d-43fb-a79a-ced9a78b6465",
   "metadata": {},
   "outputs": [],
   "source": [
    "# Run the LHS function for the parameters defined above and a sample size equal to 100:\n",
    "sample_size = 100\n",
    "samples = LHS_generator(uncertain_parameters,sample_size)"
   ]
  },
  {
   "cell_type": "code",
   "execution_count": 60,
   "id": "01e47131-ba40-46b6-8537-12d6fae5eefb",
   "metadata": {},
   "outputs": [
    {
     "data": {
      "text/html": [
       "<div>\n",
       "<style scoped>\n",
       "    .dataframe tbody tr th:only-of-type {\n",
       "        vertical-align: middle;\n",
       "    }\n",
       "\n",
       "    .dataframe tbody tr th {\n",
       "        vertical-align: top;\n",
       "    }\n",
       "\n",
       "    .dataframe thead th {\n",
       "        text-align: right;\n",
       "    }\n",
       "</style>\n",
       "<table border=\"1\" class=\"dataframe\">\n",
       "  <thead>\n",
       "    <tr style=\"text-align: right;\">\n",
       "      <th></th>\n",
       "      <th>A2_bitumen_t</th>\n",
       "      <th>A2_crushedstone_t</th>\n",
       "      <th>A2_crushedstone_iv</th>\n",
       "      <th>A2_weakfiller_t</th>\n",
       "      <th>A2_ownmaterial_t</th>\n",
       "      <th>A2_ownmaterial_iv</th>\n",
       "      <th>A2_crushedsand_t</th>\n",
       "      <th>A2_crushedsand_iv</th>\n",
       "      <th>A2_modbitumen_t</th>\n",
       "      <th>A2_naturalsand_t</th>\n",
       "      <th>A2_naturalsand_iv</th>\n",
       "      <th>A2_dripresistantmaterial_t</th>\n",
       "      <th>A4_distance_EURO5</th>\n",
       "      <th>A4_distance_EURO6</th>\n",
       "      <th>A5_construction</th>\n",
       "    </tr>\n",
       "  </thead>\n",
       "  <tbody>\n",
       "    <tr>\n",
       "      <th>0</th>\n",
       "      <td>0.345197</td>\n",
       "      <td>0.018598</td>\n",
       "      <td>0.932974</td>\n",
       "      <td>0.225205</td>\n",
       "      <td>0.017340</td>\n",
       "      <td>0.121062</td>\n",
       "      <td>0.024220</td>\n",
       "      <td>0.697430</td>\n",
       "      <td>0.075682</td>\n",
       "      <td>0.034691</td>\n",
       "      <td>0.116661</td>\n",
       "      <td>0.123518</td>\n",
       "      <td>0.034711</td>\n",
       "      <td>0.012029</td>\n",
       "      <td>0.011437</td>\n",
       "    </tr>\n",
       "    <tr>\n",
       "      <th>1</th>\n",
       "      <td>0.412520</td>\n",
       "      <td>0.058044</td>\n",
       "      <td>1.050223</td>\n",
       "      <td>0.139340</td>\n",
       "      <td>0.042598</td>\n",
       "      <td>0.114230</td>\n",
       "      <td>0.022897</td>\n",
       "      <td>0.563145</td>\n",
       "      <td>0.101909</td>\n",
       "      <td>0.017984</td>\n",
       "      <td>0.144656</td>\n",
       "      <td>0.157453</td>\n",
       "      <td>0.035044</td>\n",
       "      <td>0.007766</td>\n",
       "      <td>0.012154</td>\n",
       "    </tr>\n",
       "    <tr>\n",
       "      <th>2</th>\n",
       "      <td>0.324460</td>\n",
       "      <td>0.019183</td>\n",
       "      <td>0.554502</td>\n",
       "      <td>0.206759</td>\n",
       "      <td>0.021963</td>\n",
       "      <td>0.144891</td>\n",
       "      <td>0.026066</td>\n",
       "      <td>1.428096</td>\n",
       "      <td>0.124668</td>\n",
       "      <td>0.014103</td>\n",
       "      <td>0.103640</td>\n",
       "      <td>0.261094</td>\n",
       "      <td>0.034232</td>\n",
       "      <td>0.013622</td>\n",
       "      <td>0.012023</td>\n",
       "    </tr>\n",
       "    <tr>\n",
       "      <th>3</th>\n",
       "      <td>0.228943</td>\n",
       "      <td>0.014099</td>\n",
       "      <td>0.674902</td>\n",
       "      <td>0.146571</td>\n",
       "      <td>0.034140</td>\n",
       "      <td>0.114814</td>\n",
       "      <td>0.020098</td>\n",
       "      <td>0.580355</td>\n",
       "      <td>0.106288</td>\n",
       "      <td>0.033480</td>\n",
       "      <td>0.157312</td>\n",
       "      <td>0.296563</td>\n",
       "      <td>0.027237</td>\n",
       "      <td>0.010645</td>\n",
       "      <td>0.011502</td>\n",
       "    </tr>\n",
       "    <tr>\n",
       "      <th>4</th>\n",
       "      <td>0.348287</td>\n",
       "      <td>0.031939</td>\n",
       "      <td>0.830833</td>\n",
       "      <td>0.157145</td>\n",
       "      <td>0.020705</td>\n",
       "      <td>0.164555</td>\n",
       "      <td>0.026585</td>\n",
       "      <td>0.418019</td>\n",
       "      <td>0.173828</td>\n",
       "      <td>0.027805</td>\n",
       "      <td>0.114762</td>\n",
       "      <td>0.121717</td>\n",
       "      <td>0.046084</td>\n",
       "      <td>0.012689</td>\n",
       "      <td>0.010986</td>\n",
       "    </tr>\n",
       "    <tr>\n",
       "      <th>...</th>\n",
       "      <td>...</td>\n",
       "      <td>...</td>\n",
       "      <td>...</td>\n",
       "      <td>...</td>\n",
       "      <td>...</td>\n",
       "      <td>...</td>\n",
       "      <td>...</td>\n",
       "      <td>...</td>\n",
       "      <td>...</td>\n",
       "      <td>...</td>\n",
       "      <td>...</td>\n",
       "      <td>...</td>\n",
       "      <td>...</td>\n",
       "      <td>...</td>\n",
       "      <td>...</td>\n",
       "    </tr>\n",
       "    <tr>\n",
       "      <th>95</th>\n",
       "      <td>0.177531</td>\n",
       "      <td>0.040475</td>\n",
       "      <td>0.567325</td>\n",
       "      <td>0.169735</td>\n",
       "      <td>0.038428</td>\n",
       "      <td>0.089659</td>\n",
       "      <td>0.046325</td>\n",
       "      <td>0.323240</td>\n",
       "      <td>0.191387</td>\n",
       "      <td>0.043845</td>\n",
       "      <td>0.202431</td>\n",
       "      <td>0.073826</td>\n",
       "      <td>0.033235</td>\n",
       "      <td>0.014174</td>\n",
       "      <td>0.011007</td>\n",
       "    </tr>\n",
       "    <tr>\n",
       "      <th>96</th>\n",
       "      <td>0.261676</td>\n",
       "      <td>0.025851</td>\n",
       "      <td>0.955480</td>\n",
       "      <td>0.134715</td>\n",
       "      <td>0.032996</td>\n",
       "      <td>0.070209</td>\n",
       "      <td>0.039181</td>\n",
       "      <td>0.611339</td>\n",
       "      <td>0.184160</td>\n",
       "      <td>0.018389</td>\n",
       "      <td>0.199578</td>\n",
       "      <td>0.129984</td>\n",
       "      <td>0.033889</td>\n",
       "      <td>0.010282</td>\n",
       "      <td>0.011377</td>\n",
       "    </tr>\n",
       "    <tr>\n",
       "      <th>97</th>\n",
       "      <td>0.304329</td>\n",
       "      <td>0.037727</td>\n",
       "      <td>0.663715</td>\n",
       "      <td>0.128387</td>\n",
       "      <td>0.032683</td>\n",
       "      <td>0.116174</td>\n",
       "      <td>0.021858</td>\n",
       "      <td>0.568479</td>\n",
       "      <td>0.081542</td>\n",
       "      <td>0.023983</td>\n",
       "      <td>0.228021</td>\n",
       "      <td>0.206853</td>\n",
       "      <td>0.041251</td>\n",
       "      <td>0.012441</td>\n",
       "      <td>0.010958</td>\n",
       "    </tr>\n",
       "    <tr>\n",
       "      <th>98</th>\n",
       "      <td>0.342350</td>\n",
       "      <td>0.036060</td>\n",
       "      <td>0.402584</td>\n",
       "      <td>0.118733</td>\n",
       "      <td>0.022694</td>\n",
       "      <td>0.193799</td>\n",
       "      <td>0.026388</td>\n",
       "      <td>0.652150</td>\n",
       "      <td>0.068266</td>\n",
       "      <td>0.025946</td>\n",
       "      <td>0.186489</td>\n",
       "      <td>0.269768</td>\n",
       "      <td>0.040959</td>\n",
       "      <td>0.003870</td>\n",
       "      <td>0.011701</td>\n",
       "    </tr>\n",
       "    <tr>\n",
       "      <th>99</th>\n",
       "      <td>0.123178</td>\n",
       "      <td>0.020822</td>\n",
       "      <td>0.745957</td>\n",
       "      <td>0.173883</td>\n",
       "      <td>0.028010</td>\n",
       "      <td>0.162709</td>\n",
       "      <td>0.021330</td>\n",
       "      <td>0.672723</td>\n",
       "      <td>0.176777</td>\n",
       "      <td>0.015582</td>\n",
       "      <td>0.118292</td>\n",
       "      <td>0.221735</td>\n",
       "      <td>0.031850</td>\n",
       "      <td>0.013844</td>\n",
       "      <td>0.010621</td>\n",
       "    </tr>\n",
       "  </tbody>\n",
       "</table>\n",
       "<p>100 rows × 15 columns</p>\n",
       "</div>"
      ],
      "text/plain": [
       "    A2_bitumen_t  A2_crushedstone_t  A2_crushedstone_iv  A2_weakfiller_t  \\\n",
       "0       0.345197           0.018598            0.932974         0.225205   \n",
       "1       0.412520           0.058044            1.050223         0.139340   \n",
       "2       0.324460           0.019183            0.554502         0.206759   \n",
       "3       0.228943           0.014099            0.674902         0.146571   \n",
       "4       0.348287           0.031939            0.830833         0.157145   \n",
       "..           ...                ...                 ...              ...   \n",
       "95      0.177531           0.040475            0.567325         0.169735   \n",
       "96      0.261676           0.025851            0.955480         0.134715   \n",
       "97      0.304329           0.037727            0.663715         0.128387   \n",
       "98      0.342350           0.036060            0.402584         0.118733   \n",
       "99      0.123178           0.020822            0.745957         0.173883   \n",
       "\n",
       "    A2_ownmaterial_t  A2_ownmaterial_iv  A2_crushedsand_t  A2_crushedsand_iv  \\\n",
       "0           0.017340           0.121062          0.024220           0.697430   \n",
       "1           0.042598           0.114230          0.022897           0.563145   \n",
       "2           0.021963           0.144891          0.026066           1.428096   \n",
       "3           0.034140           0.114814          0.020098           0.580355   \n",
       "4           0.020705           0.164555          0.026585           0.418019   \n",
       "..               ...                ...               ...                ...   \n",
       "95          0.038428           0.089659          0.046325           0.323240   \n",
       "96          0.032996           0.070209          0.039181           0.611339   \n",
       "97          0.032683           0.116174          0.021858           0.568479   \n",
       "98          0.022694           0.193799          0.026388           0.652150   \n",
       "99          0.028010           0.162709          0.021330           0.672723   \n",
       "\n",
       "    A2_modbitumen_t  A2_naturalsand_t  A2_naturalsand_iv  \\\n",
       "0          0.075682          0.034691           0.116661   \n",
       "1          0.101909          0.017984           0.144656   \n",
       "2          0.124668          0.014103           0.103640   \n",
       "3          0.106288          0.033480           0.157312   \n",
       "4          0.173828          0.027805           0.114762   \n",
       "..              ...               ...                ...   \n",
       "95         0.191387          0.043845           0.202431   \n",
       "96         0.184160          0.018389           0.199578   \n",
       "97         0.081542          0.023983           0.228021   \n",
       "98         0.068266          0.025946           0.186489   \n",
       "99         0.176777          0.015582           0.118292   \n",
       "\n",
       "    A2_dripresistantmaterial_t  A4_distance_EURO5  A4_distance_EURO6  \\\n",
       "0                     0.123518           0.034711           0.012029   \n",
       "1                     0.157453           0.035044           0.007766   \n",
       "2                     0.261094           0.034232           0.013622   \n",
       "3                     0.296563           0.027237           0.010645   \n",
       "4                     0.121717           0.046084           0.012689   \n",
       "..                         ...                ...                ...   \n",
       "95                    0.073826           0.033235           0.014174   \n",
       "96                    0.129984           0.033889           0.010282   \n",
       "97                    0.206853           0.041251           0.012441   \n",
       "98                    0.269768           0.040959           0.003870   \n",
       "99                    0.221735           0.031850           0.013844   \n",
       "\n",
       "    A5_construction  \n",
       "0          0.011437  \n",
       "1          0.012154  \n",
       "2          0.012023  \n",
       "3          0.011502  \n",
       "4          0.010986  \n",
       "..              ...  \n",
       "95         0.011007  \n",
       "96         0.011377  \n",
       "97         0.010958  \n",
       "98         0.011701  \n",
       "99         0.010621  \n",
       "\n",
       "[100 rows x 15 columns]"
      ]
     },
     "execution_count": 60,
     "metadata": {},
     "output_type": "execute_result"
    }
   ],
   "source": [
    "samples"
   ]
  },
  {
   "cell_type": "markdown",
   "id": "27ad8298-b59f-44aa-bea0-e323f5bfcc8b",
   "metadata": {},
   "source": [
    "## Link samples to exchanges\n",
    "\n",
    "Once obtained the samples, we need to link them to the respective exchange. To do so, we need the two functions below:"
   ]
  },
  {
   "cell_type": "code",
   "execution_count": 61,
   "id": "f56e47ae-032b-437a-882b-33edbeb46efe",
   "metadata": {},
   "outputs": [],
   "source": [
    "def exchange_coords(exchange):\n",
    "    \"\"\"create a tuple with the numerical ids of the input and output activites of an exchange.\"\"\"\n",
    "    input_activity = bd.get_activity(exchange[\"input\"])\n",
    "    output_activity = bd.get_activity(exchange[\"output\"])\n",
    "    return (input_activity.id, output_activity.id)"
   ]
  },
  {
   "cell_type": "markdown",
   "id": "33ce0f88-992f-4f1b-8e23-4fdba78096b8",
   "metadata": {},
   "source": [
    "<span style='background:orange'> **Action needed** The code below needs to be updated to consider the new layout of the foreground db excel file </span>"
   ]
  },
  {
   "cell_type": "code",
   "execution_count": 62,
   "id": "9c2a3318-d955-47d9-9db0-08eef4285f3c",
   "metadata": {},
   "outputs": [],
   "source": [
    "def build_coords_sample(activities, samples_df):\n",
    "    \"\"\"Build the coords + sample dictionnary for all concerned activities.\"\"\"\n",
    "    \n",
    "    coords_samples_map = {}\n",
    "\n",
    "    counter = 0\n",
    "\n",
    "    for activity in activities:\n",
    "        exchanges = activity.technosphere()\n",
    "        for exchange in exchanges:\n",
    "            exchanges_dict = exchange.as_dict()\n",
    "            if \"comments\" in exchanges_dict:\n",
    "                col_name = exchanges_dict[\"comments\"]\n",
    "                coords = exchange_coords(exchange)\n",
    "                counter += 1\n",
    "                print(f\"{counter}. {exchange}\\n\\t 👉 {coords} to {col_name}\")\n",
    "                coords_samples_map[exchange_coords(exchange)] = samples_df[\n",
    "                    col_name\n",
    "                ].values  # numpy.ndarray\n",
    "    return coords_samples_map\n"
   ]
  },
  {
   "cell_type": "code",
   "execution_count": 63,
   "id": "d9729b1f-1286-401a-871b-436c9923dd8d",
   "metadata": {},
   "outputs": [
    {
     "data": {
      "text/plain": [
       "['bitumen, production and transport' (kilogram, NL, None),\n",
       " 'crushed stone, production and transport' (kilogram, NL, None),\n",
       " 'weak filler, production and transport' (kilogram, NL, None),\n",
       " 'other fillers, production and transport' (kilogram, NL, None),\n",
       " 'crushed sand, production and transport' (kilogram, NL, None),\n",
       " 'modified bitumen, production and transport' (kilogram, NL, None),\n",
       " 'natural sand, production and transport' (kilogram, NL, None),\n",
       " 'drip resistant material, production and transport' (kilogram, NL, None),\n",
       " 'asphalt, transport to site' (kilogram, NL, None),\n",
       " 'asphalt, construction' (kilogram, NL, None)]"
      ]
     },
     "execution_count": 63,
     "metadata": {},
     "output_type": "execute_result"
    }
   ],
   "source": [
    "# Group activity variables\n",
    "activities = transport_a2 + transport_a4 + construction_a5\n",
    "activities"
   ]
  },
  {
   "cell_type": "markdown",
   "id": "5d2f3a19-b856-47d6-95f8-98e50efc0d08",
   "metadata": {},
   "source": [
    "We can now run the function above using as argument the activities that contain the parameters for which we consider the uncertainties and the samples generated with LHS:"
   ]
  },
  {
   "cell_type": "code",
   "execution_count": 64,
   "id": "fa841442-9c43-4b73-9c56-496cea76a518",
   "metadata": {},
   "outputs": [
    {
     "name": "stdout",
     "output_type": "stream",
     "text": [
      "1. Exchange: 0.25 ton kilometer 'market for transport, freight, lorry, unspecified' (ton kilometer, RER, None) to 'bitumen, production and transport' (kilogram, NL, None)>\n",
      "\t 👉 (18370, 25951) to A2_bitumen_t\n",
      "2. Exchange: 0.025 ton kilometer 'market for transport, freight, lorry, unspecified' (ton kilometer, RER, None) to 'crushed stone, production and transport' (kilogram, NL, None)>\n",
      "\t 👉 (18370, 25953) to A2_crushedstone_t\n",
      "3. Exchange: 0.66 ton kilometer 'market for transport, freight, inland waterways, barge' (ton kilometer, RER, None) to 'crushed stone, production and transport' (kilogram, NL, None)>\n",
      "\t 👉 (9408, 25953) to A2_crushedstone_iv\n",
      "4. Exchange: 0.136 ton kilometer 'market for transport, freight, lorry, unspecified' (ton kilometer, RER, None) to 'weak filler, production and transport' (kilogram, NL, None)>\n",
      "\t 👉 (18370, 25957) to A2_weakfiller_t\n",
      "5. Exchange: 0.025 ton kilometer 'market for transport, freight, lorry, unspecified' (ton kilometer, RER, None) to 'other fillers, production and transport' (kilogram, NL, None)>\n",
      "\t 👉 (18370, 25955) to A2_ownmaterial_t\n",
      "6. Exchange: 0.15 ton kilometer 'market for transport, freight, inland waterways, barge' (ton kilometer, RER, None) to 'other fillers, production and transport' (kilogram, NL, None)>\n",
      "\t 👉 (9408, 25955) to A2_ownmaterial_iv\n",
      "7. Exchange: 0.025 ton kilometer 'market for transport, freight, lorry, unspecified' (ton kilometer, RER, None) to 'crushed sand, production and transport' (kilogram, NL, None)>\n",
      "\t 👉 (18370, 25954) to A2_crushedsand_t\n",
      "8. Exchange: 0.66 ton kilometer 'market for transport, freight, inland waterways, barge' (ton kilometer, RER, None) to 'crushed sand, production and transport' (kilogram, NL, None)>\n",
      "\t 👉 (9408, 25954) to A2_crushedsand_iv\n",
      "9. Exchange: 0.15 ton kilometer 'market for transport, freight, lorry, unspecified' (ton kilometer, RER, None) to 'modified bitumen, production and transport' (kilogram, NL, None)>\n",
      "\t 👉 (18370, 25952) to A2_modbitumen_t\n",
      "10. Exchange: 0.025 ton kilometer 'market for transport, freight, lorry, unspecified' (ton kilometer, RER, None) to 'natural sand, production and transport' (kilogram, NL, None)>\n",
      "\t 👉 (18370, 25956) to A2_naturalsand_t\n",
      "11. Exchange: 0.15 ton kilometer 'market for transport, freight, inland waterways, barge' (ton kilometer, RER, None) to 'natural sand, production and transport' (kilogram, NL, None)>\n",
      "\t 👉 (9408, 25956) to A2_naturalsand_iv\n",
      "12. Exchange: 0.177 ton kilometer 'market for transport, freight, lorry, unspecified' (ton kilometer, RER, None) to 'drip resistant material, production and transport' (kilogram, NL, None)>\n",
      "\t 👉 (18370, 25958) to A2_dripresistantmaterial_t\n",
      "13. Exchange: 0.033299999999999996 ton kilometer 'transport, freight, lorry >32 metric ton, EURO5' (ton kilometer, RER, None) to 'asphalt, transport to site' (kilogram, NL, None)>\n",
      "\t 👉 (16115, 25969) to A4_distance_EURO5\n",
      "14. Exchange: 0.0111 ton kilometer 'transport, freight, lorry >32 metric ton, EURO6' (ton kilometer, RER, None) to 'asphalt, transport to site' (kilogram, NL, None)>\n",
      "\t 👉 (8986, 25969) to A4_distance_EURO6\n",
      "15. Exchange: 0.011460000000000001 megajoule 'diesel, burned in building machine' (megajoule, GLO, None) to 'asphalt, construction' (kilogram, NL, None)>\n",
      "\t 👉 (18987, 25970) to A5_construction\n"
     ]
    }
   ],
   "source": [
    "coords_samples_map = build_coords_sample(activities, samples)"
   ]
  },
  {
   "cell_type": "code",
   "execution_count": 66,
   "id": "24a9039f-4d3d-417b-9cdd-200a34af30fc",
   "metadata": {
    "scrolled": true
   },
   "outputs": [
    {
     "name": "stdout",
     "output_type": "stream",
     "text": [
      "1. (18370, 25951) --array-> [0.34519671 0.41251969 0.3244602  0.22894302 0.34828666 0.26644974\n",
      " 0.19185105 0.21525613 0.28964841 0.18278128 0.20779156 0.53247906\n",
      " 0.21848374 0.38536891 0.28672637 0.24302486 0.31129293 0.28376619\n",
      " 0.19603243 0.2131538  0.17980592 0.4403986  0.21187368 0.14189768\n",
      " 0.13779732 0.32901867 0.29422851 0.19924177 0.27799173 0.22612033\n",
      " 0.46971967 0.42523167 0.2517369  0.36264557 0.23586432 0.20160209\n",
      " 0.25707153 0.18695612 0.48182157 0.35617421 0.25597319 0.13441276\n",
      " 0.36629524 0.19519213 0.44356663 0.24361006 0.40599622 0.07899736\n",
      " 0.2537234  0.23167764 0.30909054 0.22378556 0.27103418 0.1671811\n",
      " 0.23914598 0.14979151 0.56641416 0.31833079 0.38280724 0.30257774\n",
      " 0.24868685 0.25913358 0.22075698 0.20233151 0.12156436 0.16267222\n",
      " 0.2938429  0.33904808 0.17216431 0.17125664 0.14582257 0.16577695\n",
      " 0.31592948 0.18608854 0.39294906 0.27348712 0.27889512 0.26486899\n",
      " 0.32244925 0.1544173  0.33382628 0.19106038 0.24573586 0.2812119\n",
      " 0.23456682 0.22826102 0.17461169 0.36979036 0.15934829 0.20958802\n",
      " 0.2700123  0.20488138 0.29995819 0.21984812 0.23957856 0.17753081\n",
      " 0.26167639 0.30432939 0.34234963 0.12317763]\n",
      "2. (18370, 25953) --array-> [0.01859847 0.05804445 0.01918314 0.01409929 0.03193924 0.01809056\n",
      " 0.01951353 0.03665206 0.0215092  0.01321305 0.03054852 0.02121048\n",
      " 0.023263   0.03017822 0.05596756 0.03216191 0.02732861 0.02702492\n",
      " 0.01101416 0.03708598 0.03414554 0.04148831 0.02479917 0.02358206\n",
      " 0.02625683 0.02403007 0.02771028 0.01481694 0.02940583 0.02959511\n",
      " 0.02194483 0.03527776 0.0253264  0.03547121 0.02638453 0.02841506\n",
      " 0.01962437 0.01662053 0.03921522 0.04330554 0.03379852 0.03878525\n",
      " 0.01643443 0.02669062 0.02901253 0.02049546 0.01618779 0.01886236\n",
      " 0.0225227  0.02142783 0.02175859 0.02092646 0.03113244 0.01169024\n",
      " 0.02548742 0.02212213 0.02285354 0.02722152 0.025034   0.0223627\n",
      " 0.01570928 0.01828355 0.04689458 0.01787927 0.02808366 0.04562022\n",
      " 0.02463782 0.02867238 0.0229604  0.01753748 0.01734432 0.03314153\n",
      " 0.02383653 0.04178821 0.01908601 0.01549594 0.02789686 0.03299195\n",
      " 0.02607908 0.02019745 0.01989866 0.02429676 0.02332938 0.03240985\n",
      " 0.01713788 0.0123976  0.02445231 0.02990041 0.03087185 0.01498863\n",
      " 0.03126568 0.01455222 0.02022995 0.05079327 0.03436963 0.04047499\n",
      " 0.02585123 0.03772687 0.03605957 0.02082212]\n",
      "3. (9408, 25953) --array-> [0.93297373 1.05022317 0.55450202 0.67490234 0.83083261 0.79136417\n",
      " 0.71085869 0.55711675 0.35276488 0.52097289 0.75043968 0.81036613\n",
      " 0.96147088 1.55899143 0.62545112 1.19956162 0.52826156 0.57616026\n",
      " 0.84508667 0.88125324 0.80720075 0.59276737 0.89933228 0.5096052\n",
      " 0.42990199 1.32327304 0.46008345 0.53561369 0.65394742 0.73885953\n",
      " 0.48527629 0.59526479 1.08818415 0.89539851 0.4088393  1.37370846\n",
      " 0.46948978 0.69836378 0.43688793 0.63411572 0.73331649 0.9085183\n",
      " 0.42049239 0.83570722 0.72001026 0.58444772 0.60336702 0.28421758\n",
      " 1.06057089 0.39171046 0.46298067 0.66676502 0.45199362 0.31178091\n",
      " 0.99366587 0.63751316 0.4928424  0.87326815 0.7059615  0.98122691\n",
      " 0.64584958 0.37793665 0.61670312 1.14977251 0.3325807  0.9258823\n",
      " 0.60999691 0.52262253 0.77804935 0.60836848 0.48819375 0.50214942\n",
      " 1.23704101 0.69359916 0.75930627 0.36451314 1.01669393 0.85546334\n",
      " 0.68700372 0.47748341 0.56349362 0.65933517 0.79811506 0.62841725\n",
      " 0.54759391 0.58006989 0.54103753 0.51106657 1.10756273 0.68055002\n",
      " 0.72135494 0.82172997 0.76716642 0.77271886 0.43922389 0.5673254\n",
      " 0.95548022 0.66371491 0.40258361 0.74595732]\n",
      "4. (18370, 25957) --array-> [0.22520541 0.13933964 0.20675947 0.14657135 0.15714526 0.1733134\n",
      " 0.29996611 0.16177408 0.12596381 0.15871612 0.16461005 0.12448984\n",
      " 0.09684943 0.11307607 0.18626941 0.11707508 0.14077274 0.11959767\n",
      " 0.09925117 0.08477208 0.09446961 0.08858487 0.19562643 0.07481275\n",
      " 0.11180145 0.09166099 0.0692229  0.10429368 0.08156941 0.10253678\n",
      " 0.08941224 0.13589886 0.16041124 0.14213051 0.13694901 0.11443379\n",
      " 0.18774826 0.15092333 0.12698963 0.21686837 0.19166128 0.04088853\n",
      " 0.18297613 0.20203615 0.17115422 0.24720653 0.13134063 0.24008021\n",
      " 0.14461945 0.15605069 0.12335949 0.32040733 0.12105399 0.14088397\n",
      " 0.10850954 0.10646416 0.17753204 0.15439447 0.21328525 0.13013906\n",
      " 0.07867442 0.11090418 0.27149996 0.11604146 0.09879485 0.19970314\n",
      " 0.10903556 0.16523378 0.09251426 0.10060784 0.12480678 0.25801954\n",
      " 0.11516102 0.09622025 0.10561231 0.06490089 0.1786911  0.14728114\n",
      " 0.08668712 0.23307662 0.14890757 0.13101889 0.15354485 0.07394476\n",
      " 0.13807374 0.08057487 0.12141728 0.14445708 0.15248326 0.10284048\n",
      " 0.20839073 0.18213644 0.16693654 0.19461485 0.13352804 0.16973531\n",
      " 0.13471491 0.12838727 0.11873322 0.17388261]\n",
      "5. (18370, 25955) --array-> [0.01733999 0.04259849 0.0219631  0.03414016 0.02070478 0.01827973\n",
      " 0.0366623  0.01895494 0.02248577 0.01468608 0.02752004 0.02923929\n",
      " 0.0280699  0.0304914  0.02387748 0.02772835 0.02294876 0.02449499\n",
      " 0.02061378 0.02944658 0.01787348 0.016647   0.02086445 0.03182287\n",
      " 0.01927378 0.02123498 0.03458998 0.02591094 0.01545241 0.03510314\n",
      " 0.02866985 0.05268307 0.02707085 0.02154707 0.01949707 0.01962447\n",
      " 0.03389263 0.02172483 0.01985715 0.00990216 0.04988612 0.01378531\n",
      " 0.02243771 0.03713028 0.03310057 0.0299232  0.01201294 0.02568587\n",
      " 0.01598352 0.03204834 0.01524984 0.02556811 0.04637281 0.03947129\n",
      " 0.02535661 0.03130865 0.02135999 0.03618767 0.04318431 0.02521157\n",
      " 0.02365056 0.02623717 0.016536   0.06086622 0.0188445  0.03012984\n",
      " 0.02912515 0.01253589 0.01762931 0.01416385 0.0399198  0.01333604\n",
      " 0.02851248 0.02691027 0.0249521  0.01857094 0.0233091  0.02311208\n",
      " 0.02645383 0.04133923 0.01810023 0.01608657 0.02040704 0.01712534\n",
      " 0.03080381 0.02668806 0.04563699 0.03099984 0.02001147 0.0379253\n",
      " 0.03549521 0.02424786 0.02477747 0.02412368 0.0220761  0.03842782\n",
      " 0.03299648 0.03268317 0.0226935  0.0280096 ]\n",
      "6. (9408, 25955) --array-> [0.12106168 0.11422982 0.14489137 0.11481378 0.16455511 0.08426118\n",
      " 0.19010967 0.14413839 0.13588825 0.19859293 0.18207146 0.11773807\n",
      " 0.10704953 0.13465408 0.03718846 0.17026782 0.09609357 0.14685859\n",
      " 0.28252604 0.09096025 0.13022364 0.20925489 0.13987763 0.10793251\n",
      " 0.1487055  0.2392902  0.18580924 0.13129228 0.23460075 0.16872629\n",
      " 0.10458412 0.10098884 0.12757339 0.10189077 0.19658927 0.14758093\n",
      " 0.18171803 0.17864855 0.13646521 0.12945717 0.12382325 0.10931877\n",
      " 0.32126733 0.09782754 0.21246564 0.25430326 0.17798905 0.12607544\n",
      " 0.18400893 0.14131275 0.22423677 0.1334325  0.30319372 0.15933154\n",
      " 0.15612888 0.24624485 0.38939664 0.19401708 0.08555494 0.17479581\n",
      " 0.10565887 0.20233537 0.07675024 0.15494249 0.20826488 0.09870995\n",
      " 0.15223709 0.15302068 0.15774441 0.16063373 0.11204161 0.15093999\n",
      " 0.22644616 0.16586089 0.16172687 0.22099568 0.09286154 0.13839968\n",
      " 0.1670666  0.21745309 0.12152822 0.18813255 0.26603483 0.12352492\n",
      " 0.11903107 0.20545104 0.23274184 0.17285967 0.14254439 0.11068167\n",
      " 0.25907821 0.1269013  0.07837848 0.17337711 0.13954915 0.08965873\n",
      " 0.07020895 0.11617424 0.19379881 0.16270944]\n",
      "7. (18370, 25954) --array-> [0.02421965 0.02289703 0.02606582 0.02009753 0.02658526 0.02315906\n",
      " 0.03475615 0.01358592 0.02408034 0.01606939 0.01231737 0.0246943\n",
      " 0.06393749 0.03431183 0.01672519 0.01795576 0.02035994 0.03230857\n",
      " 0.02723169 0.0491665  0.03520187 0.01845564 0.02489873 0.01362464\n",
      " 0.04240941 0.02788733 0.03151799 0.02064624 0.01927281 0.02531507\n",
      " 0.02454618 0.03103988 0.0294852  0.01996155 0.02378837 0.03611287\n",
      " 0.03791187 0.01871058 0.0226351  0.04400944 0.02147495 0.02612466\n",
      " 0.01593658 0.0357504  0.01789253 0.03333165 0.03020767 0.02773969\n",
      " 0.02111561 0.03272074 0.03352743 0.02047487 0.01976377 0.02822283\n",
      " 0.041149   0.01759225 0.01504919 0.01103667 0.04551944 0.02565551\n",
      " 0.01727315 0.02289269 0.01640799 0.03704939 0.02853514 0.01824546\n",
      " 0.04030078 0.02909974 0.02248057 0.03647888 0.01535203 0.02916313\n",
      " 0.01451236 0.01117426 0.03236786 0.01491472 0.02334355 0.02355962\n",
      " 0.02587761 0.03090733 0.01954659 0.0269434  0.05161047 0.02506486\n",
      " 0.03175302 0.02974457 0.02878703 0.01890259 0.03030289 0.03848577\n",
      " 0.02216151 0.02103868 0.0169747  0.02740437 0.02198062 0.04632533\n",
      " 0.03918147 0.02185764 0.02638751 0.02133009]\n",
      "8. (9408, 25954) --array-> [0.69742962 0.56314458 1.42809626 0.58035539 0.41801866 0.75060878\n",
      " 0.94980262 0.76239115 0.69023128 0.94338783 0.42942003 0.45401843\n",
      " 0.73915806 0.44152776 0.65593113 0.61754246 0.64045843 1.11692699\n",
      " 0.36889211 0.5185619  0.63453008 0.74251565 0.25605182 0.8750717\n",
      " 0.71334761 0.77992908 0.90434451 0.60746165 0.62609949 0.79181911\n",
      " 0.6710845  0.66539224 1.2010726  0.34435209 0.79701901 0.82101602\n",
      " 1.28497118 1.0304536  0.58778086 1.09037833 0.81592157 0.4488904\n",
      " 0.46828464 1.26840759 0.32616054 0.55882118 0.70377788 0.59779435\n",
      " 0.85171826 0.46545191 0.55545677 0.84239932 0.5903874  0.91167149\n",
      " 1.15505549 0.76992638 0.63157192 0.92967207 0.71559098 0.97769092\n",
      " 0.50430144 0.72774608 0.50957182 0.52219297 0.68344213 0.82641581\n",
      " 0.51473134 1.00272467 0.40184163 1.52136765 0.53443984 0.49299737\n",
      " 0.86767992 0.38154093 0.48123603 0.89203491 0.43135109 0.75997603\n",
      " 0.47858852 0.57398772 0.80650408 0.54590344 0.97612771 0.41156759\n",
      " 0.86130993 0.59899855 0.68158838 0.54389787 0.64458201 0.72242311\n",
      " 0.53297247 1.01517552 0.48697802 1.06608901 0.38570037 0.32323964\n",
      " 0.61133863 0.56847871 0.65215009 0.6727227 ]\n",
      "9. (18370, 25952) --array-> [0.07568186 0.10190908 0.12466753 0.1062877  0.17382777 0.14300759\n",
      " 0.19379819 0.14816042 0.16003474 0.22162898 0.154201   0.12166189\n",
      " 0.10117976 0.14666218 0.28307599 0.2401247  0.09839499 0.11041188\n",
      " 0.09431279 0.1491792  0.22672072 0.13064254 0.16616663 0.15929118\n",
      " 0.128854   0.10369288 0.15366368 0.14216016 0.14523879 0.16939065\n",
      " 0.21528021 0.14053397 0.16212001 0.14448494 0.1273599  0.29657057\n",
      " 0.13367656 0.13917927 0.20478964 0.40944062 0.1632775  0.17845428\n",
      " 0.20652092 0.25280094 0.23151515 0.10492148 0.13541531 0.17024675\n",
      " 0.10889165 0.12538369 0.21369709 0.15761435 0.1983908  0.27271897\n",
      " 0.13737421 0.24556012 0.18646978 0.0916129  0.15042173 0.23639986\n",
      " 0.18817582 0.1823192  0.16722991 0.32482822 0.20151592 0.11977186\n",
      " 0.2638486  0.09213049 0.13300868 0.18006105 0.08702823 0.15628618\n",
      " 0.11499313 0.13617127 0.11069161 0.22201961 0.08365135 0.12050772\n",
      " 0.21149361 0.06349409 0.11644801 0.08804634 0.17572408 0.12821821\n",
      " 0.12330273 0.11837361 0.15225296 0.17187671 0.19426283 0.1990759\n",
      " 0.11420084 0.16525778 0.13161908 0.1127086  0.09665531 0.19138668\n",
      " 0.18415951 0.08154179 0.06826619 0.17677653]\n",
      "10. (18370, 25956) --array-> [0.03469054 0.01798388 0.01410265 0.03347974 0.02780467 0.02106384\n",
      " 0.02529341 0.02164286 0.02328577 0.01874844 0.03255672 0.03159464\n",
      " 0.01851442 0.03306487 0.02370072 0.01617403 0.0219839  0.04006954\n",
      " 0.03947336 0.03014385 0.03202324 0.05192734 0.05059995 0.03576895\n",
      " 0.02638466 0.02717476 0.01977625 0.03092025 0.03421512 0.03648096\n",
      " 0.02233205 0.02920009 0.01526784 0.0213412  0.0125921  0.02255395\n",
      " 0.02460328 0.01720952 0.04234539 0.0269214  0.06283899 0.01203515\n",
      " 0.01896454 0.04798635 0.02482942 0.01954037 0.02047301 0.03179372\n",
      " 0.03390121 0.02994235 0.02382052 0.0305241  0.03098696 0.02730966\n",
      " 0.01660185 0.02955284 0.02869887 0.02008653 0.02177637 0.02563421\n",
      " 0.02779936 0.02454724 0.04159674 0.02503187 0.04575264 0.01682502\n",
      " 0.02672661 0.01764041 0.02622749 0.01464314 0.02337651 0.02308198\n",
      " 0.02096498 0.02911951 0.03869372 0.02822906 0.01577703 0.01978954\n",
      " 0.00824963 0.02581194 0.034863   0.03814493 0.01425545 0.02435105\n",
      " 0.01347113 0.02024997 0.01793801 0.02213014 0.01926838 0.02853341\n",
      " 0.03636324 0.02271508 0.02080711 0.0374644  0.01694388 0.04384457\n",
      " 0.01838867 0.02398294 0.02594618 0.01558168]\n",
      "11. (9408, 25956) --array-> [0.11666111 0.14465633 0.1036405  0.1573121  0.11476177 0.09921681\n",
      " 0.12915047 0.10298571 0.10633791 0.04099675 0.29561799 0.11356794\n",
      " 0.11241669 0.10987404 0.08686086 0.12218396 0.13610171 0.17014381\n",
      " 0.14046111 0.13779534 0.12043364 0.17654897 0.19308396 0.19500398\n",
      " 0.13054777 0.23267391 0.11906272 0.25161352 0.27701192 0.14167438\n",
      " 0.15507124 0.15637037 0.12253011 0.15973459 0.1260591  0.1270971\n",
      " 0.15879968 0.07889585 0.09336102 0.14706144 0.182292   0.1485122\n",
      " 0.13939201 0.123852   0.22495149 0.1697468  0.07748881 0.09792736\n",
      " 0.17448393 0.21861769 0.25915808 0.14954302 0.16599301 0.15118631\n",
      " 0.21084123 0.27362788 0.08312821 0.1852234  0.17284549 0.16778222\n",
      " 0.06901057 0.17619857 0.20455799 0.17993567 0.37741042 0.10825627\n",
      " 0.206212   0.15287745 0.10569469 0.19021743 0.09131403 0.09450604\n",
      " 0.24139691 0.14564152 0.16432087 0.13450936 0.1524987  0.21274658\n",
      " 0.16238043 0.24681948 0.3276158  0.21697211 0.13152839 0.18870213\n",
      " 0.23495186 0.12758976 0.10101778 0.13323324 0.16181472 0.14355006\n",
      " 0.18027583 0.08958922 0.1108607  0.19675233 0.13617213 0.20243085\n",
      " 0.19957778 0.2280208  0.18648925 0.11829199]\n",
      "12. (18370, 25958) --array-> [0.1235178  0.1574526  0.26109403 0.29656252 0.12171702 0.15329204\n",
      " 0.17659635 0.15090452 0.25422029 0.13285384 0.15565522 0.27171534\n",
      " 0.16232607 0.08681067 0.1437262  0.20377033 0.11769286 0.23106079\n",
      " 0.16452842 0.11571792 0.14064865 0.28107431 0.26484487 0.13631642\n",
      " 0.19914191 0.24772635 0.14554523 0.29535733 0.18188848 0.23493155\n",
      " 0.12852608 0.18329223 0.13765851 0.18616244 0.18028548 0.15364748\n",
      " 0.24172104 0.21441068 0.21680353 0.15999049 0.1317437  0.13510711\n",
      " 0.32632571 0.10237093 0.21496043 0.1707132  0.17813328 0.21983875\n",
      " 0.17148673 0.15013292 0.18841832 0.14168285 0.19636541 0.1479827\n",
      " 0.2059032  0.18816383 0.08659227 0.19745526 0.10826719 0.22875468\n",
      " 0.23295056 0.09409592 0.54676491 0.13966888 0.14680041 0.16120208\n",
      " 0.35981993 0.17273071 0.1742593  0.19025364 0.19421572 0.28508385\n",
      " 0.11536786 0.22399523 0.10471063 0.17860289 0.31055689 0.12591801\n",
      " 0.31508734 0.12086509 0.16650244 0.1132983  0.1921497  0.23947781\n",
      " 0.24394344 0.16568342 0.11023066 0.09993586 0.16869182 0.25199449\n",
      " 0.38427718 0.20131345 0.21213787 0.15876242 0.20830838 0.07382613\n",
      " 0.12998378 0.20685285 0.2697684  0.22173514]\n",
      "13. (16115, 25969) --array-> [0.03471056 0.03504394 0.0342324  0.02723698 0.04608442 0.06191136\n",
      " 0.03820911 0.02859797 0.04243126 0.0368041  0.02890019 0.03098093\n",
      " 0.03975076 0.02116916 0.03744263 0.02749765 0.02498619 0.02269674\n",
      " 0.01566514 0.01774206 0.02471024 0.05562317 0.09798483 0.04071026\n",
      " 0.03544217 0.02804868 0.02715641 0.04340712 0.04955194 0.03849585\n",
      " 0.04873059 0.05293192 0.03348104 0.02839633 0.04000195 0.0479227\n",
      " 0.05855041 0.0187263  0.05029016 0.03612564 0.03529368 0.04472116\n",
      " 0.02213518 0.03921449 0.02315934 0.01883809 0.01419878 0.02009366\n",
      " 0.03289318 0.03057882 0.02247618 0.04759409 0.0390198  0.04173409\n",
      " 0.02670641 0.02395297 0.0315272  0.02337428 0.02429529 0.03041568\n",
      " 0.02643186 0.03111045 0.03665777 0.03736764 0.0513004  0.03266675\n",
      " 0.03777134 0.02942015 0.06985768 0.06113081 0.02788225 0.05464337\n",
      " 0.0426023  0.02536409 0.02058294 0.03385859 0.02914937 0.02367934\n",
      " 0.0540595  0.01693702 0.03216469 0.02621881 0.06403446 0.01963296\n",
      " 0.04669873 0.03002128 0.02970458 0.04443196 0.04394537 0.02583229\n",
      " 0.02554824 0.03594818 0.0451973  0.0214811  0.03191597 0.03323507\n",
      " 0.03388879 0.04125146 0.0409585  0.03184992]\n",
      "14. (8986, 25969) --array-> [0.0120288  0.00776581 0.01362206 0.01064503 0.01268947 0.01752394\n",
      " 0.00791035 0.00737787 0.0217952  0.00850794 0.00650954 0.01482079\n",
      " 0.00627757 0.00535133 0.01595691 0.00723877 0.00961104 0.01156997\n",
      " 0.0088924  0.01546378 0.00983401 0.02051963 0.0127264  0.01097635\n",
      " 0.00848097 0.01051334 0.01078148 0.00744948 0.00806844 0.0099482\n",
      " 0.00964589 0.01676172 0.01570698 0.00863418 0.01193453 0.00774158\n",
      " 0.01704181 0.01300831 0.01106684 0.02339443 0.00902487 0.00691475\n",
      " 0.00705378 0.01120624 0.01168948 0.00907406 0.00950242 0.01036393\n",
      " 0.01314246 0.01117782 0.010157   0.01138853 0.01663194 0.01352544\n",
      " 0.00829195 0.00825238 0.0108217  0.0124882  0.01835875 0.01146701\n",
      " 0.0142194  0.00916605 0.02674991 0.01053383 0.00620953 0.01234226\n",
      " 0.01213218 0.01456182 0.01286555 0.01018378 0.01343795 0.00975627\n",
      " 0.00577409 0.0150168  0.01905311 0.01183649 0.00939353 0.00998692\n",
      " 0.01171948 0.00883966 0.02035393 0.01326851 0.00603697 0.01441898\n",
      " 0.01392386 0.00666171 0.00873011 0.01783984 0.00808563 0.00756899\n",
      " 0.01625904 0.0092862  0.01513622 0.0188326  0.01530683 0.01417413\n",
      " 0.01028195 0.01244107 0.00386975 0.01384425]\n",
      "15. (18987, 25970) --array-> [0.01143714 0.0121543  0.01202285 0.0115024  0.01098632 0.01165628\n",
      " 0.01186469 0.01182873 0.01092064 0.01134556 0.0114576  0.01120709\n",
      " 0.01191584 0.01109165 0.01043815 0.01184877 0.0117559  0.01173119\n",
      " 0.01155737 0.01085545 0.01180858 0.01156594 0.01129227 0.01058533\n",
      " 0.01073249 0.01094516 0.0108177  0.01141831 0.01147481 0.01251297\n",
      " 0.01181399 0.01205961 0.01151559 0.01135738 0.01146462 0.0113031\n",
      " 0.0121945  0.01132866 0.01194821 0.01136909 0.01132991 0.01130915\n",
      " 0.01111596 0.0115053  0.01159202 0.01106526 0.01171492 0.01115359\n",
      " 0.01232872 0.01087614 0.01224986 0.01177213 0.0113927  0.01118457\n",
      " 0.01104751 0.0118881  0.0112787  0.01152824 0.01157177 0.0111884\n",
      " 0.01179017 0.01108154 0.01237997 0.01103312 0.01162042 0.01195771\n",
      " 0.0121198  0.01198518 0.01160411 0.01190639 0.01166603 0.01148602\n",
      " 0.01158555 0.01174566 0.01073481 0.01204658 0.01112223 0.01168057\n",
      " 0.01113382 0.01164135 0.01078451 0.0114027  0.01154238 0.01099935\n",
      " 0.01144688 0.0112516  0.01123241 0.01116873 0.01162664 0.0116922\n",
      " 0.01121818 0.01124561 0.01208986 0.01126616 0.0114116  0.01100689\n",
      " 0.01137704 0.01095782 0.01170073 0.0106215 ]\n"
     ]
    }
   ],
   "source": [
    "# Prints the dictionnary with the coordinates and vector with the samples.\n",
    "counter = 0\n",
    "for k, v in coords_samples_map.items():\n",
    "    counter +=1\n",
    "    print(f\"{counter}. {k} --array-> {v}\")"
   ]
  },
  {
   "cell_type": "markdown",
   "id": "3e6982b2-f9c8-4054-b0d7-32ea66a0fd29",
   "metadata": {},
   "source": [
    "## STEP 3: Static (i.e, deterministic) LCA\n",
    "\n",
    "In this step we are going to perform a static LCA for the product system we are interested in. Let's consider the example 3.4 of the previous notebook. Given that we are already familiar with static LCA, we will abreviate the explanations"
   ]
  },
  {
   "cell_type": "code",
   "execution_count": 67,
   "id": "74ebb4d8-9546-45c1-ab34-0bc22974d208",
   "metadata": {},
   "outputs": [],
   "source": [
    "pavement_structure = fgdb.get(\"pavement_structure_1\")"
   ]
  },
  {
   "cell_type": "markdown",
   "id": "2bd41315-1259-4c2c-82b6-689365273273",
   "metadata": {},
   "source": [
    "### Functional Unit"
   ]
  },
  {
   "cell_type": "code",
   "execution_count": 68,
   "id": "1a528398-d390-4b53-842f-d2b3d3d95903",
   "metadata": {},
   "outputs": [],
   "source": [
    "functional_unit = {pavement_structure:1}"
   ]
  },
  {
   "cell_type": "markdown",
   "id": "b8de3e37-bcfa-4ef7-81a2-b93e5a92eeda",
   "metadata": {},
   "source": [
    "### LCIA Method"
   ]
  },
  {
   "cell_type": "code",
   "execution_count": 69,
   "id": "fe35eb83-cde2-49b2-a82a-dedb944da69d",
   "metadata": {},
   "outputs": [],
   "source": [
    "cml_method_gwp = (\n",
    "    \"CML v4.8 2016\",\n",
    "    \"climate change\",\n",
    "    \"global warming potential (GWP100)\",\n",
    ")"
   ]
  },
  {
   "cell_type": "markdown",
   "id": "88114e61-c7df-44e2-9535-889a64d92802",
   "metadata": {},
   "source": [
    "### LCIA scores (i.e. results) calculation"
   ]
  },
  {
   "cell_type": "code",
   "execution_count": 70,
   "id": "ddbe4c7f-8b7d-4433-a3db-13a5a010c74e",
   "metadata": {},
   "outputs": [],
   "source": [
    "# Create a lca object\n",
    "a_lca = bc.LCA({pavement_structure: 1}, cml_method_gwp)"
   ]
  },
  {
   "cell_type": "code",
   "execution_count": 71,
   "id": "c9b1db0c-6f99-40f8-ba69-0cda0f9b15aa",
   "metadata": {},
   "outputs": [
    {
     "data": {
      "text/plain": [
       "1451712.0447004328"
      ]
     },
     "execution_count": 71,
     "metadata": {},
     "output_type": "execute_result"
    }
   ],
   "source": [
    "a_lca.lci()\n",
    "a_lca.lcia()\n",
    "a_lca.score"
   ]
  },
  {
   "cell_type": "code",
   "execution_count": 72,
   "id": "2a62bde9-4ce9-4dea-bd28-051bafc30e31",
   "metadata": {},
   "outputs": [
    {
     "name": "stdout",
     "output_type": "stream",
     "text": [
      "The score is 1451712.044700 kg CO2-Eq for impact category climate change\n"
     ]
    }
   ],
   "source": [
    "print(\"The score is {:f} {} for impact category {}\".format(a_lca.score, \n",
    "                                                 bd.methods.get(cml_method_gwp).get('unit'),\n",
    "                                                 cml_method_gwp[1]))"
   ]
  },
  {
   "cell_type": "markdown",
   "id": "970a95a2-b916-4243-96d6-6ac0797340a7",
   "metadata": {},
   "source": [
    "## Setp 4: Adding Uncertainties\n",
    "\n",
    "In this setp we are going to add the uncertainty to the exchanges. Be aware that uncertainties are added to exchanges (not activities).\n",
    "\n",
    "### LCA using datapackages"
   ]
  },
  {
   "cell_type": "code",
   "execution_count": 73,
   "id": "1b2f44f1-dc86-4501-9d0e-7cc1c5d2699a",
   "metadata": {},
   "outputs": [],
   "source": [
    "indexed_demand, data_objs, remapping_dicts = bd.prepare_lca_inputs(\n",
    "    {pavement_structure: 1}, cml_method_gwp\n",
    ")"
   ]
  },
  {
   "cell_type": "code",
   "execution_count": 74,
   "id": "372ae05d-97a5-4f22-b886-b0ccd9c315f2",
   "metadata": {},
   "outputs": [
    {
     "data": {
      "text/plain": [
       "{25980: 1}"
      ]
     },
     "execution_count": 74,
     "metadata": {},
     "output_type": "execute_result"
    }
   ],
   "source": [
    "indexed_demand"
   ]
  },
  {
   "cell_type": "code",
   "execution_count": 75,
   "id": "99725256-80f6-482b-a77d-a8f5a3b72473",
   "metadata": {},
   "outputs": [
    {
     "data": {
      "text/plain": [
       "[<bw_processing.datapackage.Datapackage at 0x10c8e7e10>,\n",
       " <bw_processing.datapackage.Datapackage at 0x320edc350>,\n",
       " <bw_processing.datapackage.Datapackage at 0x32150e8d0>,\n",
       " <bw_processing.datapackage.Datapackage at 0x308f5c1d0>]"
      ]
     },
     "execution_count": 75,
     "metadata": {},
     "output_type": "execute_result"
    }
   ],
   "source": [
    "data_objs"
   ]
  },
  {
   "cell_type": "code",
   "execution_count": 76,
   "id": "4edb522c-9f6b-4ecf-aefd-603e73a6873a",
   "metadata": {
    "scrolled": true
   },
   "outputs": [],
   "source": [
    "dp_correlated = bwp.create_datapackage(sequential=True)"
   ]
  },
  {
   "cell_type": "code",
   "execution_count": 77,
   "id": "a52eb526-bc70-494b-a3bd-a409b54f0e5f",
   "metadata": {},
   "outputs": [
    {
     "name": "stdout",
     "output_type": "stream",
     "text": [
      "[(18370, 25951),\n",
      " (18370, 25953),\n",
      " (9408, 25953),\n",
      " (18370, 25957),\n",
      " (18370, 25955),\n",
      " (9408, 25955),\n",
      " (18370, 25954),\n",
      " (9408, 25954),\n",
      " (18370, 25952),\n",
      " (18370, 25956),\n",
      " (9408, 25956),\n",
      " (18370, 25958),\n",
      " (16115, 25969),\n",
      " (8986, 25969),\n",
      " (18987, 25970)]\n"
     ]
    }
   ],
   "source": [
    "samples_indices = [coord for coord in coords_samples_map.keys()]\n",
    "pprint(samples_indices)"
   ]
  },
  {
   "cell_type": "code",
   "execution_count": 78,
   "id": "797a5fbf-c237-497a-a97b-09b85c1e4223",
   "metadata": {},
   "outputs": [
    {
     "name": "stdout",
     "output_type": "stream",
     "text": [
      "array([[0.34519671, 0.41251969, 0.3244602 , ..., 0.30432939, 0.34234963,\n",
      "        0.12317763],\n",
      "       [0.01859847, 0.05804445, 0.01918314, ..., 0.03772687, 0.03605957,\n",
      "        0.02082212],\n",
      "       [0.93297373, 1.05022317, 0.55450202, ..., 0.66371491, 0.40258361,\n",
      "        0.74595732],\n",
      "       ...,\n",
      "       [0.03471056, 0.03504394, 0.0342324 , ..., 0.04125146, 0.0409585 ,\n",
      "        0.03184992],\n",
      "       [0.0120288 , 0.00776581, 0.01362206, ..., 0.01244107, 0.00386975,\n",
      "        0.01384425],\n",
      "       [0.01143714, 0.0121543 , 0.01202285, ..., 0.01095782, 0.01170073,\n",
      "        0.0106215 ]])\n"
     ]
    }
   ],
   "source": [
    "# Prepare the data_array, it must be an array of arrays\n",
    "samples_values = np.array([coords_samples_map[coord] for coord in samples_indices])\n",
    "pprint(samples_values)"
   ]
  },
  {
   "cell_type": "code",
   "execution_count": 79,
   "id": "3dbdbb86-320c-41f8-abc7-92ee390f607f",
   "metadata": {},
   "outputs": [],
   "source": [
    "dp_correlated.add_persistent_array(\n",
    "    matrix=\"technosphere_matrix\",\n",
    "    indices_array=np.array(samples_indices, dtype=bwp.INDICES_DTYPE),\n",
    "    data_array=samples_values,\n",
    "    # We flip the signs of the samples\n",
    "    # to obey bw's convention\n",
    "    flip_array=np.array([True for _ in range(len(samples_values))]),\n",
    ")"
   ]
  },
  {
   "cell_type": "markdown",
   "id": "4e09be8c-b020-458d-9cb1-6b6ab3618754",
   "metadata": {},
   "source": [
    "## Build the new data objects to re-do the LCA"
   ]
  },
  {
   "cell_type": "code",
   "execution_count": 80,
   "id": "d8d26b79-059b-4811-80d2-de2a03071e45",
   "metadata": {},
   "outputs": [],
   "source": [
    "data_objs.append(dp_correlated)"
   ]
  },
  {
   "cell_type": "code",
   "execution_count": 81,
   "id": "5a694ac3-1d4d-4dc2-8405-a993795c28e6",
   "metadata": {},
   "outputs": [
    {
     "data": {
      "text/plain": [
       "1528469.902123131"
      ]
     },
     "execution_count": 81,
     "metadata": {},
     "output_type": "execute_result"
    }
   ],
   "source": [
    "dp_lca = bc.LCA(demand=indexed_demand, data_objs=data_objs, use_arrays=True)\n",
    "dp_lca.lci()\n",
    "dp_lca.lcia()\n",
    "dp_lca.score"
   ]
  },
  {
   "cell_type": "code",
   "execution_count": 82,
   "id": "81c516c1-b30c-4183-a5df-cf747e2bd0c1",
   "metadata": {},
   "outputs": [
    {
     "data": {
      "application/vnd.jupyter.widget-view+json": {
       "model_id": "4793b3d215f74a2981baf4428ea1f972",
       "version_major": 2,
       "version_minor": 0
      },
      "text/plain": [
       "  0%|          | 0/100 [00:00<?, ?it/s]"
      ]
     },
     "metadata": {},
     "output_type": "display_data"
    }
   ],
   "source": [
    "scores = []\n",
    "for _ in autonotebook.tqdm(range(100)):\n",
    "    next(dp_lca)\n",
    "    scores.append(dp_lca.score)"
   ]
  },
  {
   "cell_type": "code",
   "execution_count": 83,
   "id": "b290514b-1528-4980-9970-c0d224cb655e",
   "metadata": {},
   "outputs": [
    {
     "data": {
      "text/plain": [
       "1472846.1695402346"
      ]
     },
     "execution_count": 83,
     "metadata": {},
     "output_type": "execute_result"
    }
   ],
   "source": [
    "scores_a = np.array(scores)\n",
    "scores_a.mean()"
   ]
  },
  {
   "cell_type": "code",
   "execution_count": 84,
   "id": "68c17c76-383a-45f2-b210-02332ca82a43",
   "metadata": {},
   "outputs": [
    {
     "name": "stdout",
     "output_type": "stream",
     "text": [
      "0     1.577931e+06\n",
      "1     1.441703e+06\n",
      "2     1.436592e+06\n",
      "3     1.522859e+06\n",
      "4     1.539711e+06\n",
      "          ...     \n",
      "95    1.531763e+06\n",
      "96    1.490955e+06\n",
      "97    1.407881e+06\n",
      "98    1.455179e+06\n",
      "99    1.528470e+06\n",
      "Length: 100, dtype: float64\n"
     ]
    }
   ],
   "source": [
    "scores_a_s = pd.Series(scores_a)\n",
    "print(scores_a_s)"
   ]
  },
  {
   "cell_type": "markdown",
   "id": "c87eff97-34b5-485d-8839-7c84de59329c",
   "metadata": {},
   "source": [
    "## Graph results"
   ]
  },
  {
   "cell_type": "code",
   "execution_count": 85,
   "id": "7e892bd9-91cf-4fc3-917a-f7dbdd145bad",
   "metadata": {},
   "outputs": [
    {
     "name": "stderr",
     "output_type": "stream",
     "text": [
      "/var/folders/3t/9brqw33j6sl67t5_crw95f6h0000gn/T/ipykernel_2258/4067838399.py:11: FutureWarning: \n",
      "\n",
      "The `scale` parameter has been renamed and will be removed in v0.15.0. Pass `density_norm='width'` for the same effect.\n",
      "  sns.violinplot(data=df, x='GWP', inner=None, cut=0, bw=0.2, scale='width', orient='h', split=True)\n",
      "/var/folders/3t/9brqw33j6sl67t5_crw95f6h0000gn/T/ipykernel_2258/4067838399.py:11: FutureWarning: \n",
      "\n",
      "The `bw` parameter is deprecated in favor of `bw_method`/`bw_adjust`.\n",
      "Setting `bw_method=0.2`, but please see docs for the new parameters\n",
      "and update your code. This will become an error in seaborn v0.15.0.\n",
      "\n",
      "  sns.violinplot(data=df, x='GWP', inner=None, cut=0, bw=0.2, scale='width', orient='h', split=True)\n"
     ]
    },
    {
     "data": {
      "image/png": "[encoded data removed]",
      "text/plain": [
       "<Figure size 1000x600 with 1 Axes>"
      ]
     },
     "metadata": {},
     "output_type": "display_data"
    }
   ],
   "source": [
    "# Sample data as given in the series\n",
    "data = scores_a_s\n",
    "\n",
    "# Create a DataFrame from the series\n",
    "df = pd.DataFrame(data, columns=['GWP'])\n",
    "\n",
    "# Set the figure size\n",
    "plt.figure(figsize=(10, 6))\n",
    "\n",
    "# Create the half violin plot (right side)\n",
    "sns.violinplot(data=df, x='GWP', inner=None, cut=0, bw=0.2, scale='width', orient='h', split=True)\n",
    "\n",
    "# Set the title and labels\n",
    "plt.title(\"Global warming potential (GWP-100)\")\n",
    "plt.xlabel(\"kg CO₂ eq.\")  # CO₂ with subscript '2'\n",
    "\n",
    "# Show the plot\n",
    "plt.show()"
   ]
  },
  {
   "cell_type": "markdown",
   "id": "5bd3696f-23d7-49c6-bc35-acacaba8fba0",
   "metadata": {},
   "source": [
    "## Global Sensitivity analysis"
   ]
  },
  {
   "cell_type": "code",
   "execution_count": 87,
   "id": "d0004124-52d1-476b-aa57-dacbbfef355b",
   "metadata": {},
   "outputs": [],
   "source": [
    "x = samples.to_numpy()\n",
    "y = scores_a_s.to_numpy()\n",
    "\n",
    "#ExtraTrees parameters from Jaza-Roxen and Kwakkel (2018)\n",
    "t = 100\n",
    "m = round(len(x[0])/3)\n",
    "N = 100\n",
    "nmin = 5\n",
    "nleaf = math.sqrt(N) / math.sqrt(1000)\n",
    "\n",
    "#ExtraTrees regressor function\n",
    "regr = ExtraTreesRegressor(n_estimators=t, max_features=m, min_samples_split=nmin,\n",
    "                           min_samples_leaf=nleaf)\n",
    "regr = regr.fit(x,y)"
   ]
  },
  {
   "cell_type": "code",
   "execution_count": 88,
   "id": "957ead68-b711-46f2-87b5-38536faba3e8",
   "metadata": {},
   "outputs": [
    {
     "data": {
      "text/html": [
       "<div>\n",
       "<style scoped>\n",
       "    .dataframe tbody tr th:only-of-type {\n",
       "        vertical-align: middle;\n",
       "    }\n",
       "\n",
       "    .dataframe tbody tr th {\n",
       "        vertical-align: top;\n",
       "    }\n",
       "\n",
       "    .dataframe thead th {\n",
       "        text-align: right;\n",
       "    }\n",
       "</style>\n",
       "<table border=\"1\" class=\"dataframe\">\n",
       "  <thead>\n",
       "    <tr style=\"text-align: right;\">\n",
       "      <th></th>\n",
       "      <th>MDI</th>\n",
       "      <th>MDI_norm</th>\n",
       "    </tr>\n",
       "  </thead>\n",
       "  <tbody>\n",
       "    <tr>\n",
       "      <th>A2_bitumen_t</th>\n",
       "      <td>0.049550</td>\n",
       "      <td>0.431795</td>\n",
       "    </tr>\n",
       "    <tr>\n",
       "      <th>A2_crushedstone_t</th>\n",
       "      <td>0.074144</td>\n",
       "      <td>0.646111</td>\n",
       "    </tr>\n",
       "    <tr>\n",
       "      <th>A2_crushedstone_iv</th>\n",
       "      <td>0.098361</td>\n",
       "      <td>0.857143</td>\n",
       "    </tr>\n",
       "    <tr>\n",
       "      <th>A2_weakfiller_t</th>\n",
       "      <td>0.074461</td>\n",
       "      <td>0.648874</td>\n",
       "    </tr>\n",
       "    <tr>\n",
       "      <th>A2_ownmaterial_t</th>\n",
       "      <td>0.065574</td>\n",
       "      <td>0.571429</td>\n",
       "    </tr>\n",
       "    <tr>\n",
       "      <th>A2_ownmaterial_iv</th>\n",
       "      <td>0.065574</td>\n",
       "      <td>0.571429</td>\n",
       "    </tr>\n",
       "    <tr>\n",
       "      <th>A2_crushedsand_t</th>\n",
       "      <td>0.032787</td>\n",
       "      <td>0.285714</td>\n",
       "    </tr>\n",
       "    <tr>\n",
       "      <th>A2_crushedsand_iv</th>\n",
       "      <td>0.048810</td>\n",
       "      <td>0.425348</td>\n",
       "    </tr>\n",
       "    <tr>\n",
       "      <th>A2_modbitumen_t</th>\n",
       "      <td>0.032787</td>\n",
       "      <td>0.285714</td>\n",
       "    </tr>\n",
       "    <tr>\n",
       "      <th>A2_naturalsand_t</th>\n",
       "      <td>0.105867</td>\n",
       "      <td>0.922554</td>\n",
       "    </tr>\n",
       "    <tr>\n",
       "      <th>A2_naturalsand_iv</th>\n",
       "      <td>0.114754</td>\n",
       "      <td>1.000000</td>\n",
       "    </tr>\n",
       "    <tr>\n",
       "      <th>A2_dripresistantmaterial_t</th>\n",
       "      <td>0.049180</td>\n",
       "      <td>0.428571</td>\n",
       "    </tr>\n",
       "    <tr>\n",
       "      <th>A4_distance_EURO5</th>\n",
       "      <td>0.040610</td>\n",
       "      <td>0.353889</td>\n",
       "    </tr>\n",
       "    <tr>\n",
       "      <th>A4_distance_EURO6</th>\n",
       "      <td>0.065574</td>\n",
       "      <td>0.571429</td>\n",
       "    </tr>\n",
       "    <tr>\n",
       "      <th>A5_construction</th>\n",
       "      <td>0.081967</td>\n",
       "      <td>0.714286</td>\n",
       "    </tr>\n",
       "  </tbody>\n",
       "</table>\n",
       "</div>"
      ],
      "text/plain": [
       "                                 MDI  MDI_norm\n",
       "A2_bitumen_t                0.049550  0.431795\n",
       "A2_crushedstone_t           0.074144  0.646111\n",
       "A2_crushedstone_iv          0.098361  0.857143\n",
       "A2_weakfiller_t             0.074461  0.648874\n",
       "A2_ownmaterial_t            0.065574  0.571429\n",
       "A2_ownmaterial_iv           0.065574  0.571429\n",
       "A2_crushedsand_t            0.032787  0.285714\n",
       "A2_crushedsand_iv           0.048810  0.425348\n",
       "A2_modbitumen_t             0.032787  0.285714\n",
       "A2_naturalsand_t            0.105867  0.922554\n",
       "A2_naturalsand_iv           0.114754  1.000000\n",
       "A2_dripresistantmaterial_t  0.049180  0.428571\n",
       "A4_distance_EURO5           0.040610  0.353889\n",
       "A4_distance_EURO6           0.065574  0.571429\n",
       "A5_construction             0.081967  0.714286"
      ]
     },
     "execution_count": 88,
     "metadata": {},
     "output_type": "execute_result"
    }
   ],
   "source": [
    "mdi = regr.feature_importances_\n",
    "mdi = pd.DataFrame(mdi, columns=[\"MDI\"])\n",
    "mdi.index = samples.columns\n",
    "mdi[\"MDI_norm\"] = mdi[\"MDI\"]/np.max(mdi[\"MDI\"])\n",
    "mdi"
   ]
  },
  {
   "cell_type": "code",
   "execution_count": null,
   "id": "f8da50c4-c80b-4a74-9bed-3ae3258b363a",
   "metadata": {},
   "outputs": [],
   "source": []
  }
 ],
 "metadata": {
  "kernelspec": {
   "display_name": "Python 3 (ipykernel)",
   "language": "python",
   "name": "python3"
  },
  "language_info": {
   "codemirror_mode": {
    "name": "ipython",
    "version": 3
   },
   "file_extension": ".py",
   "mimetype": "text/x-python",
   "name": "python",
   "nbconvert_exporter": "python",
   "pygments_lexer": "ipython3",
   "version": "3.11.9"
  }
 },
 "nbformat": 4,
 "nbformat_minor": 5
}
