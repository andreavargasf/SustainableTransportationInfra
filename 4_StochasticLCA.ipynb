{
 "cells": [
  {
   "attachments": {},
   "cell_type": "markdown",
   "id": "8246506c-2b06-4fec-8fca-b73e9bb5cd4c",
   "metadata": {},
   "source": [
    "# Stochastic LCA\n",
    "\n",
    "This is the fifth notebook of a series of 5 (see below the names of full list) intended to teach you the functionalities of the pyhton-based LCA software Brightway 2.5 (BW25) that you will use to carry out your group assignment. For a more nuanced undertsanding of the principles and working mechanisms of BW25 you are referred to [its documentation](https://docs.brightway.dev/en/latest/index.html).\n",
    "\n",
    "**Full list of notebooks of the series:**\n",
    "- 1.Getting started\n",
    "- 2a.Background\n",
    "- 2b.Foreground\n",
    "- 3.StaticLCA\n",
    "- 4.StochasticLCA\n",
    "\n",
    "## Pre-requesites:\n",
    "- Having read the tutorial _Computational Settings and Guidelines_ that you can find on Canvas -> [Module 'General documents & Information'](https://canvas.utwente.nl/courses/15132/modules#:~:text=General%20documents%20%26%20information-,General,-documents%20%26%20information)\n",
    "- Having installed Brightway25 and all relevant packages (make sure to do so in the correct virtual environment) and eventually having had a first contact with its documentation.\n",
    "- Knowledge of the foundations of life cycle assessment (LCA). If you did not attended the Lecture 3- Pavement Life cycle assessment (LCA) or need a refresher, please have a look at its slides that you can find on Canvas.\n",
    "- Access to the ecoinvent database version 3.9.1.\n",
    "- Acess to the foreground database defined in the excel file 'Foreground.xlsx'\n",
    "- Having gone through the previous notebooks.\n",
    "- Familiarity with the Python programming language and the Jupyter Lab environment. However, this is **not** a hard requirement since most methods are quite intuitive and will be explained throughput the tutorial. Nevertheless, In case you are a total beginner, or need a refresher, please read the tutorial _Computational Settings and Guidelines_ that you can find on Canvas -> [Module 'General documents & Information'](https://canvas.utwente.nl/courses/15132/modules#:~:text=General%20documents%20%26%20information-,General,-documents%20%26%20information)\n",
    "  \n",
    "\n",
    "## Learning Objectives\n",
    "- Learn how uncertainty is represented in exchanges\n",
    "- Learn how to perform a stochastic LCA\n",
    "- Learn how to perform a GSA based on the results of the stochastic LCA\n",
    "\n",
    " \n",
    "## Content\n",
    "\n",
    "[4.1. STEP 1: Uncertainty Characterization <br>](#Step1)\n",
    "[4.2. STEP 2: Sample generation <br>](#Step2)\n",
    "[4.3. STEP 3: Static (i.e., deterministic) LCA <br>](#Step3)\n",
    "[4.4. STEP 4: Adding Uncertainties <br>](#Step4)\n",
    "[4.5. STEP 5: Stochastic LCA <br>](#Step5)\n",
    "[4.6. STEP 6: Global Sensitivity Analysis <br>](#Step5)\n"
   ]
  },
  {
   "cell_type": "code",
   "execution_count": 18,
   "id": "8fec5955-c255-48a5-80a1-aa0c36c40ce4",
   "metadata": {},
   "outputs": [],
   "source": [
    "# Import scientific packages\n",
    "from IPython.display import display\n",
    "import pandas as pd\n",
    "import numpy as np\n",
    "import scipy as sp\n",
    "from pprint import pprint\n",
    "from tqdm import autonotebook\n",
    "import seaborn as sns\n",
    "import os\n",
    "import matplotlib.pyplot as plt\n",
    "import matplotlib.collections as clt\n",
    "from sklearn import cluster, mixture\n",
    "from sklearn.ensemble import ExtraTreesRegressor\n",
    "from sklearn.ensemble import ExtraTreesClassifier\n",
    "from sklearn.datasets import make_regression\n",
    "from sklearn.metrics import mean_squared_error\n",
    "import math\n",
    "\n",
    "# Import BW25 packages.\n",
    "import bw2analyzer as bwa\n",
    "import bw2calc as bc\n",
    "import bw2data as bd\n",
    "import bw2io as bi\n",
    "import bw_processing as bwp\n",
    "import pandas as pd\n",
    "from bw2data.query import Filter, Query\n"
   ]
  },
  {
   "cell_type": "code",
   "execution_count": 19,
   "id": "b2f28228-7456-467d-bf5f-e053f359088d",
   "metadata": {},
   "outputs": [],
   "source": [
    "#Importing the variables with the project name and background db\n",
    "from project_details import ei_name, project_name"
   ]
  },
  {
   "cell_type": "code",
   "execution_count": 20,
   "id": "88adff1a-75a3-45c7-90bf-2950d7bfc676",
   "metadata": {},
   "outputs": [
    {
     "data": {
      "text/plain": [
       "Databases dictionary with 3 object(s):\n",
       "\tasphalt\n",
       "\tbiosphere3\n",
       "\tecoinvent-391-cutoff"
      ]
     },
     "execution_count": 20,
     "metadata": {},
     "output_type": "execute_result"
    }
   ],
   "source": [
    "# set the selected project as the current project\n",
    "bd.projects.set_current(project_name)\n",
    "bd.databases"
   ]
  },
  {
   "cell_type": "code",
   "execution_count": 21,
   "id": "8de90679-8d3b-45c5-a363-4efbb469a633",
   "metadata": {},
   "outputs": [],
   "source": [
    "# Is the background database name the same as the one we wrote in `project_details.py`?\n",
    "assert ei_name in bd.databases"
   ]
  },
  {
   "cell_type": "markdown",
   "id": "9ed0b01b-a251-4f0f-a27d-ec27e2bcdac8",
   "metadata": {},
   "source": [
    "As already done in the previous notebooks, let's define and assign the name of the foreground database to a variable called \"fg_name\".\n",
    "The name must be equal to the content of the cell B1 in the excel file \"Foreground.xlsx\""
   ]
  },
  {
   "cell_type": "code",
   "execution_count": 22,
   "id": "e71296c4-23af-43ce-8193-60f88d76fc18",
   "metadata": {},
   "outputs": [],
   "source": [
    "fg_name = \"asphalt\""
   ]
  },
  {
   "cell_type": "code",
   "execution_count": 23,
   "id": "a8f90ad2-06de-42cb-94df-d3b0a094450c",
   "metadata": {},
   "outputs": [],
   "source": [
    "fgdb = bd.Database(fg_name)"
   ]
  },
  {
   "cell_type": "markdown",
   "id": "270c6680-91c6-4150-83a6-2354180953d7",
   "metadata": {},
   "source": [
    "## 4.1. STEP 1: Uncertainty Characterization <a name=\"Step1\"></a>"
   ]
  },
  {
   "cell_type": "markdown",
   "id": "80138f6f-2e34-49fa-b312-b25602b6621f",
   "metadata": {},
   "source": [
    "In this example, we will consider the transport distance of materials to the asphalt plant in A2, the transport distance of the asphalt mixtures from the asphalt plant to the construction site in A4, and the diesel consumption of the machinery used for construction in A5 as uncertain parameters. The foreground file already provides uncertainty information for each of these parameters (associated with activities exchanges). \n"
   ]
  },
  {
   "cell_type": "code",
   "execution_count": 24,
   "id": "ff7aadee-29d0-42c9-9a12-976436fb5a59",
   "metadata": {},
   "outputs": [],
   "source": [
    "# List that will store tuples with info about the uncertain parameters (associated with activity exchanges)\n",
    "uncertain_parameters = []"
   ]
  },
  {
   "cell_type": "markdown",
   "id": "1ef77185-3415-40d4-9377-6546749672f7",
   "metadata": {},
   "source": [
    "### Transport distances in A2"
   ]
  },
  {
   "cell_type": "markdown",
   "id": "9ad27fd8-b0c4-4e9b-937d-ae23211c5263",
   "metadata": {},
   "source": [
    "The first step consists of identifying and storing in a list all activities that have 'production and transport' in the name"
   ]
  },
  {
   "cell_type": "code",
   "execution_count": 25,
   "id": "7001ab6e-c17e-4925-8993-dca0ee5bce8c",
   "metadata": {},
   "outputs": [
    {
     "data": {
      "text/plain": [
       "['bitumen, production and transport' (kilogram, NL, None),\n",
       " 'weak filler, production and transport' (kilogram, NL, None),\n",
       " 'other fillers, production and transport' (kilogram, NL, None),\n",
       " 'crushed stone, production and transport' (kilogram, NL, None),\n",
       " 'modified bitumen, production and transport' (kilogram, NL, None),\n",
       " 'crushed sand, production and transport' (kilogram, NL, None),\n",
       " 'natural sand, production and transport' (kilogram, NL, None),\n",
       " 'drip resistant material, production and transport' (kilogram, NL, None)]"
      ]
     },
     "execution_count": 25,
     "metadata": {},
     "output_type": "execute_result"
    }
   ],
   "source": [
    "transport_a2 = fgdb.search(\"production and transport\")\n",
    "transport_a2"
   ]
  },
  {
   "attachments": {},
   "cell_type": "markdown",
   "id": "ea3236f2-0b44-491a-ac2e-dbe248163a6f",
   "metadata": {},
   "source": [
    "In the foreground database (excel file) provided in the previous lecture, the exchange 'market for transport, freight, lorry, unspecified' in the activities 'bitumen, production and transport' and 'modified bitumen, production and transport' had the same comment (i.e., 'A2_bitumen_t'). This would generate an error in the upcoming steps, as the name assigned in \"comments\" is used to identify the exchanges. Thus, if the same name is used for multiple exchanges, the upcoming calculations are unable to track the exchanges. Therefore, we have to change the comment in one of the exchanges mentioned before. Let's change it in the activity 'modified bitumen, production and transport'."
   ]
  },
  {
   "cell_type": "code",
   "execution_count": 26,
   "id": "6f2e675a-01fb-4d3f-9a36-332d6700fc01",
   "metadata": {},
   "outputs": [
    {
     "data": {
      "text/plain": [
       "{'name': 'market for transport, freight, lorry, unspecified',\n",
       " 'reference product': 'transport, freight, lorry, unspecified',\n",
       " 'location': 'RER',\n",
       " 'amount': 0.15,\n",
       " 'unit': 'ton kilometer',\n",
       " 'database': 'ecoinvent-391-cutoff',\n",
       " 'type': 'technosphere',\n",
       " 'categories': ('(unknown)',),\n",
       " 'comments': 'A2_modbitumen_t',\n",
       " 'scenario': ('3', '4'),\n",
       " 'uncertainty_type': 2,\n",
       " 'loc': -1.8971199848858813,\n",
       " 'scale': 0.3474550330618338,\n",
       " 'input': ('ecoinvent-391-cutoff', 'd6655a43e0d3a5f786929ade5064e0fd'),\n",
       " 'output': ('asphalt', 'modified_bitumen')}"
      ]
     },
     "execution_count": 26,
     "metadata": {},
     "output_type": "execute_result"
    }
   ],
   "source": [
    "# Search and select the activity we are interested in\n",
    "mod_bitumen = fgdb.search(\"modified bitumen, production and transport\")[0] \n",
    "\n",
    "# Store in a list all exchanges of the activity above and select the exchange 'market for transport, freight, lorry, unspecified'.\n",
    "mod_bitumen_transport = [exchange for exchange in mod_bitumen.exchanges()][2] # The exchange we want is the third in the list, thus we will use [2] to select it and store it in a variable (mod_bitumen_transport). Remember, python uses 0-index  \n",
    "\n",
    "# Here we convert the content of the variable into a dictionary\n",
    "mod_bitumen_transport.as_dict()\n"
   ]
  },
  {
   "cell_type": "code",
   "execution_count": 27,
   "id": "948d7711-801b-4396-a6fa-d879b8558df8",
   "metadata": {},
   "outputs": [],
   "source": [
    "#Define the new name for the comment by using the dictionary key 'comments'\n",
    "mod_bitumen_transport['comments'] = 'A2_modbitumen_t'\n",
    "\n",
    "#Save the changes previously made in 'comments'\n",
    "mod_bitumen_transport.save()"
   ]
  },
  {
   "cell_type": "code",
   "execution_count": 28,
   "id": "48b29a70-64b8-4b17-8531-17a8abf62afb",
   "metadata": {},
   "outputs": [
    {
     "data": {
      "text/plain": [
       "{'name': 'market for transport, freight, lorry, unspecified',\n",
       " 'reference product': 'transport, freight, lorry, unspecified',\n",
       " 'location': 'RER',\n",
       " 'amount': 0.15,\n",
       " 'unit': 'ton kilometer',\n",
       " 'database': 'ecoinvent-391-cutoff',\n",
       " 'type': 'technosphere',\n",
       " 'categories': ('(unknown)',),\n",
       " 'comments': 'A2_modbitumen_t',\n",
       " 'scenario': ('3', '4'),\n",
       " 'uncertainty_type': 2,\n",
       " 'loc': -1.8971199848858813,\n",
       " 'scale': 0.3474550330618338,\n",
       " 'input': ('ecoinvent-391-cutoff', 'd6655a43e0d3a5f786929ade5064e0fd'),\n",
       " 'output': ('asphalt', 'modified_bitumen')}"
      ]
     },
     "execution_count": 28,
     "metadata": {},
     "output_type": "execute_result"
    }
   ],
   "source": [
    "#Display the content of the dictionary associated with the exchange\n",
    "mod_bitumen_transport.as_dict()\n"
   ]
  },
  {
   "cell_type": "markdown",
   "id": "f2e4609b-03d5-4db3-ba61-e128d76c6347",
   "metadata": {},
   "source": [
    "Next, we need to store information about the uncertainty of the exchanges (considered in the activities). Specifically, we are interested in the fields 'comments', 'uncertainty_type', 'loc' and 'scale' defined in the foreground and ecoinvent databases. Their meaning is as follows:\n",
    "\n",
    "- `uncertainty_type`: type of probability distribution function (pdf) that the exchange follows. In our foreground database, the exchanges have an uncertainty type = 2, indicating it is a `lognormal`  distribution. This is the type of pdf you should consider. A value equal to 0 means no uncertainty. More info about the uncertainty type and respective code can be found [here](https://stats-arrays.readthedocs.io/en/latest/).\n",
    "- `loc`,`scale`:  parameters of the probability distribution function considered. In the case of the lognormal they are respectively the mean and the standard deviation of the underlying normal distribution. The natural logarithm of the _median_ of the lognormal distribution is equal to the median (=mean) of the underlying distribution.\n",
    "Considering the deterministic exchange amount `amount` to be the median, we have `loc` = `ln('amount')`. You can see this formula being used in the foreground database (excel file) \n",
    "As far as the standard deviation (`scale`) is concerned, the value is obtained from the basic and additional uncertainty, defined according to the pedigree matrix.\n",
    "For instance, if you look at the exchange 'diesel, burned in building machine' considered in the activity 'asphalt, construction', you will see that the `loc` value is 0,0374166. This value is the square root of the sum of the basic uncertainty (0,0006) and the additional uncertainty (0,0006 + 0 + 0,0002 + 0 + 0) corresponding to the example given in the uncertainty modelling lecture.\n",
    "\n",
    "\n",
    "To store the info explained above we run the cell below:"
   ]
  },
  {
   "cell_type": "code",
   "execution_count": 29,
   "id": "37b30e79-7a4c-49ab-a978-d2b4f7a19895",
   "metadata": {},
   "outputs": [
    {
     "data": {
      "text/plain": [
       "[('A2_bitumen_t', 2, -1.3862943611198906, 0.3474550330618338),\n",
       " ('A2_weakfiller_t', 2, -1.995100393246085, 0.3474550330618338),\n",
       " ('A2_ownmaterial_t', 2, -3.6888794541139363, 0.3474550330618338),\n",
       " ('A2_ownmaterial_iv', 2, -1.8971199848858813, 0.3474550330618338),\n",
       " ('A2_crushedstone_t', 2, -3.6888794541139363, 0.3474550330618338),\n",
       " ('A2_crushedstone_iv', 2, -0.4155154439616658, 0.3474550330618338),\n",
       " ('A2_modbitumen_t', 2, -1.8971199848858813, 0.3474550330618338),\n",
       " ('A2_crushedsand_t', 2, -3.6888794541139363, 0.3474550330618338),\n",
       " ('A2_crushedsand_iv', 2, -0.4155154439616658, 0.3474550330618338),\n",
       " ('A2_naturalsand_t', 2, -3.6888794541139363, 0.3474550330618338),\n",
       " ('A2_naturalsand_iv', 2, -1.8971199848858813, 0.3474550330618338),\n",
       " ('A2_dripresistantmaterial_t', 2, -1.731605546408308, 0.3474550330618338)]"
      ]
     },
     "execution_count": 29,
     "metadata": {},
     "output_type": "execute_result"
    }
   ],
   "source": [
    "uncertain_parameters = [] #list that stores the info about the uncertain parameters associated with exchanges\n",
    "\n",
    "for transport in transport_a2:\n",
    "    exchanges = transport.technosphere()\n",
    "    for exchange in exchanges:\n",
    "        exchanges_dict = exchange.as_dict()\n",
    "        if \"comments\" in exchanges_dict:\n",
    "            parameter = exchanges_dict[\"comments\"]\n",
    "            distribution = exchanges_dict[\"uncertainty_type\"]\n",
    "            loc = exchanges_dict[\"loc\"]\n",
    "            scale = exchanges_dict[\"scale\"]\n",
    "            uncertain_parameters.append((parameter, \n",
    "                    distribution, \n",
    "                    loc,\n",
    "                    scale))\n",
    "uncertain_parameters"
   ]
  },
  {
   "cell_type": "markdown",
   "id": "2b7fc273-a400-42c7-895c-a5341e987f63",
   "metadata": {},
   "source": [
    "### Transport distances in A4"
   ]
  },
  {
   "cell_type": "markdown",
   "id": "a340883e-f58e-49fe-ae5b-93a10322c30e",
   "metadata": {},
   "source": [
    "Execute the same procedure but for activities that have 'asphalt, transport to site' in the name"
   ]
  },
  {
   "cell_type": "code",
   "execution_count": 30,
   "id": "32793514-d647-437a-805e-f6ea6e2e453e",
   "metadata": {},
   "outputs": [
    {
     "data": {
      "text/plain": [
       "['asphalt, transport to site' (kilogram, NL, None)]"
      ]
     },
     "execution_count": 30,
     "metadata": {},
     "output_type": "execute_result"
    }
   ],
   "source": [
    "transport_a4 = fgdb.search(\"asphalt, transport to site\")\n",
    "transport_a4"
   ]
  },
  {
   "cell_type": "code",
   "execution_count": 31,
   "id": "02720137-a664-4c0c-b327-0c8dc89d7a21",
   "metadata": {},
   "outputs": [
    {
     "data": {
      "text/plain": [
       "[('A2_bitumen_t', 2, -1.3862943611198906, 0.3474550330618338),\n",
       " ('A2_weakfiller_t', 2, -1.995100393246085, 0.3474550330618338),\n",
       " ('A2_ownmaterial_t', 2, -3.6888794541139363, 0.3474550330618338),\n",
       " ('A2_ownmaterial_iv', 2, -1.8971199848858813, 0.3474550330618338),\n",
       " ('A2_crushedstone_t', 2, -3.6888794541139363, 0.3474550330618338),\n",
       " ('A2_crushedstone_iv', 2, -0.4155154439616658, 0.3474550330618338),\n",
       " ('A2_modbitumen_t', 2, -1.8971199848858813, 0.3474550330618338),\n",
       " ('A2_crushedsand_t', 2, -3.6888794541139363, 0.3474550330618338),\n",
       " ('A2_crushedsand_iv', 2, -0.4155154439616658, 0.3474550330618338),\n",
       " ('A2_naturalsand_t', 2, -3.6888794541139363, 0.3474550330618338),\n",
       " ('A2_naturalsand_iv', 2, -1.8971199848858813, 0.3474550330618338),\n",
       " ('A2_dripresistantmaterial_t', 2, -1.731605546408308, 0.3474550330618338),\n",
       " ('A4_distance_EURO5', 2, -3.402197881995739, 0.3474550330618338),\n",
       " ('A4_distance_EURO6', 2, -4.500810170663849, 0.3474550330618338)]"
      ]
     },
     "execution_count": 31,
     "metadata": {},
     "output_type": "execute_result"
    }
   ],
   "source": [
    "for transport in transport_a4:\n",
    "    exchanges = transport.technosphere()\n",
    "    for exchange in exchanges:\n",
    "        exchanges_dict = exchange.as_dict()\n",
    "        if \"comments\" in exchanges_dict:\n",
    "            parameter = exchanges_dict[\"comments\"]\n",
    "            distribution = exchanges_dict[\"uncertainty_type\"]\n",
    "            loc = exchanges_dict[\"loc\"]\n",
    "            scale = exchanges_dict[\"scale\"]\n",
    "            uncertain_parameters.append((parameter, \n",
    "                    distribution, \n",
    "                    loc,\n",
    "                    scale))\n",
    "uncertain_parameters"
   ]
  },
  {
   "cell_type": "markdown",
   "id": "ba44968c-968e-48be-bc77-40ea36e677e1",
   "metadata": {},
   "source": [
    "### Diesel consumption in A5"
   ]
  },
  {
   "cell_type": "markdown",
   "id": "4703bd43-980a-4685-9444-805285e389ce",
   "metadata": {},
   "source": [
    "Once again, similar procedure but for activities that have 'asphalt, construction' in the name"
   ]
  },
  {
   "cell_type": "code",
   "execution_count": 32,
   "id": "3afdb6b3-ab0a-496a-919e-2afd9e4708bb",
   "metadata": {},
   "outputs": [
    {
     "data": {
      "text/plain": [
       "['asphalt, construction' (kilogram, NL, None)]"
      ]
     },
     "execution_count": 32,
     "metadata": {},
     "output_type": "execute_result"
    }
   ],
   "source": [
    "construction_a5 = fgdb.search(\"asphalt, construction\")\n",
    "construction_a5"
   ]
  },
  {
   "cell_type": "code",
   "execution_count": 33,
   "id": "a5848eba-0361-4f4e-b25a-caf0f22a9ce6",
   "metadata": {},
   "outputs": [
    {
     "data": {
      "text/plain": [
       "[('A2_bitumen_t', 2, -1.3862943611198906, 0.3474550330618338),\n",
       " ('A2_weakfiller_t', 2, -1.995100393246085, 0.3474550330618338),\n",
       " ('A2_ownmaterial_t', 2, -3.6888794541139363, 0.3474550330618338),\n",
       " ('A2_ownmaterial_iv', 2, -1.8971199848858813, 0.3474550330618338),\n",
       " ('A2_crushedstone_t', 2, -3.6888794541139363, 0.3474550330618338),\n",
       " ('A2_crushedstone_iv', 2, -0.4155154439616658, 0.3474550330618338),\n",
       " ('A2_modbitumen_t', 2, -1.8971199848858813, 0.3474550330618338),\n",
       " ('A2_crushedsand_t', 2, -3.6888794541139363, 0.3474550330618338),\n",
       " ('A2_crushedsand_iv', 2, -0.4155154439616658, 0.3474550330618338),\n",
       " ('A2_naturalsand_t', 2, -3.6888794541139363, 0.3474550330618338),\n",
       " ('A2_naturalsand_iv', 2, -1.8971199848858813, 0.3474550330618338),\n",
       " ('A2_dripresistantmaterial_t', 2, -1.731605546408308, 0.3474550330618338),\n",
       " ('A4_distance_EURO5', 2, -3.402197881995739, 0.3474550330618338),\n",
       " ('A4_distance_EURO6', 2, -4.500810170663849, 0.3474550330618338),\n",
       " ('A5_construction', 2, -4.468892567695543, 0.03741657386773941)]"
      ]
     },
     "execution_count": 33,
     "metadata": {},
     "output_type": "execute_result"
    }
   ],
   "source": [
    "for consumption in construction_a5:\n",
    "    exchanges = consumption.technosphere()\n",
    "    for exchange in exchanges:\n",
    "        exchanges_dict = exchange.as_dict()\n",
    "        if \"comments\" in exchanges_dict:\n",
    "            parameter = exchanges_dict[\"comments\"]\n",
    "            distribution = exchanges_dict[\"uncertainty_type\"]\n",
    "            loc = exchanges_dict[\"loc\"]\n",
    "            scale = exchanges_dict[\"scale\"]\n",
    "            uncertain_parameters.append((parameter, \n",
    "                    distribution, \n",
    "                    loc,\n",
    "                    scale))\n",
    "uncertain_parameters"
   ]
  },
  {
   "cell_type": "markdown",
   "id": "2f4d6505-5438-4582-b421-fffb81893918",
   "metadata": {},
   "source": [
    "## STEP 2: Sample generation <a name=\"Step2\"></a>\n",
    "\n",
    "Now that we have retrieved the uncertain parameters information, we can proceed to generate our samples."
   ]
  },
  {
   "cell_type": "markdown",
   "id": "2f7aa472-188c-4268-8c19-dccbbbe9b1c7",
   "metadata": {},
   "source": [
    "First, we define a Latin hypercube sampling (LHS) function:"
   ]
  },
  {
   "cell_type": "code",
   "execution_count": 34,
   "id": "ef2c6b6a-4fce-4ca7-b386-b18f93456530",
   "metadata": {},
   "outputs": [],
   "source": [
    "def LHS_generator(inputs, sample_size, seed=None):\n",
    "    # Determine the number of parameters based on the length of inputs\n",
    "    num_parameters = len(inputs)\n",
    "\n",
    "    # Assign random seed (if specified) for reproducibility\n",
    "    if seed:\n",
    "        np.random.seed(seed)\n",
    "\n",
    "    # Initialize an empty array to hold the results\n",
    "    result = np.empty([sample_size, num_parameters])\n",
    "    \n",
    "    # Calculate the interval width for the uniform distribution\n",
    "    d = 1.0 / sample_size\n",
    "    \n",
    "    # Generate samples using uniform distribution within specified ranges\n",
    "    temp = np.array(\n",
    "        [\n",
    "            np.random.uniform(low=sample * d, high=(sample + 1) * d, size=num_parameters)\n",
    "            for sample in range(sample_size)\n",
    "        ]\n",
    "    )\n",
    "\n",
    "    # Process each parameter to perform Latin Hypercube Sampling for log-normal distribution\n",
    "    for parameter in range(num_parameters):\n",
    "        # Shuffle the samples to ensure randomness\n",
    "        np.random.shuffle(temp[:, parameter])\n",
    "        \n",
    "        # Apply the inverse cumulative distribution function (ppf) of the normal distribution\n",
    "        # then exponentiate to transform to a log-normal distribution\n",
    "        temp[:, parameter] = np.exp(sp.stats.norm.ppf(temp[:, parameter], loc=inputs[parameter][2], scale=inputs[parameter][3]))\n",
    "        \n",
    "        # Fill the result array with processed samples\n",
    "        for sample in range(sample_size):\n",
    "            result[sample, parameter] = temp[sample, parameter]\n",
    "\n",
    "    # Convert result to a DataFrame with column names from the first column of inputs\n",
    "    column_names = [inputs[i][0] for i in range(num_parameters)]\n",
    "    result_df = pd.DataFrame(result, columns=column_names)\n",
    "\n",
    "    return result_df"
   ]
  },
  {
   "cell_type": "markdown",
   "id": "ad1b6ee1-0dc2-4015-ac0f-2abf027a604f",
   "metadata": {},
   "source": [
    "Once defined the LHS function, we can run it for the  parameters for which we gathered and stored the information about their uncertainty (stored in the list 'uncertain_parameters'). We will consider a sample size equal to 100."
   ]
  },
  {
   "cell_type": "code",
   "execution_count": 35,
   "id": "6ecccc87-2f3d-43fb-a79a-ced9a78b6465",
   "metadata": {},
   "outputs": [],
   "source": [
    "# Run the LHS function for the parameters defined above and a sample size equal to 100:\n",
    "sample_size = 100\n",
    "samples = LHS_generator(uncertain_parameters,sample_size)"
   ]
  },
  {
   "cell_type": "code",
   "execution_count": 36,
   "id": "01e47131-ba40-46b6-8537-12d6fae5eefb",
   "metadata": {},
   "outputs": [
    {
     "data": {
      "text/html": [
       "<div>\n",
       "<style scoped>\n",
       "    .dataframe tbody tr th:only-of-type {\n",
       "        vertical-align: middle;\n",
       "    }\n",
       "\n",
       "    .dataframe tbody tr th {\n",
       "        vertical-align: top;\n",
       "    }\n",
       "\n",
       "    .dataframe thead th {\n",
       "        text-align: right;\n",
       "    }\n",
       "</style>\n",
       "<table border=\"1\" class=\"dataframe\">\n",
       "  <thead>\n",
       "    <tr style=\"text-align: right;\">\n",
       "      <th></th>\n",
       "      <th>A2_bitumen_t</th>\n",
       "      <th>A2_weakfiller_t</th>\n",
       "      <th>A2_ownmaterial_t</th>\n",
       "      <th>A2_ownmaterial_iv</th>\n",
       "      <th>A2_crushedstone_t</th>\n",
       "      <th>A2_crushedstone_iv</th>\n",
       "      <th>A2_modbitumen_t</th>\n",
       "      <th>A2_crushedsand_t</th>\n",
       "      <th>A2_crushedsand_iv</th>\n",
       "      <th>A2_naturalsand_t</th>\n",
       "      <th>A2_naturalsand_iv</th>\n",
       "      <th>A2_dripresistantmaterial_t</th>\n",
       "      <th>A4_distance_EURO5</th>\n",
       "      <th>A4_distance_EURO6</th>\n",
       "      <th>A5_construction</th>\n",
       "    </tr>\n",
       "  </thead>\n",
       "  <tbody>\n",
       "    <tr>\n",
       "      <th>0</th>\n",
       "      <td>0.240731</td>\n",
       "      <td>0.216232</td>\n",
       "      <td>0.019869</td>\n",
       "      <td>0.138912</td>\n",
       "      <td>0.021743</td>\n",
       "      <td>0.872891</td>\n",
       "      <td>0.122734</td>\n",
       "      <td>0.027653</td>\n",
       "      <td>0.762961</td>\n",
       "      <td>0.043439</td>\n",
       "      <td>0.150795</td>\n",
       "      <td>0.112008</td>\n",
       "      <td>0.030365</td>\n",
       "      <td>0.026202</td>\n",
       "      <td>0.011105</td>\n",
       "    </tr>\n",
       "    <tr>\n",
       "      <th>1</th>\n",
       "      <td>0.281821</td>\n",
       "      <td>0.123914</td>\n",
       "      <td>0.051548</td>\n",
       "      <td>0.086081</td>\n",
       "      <td>0.024089</td>\n",
       "      <td>0.755842</td>\n",
       "      <td>0.186947</td>\n",
       "      <td>0.028517</td>\n",
       "      <td>0.918257</td>\n",
       "      <td>0.036056</td>\n",
       "      <td>0.226667</td>\n",
       "      <td>0.219473</td>\n",
       "      <td>0.034372</td>\n",
       "      <td>0.009321</td>\n",
       "      <td>0.011182</td>\n",
       "    </tr>\n",
       "    <tr>\n",
       "      <th>2</th>\n",
       "      <td>0.233276</td>\n",
       "      <td>0.091316</td>\n",
       "      <td>0.027746</td>\n",
       "      <td>0.098913</td>\n",
       "      <td>0.018666</td>\n",
       "      <td>0.518060</td>\n",
       "      <td>0.193090</td>\n",
       "      <td>0.051159</td>\n",
       "      <td>1.185225</td>\n",
       "      <td>0.028638</td>\n",
       "      <td>0.100683</td>\n",
       "      <td>0.115928</td>\n",
       "      <td>0.022245</td>\n",
       "      <td>0.007538</td>\n",
       "      <td>0.012188</td>\n",
       "    </tr>\n",
       "    <tr>\n",
       "      <th>3</th>\n",
       "      <td>0.229853</td>\n",
       "      <td>0.376017</td>\n",
       "      <td>0.035184</td>\n",
       "      <td>0.180262</td>\n",
       "      <td>0.020168</td>\n",
       "      <td>0.468415</td>\n",
       "      <td>0.239835</td>\n",
       "      <td>0.026606</td>\n",
       "      <td>0.437942</td>\n",
       "      <td>0.028503</td>\n",
       "      <td>0.098635</td>\n",
       "      <td>0.130392</td>\n",
       "      <td>0.038701</td>\n",
       "      <td>0.010107</td>\n",
       "      <td>0.012131</td>\n",
       "    </tr>\n",
       "    <tr>\n",
       "      <th>4</th>\n",
       "      <td>0.215042</td>\n",
       "      <td>0.184109</td>\n",
       "      <td>0.034811</td>\n",
       "      <td>0.156145</td>\n",
       "      <td>0.021456</td>\n",
       "      <td>0.710235</td>\n",
       "      <td>0.125418</td>\n",
       "      <td>0.033166</td>\n",
       "      <td>0.675800</td>\n",
       "      <td>0.014105</td>\n",
       "      <td>0.194621</td>\n",
       "      <td>0.192025</td>\n",
       "      <td>0.013868</td>\n",
       "      <td>0.007808</td>\n",
       "      <td>0.010770</td>\n",
       "    </tr>\n",
       "    <tr>\n",
       "      <th>...</th>\n",
       "      <td>...</td>\n",
       "      <td>...</td>\n",
       "      <td>...</td>\n",
       "      <td>...</td>\n",
       "      <td>...</td>\n",
       "      <td>...</td>\n",
       "      <td>...</td>\n",
       "      <td>...</td>\n",
       "      <td>...</td>\n",
       "      <td>...</td>\n",
       "      <td>...</td>\n",
       "      <td>...</td>\n",
       "      <td>...</td>\n",
       "      <td>...</td>\n",
       "      <td>...</td>\n",
       "    </tr>\n",
       "    <tr>\n",
       "      <th>95</th>\n",
       "      <td>0.228587</td>\n",
       "      <td>0.112126</td>\n",
       "      <td>0.024815</td>\n",
       "      <td>0.152591</td>\n",
       "      <td>0.033539</td>\n",
       "      <td>0.645471</td>\n",
       "      <td>0.161160</td>\n",
       "      <td>0.018130</td>\n",
       "      <td>1.014669</td>\n",
       "      <td>0.037426</td>\n",
       "      <td>0.076267</td>\n",
       "      <td>0.251210</td>\n",
       "      <td>0.040986</td>\n",
       "      <td>0.011616</td>\n",
       "      <td>0.011786</td>\n",
       "    </tr>\n",
       "    <tr>\n",
       "      <th>96</th>\n",
       "      <td>0.258381</td>\n",
       "      <td>0.113404</td>\n",
       "      <td>0.029177</td>\n",
       "      <td>0.245454</td>\n",
       "      <td>0.024487</td>\n",
       "      <td>0.584348</td>\n",
       "      <td>0.078774</td>\n",
       "      <td>0.023671</td>\n",
       "      <td>1.317520</td>\n",
       "      <td>0.013137</td>\n",
       "      <td>0.161845</td>\n",
       "      <td>0.356355</td>\n",
       "      <td>0.019776</td>\n",
       "      <td>0.011145</td>\n",
       "      <td>0.011727</td>\n",
       "    </tr>\n",
       "    <tr>\n",
       "      <th>97</th>\n",
       "      <td>0.161189</td>\n",
       "      <td>0.105852</td>\n",
       "      <td>0.032948</td>\n",
       "      <td>0.181958</td>\n",
       "      <td>0.017439</td>\n",
       "      <td>1.139782</td>\n",
       "      <td>0.137505</td>\n",
       "      <td>0.021880</td>\n",
       "      <td>0.709870</td>\n",
       "      <td>0.022581</td>\n",
       "      <td>0.202809</td>\n",
       "      <td>0.132206</td>\n",
       "      <td>0.040430</td>\n",
       "      <td>0.010024</td>\n",
       "      <td>0.011213</td>\n",
       "    </tr>\n",
       "    <tr>\n",
       "      <th>98</th>\n",
       "      <td>0.209235</td>\n",
       "      <td>0.107758</td>\n",
       "      <td>0.020393</td>\n",
       "      <td>0.166253</td>\n",
       "      <td>0.037528</td>\n",
       "      <td>0.780090</td>\n",
       "      <td>0.166360</td>\n",
       "      <td>0.047834</td>\n",
       "      <td>0.770037</td>\n",
       "      <td>0.015527</td>\n",
       "      <td>0.165122</td>\n",
       "      <td>0.155566</td>\n",
       "      <td>0.024188</td>\n",
       "      <td>0.009111</td>\n",
       "      <td>0.011232</td>\n",
       "    </tr>\n",
       "    <tr>\n",
       "      <th>99</th>\n",
       "      <td>0.393780</td>\n",
       "      <td>0.144789</td>\n",
       "      <td>0.050124</td>\n",
       "      <td>0.228941</td>\n",
       "      <td>0.029421</td>\n",
       "      <td>0.619430</td>\n",
       "      <td>0.113881</td>\n",
       "      <td>0.028190</td>\n",
       "      <td>0.647701</td>\n",
       "      <td>0.024740</td>\n",
       "      <td>0.120247</td>\n",
       "      <td>0.163809</td>\n",
       "      <td>0.026317</td>\n",
       "      <td>0.013271</td>\n",
       "      <td>0.011436</td>\n",
       "    </tr>\n",
       "  </tbody>\n",
       "</table>\n",
       "<p>100 rows × 15 columns</p>\n",
       "</div>"
      ],
      "text/plain": [
       "    A2_bitumen_t  A2_weakfiller_t  A2_ownmaterial_t  A2_ownmaterial_iv  \\\n",
       "0       0.240731         0.216232          0.019869           0.138912   \n",
       "1       0.281821         0.123914          0.051548           0.086081   \n",
       "2       0.233276         0.091316          0.027746           0.098913   \n",
       "3       0.229853         0.376017          0.035184           0.180262   \n",
       "4       0.215042         0.184109          0.034811           0.156145   \n",
       "..           ...              ...               ...                ...   \n",
       "95      0.228587         0.112126          0.024815           0.152591   \n",
       "96      0.258381         0.113404          0.029177           0.245454   \n",
       "97      0.161189         0.105852          0.032948           0.181958   \n",
       "98      0.209235         0.107758          0.020393           0.166253   \n",
       "99      0.393780         0.144789          0.050124           0.228941   \n",
       "\n",
       "    A2_crushedstone_t  A2_crushedstone_iv  A2_modbitumen_t  A2_crushedsand_t  \\\n",
       "0            0.021743            0.872891         0.122734          0.027653   \n",
       "1            0.024089            0.755842         0.186947          0.028517   \n",
       "2            0.018666            0.518060         0.193090          0.051159   \n",
       "3            0.020168            0.468415         0.239835          0.026606   \n",
       "4            0.021456            0.710235         0.125418          0.033166   \n",
       "..                ...                 ...              ...               ...   \n",
       "95           0.033539            0.645471         0.161160          0.018130   \n",
       "96           0.024487            0.584348         0.078774          0.023671   \n",
       "97           0.017439            1.139782         0.137505          0.021880   \n",
       "98           0.037528            0.780090         0.166360          0.047834   \n",
       "99           0.029421            0.619430         0.113881          0.028190   \n",
       "\n",
       "    A2_crushedsand_iv  A2_naturalsand_t  A2_naturalsand_iv  \\\n",
       "0            0.762961          0.043439           0.150795   \n",
       "1            0.918257          0.036056           0.226667   \n",
       "2            1.185225          0.028638           0.100683   \n",
       "3            0.437942          0.028503           0.098635   \n",
       "4            0.675800          0.014105           0.194621   \n",
       "..                ...               ...                ...   \n",
       "95           1.014669          0.037426           0.076267   \n",
       "96           1.317520          0.013137           0.161845   \n",
       "97           0.709870          0.022581           0.202809   \n",
       "98           0.770037          0.015527           0.165122   \n",
       "99           0.647701          0.024740           0.120247   \n",
       "\n",
       "    A2_dripresistantmaterial_t  A4_distance_EURO5  A4_distance_EURO6  \\\n",
       "0                     0.112008           0.030365           0.026202   \n",
       "1                     0.219473           0.034372           0.009321   \n",
       "2                     0.115928           0.022245           0.007538   \n",
       "3                     0.130392           0.038701           0.010107   \n",
       "4                     0.192025           0.013868           0.007808   \n",
       "..                         ...                ...                ...   \n",
       "95                    0.251210           0.040986           0.011616   \n",
       "96                    0.356355           0.019776           0.011145   \n",
       "97                    0.132206           0.040430           0.010024   \n",
       "98                    0.155566           0.024188           0.009111   \n",
       "99                    0.163809           0.026317           0.013271   \n",
       "\n",
       "    A5_construction  \n",
       "0          0.011105  \n",
       "1          0.011182  \n",
       "2          0.012188  \n",
       "3          0.012131  \n",
       "4          0.010770  \n",
       "..              ...  \n",
       "95         0.011786  \n",
       "96         0.011727  \n",
       "97         0.011213  \n",
       "98         0.011232  \n",
       "99         0.011436  \n",
       "\n",
       "[100 rows x 15 columns]"
      ]
     },
     "execution_count": 36,
     "metadata": {},
     "output_type": "execute_result"
    }
   ],
   "source": [
    "samples"
   ]
  },
  {
   "cell_type": "markdown",
   "id": "27ad8298-b59f-44aa-bea0-e323f5bfcc8b",
   "metadata": {},
   "source": [
    "### Link samples to exchanges\n",
    "\n",
    "Once obtained the samples, we need to link them to the respective exchange. To do so, we need the two functions below (NOTE: you do not have to change something in these functions):"
   ]
  },
  {
   "cell_type": "code",
   "execution_count": 37,
   "id": "f56e47ae-032b-437a-882b-33edbeb46efe",
   "metadata": {},
   "outputs": [],
   "source": [
    "def exchange_coords(exchange):\n",
    "    \"\"\"create a tuple with the numerical ids of the input and output activites of an exchange.\"\"\"\n",
    "    input_activity = bd.get_activity(exchange[\"input\"])\n",
    "    output_activity = bd.get_activity(exchange[\"output\"])\n",
    "    return (input_activity.id, output_activity.id)"
   ]
  },
  {
   "cell_type": "code",
   "execution_count": 38,
   "id": "9c2a3318-d955-47d9-9db0-08eef4285f3c",
   "metadata": {},
   "outputs": [],
   "source": [
    "def build_coords_sample(activities, samples_df):\n",
    "    \"\"\"Build the coords + sample dictionnary for all concerned activities.\"\"\"\n",
    "    \n",
    "    coords_samples_map = {}\n",
    "\n",
    "    counter = 0\n",
    "\n",
    "    for activity in activities:\n",
    "        exchanges = activity.technosphere()\n",
    "        for exchange in exchanges:\n",
    "            exchanges_dict = exchange.as_dict()\n",
    "            if \"comments\" in exchanges_dict:\n",
    "                col_name = exchanges_dict[\"comments\"]\n",
    "                coords = exchange_coords(exchange)\n",
    "                counter += 1\n",
    "                print(f\"{counter}. {exchange}\\n\\t 👉 {coords} to {col_name}\")\n",
    "                coords_samples_map[exchange_coords(exchange)] = samples_df[\n",
    "                    col_name\n",
    "                ].values  # numpy.ndarray\n",
    "    return coords_samples_map\n"
   ]
  },
  {
   "cell_type": "markdown",
   "id": "19c0339e-707d-470e-b838-4dd2bea08b13",
   "metadata": {},
   "source": [
    "Below we will group in a list called 'activities' all activities for which we are going to consider the uncertainties in the exchanges:"
   ]
  },
  {
   "cell_type": "code",
   "execution_count": 39,
   "id": "d9729b1f-1286-401a-871b-436c9923dd8d",
   "metadata": {},
   "outputs": [
    {
     "data": {
      "text/plain": [
       "['bitumen, production and transport' (kilogram, NL, None),\n",
       " 'weak filler, production and transport' (kilogram, NL, None),\n",
       " 'other fillers, production and transport' (kilogram, NL, None),\n",
       " 'crushed stone, production and transport' (kilogram, NL, None),\n",
       " 'modified bitumen, production and transport' (kilogram, NL, None),\n",
       " 'crushed sand, production and transport' (kilogram, NL, None),\n",
       " 'natural sand, production and transport' (kilogram, NL, None),\n",
       " 'drip resistant material, production and transport' (kilogram, NL, None),\n",
       " 'asphalt, transport to site' (kilogram, NL, None),\n",
       " 'asphalt, construction' (kilogram, NL, None)]"
      ]
     },
     "execution_count": 39,
     "metadata": {},
     "output_type": "execute_result"
    }
   ],
   "source": [
    "# Group activity variables\n",
    "activities = transport_a2 + transport_a4 + construction_a5\n",
    "activities"
   ]
  },
  {
   "cell_type": "markdown",
   "id": "5d2f3a19-b856-47d6-95f8-98e50efc0d08",
   "metadata": {},
   "source": [
    "We can now run the function introduced above using as argument the activities that contain the parameters for which we consider the uncertainties and the samples generated with LHS:"
   ]
  },
  {
   "cell_type": "code",
   "execution_count": 40,
   "id": "fa841442-9c43-4b73-9c56-496cea76a518",
   "metadata": {},
   "outputs": [
    {
     "name": "stdout",
     "output_type": "stream",
     "text": [
      "1. Exchange: 0.25 ton kilometer 'market for transport, freight, lorry, unspecified' (ton kilometer, RER, None) to 'bitumen, production and transport' (kilogram, NL, None)>\n",
      "\t 👉 (18370, 25951) to A2_bitumen_t\n",
      "2. Exchange: 0.136 ton kilometer 'market for transport, freight, lorry, unspecified' (ton kilometer, RER, None) to 'weak filler, production and transport' (kilogram, NL, None)>\n",
      "\t 👉 (18370, 25957) to A2_weakfiller_t\n",
      "3. Exchange: 0.025 ton kilometer 'market for transport, freight, lorry, unspecified' (ton kilometer, RER, None) to 'other fillers, production and transport' (kilogram, NL, None)>\n",
      "\t 👉 (18370, 25955) to A2_ownmaterial_t\n",
      "4. Exchange: 0.15 ton kilometer 'market for transport, freight, inland waterways, barge' (ton kilometer, RER, None) to 'other fillers, production and transport' (kilogram, NL, None)>\n",
      "\t 👉 (9408, 25955) to A2_ownmaterial_iv\n",
      "5. Exchange: 0.025 ton kilometer 'market for transport, freight, lorry, unspecified' (ton kilometer, RER, None) to 'crushed stone, production and transport' (kilogram, NL, None)>\n",
      "\t 👉 (18370, 25953) to A2_crushedstone_t\n",
      "6. Exchange: 0.66 ton kilometer 'market for transport, freight, inland waterways, barge' (ton kilometer, RER, None) to 'crushed stone, production and transport' (kilogram, NL, None)>\n",
      "\t 👉 (9408, 25953) to A2_crushedstone_iv\n",
      "7. Exchange: 0.15 ton kilometer 'market for transport, freight, lorry, unspecified' (ton kilometer, RER, None) to 'modified bitumen, production and transport' (kilogram, NL, None)>\n",
      "\t 👉 (18370, 25952) to A2_modbitumen_t\n",
      "8. Exchange: 0.025 ton kilometer 'market for transport, freight, lorry, unspecified' (ton kilometer, RER, None) to 'crushed sand, production and transport' (kilogram, NL, None)>\n",
      "\t 👉 (18370, 25954) to A2_crushedsand_t\n",
      "9. Exchange: 0.66 ton kilometer 'market for transport, freight, inland waterways, barge' (ton kilometer, RER, None) to 'crushed sand, production and transport' (kilogram, NL, None)>\n",
      "\t 👉 (9408, 25954) to A2_crushedsand_iv\n",
      "10. Exchange: 0.025 ton kilometer 'market for transport, freight, lorry, unspecified' (ton kilometer, RER, None) to 'natural sand, production and transport' (kilogram, NL, None)>\n",
      "\t 👉 (18370, 25956) to A2_naturalsand_t\n",
      "11. Exchange: 0.15 ton kilometer 'market for transport, freight, inland waterways, barge' (ton kilometer, RER, None) to 'natural sand, production and transport' (kilogram, NL, None)>\n",
      "\t 👉 (9408, 25956) to A2_naturalsand_iv\n",
      "12. Exchange: 0.177 ton kilometer 'market for transport, freight, lorry, unspecified' (ton kilometer, RER, None) to 'drip resistant material, production and transport' (kilogram, NL, None)>\n",
      "\t 👉 (18370, 25958) to A2_dripresistantmaterial_t\n",
      "13. Exchange: 0.033299999999999996 ton kilometer 'transport, freight, lorry >32 metric ton, EURO5' (ton kilometer, RER, None) to 'asphalt, transport to site' (kilogram, NL, None)>\n",
      "\t 👉 (16115, 25969) to A4_distance_EURO5\n",
      "14. Exchange: 0.0111 ton kilometer 'transport, freight, lorry >32 metric ton, EURO6' (ton kilometer, RER, None) to 'asphalt, transport to site' (kilogram, NL, None)>\n",
      "\t 👉 (8986, 25969) to A4_distance_EURO6\n",
      "15. Exchange: 0.011460000000000001 megajoule 'diesel, burned in building machine' (megajoule, GLO, None) to 'asphalt, construction' (kilogram, NL, None)>\n",
      "\t 👉 (18987, 25970) to A5_construction\n"
     ]
    }
   ],
   "source": [
    "coords_samples_map = build_coords_sample(activities, samples)"
   ]
  },
  {
   "cell_type": "code",
   "execution_count": 41,
   "id": "24a9039f-4d3d-417b-9cdd-200a34af30fc",
   "metadata": {
    "scrolled": true
   },
   "outputs": [
    {
     "name": "stdout",
     "output_type": "stream",
     "text": [
      "1. (18370, 25951) --array-> [0.2407306  0.2818213  0.23327626 0.22985282 0.21504215 0.37756883\n",
      " 0.18171615 0.32213153 0.22413467 0.25255197 0.30317083 0.11463125\n",
      " 0.36181893 0.27304801 0.25635554 0.37245705 0.2851398  0.15661034\n",
      " 0.29056603 0.26816546 0.32706594 0.39019653 0.45080815 0.32494084\n",
      " 0.13202638 0.41012416 0.27694376 0.55251322 0.19504467 0.17538282\n",
      " 0.40191319 0.20680536 0.27079507 0.23826182 0.44252342 0.19325286\n",
      " 0.2176583  0.14930909 0.4663402  0.42827967 0.29390586 0.15988078\n",
      " 0.1070409  0.61780239 0.27007179 0.13767596 0.18469734 0.24571781\n",
      " 0.24333955 0.15283585 0.20513919 0.24821242 0.24418661 0.22678072\n",
      " 0.21953348 0.34534654 0.21125969 0.33583467 0.21267771 0.30680795\n",
      " 0.33482471 0.16848233 0.19672677 0.34355836 0.19009348 0.29425709\n",
      " 0.31797749 0.26542574 0.16488151 0.31446306 0.25011044 0.28728166\n",
      " 0.17802893 0.20276274 0.31112379 0.18885453 0.2802809  0.17286467\n",
      " 0.18338848 0.25917992 0.23529551 0.26154535 0.29897    0.30072727\n",
      " 0.19928095 0.34837645 0.3541703  0.12453562 0.22214967 0.48625865\n",
      " 0.16930614 0.14403463 0.23146147 0.36720724 0.20165741 0.22858736\n",
      " 0.258381   0.1611887  0.20923539 0.39377984]\n",
      "2. (18370, 25957) --array-> [0.21623182 0.12391434 0.09131551 0.37601701 0.18410897 0.16251484\n",
      " 0.14760689 0.10431864 0.1675411  0.13044285 0.1973233  0.09893483\n",
      " 0.17725695 0.17362741 0.20121985 0.12705112 0.13778207 0.14617037\n",
      " 0.1335818  0.15625519 0.12881341 0.25811782 0.07864419 0.12096576\n",
      " 0.10235437 0.04488314 0.11496137 0.10672749 0.18590249 0.24067017\n",
      " 0.20045788 0.11676409 0.09560229 0.17026452 0.11004688 0.18992612\n",
      " 0.17392139 0.18890407 0.12540748 0.29808452 0.18083711 0.09275554\n",
      " 0.15798181 0.08859394 0.12177544 0.06529558 0.08657051 0.27182496\n",
      " 0.20511246 0.22160442 0.14238867 0.13886534 0.0962847  0.16343797\n",
      " 0.15972948 0.09941887 0.14127749 0.066965   0.24146431 0.22736113\n",
      " 0.11834383 0.17850787 0.14956301 0.15301673 0.13159925 0.12919625\n",
      " 0.13652833 0.1690296  0.07348417 0.10958442 0.14995445 0.15242359\n",
      " 0.07619927 0.12644978 0.08422042 0.10135665 0.1128421  0.12297761\n",
      " 0.08263863 0.13396043 0.11665263 0.13526953 0.15424793 0.13970993\n",
      " 0.16044937 0.20984039 0.08933131 0.16585322 0.14392055 0.22133206\n",
      " 0.19386253 0.09381715 0.07993213 0.11966955 0.10307552 0.11212609\n",
      " 0.11340398 0.10585167 0.10775793 0.14478889]\n",
      "3. (18370, 25955) --array-> [0.01986937 0.05154773 0.02774587 0.03518405 0.03481106 0.02224906\n",
      " 0.02458113 0.02607593 0.0210647  0.0233689  0.04094463 0.01195704\n",
      " 0.02306006 0.02246665 0.01443073 0.01371624 0.01320009 0.01719509\n",
      " 0.03900045 0.01542151 0.03126419 0.01650315 0.03079851 0.02723923\n",
      " 0.02418863 0.03234268 0.01914195 0.03373151 0.02618889 0.02139264\n",
      " 0.02899222 0.01517663 0.02742679 0.04029756 0.01833465 0.03595229\n",
      " 0.0433392  0.02501915 0.01973093 0.02086694 0.06262586 0.01757855\n",
      " 0.02410834 0.02805536 0.02261425 0.02822925 0.0364855  0.01705463\n",
      " 0.03553049 0.01903835 0.01470828 0.02386002 0.03166786 0.02454693\n",
      " 0.01236907 0.04586896 0.01690134 0.03310359 0.0184919  0.03942241\n",
      " 0.03055424 0.02545355 0.01800045 0.02665525 0.0220235  0.02075809\n",
      " 0.01953166 0.01582699 0.02326238 0.04278282 0.0283547  0.03014657\n",
      " 0.0235438  0.04620469 0.01112589 0.02638274 0.01605284 0.02164626\n",
      " 0.0252623  0.03720851 0.02182681 0.03200919 0.02281655 0.02014003\n",
      " 0.02577518 0.037787   0.02996618 0.03416227 0.02951143 0.01783397\n",
      " 0.03115137 0.02704989 0.01880731 0.02882414 0.0206197  0.02481515\n",
      " 0.02917698 0.03294828 0.02039267 0.05012438]\n",
      "4. (9408, 25955) --array-> [0.13891196 0.08608139 0.09891346 0.18026176 0.15614509 0.08921104\n",
      " 0.11738652 0.14404347 0.12264013 0.111129   0.14506157 0.10549437\n",
      " 0.29925218 0.11733944 0.15501902 0.14768714 0.16186951 0.23713659\n",
      " 0.15100513 0.13856088 0.19139851 0.11523713 0.16298231 0.16512478\n",
      " 0.18574054 0.14291364 0.09190626 0.33264689 0.33746929 0.14911693\n",
      " 0.17866991 0.17357077 0.12198978 0.17150198 0.11378383 0.07794984\n",
      " 0.09523002 0.13732642 0.20942901 0.10028771 0.19732783 0.13458782\n",
      " 0.22053386 0.09232065 0.17716792 0.19310552 0.15280689 0.1595658\n",
      " 0.28389593 0.14037169 0.13002414 0.15724242 0.14110823 0.20214847\n",
      " 0.17116553 0.19899992 0.1698224  0.20882195 0.21459768 0.24335955\n",
      " 0.12481916 0.10774334 0.19494525 0.10317539 0.14738148 0.26429249\n",
      " 0.13219616 0.17567423 0.25575146 0.12900573 0.13559277 0.10946873\n",
      " 0.22533891 0.12081811 0.07078839 0.21737319 0.10299288 0.23212908\n",
      " 0.20613874 0.18932335 0.27035273 0.11213612 0.12601363 0.09791165\n",
      " 0.08185252 0.18475457 0.16756758 0.1282758  0.15910434 0.13343686\n",
      " 0.06632866 0.07884501 0.12636554 0.10649811 0.11881008 0.15259145\n",
      " 0.24545359 0.18195806 0.1662531  0.22894066]\n",
      "5. (18370, 25953) --array-> [0.02174298 0.02408894 0.01866616 0.02016846 0.02145579 0.06425417\n",
      " 0.02465861 0.0190555  0.01616809 0.03425511 0.03316473 0.04905236\n",
      " 0.02929555 0.03131442 0.02731284 0.01390807 0.01353226 0.01997198\n",
      " 0.0319862  0.02293275 0.02515014 0.02231475 0.01824973 0.03695525\n",
      " 0.01239704 0.03858876 0.03437445 0.02719433 0.02254502 0.02271035\n",
      " 0.03058911 0.0419199  0.0287897  0.04030844 0.03280641 0.01758847\n",
      " 0.0107693  0.03788194 0.03027407 0.02044579 0.03494525 0.02898744\n",
      " 0.01490388 0.03588561 0.01935713 0.02616956 0.04735943 0.02390594\n",
      " 0.02416882 0.03193902 0.01652952 0.01671075 0.03073223 0.01558472\n",
      " 0.02537021 0.02580554 0.02669237 0.02497673 0.02651494 0.0179646\n",
      " 0.01585721 0.02807025 0.02551794 0.01774254 0.03544146 0.01504462\n",
      " 0.01218446 0.02217454 0.01964661 0.02151971 0.02369014 0.02699728\n",
      " 0.01843241 0.03096897 0.0193251  0.02069556 0.02788622 0.0298338\n",
      " 0.02772445 0.02187926 0.04141013 0.03977156 0.02342591 0.0209522\n",
      " 0.02311316 0.04448086 0.01443017 0.03250255 0.02601316 0.01715183\n",
      " 0.02030125 0.02836823 0.05332029 0.02112614 0.04414713 0.03353897\n",
      " 0.02448728 0.0174391  0.03752847 0.02942114]\n",
      "6. (9408, 25953) --array-> [0.87289102 0.75584164 0.51806037 0.4684151  0.71023538 0.61504155\n",
      " 0.52447997 0.39327648 0.44627147 1.03797348 0.69209866 0.78672946\n",
      " 0.699974   0.67230151 1.31189837 0.43169404 1.35626302 0.80635998\n",
      " 0.97964996 1.0606779  0.70538668 0.84541555 0.49072259 0.49430244\n",
      " 0.89034945 0.62958168 0.57314968 0.63771396 0.75224483 0.76475061\n",
      " 0.51123966 0.54414444 0.52896743 0.42723607 0.96779898 0.55805655\n",
      " 0.77562513 1.20249347 0.68040427 0.68447572 0.72758233 0.65917338\n",
      " 0.81955411 0.39680351 1.65579298 0.59909891 0.7472076  0.53437375\n",
      " 0.51006731 0.45421455 0.79513668 0.99668718 0.37874416 0.95363848\n",
      " 0.5679576  0.48328444 1.12970261 0.73875137 0.71897962 0.60889832\n",
      " 0.44416292 0.81100989 0.66466868 0.36339779 0.31286304 0.34848807\n",
      " 0.63410696 0.66755105 0.623288   0.15911859 0.83916349 0.55150352\n",
      " 0.64865693 0.88034494 0.4085425  0.92690375 0.93860649 0.89903982\n",
      " 1.07584338 0.59233104 0.54743748 0.59463044 0.46666877 0.8593525\n",
      " 0.58199395 0.9184593  0.72094077 0.49967273 1.01603795 1.23518046\n",
      " 0.33433872 0.56566835 0.47423232 0.82890131 0.41694471 0.64547123\n",
      " 0.58434778 1.13978194 0.78009039 0.61942998]\n",
      "7. (18370, 25952) --array-> [0.12273363 0.18694705 0.19308988 0.2398345  0.1254181  0.1400408\n",
      " 0.23103939 0.13050018 0.11981102 0.08904606 0.1832202  0.11195553\n",
      " 0.07543435 0.17902207 0.09251979 0.1853464  0.12247693 0.1331712\n",
      " 0.18759646 0.10216976 0.15541298 0.06511617 0.10363893 0.090148\n",
      " 0.21603436 0.2485847  0.15130978 0.31139957 0.14128787 0.13514389\n",
      " 0.19469117 0.09724406 0.11866145 0.11654    0.10100038 0.27164632\n",
      " 0.11588165 0.22765638 0.20128689 0.10487816 0.26316518 0.2082183\n",
      " 0.15140491 0.14669429 0.13702408 0.35156694 0.28320648 0.13887184\n",
      " 0.14400317 0.10979623 0.23600837 0.09822943 0.17369194 0.12006741\n",
      " 0.12413732 0.16939335 0.17741702 0.16015699 0.12823399 0.1571186\n",
      " 0.14525385 0.07318961 0.16408953 0.29921562 0.18023441 0.1314838\n",
      " 0.20511063 0.15818453 0.09435767 0.08717917 0.10758041 0.12649536\n",
      " 0.17211088 0.12933144 0.21311623 0.08271838 0.19926885 0.19840472\n",
      " 0.17036795 0.21058011 0.14267951 0.16746425 0.19127527 0.1630285\n",
      " 0.22201308 0.17543001 0.15398719 0.11215611 0.14967264 0.13425547\n",
      " 0.15294422 0.25128372 0.10833364 0.21849355 0.14780006 0.16115962\n",
      " 0.07877354 0.13750469 0.16635995 0.11388115]\n",
      "8. (18370, 25954) --array-> [0.02765259 0.02851727 0.05115943 0.02660576 0.0331662  0.02644955\n",
      " 0.0244742  0.04911526 0.03101768 0.01823856 0.03050026 0.01870209\n",
      " 0.02477345 0.01207633 0.04070803 0.03209066 0.01549675 0.01713774\n",
      " 0.0202342  0.03366355 0.02628269 0.04437354 0.02782861 0.02015067\n",
      " 0.03011725 0.01734634 0.0348307  0.03143989 0.02880894 0.02720939\n",
      " 0.03166955 0.02059448 0.01522534 0.02703822 0.01662456 0.04235636\n",
      " 0.01587023 0.03305614 0.02593965 0.02224568 0.02104543 0.06212763\n",
      " 0.03578426 0.02266231 0.01938581 0.01622379 0.02276208 0.03964434\n",
      " 0.01237268 0.01853797 0.02734855 0.03605088 0.02339057 0.02481008\n",
      " 0.01771027 0.03878078 0.03067415 0.0199359  0.02584655 0.02088035\n",
      " 0.02420146 0.01924813 0.03820423 0.02164855 0.01418905 0.02068882\n",
      " 0.04090048 0.03457273 0.02393205 0.02145301 0.01494001 0.02946175\n",
      " 0.02174125 0.03238126 0.01901883 0.02247807 0.02299469 0.01410985\n",
      " 0.01970714 0.02921617 0.02510715 0.02324636 0.02555919 0.03402078\n",
      " 0.02532394 0.04332765 0.01095969 0.02391664 0.0374685  0.03691491\n",
      " 0.01759039 0.01659204 0.01304411 0.02905833 0.02997217 0.0181305\n",
      " 0.02367075 0.02188019 0.04783393 0.02819036]\n",
      "9. (9408, 25954) --array-> [0.76296074 0.91825743 1.18522527 0.43794246 0.67579985 0.70495026\n",
      " 0.46455617 0.82159757 0.6373321  0.32264396 0.69122176 0.48395256\n",
      " 0.45094285 0.25881406 0.51528904 0.7966606  0.37989666 1.14165088\n",
      " 0.40883081 0.59533438 0.68517685 0.9307526  0.73982772 0.67794989\n",
      " 0.46919944 0.6207197  1.1068663  0.71600666 0.84688421 0.72733847\n",
      " 0.88015024 0.50592613 0.5506194  0.95832544 0.40143564 0.45900199\n",
      " 0.48770004 0.6148906  0.86018328 1.0802106  0.49420294 0.54825254\n",
      " 0.80890296 0.74742586 0.90500505 0.76017964 0.57772505 0.53411964\n",
      " 0.56716309 0.699199   0.58404921 1.72656066 0.72120086 0.50189786\n",
      " 0.83260948 0.36424312 0.51917303 0.34108382 0.57379716 0.44538501\n",
      " 1.06846076 0.66427194 0.5401895  0.56209764 0.47381895 0.80762471\n",
      " 1.04929111 0.38626447 0.62224751 0.42992934 0.83778873 0.60456705\n",
      " 0.35197956 0.62672789 0.99697062 0.64038424 0.79187947 0.98669827\n",
      " 0.59207637 0.9387458  0.75418151 0.66952737 1.40636615 0.55689912\n",
      " 0.60404709 0.65524526 0.52649073 0.78251462 1.23376903 0.87177239\n",
      " 0.42173777 0.88675654 0.96658652 0.52991146 0.65351399 1.01466919\n",
      " 1.31752028 0.70987012 0.77003704 0.64770075]\n",
      "10. (18370, 25956) --array-> [0.04343858 0.03605564 0.02863826 0.02850304 0.01410455 0.02314743\n",
      " 0.02192462 0.02162696 0.03203666 0.01646837 0.01598547 0.02684547\n",
      " 0.02222618 0.0460554  0.01847378 0.02518222 0.02964216 0.02644713\n",
      " 0.00790061 0.04172348 0.02746086 0.02535288 0.02169714 0.01628157\n",
      " 0.03835409 0.03522177 0.0230655  0.0189859  0.04053601 0.01491929\n",
      " 0.02717262 0.02246697 0.06000929 0.02447655 0.0315879  0.03245184\n",
      " 0.02940752 0.02888237 0.03352311 0.0228427  0.01727203 0.01670588\n",
      " 0.03025717 0.03477236 0.02112782 0.02342723 0.05284683 0.01277915\n",
      " 0.02085598 0.03657885 0.01973534 0.02374432 0.0267768  0.02830498\n",
      " 0.03285242 0.01163584 0.01448763 0.01872406 0.0213282  0.03346741\n",
      " 0.02993407 0.02079852 0.01705596 0.0194723  0.03064669 0.03567339\n",
      " 0.02415157 0.0279332  0.02366184 0.02581713 0.01753742 0.04934669\n",
      " 0.04548932 0.0200648  0.01819359 0.03103008 0.02408232 0.03973004\n",
      " 0.02757635 0.01816079 0.0204649  0.04286806 0.0342813  0.02563415\n",
      " 0.02610275 0.03058005 0.02029835 0.01780879 0.02490118 0.01531222\n",
      " 0.03188266 0.0378965  0.02614282 0.01915875 0.01984389 0.03742601\n",
      " 0.01313661 0.02258072 0.01552661 0.02473981]\n",
      "11. (9408, 25956) --array-> [0.15079476 0.22666739 0.10068304 0.09863466 0.1946214  0.1740238\n",
      " 0.10569353 0.15157957 0.11503473 0.10861693 0.22428095 0.16246004\n",
      " 0.36477883 0.08042815 0.13906045 0.08998553 0.2056038  0.28774137\n",
      " 0.11453742 0.12491038 0.26338798 0.08589327 0.088678   0.17639714\n",
      " 0.17912459 0.11821639 0.12883609 0.2109319  0.1329573  0.12330461\n",
      " 0.14437816 0.23828467 0.18742766 0.26888479 0.33538873 0.18138124\n",
      " 0.25494822 0.13436462 0.17098912 0.14026649 0.12733699 0.1313911\n",
      " 0.10937209 0.14567871 0.19233917 0.16632321 0.09757194 0.08298835\n",
      " 0.11621916 0.10365299 0.13587819 0.13652528 0.23186625 0.06750078\n",
      " 0.17231252 0.15753049 0.15457243 0.1027687  0.11882888 0.21772849\n",
      " 0.18537689 0.11227015 0.14256333 0.2203557  0.15602087 0.21381571\n",
      " 0.13848082 0.14868587 0.09287813 0.17776693 0.14675141 0.12197003\n",
      " 0.20752659 0.09504539 0.12781059 0.29935941 0.24714404 0.15831045\n",
      " 0.12573061 0.19125727 0.06053487 0.14942259 0.1411578  0.15387863\n",
      " 0.13020331 0.18340539 0.11070066 0.20064219 0.16885092 0.16689305\n",
      " 0.18851921 0.19779182 0.1598362  0.10764565 0.24242649 0.07626677\n",
      " 0.16184487 0.20280869 0.16512188 0.12024712]\n",
      "12. (18370, 25958) --array-> [0.11200815 0.21947304 0.11592752 0.13039193 0.19202536 0.23298027\n",
      " 0.15169193 0.13110126 0.18922051 0.17367119 0.2030658  0.38652008\n",
      " 0.24847281 0.18575539 0.10920939 0.19582478 0.1873538  0.23769913\n",
      " 0.22187795 0.10124737 0.17554985 0.17407054 0.11454614 0.28887675\n",
      " 0.28103679 0.0974981  0.24295833 0.1975295  0.25724385 0.22518313\n",
      " 0.22665788 0.16528162 0.12242826 0.15997067 0.30832738 0.14191295\n",
      " 0.09199373 0.09456694 0.14760903 0.11903243 0.27081417 0.32668038\n",
      " 0.19412114 0.12107305 0.31423986 0.07319699 0.29601685 0.14067338\n",
      " 0.18052353 0.14559831 0.13846268 0.1777185  0.20909691 0.12701949\n",
      " 0.21181426 0.26144171 0.13690354 0.46059538 0.17926094 0.10844022\n",
      " 0.21764311 0.18485336 0.24607746 0.15763976 0.28227355 0.10517361\n",
      " 0.07986129 0.23652678 0.21455181 0.1607278  0.16213494 0.15261428\n",
      " 0.21335622 0.12777563 0.15429204 0.22930012 0.20820224 0.27613846\n",
      " 0.19905745 0.20150518 0.15804496 0.18250468 0.17078833 0.16721478\n",
      " 0.14662787 0.13511575 0.14367893 0.26579561 0.1719539  0.1391986\n",
      " 0.1680669  0.14913219 0.12441103 0.20477428 0.19086483 0.25121036\n",
      " 0.35635466 0.13220621 0.1555664  0.16380859]\n",
      "13. (16115, 25969) --array-> [0.03036493 0.03437164 0.02224516 0.03870071 0.01386774 0.02284741\n",
      " 0.04585149 0.0331915  0.03643286 0.06184811 0.02151393 0.02067917\n",
      " 0.02670754 0.01771298 0.04379222 0.02440125 0.03574721 0.02530252\n",
      " 0.04030534 0.03780642 0.04977403 0.01862148 0.03233929 0.0320255\n",
      " 0.03288864 0.04184329 0.02645892 0.03963758 0.05538257 0.05683377\n",
      " 0.04326768 0.0248712  0.03169642 0.03116895 0.0502045  0.05104595\n",
      " 0.06545029 0.02970427 0.03627584 0.05225002 0.02015006 0.03272317\n",
      " 0.02915876 0.02313137 0.02334501 0.03090854 0.03713835 0.02101804\n",
      " 0.04300864 0.0383604  0.02387003 0.02878739 0.02842541 0.02476441\n",
      " 0.0334821  0.01678169 0.05403054 0.06082246 0.09090899 0.04870778\n",
      " 0.0354752  0.02890653 0.04709587 0.06885677 0.0374376  0.02785165\n",
      " 0.03685783 0.0272786  0.03142803 0.0337242  0.03947441 0.05887721\n",
      " 0.03911379 0.01891611 0.02958917 0.0339618  0.04427701 0.04149578\n",
      " 0.03522466 0.02596998 0.04664829 0.01613738 0.02698995 0.02192083\n",
      " 0.03011277 0.03473233 0.02750483 0.04474084 0.04832476 0.0305737\n",
      " 0.02812968 0.04546104 0.04238902 0.0347913  0.02560728 0.04098627\n",
      " 0.01977608 0.04043037 0.02418754 0.026317  ]\n",
      "14. (8986, 25969) --array-> [0.02620164 0.00932093 0.00753775 0.01010706 0.00780782 0.01256034\n",
      " 0.02377377 0.01406876 0.01463238 0.0081278  0.01949783 0.01172085\n",
      " 0.01098878 0.01042562 0.02053902 0.00560897 0.01133882 0.01190639\n",
      " 0.01499995 0.01534882 0.00855747 0.01627221 0.01211532 0.01034159\n",
      " 0.01103812 0.00767084 0.01817503 0.00609047 0.00924518 0.00806347\n",
      " 0.0089317  0.01717439 0.00949985 0.0127292  0.01194021 0.01568302\n",
      " 0.0071207  0.00828495 0.00670265 0.01072579 0.00734274 0.0065082\n",
      " 0.0105856  0.01449479 0.02140652 0.00981821 0.01241493 0.00866459\n",
      " 0.00939344 0.01367571 0.01129491 0.01779692 0.00596758 0.0083362\n",
      " 0.01222035 0.01698367 0.01523446 0.00694751 0.01426691 0.01474171\n",
      " 0.01900863 0.02022919 0.0139993  0.00699879 0.0097312  0.01141553\n",
      " 0.0084552  0.00640841 0.00868976 0.00785824 0.01084389 0.01268886\n",
      " 0.01346097 0.01613041 0.01343652 0.00530153 0.01290925 0.01310003\n",
      " 0.00900347 0.00997051 0.01021275 0.01071532 0.00969109 0.01227027\n",
      " 0.007443   0.01757726 0.01046299 0.00953264 0.01296939 0.01376848\n",
      " 0.01663475 0.01563973 0.00886146 0.00476091 0.01150407 0.011616\n",
      " 0.01114536 0.01002429 0.00911124 0.0132706 ]\n",
      "15. (18987, 25970) --array-> [0.01110463 0.01118218 0.01218812 0.01213135 0.01077022 0.0115876\n",
      " 0.01180704 0.0118413  0.01106699 0.01104924 0.01130825 0.01132638\n",
      " 0.01144716 0.01147572 0.01163895 0.01116086 0.01094798 0.01098653\n",
      " 0.01064209 0.01145946 0.01101185 0.01172339 0.01152291 0.01121739\n",
      " 0.01153731 0.01058481 0.01197467 0.01157845 0.01124715 0.01162966\n",
      " 0.01146285 0.01148304 0.01166273 0.01153086 0.01116875 0.01191472\n",
      " 0.01150172 0.01162002 0.01140407 0.0110888  0.01186415 0.01084471\n",
      " 0.01136039 0.01134899 0.01036923 0.01185284 0.01199464 0.01193892\n",
      " 0.01201383 0.01155082 0.0115991  0.01136359 0.01174571 0.0120805\n",
      " 0.01160778 0.01119896 0.01125874 0.0113802  0.01113298 0.01165333\n",
      " 0.01139357 0.01128614 0.01235007 0.01207062 0.01133452 0.01176901\n",
      " 0.01190516 0.01187885 0.01237847 0.01270796 0.01080353 0.01090359\n",
      " 0.01082825 0.01126807 0.01127731 0.01100095 0.0118223  0.01130344\n",
      " 0.01102574 0.01111531 0.01093868 0.01225641 0.01113423 0.0121495\n",
      " 0.01170527 0.01151038 0.01175702 0.01070333 0.01140872 0.01141906\n",
      " 0.01167942 0.01089514 0.0116879  0.0115675  0.01203326 0.01178625\n",
      " 0.01172663 0.01121263 0.01123151 0.01143609]\n"
     ]
    }
   ],
   "source": [
    "# Prints the dictionnary with the coordinates and vector with the samples.\n",
    "counter = 0\n",
    "for k, v in coords_samples_map.items():\n",
    "    counter +=1\n",
    "    print(f\"{counter}. {k} --array-> {v}\")"
   ]
  },
  {
   "cell_type": "markdown",
   "id": "3e6982b2-f9c8-4054-b0d7-32ea66a0fd29",
   "metadata": {},
   "source": [
    "## STEP 3: Static (i.e, deterministic) LCA <a name=\"Step3\"></a>\n",
    "\n",
    "In this step we are going to perform a static LCA for the product system we are interested in. Let's consider the example 3.4 of the previous notebook. Given that we are already familiar with static LCA, we will abreviate the explanations."
   ]
  },
  {
   "cell_type": "code",
   "execution_count": 42,
   "id": "74ebb4d8-9546-45c1-ab34-0bc22974d208",
   "metadata": {},
   "outputs": [],
   "source": [
    "pavement_structure = fgdb.get(\"pavement_structure_1\")"
   ]
  },
  {
   "cell_type": "markdown",
   "id": "2bd41315-1259-4c2c-82b6-689365273273",
   "metadata": {},
   "source": [
    "### Functional Unit"
   ]
  },
  {
   "cell_type": "code",
   "execution_count": 43,
   "id": "1a528398-d390-4b53-842f-d2b3d3d95903",
   "metadata": {},
   "outputs": [],
   "source": [
    "functional_unit = {pavement_structure:1}"
   ]
  },
  {
   "cell_type": "markdown",
   "id": "b8de3e37-bcfa-4ef7-81a2-b93e5a92eeda",
   "metadata": {},
   "source": [
    "### LCIA Method"
   ]
  },
  {
   "cell_type": "code",
   "execution_count": 44,
   "id": "fe35eb83-cde2-49b2-a82a-dedb944da69d",
   "metadata": {},
   "outputs": [],
   "source": [
    "cml_method_gwp = (\n",
    "    \"CML v4.8 2016\",\n",
    "    \"climate change\",\n",
    "    \"global warming potential (GWP100)\",\n",
    ")"
   ]
  },
  {
   "cell_type": "markdown",
   "id": "88114e61-c7df-44e2-9535-889a64d92802",
   "metadata": {},
   "source": [
    "### LCIA scores (i.e. results) calculation"
   ]
  },
  {
   "cell_type": "code",
   "execution_count": 45,
   "id": "ddbe4c7f-8b7d-4433-a3db-13a5a010c74e",
   "metadata": {},
   "outputs": [],
   "source": [
    "# Create a lca object\n",
    "a_lca = bc.LCA({pavement_structure: 1}, cml_method_gwp)"
   ]
  },
  {
   "cell_type": "code",
   "execution_count": 46,
   "id": "c9b1db0c-6f99-40f8-ba69-0cda0f9b15aa",
   "metadata": {},
   "outputs": [
    {
     "data": {
      "text/plain": [
       "1295038.759926335"
      ]
     },
     "execution_count": 46,
     "metadata": {},
     "output_type": "execute_result"
    }
   ],
   "source": [
    "a_lca.lci()\n",
    "a_lca.lcia()\n",
    "a_lca.score"
   ]
  },
  {
   "cell_type": "code",
   "execution_count": 47,
   "id": "2a62bde9-4ce9-4dea-bd28-051bafc30e31",
   "metadata": {},
   "outputs": [
    {
     "name": "stdout",
     "output_type": "stream",
     "text": [
      "The score is 1295038.759926 kg CO2-Eq for impact category climate change\n"
     ]
    }
   ],
   "source": [
    "print(\"The score is {:f} {} for impact category {}\".format(a_lca.score, \n",
    "                                                 bd.methods.get(cml_method_gwp).get('unit'),\n",
    "                                                 cml_method_gwp[1]))"
   ]
  },
  {
   "cell_type": "markdown",
   "id": "970a95a2-b916-4243-96d6-6ac0797340a7",
   "metadata": {},
   "source": [
    "## Step 4: Adding Uncertainties <a name=\"Step4\"></a>\n",
    "\n",
    "In this setp we are going to add the uncertainty to the exchanges. REMINDER: uncertainties are added to exchanges (not activities).\n",
    "\n",
    "### LCA using datapackages"
   ]
  },
  {
   "cell_type": "markdown",
   "id": "2c2eb6a4-a100-4fda-a21a-dfc2becea70c",
   "metadata": {},
   "source": [
    "Below we are using the method `prepare_lca_inputs`. It has the same argument as that you considered when you created the LCA object above."
   ]
  },
  {
   "cell_type": "code",
   "execution_count": 48,
   "id": "1b2f44f1-dc86-4501-9d0e-7cc1c5d2699a",
   "metadata": {},
   "outputs": [],
   "source": [
    "indexed_demand, data_objs, remapping_dicts = bd.prepare_lca_inputs({pavement_structure: 1}, cml_method_gwp)"
   ]
  },
  {
   "cell_type": "markdown",
   "id": "4eccffad-62c8-4a9a-8305-8ec3c8876e97",
   "metadata": {},
   "source": [
    "NOTE: there is no need to make changes in the upcoming cells until the heading 'Plot the results'"
   ]
  },
  {
   "cell_type": "code",
   "execution_count": 49,
   "id": "372ae05d-97a5-4f22-b886-b0ccd9c315f2",
   "metadata": {},
   "outputs": [
    {
     "data": {
      "text/plain": [
       "{25983: 1}"
      ]
     },
     "execution_count": 49,
     "metadata": {},
     "output_type": "execute_result"
    }
   ],
   "source": [
    "indexed_demand"
   ]
  },
  {
   "cell_type": "code",
   "execution_count": 50,
   "id": "99725256-80f6-482b-a77d-a8f5a3b72473",
   "metadata": {},
   "outputs": [
    {
     "data": {
      "text/plain": [
       "[<bw_processing.datapackage.Datapackage at 0x313173b10>,\n",
       " <bw_processing.datapackage.Datapackage at 0x3131d1cd0>,\n",
       " <bw_processing.datapackage.Datapackage at 0x3131b6150>,\n",
       " <bw_processing.datapackage.Datapackage at 0x314368550>]"
      ]
     },
     "execution_count": 50,
     "metadata": {},
     "output_type": "execute_result"
    }
   ],
   "source": [
    "data_objs"
   ]
  },
  {
   "cell_type": "code",
   "execution_count": 51,
   "id": "4edb522c-9f6b-4ecf-aefd-603e73a6873a",
   "metadata": {
    "scrolled": true
   },
   "outputs": [],
   "source": [
    "dp_correlated = bwp.create_datapackage(sequential=True)"
   ]
  },
  {
   "cell_type": "code",
   "execution_count": 52,
   "id": "a52eb526-bc70-494b-a3bd-a409b54f0e5f",
   "metadata": {},
   "outputs": [
    {
     "name": "stdout",
     "output_type": "stream",
     "text": [
      "[(18370, 25951),\n",
      " (18370, 25957),\n",
      " (18370, 25955),\n",
      " (9408, 25955),\n",
      " (18370, 25953),\n",
      " (9408, 25953),\n",
      " (18370, 25952),\n",
      " (18370, 25954),\n",
      " (9408, 25954),\n",
      " (18370, 25956),\n",
      " (9408, 25956),\n",
      " (18370, 25958),\n",
      " (16115, 25969),\n",
      " (8986, 25969),\n",
      " (18987, 25970)]\n"
     ]
    }
   ],
   "source": [
    "samples_indices = [coord for coord in coords_samples_map.keys()]\n",
    "pprint(samples_indices)"
   ]
  },
  {
   "cell_type": "code",
   "execution_count": 53,
   "id": "797a5fbf-c237-497a-a97b-09b85c1e4223",
   "metadata": {},
   "outputs": [
    {
     "name": "stdout",
     "output_type": "stream",
     "text": [
      "array([[0.2407306 , 0.2818213 , 0.23327626, ..., 0.1611887 , 0.20923539,\n",
      "        0.39377984],\n",
      "       [0.21623182, 0.12391434, 0.09131551, ..., 0.10585167, 0.10775793,\n",
      "        0.14478889],\n",
      "       [0.01986937, 0.05154773, 0.02774587, ..., 0.03294828, 0.02039267,\n",
      "        0.05012438],\n",
      "       ...,\n",
      "       [0.03036493, 0.03437164, 0.02224516, ..., 0.04043037, 0.02418754,\n",
      "        0.026317  ],\n",
      "       [0.02620164, 0.00932093, 0.00753775, ..., 0.01002429, 0.00911124,\n",
      "        0.0132706 ],\n",
      "       [0.01110463, 0.01118218, 0.01218812, ..., 0.01121263, 0.01123151,\n",
      "        0.01143609]])\n"
     ]
    }
   ],
   "source": [
    "# Prepare the data_array, it must be an array of arrays\n",
    "samples_values = np.array([coords_samples_map[coord] for coord in samples_indices])\n",
    "pprint(samples_values)"
   ]
  },
  {
   "cell_type": "code",
   "execution_count": 54,
   "id": "3dbdbb86-320c-41f8-abc7-92ee390f607f",
   "metadata": {},
   "outputs": [],
   "source": [
    "dp_correlated.add_persistent_array(\n",
    "    matrix=\"technosphere_matrix\",\n",
    "    indices_array=np.array(samples_indices, dtype=bwp.INDICES_DTYPE),\n",
    "    data_array=samples_values,\n",
    "    # We flip the signs of the samples\n",
    "    # to obey bw's convention\n",
    "    flip_array=np.array([True for _ in range(len(samples_values))]),\n",
    ")"
   ]
  },
  {
   "cell_type": "markdown",
   "id": "4e09be8c-b020-458d-9cb1-6b6ab3618754",
   "metadata": {},
   "source": [
    "## Step 5: Stochastic LCA <a name=\"Step5\"></a>\n",
    "\n",
    "In this step we are going to perform the stochastic LCA considering the uncertainties in the exchanges scrutinized in the previous steps.\n",
    "\n",
    "### Build the new data objects to re-do the LCA"
   ]
  },
  {
   "cell_type": "code",
   "execution_count": 55,
   "id": "d8d26b79-059b-4811-80d2-de2a03071e45",
   "metadata": {},
   "outputs": [],
   "source": [
    "data_objs.append(dp_correlated)"
   ]
  },
  {
   "cell_type": "code",
   "execution_count": 56,
   "id": "5a694ac3-1d4d-4dc2-8405-a993795c28e6",
   "metadata": {},
   "outputs": [
    {
     "data": {
      "text/plain": [
       "1380691.8549186164"
      ]
     },
     "execution_count": 56,
     "metadata": {},
     "output_type": "execute_result"
    }
   ],
   "source": [
    "dp_lca = bc.LCA(demand=indexed_demand, data_objs=data_objs, use_arrays=True)\n",
    "dp_lca.lci()\n",
    "dp_lca.lcia()\n",
    "dp_lca.score"
   ]
  },
  {
   "cell_type": "code",
   "execution_count": 57,
   "id": "81c516c1-b30c-4183-a5df-cf747e2bd0c1",
   "metadata": {},
   "outputs": [
    {
     "name": "stderr",
     "output_type": "stream",
     "text": [
      "100%|█████████████████████████████████████████| 100/100 [02:45<00:00,  1.65s/it]\n"
     ]
    }
   ],
   "source": [
    "scores = []\n",
    "for _ in autonotebook.tqdm(range(sample_size)):\n",
    "    next(dp_lca)\n",
    "    scores.append(dp_lca.score)"
   ]
  },
  {
   "cell_type": "code",
   "execution_count": 59,
   "id": "b290514b-1528-4980-9970-c0d224cb655e",
   "metadata": {},
   "outputs": [
    {
     "data": {
      "text/plain": [
       "1316050.9410746917"
      ]
     },
     "execution_count": 59,
     "metadata": {},
     "output_type": "execute_result"
    }
   ],
   "source": [
    "scores_a = np.array(scores)\n",
    "scores_a.mean()"
   ]
  },
  {
   "cell_type": "code",
   "execution_count": 60,
   "id": "68c17c76-383a-45f2-b210-02332ca82a43",
   "metadata": {},
   "outputs": [
    {
     "name": "stdout",
     "output_type": "stream",
     "text": [
      "0     1.342756e+06\n",
      "1     1.235264e+06\n",
      "2     1.245242e+06\n",
      "3     1.263438e+06\n",
      "4     1.308570e+06\n",
      "          ...     \n",
      "95    1.264451e+06\n",
      "96    1.424782e+06\n",
      "97    1.313219e+06\n",
      "98    1.284189e+06\n",
      "99    1.380692e+06\n",
      "Length: 100, dtype: float64\n"
     ]
    }
   ],
   "source": [
    "scores_a_s = pd.Series(scores_a)\n",
    "print(scores_a_s)"
   ]
  },
  {
   "cell_type": "markdown",
   "id": "c87eff97-34b5-485d-8839-7c84de59329c",
   "metadata": {},
   "source": [
    "### Plot the results\n",
    "Below we will plot the results of the stochastic LCA. We may want to customize the layout of the plot as you want"
   ]
  },
  {
   "cell_type": "code",
   "execution_count": 61,
   "id": "7e892bd9-91cf-4fc3-917a-f7dbdd145bad",
   "metadata": {},
   "outputs": [
    {
     "name": "stderr",
     "output_type": "stream",
     "text": [
      "/var/folders/16/htgv8kns0w7dsvxmq5d9snzc0000gn/T/ipykernel_6575/4266909328.py:11: FutureWarning: \n",
      "\n",
      "The `scale` parameter has been renamed and will be removed in v0.15.0. Pass `density_norm='width'` for the same effect.\n",
      "  sns.violinplot(data=df, x='GWP', inner=None, cut=0, bw=0.2, scale='width', orient='h', split=True)\n",
      "/var/folders/16/htgv8kns0w7dsvxmq5d9snzc0000gn/T/ipykernel_6575/4266909328.py:11: FutureWarning: \n",
      "\n",
      "The `bw` parameter is deprecated in favor of `bw_method`/`bw_adjust`.\n",
      "Setting `bw_method=0.2`, but please see docs for the new parameters\n",
      "and update your code. This will become an error in seaborn v0.15.0.\n",
      "\n",
      "  sns.violinplot(data=df, x='GWP', inner=None, cut=0, bw=0.2, scale='width', orient='h', split=True)\n"
     ]
    },
    {
     "data": {
      "image/png": "[encoded data removed]",
      "text/plain": [
       "<Figure size 1000x600 with 1 Axes>"
      ]
     },
     "metadata": {},
     "output_type": "display_data"
    }
   ],
   "source": [
    "# Sample data as given in the series\n",
    "data = scores_a_s\n",
    "\n",
    "# Create a DataFrame from the series\n",
    "df = pd.DataFrame(data, columns=['GWP'])\n",
    "\n",
    "# Set the figure size\n",
    "plt.figure(figsize=(10, 6))\n",
    "\n",
    "# Create the half violin plot (right side)\n",
    "sns.violinplot(data=df, x='GWP', inner=None, cut=0, bw=0.2, scale='width', orient='h', split=True)\n",
    "\n",
    "# Set the title and labels\n",
    "plt.title(\"Global warming score\")\n",
    "plt.xlabel(\"kg CO₂ eq.\")  # CO₂ with subscript '2'\n",
    "\n",
    "# Show the plot\n",
    "plt.show()"
   ]
  },
  {
   "cell_type": "markdown",
   "id": "5bd3696f-23d7-49c6-bc35-acacaba8fba0",
   "metadata": {},
   "source": [
    "## STEP 6: Global Sensitivity analysis (GSA) <a name=\"Step6\"></a>\n",
    "\n",
    "In this (and last) step we are going to perfom a GSA using the Extra Trees method. But for this specific product system ,i.e. 'pavement_structure_1', we have to perfom a small operation before we run the Extra Trees  algorithm. This is because we run the LHS function for all exchanges stored in the list 'uncertain_parameters'. However, the activity that contains the exchange for which we defined a new name of 'comments' (i.e., 'A2_modbitumen_t') is not used in the product system 'pavement_structure_1'. Therefore, we have to delete it from the dataframe (named 'samples') that stores the samples created with LHS  for each exchange. We will do that by droping the respective column of the 'samples' dataframe:"
   ]
  },
  {
   "cell_type": "code",
   "execution_count": 63,
   "id": "d7d4ac92-2bf3-405a-b236-5eac416bbab3",
   "metadata": {},
   "outputs": [],
   "source": [
    "samples.drop('A2_modbitumen_t', axis=1, inplace=True)"
   ]
  },
  {
   "cell_type": "markdown",
   "id": "cea8edb7-766d-4a08-a232-1af7262e32ef",
   "metadata": {},
   "source": [
    "We can run now the Extra Trees GSA method algorithm"
   ]
  },
  {
   "cell_type": "code",
   "execution_count": 64,
   "id": "d0004124-52d1-476b-aa57-dacbbfef355b",
   "metadata": {},
   "outputs": [
    {
     "name": "stdout",
     "output_type": "stream",
     "text": [
      "1400\n"
     ]
    }
   ],
   "source": [
    "# Extra Trees GSA method algorithm\n",
    "\n",
    "x = samples.to_numpy()\n",
    "print(x.size)\n",
    "y = scores_a_s.to_numpy()\n",
    "\n",
    "#Extra Trees parameters from Jaza-Roxen and Kwakkel (2018)\n",
    "t = 100 \n",
    "m = round(len(x[0])/3)\n",
    "N = 100\n",
    "nmin = 5\n",
    "nleaf = math.sqrt(N) / math.sqrt(1000)\n",
    "\n",
    "#ExtraTrees regressor function\n",
    "regr = ExtraTreesRegressor(n_estimators=t, max_features=m, min_samples_split=nmin,\n",
    "                           min_samples_leaf=nleaf)\n",
    "regr = regr.fit(x,y)"
   ]
  },
  {
   "cell_type": "markdown",
   "id": "069d571b-1975-4746-8715-c6b841b3cae3",
   "metadata": {},
   "source": [
    "Below we calculate the Mean Decrease Impurity (MDI) metric for each exchange. An exchange is considered important when it is associated with high MDI values."
   ]
  },
  {
   "cell_type": "code",
   "execution_count": 97,
   "id": "957ead68-b711-46f2-87b5-38536faba3e8",
   "metadata": {},
   "outputs": [
    {
     "data": {
      "text/html": [
       "<div>\n",
       "<style scoped>\n",
       "    .dataframe tbody tr th:only-of-type {\n",
       "        vertical-align: middle;\n",
       "    }\n",
       "\n",
       "    .dataframe tbody tr th {\n",
       "        vertical-align: top;\n",
       "    }\n",
       "\n",
       "    .dataframe thead th {\n",
       "        text-align: right;\n",
       "    }\n",
       "</style>\n",
       "<table border=\"1\" class=\"dataframe\">\n",
       "  <thead>\n",
       "    <tr style=\"text-align: right;\">\n",
       "      <th></th>\n",
       "      <th>MDI</th>\n",
       "      <th>MDI normalized</th>\n",
       "    </tr>\n",
       "  </thead>\n",
       "  <tbody>\n",
       "    <tr>\n",
       "      <th>A2_bitumen_t</th>\n",
       "      <td>0.037037</td>\n",
       "      <td>0.333333</td>\n",
       "    </tr>\n",
       "    <tr>\n",
       "      <th>A2_weakfiller_t</th>\n",
       "      <td>0.074074</td>\n",
       "      <td>0.666667</td>\n",
       "    </tr>\n",
       "    <tr>\n",
       "      <th>A2_ownmaterial_t</th>\n",
       "      <td>0.111111</td>\n",
       "      <td>1.000000</td>\n",
       "    </tr>\n",
       "    <tr>\n",
       "      <th>A2_ownmaterial_iv</th>\n",
       "      <td>0.111111</td>\n",
       "      <td>1.000000</td>\n",
       "    </tr>\n",
       "    <tr>\n",
       "      <th>A2_crushedstone_t</th>\n",
       "      <td>0.037037</td>\n",
       "      <td>0.333333</td>\n",
       "    </tr>\n",
       "    <tr>\n",
       "      <th>A2_crushedstone_iv</th>\n",
       "      <td>0.094250</td>\n",
       "      <td>0.848247</td>\n",
       "    </tr>\n",
       "    <tr>\n",
       "      <th>A2_crushedsand_t</th>\n",
       "      <td>0.055556</td>\n",
       "      <td>0.500000</td>\n",
       "    </tr>\n",
       "    <tr>\n",
       "      <th>A2_crushedsand_iv</th>\n",
       "      <td>0.111111</td>\n",
       "      <td>1.000000</td>\n",
       "    </tr>\n",
       "    <tr>\n",
       "      <th>A2_naturalsand_t</th>\n",
       "      <td>0.018519</td>\n",
       "      <td>0.166667</td>\n",
       "    </tr>\n",
       "    <tr>\n",
       "      <th>A2_naturalsand_iv</th>\n",
       "      <td>0.074074</td>\n",
       "      <td>0.666667</td>\n",
       "    </tr>\n",
       "    <tr>\n",
       "      <th>A2_dripresistantmaterial_t</th>\n",
       "      <td>0.037037</td>\n",
       "      <td>0.333333</td>\n",
       "    </tr>\n",
       "    <tr>\n",
       "      <th>A4_distance_EURO5</th>\n",
       "      <td>0.074074</td>\n",
       "      <td>0.666667</td>\n",
       "    </tr>\n",
       "    <tr>\n",
       "      <th>A4_distance_EURO6</th>\n",
       "      <td>0.055556</td>\n",
       "      <td>0.500000</td>\n",
       "    </tr>\n",
       "    <tr>\n",
       "      <th>A5_construction</th>\n",
       "      <td>0.109454</td>\n",
       "      <td>0.985086</td>\n",
       "    </tr>\n",
       "  </tbody>\n",
       "</table>\n",
       "</div>"
      ],
      "text/plain": [
       "                                 MDI  MDI normalized\n",
       "A2_bitumen_t                0.037037        0.333333\n",
       "A2_weakfiller_t             0.074074        0.666667\n",
       "A2_ownmaterial_t            0.111111        1.000000\n",
       "A2_ownmaterial_iv           0.111111        1.000000\n",
       "A2_crushedstone_t           0.037037        0.333333\n",
       "A2_crushedstone_iv          0.094250        0.848247\n",
       "A2_crushedsand_t            0.055556        0.500000\n",
       "A2_crushedsand_iv           0.111111        1.000000\n",
       "A2_naturalsand_t            0.018519        0.166667\n",
       "A2_naturalsand_iv           0.074074        0.666667\n",
       "A2_dripresistantmaterial_t  0.037037        0.333333\n",
       "A4_distance_EURO5           0.074074        0.666667\n",
       "A4_distance_EURO6           0.055556        0.500000\n",
       "A5_construction             0.109454        0.985086"
      ]
     },
     "execution_count": 97,
     "metadata": {},
     "output_type": "execute_result"
    }
   ],
   "source": [
    "mdi = regr.feature_importances_\n",
    "mdi = pd.DataFrame(mdi, columns=[\"MDI\"])\n",
    "mdi.index = samples.columns\n",
    "mdi[\"MDI normalized\"] = mdi[\"MDI\"]/np.max(mdi[\"MDI\"])\n",
    "mdi"
   ]
  },
  {
   "cell_type": "code",
   "execution_count": null,
   "id": "f8da50c4-c80b-4a74-9bed-3ae3258b363a",
   "metadata": {},
   "outputs": [],
   "source": []
  },
  {
   "cell_type": "code",
   "execution_count": null,
   "id": "f632f74f-9368-4c6d-b76a-48b85cfcb8db",
   "metadata": {},
   "outputs": [],
   "source": []
  },
  {
   "cell_type": "code",
   "execution_count": null,
   "id": "73e54332-7ebf-45a3-b70c-2baf19e79035",
   "metadata": {},
   "outputs": [],
   "source": []
  }
 ],
 "metadata": {
  "kernelspec": {
   "display_name": "Python 3 (ipykernel)",
   "language": "python",
   "name": "python3"
  },
  "language_info": {
   "codemirror_mode": {
    "name": "ipython",
    "version": 3
   },
   "file_extension": ".py",
   "mimetype": "text/x-python",
   "name": "python",
   "nbconvert_exporter": "python",
   "pygments_lexer": "ipython3",
   "version": "3.11.9"
  }
 },
 "nbformat": 4,
 "nbformat_minor": 5
}
