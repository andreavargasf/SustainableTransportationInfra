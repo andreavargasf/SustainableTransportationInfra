{
 "cells": [
  {
   "attachments": {},
   "cell_type": "markdown",
   "id": "8246506c-2b06-4fec-8fca-b73e9bb5cd4c",
   "metadata": {},
   "source": [
    "# Static LCA\n",
    "\n",
    "This is the fifth notebook of a series of 5 (see below the names of full list) intended to teach you the functionalities of the pyhton-based LCA software Brightway 2.5 (BW25) that you will use to carry out your group assignment. For a more nuanced undertsanding of the principles and working mechanisms of BW25 you are referred to [its documentation](https://docs.brightway.dev/en/latest/index.html).\n",
    "\n",
    "**Full list of notebooks of the series:**\n",
    "- 1.Getting started\n",
    "- 2a.Background\n",
    "- 2b.Foreground\n",
    "- 3.StaticLCA\n",
    "- 4.StochasticLCA\n",
    "\n",
    "## Pre-requesites:\n",
    "- Having read the tutorial _Computational Settings and Guidelines_ that you can find on Canvas -> [Module 'General documents & Information'](https://canvas.utwente.nl/courses/15132/modules#:~:text=General%20documents%20%26%20information-,General,-documents%20%26%20information)\n",
    "- Having installed Brightway25 and all relevant packages (make sure to do so in the correct virtual environment) and eventually having had a first contact with its documentation.\n",
    "- Knowledge of the foundations of life cycle assessment (LCA). If you did not attended the Lecture 3- Pavement Life cycle assessment (LCA) or need a refresher, please have a look at its slides that you can find on Canvas.\n",
    "- Access to the ecoinvent database version 3.9.1.\n",
    "- Acess to the foreground database defined in the excel file 'Foreground.xlsx'\n",
    "- Having gone through the previous notebooks.\n",
    "- Familiarity with the Python programming language and the Jupyter Lab environment. However, this is **not** a hard requirement since most methods are quite intuitive and will be explained throughput the tutorial. Nevertheless, In case you are a total beginner, or need a refresher, please read the tutorial _Computational Settings and Guidelines_ that you can find on Canvas -> [Module 'General documents & Information'](https://canvas.utwente.nl/courses/15132/modules#:~:text=General%20documents%20%26%20information-,General,-documents%20%26%20information)\n",
    "  \n",
    "\n",
    "## Learning Objectives\n",
    "- Learn how uncertainty is represented in exchanges\n",
    "- Learn how to perform a stochastic LCA\n",
    "- Learn how to perform a GSA based on the results of the stochastic LCA\n",
    "\n",
    " \n",
    "## Content\n",
    "\n",
    "[4.1. STEP 1: Uncertainty Characterization <br>](#Step1)\n",
    "[4.2. STEP 2: Sample generation <br>](#Step2)\n",
    "[4.3. STEP 3: Static (i.e., deterministic) LCA <br>](#Step3)\n",
    "[4.4. STEP 4: Adding Uncertainties <br>](#Step4)\n",
    "[4.5. STEP 5: Stochastic LCA <br>](#Step5)\n",
    "[4.6. STEP 6: Global Sensitivity Analysis <br>](#Step5)\n"
   ]
  },
  {
   "cell_type": "code",
   "execution_count": 106,
   "id": "8fec5955-c255-48a5-80a1-aa0c36c40ce4",
   "metadata": {},
   "outputs": [],
   "source": [
    "# Import scientific packages\n",
    "from IPython.display import display\n",
    "import pandas as pd\n",
    "import numpy as np\n",
    "import scipy as sp\n",
    "from pprint import pprint\n",
    "from tqdm import autonotebook\n",
    "import seaborn as sns\n",
    "import os\n",
    "import matplotlib.pyplot as plt\n",
    "import matplotlib.collections as clt\n",
    "from sklearn import cluster, mixture\n",
    "from sklearn.ensemble import ExtraTreesRegressor\n",
    "from sklearn.ensemble import ExtraTreesClassifier\n",
    "from sklearn.datasets import make_regression\n",
    "from sklearn.metrics import mean_squared_error\n",
    "import math\n",
    "\n",
    "# Import BW25 packages.\n",
    "import bw2analyzer as bwa\n",
    "import bw2calc as bc\n",
    "import bw2data as bd\n",
    "import bw2io as bi\n",
    "import bw_processing as bwp\n",
    "import pandas as pd\n",
    "from bw2data.query import Filter, Query\n"
   ]
  },
  {
   "cell_type": "code",
   "execution_count": 99,
   "id": "b2f28228-7456-467d-bf5f-e053f359088d",
   "metadata": {},
   "outputs": [],
   "source": [
    "#Importing the variables with the project name and background db\n",
    "from project_details import ei_name, project_name"
   ]
  },
  {
   "cell_type": "code",
   "execution_count": 100,
   "id": "88adff1a-75a3-45c7-90bf-2950d7bfc676",
   "metadata": {},
   "outputs": [
    {
     "data": {
      "text/plain": [
       "Databases dictionary with 3 object(s):\n",
       "\tasphalt\n",
       "\tbiosphere3\n",
       "\tecoinvent-391-cutoff"
      ]
     },
     "execution_count": 100,
     "metadata": {},
     "output_type": "execute_result"
    }
   ],
   "source": [
    "# set the selected project as the current project\n",
    "bd.projects.set_current(project_name)\n",
    "bd.databases"
   ]
  },
  {
   "cell_type": "code",
   "execution_count": 101,
   "id": "8de90679-8d3b-45c5-a363-4efbb469a633",
   "metadata": {},
   "outputs": [],
   "source": [
    "# Is the background database name the same as the one we wrote in `project_details.py`?\n",
    "assert ei_name in bd.databases"
   ]
  },
  {
   "cell_type": "markdown",
   "id": "9ed0b01b-a251-4f0f-a27d-ec27e2bcdac8",
   "metadata": {},
   "source": [
    "As already done in the previous notebooks, let's define and assign the name of the foreground database to a variable called \"fg_name\".\n",
    "The name must be equal to the content of the cell B1 in the excel file \"Foreground.xlsx\""
   ]
  },
  {
   "cell_type": "code",
   "execution_count": 102,
   "id": "e71296c4-23af-43ce-8193-60f88d76fc18",
   "metadata": {},
   "outputs": [],
   "source": [
    "fg_name = \"asphalt\""
   ]
  },
  {
   "cell_type": "code",
   "execution_count": 103,
   "id": "a8f90ad2-06de-42cb-94df-d3b0a094450c",
   "metadata": {},
   "outputs": [],
   "source": [
    "fgdb = bd.Database(fg_name)"
   ]
  },
  {
   "cell_type": "markdown",
   "id": "270c6680-91c6-4150-83a6-2354180953d7",
   "metadata": {},
   "source": [
    "## 4.1. STEP 1: Uncertainty Characterization <a name=\"Step1\"></a>"
   ]
  },
  {
   "cell_type": "markdown",
   "id": "80138f6f-2e34-49fa-b312-b25602b6621f",
   "metadata": {},
   "source": [
    "In this example, we will be considering the transport distance of materials to the asphalt plant in A2, the transport distance of the asphalt mixture from the asphalt plant to the construction site in A4, and the diesel consumption of the machinery used for construction in A5 as uncertain parameters. The foreground file already provides uncertainty information for each of these parameters (associated with activities exchanges). \n"
   ]
  },
  {
   "cell_type": "code",
   "execution_count": 44,
   "id": "ff7aadee-29d0-42c9-9a12-976436fb5a59",
   "metadata": {},
   "outputs": [],
   "source": [
    "# List that will store tuples with info about the uncertain parameters (associated with activity exchanges)\n",
    "uncertain_parameters = []"
   ]
  },
  {
   "cell_type": "markdown",
   "id": "1ef77185-3415-40d4-9377-6546749672f7",
   "metadata": {},
   "source": [
    "### Transport distances in A2"
   ]
  },
  {
   "cell_type": "markdown",
   "id": "9ad27fd8-b0c4-4e9b-937d-ae23211c5263",
   "metadata": {},
   "source": [
    "The first step consists of identifying and storing in a list all activities that have 'production and transport' in the name"
   ]
  },
  {
   "cell_type": "code",
   "execution_count": 45,
   "id": "7001ab6e-c17e-4925-8993-dca0ee5bce8c",
   "metadata": {},
   "outputs": [
    {
     "data": {
      "text/plain": [
       "['bitumen, production and transport' (kilogram, NL, None),\n",
       " 'weak filler, production and transport' (kilogram, NL, None),\n",
       " 'other fillers, production and transport' (kilogram, NL, None),\n",
       " 'crushed stone, production and transport' (kilogram, NL, None),\n",
       " 'modified bitumen, production and transport' (kilogram, NL, None),\n",
       " 'crushed sand, production and transport' (kilogram, NL, None),\n",
       " 'natural sand, production and transport' (kilogram, NL, None),\n",
       " 'drip resistant material, production and transport' (kilogram, NL, None)]"
      ]
     },
     "execution_count": 45,
     "metadata": {},
     "output_type": "execute_result"
    }
   ],
   "source": [
    "transport_a2 = fgdb.search(\"production and transport\")\n",
    "transport_a2"
   ]
  },
  {
   "attachments": {},
   "cell_type": "markdown",
   "id": "ea3236f2-0b44-491a-ac2e-dbe248163a6f",
   "metadata": {},
   "source": [
    "In the foreground database (excel file) provided in the previous lecture, the exchange 'market for transport, freight, lorry, unspecified' in the activities 'bitumen, production and transport' and 'modified bitumen, production and transport' had the same comment (i.e., 'A2_bitumen_t'). This would generate an error in the upcoming steps, as the name assigned in \"comments\" is used to identify the exchanges. Thus, if the same name is used for multiple exchanges, the upcoming calculations are unable to track the exchanges. Therefore, we have to change the comment in one of the exchanges mentioned before. Let's change it in the activity 'modified bitumen, production and transport'."
   ]
  },
  {
   "cell_type": "code",
   "execution_count": 83,
   "id": "6f2e675a-01fb-4d3f-9a36-332d6700fc01",
   "metadata": {},
   "outputs": [],
   "source": [
    "# Search and select the activity we are interested in\n",
    "mod_bitumen = fgdb.search(\"modified bitumen, production and transport\")[0] \n",
    "\n",
    "# Store in a list all exchanges of the activity above and select the exchange 'market for transport, freight, lorry, unspecified'.\n",
    "mod_bitumen_transport = [exchange for exchange in mod_bitumen.exchanges()][2] # The exchange we want is the third in the list, thus we will use [2] to select it and store it in a variable (mod_bitumen_transport). Remember, python uses 0-index  \n",
    "\n",
    "# Here we convert the content of the variable into a dictionary\n",
    "mod_bitumen_transport.as_dict()\n"
   ]
  },
  {
   "cell_type": "code",
   "execution_count": 47,
   "id": "948d7711-801b-4396-a6fa-d879b8558df8",
   "metadata": {},
   "outputs": [],
   "source": [
    "#Define the new name for the comment by using the dictionary key 'comments'\n",
    "mod_bitumen_transport['comments'] = 'A2_modbitumen_t'\n",
    "\n",
    "#Save the changes previously made in 'comments'\n",
    "mod_bitumen_transport.save()"
   ]
  },
  {
   "cell_type": "code",
   "execution_count": 86,
   "id": "48b29a70-64b8-4b17-8531-17a8abf62afb",
   "metadata": {},
   "outputs": [
    {
     "data": {
      "text/plain": [
       "{'name': 'market for transport, freight, lorry, unspecified',\n",
       " 'reference product': 'transport, freight, lorry, unspecified',\n",
       " 'location': 'RER',\n",
       " 'amount': 0.15,\n",
       " 'unit': 'ton kilometer',\n",
       " 'database': 'ecoinvent-391-cutoff',\n",
       " 'type': 'technosphere',\n",
       " 'categories': ('(unknown)',),\n",
       " 'comments': 'A2_modbitumen_t',\n",
       " 'scenario': ('3', '4'),\n",
       " 'uncertainty_type': 2,\n",
       " 'loc': -1.8971199848858813,\n",
       " 'scale': 0.3474550330618338,\n",
       " 'input': ('ecoinvent-391-cutoff', 'd6655a43e0d3a5f786929ade5064e0fd'),\n",
       " 'output': ('asphalt', 'modified_bitumen')}"
      ]
     },
     "execution_count": 86,
     "metadata": {},
     "output_type": "execute_result"
    }
   ],
   "source": [
    "#Display the content of the dictionary associated with the exchange\n",
    "mod_bitumen_transport.as_dict()\n"
   ]
  },
  {
   "cell_type": "markdown",
   "id": "a1f6b04a-e8d8-4a92-ae09-1b57a35c57dd",
   "metadata": {},
   "source": [
    "Next we need to store information about the uncertain of the exchanges (considered in the activities). Specifically, we are interested in the fields 'comments', 'uncertainty_type', 'loc'and 'scale' defined in the foreground and ecoinvent databases. \n",
    "Their meaning is as follows:\n",
    "\n",
    "- `uncertainty_type`: type of probability distribution function that the exchange follows. In our foreground database, the exchanges have an uncertainty type = 2, indicating it is a `lognormal`  distribution. This is the the type of pdf you should consider. A value equal to 0 means no uncertainty. More info about the uncertainty type and respective code can be found [here](https://stats-arrays.readthedocs.io/en/latest/).\n",
    "- `loc`,`scale`:  parameters of the probability distribution function considered. In the case of the lognormal they are respectively the mean and the standard deviation of the underlying normal distribution (more on this later). The natural logarithm of the _median_ of the lognormal distribution is equal to the median (=mean) of the underlying distribution.\n",
    "Considering the deterministic exchange amount `amount` to be the median, we have `loc` = `ln('amount')`. You can see this formula being used in the foreground database (excel file) \n",
    "As far as the standard deviation (`scale`), the value is obtained from the basic and additional uncertainty, defined according to the pedigree matrix.\n",
    "\n",
    "\n",
    "To store the info explained above we run the cell below:"
   ]
  },
  {
   "cell_type": "code",
   "execution_count": 49,
   "id": "37b30e79-7a4c-49ab-a978-d2b4f7a19895",
   "metadata": {},
   "outputs": [
    {
     "data": {
      "text/plain": [
       "[('A2_bitumen_t', 2, -1.3862943611198906, 0.3474550330618338),\n",
       " ('A2_weakfiller_t', 2, -1.995100393246085, 0.3474550330618338),\n",
       " ('A2_ownmaterial_t', 2, -3.6888794541139363, 0.3474550330618338),\n",
       " ('A2_ownmaterial_iv', 2, -1.8971199848858813, 0.3474550330618338),\n",
       " ('A2_crushedstone_t', 2, -3.6888794541139363, 0.3474550330618338),\n",
       " ('A2_crushedstone_iv', 2, -0.4155154439616658, 0.3474550330618338),\n",
       " ('A2_modbitumen_t', 2, -1.8971199848858813, 0.3474550330618338),\n",
       " ('A2_crushedsand_t', 2, -3.6888794541139363, 0.3474550330618338),\n",
       " ('A2_crushedsand_iv', 2, -0.4155154439616658, 0.3474550330618338),\n",
       " ('A2_naturalsand_t', 2, -3.6888794541139363, 0.3474550330618338),\n",
       " ('A2_naturalsand_iv', 2, -1.8971199848858813, 0.3474550330618338),\n",
       " ('A2_dripresistantmaterial_t', 2, -1.731605546408308, 0.3474550330618338)]"
      ]
     },
     "execution_count": 49,
     "metadata": {},
     "output_type": "execute_result"
    }
   ],
   "source": [
    "uncertain_parameters = [] #list that stores the info about the uncertain parameters associated with exchanges\n",
    "\n",
    "for transport in transport_a2:\n",
    "    exchanges = transport.technosphere()\n",
    "    for exchange in exchanges:\n",
    "        exchanges_dict = exchange.as_dict()\n",
    "        if \"comments\" in exchanges_dict:\n",
    "            parameter = exchanges_dict[\"comments\"]\n",
    "            distribution = exchanges_dict[\"uncertainty_type\"]\n",
    "            loc = exchanges_dict[\"loc\"]\n",
    "            scale = exchanges_dict[\"scale\"]\n",
    "            uncertain_parameters.append((parameter, \n",
    "                    distribution, \n",
    "                    loc,\n",
    "                    scale))\n",
    "uncertain_parameters"
   ]
  },
  {
   "cell_type": "markdown",
   "id": "2b7fc273-a400-42c7-895c-a5341e987f63",
   "metadata": {},
   "source": [
    "### Transport distances in A4"
   ]
  },
  {
   "cell_type": "markdown",
   "id": "a340883e-f58e-49fe-ae5b-93a10322c30e",
   "metadata": {},
   "source": [
    "Execute the same procedure but for activities that have 'asphalt, transport to site' in the name"
   ]
  },
  {
   "cell_type": "code",
   "execution_count": 50,
   "id": "32793514-d647-437a-805e-f6ea6e2e453e",
   "metadata": {},
   "outputs": [
    {
     "data": {
      "text/plain": [
       "['asphalt, transport to site' (kilogram, NL, None)]"
      ]
     },
     "execution_count": 50,
     "metadata": {},
     "output_type": "execute_result"
    }
   ],
   "source": [
    "transport_a4 = fgdb.search(\"asphalt, transport to site\")\n",
    "transport_a4"
   ]
  },
  {
   "cell_type": "code",
   "execution_count": 51,
   "id": "02720137-a664-4c0c-b327-0c8dc89d7a21",
   "metadata": {},
   "outputs": [
    {
     "data": {
      "text/plain": [
       "[('A2_bitumen_t', 2, -1.3862943611198906, 0.3474550330618338),\n",
       " ('A2_weakfiller_t', 2, -1.995100393246085, 0.3474550330618338),\n",
       " ('A2_ownmaterial_t', 2, -3.6888794541139363, 0.3474550330618338),\n",
       " ('A2_ownmaterial_iv', 2, -1.8971199848858813, 0.3474550330618338),\n",
       " ('A2_crushedstone_t', 2, -3.6888794541139363, 0.3474550330618338),\n",
       " ('A2_crushedstone_iv', 2, -0.4155154439616658, 0.3474550330618338),\n",
       " ('A2_modbitumen_t', 2, -1.8971199848858813, 0.3474550330618338),\n",
       " ('A2_crushedsand_t', 2, -3.6888794541139363, 0.3474550330618338),\n",
       " ('A2_crushedsand_iv', 2, -0.4155154439616658, 0.3474550330618338),\n",
       " ('A2_naturalsand_t', 2, -3.6888794541139363, 0.3474550330618338),\n",
       " ('A2_naturalsand_iv', 2, -1.8971199848858813, 0.3474550330618338),\n",
       " ('A2_dripresistantmaterial_t', 2, -1.731605546408308, 0.3474550330618338),\n",
       " ('A4_distance_EURO5', 2, -3.402197881995739, 0.3474550330618338),\n",
       " ('A4_distance_EURO6', 2, -4.500810170663849, 0.3474550330618338)]"
      ]
     },
     "execution_count": 51,
     "metadata": {},
     "output_type": "execute_result"
    }
   ],
   "source": [
    "for transport in transport_a4:\n",
    "    exchanges = transport.technosphere()\n",
    "    for exchange in exchanges:\n",
    "        exchanges_dict = exchange.as_dict()\n",
    "        if \"comments\" in exchanges_dict:\n",
    "            parameter = exchanges_dict[\"comments\"]\n",
    "            distribution = exchanges_dict[\"uncertainty_type\"]\n",
    "            loc = exchanges_dict[\"loc\"]\n",
    "            scale = exchanges_dict[\"scale\"]\n",
    "            uncertain_parameters.append((parameter, \n",
    "                    distribution, \n",
    "                    loc,\n",
    "                    scale))\n",
    "uncertain_parameters"
   ]
  },
  {
   "cell_type": "markdown",
   "id": "ba44968c-968e-48be-bc77-40ea36e677e1",
   "metadata": {},
   "source": [
    "### Diesel consumption in A5"
   ]
  },
  {
   "cell_type": "markdown",
   "id": "4703bd43-980a-4685-9444-805285e389ce",
   "metadata": {},
   "source": [
    "Once again, similar procedure but for activities that have 'asphalt, construction' in the name"
   ]
  },
  {
   "cell_type": "code",
   "execution_count": 52,
   "id": "3afdb6b3-ab0a-496a-919e-2afd9e4708bb",
   "metadata": {},
   "outputs": [
    {
     "data": {
      "text/plain": [
       "['asphalt, construction' (kilogram, NL, None)]"
      ]
     },
     "execution_count": 52,
     "metadata": {},
     "output_type": "execute_result"
    }
   ],
   "source": [
    "construction_a5 = fgdb.search(\"asphalt, construction\")\n",
    "construction_a5"
   ]
  },
  {
   "cell_type": "code",
   "execution_count": 53,
   "id": "a5848eba-0361-4f4e-b25a-caf0f22a9ce6",
   "metadata": {},
   "outputs": [
    {
     "data": {
      "text/plain": [
       "[('A2_bitumen_t', 2, -1.3862943611198906, 0.3474550330618338),\n",
       " ('A2_weakfiller_t', 2, -1.995100393246085, 0.3474550330618338),\n",
       " ('A2_ownmaterial_t', 2, -3.6888794541139363, 0.3474550330618338),\n",
       " ('A2_ownmaterial_iv', 2, -1.8971199848858813, 0.3474550330618338),\n",
       " ('A2_crushedstone_t', 2, -3.6888794541139363, 0.3474550330618338),\n",
       " ('A2_crushedstone_iv', 2, -0.4155154439616658, 0.3474550330618338),\n",
       " ('A2_modbitumen_t', 2, -1.8971199848858813, 0.3474550330618338),\n",
       " ('A2_crushedsand_t', 2, -3.6888794541139363, 0.3474550330618338),\n",
       " ('A2_crushedsand_iv', 2, -0.4155154439616658, 0.3474550330618338),\n",
       " ('A2_naturalsand_t', 2, -3.6888794541139363, 0.3474550330618338),\n",
       " ('A2_naturalsand_iv', 2, -1.8971199848858813, 0.3474550330618338),\n",
       " ('A2_dripresistantmaterial_t', 2, -1.731605546408308, 0.3474550330618338),\n",
       " ('A4_distance_EURO5', 2, -3.402197881995739, 0.3474550330618338),\n",
       " ('A4_distance_EURO6', 2, -4.500810170663849, 0.3474550330618338),\n",
       " ('A5_construction', 2, -4.468892567695543, 0.03741657386773941)]"
      ]
     },
     "execution_count": 53,
     "metadata": {},
     "output_type": "execute_result"
    }
   ],
   "source": [
    "for consumption in construction_a5:\n",
    "    exchanges = consumption.technosphere()\n",
    "    for exchange in exchanges:\n",
    "        exchanges_dict = exchange.as_dict()\n",
    "        if \"comments\" in exchanges_dict:\n",
    "            parameter = exchanges_dict[\"comments\"]\n",
    "            distribution = exchanges_dict[\"uncertainty_type\"]\n",
    "            loc = exchanges_dict[\"loc\"]\n",
    "            scale = exchanges_dict[\"scale\"]\n",
    "            uncertain_parameters.append((parameter, \n",
    "                    distribution, \n",
    "                    loc,\n",
    "                    scale))\n",
    "uncertain_parameters"
   ]
  },
  {
   "cell_type": "markdown",
   "id": "2f4d6505-5438-4582-b421-fffb81893918",
   "metadata": {},
   "source": [
    "## STEP 2: Sample generation <a name=\"Step2\"></a>\n",
    "\n",
    "Now that we have retrieved the uncertain parameters information, we can proceed to generate our samples."
   ]
  },
  {
   "cell_type": "markdown",
   "id": "2f7aa472-188c-4268-8c19-dccbbbe9b1c7",
   "metadata": {},
   "source": [
    "First, we define a Latin hypercube sampling (LHS) function:"
   ]
  },
  {
   "cell_type": "code",
   "execution_count": 54,
   "id": "ef2c6b6a-4fce-4ca7-b386-b18f93456530",
   "metadata": {},
   "outputs": [],
   "source": [
    "def LHS_generator(inputs, sample_size, seed=None):\n",
    "    # Determine the number of parameters based on the length of inputs\n",
    "    num_parameters = len(inputs)\n",
    "\n",
    "    # Assign random seed (if specified) for reproducibility\n",
    "    if seed:\n",
    "        np.random.seed(seed)\n",
    "\n",
    "    # Initialize an empty array to hold the results\n",
    "    result = np.empty([sample_size, num_parameters])\n",
    "    \n",
    "    # Calculate the interval width for the uniform distribution\n",
    "    d = 1.0 / sample_size\n",
    "    \n",
    "    # Generate samples using uniform distribution within specified ranges\n",
    "    temp = np.array(\n",
    "        [\n",
    "            np.random.uniform(low=sample * d, high=(sample + 1) * d, size=num_parameters)\n",
    "            for sample in range(sample_size)\n",
    "        ]\n",
    "    )\n",
    "\n",
    "    # Process each parameter to perform Latin Hypercube Sampling for log-normal distribution\n",
    "    for parameter in range(num_parameters):\n",
    "        # Shuffle the samples to ensure randomness\n",
    "        np.random.shuffle(temp[:, parameter])\n",
    "        \n",
    "        # Apply the inverse cumulative distribution function (ppf) of the normal distribution\n",
    "        # then exponentiate to transform to a log-normal distribution\n",
    "        temp[:, parameter] = np.exp(sp.stats.norm.ppf(temp[:, parameter], loc=inputs[parameter][2], scale=inputs[parameter][3]))\n",
    "        \n",
    "        # Fill the result array with processed samples\n",
    "        for sample in range(sample_size):\n",
    "            result[sample, parameter] = temp[sample, parameter]\n",
    "\n",
    "    # Convert result to a DataFrame with column names from the first column of inputs\n",
    "    column_names = [inputs[i][0] for i in range(num_parameters)]\n",
    "    result_df = pd.DataFrame(result, columns=column_names)\n",
    "\n",
    "    return result_df"
   ]
  },
  {
   "cell_type": "markdown",
   "id": "ad1b6ee1-0dc2-4015-ac0f-2abf027a604f",
   "metadata": {},
   "source": [
    "Once defined the LHS function, we can run it for the  parameters for which we gathered and stored the information about their uncertainty (stored in the list 'uncertain_parameters'). We will consider a sample size equal to 100."
   ]
  },
  {
   "cell_type": "code",
   "execution_count": 55,
   "id": "6ecccc87-2f3d-43fb-a79a-ced9a78b6465",
   "metadata": {},
   "outputs": [],
   "source": [
    "# Run the LHS function for the parameters defined above and a sample size equal to 100:\n",
    "sample_size = 100\n",
    "samples = LHS_generator(uncertain_parameters,sample_size)"
   ]
  },
  {
   "cell_type": "code",
   "execution_count": 56,
   "id": "01e47131-ba40-46b6-8537-12d6fae5eefb",
   "metadata": {},
   "outputs": [
    {
     "data": {
      "text/html": [
       "<div>\n",
       "<style scoped>\n",
       "    .dataframe tbody tr th:only-of-type {\n",
       "        vertical-align: middle;\n",
       "    }\n",
       "\n",
       "    .dataframe tbody tr th {\n",
       "        vertical-align: top;\n",
       "    }\n",
       "\n",
       "    .dataframe thead th {\n",
       "        text-align: right;\n",
       "    }\n",
       "</style>\n",
       "<table border=\"1\" class=\"dataframe\">\n",
       "  <thead>\n",
       "    <tr style=\"text-align: right;\">\n",
       "      <th></th>\n",
       "      <th>A2_bitumen_t</th>\n",
       "      <th>A2_weakfiller_t</th>\n",
       "      <th>A2_ownmaterial_t</th>\n",
       "      <th>A2_ownmaterial_iv</th>\n",
       "      <th>A2_crushedstone_t</th>\n",
       "      <th>A2_crushedstone_iv</th>\n",
       "      <th>A2_modbitumen_t</th>\n",
       "      <th>A2_crushedsand_t</th>\n",
       "      <th>A2_crushedsand_iv</th>\n",
       "      <th>A2_naturalsand_t</th>\n",
       "      <th>A2_naturalsand_iv</th>\n",
       "      <th>A2_dripresistantmaterial_t</th>\n",
       "      <th>A4_distance_EURO5</th>\n",
       "      <th>A4_distance_EURO6</th>\n",
       "      <th>A5_construction</th>\n",
       "    </tr>\n",
       "  </thead>\n",
       "  <tbody>\n",
       "    <tr>\n",
       "      <th>0</th>\n",
       "      <td>0.186988</td>\n",
       "      <td>0.090816</td>\n",
       "      <td>0.017878</td>\n",
       "      <td>0.150809</td>\n",
       "      <td>0.018778</td>\n",
       "      <td>0.283613</td>\n",
       "      <td>0.151174</td>\n",
       "      <td>0.022922</td>\n",
       "      <td>1.011340</td>\n",
       "      <td>0.040882</td>\n",
       "      <td>0.239648</td>\n",
       "      <td>0.097962</td>\n",
       "      <td>0.030398</td>\n",
       "      <td>0.013738</td>\n",
       "      <td>0.010855</td>\n",
       "    </tr>\n",
       "    <tr>\n",
       "      <th>1</th>\n",
       "      <td>0.482614</td>\n",
       "      <td>0.112275</td>\n",
       "      <td>0.015196</td>\n",
       "      <td>0.196431</td>\n",
       "      <td>0.015285</td>\n",
       "      <td>0.906041</td>\n",
       "      <td>0.116628</td>\n",
       "      <td>0.021235</td>\n",
       "      <td>0.816017</td>\n",
       "      <td>0.019729</td>\n",
       "      <td>0.146713</td>\n",
       "      <td>0.186327</td>\n",
       "      <td>0.028770</td>\n",
       "      <td>0.011549</td>\n",
       "      <td>0.011055</td>\n",
       "    </tr>\n",
       "    <tr>\n",
       "      <th>2</th>\n",
       "      <td>0.233888</td>\n",
       "      <td>0.084445</td>\n",
       "      <td>0.032406</td>\n",
       "      <td>0.172854</td>\n",
       "      <td>0.026905</td>\n",
       "      <td>0.590818</td>\n",
       "      <td>0.092189</td>\n",
       "      <td>0.025660</td>\n",
       "      <td>0.622125</td>\n",
       "      <td>0.009942</td>\n",
       "      <td>0.193824</td>\n",
       "      <td>0.119267</td>\n",
       "      <td>0.021531</td>\n",
       "      <td>0.020796</td>\n",
       "      <td>0.011227</td>\n",
       "    </tr>\n",
       "    <tr>\n",
       "      <th>3</th>\n",
       "      <td>0.243400</td>\n",
       "      <td>0.081204</td>\n",
       "      <td>0.014497</td>\n",
       "      <td>0.173149</td>\n",
       "      <td>0.025953</td>\n",
       "      <td>1.072545</td>\n",
       "      <td>0.143983</td>\n",
       "      <td>0.039767</td>\n",
       "      <td>0.894397</td>\n",
       "      <td>0.035084</td>\n",
       "      <td>0.299356</td>\n",
       "      <td>0.244170</td>\n",
       "      <td>0.035472</td>\n",
       "      <td>0.007848</td>\n",
       "      <td>0.011797</td>\n",
       "    </tr>\n",
       "    <tr>\n",
       "      <th>4</th>\n",
       "      <td>0.126474</td>\n",
       "      <td>0.141262</td>\n",
       "      <td>0.022221</td>\n",
       "      <td>0.193333</td>\n",
       "      <td>0.036988</td>\n",
       "      <td>0.569645</td>\n",
       "      <td>0.193635</td>\n",
       "      <td>0.022472</td>\n",
       "      <td>0.707327</td>\n",
       "      <td>0.022652</td>\n",
       "      <td>0.110818</td>\n",
       "      <td>0.218343</td>\n",
       "      <td>0.025357</td>\n",
       "      <td>0.007104</td>\n",
       "      <td>0.011145</td>\n",
       "    </tr>\n",
       "    <tr>\n",
       "      <th>...</th>\n",
       "      <td>...</td>\n",
       "      <td>...</td>\n",
       "      <td>...</td>\n",
       "      <td>...</td>\n",
       "      <td>...</td>\n",
       "      <td>...</td>\n",
       "      <td>...</td>\n",
       "      <td>...</td>\n",
       "      <td>...</td>\n",
       "      <td>...</td>\n",
       "      <td>...</td>\n",
       "      <td>...</td>\n",
       "      <td>...</td>\n",
       "      <td>...</td>\n",
       "      <td>...</td>\n",
       "    </tr>\n",
       "    <tr>\n",
       "      <th>95</th>\n",
       "      <td>0.478978</td>\n",
       "      <td>0.149918</td>\n",
       "      <td>0.022035</td>\n",
       "      <td>0.275627</td>\n",
       "      <td>0.024778</td>\n",
       "      <td>0.938572</td>\n",
       "      <td>0.191106</td>\n",
       "      <td>0.030307</td>\n",
       "      <td>0.610964</td>\n",
       "      <td>0.017587</td>\n",
       "      <td>0.134698</td>\n",
       "      <td>0.175100</td>\n",
       "      <td>0.037752</td>\n",
       "      <td>0.015028</td>\n",
       "      <td>0.010046</td>\n",
       "    </tr>\n",
       "    <tr>\n",
       "      <th>96</th>\n",
       "      <td>0.260227</td>\n",
       "      <td>0.120508</td>\n",
       "      <td>0.014704</td>\n",
       "      <td>0.097809</td>\n",
       "      <td>0.033328</td>\n",
       "      <td>0.628536</td>\n",
       "      <td>0.165461</td>\n",
       "      <td>0.026982</td>\n",
       "      <td>1.350715</td>\n",
       "      <td>0.022182</td>\n",
       "      <td>0.218020</td>\n",
       "      <td>0.190325</td>\n",
       "      <td>0.040446</td>\n",
       "      <td>0.005424</td>\n",
       "      <td>0.010775</td>\n",
       "    </tr>\n",
       "    <tr>\n",
       "      <th>97</th>\n",
       "      <td>0.239305</td>\n",
       "      <td>0.060057</td>\n",
       "      <td>0.011237</td>\n",
       "      <td>0.180808</td>\n",
       "      <td>0.030227</td>\n",
       "      <td>0.637243</td>\n",
       "      <td>0.172763</td>\n",
       "      <td>0.027098</td>\n",
       "      <td>1.227119</td>\n",
       "      <td>0.021997</td>\n",
       "      <td>0.100990</td>\n",
       "      <td>0.230460</td>\n",
       "      <td>0.021040</td>\n",
       "      <td>0.010893</td>\n",
       "      <td>0.011485</td>\n",
       "    </tr>\n",
       "    <tr>\n",
       "      <th>98</th>\n",
       "      <td>0.381933</td>\n",
       "      <td>0.100631</td>\n",
       "      <td>0.020730</td>\n",
       "      <td>0.371941</td>\n",
       "      <td>0.018160</td>\n",
       "      <td>0.799711</td>\n",
       "      <td>0.154905</td>\n",
       "      <td>0.016060</td>\n",
       "      <td>0.554830</td>\n",
       "      <td>0.018165</td>\n",
       "      <td>0.184125</td>\n",
       "      <td>0.222574</td>\n",
       "      <td>0.017548</td>\n",
       "      <td>0.008161</td>\n",
       "      <td>0.011858</td>\n",
       "    </tr>\n",
       "    <tr>\n",
       "      <th>99</th>\n",
       "      <td>0.250574</td>\n",
       "      <td>0.085492</td>\n",
       "      <td>0.023406</td>\n",
       "      <td>0.142266</td>\n",
       "      <td>0.025806</td>\n",
       "      <td>0.857063</td>\n",
       "      <td>0.148635</td>\n",
       "      <td>0.036225</td>\n",
       "      <td>0.710828</td>\n",
       "      <td>0.045252</td>\n",
       "      <td>0.123400</td>\n",
       "      <td>0.148405</td>\n",
       "      <td>0.016846</td>\n",
       "      <td>0.014455</td>\n",
       "      <td>0.011290</td>\n",
       "    </tr>\n",
       "  </tbody>\n",
       "</table>\n",
       "<p>100 rows × 15 columns</p>\n",
       "</div>"
      ],
      "text/plain": [
       "    A2_bitumen_t  A2_weakfiller_t  A2_ownmaterial_t  A2_ownmaterial_iv  \\\n",
       "0       0.186988         0.090816          0.017878           0.150809   \n",
       "1       0.482614         0.112275          0.015196           0.196431   \n",
       "2       0.233888         0.084445          0.032406           0.172854   \n",
       "3       0.243400         0.081204          0.014497           0.173149   \n",
       "4       0.126474         0.141262          0.022221           0.193333   \n",
       "..           ...              ...               ...                ...   \n",
       "95      0.478978         0.149918          0.022035           0.275627   \n",
       "96      0.260227         0.120508          0.014704           0.097809   \n",
       "97      0.239305         0.060057          0.011237           0.180808   \n",
       "98      0.381933         0.100631          0.020730           0.371941   \n",
       "99      0.250574         0.085492          0.023406           0.142266   \n",
       "\n",
       "    A2_crushedstone_t  A2_crushedstone_iv  A2_modbitumen_t  A2_crushedsand_t  \\\n",
       "0            0.018778            0.283613         0.151174          0.022922   \n",
       "1            0.015285            0.906041         0.116628          0.021235   \n",
       "2            0.026905            0.590818         0.092189          0.025660   \n",
       "3            0.025953            1.072545         0.143983          0.039767   \n",
       "4            0.036988            0.569645         0.193635          0.022472   \n",
       "..                ...                 ...              ...               ...   \n",
       "95           0.024778            0.938572         0.191106          0.030307   \n",
       "96           0.033328            0.628536         0.165461          0.026982   \n",
       "97           0.030227            0.637243         0.172763          0.027098   \n",
       "98           0.018160            0.799711         0.154905          0.016060   \n",
       "99           0.025806            0.857063         0.148635          0.036225   \n",
       "\n",
       "    A2_crushedsand_iv  A2_naturalsand_t  A2_naturalsand_iv  \\\n",
       "0            1.011340          0.040882           0.239648   \n",
       "1            0.816017          0.019729           0.146713   \n",
       "2            0.622125          0.009942           0.193824   \n",
       "3            0.894397          0.035084           0.299356   \n",
       "4            0.707327          0.022652           0.110818   \n",
       "..                ...               ...                ...   \n",
       "95           0.610964          0.017587           0.134698   \n",
       "96           1.350715          0.022182           0.218020   \n",
       "97           1.227119          0.021997           0.100990   \n",
       "98           0.554830          0.018165           0.184125   \n",
       "99           0.710828          0.045252           0.123400   \n",
       "\n",
       "    A2_dripresistantmaterial_t  A4_distance_EURO5  A4_distance_EURO6  \\\n",
       "0                     0.097962           0.030398           0.013738   \n",
       "1                     0.186327           0.028770           0.011549   \n",
       "2                     0.119267           0.021531           0.020796   \n",
       "3                     0.244170           0.035472           0.007848   \n",
       "4                     0.218343           0.025357           0.007104   \n",
       "..                         ...                ...                ...   \n",
       "95                    0.175100           0.037752           0.015028   \n",
       "96                    0.190325           0.040446           0.005424   \n",
       "97                    0.230460           0.021040           0.010893   \n",
       "98                    0.222574           0.017548           0.008161   \n",
       "99                    0.148405           0.016846           0.014455   \n",
       "\n",
       "    A5_construction  \n",
       "0          0.010855  \n",
       "1          0.011055  \n",
       "2          0.011227  \n",
       "3          0.011797  \n",
       "4          0.011145  \n",
       "..              ...  \n",
       "95         0.010046  \n",
       "96         0.010775  \n",
       "97         0.011485  \n",
       "98         0.011858  \n",
       "99         0.011290  \n",
       "\n",
       "[100 rows x 15 columns]"
      ]
     },
     "execution_count": 56,
     "metadata": {},
     "output_type": "execute_result"
    }
   ],
   "source": [
    "samples"
   ]
  },
  {
   "cell_type": "markdown",
   "id": "27ad8298-b59f-44aa-bea0-e323f5bfcc8b",
   "metadata": {},
   "source": [
    "### Link samples to exchanges\n",
    "\n",
    "Once obtained the samples, we need to link them to the respective exchange. To do so, we need the two functions below (NOTE: you do not have to change nothing in these functions):"
   ]
  },
  {
   "cell_type": "code",
   "execution_count": 57,
   "id": "f56e47ae-032b-437a-882b-33edbeb46efe",
   "metadata": {},
   "outputs": [],
   "source": [
    "def exchange_coords(exchange):\n",
    "    \"\"\"create a tuple with the numerical ids of the input and output activites of an exchange.\"\"\"\n",
    "    input_activity = bd.get_activity(exchange[\"input\"])\n",
    "    output_activity = bd.get_activity(exchange[\"output\"])\n",
    "    return (input_activity.id, output_activity.id)"
   ]
  },
  {
   "cell_type": "code",
   "execution_count": 58,
   "id": "9c2a3318-d955-47d9-9db0-08eef4285f3c",
   "metadata": {},
   "outputs": [],
   "source": [
    "def build_coords_sample(activities, samples_df):\n",
    "    \"\"\"Build the coords + sample dictionnary for all concerned activities.\"\"\"\n",
    "    \n",
    "    coords_samples_map = {}\n",
    "\n",
    "    counter = 0\n",
    "\n",
    "    for activity in activities:\n",
    "        exchanges = activity.technosphere()\n",
    "        for exchange in exchanges:\n",
    "            exchanges_dict = exchange.as_dict()\n",
    "            if \"comments\" in exchanges_dict:\n",
    "                col_name = exchanges_dict[\"comments\"]\n",
    "                coords = exchange_coords(exchange)\n",
    "                counter += 1\n",
    "                print(f\"{counter}. {exchange}\\n\\t 👉 {coords} to {col_name}\")\n",
    "                coords_samples_map[exchange_coords(exchange)] = samples_df[\n",
    "                    col_name\n",
    "                ].values  # numpy.ndarray\n",
    "    return coords_samples_map\n"
   ]
  },
  {
   "cell_type": "markdown",
   "id": "19c0339e-707d-470e-b838-4dd2bea08b13",
   "metadata": {},
   "source": [
    "Below we will group in a list called 'activities' all activities for which we are going to consider the uncertainties in the exchanges:"
   ]
  },
  {
   "cell_type": "code",
   "execution_count": 59,
   "id": "d9729b1f-1286-401a-871b-436c9923dd8d",
   "metadata": {},
   "outputs": [
    {
     "data": {
      "text/plain": [
       "['bitumen, production and transport' (kilogram, NL, None),\n",
       " 'weak filler, production and transport' (kilogram, NL, None),\n",
       " 'other fillers, production and transport' (kilogram, NL, None),\n",
       " 'crushed stone, production and transport' (kilogram, NL, None),\n",
       " 'modified bitumen, production and transport' (kilogram, NL, None),\n",
       " 'crushed sand, production and transport' (kilogram, NL, None),\n",
       " 'natural sand, production and transport' (kilogram, NL, None),\n",
       " 'drip resistant material, production and transport' (kilogram, NL, None),\n",
       " 'asphalt, transport to site' (kilogram, NL, None),\n",
       " 'asphalt, construction' (kilogram, NL, None)]"
      ]
     },
     "execution_count": 59,
     "metadata": {},
     "output_type": "execute_result"
    }
   ],
   "source": [
    "# Group activity variables\n",
    "activities = transport_a2 + transport_a4 + construction_a5\n",
    "activities"
   ]
  },
  {
   "cell_type": "markdown",
   "id": "5d2f3a19-b856-47d6-95f8-98e50efc0d08",
   "metadata": {},
   "source": [
    "We can now run the function above using as argument the activities that contain the parameters for which we consider the uncertainties and the samples generated with LHS:"
   ]
  },
  {
   "cell_type": "code",
   "execution_count": 60,
   "id": "fa841442-9c43-4b73-9c56-496cea76a518",
   "metadata": {},
   "outputs": [
    {
     "name": "stdout",
     "output_type": "stream",
     "text": [
      "1. Exchange: 0.25 ton kilometer 'market for transport, freight, lorry, unspecified' (ton kilometer, RER, None) to 'bitumen, production and transport' (kilogram, NL, None)>\n",
      "\t 👉 (18370, 25951) to A2_bitumen_t\n",
      "2. Exchange: 0.136 ton kilometer 'market for transport, freight, lorry, unspecified' (ton kilometer, RER, None) to 'weak filler, production and transport' (kilogram, NL, None)>\n",
      "\t 👉 (18370, 25957) to A2_weakfiller_t\n",
      "3. Exchange: 0.025 ton kilometer 'market for transport, freight, lorry, unspecified' (ton kilometer, RER, None) to 'other fillers, production and transport' (kilogram, NL, None)>\n",
      "\t 👉 (18370, 25955) to A2_ownmaterial_t\n",
      "4. Exchange: 0.15 ton kilometer 'market for transport, freight, inland waterways, barge' (ton kilometer, RER, None) to 'other fillers, production and transport' (kilogram, NL, None)>\n",
      "\t 👉 (9408, 25955) to A2_ownmaterial_iv\n",
      "5. Exchange: 0.025 ton kilometer 'market for transport, freight, lorry, unspecified' (ton kilometer, RER, None) to 'crushed stone, production and transport' (kilogram, NL, None)>\n",
      "\t 👉 (18370, 25953) to A2_crushedstone_t\n",
      "6. Exchange: 0.66 ton kilometer 'market for transport, freight, inland waterways, barge' (ton kilometer, RER, None) to 'crushed stone, production and transport' (kilogram, NL, None)>\n",
      "\t 👉 (9408, 25953) to A2_crushedstone_iv\n",
      "7. Exchange: 0.15 ton kilometer 'market for transport, freight, lorry, unspecified' (ton kilometer, RER, None) to 'modified bitumen, production and transport' (kilogram, NL, None)>\n",
      "\t 👉 (18370, 25952) to A2_modbitumen_t\n",
      "8. Exchange: 0.025 ton kilometer 'market for transport, freight, lorry, unspecified' (ton kilometer, RER, None) to 'crushed sand, production and transport' (kilogram, NL, None)>\n",
      "\t 👉 (18370, 25954) to A2_crushedsand_t\n",
      "9. Exchange: 0.66 ton kilometer 'market for transport, freight, inland waterways, barge' (ton kilometer, RER, None) to 'crushed sand, production and transport' (kilogram, NL, None)>\n",
      "\t 👉 (9408, 25954) to A2_crushedsand_iv\n",
      "10. Exchange: 0.025 ton kilometer 'market for transport, freight, lorry, unspecified' (ton kilometer, RER, None) to 'natural sand, production and transport' (kilogram, NL, None)>\n",
      "\t 👉 (18370, 25956) to A2_naturalsand_t\n",
      "11. Exchange: 0.15 ton kilometer 'market for transport, freight, inland waterways, barge' (ton kilometer, RER, None) to 'natural sand, production and transport' (kilogram, NL, None)>\n",
      "\t 👉 (9408, 25956) to A2_naturalsand_iv\n",
      "12. Exchange: 0.177 ton kilometer 'market for transport, freight, lorry, unspecified' (ton kilometer, RER, None) to 'drip resistant material, production and transport' (kilogram, NL, None)>\n",
      "\t 👉 (18370, 25958) to A2_dripresistantmaterial_t\n",
      "13. Exchange: 0.033299999999999996 ton kilometer 'transport, freight, lorry >32 metric ton, EURO5' (ton kilometer, RER, None) to 'asphalt, transport to site' (kilogram, NL, None)>\n",
      "\t 👉 (16115, 25969) to A4_distance_EURO5\n",
      "14. Exchange: 0.0111 ton kilometer 'transport, freight, lorry >32 metric ton, EURO6' (ton kilometer, RER, None) to 'asphalt, transport to site' (kilogram, NL, None)>\n",
      "\t 👉 (8986, 25969) to A4_distance_EURO6\n",
      "15. Exchange: 0.011460000000000001 megajoule 'diesel, burned in building machine' (megajoule, GLO, None) to 'asphalt, construction' (kilogram, NL, None)>\n",
      "\t 👉 (18987, 25970) to A5_construction\n"
     ]
    }
   ],
   "source": [
    "coords_samples_map = build_coords_sample(activities, samples)"
   ]
  },
  {
   "cell_type": "code",
   "execution_count": 61,
   "id": "24a9039f-4d3d-417b-9cdd-200a34af30fc",
   "metadata": {
    "scrolled": true
   },
   "outputs": [
    {
     "name": "stdout",
     "output_type": "stream",
     "text": [
      "1. (18370, 25951) --array-> [0.18698771 0.48261364 0.23388846 0.24339967 0.12647381 0.28148457\n",
      " 0.1485588  0.24058131 0.22204003 0.17708844 0.33617988 0.1991595\n",
      " 0.11239396 0.28360139 0.39046019 0.16540682 0.27547255 0.16995815\n",
      " 0.1437884  0.20422354 0.16087485 0.31216481 0.30470111 0.23602859\n",
      " 0.19305932 0.29997747 0.20984499 0.24419251 0.26651489 0.31345149\n",
      " 0.20265802 0.18301173 0.18523392 0.4045373  0.13336998 0.26434845\n",
      " 0.27622723 0.53219032 0.36975082 0.20185259 0.15224214 0.21440144\n",
      " 0.26220254 0.2324598  0.24694666 0.16884386 0.40883499 0.31651487\n",
      " 0.44173833 0.42088633 0.19687532 0.22743915 0.58015586 0.13686257\n",
      " 0.35541115 0.21601327 0.21694139 0.34653428 0.32042805 0.22394347\n",
      " 0.2725071  0.44584432 0.29826736 0.22974252 0.25774831 0.24830422\n",
      " 0.21230184 0.19056229 0.27993085 0.28704086 0.37408346 0.32540219\n",
      " 0.33104761 0.22672545 0.36079285 0.35125139 0.15382183 0.10920129\n",
      " 0.20735282 0.17957845 0.32987592 0.25609536 0.26866001 0.29348727\n",
      " 0.17424695 0.17689661 0.38659871 0.28853216 0.21909602 0.34351733\n",
      " 0.29614873 0.16015467 0.30871104 0.25348942 0.1943601  0.47897836\n",
      " 0.26022685 0.23930504 0.38193306 0.25057436]\n",
      "2. (18370, 25957) --array-> [0.09081587 0.11227486 0.08444502 0.08120432 0.14126225 0.11911537\n",
      " 0.11806408 0.13468871 0.25454043 0.14348781 0.0742888  0.20749136\n",
      " 0.16283841 0.1094138  0.06956997 0.24263495 0.14535703 0.08824787\n",
      " 0.16522754 0.10168494 0.19326257 0.10805225 0.18306137 0.17449927\n",
      " 0.13152531 0.11655584 0.09928015 0.0815573  0.16462388 0.18065339\n",
      " 0.17997813 0.07916432 0.09687699 0.13321752 0.10552001 0.15184616\n",
      " 0.12193896 0.14219456 0.09293921 0.23874181 0.17583452 0.17338589\n",
      " 0.22682122 0.13913513 0.140605   0.13666924 0.09423351 0.32076331\n",
      " 0.20384174 0.10996032 0.12776358 0.15379065 0.20845121 0.16861716\n",
      " 0.06113124 0.10384747 0.12924897 0.13759264 0.10677421 0.16667553\n",
      " 0.13520213 0.1137004  0.15608624 0.12545001 0.12590525 0.18575228\n",
      " 0.15770417 0.12250191 0.12407133 0.18769918 0.19906762 0.14697363\n",
      " 0.08982709 0.10476199 0.1154784  0.19172901 0.09844097 0.16133111\n",
      " 0.17164584 0.12809191 0.21827064 0.155348   0.23250278 0.21300724\n",
      " 0.11765511 0.14837046 0.09528744 0.11174739 0.26174271 0.13075013\n",
      " 0.15959135 0.28734582 0.1977569  0.14890793 0.07140528 0.14991816\n",
      " 0.12050813 0.06005722 0.10063095 0.08549218]\n",
      "3. (18370, 25955) --array-> [0.01787762 0.0151961  0.03240581 0.01449668 0.02222118 0.0101805\n",
      " 0.01681126 0.02279887 0.02303602 0.02766351 0.03760382 0.02740508\n",
      " 0.05184255 0.0384017  0.02663962 0.01879235 0.01974219 0.062603\n",
      " 0.04548987 0.03295835 0.02386923 0.02799838 0.03052575 0.01391503\n",
      " 0.02903445 0.02572718 0.02872192 0.04040201 0.02469438 0.03420522\n",
      " 0.01710534 0.02020144 0.03768241 0.01925439 0.0322754  0.01813268\n",
      " 0.02039205 0.03095403 0.02113462 0.03449643 0.02949314 0.03138268\n",
      " 0.02246209 0.02181314 0.03598429 0.02840868 0.01844349 0.02441044\n",
      " 0.02418793 0.02607909 0.03538247 0.01317622 0.03076446 0.02093001\n",
      " 0.01550599 0.02048507 0.03027906 0.03527549 0.02364923 0.03180144\n",
      " 0.02314025 0.0251987  0.03378662 0.02706908 0.02989228 0.02644708\n",
      " 0.04246175 0.02479192 0.02553612 0.0369301  0.02625997 0.04378151\n",
      " 0.04772838 0.02138297 0.01937367 0.01755248 0.01242247 0.02165367\n",
      " 0.01578444 0.02268268 0.02531384 0.02405543 0.04160161 0.01657376\n",
      " 0.02928875 0.01840573 0.03313748 0.01902409 0.03910639 0.04826536\n",
      " 0.01980877 0.01740636 0.0281994  0.01627698 0.02698803 0.02203482\n",
      " 0.01470387 0.01123711 0.02073049 0.02340556]\n",
      "4. (9408, 25955) --array-> [0.15080922 0.19643149 0.17285357 0.17314942 0.19333284 0.16481112\n",
      " 0.22624539 0.25624598 0.15554759 0.09335511 0.32607752 0.07115187\n",
      " 0.09431412 0.1636408  0.17670659 0.11382586 0.10673238 0.27426355\n",
      " 0.13912157 0.10496602 0.17967714 0.13791632 0.18482189 0.13352625\n",
      " 0.21181566 0.08797939 0.18598865 0.15287666 0.25867279 0.13378459\n",
      " 0.20161085 0.09161895 0.09899521 0.23038688 0.14609107 0.12123148\n",
      " 0.20711586 0.16637841 0.2125664  0.17522403 0.12789659 0.15746152\n",
      " 0.20385793 0.14021649 0.19052743 0.22289262 0.08595471 0.16177713\n",
      " 0.18920494 0.18248469 0.11082359 0.14706676 0.10022448 0.13061772\n",
      " 0.07512535 0.11993983 0.13694365 0.11021301 0.1158605  0.13206604\n",
      " 0.11731763 0.1293802  0.06581211 0.13559855 0.15990985 0.14885883\n",
      " 0.10281052 0.12299992 0.16899019 0.14409667 0.14334779 0.24246352\n",
      " 0.12661153 0.12591623 0.10408499 0.19990324 0.12133365 0.10767398\n",
      " 0.21586137 0.17016395 0.15825732 0.21956379 0.07827146 0.19589426\n",
      " 0.15445252 0.15136351 0.11859505 0.11284474 0.12463028 0.1478213\n",
      " 0.29672618 0.23859561 0.0836468  0.24906626 0.16805607 0.27562674\n",
      " 0.09780916 0.18080789 0.3719406  0.14226612]\n",
      "5. (18370, 25953) --array-> [0.01877798 0.01528523 0.02690466 0.0259529  0.03698837 0.0256324\n",
      " 0.01741408 0.01942943 0.03988029 0.02168167 0.02300733 0.01335371\n",
      " 0.02517298 0.01840708 0.02232124 0.01382725 0.01964344 0.02752674\n",
      " 0.02100723 0.01421126 0.02524729 0.0288107  0.0336859  0.02828645\n",
      " 0.0411731  0.05175252 0.02895355 0.041888   0.03630503 0.03154997\n",
      " 0.03177975 0.02368491 0.02805369 0.01544753 0.02432784 0.02716874\n",
      " 0.03422365 0.02841908 0.01930551 0.04542619 0.01844641 0.02649138\n",
      " 0.01686152 0.03872365 0.01750155 0.03799618 0.0206959  0.04945965\n",
      " 0.02040373 0.03283284 0.02771247 0.03672542 0.02159715 0.03462642\n",
      " 0.02375551 0.02139927 0.01898323 0.017929   0.01659726 0.01588384\n",
      " 0.03513865 0.02947669 0.02107669 0.01096436 0.02974966 0.01626774\n",
      " 0.02195305 0.02933211 0.03930715 0.02451525 0.03109612 0.01266869\n",
      " 0.0433362  0.03091911 0.03578008 0.02013583 0.02397707 0.02058046\n",
      " 0.01495682 0.03057802 0.026809   0.03259086 0.02614701 0.01714871\n",
      " 0.02483021 0.01223965 0.02335816 0.02214889 0.03230879 0.04653264\n",
      " 0.02250074 0.02329682 0.01980252 0.05738753 0.02276385 0.02477819\n",
      " 0.03332821 0.03022732 0.01816031 0.02580566]\n",
      "6. (9408, 25953) --array-> [0.28361263 0.90604091 0.59081769 1.07254512 0.569645   0.30310803\n",
      " 0.83395234 0.62516675 0.45714654 0.87312677 0.5061369  0.96931086\n",
      " 0.66774093 0.76226192 0.35777138 0.60149734 0.55773673 0.47361219\n",
      " 0.51447177 0.90933749 0.683055   0.61467674 0.69562339 0.43047201\n",
      " 0.55137106 0.65892872 0.64414975 0.39496    0.46246488 0.52589555\n",
      " 0.89525554 0.33652241 0.78472159 0.67436728 0.69409591 0.70371793\n",
      " 0.48639323 0.84469548 1.40425717 0.53830732 1.15154068 0.73471519\n",
      " 0.40685893 0.373364   0.74572725 0.92642837 1.00930977 1.02594083\n",
      " 0.48788205 0.63781479 0.98009273 0.5630815  1.11393725 0.75637156\n",
      " 0.83458463 1.24501124 0.54339664 0.48011413 0.50206777 0.43224151\n",
      " 0.49615909 0.82094916 0.72516531 0.88139073 0.57880693 0.77570576\n",
      " 0.7094706  0.95170426 1.58170115 0.61623285 0.80530339 0.39953845\n",
      " 0.57283759 1.08241753 0.36300861 0.53097668 0.6049381  0.64898966\n",
      " 0.51875276 0.44220574 0.75124623 0.54747425 1.18427457 0.71762075\n",
      " 0.7318131  0.42223679 0.58562583 0.45045812 1.31187849 0.66232762\n",
      " 1.04351167 0.68640931 0.81345527 0.77922667 0.59638385 0.93857155\n",
      " 0.62853629 0.63724299 0.79971105 0.85706269]\n",
      "7. (18370, 25952) --array-> [0.15117415 0.1166278  0.09218864 0.14398314 0.19363543 0.33468121\n",
      " 0.38063835 0.12575479 0.13892603 0.10395108 0.15210079 0.10652174\n",
      " 0.18601606 0.19801747 0.20870145 0.09904963 0.17854668 0.11842488\n",
      " 0.28677419 0.19941143 0.07534939 0.10478848 0.16447867 0.15532969\n",
      " 0.1626439  0.15934707 0.14966094 0.122091   0.2224492  0.1959329\n",
      " 0.09103464 0.24532091 0.10983129 0.11287766 0.10158342 0.14237805\n",
      " 0.23429171 0.0865063  0.14505351 0.09637106 0.17681516 0.0810747\n",
      " 0.27226715 0.16167369 0.08270341 0.12892261 0.21388047 0.1847166\n",
      " 0.13847535 0.170904   0.26072188 0.13468892 0.17338426 0.15324096\n",
      " 0.1088372  0.13102256 0.11348286 0.13519871 0.08924334 0.20299986\n",
      " 0.12324835 0.11586533 0.16010081 0.14018112 0.25263485 0.16792662\n",
      " 0.11941175 0.1761468  0.12873462 0.20523603 0.13247797 0.15737203\n",
      " 0.10108513 0.1826615  0.12653519 0.07137285 0.11063253 0.1363565\n",
      " 0.22963221 0.16985759 0.12450741 0.21709317 0.13235606 0.24319924\n",
      " 0.14704138 0.14180608 0.18928092 0.11999147 0.22971655 0.21950379\n",
      " 0.09511695 0.18078103 0.30117446 0.20947781 0.06027509 0.19110613\n",
      " 0.16546128 0.1727632  0.15490518 0.14863548]\n",
      "8. (18370, 25954) --array-> [0.02292235 0.02123497 0.02566023 0.03976685 0.02247218 0.02646815\n",
      " 0.02615757 0.0517986  0.02022497 0.02424664 0.02074483 0.01991843\n",
      " 0.02318333 0.03214424 0.01797047 0.01846713 0.01706771 0.03107719\n",
      " 0.06228227 0.02448749 0.03467057 0.02961454 0.0293903  0.01318546\n",
      " 0.01999415 0.01746913 0.01583024 0.04026578 0.01261664 0.01425819\n",
      " 0.03839796 0.03493485 0.0195088  0.01667143 0.02493786 0.04689399\n",
      " 0.0187695  0.02504722 0.04300912 0.03546207 0.02363619 0.02088655\n",
      " 0.03184866 0.02597228 0.03269969 0.01566169 0.02758066 0.01969634\n",
      " 0.0454581  0.03020709 0.02257572 0.03660061 0.01895913 0.02908931\n",
      " 0.02679125 0.05050162 0.03073169 0.02804908 0.04144015 0.03246304\n",
      " 0.01187504 0.02587462 0.02273573 0.03822323 0.02133412 0.01824601\n",
      " 0.02166263 0.01369225 0.024576   0.03136793 0.0252537  0.01737932\n",
      " 0.02375784 0.02045045 0.03355054 0.03326956 0.02878587 0.03430365\n",
      " 0.02849884 0.04271643 0.01636319 0.02211623 0.017935   0.01030573\n",
      " 0.02331847 0.02815746 0.02738438 0.03738921 0.01932374 0.01490383\n",
      " 0.02153458 0.02403927 0.02205199 0.02977853 0.01505889 0.030307\n",
      " 0.02698218 0.02709841 0.01605994 0.03622528]\n",
      "9. (9408, 25954) --array-> [1.01134017 0.81601694 0.62212479 0.89439699 0.7073275  0.4991529\n",
      " 0.93365309 0.76628642 0.53490417 0.43091941 0.57228421 0.86799105\n",
      " 0.37193539 0.80597819 1.07505096 0.56709397 1.16212314 0.83113342\n",
      " 0.69701599 0.79841607 1.94372996 0.83506915 0.4524266  0.64741432\n",
      " 0.91113809 0.74548648 0.97482247 0.59730255 0.72235049 0.98301834\n",
      " 0.58126143 0.51192088 0.56430456 0.74048965 0.28043939 1.09095133\n",
      " 0.90256799 0.60919697 0.55922755 0.39670495 0.59239012 0.4418125\n",
      " 0.48523865 0.84879506 0.82447007 0.51022871 0.75512079 0.99347234\n",
      " 0.6938814  0.77065094 0.35307212 0.3182321  0.32710664 0.37845374\n",
      " 0.66933079 0.54759411 0.63477685 0.7199227  0.92817103 0.49639213\n",
      " 0.64035403 0.67506111 0.53330478 0.54283147 0.60215703 0.48784261\n",
      " 0.52066478 1.28054569 0.52471269 0.68297136 0.78798903 0.63131056\n",
      " 1.03435152 0.46363108 0.87437797 1.19912086 0.47028858 0.39287959\n",
      " 0.86198753 0.42165069 0.72926471 0.47404593 0.95439022 0.58278656\n",
      " 1.10983856 0.74961429 0.66263119 0.433825   0.65623953 0.40620664\n",
      " 0.61969311 0.78163858 0.45807692 0.65407677 0.68828629 0.6109642\n",
      " 1.35071528 1.22711868 0.55483031 0.7108275 ]\n",
      "10. (18370, 25956) --array-> [0.04088237 0.01972896 0.00994156 0.03508352 0.02265243 0.01785701\n",
      " 0.02393594 0.02870226 0.02983516 0.03823911 0.02468628 0.01704194\n",
      " 0.03664381 0.0358985  0.04264997 0.02621237 0.01482129 0.04617308\n",
      " 0.03168794 0.03128171 0.03368649 0.02141244 0.0307177  0.01673032\n",
      " 0.03403879 0.03562578 0.02095671 0.01838979 0.0155382  0.03336736\n",
      " 0.03103446 0.0200883  0.02480913 0.02816915 0.02536775 0.0187153\n",
      " 0.04343011 0.02506215 0.01521552 0.02021609 0.03047548 0.02595192\n",
      " 0.03857829 0.01577215 0.03446072 0.02652615 0.03272644 0.02911464\n",
      " 0.01228767 0.03920539 0.01321331 0.03752762 0.03000321 0.02683753\n",
      " 0.0217288  0.03230629 0.01844229 0.02423435 0.02847477 0.01980881\n",
      " 0.02558974 0.01953037 0.0258753  0.02438348 0.02362808 0.04010065\n",
      " 0.03247211 0.01644207 0.0191109  0.02388782 0.02048782 0.05222549\n",
      " 0.02677437 0.01737928 0.01631703 0.02147063 0.02770375 0.02741825\n",
      " 0.0491035  0.01410651 0.02105038 0.02926523 0.0232768  0.022775\n",
      " 0.02295932 0.01419433 0.06532637 0.01929695 0.01165969 0.02964737\n",
      " 0.02071058 0.02336846 0.02714722 0.02789782 0.02238267 0.0175872\n",
      " 0.02218215 0.02199733 0.0181647  0.04525207]\n",
      "11. (9408, 25956) --array-> [0.23964786 0.14671297 0.19382432 0.29935586 0.11081825 0.1330639\n",
      " 0.20804284 0.17652737 0.08273252 0.11766179 0.16991867 0.10583498\n",
      " 0.13242097 0.09499629 0.07049777 0.09634489 0.16828317 0.1429313\n",
      " 0.19816331 0.14556999 0.14362618 0.25272218 0.21108636 0.06498323\n",
      " 0.12207877 0.12502027 0.20534646 0.11451584 0.24969717 0.259742\n",
      " 0.12752469 0.19018808 0.19500645 0.11646808 0.13037905 0.10961669\n",
      " 0.22314099 0.22655129 0.16514976 0.31484829 0.27774536 0.18877723\n",
      " 0.149598   0.26650136 0.15543408 0.10882021 0.22152011 0.16578415\n",
      " 0.1547618  0.1526124  0.10334489 0.21414256 0.1268752  0.10214991\n",
      " 0.12460836 0.09294732 0.17202923 0.15729177 0.17564783 0.23164922\n",
      " 0.14819545 0.17435946 0.19913577 0.13876782 0.12892645 0.16372776\n",
      " 0.20293486 0.13703123 0.18321532 0.0989688  0.18693126 0.0872652\n",
      " 0.23865481 0.16923803 0.10626324 0.15994776 0.17945579 0.07859603\n",
      " 0.13610052 0.12025181 0.11298541 0.16212659 0.15115452 0.09100116\n",
      " 0.11514335 0.14209675 0.07697703 0.08965462 0.11977101 0.13840121\n",
      " 0.35196847 0.15332802 0.14078316 0.1587327  0.180571   0.13469818\n",
      " 0.21802005 0.10099035 0.18412499 0.12340009]\n",
      "12. (18370, 25958) --array-> [0.09796221 0.18632667 0.11926714 0.2441705  0.21834263 0.17175019\n",
      " 0.18758114 0.12417842 0.09591102 0.1599606  0.23423268 0.28187503\n",
      " 0.13787178 0.24051519 0.29268645 0.19435464 0.20717274 0.21639944\n",
      " 0.10723123 0.17707807 0.16391363 0.13656506 0.17648779 0.13242973\n",
      " 0.18086504 0.1789348  0.10248954 0.27551019 0.2860159  0.15380199\n",
      " 0.48593834 0.18213155 0.1609992  0.15690836 0.08878527 0.22640924\n",
      " 0.14951872 0.20179627 0.25536852 0.14131922 0.23708489 0.16338028\n",
      " 0.11176901 0.15112215 0.15302029 0.20913248 0.14541266 0.12203734\n",
      " 0.11006561 0.16505568 0.18471235 0.26254186 0.13959021 0.11351653\n",
      " 0.08427847 0.17088949 0.14366353 0.32592052 0.12780161 0.27054712\n",
      " 0.31160543 0.2051615  0.21308746 0.36522358 0.12034728 0.25301076\n",
      " 0.19237826 0.20249652 0.31436913 0.1165247  0.15520027 0.17317391\n",
      " 0.14635658 0.10475183 0.22498799 0.13420302 0.23919551 0.13173015\n",
      " 0.06777378 0.21175674 0.12549182 0.22044119 0.14300021 0.15824101\n",
      " 0.1689133  0.20005205 0.13006133 0.18869874 0.26163551 0.19862802\n",
      " 0.29727874 0.1954736  0.34147868 0.247465   0.1677246  0.17509985\n",
      " 0.19032512 0.23046026 0.22257366 0.14840503]\n",
      "13. (16115, 25969) --array-> [0.03039839 0.02876961 0.02153071 0.03547222 0.02535698 0.04992978\n",
      " 0.05720169 0.03587507 0.01618977 0.01822471 0.02392093 0.03192055\n",
      " 0.0607207  0.02549133 0.04722811 0.04411646 0.05106542 0.02914815\n",
      " 0.04273201 0.02814605 0.02060966 0.03064744 0.05526634 0.03993416\n",
      " 0.03351647 0.03635187 0.04154552 0.02260135 0.03411521 0.04505095\n",
      " 0.05245287 0.02672229 0.03378968 0.07076443 0.03733564 0.04207329\n",
      " 0.03319474 0.03512457 0.02941878 0.02621164 0.02442502 0.02896854\n",
      " 0.03089286 0.03260055 0.06154158 0.03859206 0.02202022 0.03224361\n",
      " 0.03739164 0.03436931 0.08072336 0.05415683 0.02474416 0.06425974\n",
      " 0.0278786  0.02976689 0.03481542 0.02845871 0.03808791 0.03943077\n",
      " 0.05033056 0.0124771  0.01912632 0.02643178 0.02382835 0.04545994\n",
      " 0.04776041 0.01980789 0.04636073 0.0273624  0.03466887 0.03905196\n",
      " 0.02775093 0.02601247 0.03187621 0.04326065 0.02331268 0.04390187\n",
      " 0.02315089 0.02248749 0.02707875 0.02040802 0.03279414 0.03648819\n",
      " 0.04889926 0.02999963 0.03118633 0.04090703 0.04692208 0.03142722\n",
      " 0.03998189 0.05713657 0.03680427 0.04242461 0.02490471 0.03775237\n",
      " 0.04044643 0.02103993 0.01754754 0.01684577]\n",
      "14. (8986, 25969) --array-> [0.01373754 0.01154914 0.02079551 0.00784812 0.00710442 0.02280745\n",
      " 0.00742939 0.01422436 0.01297519 0.01855158 0.00856177 0.01551596\n",
      " 0.01994943 0.00844108 0.00834284 0.01014421 0.00877123 0.00492155\n",
      " 0.01101419 0.01344302 0.01125622 0.00667623 0.01325105 0.0147302\n",
      " 0.01223919 0.02152251 0.00572865 0.01579395 0.00917472 0.01715931\n",
      " 0.01191162 0.02640365 0.012072   0.00939949 0.00879971 0.0140279\n",
      " 0.01189446 0.00961747 0.01692612 0.01642712 0.00894702 0.01137958\n",
      " 0.01018014 0.00693588 0.0075183  0.00796678 0.00909407 0.01847699\n",
      " 0.0077301  0.01517527 0.0121843  0.01033972 0.01175171 0.01001602\n",
      " 0.01362225 0.0116534  0.00978737 0.00991125 0.01148548 0.01048063\n",
      " 0.01038998 0.01463363 0.01242548 0.0178174  0.0124778  0.00625546\n",
      " 0.00728912 0.00984403 0.00719666 0.01410884 0.01065774 0.00926487\n",
      " 0.00647668 0.01273298 0.01526957 0.00899961 0.00602933 0.01265801\n",
      " 0.01293042 0.01923648 0.01061728 0.00819283 0.00859999 0.00645012\n",
      " 0.0109391  0.01347205 0.0131542  0.01767894 0.01621729 0.00951937\n",
      " 0.0160148  0.01076334 0.01114852 0.0096213  0.00801011 0.01502776\n",
      " 0.00542447 0.0108934  0.00816142 0.01445498]\n",
      "15. (18987, 25970) --array-> [0.01085482 0.01105485 0.01122712 0.0117972  0.01114491 0.01150567\n",
      " 0.0119133  0.01206231 0.01134489 0.01158992 0.01119649 0.01173919\n",
      " 0.01128019 0.01117759 0.01101136 0.01233664 0.0115415  0.01052193\n",
      " 0.01132622 0.01133203 0.01111008 0.01100107 0.01154883 0.01147606\n",
      " 0.01139746 0.012009   0.01117034 0.01182393 0.01135748 0.01228853\n",
      " 0.01146607 0.01143974 0.01183671 0.01187202 0.0108324  0.01153564\n",
      " 0.01121513 0.01174003 0.01125186 0.01164343 0.01171409 0.0115697\n",
      " 0.01177394 0.01115549 0.01176116 0.01159302 0.01203665 0.0113892\n",
      " 0.01163111 0.01063424 0.01131744 0.01136367 0.01149573 0.01165272\n",
      " 0.01124472 0.01145152 0.01126946 0.0109148  0.01080008 0.01098645\n",
      " 0.01253631 0.01167786 0.01214008 0.01167063 0.01107845 0.01162497\n",
      " 0.0122308  0.01141462 0.01088963 0.011789   0.01109415 0.01170093\n",
      " 0.01197375 0.01096626 0.011074   0.01069671 0.01199224 0.01130158\n",
      " 0.0113815  0.01193564 0.0121617  0.01169193 0.01189461 0.0120968\n",
      " 0.01121163 0.01151734 0.01093754 0.0114379  0.0111242  0.01142026\n",
      " 0.01188977 0.01239621 0.01102569 0.01156148 0.01160397 0.01004631\n",
      " 0.01077546 0.01148545 0.01185757 0.01129013]\n"
     ]
    }
   ],
   "source": [
    "# Prints the dictionnary with the coordinates and vector with the samples.\n",
    "counter = 0\n",
    "for k, v in coords_samples_map.items():\n",
    "    counter +=1\n",
    "    print(f\"{counter}. {k} --array-> {v}\")"
   ]
  },
  {
   "cell_type": "markdown",
   "id": "3e6982b2-f9c8-4054-b0d7-32ea66a0fd29",
   "metadata": {},
   "source": [
    "## STEP 3: Static (i.e, deterministic) LCA <a name=\"Step3\"></a>\n",
    "\n",
    "In this step we are going to perform a static LCA for the product system we are interested in. Let's consider the example 3.4 of the previous notebook. Given that we are already familiar with static LCA, we will abreviate the explanations"
   ]
  },
  {
   "cell_type": "code",
   "execution_count": 62,
   "id": "74ebb4d8-9546-45c1-ab34-0bc22974d208",
   "metadata": {},
   "outputs": [],
   "source": [
    "pavement_structure = fgdb.get(\"pavement_structure_1\")"
   ]
  },
  {
   "cell_type": "markdown",
   "id": "2bd41315-1259-4c2c-82b6-689365273273",
   "metadata": {},
   "source": [
    "### Functional Unit"
   ]
  },
  {
   "cell_type": "code",
   "execution_count": 63,
   "id": "1a528398-d390-4b53-842f-d2b3d3d95903",
   "metadata": {},
   "outputs": [],
   "source": [
    "functional_unit = {pavement_structure:1}"
   ]
  },
  {
   "cell_type": "markdown",
   "id": "b8de3e37-bcfa-4ef7-81a2-b93e5a92eeda",
   "metadata": {},
   "source": [
    "### LCIA Method"
   ]
  },
  {
   "cell_type": "code",
   "execution_count": 64,
   "id": "fe35eb83-cde2-49b2-a82a-dedb944da69d",
   "metadata": {},
   "outputs": [],
   "source": [
    "cml_method_gwp = (\n",
    "    \"CML v4.8 2016\",\n",
    "    \"climate change\",\n",
    "    \"global warming potential (GWP100)\",\n",
    ")"
   ]
  },
  {
   "cell_type": "markdown",
   "id": "88114e61-c7df-44e2-9535-889a64d92802",
   "metadata": {},
   "source": [
    "### LCIA scores (i.e. results) calculation"
   ]
  },
  {
   "cell_type": "code",
   "execution_count": 65,
   "id": "ddbe4c7f-8b7d-4433-a3db-13a5a010c74e",
   "metadata": {},
   "outputs": [],
   "source": [
    "# Create a lca object\n",
    "a_lca = bc.LCA({pavement_structure: 1}, cml_method_gwp)"
   ]
  },
  {
   "cell_type": "code",
   "execution_count": 66,
   "id": "c9b1db0c-6f99-40f8-ba69-0cda0f9b15aa",
   "metadata": {},
   "outputs": [
    {
     "data": {
      "text/plain": [
       "1295038.759926335"
      ]
     },
     "execution_count": 66,
     "metadata": {},
     "output_type": "execute_result"
    }
   ],
   "source": [
    "a_lca.lci()\n",
    "a_lca.lcia()\n",
    "a_lca.score"
   ]
  },
  {
   "cell_type": "code",
   "execution_count": 67,
   "id": "2a62bde9-4ce9-4dea-bd28-051bafc30e31",
   "metadata": {},
   "outputs": [
    {
     "name": "stdout",
     "output_type": "stream",
     "text": [
      "The score is 1295038.759926 kg CO2-Eq for impact category climate change\n"
     ]
    }
   ],
   "source": [
    "print(\"The score is {:f} {} for impact category {}\".format(a_lca.score, \n",
    "                                                 bd.methods.get(cml_method_gwp).get('unit'),\n",
    "                                                 cml_method_gwp[1]))"
   ]
  },
  {
   "cell_type": "markdown",
   "id": "970a95a2-b916-4243-96d6-6ac0797340a7",
   "metadata": {},
   "source": [
    "## Step 4: Adding Uncertainties <a name=\"Step4\"></a>\n",
    "\n",
    "In this setp we are going to add the uncertainty to the exchanges. Be aware that uncertainties are added to exchanges (not activities).\n",
    "\n",
    "### LCA using datapackages"
   ]
  },
  {
   "cell_type": "markdown",
   "id": "2c2eb6a4-a100-4fda-a21a-dfc2becea70c",
   "metadata": {},
   "source": [
    "Below we are using the method `prepare_lca_inputs` that must have as argument the same that you considered when you created the LCA object above."
   ]
  },
  {
   "cell_type": "code",
   "execution_count": 68,
   "id": "1b2f44f1-dc86-4501-9d0e-7cc1c5d2699a",
   "metadata": {},
   "outputs": [],
   "source": [
    "indexed_demand, data_objs, remapping_dicts = bd.prepare_lca_inputs({pavement_structure: 1}, cml_method_gwp)"
   ]
  },
  {
   "cell_type": "markdown",
   "id": "4eccffad-62c8-4a9a-8305-8ec3c8876e97",
   "metadata": {},
   "source": [
    "NOTE: there is no need to make changes in the upcoming cells until the heading 'Plot the results'"
   ]
  },
  {
   "cell_type": "code",
   "execution_count": 87,
   "id": "372ae05d-97a5-4f22-b886-b0ccd9c315f2",
   "metadata": {},
   "outputs": [
    {
     "data": {
      "text/plain": [
       "{25983: 1}"
      ]
     },
     "execution_count": 87,
     "metadata": {},
     "output_type": "execute_result"
    }
   ],
   "source": [
    "indexed_demand"
   ]
  },
  {
   "cell_type": "code",
   "execution_count": 70,
   "id": "99725256-80f6-482b-a77d-a8f5a3b72473",
   "metadata": {},
   "outputs": [
    {
     "data": {
      "text/plain": [
       "[<bw_processing.datapackage.Datapackage at 0x31ca48c10>,\n",
       " <bw_processing.datapackage.Datapackage at 0x31dd9c150>,\n",
       " <bw_processing.datapackage.Datapackage at 0x31dd96390>,\n",
       " <bw_processing.datapackage.Datapackage at 0x32d561b10>]"
      ]
     },
     "execution_count": 70,
     "metadata": {},
     "output_type": "execute_result"
    }
   ],
   "source": [
    "data_objs"
   ]
  },
  {
   "cell_type": "code",
   "execution_count": 71,
   "id": "4edb522c-9f6b-4ecf-aefd-603e73a6873a",
   "metadata": {
    "scrolled": true
   },
   "outputs": [],
   "source": [
    "dp_correlated = bwp.create_datapackage(sequential=True)"
   ]
  },
  {
   "cell_type": "code",
   "execution_count": 72,
   "id": "a52eb526-bc70-494b-a3bd-a409b54f0e5f",
   "metadata": {},
   "outputs": [
    {
     "name": "stdout",
     "output_type": "stream",
     "text": [
      "[(18370, 25951),\n",
      " (18370, 25957),\n",
      " (18370, 25955),\n",
      " (9408, 25955),\n",
      " (18370, 25953),\n",
      " (9408, 25953),\n",
      " (18370, 25952),\n",
      " (18370, 25954),\n",
      " (9408, 25954),\n",
      " (18370, 25956),\n",
      " (9408, 25956),\n",
      " (18370, 25958),\n",
      " (16115, 25969),\n",
      " (8986, 25969),\n",
      " (18987, 25970)]\n"
     ]
    }
   ],
   "source": [
    "samples_indices = [coord for coord in coords_samples_map.keys()]\n",
    "pprint(samples_indices)"
   ]
  },
  {
   "cell_type": "code",
   "execution_count": 73,
   "id": "797a5fbf-c237-497a-a97b-09b85c1e4223",
   "metadata": {},
   "outputs": [
    {
     "name": "stdout",
     "output_type": "stream",
     "text": [
      "array([[0.18698771, 0.48261364, 0.23388846, ..., 0.23930504, 0.38193306,\n",
      "        0.25057436],\n",
      "       [0.09081587, 0.11227486, 0.08444502, ..., 0.06005722, 0.10063095,\n",
      "        0.08549218],\n",
      "       [0.01787762, 0.0151961 , 0.03240581, ..., 0.01123711, 0.02073049,\n",
      "        0.02340556],\n",
      "       ...,\n",
      "       [0.03039839, 0.02876961, 0.02153071, ..., 0.02103993, 0.01754754,\n",
      "        0.01684577],\n",
      "       [0.01373754, 0.01154914, 0.02079551, ..., 0.0108934 , 0.00816142,\n",
      "        0.01445498],\n",
      "       [0.01085482, 0.01105485, 0.01122712, ..., 0.01148545, 0.01185757,\n",
      "        0.01129013]])\n"
     ]
    }
   ],
   "source": [
    "# Prepare the data_array, it must be an array of arrays\n",
    "samples_values = np.array([coords_samples_map[coord] for coord in samples_indices])\n",
    "pprint(samples_values)"
   ]
  },
  {
   "cell_type": "code",
   "execution_count": 74,
   "id": "3dbdbb86-320c-41f8-abc7-92ee390f607f",
   "metadata": {},
   "outputs": [],
   "source": [
    "dp_correlated.add_persistent_array(\n",
    "    matrix=\"technosphere_matrix\",\n",
    "    indices_array=np.array(samples_indices, dtype=bwp.INDICES_DTYPE),\n",
    "    data_array=samples_values,\n",
    "    # We flip the signs of the samples\n",
    "    # to obey bw's convention\n",
    "    flip_array=np.array([True for _ in range(len(samples_values))]),\n",
    ")"
   ]
  },
  {
   "cell_type": "markdown",
   "id": "4e09be8c-b020-458d-9cb1-6b6ab3618754",
   "metadata": {},
   "source": [
    "## Step 5: Stochastic LCA <a name=\"Step5\"></a>\n",
    "\n",
    "In this step we are going to perform the stochastic LCA considering the uncertainties in the exchanges scrutinized in the previous steps.\n",
    "\n",
    "### Build the new data objects to re-do the LCA"
   ]
  },
  {
   "cell_type": "code",
   "execution_count": 89,
   "id": "d8d26b79-059b-4811-80d2-de2a03071e45",
   "metadata": {},
   "outputs": [],
   "source": [
    "data_objs.append(dp_correlated)"
   ]
  },
  {
   "cell_type": "code",
   "execution_count": 105,
   "id": "5a694ac3-1d4d-4dc2-8405-a993795c28e6",
   "metadata": {},
   "outputs": [
    {
     "data": {
      "text/plain": [
       "1217862.5285053672"
      ]
     },
     "execution_count": 105,
     "metadata": {},
     "output_type": "execute_result"
    }
   ],
   "source": [
    "dp_lca = bc.LCA(demand=indexed_demand, data_objs=data_objs, use_arrays=True)\n",
    "dp_lca.lci()\n",
    "dp_lca.lcia()\n",
    "dp_lca.score"
   ]
  },
  {
   "cell_type": "code",
   "execution_count": 88,
   "id": "81c516c1-b30c-4183-a5df-cf747e2bd0c1",
   "metadata": {},
   "outputs": [
    {
     "name": "stderr",
     "output_type": "stream",
     "text": [
      "100%|█████████████████████████████████████████| 100/100 [02:41<00:00,  1.62s/it]\n"
     ]
    }
   ],
   "source": [
    "scores = []\n",
    "for _ in autonotebook.tqdm(range(sample_size)):\n",
    "    next(dp_lca)\n",
    "    scores.append(dp_lca.score)"
   ]
  },
  {
   "cell_type": "code",
   "execution_count": 78,
   "id": "b290514b-1528-4980-9970-c0d224cb655e",
   "metadata": {},
   "outputs": [
    {
     "data": {
      "text/plain": [
       "1316110.766903972"
      ]
     },
     "execution_count": 78,
     "metadata": {},
     "output_type": "execute_result"
    }
   ],
   "source": [
    "scores_a = np.array(scores)\n",
    "scores_a.mean()"
   ]
  },
  {
   "cell_type": "code",
   "execution_count": 79,
   "id": "68c17c76-383a-45f2-b210-02332ca82a43",
   "metadata": {},
   "outputs": [
    {
     "name": "stdout",
     "output_type": "stream",
     "text": [
      "0     1.356545e+06\n",
      "1     1.270920e+06\n",
      "2     1.432772e+06\n",
      "3     1.244893e+06\n",
      "4     1.248839e+06\n",
      "          ...     \n",
      "95    1.322147e+06\n",
      "96    1.272964e+06\n",
      "97    1.298652e+06\n",
      "98    1.326643e+06\n",
      "99    1.217863e+06\n",
      "Length: 100, dtype: float64\n"
     ]
    }
   ],
   "source": [
    "scores_a_s = pd.Series(scores_a)\n",
    "print(scores_a_s)"
   ]
  },
  {
   "cell_type": "markdown",
   "id": "c87eff97-34b5-485d-8839-7c84de59329c",
   "metadata": {},
   "source": [
    "### Plot the results\n",
    "Below we will plot the results of the stochastic LCA"
   ]
  },
  {
   "cell_type": "code",
   "execution_count": 80,
   "id": "7e892bd9-91cf-4fc3-917a-f7dbdd145bad",
   "metadata": {},
   "outputs": [
    {
     "name": "stderr",
     "output_type": "stream",
     "text": [
      "/var/folders/16/htgv8kns0w7dsvxmq5d9snzc0000gn/T/ipykernel_1725/4067838399.py:11: FutureWarning: \n",
      "\n",
      "The `scale` parameter has been renamed and will be removed in v0.15.0. Pass `density_norm='width'` for the same effect.\n",
      "  sns.violinplot(data=df, x='GWP', inner=None, cut=0, bw=0.2, scale='width', orient='h', split=True)\n",
      "/var/folders/16/htgv8kns0w7dsvxmq5d9snzc0000gn/T/ipykernel_1725/4067838399.py:11: FutureWarning: \n",
      "\n",
      "The `bw` parameter is deprecated in favor of `bw_method`/`bw_adjust`.\n",
      "Setting `bw_method=0.2`, but please see docs for the new parameters\n",
      "and update your code. This will become an error in seaborn v0.15.0.\n",
      "\n",
      "  sns.violinplot(data=df, x='GWP', inner=None, cut=0, bw=0.2, scale='width', orient='h', split=True)\n"
     ]
    },
    {
     "data": {
      "image/png": "[encoded data removed]",
      "text/plain": [
       "<Figure size 1000x600 with 1 Axes>"
      ]
     },
     "metadata": {},
     "output_type": "display_data"
    }
   ],
   "source": [
    "# Sample data as given in the series\n",
    "data = scores_a_s\n",
    "\n",
    "# Create a DataFrame from the series\n",
    "df = pd.DataFrame(data, columns=['GWP'])\n",
    "\n",
    "# Set the figure size\n",
    "plt.figure(figsize=(10, 6))\n",
    "\n",
    "# Create the half violin plot (right side)\n",
    "sns.violinplot(data=df, x='GWP', inner=None, cut=0, bw=0.2, scale='width', orient='h', split=True)\n",
    "\n",
    "# Set the title and labels\n",
    "plt.title(\"Global warming score\")\n",
    "plt.xlabel(\"kg CO₂ eq.\")  # CO₂ with subscript '2'\n",
    "\n",
    "# Show the plot\n",
    "plt.show()"
   ]
  },
  {
   "cell_type": "markdown",
   "id": "5bd3696f-23d7-49c6-bc35-acacaba8fba0",
   "metadata": {},
   "source": [
    "## STEP 6: Global Sensitivity analysis (GSA) <a name=\"Step6\"></a>\n",
    "\n",
    "In this (and last) step we are going to perfom a GSA using the Extra Trees method. But for this specific product system ,i.e. 'pavement_structure_1', we have to perfom a small operation before we run the Extra Trees  algorithm. This is because we run the LHS function for all exchanges stored in the list 'uncertain_parameters'. However, the activity that contains the exchange for which we defined a new name of 'comments' (i.e., 'A2_modbitumen_t') is not used in the product system 'pavement_structure_1'. Therefore, we have to delete it from the dataframe (named 'samples') that stores the samples created with LHS  for each exchange. We will do that by droping the respective column of the 'samples' dataframe:"
   ]
  },
  {
   "cell_type": "code",
   "execution_count": 94,
   "id": "d7d4ac92-2bf3-405a-b236-5eac416bbab3",
   "metadata": {},
   "outputs": [],
   "source": [
    "#samples.drop('A2_modbitumen_t', axis=1, inplace=True)"
   ]
  },
  {
   "cell_type": "markdown",
   "id": "cea8edb7-766d-4a08-a232-1af7262e32ef",
   "metadata": {},
   "source": [
    "We can run now the Extra Trees GSA method algorithm"
   ]
  },
  {
   "cell_type": "code",
   "execution_count": 95,
   "id": "d0004124-52d1-476b-aa57-dacbbfef355b",
   "metadata": {},
   "outputs": [
    {
     "name": "stdout",
     "output_type": "stream",
     "text": [
      "1400\n"
     ]
    }
   ],
   "source": [
    "# Extra Trees GSA method algorithm\n",
    "\n",
    "x = samples.to_numpy()\n",
    "print(x.size)\n",
    "y = scores_a_s.to_numpy()\n",
    "\n",
    "#Extra Trees parameters from Jaza-Roxen and Kwakkel (2018)\n",
    "t = 100 \n",
    "m = round(len(x[0])/3)\n",
    "N = 100\n",
    "nmin = 5\n",
    "nleaf = math.sqrt(N) / math.sqrt(1000)\n",
    "\n",
    "#ExtraTrees regressor function\n",
    "regr = ExtraTreesRegressor(n_estimators=t, max_features=m, min_samples_split=nmin,\n",
    "                           min_samples_leaf=nleaf)\n",
    "regr = regr.fit(x,y)"
   ]
  },
  {
   "cell_type": "markdown",
   "id": "069d571b-1975-4746-8715-c6b841b3cae3",
   "metadata": {},
   "source": [
    "Below we calculate the Mean Decrease Impurity (MDI) metric for each exchange. An exchange is considered important when it is associated with high MDI values."
   ]
  },
  {
   "cell_type": "code",
   "execution_count": 97,
   "id": "957ead68-b711-46f2-87b5-38536faba3e8",
   "metadata": {},
   "outputs": [
    {
     "data": {
      "text/html": [
       "<div>\n",
       "<style scoped>\n",
       "    .dataframe tbody tr th:only-of-type {\n",
       "        vertical-align: middle;\n",
       "    }\n",
       "\n",
       "    .dataframe tbody tr th {\n",
       "        vertical-align: top;\n",
       "    }\n",
       "\n",
       "    .dataframe thead th {\n",
       "        text-align: right;\n",
       "    }\n",
       "</style>\n",
       "<table border=\"1\" class=\"dataframe\">\n",
       "  <thead>\n",
       "    <tr style=\"text-align: right;\">\n",
       "      <th></th>\n",
       "      <th>MDI</th>\n",
       "      <th>MDI normalized</th>\n",
       "    </tr>\n",
       "  </thead>\n",
       "  <tbody>\n",
       "    <tr>\n",
       "      <th>A2_bitumen_t</th>\n",
       "      <td>0.037037</td>\n",
       "      <td>0.333333</td>\n",
       "    </tr>\n",
       "    <tr>\n",
       "      <th>A2_weakfiller_t</th>\n",
       "      <td>0.074074</td>\n",
       "      <td>0.666667</td>\n",
       "    </tr>\n",
       "    <tr>\n",
       "      <th>A2_ownmaterial_t</th>\n",
       "      <td>0.111111</td>\n",
       "      <td>1.000000</td>\n",
       "    </tr>\n",
       "    <tr>\n",
       "      <th>A2_ownmaterial_iv</th>\n",
       "      <td>0.111111</td>\n",
       "      <td>1.000000</td>\n",
       "    </tr>\n",
       "    <tr>\n",
       "      <th>A2_crushedstone_t</th>\n",
       "      <td>0.037037</td>\n",
       "      <td>0.333333</td>\n",
       "    </tr>\n",
       "    <tr>\n",
       "      <th>A2_crushedstone_iv</th>\n",
       "      <td>0.094250</td>\n",
       "      <td>0.848247</td>\n",
       "    </tr>\n",
       "    <tr>\n",
       "      <th>A2_crushedsand_t</th>\n",
       "      <td>0.055556</td>\n",
       "      <td>0.500000</td>\n",
       "    </tr>\n",
       "    <tr>\n",
       "      <th>A2_crushedsand_iv</th>\n",
       "      <td>0.111111</td>\n",
       "      <td>1.000000</td>\n",
       "    </tr>\n",
       "    <tr>\n",
       "      <th>A2_naturalsand_t</th>\n",
       "      <td>0.018519</td>\n",
       "      <td>0.166667</td>\n",
       "    </tr>\n",
       "    <tr>\n",
       "      <th>A2_naturalsand_iv</th>\n",
       "      <td>0.074074</td>\n",
       "      <td>0.666667</td>\n",
       "    </tr>\n",
       "    <tr>\n",
       "      <th>A2_dripresistantmaterial_t</th>\n",
       "      <td>0.037037</td>\n",
       "      <td>0.333333</td>\n",
       "    </tr>\n",
       "    <tr>\n",
       "      <th>A4_distance_EURO5</th>\n",
       "      <td>0.074074</td>\n",
       "      <td>0.666667</td>\n",
       "    </tr>\n",
       "    <tr>\n",
       "      <th>A4_distance_EURO6</th>\n",
       "      <td>0.055556</td>\n",
       "      <td>0.500000</td>\n",
       "    </tr>\n",
       "    <tr>\n",
       "      <th>A5_construction</th>\n",
       "      <td>0.109454</td>\n",
       "      <td>0.985086</td>\n",
       "    </tr>\n",
       "  </tbody>\n",
       "</table>\n",
       "</div>"
      ],
      "text/plain": [
       "                                 MDI  MDI normalized\n",
       "A2_bitumen_t                0.037037        0.333333\n",
       "A2_weakfiller_t             0.074074        0.666667\n",
       "A2_ownmaterial_t            0.111111        1.000000\n",
       "A2_ownmaterial_iv           0.111111        1.000000\n",
       "A2_crushedstone_t           0.037037        0.333333\n",
       "A2_crushedstone_iv          0.094250        0.848247\n",
       "A2_crushedsand_t            0.055556        0.500000\n",
       "A2_crushedsand_iv           0.111111        1.000000\n",
       "A2_naturalsand_t            0.018519        0.166667\n",
       "A2_naturalsand_iv           0.074074        0.666667\n",
       "A2_dripresistantmaterial_t  0.037037        0.333333\n",
       "A4_distance_EURO5           0.074074        0.666667\n",
       "A4_distance_EURO6           0.055556        0.500000\n",
       "A5_construction             0.109454        0.985086"
      ]
     },
     "execution_count": 97,
     "metadata": {},
     "output_type": "execute_result"
    }
   ],
   "source": [
    "mdi = regr.feature_importances_\n",
    "mdi = pd.DataFrame(mdi, columns=[\"MDI\"])\n",
    "mdi.index = samples.columns\n",
    "mdi[\"MDI normalized\"] = mdi[\"MDI\"]/np.max(mdi[\"MDI\"])\n",
    "mdi"
   ]
  },
  {
   "cell_type": "code",
   "execution_count": null,
   "id": "f8da50c4-c80b-4a74-9bed-3ae3258b363a",
   "metadata": {},
   "outputs": [],
   "source": []
  },
  {
   "cell_type": "code",
   "execution_count": null,
   "id": "f632f74f-9368-4c6d-b76a-48b85cfcb8db",
   "metadata": {},
   "outputs": [],
   "source": []
  },
  {
   "cell_type": "code",
   "execution_count": null,
   "id": "73e54332-7ebf-45a3-b70c-2baf19e79035",
   "metadata": {},
   "outputs": [],
   "source": []
  }
 ],
 "metadata": {
  "kernelspec": {
   "display_name": "Python 3 (ipykernel)",
   "language": "python",
   "name": "python3"
  },
  "language_info": {
   "codemirror_mode": {
    "name": "ipython",
    "version": 3
   },
   "file_extension": ".py",
   "mimetype": "text/x-python",
   "name": "python",
   "nbconvert_exporter": "python",
   "pygments_lexer": "ipython3",
   "version": "3.11.9"
  }
 },
 "nbformat": 4,
 "nbformat_minor": 5
}
