{
 "cells": [
  {
   "cell_type": "markdown",
   "id": "8246506c-2b06-4fec-8fca-b73e9bb5cd4c",
   "metadata": {},
   "source": [
    "# Static LCA\n",
    "\n",
    "This is the fifth notebook of a series of 5 (see below the names of full list) intended to teach you the functionalities of the pyhton-based LCA software Brightway 2.5 (BW25) that you will use to carry out your group assignment. For a more nuanced undertsanding of the principles and working mechanisms of BW25 you are referred to [its documentation](https://docs.brightway.dev/en/latest/index.html).\n",
    "\n",
    "**Full list of notebooks of the series:**\n",
    "- 1.Getting started\n",
    "- 2a.Background\n",
    "- 2b.Foreground\n",
    "- 3.StaticLCA\n",
    "- 4.StochasticLCA\n",
    "\n",
    "## Pre-requesites:\n",
    "- Having read the tutorial _Computational Settings and Guidelines_ that you can find on Canvas -> [Module 'General documents & Information'](https://canvas.utwente.nl/courses/15132/modules#:~:text=General%20documents%20%26%20information-,General,-documents%20%26%20information)\n",
    "- Having installed Brightway25 and all relevant packages (make sure to do so in the correct virtual environment) and eventually having had a first contact with its documentation.\n",
    "- Knowledge of the foundations of life cycle assessment (LCA). If you did not attended the Lecture 3- Pavement Life cycle assessment (LCA) or need a refresher, please have a look at its slides that you can find on Canvas.\n",
    "- Access to the ecoinvent database version 3.9.1.\n",
    "- Acess to the foreground database defined in the excel file 'Foreground.xlsx'\n",
    "- Having gone through the previous notebooks.\n",
    "- Familiarity with the Python programming language and the Jupyter Lab environment. However, this is **not** a hard requirement since most methods are quite intuitive and will be explained throughput the tutorial. Nevertheless, In case you are a total beginner, or need a refresher, please read the tutorial _Computational Settings and Guidelines_ that you can find on Canvas -> [Module 'General documents & Information'](https://canvas.utwente.nl/courses/15132/modules#:~:text=General%20documents%20%26%20information-,General,-documents%20%26%20information)\n",
    "  \n",
    "\n",
    "## Content\n",
    "\n",
    "<span style='background:orange'> 4.1) Uncertainty Characterization </span>\n",
    "\n",
    "<span style='background:orange'> 4.XXX) .... </span>\n"
   ]
  },
  {
   "cell_type": "code",
   "execution_count": 65,
   "id": "8fec5955-c255-48a5-80a1-aa0c36c40ce4",
   "metadata": {},
   "outputs": [],
   "source": [
    "# Import scientific packages\n",
    "from IPython.display import display\n",
    "import pandas as pd\n",
    "import numpy as np\n",
    "import scipy as sp\n",
    "from pprint import pprint\n",
    "from tqdm import autonotebook\n",
    "import seaborn as sns\n",
    "import os\n",
    "import matplotlib.pyplot as plt\n",
    "import matplotlib.collections as clt\n",
    "from sklearn import cluster, mixture\n",
    "from sklearn.ensemble import ExtraTreesRegressor\n",
    "from sklearn.ensemble import ExtraTreesClassifier\n",
    "from sklearn.datasets import make_regression\n",
    "from sklearn.metrics import mean_squared_error\n",
    "import math\n",
    "\n",
    "# Import BW25 packages.\n",
    "import bw2analyzer as bwa\n",
    "import bw2calc as bc\n",
    "import bw2data as bd\n",
    "import bw2io as bi\n",
    "import bw_processing as bwp\n",
    "import pandas as pd\n",
    "from bw2data.query import Filter, Query\n"
   ]
  },
  {
   "cell_type": "code",
   "execution_count": 66,
   "id": "b2f28228-7456-467d-bf5f-e053f359088d",
   "metadata": {},
   "outputs": [],
   "source": [
    "#Importing the variables with the project name and background db\n",
    "from project_details import ei_name, project_name"
   ]
  },
  {
   "cell_type": "code",
   "execution_count": 67,
   "id": "88adff1a-75a3-45c7-90bf-2950d7bfc676",
   "metadata": {},
   "outputs": [
    {
     "data": {
      "text/plain": [
       "Databases dictionary with 3 object(s):\n",
       "\tasphalt\n",
       "\tbiosphere3\n",
       "\tecoinvent-391-cutoff"
      ]
     },
     "execution_count": 67,
     "metadata": {},
     "output_type": "execute_result"
    }
   ],
   "source": [
    "# set the selected project as the current project\n",
    "bd.projects.set_current(project_name)\n",
    "bd.databases"
   ]
  },
  {
   "cell_type": "code",
   "execution_count": 68,
   "id": "8de90679-8d3b-45c5-a363-4efbb469a633",
   "metadata": {},
   "outputs": [],
   "source": [
    "# Is the background database name the same as the one we wrote in `project_details.py`?\n",
    "assert ei_name in bd.databases"
   ]
  },
  {
   "cell_type": "markdown",
   "id": "9ed0b01b-a251-4f0f-a27d-ec27e2bcdac8",
   "metadata": {},
   "source": [
    "As already done in the previous notebooks, let's define and assign the name of the foreground database to a variable called \"fg_name\".\n",
    "The name must be equal to the content of the cell B1 in the excel file \"Foreground.xlsx\""
   ]
  },
  {
   "cell_type": "code",
   "execution_count": 69,
   "id": "e71296c4-23af-43ce-8193-60f88d76fc18",
   "metadata": {},
   "outputs": [],
   "source": [
    "fg_name = \"asphalt\""
   ]
  },
  {
   "cell_type": "code",
   "execution_count": 70,
   "id": "a8f90ad2-06de-42cb-94df-d3b0a094450c",
   "metadata": {},
   "outputs": [],
   "source": [
    "fgdb = bd.Database(fg_name)"
   ]
  },
  {
   "cell_type": "markdown",
   "id": "270c6680-91c6-4150-83a6-2354180953d7",
   "metadata": {},
   "source": [
    "## STEP 1: Uncertainty Characterization"
   ]
  },
  {
   "cell_type": "markdown",
   "id": "80138f6f-2e34-49fa-b312-b25602b6621f",
   "metadata": {},
   "source": [
    "In this example, we will be considering the transport distance of materials to the asphalt plant in A2, the transport distance of the asphalt mixture from the asphalt plant to the construction site in A4, and the diesel consumption of the machinery used for construction in A5 as uncertain parameters. The foreground file already provides uncertainty information for each of these parameters (associated with activities exchanges).\n",
    "\n",
    "<span style='background:orange'> **Action needed** Explain how that info was defined. Eventually, this might need to be explained in the uncertainty modelling lecture </span>"
   ]
  },
  {
   "cell_type": "code",
   "execution_count": 71,
   "id": "ff7aadee-29d0-42c9-9a12-976436fb5a59",
   "metadata": {},
   "outputs": [],
   "source": [
    "# List that will store tuples with info about the uncertain parameters (associated with activity exchanges)\n",
    "uncertain_parameters = []"
   ]
  },
  {
   "cell_type": "markdown",
   "id": "1ef77185-3415-40d4-9377-6546749672f7",
   "metadata": {},
   "source": [
    "### Transport distances in A2"
   ]
  },
  {
   "cell_type": "markdown",
   "id": "9ad27fd8-b0c4-4e9b-937d-ae23211c5263",
   "metadata": {},
   "source": [
    "The first step consists of identifying all activities that have 'production and transport' in the name"
   ]
  },
  {
   "cell_type": "code",
   "execution_count": 72,
   "id": "7001ab6e-c17e-4925-8993-dca0ee5bce8c",
   "metadata": {},
   "outputs": [
    {
     "data": {
      "text/plain": [
       "['bitumen, production and transport' (kilogram, NL, None),\n",
       " 'weak filler, production and transport' (kilogram, NL, None),\n",
       " 'crushed sand, production and transport' (kilogram, NL, None),\n",
       " 'other fillers, production and transport' (kilogram, NL, None),\n",
       " 'natural sand, production and transport' (kilogram, NL, None),\n",
       " 'crushed stone, production and transport' (kilogram, NL, None),\n",
       " 'modified bitumen, production and transport' (kilogram, NL, None),\n",
       " 'drip resistant material, production and transport' (kilogram, NL, None)]"
      ]
     },
     "execution_count": 72,
     "metadata": {},
     "output_type": "execute_result"
    }
   ],
   "source": [
    "transport_a2 = fgdb.search(\"production and transport\")\n",
    "transport_a2"
   ]
  },
  {
   "cell_type": "markdown",
   "id": "4cb0f299-da2b-4b12-b29e-c3f8a17e6b68",
   "metadata": {},
   "source": [
    "<span style='background:orange'> **Action needed** The code below needs to be updated to consider the new layout of the foreground db excel file </span>"
   ]
  },
  {
   "cell_type": "markdown",
   "id": "a1f6b04a-e8d8-4a92-ae09-1b57a35c57dd",
   "metadata": {},
   "source": [
    "Next we need to store the information about the uncertain parameters (associated with activitiy exchanges). This is done by running the cell below:"
   ]
  },
  {
   "cell_type": "code",
   "execution_count": 73,
   "id": "37b30e79-7a4c-49ab-a978-d2b4f7a19895",
   "metadata": {},
   "outputs": [
    {
     "data": {
      "text/plain": [
       "[('A2_bitumen_t', 2, -1.3862943611198906, 0.3474550330618338),\n",
       " ('A2_weakfiller_t', 2, -1.995100393246085, 0.3474550330618338),\n",
       " ('A2_crushedsand_t', 2, -3.6888794541139363, 0.3474550330618338),\n",
       " ('A2_crushedsand_iv', 2, -0.4155154439616658, 0.3474550330618338),\n",
       " ('A2_ownmaterial_t', 2, -3.6888794541139363, 0.3474550330618338),\n",
       " ('A2_ownmaterial_iv', 2, -1.8971199848858813, 0.3474550330618338),\n",
       " ('A2_naturalsand_t', 2, -3.6888794541139363, 0.3474550330618338),\n",
       " ('A2_naturalsand_iv', 2, -1.8971199848858813, 0.3474550330618338),\n",
       " ('A2_crushedstone_t', 2, -3.6888794541139363, 0.3474550330618338),\n",
       " ('A2_crushedstone_iv', 2, -0.4155154439616658, 0.3474550330618338),\n",
       " ('A2_bitumen_t', 2, -1.8971199848858813, 0.3474550330618338),\n",
       " ('A2_dripresistantmaterial_t', 2, -1.731605546408308, 0.3474550330618338)]"
      ]
     },
     "execution_count": 73,
     "metadata": {},
     "output_type": "execute_result"
    }
   ],
   "source": [
    "uncertain_parameters = [] #list that stores the info about the uncertain parameters associated with exchanges\n",
    "\n",
    "for transport in transport_a2:\n",
    "    exchanges = transport.technosphere()\n",
    "    for exchange in exchanges:\n",
    "        exchanges_dict = exchange.as_dict()\n",
    "        if \"comments\" in exchanges_dict:\n",
    "            parameter = exchanges_dict[\"comments\"]\n",
    "            distribution = exchanges_dict[\"uncertainty_type\"]\n",
    "            loc = exchanges_dict[\"loc\"]\n",
    "            scale = exchanges_dict[\"scale\"]\n",
    "            uncertain_parameters.append((parameter, \n",
    "                    distribution, \n",
    "                    loc,\n",
    "                    scale))\n",
    "uncertain_parameters"
   ]
  },
  {
   "cell_type": "markdown",
   "id": "2b7fc273-a400-42c7-895c-a5341e987f63",
   "metadata": {},
   "source": [
    "## Transport distances in A4"
   ]
  },
  {
   "cell_type": "markdown",
   "id": "a340883e-f58e-49fe-ae5b-93a10322c30e",
   "metadata": {},
   "source": [
    "Execute the same procedure but for activities that have 'asphalt, transport to site' in the name"
   ]
  },
  {
   "cell_type": "code",
   "execution_count": 74,
   "id": "32793514-d647-437a-805e-f6ea6e2e453e",
   "metadata": {},
   "outputs": [
    {
     "data": {
      "text/plain": [
       "['asphalt, transport to site' (kilogram, NL, None)]"
      ]
     },
     "execution_count": 74,
     "metadata": {},
     "output_type": "execute_result"
    }
   ],
   "source": [
    "transport_a4 = fgdb.search(\"asphalt, transport to site\")\n",
    "transport_a4"
   ]
  },
  {
   "cell_type": "code",
   "execution_count": 75,
   "id": "02720137-a664-4c0c-b327-0c8dc89d7a21",
   "metadata": {},
   "outputs": [
    {
     "data": {
      "text/plain": [
       "[('A2_bitumen_t', 2, -1.3862943611198906, 0.3474550330618338),\n",
       " ('A2_weakfiller_t', 2, -1.995100393246085, 0.3474550330618338),\n",
       " ('A2_crushedsand_t', 2, -3.6888794541139363, 0.3474550330618338),\n",
       " ('A2_crushedsand_iv', 2, -0.4155154439616658, 0.3474550330618338),\n",
       " ('A2_ownmaterial_t', 2, -3.6888794541139363, 0.3474550330618338),\n",
       " ('A2_ownmaterial_iv', 2, -1.8971199848858813, 0.3474550330618338),\n",
       " ('A2_naturalsand_t', 2, -3.6888794541139363, 0.3474550330618338),\n",
       " ('A2_naturalsand_iv', 2, -1.8971199848858813, 0.3474550330618338),\n",
       " ('A2_crushedstone_t', 2, -3.6888794541139363, 0.3474550330618338),\n",
       " ('A2_crushedstone_iv', 2, -0.4155154439616658, 0.3474550330618338),\n",
       " ('A2_bitumen_t', 2, -1.8971199848858813, 0.3474550330618338),\n",
       " ('A2_dripresistantmaterial_t', 2, -1.731605546408308, 0.3474550330618338),\n",
       " ('A4_distance_EURO5', 2, -3.402197881995739, 0.3474550330618338),\n",
       " ('A4_distance_EURO6', 2, -4.500810170663849, 0.3474550330618338)]"
      ]
     },
     "execution_count": 75,
     "metadata": {},
     "output_type": "execute_result"
    }
   ],
   "source": [
    "for transport in transport_a4:\n",
    "    exchanges = transport.technosphere()\n",
    "    for exchange in exchanges:\n",
    "        exchanges_dict = exchange.as_dict()\n",
    "        if \"comments\" in exchanges_dict:\n",
    "            parameter = exchanges_dict[\"comments\"]\n",
    "            distribution = exchanges_dict[\"uncertainty_type\"]\n",
    "            loc = exchanges_dict[\"loc\"]\n",
    "            scale = exchanges_dict[\"scale\"]\n",
    "            uncertain_parameters.append((parameter, \n",
    "                    distribution, \n",
    "                    loc,\n",
    "                    scale))\n",
    "uncertain_parameters"
   ]
  },
  {
   "cell_type": "markdown",
   "id": "ba44968c-968e-48be-bc77-40ea36e677e1",
   "metadata": {},
   "source": [
    "## Diesel consumption in A5"
   ]
  },
  {
   "cell_type": "markdown",
   "id": "4703bd43-980a-4685-9444-805285e389ce",
   "metadata": {},
   "source": [
    "Once again, similar procedure but for activities that have 'asphalt, construction' in the name"
   ]
  },
  {
   "cell_type": "code",
   "execution_count": 76,
   "id": "3afdb6b3-ab0a-496a-919e-2afd9e4708bb",
   "metadata": {},
   "outputs": [
    {
     "data": {
      "text/plain": [
       "['asphalt, construction' (kilogram, NL, None)]"
      ]
     },
     "execution_count": 76,
     "metadata": {},
     "output_type": "execute_result"
    }
   ],
   "source": [
    "construction_a5 = fgdb.search(\"asphalt, construction\")\n",
    "construction_a5"
   ]
  },
  {
   "cell_type": "code",
   "execution_count": 77,
   "id": "a5848eba-0361-4f4e-b25a-caf0f22a9ce6",
   "metadata": {},
   "outputs": [
    {
     "data": {
      "text/plain": [
       "[('A2_bitumen_t', 2, -1.3862943611198906, 0.3474550330618338),\n",
       " ('A2_weakfiller_t', 2, -1.995100393246085, 0.3474550330618338),\n",
       " ('A2_crushedsand_t', 2, -3.6888794541139363, 0.3474550330618338),\n",
       " ('A2_crushedsand_iv', 2, -0.4155154439616658, 0.3474550330618338),\n",
       " ('A2_ownmaterial_t', 2, -3.6888794541139363, 0.3474550330618338),\n",
       " ('A2_ownmaterial_iv', 2, -1.8971199848858813, 0.3474550330618338),\n",
       " ('A2_naturalsand_t', 2, -3.6888794541139363, 0.3474550330618338),\n",
       " ('A2_naturalsand_iv', 2, -1.8971199848858813, 0.3474550330618338),\n",
       " ('A2_crushedstone_t', 2, -3.6888794541139363, 0.3474550330618338),\n",
       " ('A2_crushedstone_iv', 2, -0.4155154439616658, 0.3474550330618338),\n",
       " ('A2_bitumen_t', 2, -1.8971199848858813, 0.3474550330618338),\n",
       " ('A2_dripresistantmaterial_t', 2, -1.731605546408308, 0.3474550330618338),\n",
       " ('A4_distance_EURO5', 2, -3.402197881995739, 0.3474550330618338),\n",
       " ('A4_distance_EURO6', 2, -4.500810170663849, 0.3474550330618338),\n",
       " ('A5_construction', 2, -4.468892567695543, 0.03741657386773941)]"
      ]
     },
     "execution_count": 77,
     "metadata": {},
     "output_type": "execute_result"
    }
   ],
   "source": [
    "for consumption in construction_a5:\n",
    "    exchanges = consumption.technosphere()\n",
    "    for exchange in exchanges:\n",
    "        exchanges_dict = exchange.as_dict()\n",
    "        if \"comments\" in exchanges_dict:\n",
    "            parameter = exchanges_dict[\"comments\"]\n",
    "            distribution = exchanges_dict[\"uncertainty_type\"]\n",
    "            loc = exchanges_dict[\"loc\"]\n",
    "            scale = exchanges_dict[\"scale\"]\n",
    "            uncertain_parameters.append((parameter, \n",
    "                    distribution, \n",
    "                    loc,\n",
    "                    scale))\n",
    "uncertain_parameters"
   ]
  },
  {
   "cell_type": "markdown",
   "id": "2f4d6505-5438-4582-b421-fffb81893918",
   "metadata": {},
   "source": [
    "## STEP 2: Sample generation\n",
    "\n",
    "Now that we have retrieved the uncertain parameters information, we can proceed to generate our samples."
   ]
  },
  {
   "cell_type": "markdown",
   "id": "2f7aa472-188c-4268-8c19-dccbbbe9b1c7",
   "metadata": {},
   "source": [
    "First, we define a Latin hypercube sampling (LHS) function:"
   ]
  },
  {
   "cell_type": "code",
   "execution_count": 78,
   "id": "ef2c6b6a-4fce-4ca7-b386-b18f93456530",
   "metadata": {},
   "outputs": [],
   "source": [
    "def LHS_generator(inputs, sample_size, seed=None):\n",
    "    # Determine the number of parameters based on the length of inputs\n",
    "    num_parameters = len(inputs)\n",
    "\n",
    "    # Assign random seed (if specified) for reproducibility\n",
    "    if seed:\n",
    "        np.random.seed(seed)\n",
    "\n",
    "    # Initialize an empty array to hold the results\n",
    "    result = np.empty([sample_size, num_parameters])\n",
    "    \n",
    "    # Calculate the interval width for the uniform distribution\n",
    "    d = 1.0 / sample_size\n",
    "    \n",
    "    # Generate samples using uniform distribution within specified ranges\n",
    "    temp = np.array(\n",
    "        [\n",
    "            np.random.uniform(low=sample * d, high=(sample + 1) * d, size=num_parameters)\n",
    "            for sample in range(sample_size)\n",
    "        ]\n",
    "    )\n",
    "\n",
    "    # Process each parameter to perform Latin Hypercube Sampling for log-normal distribution\n",
    "    for parameter in range(num_parameters):\n",
    "        # Shuffle the samples to ensure randomness\n",
    "        np.random.shuffle(temp[:, parameter])\n",
    "        \n",
    "        # Apply the inverse cumulative distribution function (ppf) of the normal distribution\n",
    "        # then exponentiate to transform to a log-normal distribution\n",
    "        temp[:, parameter] = np.exp(sp.stats.norm.ppf(temp[:, parameter], loc=inputs[parameter][2], scale=inputs[parameter][3]))\n",
    "        \n",
    "        # Fill the result array with processed samples\n",
    "        for sample in range(sample_size):\n",
    "            result[sample, parameter] = temp[sample, parameter]\n",
    "\n",
    "    # Convert result to a DataFrame with column names from the first column of inputs\n",
    "    column_names = [inputs[i][0] for i in range(num_parameters)]\n",
    "    result_df = pd.DataFrame(result, columns=column_names)\n",
    "\n",
    "    return result_df"
   ]
  },
  {
   "cell_type": "markdown",
   "id": "ad1b6ee1-0dc2-4015-ac0f-2abf027a604f",
   "metadata": {},
   "source": [
    "Once defined the LHS function, we can run it for the  parameters for which we gathered and stored the information about their uncertaintyv(stored in the list 'uncertain_parameters'). We will consider a sample size equal to 100."
   ]
  },
  {
   "cell_type": "code",
   "execution_count": 94,
   "id": "6ecccc87-2f3d-43fb-a79a-ced9a78b6465",
   "metadata": {},
   "outputs": [],
   "source": [
    "# Run the LHS function for the parameters defined above and a sample size equal to 100:\n",
    "sample_size = 100\n",
    "samples = LHS_generator(uncertain_parameters,sample_size)"
   ]
  },
  {
   "cell_type": "code",
   "execution_count": 80,
   "id": "01e47131-ba40-46b6-8537-12d6fae5eefb",
   "metadata": {},
   "outputs": [
    {
     "data": {
      "text/html": [
       "<div>\n",
       "<style scoped>\n",
       "    .dataframe tbody tr th:only-of-type {\n",
       "        vertical-align: middle;\n",
       "    }\n",
       "\n",
       "    .dataframe tbody tr th {\n",
       "        vertical-align: top;\n",
       "    }\n",
       "\n",
       "    .dataframe thead th {\n",
       "        text-align: right;\n",
       "    }\n",
       "</style>\n",
       "<table border=\"1\" class=\"dataframe\">\n",
       "  <thead>\n",
       "    <tr style=\"text-align: right;\">\n",
       "      <th></th>\n",
       "      <th>A2_bitumen_t</th>\n",
       "      <th>A2_weakfiller_t</th>\n",
       "      <th>A2_crushedsand_t</th>\n",
       "      <th>A2_crushedsand_iv</th>\n",
       "      <th>A2_ownmaterial_t</th>\n",
       "      <th>A2_ownmaterial_iv</th>\n",
       "      <th>A2_naturalsand_t</th>\n",
       "      <th>A2_naturalsand_iv</th>\n",
       "      <th>A2_crushedstone_t</th>\n",
       "      <th>A2_crushedstone_iv</th>\n",
       "      <th>A2_bitumen_t</th>\n",
       "      <th>A2_dripresistantmaterial_t</th>\n",
       "      <th>A4_distance_EURO5</th>\n",
       "      <th>A4_distance_EURO6</th>\n",
       "      <th>A5_construction</th>\n",
       "    </tr>\n",
       "  </thead>\n",
       "  <tbody>\n",
       "    <tr>\n",
       "      <th>0</th>\n",
       "      <td>0.256404</td>\n",
       "      <td>0.165395</td>\n",
       "      <td>0.018216</td>\n",
       "      <td>0.943548</td>\n",
       "      <td>0.032227</td>\n",
       "      <td>0.107376</td>\n",
       "      <td>0.021782</td>\n",
       "      <td>0.123822</td>\n",
       "      <td>0.019523</td>\n",
       "      <td>0.743566</td>\n",
       "      <td>0.166199</td>\n",
       "      <td>0.132400</td>\n",
       "      <td>0.034416</td>\n",
       "      <td>0.011868</td>\n",
       "      <td>0.011261</td>\n",
       "    </tr>\n",
       "    <tr>\n",
       "      <th>1</th>\n",
       "      <td>0.260849</td>\n",
       "      <td>0.291292</td>\n",
       "      <td>0.031727</td>\n",
       "      <td>0.851967</td>\n",
       "      <td>0.034390</td>\n",
       "      <td>0.060059</td>\n",
       "      <td>0.026083</td>\n",
       "      <td>0.251846</td>\n",
       "      <td>0.029597</td>\n",
       "      <td>0.318988</td>\n",
       "      <td>0.242747</td>\n",
       "      <td>0.175535</td>\n",
       "      <td>0.016055</td>\n",
       "      <td>0.011431</td>\n",
       "      <td>0.011460</td>\n",
       "    </tr>\n",
       "    <tr>\n",
       "      <th>2</th>\n",
       "      <td>0.218216</td>\n",
       "      <td>0.098893</td>\n",
       "      <td>0.026644</td>\n",
       "      <td>0.994938</td>\n",
       "      <td>0.036405</td>\n",
       "      <td>0.168174</td>\n",
       "      <td>0.030635</td>\n",
       "      <td>0.132839</td>\n",
       "      <td>0.023095</td>\n",
       "      <td>0.778623</td>\n",
       "      <td>0.120567</td>\n",
       "      <td>0.137947</td>\n",
       "      <td>0.028746</td>\n",
       "      <td>0.016452</td>\n",
       "      <td>0.011892</td>\n",
       "    </tr>\n",
       "    <tr>\n",
       "      <th>3</th>\n",
       "      <td>0.174511</td>\n",
       "      <td>0.104394</td>\n",
       "      <td>0.023522</td>\n",
       "      <td>0.443647</td>\n",
       "      <td>0.018008</td>\n",
       "      <td>0.147519</td>\n",
       "      <td>0.022422</td>\n",
       "      <td>0.168890</td>\n",
       "      <td>0.017733</td>\n",
       "      <td>0.376500</td>\n",
       "      <td>0.146973</td>\n",
       "      <td>0.158332</td>\n",
       "      <td>0.018873</td>\n",
       "      <td>0.010499</td>\n",
       "      <td>0.011191</td>\n",
       "    </tr>\n",
       "    <tr>\n",
       "      <th>4</th>\n",
       "      <td>0.123864</td>\n",
       "      <td>0.117336</td>\n",
       "      <td>0.014054</td>\n",
       "      <td>0.521857</td>\n",
       "      <td>0.011520</td>\n",
       "      <td>0.153484</td>\n",
       "      <td>0.034613</td>\n",
       "      <td>0.139877</td>\n",
       "      <td>0.020632</td>\n",
       "      <td>1.088025</td>\n",
       "      <td>0.112747</td>\n",
       "      <td>0.165638</td>\n",
       "      <td>0.021994</td>\n",
       "      <td>0.008340</td>\n",
       "      <td>0.011391</td>\n",
       "    </tr>\n",
       "    <tr>\n",
       "      <th>...</th>\n",
       "      <td>...</td>\n",
       "      <td>...</td>\n",
       "      <td>...</td>\n",
       "      <td>...</td>\n",
       "      <td>...</td>\n",
       "      <td>...</td>\n",
       "      <td>...</td>\n",
       "      <td>...</td>\n",
       "      <td>...</td>\n",
       "      <td>...</td>\n",
       "      <td>...</td>\n",
       "      <td>...</td>\n",
       "      <td>...</td>\n",
       "      <td>...</td>\n",
       "      <td>...</td>\n",
       "    </tr>\n",
       "    <tr>\n",
       "      <th>95</th>\n",
       "      <td>0.374541</td>\n",
       "      <td>0.140435</td>\n",
       "      <td>0.032048</td>\n",
       "      <td>1.036079</td>\n",
       "      <td>0.013913</td>\n",
       "      <td>0.110499</td>\n",
       "      <td>0.018417</td>\n",
       "      <td>0.192284</td>\n",
       "      <td>0.021103</td>\n",
       "      <td>0.558275</td>\n",
       "      <td>0.128190</td>\n",
       "      <td>0.183430</td>\n",
       "      <td>0.055191</td>\n",
       "      <td>0.011108</td>\n",
       "      <td>0.011372</td>\n",
       "    </tr>\n",
       "    <tr>\n",
       "      <th>96</th>\n",
       "      <td>0.317860</td>\n",
       "      <td>0.123397</td>\n",
       "      <td>0.021556</td>\n",
       "      <td>0.635421</td>\n",
       "      <td>0.019724</td>\n",
       "      <td>0.170967</td>\n",
       "      <td>0.013215</td>\n",
       "      <td>0.152313</td>\n",
       "      <td>0.026775</td>\n",
       "      <td>0.286965</td>\n",
       "      <td>0.131049</td>\n",
       "      <td>0.264598</td>\n",
       "      <td>0.028144</td>\n",
       "      <td>0.010033</td>\n",
       "      <td>0.011717</td>\n",
       "    </tr>\n",
       "    <tr>\n",
       "      <th>97</th>\n",
       "      <td>0.208711</td>\n",
       "      <td>0.184634</td>\n",
       "      <td>0.023425</td>\n",
       "      <td>1.283812</td>\n",
       "      <td>0.023599</td>\n",
       "      <td>0.128515</td>\n",
       "      <td>0.026496</td>\n",
       "      <td>0.143300</td>\n",
       "      <td>0.033712</td>\n",
       "      <td>0.699267</td>\n",
       "      <td>0.237310</td>\n",
       "      <td>0.197660</td>\n",
       "      <td>0.023339</td>\n",
       "      <td>0.009115</td>\n",
       "      <td>0.011434</td>\n",
       "    </tr>\n",
       "    <tr>\n",
       "      <th>98</th>\n",
       "      <td>0.420699</td>\n",
       "      <td>0.135915</td>\n",
       "      <td>0.019696</td>\n",
       "      <td>0.576277</td>\n",
       "      <td>0.025240</td>\n",
       "      <td>0.253690</td>\n",
       "      <td>0.016597</td>\n",
       "      <td>0.179285</td>\n",
       "      <td>0.036105</td>\n",
       "      <td>0.773983</td>\n",
       "      <td>0.254998</td>\n",
       "      <td>0.225474</td>\n",
       "      <td>0.036200</td>\n",
       "      <td>0.012029</td>\n",
       "      <td>0.011314</td>\n",
       "    </tr>\n",
       "    <tr>\n",
       "      <th>99</th>\n",
       "      <td>0.297629</td>\n",
       "      <td>0.161997</td>\n",
       "      <td>0.029388</td>\n",
       "      <td>0.688968</td>\n",
       "      <td>0.026692</td>\n",
       "      <td>0.189516</td>\n",
       "      <td>0.019541</td>\n",
       "      <td>0.150721</td>\n",
       "      <td>0.021822</td>\n",
       "      <td>0.948265</td>\n",
       "      <td>0.091502</td>\n",
       "      <td>0.192991</td>\n",
       "      <td>0.046173</td>\n",
       "      <td>0.014334</td>\n",
       "      <td>0.011500</td>\n",
       "    </tr>\n",
       "  </tbody>\n",
       "</table>\n",
       "<p>100 rows × 15 columns</p>\n",
       "</div>"
      ],
      "text/plain": [
       "    A2_bitumen_t  A2_weakfiller_t  A2_crushedsand_t  A2_crushedsand_iv  \\\n",
       "0       0.256404         0.165395          0.018216           0.943548   \n",
       "1       0.260849         0.291292          0.031727           0.851967   \n",
       "2       0.218216         0.098893          0.026644           0.994938   \n",
       "3       0.174511         0.104394          0.023522           0.443647   \n",
       "4       0.123864         0.117336          0.014054           0.521857   \n",
       "..           ...              ...               ...                ...   \n",
       "95      0.374541         0.140435          0.032048           1.036079   \n",
       "96      0.317860         0.123397          0.021556           0.635421   \n",
       "97      0.208711         0.184634          0.023425           1.283812   \n",
       "98      0.420699         0.135915          0.019696           0.576277   \n",
       "99      0.297629         0.161997          0.029388           0.688968   \n",
       "\n",
       "    A2_ownmaterial_t  A2_ownmaterial_iv  A2_naturalsand_t  A2_naturalsand_iv  \\\n",
       "0           0.032227           0.107376          0.021782           0.123822   \n",
       "1           0.034390           0.060059          0.026083           0.251846   \n",
       "2           0.036405           0.168174          0.030635           0.132839   \n",
       "3           0.018008           0.147519          0.022422           0.168890   \n",
       "4           0.011520           0.153484          0.034613           0.139877   \n",
       "..               ...                ...               ...                ...   \n",
       "95          0.013913           0.110499          0.018417           0.192284   \n",
       "96          0.019724           0.170967          0.013215           0.152313   \n",
       "97          0.023599           0.128515          0.026496           0.143300   \n",
       "98          0.025240           0.253690          0.016597           0.179285   \n",
       "99          0.026692           0.189516          0.019541           0.150721   \n",
       "\n",
       "    A2_crushedstone_t  A2_crushedstone_iv  A2_bitumen_t  \\\n",
       "0            0.019523            0.743566      0.166199   \n",
       "1            0.029597            0.318988      0.242747   \n",
       "2            0.023095            0.778623      0.120567   \n",
       "3            0.017733            0.376500      0.146973   \n",
       "4            0.020632            1.088025      0.112747   \n",
       "..                ...                 ...           ...   \n",
       "95           0.021103            0.558275      0.128190   \n",
       "96           0.026775            0.286965      0.131049   \n",
       "97           0.033712            0.699267      0.237310   \n",
       "98           0.036105            0.773983      0.254998   \n",
       "99           0.021822            0.948265      0.091502   \n",
       "\n",
       "    A2_dripresistantmaterial_t  A4_distance_EURO5  A4_distance_EURO6  \\\n",
       "0                     0.132400           0.034416           0.011868   \n",
       "1                     0.175535           0.016055           0.011431   \n",
       "2                     0.137947           0.028746           0.016452   \n",
       "3                     0.158332           0.018873           0.010499   \n",
       "4                     0.165638           0.021994           0.008340   \n",
       "..                         ...                ...                ...   \n",
       "95                    0.183430           0.055191           0.011108   \n",
       "96                    0.264598           0.028144           0.010033   \n",
       "97                    0.197660           0.023339           0.009115   \n",
       "98                    0.225474           0.036200           0.012029   \n",
       "99                    0.192991           0.046173           0.014334   \n",
       "\n",
       "    A5_construction  \n",
       "0          0.011261  \n",
       "1          0.011460  \n",
       "2          0.011892  \n",
       "3          0.011191  \n",
       "4          0.011391  \n",
       "..              ...  \n",
       "95         0.011372  \n",
       "96         0.011717  \n",
       "97         0.011434  \n",
       "98         0.011314  \n",
       "99         0.011500  \n",
       "\n",
       "[100 rows x 15 columns]"
      ]
     },
     "execution_count": 80,
     "metadata": {},
     "output_type": "execute_result"
    }
   ],
   "source": [
    "samples"
   ]
  },
  {
   "cell_type": "markdown",
   "id": "27ad8298-b59f-44aa-bea0-e323f5bfcc8b",
   "metadata": {},
   "source": [
    "## Link samples to exchanges\n",
    "\n",
    "Once obtained the samples, we need to link them to the respective exchange. To do so, we need the two functions below:"
   ]
  },
  {
   "cell_type": "code",
   "execution_count": 81,
   "id": "f56e47ae-032b-437a-882b-33edbeb46efe",
   "metadata": {},
   "outputs": [],
   "source": [
    "def exchange_coords(exchange):\n",
    "    \"\"\"create a tuple with the numerical ids of the input and output activites of an exchange.\"\"\"\n",
    "    input_activity = bd.get_activity(exchange[\"input\"])\n",
    "    output_activity = bd.get_activity(exchange[\"output\"])\n",
    "    return (input_activity.id, output_activity.id)"
   ]
  },
  {
   "cell_type": "markdown",
   "id": "33ce0f88-992f-4f1b-8e23-4fdba78096b8",
   "metadata": {},
   "source": [
    "<span style='background:orange'> **Action needed** The code below needs to be updated to consider the new layout of the foreground db excel file </span>"
   ]
  },
  {
   "cell_type": "code",
   "execution_count": 82,
   "id": "9c2a3318-d955-47d9-9db0-08eef4285f3c",
   "metadata": {},
   "outputs": [],
   "source": [
    "def build_coords_sample(activities, samples_df):\n",
    "    \"\"\"Build the coords + sample dictionnary for all concerned activities.\"\"\"\n",
    "    \n",
    "    coords_samples_map = {}\n",
    "\n",
    "    counter = 0\n",
    "\n",
    "    for activity in activities:\n",
    "        exchanges = activity.technosphere()\n",
    "        for exchange in exchanges:\n",
    "            exchanges_dict = exchange.as_dict()\n",
    "            if \"comments\" in exchanges_dict:\n",
    "                col_name = exchanges_dict[\"comments\"]\n",
    "                coords = exchange_coords(exchange)\n",
    "                counter += 1\n",
    "                print(f\"{counter}. {exchange}\\n\\t 👉 {coords} to {col_name}\")\n",
    "                coords_samples_map[exchange_coords(exchange)] = samples_df[\n",
    "                    col_name\n",
    "                ].values  # numpy.ndarray\n",
    "    return coords_samples_map\n"
   ]
  },
  {
   "cell_type": "code",
   "execution_count": 83,
   "id": "d9729b1f-1286-401a-871b-436c9923dd8d",
   "metadata": {},
   "outputs": [
    {
     "data": {
      "text/plain": [
       "['bitumen, production and transport' (kilogram, NL, None),\n",
       " 'weak filler, production and transport' (kilogram, NL, None),\n",
       " 'crushed sand, production and transport' (kilogram, NL, None),\n",
       " 'other fillers, production and transport' (kilogram, NL, None),\n",
       " 'natural sand, production and transport' (kilogram, NL, None),\n",
       " 'crushed stone, production and transport' (kilogram, NL, None),\n",
       " 'modified bitumen, production and transport' (kilogram, NL, None),\n",
       " 'drip resistant material, production and transport' (kilogram, NL, None),\n",
       " 'asphalt, transport to site' (kilogram, NL, None),\n",
       " 'asphalt, construction' (kilogram, NL, None)]"
      ]
     },
     "execution_count": 83,
     "metadata": {},
     "output_type": "execute_result"
    }
   ],
   "source": [
    "# Group activity variables\n",
    "activities = transport_a2 + transport_a4 + construction_a5\n",
    "activities"
   ]
  },
  {
   "cell_type": "markdown",
   "id": "5d2f3a19-b856-47d6-95f8-98e50efc0d08",
   "metadata": {},
   "source": [
    "We can now run the function above using as argument the activities that contain the parameters for which we consider the uncertainties and the samples generated with LHS:"
   ]
  },
  {
   "cell_type": "code",
   "execution_count": 84,
   "id": "fa841442-9c43-4b73-9c56-496cea76a518",
   "metadata": {},
   "outputs": [
    {
     "name": "stdout",
     "output_type": "stream",
     "text": [
      "1. Exchange: 0.25 ton kilometer 'market for transport, freight, lorry, unspecified' (ton kilometer, RER, None) to 'bitumen, production and transport' (kilogram, NL, None)>\n",
      "\t 👉 (18370, 25951) to A2_bitumen_t\n",
      "2. Exchange: 0.136 ton kilometer 'market for transport, freight, lorry, unspecified' (ton kilometer, RER, None) to 'weak filler, production and transport' (kilogram, NL, None)>\n",
      "\t 👉 (18370, 25957) to A2_weakfiller_t\n",
      "3. Exchange: 0.025 ton kilometer 'market for transport, freight, lorry, unspecified' (ton kilometer, RER, None) to 'crushed sand, production and transport' (kilogram, NL, None)>\n",
      "\t 👉 (18370, 25954) to A2_crushedsand_t\n",
      "4. Exchange: 0.66 ton kilometer 'market for transport, freight, inland waterways, barge' (ton kilometer, RER, None) to 'crushed sand, production and transport' (kilogram, NL, None)>\n",
      "\t 👉 (9408, 25954) to A2_crushedsand_iv\n",
      "5. Exchange: 0.025 ton kilometer 'market for transport, freight, lorry, unspecified' (ton kilometer, RER, None) to 'other fillers, production and transport' (kilogram, NL, None)>\n",
      "\t 👉 (18370, 25955) to A2_ownmaterial_t\n",
      "6. Exchange: 0.15 ton kilometer 'market for transport, freight, inland waterways, barge' (ton kilometer, RER, None) to 'other fillers, production and transport' (kilogram, NL, None)>\n",
      "\t 👉 (9408, 25955) to A2_ownmaterial_iv\n",
      "7. Exchange: 0.025 ton kilometer 'market for transport, freight, lorry, unspecified' (ton kilometer, RER, None) to 'natural sand, production and transport' (kilogram, NL, None)>\n",
      "\t 👉 (18370, 25956) to A2_naturalsand_t\n",
      "8. Exchange: 0.15 ton kilometer 'market for transport, freight, inland waterways, barge' (ton kilometer, RER, None) to 'natural sand, production and transport' (kilogram, NL, None)>\n",
      "\t 👉 (9408, 25956) to A2_naturalsand_iv\n",
      "9. Exchange: 0.025 ton kilometer 'market for transport, freight, lorry, unspecified' (ton kilometer, RER, None) to 'crushed stone, production and transport' (kilogram, NL, None)>\n",
      "\t 👉 (18370, 25953) to A2_crushedstone_t\n",
      "10. Exchange: 0.66 ton kilometer 'market for transport, freight, inland waterways, barge' (ton kilometer, RER, None) to 'crushed stone, production and transport' (kilogram, NL, None)>\n",
      "\t 👉 (9408, 25953) to A2_crushedstone_iv\n",
      "11. Exchange: 0.15 ton kilometer 'market for transport, freight, lorry, unspecified' (ton kilometer, RER, None) to 'modified bitumen, production and transport' (kilogram, NL, None)>\n",
      "\t 👉 (18370, 25952) to A2_bitumen_t\n",
      "12. Exchange: 0.177 ton kilometer 'market for transport, freight, lorry, unspecified' (ton kilometer, RER, None) to 'drip resistant material, production and transport' (kilogram, NL, None)>\n",
      "\t 👉 (18370, 25958) to A2_dripresistantmaterial_t\n",
      "13. Exchange: 0.033299999999999996 ton kilometer 'transport, freight, lorry >32 metric ton, EURO5' (ton kilometer, RER, None) to 'asphalt, transport to site' (kilogram, NL, None)>\n",
      "\t 👉 (16115, 25969) to A4_distance_EURO5\n",
      "14. Exchange: 0.0111 ton kilometer 'transport, freight, lorry >32 metric ton, EURO6' (ton kilometer, RER, None) to 'asphalt, transport to site' (kilogram, NL, None)>\n",
      "\t 👉 (8986, 25969) to A4_distance_EURO6\n",
      "15. Exchange: 0.011460000000000001 megajoule 'diesel, burned in building machine' (megajoule, GLO, None) to 'asphalt, construction' (kilogram, NL, None)>\n",
      "\t 👉 (18987, 25970) to A5_construction\n"
     ]
    }
   ],
   "source": [
    "coords_samples_map = build_coords_sample(activities, samples)"
   ]
  },
  {
   "cell_type": "code",
   "execution_count": 85,
   "id": "24a9039f-4d3d-417b-9cdd-200a34af30fc",
   "metadata": {
    "scrolled": true
   },
   "outputs": [
    {
     "name": "stdout",
     "output_type": "stream",
     "text": [
      "1. (18370, 25951) --array-> [[0.25640411 0.16619911]\n",
      " [0.2608489  0.24274687]\n",
      " [0.21821617 0.1205665 ]\n",
      " [0.1745106  0.14697312]\n",
      " [0.12386384 0.11274727]\n",
      " [0.35431818 0.13827334]\n",
      " [0.14231973 0.17927127]\n",
      " [0.10968766 0.19010908]\n",
      " [0.18384733 0.12511811]\n",
      " [0.39432552 0.09477231]\n",
      " [0.27495305 0.09698193]\n",
      " [0.24626609 0.15919726]\n",
      " [0.16464039 0.10329738]\n",
      " [0.29018042 0.16441942]\n",
      " [0.18150633 0.16143174]\n",
      " [0.50695284 0.22067248]\n",
      " [0.41129814 0.10549125]\n",
      " [0.47488843 0.20119825]\n",
      " [0.26717987 0.12233166]\n",
      " [0.22132939 0.15732701]\n",
      " [0.16310617 0.12472652]\n",
      " [0.25245994 0.21178182]\n",
      " [0.1537444  0.08812104]\n",
      " [0.35008384 0.15313918]\n",
      " [0.11794902 0.16894197]\n",
      " [0.18725584 0.16083329]\n",
      " [0.19480287 0.37854581]\n",
      " [0.34792565 0.10259614]\n",
      " [0.22642151 0.23370208]\n",
      " [0.18961108 0.18399563]\n",
      " [0.23695102 0.08431087]\n",
      " [0.26901046 0.18026329]\n",
      " [0.27250156 0.09230124]\n",
      " [0.2764036  0.13899516]\n",
      " [0.24409884 0.18842033]\n",
      " [0.18552407 0.18266786]\n",
      " [0.22282008 0.1229589 ]\n",
      " [0.14110752 0.20821908]\n",
      " [0.40506985 0.10926336]\n",
      " [0.30050458 0.17392771]\n",
      " [0.19783617 0.14427294]\n",
      " [0.36551673 0.11194295]\n",
      " [0.21377448 0.15247937]\n",
      " [0.20756087 0.156418  ]\n",
      " [0.14810354 0.11813288]\n",
      " [0.43403755 0.20064963]\n",
      " [0.3101639  0.13533913]\n",
      " [0.44560357 0.12718378]\n",
      " [0.17787422 0.15497845]\n",
      " [0.28449418 0.16765741]\n",
      " [0.13067841 0.1073546 ]\n",
      " [0.33617073 0.203822  ]\n",
      " [0.28107209 0.1158016 ]\n",
      " [0.36175786 0.14549951]\n",
      " [0.21086207 0.21771092]\n",
      " [0.20451179 0.19401407]\n",
      " [0.20118287 0.13440569]\n",
      " [0.24902107 0.19712926]\n",
      " [0.61253623 0.18641453]\n",
      " [0.22985037 0.07607444]\n",
      " [0.29167858 0.11879005]\n",
      " [0.32664368 0.14864225]\n",
      " [0.17009834 0.1164789 ]\n",
      " [0.2269849  0.14041087]\n",
      " [0.1921756  0.10847566]\n",
      " [0.25065774 0.10098157]\n",
      " [0.38567404 0.11434646]\n",
      " [0.37635664 0.05942148]\n",
      " [0.29658975 0.17481926]\n",
      " [0.15727945 0.26488798]\n",
      " [0.17253653 0.3057    ]\n",
      " [0.26565987 0.21223452]\n",
      " [0.2613945  0.13651047]\n",
      " [0.20361589 0.08120415]\n",
      " [0.21910861 0.16264114]\n",
      " [0.30794845 0.22395721]\n",
      " [0.52485918 0.19340452]\n",
      " [0.23470108 0.22969428]\n",
      " [0.23809616 0.31676458]\n",
      " [0.19575885 0.149904  ]\n",
      " [0.34344004 0.09837609]\n",
      " [0.16652525 0.17052823]\n",
      " [0.33001369 0.13212779]\n",
      " [0.15289669 0.14270988]\n",
      " [0.23134028 0.14174154]\n",
      " [0.33453187 0.17819147]\n",
      " [0.30429612 0.15032347]\n",
      " [0.21598795 0.13267155]\n",
      " [0.24067407 0.28064608]\n",
      " [0.31968514 0.27227341]\n",
      " [0.27871765 0.17153365]\n",
      " [0.28758935 0.08670946]\n",
      " [0.25717053 0.12914274]\n",
      " [0.2434873  0.0679217 ]\n",
      " [0.31333076 0.24474909]\n",
      " [0.37454124 0.12819004]\n",
      " [0.31786046 0.13104914]\n",
      " [0.20871108 0.23730991]\n",
      " [0.42069932 0.25499807]\n",
      " [0.29762907 0.09150243]]\n",
      "2. (18370, 25957) --array-> [0.16539534 0.29129224 0.09889302 0.10439449 0.11733563 0.21095629\n",
      " 0.24651645 0.14465349 0.08221597 0.26362155 0.08128068 0.2161715\n",
      " 0.12507886 0.18260673 0.20211147 0.11404669 0.12993224 0.09205407\n",
      " 0.11514818 0.13749877 0.26120797 0.16060039 0.15264773 0.12378233\n",
      " 0.16412988 0.08690195 0.08719351 0.10748338 0.13630193 0.3684967\n",
      " 0.09945061 0.1518231  0.15499691 0.14177621 0.20490573 0.07836688\n",
      " 0.05854812 0.10280366 0.22996474 0.19291054 0.09029127 0.10077437\n",
      " 0.07185286 0.09575171 0.1786618  0.08377498 0.15095486 0.1706782\n",
      " 0.16670883 0.22584    0.13892425 0.09142492 0.14653438 0.19003808\n",
      " 0.10625836 0.19537197 0.14284142 0.12083658 0.09742781 0.17637586\n",
      " 0.06897379 0.11925652 0.07520027 0.17254346 0.16851199 0.14907345\n",
      " 0.15707567 0.18787664 0.22094782 0.12777847 0.13246609 0.12172413\n",
      " 0.15848997 0.17391802 0.11227668 0.10237148 0.107936   0.1104601\n",
      " 0.12600457 0.14736744 0.19955754 0.09457818 0.13100129 0.11647517\n",
      " 0.10893605 0.14332769 0.13407565 0.2347657  0.12883223 0.13309257\n",
      " 0.06452549 0.18014735 0.15565525 0.11872618 0.11113131 0.14043468\n",
      " 0.1233975  0.18463353 0.13591535 0.16199675]\n",
      "3. (18370, 25954) --array-> [0.01821571 0.03172683 0.02664393 0.02352217 0.01405389 0.02851372\n",
      " 0.02730951 0.01334937 0.02234969 0.0304987  0.01998726 0.02978927\n",
      " 0.04019615 0.03856415 0.02085673 0.02828645 0.04239069 0.03449573\n",
      " 0.01927234 0.02530547 0.02503579 0.01572825 0.01896986 0.03257396\n",
      " 0.02636803 0.02303414 0.01513389 0.01689916 0.02220538 0.01454058\n",
      " 0.0254403  0.04148729 0.02174668 0.02398433 0.01258816 0.02080062\n",
      " 0.02782526 0.01202013 0.04615642 0.00954057 0.05366398 0.03070813\n",
      " 0.03539156 0.02456503 0.02485532 0.03517543 0.02684061 0.02776678\n",
      " 0.03098286 0.04316589 0.03333445 0.01767825 0.03388642 0.02962126\n",
      " 0.02206941 0.02283473 0.02420583 0.06772231 0.02615996 0.02055987\n",
      " 0.02591993 0.02031303 0.01732482 0.01638669 0.02122309 0.02714722\n",
      " 0.0232211  0.02251195 0.01846445 0.01946071 0.01604564 0.03279152\n",
      " 0.02127052 0.01712755 0.04446866 0.01554705 0.02381906 0.01479463\n",
      " 0.01798427 0.03794154 0.03409771 0.02900541 0.01868722 0.05055015\n",
      " 0.03588285 0.02881762 0.03009753 0.03966797 0.0257669  0.03677678\n",
      " 0.02458213 0.02000454 0.01772732 0.03134623 0.0372175  0.03204809\n",
      " 0.02155562 0.02342526 0.01969638 0.02938804]\n",
      "4. (9408, 25954) --array-> [0.94354792 0.85196701 0.99493813 0.4436465  0.52185738 0.86148571\n",
      " 0.53814003 0.61115963 1.25259739 0.58815363 1.12329065 0.52471732\n",
      " 0.82048844 0.57850298 0.79500788 0.67366581 0.24151807 0.45361383\n",
      " 0.89427096 0.62378684 0.59711645 0.56295132 0.37562302 0.76086889\n",
      " 1.21005696 0.67950685 0.48849333 0.52988963 0.48459655 0.83205018\n",
      " 0.7433631  0.7090332  0.61830744 0.58331399 0.9182872  0.7513565\n",
      " 0.63874136 0.54261239 0.90182533 0.43206679 0.3578349  1.09687652\n",
      " 0.4951058  0.32810866 0.47311345 1.05292303 0.49957039 0.54733243\n",
      " 0.70167568 0.45099289 0.30622196 0.59956199 0.66348935 0.69149622\n",
      " 0.72885045 1.02183502 0.96696845 0.396211   0.98597061 0.42417966\n",
      " 0.79050841 0.65676688 0.41459178 0.66699971 0.81636925 0.55660036\n",
      " 0.94975158 0.39279246 0.40869962 0.65223198 0.73725998 0.55517739\n",
      " 0.86365417 0.6452525  0.76587538 0.5084044  0.63017716 0.37052986\n",
      " 0.77740615 0.5140777  0.71738579 0.56867471 0.83519568 0.60752369\n",
      " 0.87870792 0.76915133 0.80092151 0.46097787 1.38291368 0.92600755\n",
      " 1.15003374 0.47944526 0.70682973 0.72457725 1.70451962 1.03607922\n",
      " 0.63542126 1.28381234 0.57627672 0.6889683 ]\n",
      "5. (18370, 25955) --array-> [0.03222678 0.03439034 0.03640484 0.01800756 0.01152044 0.02917362\n",
      " 0.01912972 0.01773453 0.03143771 0.01721316 0.01618994 0.01688972\n",
      " 0.02616578 0.02313648 0.02457812 0.02560898 0.01949334 0.01761604\n",
      " 0.06046021 0.01341769 0.02307147 0.03862069 0.02391424 0.01887818\n",
      " 0.02048213 0.03697782 0.02192633 0.02950547 0.02399797 0.02450619\n",
      " 0.02167974 0.03925044 0.04893471 0.03564608 0.04613004 0.0233715\n",
      " 0.01995773 0.01822635 0.02072782 0.02751078 0.02982751 0.02650452\n",
      " 0.01249086 0.03372343 0.02906078 0.02588026 0.01587115 0.02727558\n",
      " 0.03182005 0.03089704 0.01518013 0.02772295 0.01471866 0.03771436\n",
      " 0.03633407 0.01568386 0.01104389 0.04166785 0.02271266 0.01712044\n",
      " 0.02265894 0.03402622 0.01426416 0.03034007 0.01897643 0.02211499\n",
      " 0.02488402 0.02787379 0.02144905 0.02106647 0.02813177 0.02512498\n",
      " 0.02419708 0.0269554  0.02231932 0.04328665 0.04443699 0.01633908\n",
      " 0.03285915 0.04065588 0.03334738 0.02833669 0.05369364 0.02157774\n",
      " 0.04275292 0.02006201 0.03109395 0.02028121 0.03489541 0.0324706\n",
      " 0.01865117 0.0209118  0.03009465 0.02860586 0.02594506 0.01391313\n",
      " 0.01972376 0.02359895 0.02523986 0.02669176]\n",
      "6. (9408, 25955) --array-> [0.10737561 0.06005907 0.16817351 0.14751866 0.1534838  0.18452272\n",
      " 0.29471627 0.22930815 0.11759481 0.15702833 0.18988196 0.28127983\n",
      " 0.08644356 0.24052045 0.18183479 0.1052839  0.1081661  0.09083938\n",
      " 0.16503585 0.17245721 0.15940936 0.12166685 0.19254403 0.14321431\n",
      " 0.17420478 0.20210914 0.16930984 0.30968108 0.2161452  0.11487957\n",
      " 0.14401181 0.19546431 0.09968331 0.20581371 0.15439418 0.20976594\n",
      " 0.22096823 0.14516659 0.12037896 0.13466695 0.16214039 0.26313316\n",
      " 0.09639127 0.13348685 0.1395925  0.10186184 0.15971442 0.20064289\n",
      " 0.16620706 0.1971543  0.1191314  0.11280302 0.23695977 0.08043884\n",
      " 0.13775138 0.23065301 0.1625695  0.18607551 0.10008548 0.08354141\n",
      " 0.12721497 0.1299925  0.15609833 0.12272732 0.09211087 0.12602333\n",
      " 0.11612553 0.15127134 0.11367705 0.17532255 0.11174761 0.18158688\n",
      " 0.07111545 0.15231227 0.07600294 0.08948254 0.17953172 0.13499916\n",
      " 0.20616904 0.1362315  0.12897661 0.12413285 0.1400212  0.14127844\n",
      " 0.14951036 0.10445337 0.21455331 0.45378254 0.14686916 0.22277067\n",
      " 0.17804069 0.0955552  0.26873249 0.24498247 0.1323771  0.11049869\n",
      " 0.1709671  0.12851512 0.2536904  0.18951631]\n",
      "7. (18370, 25956) --array-> [0.02178229 0.02608331 0.03063548 0.02242232 0.03461284 0.01671283\n",
      " 0.03001063 0.0209142  0.02046898 0.01970021 0.01922363 0.01766359\n",
      " 0.01993628 0.01477922 0.01389808 0.04352926 0.018976   0.02755102\n",
      " 0.02878108 0.05181556 0.03165631 0.00930079 0.02338055 0.02419493\n",
      " 0.02837586 0.01224335 0.01798935 0.0352774  0.02520286 0.02160903\n",
      " 0.02823138 0.02995452 0.02919957 0.04199961 0.02784973 0.01785678\n",
      " 0.02702411 0.02952997 0.01696778 0.01870486 0.01506107 0.04066757\n",
      " 0.02537006 0.03646472 0.03433272 0.02378816 0.01738431 0.02558016\n",
      " 0.02736381 0.03048307 0.02497415 0.0229942  0.04077297 0.02729811\n",
      " 0.06257059 0.03779096 0.02897899 0.02437575 0.03323654 0.04997912\n",
      " 0.0219397  0.02130962 0.03612493 0.0240135  0.03538085 0.03758934\n",
      " 0.04488903 0.02582798 0.02263493 0.01577201 0.02113844 0.02207373\n",
      " 0.01624593 0.01422565 0.02675964 0.02016771 0.03248496 0.03359882\n",
      " 0.02364567 0.02474539 0.01850841 0.02327322 0.03272205 0.03224827\n",
      " 0.01243988 0.03835597 0.01535538 0.03140449 0.0202476  0.03120023\n",
      " 0.03956165 0.02271596 0.02070017 0.04625382 0.02611826 0.01841722\n",
      " 0.01321537 0.02649567 0.01659696 0.01954108]\n",
      "8. (9408, 25956) --array-> [0.12382173 0.25184581 0.13283947 0.16889024 0.13987683 0.11696793\n",
      " 0.14870888 0.17433936 0.14192104 0.1078713  0.23070333 0.19129482\n",
      " 0.11967974 0.12188506 0.18658603 0.1979904  0.09614388 0.17065787\n",
      " 0.14616394 0.20148001 0.21175608 0.14384683 0.09237272 0.16010187\n",
      " 0.24080482 0.17303374 0.20013079 0.11112124 0.11545005 0.12775338\n",
      " 0.22636336 0.11022105 0.0984628  0.31009251 0.10562915 0.0836927\n",
      " 0.14603632 0.21408414 0.27603701 0.30576437 0.15555473 0.24739921\n",
      " 0.15780146 0.20621062 0.12993458 0.17999852 0.20380763 0.11786105\n",
      " 0.13574569 0.13003515 0.12073546 0.09558216 0.15872677 0.23853971\n",
      " 0.09138673 0.12581371 0.16342537 0.16433619 0.07526086 0.08537517\n",
      " 0.148563   0.16110232 0.16555399 0.17801406 0.2210286  0.11416557\n",
      " 0.08073964 0.18447003 0.1323243  0.1236126  0.13406812 0.17577544\n",
      " 0.18292128 0.27059294 0.0676376  0.11236156 0.10754488 0.19434798\n",
      " 0.16816719 0.26121048 0.18959654 0.13980666 0.08750171 0.15304159\n",
      " 0.22190831 0.10069937 0.13851787 0.15452888 0.40632537 0.10229723\n",
      " 0.13662054 0.10412825 0.12675776 0.0510602  0.21635428 0.19228403\n",
      " 0.15231346 0.14330011 0.17928457 0.15072099]\n",
      "9. (18370, 25953) --array-> [0.01952317 0.02959726 0.02309502 0.01773317 0.02063239 0.04497547\n",
      " 0.01758722 0.01350374 0.04215558 0.02221043 0.03002196 0.01216802\n",
      " 0.0251388  0.01050162 0.02842401 0.02725284 0.03277509 0.02252155\n",
      " 0.01475656 0.01506996 0.04292293 0.02329465 0.02692947 0.04121\n",
      " 0.03562999 0.02450875 0.02331412 0.03664381 0.0239185  0.02810298\n",
      " 0.01896986 0.05681597 0.01639838 0.03165247 0.01572329 0.03203011\n",
      " 0.0395221  0.02789512 0.01610175 0.03080869 0.03030723 0.02753284\n",
      " 0.02233779 0.0298518  0.02272146 0.03511333 0.01664599 0.03149071\n",
      " 0.02200076 0.01717547 0.02060932 0.03103541 0.02764598 0.0185255\n",
      " 0.01798587 0.02027832 0.02362586 0.02554132 0.04694742 0.02904042\n",
      " 0.02581437 0.01288616 0.01544541 0.01834132 0.02881402 0.01441019\n",
      " 0.03312163 0.02087032 0.02621802 0.03447758 0.03895558 0.04026533\n",
      " 0.02466756 0.03761754 0.01392222 0.02479635 0.02433355 0.03702685\n",
      " 0.02915097 0.02593017 0.0493546  0.01870198 0.03431987 0.01956212\n",
      " 0.01933875 0.02019257 0.0199479  0.01724139 0.0326362  0.02646885\n",
      " 0.02133428 0.05507076 0.0240267  0.02542024 0.02161543 0.02110322\n",
      " 0.02677455 0.03371171 0.03610456 0.02182248]\n",
      "10. (9408, 25953) --array-> [0.74356639 0.31898796 0.77862325 0.37650019 1.08802486 0.53026956\n",
      " 1.19506914 0.66282618 1.00471815 0.63064158 0.92306327 0.50316356\n",
      " 0.69116649 0.33618739 0.49185584 0.58727772 0.35536999 0.56735741\n",
      " 0.66794217 0.81926821 0.83883523 1.16598508 1.34597841 0.55257183\n",
      " 0.61754042 0.46179102 2.14007078 1.36969575 0.43011606 0.44029072\n",
      " 0.75400091 0.7115689  0.68403406 1.01730929 0.73029776 0.90742108\n",
      " 0.60487257 0.85717498 0.64014715 0.83365433 0.46736044 0.36924169\n",
      " 0.41925639 0.72347263 1.05076788 0.53843677 0.70634475 0.56374019\n",
      " 0.98047458 0.41267868 0.6765493  0.63626883 0.78948095 0.71445201\n",
      " 0.51280137 0.45049205 0.52759085 0.93753769 0.5496577  0.60307691\n",
      " 0.54232507 1.1228972  0.50772322 0.64692731 0.86442393 0.49342896\n",
      " 1.07496848 0.80568602 0.87838606 0.62367967 0.59724403 0.68289218\n",
      " 0.45470665 0.81121029 0.96327445 0.8960582  0.79743922 0.40184055\n",
      " 0.43771467 0.65335956 0.74011685 0.52150751 0.6547582  1.25054061\n",
      " 0.38868473 0.57421924 0.59251654 0.47444073 0.85210933 0.75692381\n",
      " 0.8866926  0.61288948 0.58257089 0.48348323 0.7665446  0.55827467\n",
      " 0.28696463 0.69926668 0.77398265 0.94826544]\n",
      "11. (18370, 25952) --array-> [[0.25640411 0.16619911]\n",
      " [0.2608489  0.24274687]\n",
      " [0.21821617 0.1205665 ]\n",
      " [0.1745106  0.14697312]\n",
      " [0.12386384 0.11274727]\n",
      " [0.35431818 0.13827334]\n",
      " [0.14231973 0.17927127]\n",
      " [0.10968766 0.19010908]\n",
      " [0.18384733 0.12511811]\n",
      " [0.39432552 0.09477231]\n",
      " [0.27495305 0.09698193]\n",
      " [0.24626609 0.15919726]\n",
      " [0.16464039 0.10329738]\n",
      " [0.29018042 0.16441942]\n",
      " [0.18150633 0.16143174]\n",
      " [0.50695284 0.22067248]\n",
      " [0.41129814 0.10549125]\n",
      " [0.47488843 0.20119825]\n",
      " [0.26717987 0.12233166]\n",
      " [0.22132939 0.15732701]\n",
      " [0.16310617 0.12472652]\n",
      " [0.25245994 0.21178182]\n",
      " [0.1537444  0.08812104]\n",
      " [0.35008384 0.15313918]\n",
      " [0.11794902 0.16894197]\n",
      " [0.18725584 0.16083329]\n",
      " [0.19480287 0.37854581]\n",
      " [0.34792565 0.10259614]\n",
      " [0.22642151 0.23370208]\n",
      " [0.18961108 0.18399563]\n",
      " [0.23695102 0.08431087]\n",
      " [0.26901046 0.18026329]\n",
      " [0.27250156 0.09230124]\n",
      " [0.2764036  0.13899516]\n",
      " [0.24409884 0.18842033]\n",
      " [0.18552407 0.18266786]\n",
      " [0.22282008 0.1229589 ]\n",
      " [0.14110752 0.20821908]\n",
      " [0.40506985 0.10926336]\n",
      " [0.30050458 0.17392771]\n",
      " [0.19783617 0.14427294]\n",
      " [0.36551673 0.11194295]\n",
      " [0.21377448 0.15247937]\n",
      " [0.20756087 0.156418  ]\n",
      " [0.14810354 0.11813288]\n",
      " [0.43403755 0.20064963]\n",
      " [0.3101639  0.13533913]\n",
      " [0.44560357 0.12718378]\n",
      " [0.17787422 0.15497845]\n",
      " [0.28449418 0.16765741]\n",
      " [0.13067841 0.1073546 ]\n",
      " [0.33617073 0.203822  ]\n",
      " [0.28107209 0.1158016 ]\n",
      " [0.36175786 0.14549951]\n",
      " [0.21086207 0.21771092]\n",
      " [0.20451179 0.19401407]\n",
      " [0.20118287 0.13440569]\n",
      " [0.24902107 0.19712926]\n",
      " [0.61253623 0.18641453]\n",
      " [0.22985037 0.07607444]\n",
      " [0.29167858 0.11879005]\n",
      " [0.32664368 0.14864225]\n",
      " [0.17009834 0.1164789 ]\n",
      " [0.2269849  0.14041087]\n",
      " [0.1921756  0.10847566]\n",
      " [0.25065774 0.10098157]\n",
      " [0.38567404 0.11434646]\n",
      " [0.37635664 0.05942148]\n",
      " [0.29658975 0.17481926]\n",
      " [0.15727945 0.26488798]\n",
      " [0.17253653 0.3057    ]\n",
      " [0.26565987 0.21223452]\n",
      " [0.2613945  0.13651047]\n",
      " [0.20361589 0.08120415]\n",
      " [0.21910861 0.16264114]\n",
      " [0.30794845 0.22395721]\n",
      " [0.52485918 0.19340452]\n",
      " [0.23470108 0.22969428]\n",
      " [0.23809616 0.31676458]\n",
      " [0.19575885 0.149904  ]\n",
      " [0.34344004 0.09837609]\n",
      " [0.16652525 0.17052823]\n",
      " [0.33001369 0.13212779]\n",
      " [0.15289669 0.14270988]\n",
      " [0.23134028 0.14174154]\n",
      " [0.33453187 0.17819147]\n",
      " [0.30429612 0.15032347]\n",
      " [0.21598795 0.13267155]\n",
      " [0.24067407 0.28064608]\n",
      " [0.31968514 0.27227341]\n",
      " [0.27871765 0.17153365]\n",
      " [0.28758935 0.08670946]\n",
      " [0.25717053 0.12914274]\n",
      " [0.2434873  0.0679217 ]\n",
      " [0.31333076 0.24474909]\n",
      " [0.37454124 0.12819004]\n",
      " [0.31786046 0.13104914]\n",
      " [0.20871108 0.23730991]\n",
      " [0.42069932 0.25499807]\n",
      " [0.29762907 0.09150243]]\n",
      "12. (18370, 25958) --array-> [0.13239972 0.17553489 0.13794727 0.15833175 0.16563813 0.16391965\n",
      " 0.17215293 0.25110724 0.1706203  0.30948529 0.18111338 0.12298976\n",
      " 0.14582275 0.12649056 0.2811324  0.1490331  0.10870798 0.15507554\n",
      " 0.13211863 0.16131583 0.13421535 0.08561513 0.10843067 0.21852545\n",
      " 0.13606073 0.07679589 0.15705568 0.10197098 0.16847334 0.11816026\n",
      " 0.21426448 0.31638359 0.09425779 0.14375084 0.24920428 0.17831753\n",
      " 0.25669756 0.20749532 0.15214552 0.30182722 0.39241436 0.18934465\n",
      " 0.17545728 0.24519003 0.19877833 0.12448969 0.21225803 0.23172737\n",
      " 0.1146223  0.09888165 0.16281442 0.18570353 0.29520456 0.22810548\n",
      " 0.14741813 0.27235739 0.45575092 0.14093079 0.22072034 0.2608447\n",
      " 0.21620843 0.12815262 0.19093099 0.20961736 0.28500116 0.18715381\n",
      " 0.19411526 0.23494057 0.14781777 0.09017287 0.19585234 0.18327051\n",
      " 0.35127044 0.13885263 0.20141948 0.10591111 0.14238664 0.13032611\n",
      " 0.11306152 0.2293591  0.26801203 0.22232097 0.33077402 0.1167288\n",
      " 0.20389649 0.15946078 0.17878065 0.16772977 0.12089376 0.151446\n",
      " 0.24196429 0.17341891 0.238062   0.15388946 0.20476649 0.18343015\n",
      " 0.26459759 0.19765997 0.22547415 0.19299082]\n",
      "13. (16115, 25969) --array-> [0.0344162  0.01605456 0.02874552 0.01887257 0.02199441 0.01673733\n",
      " 0.02969975 0.03032431 0.03116006 0.04537654 0.06562588 0.03687356\n",
      " 0.02129782 0.04262191 0.04428363 0.06126118 0.03190967 0.03537626\n",
      " 0.02151932 0.034173   0.04947787 0.0309135  0.02073826 0.02432814\n",
      " 0.03548991 0.11178551 0.02410542 0.0245732  0.01418633 0.0259429\n",
      " 0.0582491  0.01940664 0.06960605 0.02031591 0.03779477 0.01737432\n",
      " 0.03937235 0.02852819 0.04469478 0.02310353 0.03304575 0.05304754\n",
      " 0.03767479 0.03066752 0.02798817 0.02244288 0.04151312 0.02701837\n",
      " 0.02618999 0.03240742 0.03859975 0.04355528 0.03647719 0.03481583\n",
      " 0.02559695 0.04214357 0.03361687 0.02736404 0.05974063 0.02924761\n",
      " 0.0560327  0.03001424 0.03269443 0.04874522 0.03338327 0.0274836\n",
      " 0.03474573 0.0250304  0.04837402 0.02645458 0.03913083 0.04069721\n",
      " 0.02954407 0.03182621 0.04033893 0.02897456 0.02665536 0.03835308\n",
      " 0.03731919 0.03586608 0.04195965 0.03985616 0.0536589  0.04670396\n",
      " 0.04746742 0.03152419 0.05046504 0.02531422 0.02377475 0.03298714\n",
      " 0.01836565 0.04343326 0.02272354 0.05114025 0.04118522 0.05519133\n",
      " 0.02814363 0.02333868 0.03619988 0.04617318]\n",
      "14. (8986, 25969) --array-> [0.01186842 0.01143141 0.01645171 0.01049871 0.00834009 0.00899236\n",
      " 0.01316661 0.021586   0.00960071 0.01219267 0.00729003 0.0233274\n",
      " 0.0088768  0.00968214 0.01057546 0.011071   0.00566023 0.01123008\n",
      " 0.00928501 0.01537835 0.00671369 0.0138691  0.01600171 0.01489404\n",
      " 0.00949211 0.01406778 0.01013827 0.0074763  0.00530348 0.01198502\n",
      " 0.01789897 0.01151135 0.01555181 0.01282003 0.01085704 0.00718156\n",
      " 0.00844997 0.01328453 0.02653855 0.01446613 0.01303817 0.01507581\n",
      " 0.00578872 0.00860318 0.01159957 0.00751243 0.01755971 0.01351033\n",
      " 0.00936617 0.01072403 0.00617386 0.00767086 0.00994602 0.01390455\n",
      " 0.01017527 0.01461788 0.01280874 0.00689389 0.02091938 0.0168042\n",
      " 0.01179853 0.01258199 0.01878976 0.01097187 0.01245914 0.01040613\n",
      " 0.00776125 0.01705609 0.00635368 0.0070041  0.01238939 0.00802221\n",
      " 0.00878675 0.01342812 0.00814353 0.01064745 0.01471643 0.01916376\n",
      " 0.00923171 0.00443432 0.01631882 0.01361765 0.00658067 0.01586939\n",
      " 0.01824532 0.00979674 0.00981014 0.01233635 0.01033199 0.00858037\n",
      " 0.00819705 0.00789327 0.0087744  0.01133669 0.02009693 0.01110822\n",
      " 0.01003273 0.00911509 0.0120285  0.01433385]\n",
      "15. (18987, 25970) --array-> [0.0112611  0.0114601  0.01189192 0.01119057 0.01139092 0.01127395\n",
      " 0.01187099 0.01123725 0.01052316 0.01210224 0.01147507 0.0115121\n",
      " 0.01163067 0.01140051 0.01112618 0.01176245 0.01089698 0.01085338\n",
      " 0.01196335 0.01158003 0.01126491 0.01158105 0.01184034 0.01134363\n",
      " 0.01228909 0.01110319 0.01128773 0.01205902 0.01169787 0.01252514\n",
      " 0.01177317 0.01162044 0.01144031 0.01101342 0.0112083  0.01106411\n",
      " 0.01076136 0.01190903 0.01152987 0.01131997 0.01231284 0.01096226\n",
      " 0.01155126 0.01114647 0.01167854 0.01166963 0.01180786 0.01164505\n",
      " 0.01219024 0.01178455 0.01081219 0.01148394 0.01083356 0.01093747\n",
      " 0.01145411 0.01141723 0.0106892  0.0120283  0.01116312 0.01214978\n",
      " 0.0117045  0.01199318 0.01184344 0.01165685 0.01121934 0.0112465\n",
      " 0.0112965  0.01090397 0.01181737 0.01135865 0.01211714 0.01174188\n",
      " 0.01160487 0.01153739 0.01104341 0.01133466 0.0111575  0.01201422\n",
      " 0.01192531 0.01110762 0.01118162 0.01152488 0.01099216 0.0124243\n",
      " 0.01103913 0.01138102 0.01107635 0.01040145 0.01061246 0.01159695\n",
      " 0.01140668 0.01155823 0.01097275 0.01194628 0.01172765 0.011372\n",
      " 0.01171684 0.01143372 0.01131421 0.01150029]\n"
     ]
    }
   ],
   "source": [
    "# Prints the dictionnary with the coordinates and vector with the samples.\n",
    "counter = 0\n",
    "for k, v in coords_samples_map.items():\n",
    "    counter +=1\n",
    "    print(f\"{counter}. {k} --array-> {v}\")"
   ]
  },
  {
   "cell_type": "markdown",
   "id": "3e6982b2-f9c8-4054-b0d7-32ea66a0fd29",
   "metadata": {},
   "source": [
    "## STEP 3: Static (i.e, deterministic) LCA\n",
    "\n",
    "In this step we are going to perform a static LCA for the product system we are interested in. Let's consider the example 3.4 of the previous notebook. Given that we are already familiar with static LCA, we will abreviate the explanations"
   ]
  },
  {
   "cell_type": "code",
   "execution_count": 86,
   "id": "74ebb4d8-9546-45c1-ab34-0bc22974d208",
   "metadata": {},
   "outputs": [],
   "source": [
    "pavement_structure = fgdb.get(\"pavement_structure_1\")"
   ]
  },
  {
   "cell_type": "markdown",
   "id": "2bd41315-1259-4c2c-82b6-689365273273",
   "metadata": {},
   "source": [
    "### Functional Unit"
   ]
  },
  {
   "cell_type": "code",
   "execution_count": 87,
   "id": "1a528398-d390-4b53-842f-d2b3d3d95903",
   "metadata": {},
   "outputs": [],
   "source": [
    "functional_unit = {pavement_structure:1}"
   ]
  },
  {
   "cell_type": "markdown",
   "id": "b8de3e37-bcfa-4ef7-81a2-b93e5a92eeda",
   "metadata": {},
   "source": [
    "### LCIA Method"
   ]
  },
  {
   "cell_type": "code",
   "execution_count": 88,
   "id": "fe35eb83-cde2-49b2-a82a-dedb944da69d",
   "metadata": {},
   "outputs": [],
   "source": [
    "cml_method_gwp = (\n",
    "    \"CML v4.8 2016\",\n",
    "    \"climate change\",\n",
    "    \"global warming potential (GWP100)\",\n",
    ")"
   ]
  },
  {
   "cell_type": "markdown",
   "id": "88114e61-c7df-44e2-9535-889a64d92802",
   "metadata": {},
   "source": [
    "### LCIA scores (i.e. results) calculation"
   ]
  },
  {
   "cell_type": "code",
   "execution_count": 89,
   "id": "ddbe4c7f-8b7d-4433-a3db-13a5a010c74e",
   "metadata": {},
   "outputs": [],
   "source": [
    "# Create a lca object\n",
    "a_lca = bc.LCA({pavement_structure: 1}, cml_method_gwp)"
   ]
  },
  {
   "cell_type": "code",
   "execution_count": 90,
   "id": "c9b1db0c-6f99-40f8-ba69-0cda0f9b15aa",
   "metadata": {},
   "outputs": [
    {
     "data": {
      "text/plain": [
       "1295038.759926335"
      ]
     },
     "execution_count": 90,
     "metadata": {},
     "output_type": "execute_result"
    }
   ],
   "source": [
    "a_lca.lci()\n",
    "a_lca.lcia()\n",
    "a_lca.score"
   ]
  },
  {
   "cell_type": "code",
   "execution_count": 91,
   "id": "2a62bde9-4ce9-4dea-bd28-051bafc30e31",
   "metadata": {},
   "outputs": [
    {
     "name": "stdout",
     "output_type": "stream",
     "text": [
      "The score is 1295038.759926 kg CO2-Eq for impact category climate change\n"
     ]
    }
   ],
   "source": [
    "print(\"The score is {:f} {} for impact category {}\".format(a_lca.score, \n",
    "                                                 bd.methods.get(cml_method_gwp).get('unit'),\n",
    "                                                 cml_method_gwp[1]))"
   ]
  },
  {
   "cell_type": "markdown",
   "id": "970a95a2-b916-4243-96d6-6ac0797340a7",
   "metadata": {},
   "source": [
    "## Setp 4: Adding Uncertainties\n",
    "\n",
    "In this setp we are going to add the uncertainty to the exchanges. Be aware that uncertainties are added to exchanges (not activities).\n",
    "\n",
    "### LCA using datapackages"
   ]
  },
  {
   "cell_type": "code",
   "execution_count": 92,
   "id": "1b2f44f1-dc86-4501-9d0e-7cc1c5d2699a",
   "metadata": {},
   "outputs": [],
   "source": [
    "indexed_demand, data_objs, remapping_dicts = bd.prepare_lca_inputs(\n",
    "    {pavement_structure: 1}, cml_method_gwp\n",
    ")"
   ]
  },
  {
   "cell_type": "code",
   "execution_count": 93,
   "id": "372ae05d-97a5-4f22-b886-b0ccd9c315f2",
   "metadata": {},
   "outputs": [
    {
     "data": {
      "text/plain": [
       "{25983: 1}"
      ]
     },
     "execution_count": 93,
     "metadata": {},
     "output_type": "execute_result"
    }
   ],
   "source": [
    "indexed_demand"
   ]
  },
  {
   "cell_type": "code",
   "execution_count": 61,
   "id": "99725256-80f6-482b-a77d-a8f5a3b72473",
   "metadata": {},
   "outputs": [
    {
     "data": {
      "text/plain": [
       "[<bw_processing.datapackage.Datapackage at 0x30fa1cc90>,\n",
       " <bw_processing.datapackage.Datapackage at 0x30fa115d0>,\n",
       " <bw_processing.datapackage.Datapackage at 0x30fa0c490>,\n",
       " <bw_processing.datapackage.Datapackage at 0x31e63add0>]"
      ]
     },
     "execution_count": 61,
     "metadata": {},
     "output_type": "execute_result"
    }
   ],
   "source": [
    "data_objs"
   ]
  },
  {
   "cell_type": "code",
   "execution_count": 62,
   "id": "4edb522c-9f6b-4ecf-aefd-603e73a6873a",
   "metadata": {
    "scrolled": true
   },
   "outputs": [],
   "source": [
    "dp_correlated = bwp.create_datapackage(sequential=True)"
   ]
  },
  {
   "cell_type": "code",
   "execution_count": 63,
   "id": "a52eb526-bc70-494b-a3bd-a409b54f0e5f",
   "metadata": {},
   "outputs": [
    {
     "name": "stdout",
     "output_type": "stream",
     "text": [
      "[(18370, 25951),\n",
      " (18370, 25957),\n",
      " (18370, 25954),\n",
      " (9408, 25954),\n",
      " (18370, 25955),\n",
      " (9408, 25955),\n",
      " (18370, 25956),\n",
      " (9408, 25956),\n",
      " (18370, 25953),\n",
      " (9408, 25953),\n",
      " (18370, 25952),\n",
      " (18370, 25958),\n",
      " (16115, 25969),\n",
      " (8986, 25969),\n",
      " (18987, 25970)]\n"
     ]
    }
   ],
   "source": [
    "samples_indices = [coord for coord in coords_samples_map.keys()]\n",
    "pprint(samples_indices)"
   ]
  },
  {
   "cell_type": "code",
   "execution_count": 64,
   "id": "797a5fbf-c237-497a-a97b-09b85c1e4223",
   "metadata": {},
   "outputs": [
    {
     "ename": "ValueError",
     "evalue": "setting an array element with a sequence. The requested array has an inhomogeneous shape after 2 dimensions. The detected shape was (15, 100) + inhomogeneous part.",
     "output_type": "error",
     "traceback": [
      "\u001b[0;31m---------------------------------------------------------------------------\u001b[0m",
      "\u001b[0;31mValueError\u001b[0m                                Traceback (most recent call last)",
      "Cell \u001b[0;32mIn[64], line 2\u001b[0m\n\u001b[1;32m      1\u001b[0m \u001b[38;5;66;03m# Prepare the data_array, it must be an array of arrays\u001b[39;00m\n\u001b[0;32m----> 2\u001b[0m samples_values \u001b[38;5;241m=\u001b[39m \u001b[43mnp\u001b[49m\u001b[38;5;241;43m.\u001b[39;49m\u001b[43marray\u001b[49m\u001b[43m(\u001b[49m\u001b[43m[\u001b[49m\u001b[43mcoords_samples_map\u001b[49m\u001b[43m[\u001b[49m\u001b[43mcoord\u001b[49m\u001b[43m]\u001b[49m\u001b[43m \u001b[49m\u001b[38;5;28;43;01mfor\u001b[39;49;00m\u001b[43m \u001b[49m\u001b[43mcoord\u001b[49m\u001b[43m \u001b[49m\u001b[38;5;129;43;01min\u001b[39;49;00m\u001b[43m \u001b[49m\u001b[43msamples_indices\u001b[49m\u001b[43m]\u001b[49m\u001b[43m)\u001b[49m\n\u001b[1;32m      3\u001b[0m pprint(samples_values)\n",
      "\u001b[0;31mValueError\u001b[0m: setting an array element with a sequence. The requested array has an inhomogeneous shape after 2 dimensions. The detected shape was (15, 100) + inhomogeneous part."
     ]
    }
   ],
   "source": [
    "# Prepare the data_array, it must be an array of arrays\n",
    "samples_values = np.array([coords_samples_map[coord] for coord in samples_indices])\n",
    "pprint(samples_values)"
   ]
  },
  {
   "cell_type": "code",
   "execution_count": 47,
   "id": "3dbdbb86-320c-41f8-abc7-92ee390f607f",
   "metadata": {},
   "outputs": [
    {
     "ename": "NameError",
     "evalue": "name 'samples_values' is not defined",
     "output_type": "error",
     "traceback": [
      "\u001b[0;31m---------------------------------------------------------------------------\u001b[0m",
      "\u001b[0;31mNameError\u001b[0m                                 Traceback (most recent call last)",
      "Cell \u001b[0;32mIn[47], line 4\u001b[0m\n\u001b[1;32m      1\u001b[0m dp_correlated\u001b[38;5;241m.\u001b[39madd_persistent_array(\n\u001b[1;32m      2\u001b[0m     matrix\u001b[38;5;241m=\u001b[39m\u001b[38;5;124m\"\u001b[39m\u001b[38;5;124mtechnosphere_matrix\u001b[39m\u001b[38;5;124m\"\u001b[39m,\n\u001b[1;32m      3\u001b[0m     indices_array\u001b[38;5;241m=\u001b[39mnp\u001b[38;5;241m.\u001b[39marray(samples_indices, dtype\u001b[38;5;241m=\u001b[39mbwp\u001b[38;5;241m.\u001b[39mINDICES_DTYPE),\n\u001b[0;32m----> 4\u001b[0m     data_array\u001b[38;5;241m=\u001b[39m\u001b[43msamples_values\u001b[49m,\n\u001b[1;32m      5\u001b[0m     \u001b[38;5;66;03m# We flip the signs of the samples\u001b[39;00m\n\u001b[1;32m      6\u001b[0m     \u001b[38;5;66;03m# to obey bw's convention\u001b[39;00m\n\u001b[1;32m      7\u001b[0m     flip_array\u001b[38;5;241m=\u001b[39mnp\u001b[38;5;241m.\u001b[39marray([\u001b[38;5;28;01mTrue\u001b[39;00m \u001b[38;5;28;01mfor\u001b[39;00m _ \u001b[38;5;129;01min\u001b[39;00m \u001b[38;5;28mrange\u001b[39m(\u001b[38;5;28mlen\u001b[39m(samples_values))]),\n\u001b[1;32m      8\u001b[0m )\n",
      "\u001b[0;31mNameError\u001b[0m: name 'samples_values' is not defined"
     ]
    }
   ],
   "source": [
    "dp_correlated.add_persistent_array(\n",
    "    matrix=\"technosphere_matrix\",\n",
    "    indices_array=np.array(samples_indices, dtype=bwp.INDICES_DTYPE),\n",
    "    data_array=samples_values,\n",
    "    # We flip the signs of the samples\n",
    "    # to obey bw's convention\n",
    "    flip_array=np.array([True for _ in range(len(samples_values))]),\n",
    ")"
   ]
  },
  {
   "cell_type": "markdown",
   "id": "4e09be8c-b020-458d-9cb1-6b6ab3618754",
   "metadata": {},
   "source": [
    "## Build the new data objects to re-do the LCA"
   ]
  },
  {
   "cell_type": "code",
   "execution_count": 80,
   "id": "d8d26b79-059b-4811-80d2-de2a03071e45",
   "metadata": {},
   "outputs": [],
   "source": [
    "data_objs.append(dp_correlated)"
   ]
  },
  {
   "cell_type": "code",
   "execution_count": 81,
   "id": "5a694ac3-1d4d-4dc2-8405-a993795c28e6",
   "metadata": {},
   "outputs": [
    {
     "data": {
      "text/plain": [
       "1306831.6447644534"
      ]
     },
     "execution_count": 81,
     "metadata": {},
     "output_type": "execute_result"
    }
   ],
   "source": [
    "dp_lca = bc.LCA(demand=indexed_demand, data_objs=data_objs, use_arrays=True)\n",
    "dp_lca.lci()\n",
    "dp_lca.lcia()\n",
    "dp_lca.score"
   ]
  },
  {
   "cell_type": "code",
   "execution_count": 82,
   "id": "81c516c1-b30c-4183-a5df-cf747e2bd0c1",
   "metadata": {},
   "outputs": [
    {
     "data": {
      "application/vnd.jupyter.widget-view+json": {
       "model_id": "7d7e092356b54c3b9c4a94ba08331688",
       "version_major": 2,
       "version_minor": 0
      },
      "text/plain": [
       "  0%|          | 0/100 [00:00<?, ?it/s]"
      ]
     },
     "metadata": {},
     "output_type": "display_data"
    }
   ],
   "source": [
    "scores = []\n",
    "for _ in autonotebook.tqdm(range(100)):\n",
    "    next(dp_lca)\n",
    "    scores.append(dp_lca.score)"
   ]
  },
  {
   "cell_type": "code",
   "execution_count": 83,
   "id": "b290514b-1528-4980-9970-c0d224cb655e",
   "metadata": {},
   "outputs": [
    {
     "data": {
      "text/plain": [
       "1366812.3179875815"
      ]
     },
     "execution_count": 83,
     "metadata": {},
     "output_type": "execute_result"
    }
   ],
   "source": [
    "scores_a = np.array(scores)\n",
    "scores_a.mean()"
   ]
  },
  {
   "cell_type": "code",
   "execution_count": 84,
   "id": "68c17c76-383a-45f2-b210-02332ca82a43",
   "metadata": {},
   "outputs": [
    {
     "name": "stdout",
     "output_type": "stream",
     "text": [
      "0     1.501353e+06\n",
      "1     1.405665e+06\n",
      "2     1.317941e+06\n",
      "3     1.270298e+06\n",
      "4     1.288826e+06\n",
      "          ...     \n",
      "95    1.316496e+06\n",
      "96    1.324120e+06\n",
      "97    1.467581e+06\n",
      "98    1.321793e+06\n",
      "99    1.306832e+06\n",
      "Length: 100, dtype: float64\n"
     ]
    }
   ],
   "source": [
    "scores_a_s = pd.Series(scores_a)\n",
    "print(scores_a_s)"
   ]
  },
  {
   "cell_type": "markdown",
   "id": "c87eff97-34b5-485d-8839-7c84de59329c",
   "metadata": {},
   "source": [
    "## Graph results"
   ]
  },
  {
   "cell_type": "code",
   "execution_count": 94,
   "id": "7e892bd9-91cf-4fc3-917a-f7dbdd145bad",
   "metadata": {},
   "outputs": [
    {
     "name": "stderr",
     "output_type": "stream",
     "text": [
      "/var/folders/3t/9brqw33j6sl67t5_crw95f6h0000gn/T/ipykernel_65479/4067838399.py:11: FutureWarning: \n",
      "\n",
      "The `scale` parameter has been renamed and will be removed in v0.15.0. Pass `density_norm='width'` for the same effect.\n",
      "  sns.violinplot(data=df, x='GWP', inner=None, cut=0, bw=0.2, scale='width', orient='h', split=True)\n",
      "/var/folders/3t/9brqw33j6sl67t5_crw95f6h0000gn/T/ipykernel_65479/4067838399.py:11: FutureWarning: \n",
      "\n",
      "The `bw` parameter is deprecated in favor of `bw_method`/`bw_adjust`.\n",
      "Setting `bw_method=0.2`, but please see docs for the new parameters\n",
      "and update your code. This will become an error in seaborn v0.15.0.\n",
      "\n",
      "  sns.violinplot(data=df, x='GWP', inner=None, cut=0, bw=0.2, scale='width', orient='h', split=True)\n"
     ]
    },
    {
     "data": {
      "image/png": "[encoded data removed]",
      "text/plain": [
       "<Figure size 1000x600 with 1 Axes>"
      ]
     },
     "metadata": {},
     "output_type": "display_data"
    }
   ],
   "source": [
    "# Sample data as given in the series\n",
    "data = scores_a_s\n",
    "\n",
    "# Create a DataFrame from the series\n",
    "df = pd.DataFrame(data, columns=['GWP'])\n",
    "\n",
    "# Set the figure size\n",
    "plt.figure(figsize=(10, 6))\n",
    "\n",
    "# Create the half violin plot (right side)\n",
    "sns.violinplot(data=df, x='GWP', inner=None, cut=0, bw=0.2, scale='width', orient='h', split=True)\n",
    "\n",
    "# Set the title and labels\n",
    "plt.title(\"Global warming potential (GWP-100)\")\n",
    "plt.xlabel(\"kg CO₂ eq.\")  # CO₂ with subscript '2'\n",
    "\n",
    "# Show the plot\n",
    "plt.show()"
   ]
  },
  {
   "cell_type": "markdown",
   "id": "5bd3696f-23d7-49c6-bc35-acacaba8fba0",
   "metadata": {},
   "source": [
    "## Global Sensitivity analysis"
   ]
  },
  {
   "cell_type": "code",
   "execution_count": 108,
   "id": "d0004124-52d1-476b-aa57-dacbbfef355b",
   "metadata": {},
   "outputs": [],
   "source": [
    "x = samples.to_numpy()\n",
    "y = scores_a_s.to_numpy()\n",
    "\n",
    "#ExtraTrees parameters from Jaza-Roxen and Kwakkel (2018)\n",
    "t = 100\n",
    "m = round(len(x[0])/3)\n",
    "N = 100\n",
    "nmin = 5\n",
    "nleaf = math.sqrt(N) / math.sqrt(1000)\n",
    "\n",
    "#ExtraTrees regressor function\n",
    "regr = ExtraTreesRegressor(n_estimators=t, max_features=m, min_samples_split=nmin,\n",
    "                           min_samples_leaf=nleaf)\n",
    "regr = regr.fit(x,y)"
   ]
  },
  {
   "cell_type": "code",
   "execution_count": 116,
   "id": "957ead68-b711-46f2-87b5-38536faba3e8",
   "metadata": {},
   "outputs": [
    {
     "data": {
      "text/html": [
       "<div>\n",
       "<style scoped>\n",
       "    .dataframe tbody tr th:only-of-type {\n",
       "        vertical-align: middle;\n",
       "    }\n",
       "\n",
       "    .dataframe tbody tr th {\n",
       "        vertical-align: top;\n",
       "    }\n",
       "\n",
       "    .dataframe thead th {\n",
       "        text-align: right;\n",
       "    }\n",
       "</style>\n",
       "<table border=\"1\" class=\"dataframe\">\n",
       "  <thead>\n",
       "    <tr style=\"text-align: right;\">\n",
       "      <th></th>\n",
       "      <th>MDI</th>\n",
       "      <th>MDI_norm</th>\n",
       "    </tr>\n",
       "  </thead>\n",
       "  <tbody>\n",
       "    <tr>\n",
       "      <th>A2_bitumen_t</th>\n",
       "      <td>0.106142</td>\n",
       "      <td>0.990658</td>\n",
       "    </tr>\n",
       "    <tr>\n",
       "      <th>A2_crushedsand_t</th>\n",
       "      <td>0.017857</td>\n",
       "      <td>0.166667</td>\n",
       "    </tr>\n",
       "    <tr>\n",
       "      <th>A2_crushedsand_iv</th>\n",
       "      <td>0.089286</td>\n",
       "      <td>0.833333</td>\n",
       "    </tr>\n",
       "    <tr>\n",
       "      <th>A2_weakfiller_t</th>\n",
       "      <td>0.089286</td>\n",
       "      <td>0.833333</td>\n",
       "    </tr>\n",
       "    <tr>\n",
       "      <th>A2_naturalsand_t</th>\n",
       "      <td>0.089286</td>\n",
       "      <td>0.833333</td>\n",
       "    </tr>\n",
       "    <tr>\n",
       "      <th>A2_naturalsand_iv</th>\n",
       "      <td>0.089286</td>\n",
       "      <td>0.833333</td>\n",
       "    </tr>\n",
       "    <tr>\n",
       "      <th>A2_ownmaterial_t</th>\n",
       "      <td>0.035714</td>\n",
       "      <td>0.333333</td>\n",
       "    </tr>\n",
       "    <tr>\n",
       "      <th>A2_ownmaterial_iv</th>\n",
       "      <td>0.089286</td>\n",
       "      <td>0.833333</td>\n",
       "    </tr>\n",
       "    <tr>\n",
       "      <th>A2_crushedstone_t</th>\n",
       "      <td>0.107143</td>\n",
       "      <td>1.000000</td>\n",
       "    </tr>\n",
       "    <tr>\n",
       "      <th>A2_crushedstone_iv</th>\n",
       "      <td>0.035714</td>\n",
       "      <td>0.333333</td>\n",
       "    </tr>\n",
       "    <tr>\n",
       "      <th>A2_dripresistantmaterial_t</th>\n",
       "      <td>0.041080</td>\n",
       "      <td>0.383410</td>\n",
       "    </tr>\n",
       "    <tr>\n",
       "      <th>A4_distance_EURO5</th>\n",
       "      <td>0.089286</td>\n",
       "      <td>0.833333</td>\n",
       "    </tr>\n",
       "    <tr>\n",
       "      <th>A4_distance_EURO6</th>\n",
       "      <td>0.035714</td>\n",
       "      <td>0.333333</td>\n",
       "    </tr>\n",
       "    <tr>\n",
       "      <th>A5_construction</th>\n",
       "      <td>0.084921</td>\n",
       "      <td>0.792599</td>\n",
       "    </tr>\n",
       "  </tbody>\n",
       "</table>\n",
       "</div>"
      ],
      "text/plain": [
       "                                 MDI  MDI_norm\n",
       "A2_bitumen_t                0.106142  0.990658\n",
       "A2_crushedsand_t            0.017857  0.166667\n",
       "A2_crushedsand_iv           0.089286  0.833333\n",
       "A2_weakfiller_t             0.089286  0.833333\n",
       "A2_naturalsand_t            0.089286  0.833333\n",
       "A2_naturalsand_iv           0.089286  0.833333\n",
       "A2_ownmaterial_t            0.035714  0.333333\n",
       "A2_ownmaterial_iv           0.089286  0.833333\n",
       "A2_crushedstone_t           0.107143  1.000000\n",
       "A2_crushedstone_iv          0.035714  0.333333\n",
       "A2_dripresistantmaterial_t  0.041080  0.383410\n",
       "A4_distance_EURO5           0.089286  0.833333\n",
       "A4_distance_EURO6           0.035714  0.333333\n",
       "A5_construction             0.084921  0.792599"
      ]
     },
     "execution_count": 116,
     "metadata": {},
     "output_type": "execute_result"
    }
   ],
   "source": [
    "mdi = regr.feature_importances_\n",
    "mdi = pd.DataFrame(mdi, columns=[\"MDI\"])\n",
    "mdi.index = samples.columns\n",
    "mdi[\"MDI_norm\"] = mdi[\"MDI\"]/np.max(mdi[\"MDI\"])\n",
    "mdi"
   ]
  },
  {
   "cell_type": "code",
   "execution_count": null,
   "id": "f8da50c4-c80b-4a74-9bed-3ae3258b363a",
   "metadata": {},
   "outputs": [],
   "source": []
  }
 ],
 "metadata": {
  "kernelspec": {
   "display_name": "Python 3 (ipykernel)",
   "language": "python",
   "name": "python3"
  },
  "language_info": {
   "codemirror_mode": {
    "name": "ipython",
    "version": 3
   },
   "file_extension": ".py",
   "mimetype": "text/x-python",
   "name": "python",
   "nbconvert_exporter": "python",
   "pygments_lexer": "ipython3",
   "version": "3.11.9"
  }
 },
 "nbformat": 4,
 "nbformat_minor": 5
}
