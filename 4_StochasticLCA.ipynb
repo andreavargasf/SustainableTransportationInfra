{
 "cells": [
  {
   "cell_type": "code",
   "execution_count": 100,
   "id": "8fec5955-c255-48a5-80a1-aa0c36c40ce4",
   "metadata": {},
   "outputs": [],
   "source": [
    "import bw2analyzer as bwa\n",
    "import bw2calc as bc\n",
    "import bw2data as bd\n",
    "import bw2io as bi\n",
    "import bw_processing as bwp\n",
    "import pandas as pd\n",
    "from bw2data.query import Filter, Query\n",
    "import numpy as np\n",
    "import scipy as sp\n",
    "from pprint import pprint\n",
    "from tqdm import autonotebook\n",
    "import seaborn as sns\n",
    "import os\n",
    "import matplotlib.pyplot as plt\n",
    "import matplotlib.collections as clt\n",
    "from sklearn import cluster, mixture\n",
    "from sklearn.ensemble import ExtraTreesRegressor\n",
    "from sklearn.ensemble import ExtraTreesClassifier\n",
    "from sklearn.datasets import make_regression\n",
    "from sklearn.metrics import mean_squared_error\n",
    "import math"
   ]
  },
  {
   "cell_type": "code",
   "execution_count": 49,
   "id": "b2f28228-7456-467d-bf5f-e053f359088d",
   "metadata": {},
   "outputs": [],
   "source": [
    "#Importing the variables with the project name and background db\n",
    "from project_details import ei_name, project_name"
   ]
  },
  {
   "cell_type": "code",
   "execution_count": 50,
   "id": "88adff1a-75a3-45c7-90bf-2950d7bfc676",
   "metadata": {},
   "outputs": [
    {
     "data": {
      "text/plain": [
       "Databases dictionary with 3 object(s):\n",
       "\tasphalt\n",
       "\tbiosphere3\n",
       "\tecoinvent-391-cutoff"
      ]
     },
     "execution_count": 50,
     "metadata": {},
     "output_type": "execute_result"
    }
   ],
   "source": [
    "bd.projects.set_current(project_name)\n",
    "bd.databases"
   ]
  },
  {
   "cell_type": "code",
   "execution_count": 51,
   "id": "8de90679-8d3b-45c5-a363-4efbb469a633",
   "metadata": {},
   "outputs": [],
   "source": [
    "# Is the background database name the same as the one we wrote in `project_details.py`?\n",
    "assert ei_name in bd.databases"
   ]
  },
  {
   "cell_type": "code",
   "execution_count": 52,
   "id": "e71296c4-23af-43ce-8193-60f88d76fc18",
   "metadata": {},
   "outputs": [],
   "source": [
    "fg_name = \"asphalt\""
   ]
  },
  {
   "cell_type": "code",
   "execution_count": 53,
   "id": "a8f90ad2-06de-42cb-94df-d3b0a094450c",
   "metadata": {},
   "outputs": [],
   "source": [
    "fgdb = bd.Database(fg_name)"
   ]
  },
  {
   "cell_type": "markdown",
   "id": "270c6680-91c6-4150-83a6-2354180953d7",
   "metadata": {},
   "source": [
    "## Uncertainty Characterization"
   ]
  },
  {
   "cell_type": "markdown",
   "id": "80138f6f-2e34-49fa-b312-b25602b6621f",
   "metadata": {},
   "source": [
    "In this example, we will be considering the transport distance of materials to the asphalt plant in A2, the transport distance of the asphalt mixture from the asphalt plant to the construction site in A4, and the diesel consumption of the machinery used for construction in A5 as uncertain parameters. The foreground file already provides uncertainty information for each of these parameters, let's extract it."
   ]
  },
  {
   "cell_type": "code",
   "execution_count": 54,
   "id": "ff7aadee-29d0-42c9-9a12-976436fb5a59",
   "metadata": {},
   "outputs": [],
   "source": [
    "uncertain_parameters = []"
   ]
  },
  {
   "cell_type": "markdown",
   "id": "1ef77185-3415-40d4-9377-6546749672f7",
   "metadata": {},
   "source": [
    "### Transport distances in A2"
   ]
  },
  {
   "cell_type": "code",
   "execution_count": 55,
   "id": "7001ab6e-c17e-4925-8993-dca0ee5bce8c",
   "metadata": {},
   "outputs": [
    {
     "data": {
      "text/plain": [
       "['bitumen, production and transport' (kilogram, NL, None),\n",
       " 'crushed sand, production and transport' (kilogram, NL, None),\n",
       " 'weak filler, production and transport' (kilogram, NL, None),\n",
       " 'natural sand, production and transport' (kilogram, NL, None),\n",
       " 'other fillers, production and transport' (kilogram, NL, None),\n",
       " 'crushed stone, production and transport' (kilogram, NL, None),\n",
       " 'drip resistant material, production and transport' (kilogram, NL, None)]"
      ]
     },
     "execution_count": 55,
     "metadata": {},
     "output_type": "execute_result"
    }
   ],
   "source": [
    "materials = fgdb.search(\"production and transport\")\n",
    "materials"
   ]
  },
  {
   "cell_type": "code",
   "execution_count": 56,
   "id": "37b30e79-7a4c-49ab-a978-d2b4f7a19895",
   "metadata": {},
   "outputs": [
    {
     "data": {
      "text/plain": [
       "[('A2_bitumen_t', 2, -1.3862943611198906, 0.3474550330618338),\n",
       " ('A2_crushedsand_t', 2, -3.6888794541139363, 0.3474550330618338),\n",
       " ('A2_crushedsand_iv', 2, -0.4155154439616658, 0.3474550330618338),\n",
       " ('A2_weakfiller_t', 2, -1.995100393246085, 0.3474550330618338),\n",
       " ('A2_naturalsand_t', 2, -3.6888794541139363, 0.3474550330618338),\n",
       " ('A2_naturalsand_iv', 2, -1.8971199848858813, 0.3474550330618338),\n",
       " ('A2_ownmaterial_t', 2, -3.6888794541139363, 0.3474550330618338),\n",
       " ('A2_ownmaterial_iv', 2, -1.8971199848858813, 0.3474550330618338),\n",
       " ('A2_crushedstone_t', 2, -3.6888794541139363, 0.3474550330618338),\n",
       " ('A2_crushedstone_iv', 2, -0.4155154439616658, 0.3474550330618338),\n",
       " ('A2_dripresistantmaterial_t', 2, -1.731605546408308, 0.3474550330618338)]"
      ]
     },
     "execution_count": 56,
     "metadata": {},
     "output_type": "execute_result"
    }
   ],
   "source": [
    "for material in materials:\n",
    "    exchanges = material.technosphere()\n",
    "    for exchange in exchanges:\n",
    "        exchanges_dict = exchange.as_dict()\n",
    "        if \"comments\" in exchanges_dict:\n",
    "            parameter = exchanges_dict[\"comments\"]\n",
    "            distribution = exchanges_dict[\"uncertainty_type\"]\n",
    "            loc = exchanges_dict[\"loc\"]\n",
    "            scale = exchanges_dict[\"scale\"]\n",
    "            uncertain_parameters.append((parameter, \n",
    "                    distribution, \n",
    "                    loc,\n",
    "                    scale))\n",
    "uncertain_parameters"
   ]
  },
  {
   "cell_type": "markdown",
   "id": "2b7fc273-a400-42c7-895c-a5341e987f63",
   "metadata": {},
   "source": [
    "## Transport distances in A4"
   ]
  },
  {
   "cell_type": "code",
   "execution_count": 57,
   "id": "32793514-d647-437a-805e-f6ea6e2e453e",
   "metadata": {},
   "outputs": [
    {
     "data": {
      "text/plain": [
       "['asphalt, transport to site' (kilogram, NL, None)]"
      ]
     },
     "execution_count": 57,
     "metadata": {},
     "output_type": "execute_result"
    }
   ],
   "source": [
    "transport_a4 = fgdb.search(\"asphalt, transport to site\")\n",
    "transport_a4"
   ]
  },
  {
   "cell_type": "code",
   "execution_count": 58,
   "id": "02720137-a664-4c0c-b327-0c8dc89d7a21",
   "metadata": {},
   "outputs": [
    {
     "data": {
      "text/plain": [
       "[('A2_bitumen_t', 2, -1.3862943611198906, 0.3474550330618338),\n",
       " ('A2_crushedsand_t', 2, -3.6888794541139363, 0.3474550330618338),\n",
       " ('A2_crushedsand_iv', 2, -0.4155154439616658, 0.3474550330618338),\n",
       " ('A2_weakfiller_t', 2, -1.995100393246085, 0.3474550330618338),\n",
       " ('A2_naturalsand_t', 2, -3.6888794541139363, 0.3474550330618338),\n",
       " ('A2_naturalsand_iv', 2, -1.8971199848858813, 0.3474550330618338),\n",
       " ('A2_ownmaterial_t', 2, -3.6888794541139363, 0.3474550330618338),\n",
       " ('A2_ownmaterial_iv', 2, -1.8971199848858813, 0.3474550330618338),\n",
       " ('A2_crushedstone_t', 2, -3.6888794541139363, 0.3474550330618338),\n",
       " ('A2_crushedstone_iv', 2, -0.4155154439616658, 0.3474550330618338),\n",
       " ('A2_dripresistantmaterial_t', 2, -1.731605546408308, 0.3474550330618338),\n",
       " ('A4_distance_EURO5', 2, -3.402197881995739, 0.3474550330618338),\n",
       " ('A4_distance_EURO6', 2, -4.500810170663849, 0.3474550330618338)]"
      ]
     },
     "execution_count": 58,
     "metadata": {},
     "output_type": "execute_result"
    }
   ],
   "source": [
    "for transport in transport_a4:\n",
    "    exchanges = transport.technosphere()\n",
    "    for exchange in exchanges:\n",
    "        exchanges_dict = exchange.as_dict()\n",
    "        if \"comments\" in exchanges_dict:\n",
    "            parameter = exchanges_dict[\"comments\"]\n",
    "            distribution = exchanges_dict[\"uncertainty_type\"]\n",
    "            loc = exchanges_dict[\"loc\"]\n",
    "            scale = exchanges_dict[\"scale\"]\n",
    "            uncertain_parameters.append((parameter, \n",
    "                    distribution, \n",
    "                    loc,\n",
    "                    scale))\n",
    "uncertain_parameters"
   ]
  },
  {
   "cell_type": "markdown",
   "id": "ba44968c-968e-48be-bc77-40ea36e677e1",
   "metadata": {},
   "source": [
    "## Diesel consumption in A5"
   ]
  },
  {
   "cell_type": "code",
   "execution_count": 59,
   "id": "3afdb6b3-ab0a-496a-919e-2afd9e4708bb",
   "metadata": {},
   "outputs": [
    {
     "data": {
      "text/plain": [
       "['asphalt, construction' (kilogram, NL, None)]"
      ]
     },
     "execution_count": 59,
     "metadata": {},
     "output_type": "execute_result"
    }
   ],
   "source": [
    "construction = fgdb.search(\"asphalt, construction\")\n",
    "construction"
   ]
  },
  {
   "cell_type": "code",
   "execution_count": 60,
   "id": "a5848eba-0361-4f4e-b25a-caf0f22a9ce6",
   "metadata": {},
   "outputs": [
    {
     "data": {
      "text/plain": [
       "[('A2_bitumen_t', 2, -1.3862943611198906, 0.3474550330618338),\n",
       " ('A2_crushedsand_t', 2, -3.6888794541139363, 0.3474550330618338),\n",
       " ('A2_crushedsand_iv', 2, -0.4155154439616658, 0.3474550330618338),\n",
       " ('A2_weakfiller_t', 2, -1.995100393246085, 0.3474550330618338),\n",
       " ('A2_naturalsand_t', 2, -3.6888794541139363, 0.3474550330618338),\n",
       " ('A2_naturalsand_iv', 2, -1.8971199848858813, 0.3474550330618338),\n",
       " ('A2_ownmaterial_t', 2, -3.6888794541139363, 0.3474550330618338),\n",
       " ('A2_ownmaterial_iv', 2, -1.8971199848858813, 0.3474550330618338),\n",
       " ('A2_crushedstone_t', 2, -3.6888794541139363, 0.3474550330618338),\n",
       " ('A2_crushedstone_iv', 2, -0.4155154439616658, 0.3474550330618338),\n",
       " ('A2_dripresistantmaterial_t', 2, -1.731605546408308, 0.3474550330618338),\n",
       " ('A4_distance_EURO5', 2, -3.402197881995739, 0.3474550330618338),\n",
       " ('A4_distance_EURO6', 2, -4.500810170663849, 0.3474550330618338),\n",
       " ('A5_construction', 2, -4.468892567695543, 0.03741657386773941)]"
      ]
     },
     "execution_count": 60,
     "metadata": {},
     "output_type": "execute_result"
    }
   ],
   "source": [
    "for consumption in construction:\n",
    "    exchanges = consumption.technosphere()\n",
    "    for exchange in exchanges:\n",
    "        exchanges_dict = exchange.as_dict()\n",
    "        if \"comments\" in exchanges_dict:\n",
    "            parameter = exchanges_dict[\"comments\"]\n",
    "            distribution = exchanges_dict[\"uncertainty_type\"]\n",
    "            loc = exchanges_dict[\"loc\"]\n",
    "            scale = exchanges_dict[\"scale\"]\n",
    "            uncertain_parameters.append((parameter, \n",
    "                    distribution, \n",
    "                    loc,\n",
    "                    scale))\n",
    "uncertain_parameters"
   ]
  },
  {
   "cell_type": "markdown",
   "id": "2f4d6505-5438-4582-b421-fffb81893918",
   "metadata": {},
   "source": [
    "## Sample generation\n",
    "\n",
    "Now that we have retrieved the uncertain parameters information, we can proceed to generate our samples."
   ]
  },
  {
   "cell_type": "markdown",
   "id": "2f7aa472-188c-4268-8c19-dccbbbe9b1c7",
   "metadata": {},
   "source": [
    "First, we define a Latin hypercube sampling (LHS) function:"
   ]
  },
  {
   "cell_type": "code",
   "execution_count": 61,
   "id": "ef2c6b6a-4fce-4ca7-b386-b18f93456530",
   "metadata": {},
   "outputs": [],
   "source": [
    "def LHS_generator(inputs, sample_size, seed=None):\n",
    "    # Determine the number of parameters based on the length of inputs\n",
    "    num_parameters = len(inputs)\n",
    "\n",
    "    # Assign random seed (if specified) for reproducibility\n",
    "    if seed:\n",
    "        np.random.seed(seed)\n",
    "\n",
    "    # Initialize an empty array to hold the results\n",
    "    result = np.empty([sample_size, num_parameters])\n",
    "    \n",
    "    # Calculate the interval width for the uniform distribution\n",
    "    d = 1.0 / sample_size\n",
    "    \n",
    "    # Generate samples using uniform distribution within specified ranges\n",
    "    temp = np.array(\n",
    "        [\n",
    "            np.random.uniform(low=sample * d, high=(sample + 1) * d, size=num_parameters)\n",
    "            for sample in range(sample_size)\n",
    "        ]\n",
    "    )\n",
    "\n",
    "    # Process each parameter to perform Latin Hypercube Sampling for log-normal distribution\n",
    "    for parameter in range(num_parameters):\n",
    "        # Shuffle the samples to ensure randomness\n",
    "        np.random.shuffle(temp[:, parameter])\n",
    "        \n",
    "        # Apply the inverse cumulative distribution function (ppf) of the normal distribution\n",
    "        # then exponentiate to transform to a log-normal distribution\n",
    "        temp[:, parameter] = np.exp(sp.stats.norm.ppf(temp[:, parameter], loc=inputs[parameter][2], scale=inputs[parameter][3]))\n",
    "        \n",
    "        # Fill the result array with processed samples\n",
    "        for sample in range(sample_size):\n",
    "            result[sample, parameter] = temp[sample, parameter]\n",
    "\n",
    "    # Convert result to a DataFrame with column names from the first column of inputs\n",
    "    column_names = [inputs[i][0] for i in range(num_parameters)]\n",
    "    result_df = pd.DataFrame(result, columns=column_names)\n",
    "\n",
    "    return result_df"
   ]
  },
  {
   "cell_type": "code",
   "execution_count": 62,
   "id": "6ecccc87-2f3d-43fb-a79a-ced9a78b6465",
   "metadata": {},
   "outputs": [],
   "source": [
    "samples = LHS_generator(uncertain_parameters,100)"
   ]
  },
  {
   "cell_type": "code",
   "execution_count": 63,
   "id": "01e47131-ba40-46b6-8537-12d6fae5eefb",
   "metadata": {},
   "outputs": [
    {
     "data": {
      "text/html": [
       "<div>\n",
       "<style scoped>\n",
       "    .dataframe tbody tr th:only-of-type {\n",
       "        vertical-align: middle;\n",
       "    }\n",
       "\n",
       "    .dataframe tbody tr th {\n",
       "        vertical-align: top;\n",
       "    }\n",
       "\n",
       "    .dataframe thead th {\n",
       "        text-align: right;\n",
       "    }\n",
       "</style>\n",
       "<table border=\"1\" class=\"dataframe\">\n",
       "  <thead>\n",
       "    <tr style=\"text-align: right;\">\n",
       "      <th></th>\n",
       "      <th>A2_bitumen_t</th>\n",
       "      <th>A2_crushedsand_t</th>\n",
       "      <th>A2_crushedsand_iv</th>\n",
       "      <th>A2_weakfiller_t</th>\n",
       "      <th>A2_naturalsand_t</th>\n",
       "      <th>A2_naturalsand_iv</th>\n",
       "      <th>A2_ownmaterial_t</th>\n",
       "      <th>A2_ownmaterial_iv</th>\n",
       "      <th>A2_crushedstone_t</th>\n",
       "      <th>A2_crushedstone_iv</th>\n",
       "      <th>A2_dripresistantmaterial_t</th>\n",
       "      <th>A4_distance_EURO5</th>\n",
       "      <th>A4_distance_EURO6</th>\n",
       "      <th>A5_construction</th>\n",
       "    </tr>\n",
       "  </thead>\n",
       "  <tbody>\n",
       "    <tr>\n",
       "      <th>0</th>\n",
       "      <td>0.252033</td>\n",
       "      <td>0.039997</td>\n",
       "      <td>0.300503</td>\n",
       "      <td>0.142086</td>\n",
       "      <td>0.024111</td>\n",
       "      <td>0.124573</td>\n",
       "      <td>0.024727</td>\n",
       "      <td>0.130057</td>\n",
       "      <td>0.021490</td>\n",
       "      <td>0.619959</td>\n",
       "      <td>0.171095</td>\n",
       "      <td>0.030469</td>\n",
       "      <td>0.007443</td>\n",
       "      <td>0.011051</td>\n",
       "    </tr>\n",
       "    <tr>\n",
       "      <th>1</th>\n",
       "      <td>0.286323</td>\n",
       "      <td>0.039385</td>\n",
       "      <td>0.806346</td>\n",
       "      <td>0.180798</td>\n",
       "      <td>0.023762</td>\n",
       "      <td>0.118797</td>\n",
       "      <td>0.047472</td>\n",
       "      <td>0.090435</td>\n",
       "      <td>0.020011</td>\n",
       "      <td>1.245152</td>\n",
       "      <td>0.187586</td>\n",
       "      <td>0.041368</td>\n",
       "      <td>0.006759</td>\n",
       "      <td>0.012194</td>\n",
       "    </tr>\n",
       "    <tr>\n",
       "      <th>2</th>\n",
       "      <td>0.248841</td>\n",
       "      <td>0.021889</td>\n",
       "      <td>0.576775</td>\n",
       "      <td>0.072687</td>\n",
       "      <td>0.018561</td>\n",
       "      <td>0.133245</td>\n",
       "      <td>0.043176</td>\n",
       "      <td>0.202462</td>\n",
       "      <td>0.026382</td>\n",
       "      <td>0.651251</td>\n",
       "      <td>0.158987</td>\n",
       "      <td>0.066921</td>\n",
       "      <td>0.014560</td>\n",
       "      <td>0.012072</td>\n",
       "    </tr>\n",
       "    <tr>\n",
       "      <th>3</th>\n",
       "      <td>0.184899</td>\n",
       "      <td>0.025427</td>\n",
       "      <td>0.645134</td>\n",
       "      <td>0.178552</td>\n",
       "      <td>0.040091</td>\n",
       "      <td>0.189755</td>\n",
       "      <td>0.025541</td>\n",
       "      <td>0.175794</td>\n",
       "      <td>0.032227</td>\n",
       "      <td>0.493239</td>\n",
       "      <td>0.122030</td>\n",
       "      <td>0.036699</td>\n",
       "      <td>0.007779</td>\n",
       "      <td>0.011327</td>\n",
       "    </tr>\n",
       "    <tr>\n",
       "      <th>4</th>\n",
       "      <td>0.255880</td>\n",
       "      <td>0.030343</td>\n",
       "      <td>0.598579</td>\n",
       "      <td>0.243835</td>\n",
       "      <td>0.030518</td>\n",
       "      <td>0.117813</td>\n",
       "      <td>0.037062</td>\n",
       "      <td>0.157442</td>\n",
       "      <td>0.024035</td>\n",
       "      <td>0.382358</td>\n",
       "      <td>0.332929</td>\n",
       "      <td>0.032898</td>\n",
       "      <td>0.009564</td>\n",
       "      <td>0.011901</td>\n",
       "    </tr>\n",
       "    <tr>\n",
       "      <th>...</th>\n",
       "      <td>...</td>\n",
       "      <td>...</td>\n",
       "      <td>...</td>\n",
       "      <td>...</td>\n",
       "      <td>...</td>\n",
       "      <td>...</td>\n",
       "      <td>...</td>\n",
       "      <td>...</td>\n",
       "      <td>...</td>\n",
       "      <td>...</td>\n",
       "      <td>...</td>\n",
       "      <td>...</td>\n",
       "      <td>...</td>\n",
       "      <td>...</td>\n",
       "    </tr>\n",
       "    <tr>\n",
       "      <th>95</th>\n",
       "      <td>0.345317</td>\n",
       "      <td>0.023808</td>\n",
       "      <td>0.896529</td>\n",
       "      <td>0.081626</td>\n",
       "      <td>0.021878</td>\n",
       "      <td>0.193545</td>\n",
       "      <td>0.031639</td>\n",
       "      <td>0.095894</td>\n",
       "      <td>0.029158</td>\n",
       "      <td>0.587319</td>\n",
       "      <td>0.135885</td>\n",
       "      <td>0.061347</td>\n",
       "      <td>0.009795</td>\n",
       "      <td>0.011601</td>\n",
       "    </tr>\n",
       "    <tr>\n",
       "      <th>96</th>\n",
       "      <td>0.459869</td>\n",
       "      <td>0.031569</td>\n",
       "      <td>0.919024</td>\n",
       "      <td>0.122537</td>\n",
       "      <td>0.023412</td>\n",
       "      <td>0.106554</td>\n",
       "      <td>0.033711</td>\n",
       "      <td>0.141521</td>\n",
       "      <td>0.041720</td>\n",
       "      <td>0.500308</td>\n",
       "      <td>0.110251</td>\n",
       "      <td>0.029127</td>\n",
       "      <td>0.008620</td>\n",
       "      <td>0.011261</td>\n",
       "    </tr>\n",
       "    <tr>\n",
       "      <th>97</th>\n",
       "      <td>0.326892</td>\n",
       "      <td>0.052353</td>\n",
       "      <td>0.626548</td>\n",
       "      <td>0.130490</td>\n",
       "      <td>0.020383</td>\n",
       "      <td>0.097501</td>\n",
       "      <td>0.025747</td>\n",
       "      <td>0.170907</td>\n",
       "      <td>0.038593</td>\n",
       "      <td>0.453650</td>\n",
       "      <td>0.198169</td>\n",
       "      <td>0.043324</td>\n",
       "      <td>0.013915</td>\n",
       "      <td>0.012463</td>\n",
       "    </tr>\n",
       "    <tr>\n",
       "      <th>98</th>\n",
       "      <td>0.179244</td>\n",
       "      <td>0.047881</td>\n",
       "      <td>0.928014</td>\n",
       "      <td>0.223424</td>\n",
       "      <td>0.009841</td>\n",
       "      <td>0.136585</td>\n",
       "      <td>0.031110</td>\n",
       "      <td>0.188420</td>\n",
       "      <td>0.056809</td>\n",
       "      <td>0.999209</td>\n",
       "      <td>0.201487</td>\n",
       "      <td>0.045722</td>\n",
       "      <td>0.006226</td>\n",
       "      <td>0.011554</td>\n",
       "    </tr>\n",
       "    <tr>\n",
       "      <th>99</th>\n",
       "      <td>0.336428</td>\n",
       "      <td>0.017501</td>\n",
       "      <td>0.885783</td>\n",
       "      <td>0.229653</td>\n",
       "      <td>0.032616</td>\n",
       "      <td>0.144745</td>\n",
       "      <td>0.039183</td>\n",
       "      <td>0.154268</td>\n",
       "      <td>0.022812</td>\n",
       "      <td>0.408616</td>\n",
       "      <td>0.206603</td>\n",
       "      <td>0.045158</td>\n",
       "      <td>0.013861</td>\n",
       "      <td>0.011097</td>\n",
       "    </tr>\n",
       "  </tbody>\n",
       "</table>\n",
       "<p>100 rows × 14 columns</p>\n",
       "</div>"
      ],
      "text/plain": [
       "    A2_bitumen_t  A2_crushedsand_t  A2_crushedsand_iv  A2_weakfiller_t  \\\n",
       "0       0.252033          0.039997           0.300503         0.142086   \n",
       "1       0.286323          0.039385           0.806346         0.180798   \n",
       "2       0.248841          0.021889           0.576775         0.072687   \n",
       "3       0.184899          0.025427           0.645134         0.178552   \n",
       "4       0.255880          0.030343           0.598579         0.243835   \n",
       "..           ...               ...                ...              ...   \n",
       "95      0.345317          0.023808           0.896529         0.081626   \n",
       "96      0.459869          0.031569           0.919024         0.122537   \n",
       "97      0.326892          0.052353           0.626548         0.130490   \n",
       "98      0.179244          0.047881           0.928014         0.223424   \n",
       "99      0.336428          0.017501           0.885783         0.229653   \n",
       "\n",
       "    A2_naturalsand_t  A2_naturalsand_iv  A2_ownmaterial_t  A2_ownmaterial_iv  \\\n",
       "0           0.024111           0.124573          0.024727           0.130057   \n",
       "1           0.023762           0.118797          0.047472           0.090435   \n",
       "2           0.018561           0.133245          0.043176           0.202462   \n",
       "3           0.040091           0.189755          0.025541           0.175794   \n",
       "4           0.030518           0.117813          0.037062           0.157442   \n",
       "..               ...                ...               ...                ...   \n",
       "95          0.021878           0.193545          0.031639           0.095894   \n",
       "96          0.023412           0.106554          0.033711           0.141521   \n",
       "97          0.020383           0.097501          0.025747           0.170907   \n",
       "98          0.009841           0.136585          0.031110           0.188420   \n",
       "99          0.032616           0.144745          0.039183           0.154268   \n",
       "\n",
       "    A2_crushedstone_t  A2_crushedstone_iv  A2_dripresistantmaterial_t  \\\n",
       "0            0.021490            0.619959                    0.171095   \n",
       "1            0.020011            1.245152                    0.187586   \n",
       "2            0.026382            0.651251                    0.158987   \n",
       "3            0.032227            0.493239                    0.122030   \n",
       "4            0.024035            0.382358                    0.332929   \n",
       "..                ...                 ...                         ...   \n",
       "95           0.029158            0.587319                    0.135885   \n",
       "96           0.041720            0.500308                    0.110251   \n",
       "97           0.038593            0.453650                    0.198169   \n",
       "98           0.056809            0.999209                    0.201487   \n",
       "99           0.022812            0.408616                    0.206603   \n",
       "\n",
       "    A4_distance_EURO5  A4_distance_EURO6  A5_construction  \n",
       "0            0.030469           0.007443         0.011051  \n",
       "1            0.041368           0.006759         0.012194  \n",
       "2            0.066921           0.014560         0.012072  \n",
       "3            0.036699           0.007779         0.011327  \n",
       "4            0.032898           0.009564         0.011901  \n",
       "..                ...                ...              ...  \n",
       "95           0.061347           0.009795         0.011601  \n",
       "96           0.029127           0.008620         0.011261  \n",
       "97           0.043324           0.013915         0.012463  \n",
       "98           0.045722           0.006226         0.011554  \n",
       "99           0.045158           0.013861         0.011097  \n",
       "\n",
       "[100 rows x 14 columns]"
      ]
     },
     "execution_count": 63,
     "metadata": {},
     "output_type": "execute_result"
    }
   ],
   "source": [
    "samples"
   ]
  },
  {
   "cell_type": "markdown",
   "id": "27ad8298-b59f-44aa-bea0-e323f5bfcc8b",
   "metadata": {},
   "source": [
    "## Link samples to exchanges"
   ]
  },
  {
   "cell_type": "code",
   "execution_count": 64,
   "id": "f56e47ae-032b-437a-882b-33edbeb46efe",
   "metadata": {},
   "outputs": [],
   "source": [
    "def exchange_coords(exchange):\n",
    "    \"\"\"create a tuple with the numerical ids of the input and output activites of an exchange.\"\"\"\n",
    "    input_activity = bd.get_activity(exchange[\"input\"])\n",
    "    output_activity = bd.get_activity(exchange[\"output\"])\n",
    "    return (input_activity.id, output_activity.id)"
   ]
  },
  {
   "cell_type": "code",
   "execution_count": 65,
   "id": "9c2a3318-d955-47d9-9db0-08eef4285f3c",
   "metadata": {},
   "outputs": [],
   "source": [
    "def build_coords_sample(activities, samples_df):\n",
    "    \n",
    "    coords_samples_map = {}\n",
    "\n",
    "    counter = 0\n",
    "\n",
    "    for activity in activities:\n",
    "        exchanges = activity.technosphere()\n",
    "        for exchange in exchanges:\n",
    "            exchanges_dict = exchange.as_dict()\n",
    "            if \"comments\" in exchanges_dict:\n",
    "                col_name = exchanges_dict[\"comments\"]\n",
    "                coords = exchange_coords(exchange)\n",
    "                counter += 1\n",
    "                print(f\"{counter}. {exchange}\\n\\t 👉 {coords} to {col_name}\")\n",
    "                coords_samples_map[exchange_coords(exchange)] = samples_df[\n",
    "                    col_name\n",
    "                ].values  # numpy.ndarray\n",
    "    return coords_samples_map\n"
   ]
  },
  {
   "cell_type": "code",
   "execution_count": 66,
   "id": "d9729b1f-1286-401a-871b-436c9923dd8d",
   "metadata": {},
   "outputs": [
    {
     "data": {
      "text/plain": [
       "['bitumen, production and transport' (kilogram, NL, None),\n",
       " 'crushed sand, production and transport' (kilogram, NL, None),\n",
       " 'weak filler, production and transport' (kilogram, NL, None),\n",
       " 'natural sand, production and transport' (kilogram, NL, None),\n",
       " 'other fillers, production and transport' (kilogram, NL, None),\n",
       " 'crushed stone, production and transport' (kilogram, NL, None),\n",
       " 'drip resistant material, production and transport' (kilogram, NL, None),\n",
       " 'asphalt, transport to site' (kilogram, NL, None),\n",
       " 'asphalt, construction' (kilogram, NL, None)]"
      ]
     },
     "execution_count": 66,
     "metadata": {},
     "output_type": "execute_result"
    }
   ],
   "source": [
    "# Group activity variables\n",
    "activities = materials + transport_a4 + construction\n",
    "activities"
   ]
  },
  {
   "cell_type": "code",
   "execution_count": 67,
   "id": "fa841442-9c43-4b73-9c56-496cea76a518",
   "metadata": {},
   "outputs": [
    {
     "name": "stdout",
     "output_type": "stream",
     "text": [
      "1. Exchange: 0.25 ton kilometer 'market for transport, freight, lorry, unspecified' (ton kilometer, RER, None) to 'bitumen, production and transport' (kilogram, NL, None)>\n",
      "\t 👉 (18370, 25950) to A2_bitumen_t\n",
      "2. Exchange: 0.025 ton kilometer 'market for transport, freight, lorry, unspecified' (ton kilometer, RER, None) to 'crushed sand, production and transport' (kilogram, NL, None)>\n",
      "\t 👉 (18370, 25952) to A2_crushedsand_t\n",
      "3. Exchange: 0.66 ton kilometer 'market for transport, freight, inland waterways, barge' (ton kilometer, RER, None) to 'crushed sand, production and transport' (kilogram, NL, None)>\n",
      "\t 👉 (9408, 25952) to A2_crushedsand_iv\n",
      "4. Exchange: 0.136 ton kilometer 'market for transport, freight, lorry, unspecified' (ton kilometer, RER, None) to 'weak filler, production and transport' (kilogram, NL, None)>\n",
      "\t 👉 (18370, 25955) to A2_weakfiller_t\n",
      "5. Exchange: 0.025 ton kilometer 'market for transport, freight, lorry, unspecified' (ton kilometer, RER, None) to 'natural sand, production and transport' (kilogram, NL, None)>\n",
      "\t 👉 (18370, 25954) to A2_naturalsand_t\n",
      "6. Exchange: 0.15 ton kilometer 'market for transport, freight, inland waterways, barge' (ton kilometer, RER, None) to 'natural sand, production and transport' (kilogram, NL, None)>\n",
      "\t 👉 (9408, 25954) to A2_naturalsand_iv\n",
      "7. Exchange: 0.025 ton kilometer 'market for transport, freight, lorry, unspecified' (ton kilometer, RER, None) to 'other fillers, production and transport' (kilogram, NL, None)>\n",
      "\t 👉 (18370, 25953) to A2_ownmaterial_t\n",
      "8. Exchange: 0.15 ton kilometer 'market for transport, freight, inland waterways, barge' (ton kilometer, RER, None) to 'other fillers, production and transport' (kilogram, NL, None)>\n",
      "\t 👉 (9408, 25953) to A2_ownmaterial_iv\n",
      "9. Exchange: 0.025 ton kilometer 'market for transport, freight, lorry, unspecified' (ton kilometer, RER, None) to 'crushed stone, production and transport' (kilogram, NL, None)>\n",
      "\t 👉 (18370, 25951) to A2_crushedstone_t\n",
      "10. Exchange: 0.66 ton kilometer 'market for transport, freight, inland waterways, barge' (ton kilometer, RER, None) to 'crushed stone, production and transport' (kilogram, NL, None)>\n",
      "\t 👉 (9408, 25951) to A2_crushedstone_iv\n",
      "11. Exchange: 0.177 ton kilometer 'market for transport, freight, lorry, unspecified' (ton kilometer, RER, None) to 'drip resistant material, production and transport' (kilogram, NL, None)>\n",
      "\t 👉 (18370, 25956) to A2_dripresistantmaterial_t\n",
      "12. Exchange: 0.033299999999999996 ton kilometer 'transport, freight, lorry >32 metric ton, EURO5' (ton kilometer, RER, None) to 'asphalt, transport to site' (kilogram, NL, None)>\n",
      "\t 👉 (16115, 25963) to A4_distance_EURO5\n",
      "13. Exchange: 0.0111 ton kilometer 'transport, freight, lorry >32 metric ton, EURO6' (ton kilometer, RER, None) to 'asphalt, transport to site' (kilogram, NL, None)>\n",
      "\t 👉 (8986, 25963) to A4_distance_EURO6\n",
      "14. Exchange: 0.011460000000000001 megajoule 'diesel, burned in building machine' (megajoule, GLO, None) to 'asphalt, construction' (kilogram, NL, None)>\n",
      "\t 👉 (18987, 25964) to A5_construction\n"
     ]
    }
   ],
   "source": [
    "coords_samples_map = build_coords_sample(activities, samples)"
   ]
  },
  {
   "cell_type": "code",
   "execution_count": 68,
   "id": "24a9039f-4d3d-417b-9cdd-200a34af30fc",
   "metadata": {
    "scrolled": true
   },
   "outputs": [
    {
     "name": "stdout",
     "output_type": "stream",
     "text": [
      "1. (18370, 25950) --array-> [0.25203329 0.28632278 0.24884142 0.1848992  0.25588021 0.19014364\n",
      " 0.40199082 0.21462145 0.49398857 0.19276101 0.2038167  0.43697167\n",
      " 0.23866311 0.33432899 0.36346422 0.44710489 0.18745547 0.158644\n",
      " 0.36461102 0.26109772 0.28524812 0.26583295 0.30103865 0.28133491\n",
      " 0.17684628 0.27551068 0.27081952 0.19739221 0.2443815  0.19351698\n",
      " 0.22944044 0.20429512 0.20925712 0.39422403 0.3298959  0.31087177\n",
      " 0.28048549 0.20178353 0.138554   0.16736231 0.22141688 0.1547951\n",
      " 0.14869544 0.2110919  0.37895311 0.20832993 0.15259878 0.17389368\n",
      " 0.42739506 0.30585548 0.37250657 0.1289461  0.6731642  0.21351476\n",
      " 0.35774762 0.31420317 0.32005256 0.26511798 0.14453178 0.41524353\n",
      " 0.22746292 0.22435408 0.25677263 0.34035156 0.16486302 0.2697491\n",
      " 0.26207682 0.2183899  0.38358074 0.17051554 0.30664937 0.13013122\n",
      " 0.29079372 0.2930896  0.23205839 0.24129357 0.29954839 0.24755457\n",
      " 0.11376696 0.22619403 0.31804353 0.24180138 0.16016133 0.35079074\n",
      " 0.19852024 0.22001408 0.18387535 0.27357053 0.2342936  0.17964958\n",
      " 0.52170371 0.0960688  0.25343266 0.29580478 0.2370133  0.34531697\n",
      " 0.45986879 0.32689215 0.17924361 0.33642836]\n",
      "2. (18370, 25952) --array-> [0.03999689 0.03938452 0.02188896 0.02542657 0.03034307 0.07043842\n",
      " 0.03234393 0.01890971 0.02575056 0.01646948 0.02426147 0.02926743\n",
      " 0.03599506 0.02104211 0.0350909  0.02444917 0.03580351 0.01868442\n",
      " 0.02907222 0.01606652 0.01960197 0.03758557 0.03197171 0.03125267\n",
      " 0.01548992 0.01432543 0.04853365 0.02138195 0.04294872 0.02877338\n",
      " 0.02316646 0.01332825 0.03291966 0.02753508 0.02815689 0.02303065\n",
      " 0.02834093 0.01995098 0.01276741 0.01718057 0.02545713 0.01812468\n",
      " 0.0408967  0.02033503 0.01586386 0.02237763 0.02770086 0.02357214\n",
      " 0.03091261 0.03183554 0.0334553  0.02254523 0.02470711 0.04195697\n",
      " 0.03792499 0.01688443 0.02966229 0.02800652 0.01780937 0.02055603\n",
      " 0.02165017 0.02510687 0.02346296 0.01922546 0.01704352 0.02211779\n",
      " 0.02065725 0.02690207 0.03012531 0.03843197 0.01521499 0.01839765\n",
      " 0.03421906 0.03456904 0.01489542 0.0137979  0.02619888 0.02636745\n",
      " 0.04429476 0.02177769 0.03694329 0.02664945 0.02598238 0.01858863\n",
      " 0.03384073 0.01221712 0.01036524 0.02278405 0.02104557 0.02016355\n",
      " 0.02729168 0.01941415 0.02411231 0.02481224 0.02990744 0.02380825\n",
      " 0.03156861 0.05235283 0.04788122 0.01750107]\n",
      "3. (9408, 25952) --array-> [0.30050293 0.80634611 0.57677507 0.64513351 0.59857923 0.42706334\n",
      " 0.84070622 0.63593992 0.59349685 0.8247932  0.44127777 0.40222038\n",
      " 0.4759631  1.00046112 0.87740501 0.77789604 0.65680841 0.8548234\n",
      " 0.57155374 0.36321327 0.85033642 1.12903756 1.13606727 0.68603954\n",
      " 0.66969035 0.64027407 0.48631706 1.03246943 0.51009861 0.73996658\n",
      " 0.70038936 0.55120938 0.75237696 0.96309763 0.94002623 0.77586719\n",
      " 0.3820551  0.52351753 0.51507446 0.49555655 0.55684982 0.86549127\n",
      " 0.74674807 1.02107966 0.95474808 0.3888786  0.41679008 0.76706609\n",
      " 0.6945497  0.4370849  1.08464119 0.79372405 0.6655411  1.47386449\n",
      " 0.72354306 0.4052942  1.27066036 1.65602502 1.05278267 0.61997645\n",
      " 0.47089646 0.4893936  0.67796681 0.53770457 0.35597327 0.56249078\n",
      " 0.54427592 0.52029621 0.98705929 0.61523699 1.23016573 0.49999941\n",
      " 0.46348317 0.54664236 0.457103   0.18908959 0.44694683 0.62405505\n",
      " 0.58558287 0.6511561  0.33445922 0.78784845 0.71060101 0.6748157\n",
      " 0.82832869 0.71677027 0.73102576 0.7577428  0.70549326 0.52847363\n",
      " 1.2032974  0.60550671 0.80892555 0.58074348 0.60423231 0.89652857\n",
      " 0.91902356 0.62654783 0.92801419 0.88578305]\n",
      "4. (18370, 25955) --array-> [0.14208563 0.1807982  0.07268707 0.17855172 0.24383466 0.17389688\n",
      " 0.15340079 0.12906044 0.2193057  0.14793516 0.14099436 0.12098419\n",
      " 0.25440811 0.11427079 0.09746107 0.10229004 0.1197881  0.17620241\n",
      " 0.15207699 0.10365575 0.0787736  0.13828656 0.11878126 0.16218466\n",
      " 0.06405609 0.15745717 0.08664101 0.12668224 0.13905821 0.21393606\n",
      " 0.19216823 0.09172863 0.16599821 0.29441877 0.1121638  0.1447513\n",
      " 0.07503482 0.16323283 0.1705493  0.14657445 0.11685294 0.23466242\n",
      " 0.10043177 0.1353677  0.15076795 0.09813454 0.41159907 0.18241674\n",
      " 0.13649327 0.17336582 0.09545978 0.15619022 0.13981004 0.06888013\n",
      " 0.10861792 0.13406163 0.09288575 0.05447161 0.12696615 0.14441967\n",
      " 0.10968118 0.12187376 0.08834407 0.0845353  0.20073116 0.12860632\n",
      " 0.16962516 0.20894749 0.1326289  0.11617026 0.1106516  0.08019905\n",
      " 0.18909913 0.20777709 0.19119629 0.15490803 0.12446925 0.09445231\n",
      " 0.19635375 0.13236481 0.10727636 0.10436191 0.18615598 0.16105915\n",
      " 0.15891131 0.12500434 0.14902395 0.20227859 0.09940776 0.11279497\n",
      " 0.11550245 0.16768456 0.0900887  0.10577554 0.26880698 0.08162646\n",
      " 0.12253709 0.13048987 0.22342421 0.22965273]\n",
      "5. (18370, 25954) --array-> [0.02411073 0.02376214 0.01856064 0.04009089 0.03051802 0.01364838\n",
      " 0.02741183 0.02108315 0.04371986 0.0221179  0.02359031 0.03777677\n",
      " 0.02585339 0.04167478 0.03931851 0.02480415 0.0332582  0.03555668\n",
      " 0.01334266 0.02648315 0.02280286 0.01977977 0.02071939 0.01976325\n",
      " 0.02856062 0.02878514 0.03871799 0.04900425 0.0178116  0.03010031\n",
      " 0.03622453 0.03368455 0.02987434 0.03158969 0.02155716 0.02507043\n",
      " 0.01645951 0.03663692 0.03474162 0.05243647 0.02778809 0.0349438\n",
      " 0.02133568 0.03286353 0.01907295 0.01572981 0.03114291 0.02908901\n",
      " 0.02013016 0.023037   0.03214155 0.01944681 0.01611753 0.01466828\n",
      " 0.02448346 0.01804909 0.03411634 0.02632554 0.02710238 0.04443467\n",
      " 0.02459581 0.01203866 0.01675725 0.0260205  0.01291734 0.01428509\n",
      " 0.02174421 0.02326891 0.02053964 0.02681929 0.02547695 0.02942515\n",
      " 0.02924049 0.07003821 0.01535101 0.02420058 0.0306702  0.02235946\n",
      " 0.02681017 0.04660624 0.02258662 0.01875172 0.01747467 0.03189923\n",
      " 0.01743744 0.03728645 0.04194303 0.0183045  0.0253105  0.02086151\n",
      " 0.02803174 0.01927557 0.01521599 0.028117   0.01705443 0.02187793\n",
      " 0.02341249 0.02038279 0.00984124 0.03261561]\n",
      "6. (9408, 25954) --array-> [0.12457255 0.11879654 0.13324505 0.18975468 0.11781263 0.14987065\n",
      " 0.13779882 0.15059617 0.1689354  0.21440163 0.14034375 0.22111014\n",
      " 0.12676642 0.31441721 0.12939384 0.21531427 0.10054018 0.15704969\n",
      " 0.17315242 0.17002764 0.1055804  0.18103541 0.11023489 0.15887061\n",
      " 0.11373462 0.10874511 0.09819395 0.16117948 0.17714341 0.18871164\n",
      " 0.20617225 0.12825572 0.13932093 0.3656947  0.09342234 0.05314455\n",
      " 0.12249888 0.14291013 0.1605079  0.06887305 0.18712527 0.10208897\n",
      " 0.08217563 0.22648469 0.16445146 0.18481959 0.2005984  0.24974571\n",
      " 0.17972735 0.22411231 0.25618405 0.13202275 0.08628804 0.14814919\n",
      " 0.15241431 0.19836972 0.12375828 0.19478735 0.08042647 0.15494288\n",
      " 0.14652786 0.275814   0.20969762 0.08747653 0.14530162 0.09087389\n",
      " 0.26351199 0.07750951 0.16640725 0.18339066 0.17243548 0.11162049\n",
      " 0.16294361 0.22979443 0.15544665 0.10402649 0.09495932 0.26961015\n",
      " 0.2373624  0.11502841 0.11329871 0.20550545 0.15345932 0.12531482\n",
      " 0.13057326 0.23926631 0.14197495 0.11659206 0.2907999  0.20287655\n",
      " 0.17486592 0.12020498 0.13375459 0.16740188 0.13567982 0.19354475\n",
      " 0.10655444 0.09750116 0.13658482 0.14474458]\n",
      "7. (18370, 25953) --array-> [0.0247267  0.04747159 0.04317576 0.02554106 0.0370619  0.02966389\n",
      " 0.03651676 0.01738333 0.02098167 0.02595374 0.02514414 0.03876799\n",
      " 0.01684031 0.02692126 0.02647427 0.01986204 0.02391474 0.02157483\n",
      " 0.01791583 0.02800813 0.04279808 0.04819134 0.01511381 0.0183726\n",
      " 0.0314441  0.02192109 0.02862523 0.02305974 0.01164035 0.02232096\n",
      " 0.04460626 0.03335367 0.02124445 0.03071146 0.01638649 0.02444841\n",
      " 0.01565137 0.02487192 0.04042245 0.02258737 0.03522839 0.02133289\n",
      " 0.0193876  0.02016775 0.01607305 0.03401638 0.02825156 0.01574438\n",
      " 0.03215343 0.01717418 0.03005544 0.02033904 0.01269792 0.03452797\n",
      " 0.03587532 0.02832265 0.03532462 0.02402957 0.01440621 0.02333289\n",
      " 0.01856273 0.02273949 0.02078635 0.0327506  0.02744829 0.05434502\n",
      " 0.0181671  0.03047818 0.01897253 0.02355031 0.02624773 0.02758187\n",
      " 0.02213273 0.01315904 0.03234746 0.02723741 0.0298612  0.02909651\n",
      " 0.01010766 0.02661436 0.01462814 0.0417177  0.02057275 0.0572852\n",
      " 0.02428526 0.02180417 0.01882549 0.0192701  0.0292951  0.01748499\n",
      " 0.02322436 0.02540455 0.01964328 0.03785878 0.01391994 0.03163911\n",
      " 0.033711   0.02574723 0.03110961 0.03918281]\n",
      "8. (9408, 25953) --array-> [0.13005705 0.09043454 0.20246172 0.17579427 0.15744206 0.13611345\n",
      " 0.17739609 0.22304186 0.21253764 0.11189652 0.13453314 0.17474774\n",
      " 0.17881063 0.09739121 0.10439333 0.13160659 0.10889965 0.17223999\n",
      " 0.14410185 0.32260991 0.1152667  0.11253087 0.23768877 0.08981013\n",
      " 0.13979492 0.12043982 0.10153443 0.19855493 0.10956526 0.25432929\n",
      " 0.12858047 0.11366528 0.11768284 0.13616555 0.100486   0.15821357\n",
      " 0.07613688 0.19704279 0.27540426 0.27696502 0.1067645  0.16357976\n",
      " 0.1483477  0.18324054 0.15168729 0.22794788 0.24256866 0.08648608\n",
      " 0.12667022 0.12232563 0.15305776 0.15027491 0.20873468 0.11869559\n",
      " 0.10536749 0.13304667 0.18062458 0.11718274 0.14591366 0.14693241\n",
      " 0.16812878 0.1288235  0.16887361 0.14943097 0.08152869 0.19455487\n",
      " 0.40857233 0.25794655 0.06985148 0.16574895 0.1899049  0.05834925\n",
      " 0.16522061 0.15557892 0.22064486 0.18400763 0.09800514 0.2054877\n",
      " 0.14058886 0.1866645  0.29303786 0.21076823 0.1427436  0.13800056\n",
      " 0.23061331 0.24761777 0.19340681 0.1253233  0.12392814 0.0837588\n",
      " 0.16074085 0.09207743 0.16157955 0.1236698  0.21753659 0.09589375\n",
      " 0.14152077 0.17090706 0.18841978 0.15426776]\n",
      "9. (18370, 25951) --array-> [0.02149037 0.02001059 0.02638212 0.03222675 0.02403512 0.02334564\n",
      " 0.01230001 0.01754841 0.02223516 0.02256879 0.01836392 0.01971758\n",
      " 0.03275169 0.02821324 0.01701891 0.01477    0.0362703  0.02291675\n",
      " 0.03997643 0.0344682  0.02425821 0.02545295 0.03144346 0.02708798\n",
      " 0.03493233 0.05272388 0.02509609 0.01864864 0.02040179 0.01071666\n",
      " 0.04416381 0.02735321 0.0354063  0.02072589 0.02110869 0.02851954\n",
      " 0.03405672 0.01672534 0.01415645 0.01869861 0.03035638 0.01776262\n",
      " 0.03746115 0.0158625  0.02245709 0.03376914 0.03347799 0.02876555\n",
      " 0.02186543 0.01937857 0.01920553 0.0248317  0.03667066 0.01995865\n",
      " 0.0190709  0.01168534 0.03822499 0.01406913 0.03266163 0.03010413\n",
      " 0.0296247  0.02796496 0.02593774 0.04450789 0.01733087 0.02577935\n",
      " 0.01818705 0.02454583 0.02622933 0.02685197 0.02374057 0.04256791\n",
      " 0.01653579 0.02132534 0.02205047 0.02778933 0.02530978 0.02897466\n",
      " 0.01511413 0.02357396 0.03183688 0.02663444 0.04708925 0.03072274\n",
      " 0.0311344  0.02043883 0.01619916 0.04985147 0.01338335 0.01553988\n",
      " 0.03964822 0.02460614 0.02972821 0.02310497 0.02091392 0.02915799\n",
      " 0.04172022 0.03859287 0.05680931 0.0228122 ]\n",
      "10. (9408, 25951) --array-> [0.61995864 1.24515153 0.65125148 0.49323871 0.38235843 0.62980056\n",
      " 0.52797482 0.75830231 0.96291548 0.78717887 0.54502661 0.47110893\n",
      " 0.27121884 0.64191305 0.45228563 0.9817319  0.48864225 0.50745606\n",
      " 0.82325238 0.8921365  0.61007664 1.06899935 0.74269458 0.69580687\n",
      " 0.44027682 0.34960821 0.51373033 0.73880116 0.36367058 1.12540716\n",
      " 0.67499844 1.45094071 0.60295702 0.32612389 0.52171426 0.7821283\n",
      " 0.80205713 0.84946347 0.92568296 0.42537953 0.83543825 0.39620585\n",
      " 0.56044201 0.7983372  0.87106197 0.71032235 0.62128091 0.80825664\n",
      " 0.56276343 0.89802262 0.8599394  0.72061533 1.17968538 0.63462013\n",
      " 1.3286945  0.58964299 1.14649921 0.72498401 0.69429608 0.54370565\n",
      " 0.754258   0.52750401 0.59433298 0.83177115 0.70363591 0.72967918\n",
      " 0.48434879 0.55096804 1.07698479 1.03812213 0.3114666  0.43527355\n",
      " 0.68882984 0.76610602 0.77315891 0.65439317 0.57850568 0.647769\n",
      " 0.94307815 0.6674047  0.57119742 0.95372965 0.47716798 0.60785727\n",
      " 0.91762099 0.87499598 1.91226801 0.38586976 0.41697753 0.53505312\n",
      " 0.5740088  0.66411538 0.68186874 1.02116749 0.46228672 0.58731857\n",
      " 0.50030829 0.45365003 0.99920857 0.40861595]\n",
      "11. (18370, 25956) --array-> [0.17109474 0.18758626 0.15898708 0.12203036 0.33292885 0.25141288\n",
      " 0.19266632 0.10689754 0.25776257 0.25580652 0.16243263 0.12412111\n",
      " 0.19043657 0.17008289 0.08490899 0.16053234 0.1388841  0.15356702\n",
      " 0.31483148 0.15099156 0.21170319 0.10043123 0.19973344 0.13405765\n",
      " 0.24917399 0.18251425 0.14397768 0.23730727 0.1682863  0.22286568\n",
      " 0.20241004 0.12562004 0.09445822 0.18092457 0.22821806 0.17494369\n",
      " 0.10408016 0.12150195 0.09785037 0.17365931 0.27465087 0.34613347\n",
      " 0.28315735 0.13207035 0.29565935 0.16651766 0.17756929 0.2147292\n",
      " 0.18595916 0.14209027 0.12734142 0.24619537 0.16605206 0.17688664\n",
      " 0.13738661 0.23088351 0.2908989  0.14056239 0.24019047 0.19476516\n",
      " 0.14596846 0.11883482 0.23641287 0.11252514 0.18914217 0.1556947\n",
      " 0.3052487  0.14750254 0.11674062 0.14906977 0.1636759  0.12982173\n",
      " 0.27769625 0.11383646 0.14851757 0.20867854 0.1951167  0.21771838\n",
      " 0.41714433 0.37782721 0.16171428 0.26885074 0.13214381 0.04912555\n",
      " 0.22539087 0.18419534 0.08940516 0.15312531 0.18008951 0.23179321\n",
      " 0.21905683 0.21342374 0.26374005 0.20428015 0.15645973 0.13588451\n",
      " 0.1102514  0.19816918 0.20148723 0.20660258]\n",
      "12. (16115, 25963) --array-> [0.0304692  0.04136763 0.06692088 0.03669909 0.03289832 0.01895016\n",
      " 0.03819925 0.0347934  0.03251194 0.02486182 0.02175331 0.02155297\n",
      " 0.03867491 0.03346619 0.01957599 0.03586176 0.02215714 0.01813116\n",
      " 0.05145041 0.03517719 0.02443067 0.02290239 0.05739848 0.03563299\n",
      " 0.02394056 0.03014726 0.04213393 0.01656301 0.02693792 0.03915923\n",
      " 0.0473039  0.01583944 0.0308404  0.03181902 0.04653057 0.02690819\n",
      " 0.03153969 0.04179442 0.02602148 0.04412796 0.02385702 0.02572482\n",
      " 0.05261604 0.02840646 0.04387572 0.03739042 0.0503749  0.03462777\n",
      " 0.03920664 0.04067631 0.05969032 0.02455295 0.04797697 0.07316815\n",
      " 0.02815131 0.02117233 0.02331752 0.02791368 0.08066201 0.03446558\n",
      " 0.04005995 0.01808905 0.02991429 0.05000632 0.04870534 0.05682156\n",
      " 0.02877152 0.01264957 0.03202815 0.03236989 0.03784012 0.02078481\n",
      " 0.03385093 0.02966824 0.05552452 0.02645165 0.04267006 0.03407642\n",
      " 0.05342681 0.03712323 0.03663631 0.02723357 0.02610776 0.03977151\n",
      " 0.02278697 0.03104443 0.04606262 0.03071956 0.02926408 0.03329491\n",
      " 0.02755615 0.03612676 0.02023327 0.04091666 0.02533458 0.06134694\n",
      " 0.02912701 0.0433239  0.04572205 0.04515792]\n",
      "13. (8986, 25963) --array-> [0.00744282 0.00675862 0.01455954 0.00777852 0.00956379 0.00570622\n",
      " 0.01068858 0.00795488 0.01438986 0.00896215 0.01222522 0.00810604\n",
      " 0.0107939  0.01769968 0.01950253 0.01507465 0.01710818 0.01155775\n",
      " 0.01346845 0.01144144 0.00716737 0.01817968 0.02999382 0.00630963\n",
      " 0.00930288 0.01203268 0.01005618 0.01500814 0.01539859 0.01648613\n",
      " 0.01181692 0.01272012 0.00697268 0.01471287 0.01121807 0.01748471\n",
      " 0.01023861 0.01092321 0.00765831 0.00908202 0.01164198 0.00886046\n",
      " 0.00966582 0.01026224 0.00732146 0.01110501 0.01043162 0.01425223\n",
      " 0.01611893 0.01200677 0.00949579 0.00822656 0.02249381 0.00532277\n",
      " 0.005847   0.01344491 0.00934911 0.01262994 0.01322863 0.00848388\n",
      " 0.02062791 0.01129846 0.01557116 0.00986035 0.0131097  0.00801245\n",
      " 0.00695013 0.01289645 0.01108827 0.01575688 0.016898   0.00993948\n",
      " 0.01008297 0.00851091 0.01901996 0.01969678 0.01407978 0.01089368\n",
      " 0.01175268 0.00919573 0.00756868 0.02291747 0.00837264 0.01059164\n",
      " 0.00874221 0.0090045  0.01229123 0.01371029 0.00657219 0.01616249\n",
      " 0.01049695 0.00469894 0.01244122 0.01300238 0.01246545 0.00979518\n",
      " 0.00861971 0.01391532 0.00622594 0.01386066]\n",
      "14. (18987, 25964) --array-> [0.01105062 0.01219423 0.01207215 0.01132679 0.01190063 0.01170814\n",
      " 0.01129886 0.01116122 0.01127558 0.01102831 0.01110878 0.0115063\n",
      " 0.01157559 0.01120585 0.01164666 0.01081809 0.01133617 0.01118625\n",
      " 0.01172976 0.01187433 0.0116707  0.0109449  0.01126311 0.01071699\n",
      " 0.01041295 0.01150134 0.01176921 0.01143535 0.01135197 0.01119349\n",
      " 0.01160461 0.01201921 0.01105817 0.01176601 0.0107387  0.01096133\n",
      " 0.01209073 0.01114379 0.01188214 0.01169391 0.01097046 0.01124023\n",
      " 0.01191583 0.01145664 0.01078964 0.01193419 0.01174761 0.01112273\n",
      " 0.01167464 0.01134759 0.01144807 0.01062431 0.01251944 0.01148434\n",
      " 0.01138991 0.01159079 0.01129378 0.01202987 0.01137856 0.01163617\n",
      " 0.01172077 0.01148122 0.01091629 0.01102271 0.01099966 0.01214963\n",
      " 0.01183419 0.01089798 0.01161641 0.01059419 0.01122584 0.01142586\n",
      " 0.01136361 0.01108416 0.01154376 0.01140212 0.01182408 0.01121588\n",
      " 0.01227325 0.0121275  0.01197586 0.01151524 0.01180284 0.01146313\n",
      " 0.01084808 0.01166191 0.01115834 0.01179333 0.01184749 0.01229913\n",
      " 0.01155948 0.01131279 0.0115327  0.01140731 0.01197498 0.01160102\n",
      " 0.01126101 0.01246304 0.01155448 0.01109718]\n"
     ]
    }
   ],
   "source": [
    "counter = 0\n",
    "for k, v in coords_samples_map.items():\n",
    "    counter +=1\n",
    "    print(f\"{counter}. {k} --array-> {v}\")"
   ]
  },
  {
   "cell_type": "markdown",
   "id": "3e6982b2-f9c8-4054-b0d7-32ea66a0fd29",
   "metadata": {},
   "source": [
    "## Regular LCA from activity + method"
   ]
  },
  {
   "cell_type": "code",
   "execution_count": 69,
   "id": "74ebb4d8-9546-45c1-ab34-0bc22974d208",
   "metadata": {},
   "outputs": [],
   "source": [
    "pavement_structure = fgdb.get(\"pavement_structure\")"
   ]
  },
  {
   "cell_type": "code",
   "execution_count": 70,
   "id": "fe35eb83-cde2-49b2-a82a-dedb944da69d",
   "metadata": {},
   "outputs": [],
   "source": [
    "cml_method_gwp = (\n",
    "    \"CML v4.8 2016\",\n",
    "    \"climate change\",\n",
    "    \"global warming potential (GWP100)\",\n",
    ")"
   ]
  },
  {
   "cell_type": "code",
   "execution_count": 71,
   "id": "ddbe4c7f-8b7d-4433-a3db-13a5a010c74e",
   "metadata": {},
   "outputs": [],
   "source": [
    "a_lca = bc.LCA({pavement_structure: 1}, cml_method_gwp)"
   ]
  },
  {
   "cell_type": "code",
   "execution_count": 72,
   "id": "c9b1db0c-6f99-40f8-ba69-0cda0f9b15aa",
   "metadata": {},
   "outputs": [
    {
     "name": "stderr",
     "output_type": "stream",
     "text": [
      "/Users/andreavargasf/anaconda3/envs/STI_environment/lib/python3.11/site-packages/scikits/umfpack/umfpack.py:736: UmfpackWarning: (almost) singular matrix! (estimated cond. number: 3.58e+13)\n",
      "  warnings.warn(msg, UmfpackWarning)\n"
     ]
    },
    {
     "data": {
      "text/plain": [
       "1344776.4563756627"
      ]
     },
     "execution_count": 72,
     "metadata": {},
     "output_type": "execute_result"
    }
   ],
   "source": [
    "a_lca.lci()\n",
    "a_lca.lcia()\n",
    "a_lca.score"
   ]
  },
  {
   "cell_type": "markdown",
   "id": "970a95a2-b916-4243-96d6-6ac0797340a7",
   "metadata": {},
   "source": [
    "## LCA using datapackages"
   ]
  },
  {
   "cell_type": "code",
   "execution_count": 73,
   "id": "1b2f44f1-dc86-4501-9d0e-7cc1c5d2699a",
   "metadata": {},
   "outputs": [],
   "source": [
    "indexed_demand, data_objs, remapping_dicts = bd.prepare_lca_inputs(\n",
    "    {pavement_structure: 1}, cml_method_gwp\n",
    ")"
   ]
  },
  {
   "cell_type": "code",
   "execution_count": 74,
   "id": "372ae05d-97a5-4f22-b886-b0ccd9c315f2",
   "metadata": {},
   "outputs": [
    {
     "data": {
      "text/plain": [
       "{25974: 1}"
      ]
     },
     "execution_count": 74,
     "metadata": {},
     "output_type": "execute_result"
    }
   ],
   "source": [
    "indexed_demand"
   ]
  },
  {
   "cell_type": "code",
   "execution_count": 75,
   "id": "99725256-80f6-482b-a77d-a8f5a3b72473",
   "metadata": {},
   "outputs": [
    {
     "data": {
      "text/plain": [
       "[<bw_processing.datapackage.Datapackage at 0x166d748d0>,\n",
       " <bw_processing.datapackage.Datapackage at 0x168f07e10>,\n",
       " <bw_processing.datapackage.Datapackage at 0x168efc250>,\n",
       " <bw_processing.datapackage.Datapackage at 0x16b328710>]"
      ]
     },
     "execution_count": 75,
     "metadata": {},
     "output_type": "execute_result"
    }
   ],
   "source": [
    "data_objs"
   ]
  },
  {
   "cell_type": "code",
   "execution_count": 76,
   "id": "4edb522c-9f6b-4ecf-aefd-603e73a6873a",
   "metadata": {
    "scrolled": true
   },
   "outputs": [],
   "source": [
    "dp_correlated = bwp.create_datapackage(sequential=True)"
   ]
  },
  {
   "cell_type": "code",
   "execution_count": 77,
   "id": "a52eb526-bc70-494b-a3bd-a409b54f0e5f",
   "metadata": {},
   "outputs": [
    {
     "name": "stdout",
     "output_type": "stream",
     "text": [
      "[(18370, 25950),\n",
      " (18370, 25952),\n",
      " (9408, 25952),\n",
      " (18370, 25955),\n",
      " (18370, 25954),\n",
      " (9408, 25954),\n",
      " (18370, 25953),\n",
      " (9408, 25953),\n",
      " (18370, 25951),\n",
      " (9408, 25951),\n",
      " (18370, 25956),\n",
      " (16115, 25963),\n",
      " (8986, 25963),\n",
      " (18987, 25964)]\n"
     ]
    }
   ],
   "source": [
    "samples_indices = [coord for coord in coords_samples_map.keys()]\n",
    "pprint(samples_indices)"
   ]
  },
  {
   "cell_type": "code",
   "execution_count": 78,
   "id": "797a5fbf-c237-497a-a97b-09b85c1e4223",
   "metadata": {},
   "outputs": [
    {
     "name": "stdout",
     "output_type": "stream",
     "text": [
      "array([[0.25203329, 0.28632278, 0.24884142, ..., 0.32689215, 0.17924361,\n",
      "        0.33642836],\n",
      "       [0.03999689, 0.03938452, 0.02188896, ..., 0.05235283, 0.04788122,\n",
      "        0.01750107],\n",
      "       [0.30050293, 0.80634611, 0.57677507, ..., 0.62654783, 0.92801419,\n",
      "        0.88578305],\n",
      "       ...,\n",
      "       [0.0304692 , 0.04136763, 0.06692088, ..., 0.0433239 , 0.04572205,\n",
      "        0.04515792],\n",
      "       [0.00744282, 0.00675862, 0.01455954, ..., 0.01391532, 0.00622594,\n",
      "        0.01386066],\n",
      "       [0.01105062, 0.01219423, 0.01207215, ..., 0.01246304, 0.01155448,\n",
      "        0.01109718]])\n"
     ]
    }
   ],
   "source": [
    "# Prepare the data_array, it must be an array of arrays\n",
    "samples_values = np.array([coords_samples_map[coord] for coord in samples_indices])\n",
    "pprint(samples_values)"
   ]
  },
  {
   "cell_type": "code",
   "execution_count": 79,
   "id": "3dbdbb86-320c-41f8-abc7-92ee390f607f",
   "metadata": {},
   "outputs": [],
   "source": [
    "dp_correlated.add_persistent_array(\n",
    "    matrix=\"technosphere_matrix\",\n",
    "    indices_array=np.array(samples_indices, dtype=bwp.INDICES_DTYPE),\n",
    "    data_array=samples_values,\n",
    "    # We flip the signs of the samples\n",
    "    # to obey bw's convention\n",
    "    flip_array=np.array([True for _ in range(len(samples_values))]),\n",
    ")"
   ]
  },
  {
   "cell_type": "markdown",
   "id": "4e09be8c-b020-458d-9cb1-6b6ab3618754",
   "metadata": {},
   "source": [
    "## Build the new data objects to re-do the LCA"
   ]
  },
  {
   "cell_type": "code",
   "execution_count": 80,
   "id": "d8d26b79-059b-4811-80d2-de2a03071e45",
   "metadata": {},
   "outputs": [],
   "source": [
    "data_objs.append(dp_correlated)"
   ]
  },
  {
   "cell_type": "code",
   "execution_count": 81,
   "id": "5a694ac3-1d4d-4dc2-8405-a993795c28e6",
   "metadata": {},
   "outputs": [
    {
     "data": {
      "text/plain": [
       "1306831.6447644534"
      ]
     },
     "execution_count": 81,
     "metadata": {},
     "output_type": "execute_result"
    }
   ],
   "source": [
    "dp_lca = bc.LCA(demand=indexed_demand, data_objs=data_objs, use_arrays=True)\n",
    "dp_lca.lci()\n",
    "dp_lca.lcia()\n",
    "dp_lca.score"
   ]
  },
  {
   "cell_type": "code",
   "execution_count": 82,
   "id": "81c516c1-b30c-4183-a5df-cf747e2bd0c1",
   "metadata": {},
   "outputs": [
    {
     "data": {
      "application/vnd.jupyter.widget-view+json": {
       "model_id": "7d7e092356b54c3b9c4a94ba08331688",
       "version_major": 2,
       "version_minor": 0
      },
      "text/plain": [
       "  0%|          | 0/100 [00:00<?, ?it/s]"
      ]
     },
     "metadata": {},
     "output_type": "display_data"
    }
   ],
   "source": [
    "scores = []\n",
    "for _ in autonotebook.tqdm(range(100)):\n",
    "    next(dp_lca)\n",
    "    scores.append(dp_lca.score)"
   ]
  },
  {
   "cell_type": "code",
   "execution_count": 83,
   "id": "b290514b-1528-4980-9970-c0d224cb655e",
   "metadata": {},
   "outputs": [
    {
     "data": {
      "text/plain": [
       "1366812.3179875815"
      ]
     },
     "execution_count": 83,
     "metadata": {},
     "output_type": "execute_result"
    }
   ],
   "source": [
    "scores_a = np.array(scores)\n",
    "scores_a.mean()"
   ]
  },
  {
   "cell_type": "code",
   "execution_count": 84,
   "id": "68c17c76-383a-45f2-b210-02332ca82a43",
   "metadata": {},
   "outputs": [
    {
     "name": "stdout",
     "output_type": "stream",
     "text": [
      "0     1.501353e+06\n",
      "1     1.405665e+06\n",
      "2     1.317941e+06\n",
      "3     1.270298e+06\n",
      "4     1.288826e+06\n",
      "          ...     \n",
      "95    1.316496e+06\n",
      "96    1.324120e+06\n",
      "97    1.467581e+06\n",
      "98    1.321793e+06\n",
      "99    1.306832e+06\n",
      "Length: 100, dtype: float64\n"
     ]
    }
   ],
   "source": [
    "scores_a_s = pd.Series(scores_a)\n",
    "print(scores_a_s)"
   ]
  },
  {
   "cell_type": "markdown",
   "id": "c87eff97-34b5-485d-8839-7c84de59329c",
   "metadata": {},
   "source": [
    "## Graph results"
   ]
  },
  {
   "cell_type": "code",
   "execution_count": 94,
   "id": "7e892bd9-91cf-4fc3-917a-f7dbdd145bad",
   "metadata": {},
   "outputs": [
    {
     "name": "stderr",
     "output_type": "stream",
     "text": [
      "/var/folders/3t/9brqw33j6sl67t5_crw95f6h0000gn/T/ipykernel_65479/4067838399.py:11: FutureWarning: \n",
      "\n",
      "The `scale` parameter has been renamed and will be removed in v0.15.0. Pass `density_norm='width'` for the same effect.\n",
      "  sns.violinplot(data=df, x='GWP', inner=None, cut=0, bw=0.2, scale='width', orient='h', split=True)\n",
      "/var/folders/3t/9brqw33j6sl67t5_crw95f6h0000gn/T/ipykernel_65479/4067838399.py:11: FutureWarning: \n",
      "\n",
      "The `bw` parameter is deprecated in favor of `bw_method`/`bw_adjust`.\n",
      "Setting `bw_method=0.2`, but please see docs for the new parameters\n",
      "and update your code. This will become an error in seaborn v0.15.0.\n",
      "\n",
      "  sns.violinplot(data=df, x='GWP', inner=None, cut=0, bw=0.2, scale='width', orient='h', split=True)\n"
     ]
    },
    {
     "data": {
      "image/png": "[encoded data removed]",
      "text/plain": [
       "<Figure size 1000x600 with 1 Axes>"
      ]
     },
     "metadata": {},
     "output_type": "display_data"
    }
   ],
   "source": [
    "# Sample data as given in the series\n",
    "data = scores_a_s\n",
    "\n",
    "# Create a DataFrame from the series\n",
    "df = pd.DataFrame(data, columns=['GWP'])\n",
    "\n",
    "# Set the figure size\n",
    "plt.figure(figsize=(10, 6))\n",
    "\n",
    "# Create the half violin plot (right side)\n",
    "sns.violinplot(data=df, x='GWP', inner=None, cut=0, bw=0.2, scale='width', orient='h', split=True)\n",
    "\n",
    "# Set the title and labels\n",
    "plt.title(\"Global warming potential (GWP-100)\")\n",
    "plt.xlabel(\"kg CO₂ eq.\")  # CO₂ with subscript '2'\n",
    "\n",
    "# Show the plot\n",
    "plt.show()"
   ]
  },
  {
   "cell_type": "markdown",
   "id": "5bd3696f-23d7-49c6-bc35-acacaba8fba0",
   "metadata": {},
   "source": [
    "## Sensitivity analysis"
   ]
  },
  {
   "cell_type": "code",
   "execution_count": 108,
   "id": "d0004124-52d1-476b-aa57-dacbbfef355b",
   "metadata": {},
   "outputs": [],
   "source": [
    "x = samples.to_numpy()\n",
    "y = scores_a_s.to_numpy()\n",
    "\n",
    "#ExtraTrees parameters from Jaza-Roxen and Kwakkel (2018)\n",
    "t = 100\n",
    "m = round(len(x[0])/3)\n",
    "N = 100\n",
    "nmin = 5\n",
    "nleaf = math.sqrt(N) / math.sqrt(1000)\n",
    "\n",
    "#ExtraTrees regressor function\n",
    "regr = ExtraTreesRegressor(n_estimators=t, max_features=m, min_samples_split=nmin,\n",
    "                           min_samples_leaf=nleaf)\n",
    "regr = regr.fit(x,y)"
   ]
  },
  {
   "cell_type": "code",
   "execution_count": 116,
   "id": "957ead68-b711-46f2-87b5-38536faba3e8",
   "metadata": {},
   "outputs": [
    {
     "data": {
      "text/html": [
       "<div>\n",
       "<style scoped>\n",
       "    .dataframe tbody tr th:only-of-type {\n",
       "        vertical-align: middle;\n",
       "    }\n",
       "\n",
       "    .dataframe tbody tr th {\n",
       "        vertical-align: top;\n",
       "    }\n",
       "\n",
       "    .dataframe thead th {\n",
       "        text-align: right;\n",
       "    }\n",
       "</style>\n",
       "<table border=\"1\" class=\"dataframe\">\n",
       "  <thead>\n",
       "    <tr style=\"text-align: right;\">\n",
       "      <th></th>\n",
       "      <th>MDI</th>\n",
       "      <th>MDI_norm</th>\n",
       "    </tr>\n",
       "  </thead>\n",
       "  <tbody>\n",
       "    <tr>\n",
       "      <th>A2_bitumen_t</th>\n",
       "      <td>0.106142</td>\n",
       "      <td>0.990658</td>\n",
       "    </tr>\n",
       "    <tr>\n",
       "      <th>A2_crushedsand_t</th>\n",
       "      <td>0.017857</td>\n",
       "      <td>0.166667</td>\n",
       "    </tr>\n",
       "    <tr>\n",
       "      <th>A2_crushedsand_iv</th>\n",
       "      <td>0.089286</td>\n",
       "      <td>0.833333</td>\n",
       "    </tr>\n",
       "    <tr>\n",
       "      <th>A2_weakfiller_t</th>\n",
       "      <td>0.089286</td>\n",
       "      <td>0.833333</td>\n",
       "    </tr>\n",
       "    <tr>\n",
       "      <th>A2_naturalsand_t</th>\n",
       "      <td>0.089286</td>\n",
       "      <td>0.833333</td>\n",
       "    </tr>\n",
       "    <tr>\n",
       "      <th>A2_naturalsand_iv</th>\n",
       "      <td>0.089286</td>\n",
       "      <td>0.833333</td>\n",
       "    </tr>\n",
       "    <tr>\n",
       "      <th>A2_ownmaterial_t</th>\n",
       "      <td>0.035714</td>\n",
       "      <td>0.333333</td>\n",
       "    </tr>\n",
       "    <tr>\n",
       "      <th>A2_ownmaterial_iv</th>\n",
       "      <td>0.089286</td>\n",
       "      <td>0.833333</td>\n",
       "    </tr>\n",
       "    <tr>\n",
       "      <th>A2_crushedstone_t</th>\n",
       "      <td>0.107143</td>\n",
       "      <td>1.000000</td>\n",
       "    </tr>\n",
       "    <tr>\n",
       "      <th>A2_crushedstone_iv</th>\n",
       "      <td>0.035714</td>\n",
       "      <td>0.333333</td>\n",
       "    </tr>\n",
       "    <tr>\n",
       "      <th>A2_dripresistantmaterial_t</th>\n",
       "      <td>0.041080</td>\n",
       "      <td>0.383410</td>\n",
       "    </tr>\n",
       "    <tr>\n",
       "      <th>A4_distance_EURO5</th>\n",
       "      <td>0.089286</td>\n",
       "      <td>0.833333</td>\n",
       "    </tr>\n",
       "    <tr>\n",
       "      <th>A4_distance_EURO6</th>\n",
       "      <td>0.035714</td>\n",
       "      <td>0.333333</td>\n",
       "    </tr>\n",
       "    <tr>\n",
       "      <th>A5_construction</th>\n",
       "      <td>0.084921</td>\n",
       "      <td>0.792599</td>\n",
       "    </tr>\n",
       "  </tbody>\n",
       "</table>\n",
       "</div>"
      ],
      "text/plain": [
       "                                 MDI  MDI_norm\n",
       "A2_bitumen_t                0.106142  0.990658\n",
       "A2_crushedsand_t            0.017857  0.166667\n",
       "A2_crushedsand_iv           0.089286  0.833333\n",
       "A2_weakfiller_t             0.089286  0.833333\n",
       "A2_naturalsand_t            0.089286  0.833333\n",
       "A2_naturalsand_iv           0.089286  0.833333\n",
       "A2_ownmaterial_t            0.035714  0.333333\n",
       "A2_ownmaterial_iv           0.089286  0.833333\n",
       "A2_crushedstone_t           0.107143  1.000000\n",
       "A2_crushedstone_iv          0.035714  0.333333\n",
       "A2_dripresistantmaterial_t  0.041080  0.383410\n",
       "A4_distance_EURO5           0.089286  0.833333\n",
       "A4_distance_EURO6           0.035714  0.333333\n",
       "A5_construction             0.084921  0.792599"
      ]
     },
     "execution_count": 116,
     "metadata": {},
     "output_type": "execute_result"
    }
   ],
   "source": [
    "mdi = regr.feature_importances_\n",
    "mdi = pd.DataFrame(mdi, columns=[\"MDI\"])\n",
    "mdi.index = samples.columns\n",
    "mdi[\"MDI_norm\"] = mdi[\"MDI\"]/np.max(mdi[\"MDI\"])\n",
    "mdi"
   ]
  },
  {
   "cell_type": "code",
   "execution_count": null,
   "id": "f8da50c4-c80b-4a74-9bed-3ae3258b363a",
   "metadata": {},
   "outputs": [],
   "source": []
  }
 ],
 "metadata": {
  "kernelspec": {
   "display_name": "Python 3 (ipykernel)",
   "language": "python",
   "name": "python3"
  },
  "language_info": {
   "codemirror_mode": {
    "name": "ipython",
    "version": 3
   },
   "file_extension": ".py",
   "mimetype": "text/x-python",
   "name": "python",
   "nbconvert_exporter": "python",
   "pygments_lexer": "ipython3",
   "version": "3.11.9"
  }
 },
 "nbformat": 4,
 "nbformat_minor": 5
}
