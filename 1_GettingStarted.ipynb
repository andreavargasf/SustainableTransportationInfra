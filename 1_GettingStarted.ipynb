{
 "cells": [
  {
   "cell_type": "markdown",
   "id": "e685c32f-31db-4e9b-97d0-5b3904a47c91",
   "metadata": {
    "tags": []
   },
   "source": [
    "# Getting Started\n",
    "\n",
    "This is the first notebook of a series of 5 (see below the names of full list) intended to teach you the functionalities of the pyhton-based LCA software Brightway 2.5 (BW25) that you will use to carry out your group assignment. For a more nuanced undertsanding of the principles and working mechanisms of BW25 you are referred to [its documentation](https://docs.brightway.dev/en/latest/index.html).\n",
    "\n",
    "**Full list of notebooks of the series:**\n",
    "- 1.Getting started\n",
    "- 2a.Background\n",
    "- 2b.Foreground\n",
    "- 3.StaticLCA\n",
    "- 4.StochasticLCA\n",
    "\n",
    "\n",
    "## Pre-requesites:\n",
    "\n",
    "- Having read the tutorial _Computational Settings and Guidelines_ that you can find on Canvas -> [Module 'General documents & Information'](https://canvas.utwente.nl/courses/15132/modules#:~:text=General%20documents%20%26%20information-,General,-documents%20%26%20information)\n",
    "- Having installed Brightway25 and all relevant packages (make sure to do so in the correct virtual environment) and eventually having had a first contact with its [documentation](https://docs.brightway.dev/en/latest/index.html).\n",
    "- Knowledge of the foundations of life cycle assessment (LCA). If you did not attended the _Lecture 3- Pavement Life cycle assessment (LCA)_ or need a refresher, please have a look at its slides that you can find on Canvas.\n",
    "- Familiarity with the Python programming language and the Jupyter Lab environment. However, this is **not** a hard requirement since most methods are quite intuitive and will be explained throughput the tutorial. Nevertheless, In case you are a total beginner, or need a refresher, please read tutorial _Computational Settings and Guidelines_ that you can find on Canvas -> [Module 'General documents & Information'](https://canvas.utwente.nl/courses/15132/modules#:~:text=General%20documents%20%26%20information-,General,-documents%20%26%20information)\n",
    "\n",
    "\n",
    "## Learning Objectives of this notebbok:\n",
    "- Learn about the general structure of BW25 and its most importand abstractions: projects\n",
    "\n",
    "## Content\n",
    "\n",
    "[1.1) Jupyter lab and accessing Brightway 2.5](#jupyterlab_access)\n",
    "\n",
    "[1.2) Projects](#projects)"
   ]
  },
  {
   "cell_type": "code",
   "execution_count": null,
   "id": "c9e15e39-dc20-4a2b-8cb1-a22e4f734588",
   "metadata": {},
   "outputs": [],
   "source": []
  },
  {
   "cell_type": "markdown",
   "id": "dc021ec5-b23a-4356-b1aa-7b26c59674d8",
   "metadata": {},
   "source": [
    "## 1.1) Jupyter lab and accessing Brightway 2.5 <a name=\"jupyterlab_access\"></a>\n",
    "\n",
    "In this course we will use Jupyter Lab to access the different BW25 modules. For instalation instructions and to know more about the Jupyter Lab ecosystem, please refer to the the tutorial _Computational Settings and Guidelines_ that you can find on Canvas -> [Module 'General documents & Information'](https://canvas.utwente.nl/courses/15132/modules#:~:text=General%20documents%20%26%20information-,General,-documents%20%26%20information).\n",
    "\n",
    "The different modules in BW2.5 are Python libraries. This means that you can use them in any environment from which you normally use Python (command prompt, Spyder, Visual Studio Code, PyCharm or, as is the case of this course, Jupyter Lab). We will favour Jupyter Lab in this course because it allows us to integrate code and text. It will also allow us to provide code snippets for you to complete.\n",
    "\n",
    "Last but not least important, this notebook, and the others used to learn Brightway, are meant to run with a specific conda (and python) environment. Make sure you have started Jupyter Lab from the conda environment where the BW2.5 packages are installed. \n",
    "\n",
    "\n",
    "### Accessing Brightway libraries\n",
    "\n",
    "Like all other Python packages, you need to import BW2.5 packages. We will import them using prefixes. This means that to access a method or function from the BW2.5 packages, the respective prefix must be added. In addition to the BW2.5 packages, we also need to use the python packages commonly used in engineering applications. \n",
    "\n",
    "<span style='background:orange'> https://github.com/romainsacchi/internal-PSI-training-2024/blob/main/tutorials/brightway/notebooks%20with%20solutions/1%20-%20BW%20structure%20and%20first%20LCAs.ipynb </span>\n"
   ]
  },
  {
   "cell_type": "code",
   "execution_count": 1,
   "id": "618b5162-c599-4a68-8c6b-0f162a8a1f8c",
   "metadata": {},
   "outputs": [],
   "source": [
    "# Import \"traditional\" Python packages that will be needed along with those specific to Brightway2.5 (BW25)\n",
    "import os\n",
    "import matplotlib.pyplot as plt\n",
    "import numpy as np\n",
    "import pandas as pd\n",
    "\n",
    "# Import BW25 packages. You need those to use BW25\n",
    "import bw2data as bd\n",
    "import bw2io as bi\n",
    "import bw2calc as bc\n",
    "import bw2analyzer as bwa"
   ]
  },
  {
   "cell_type": "markdown",
   "id": "67ce0331-a3b5-4446-a93b-91a7267a940b",
   "metadata": {},
   "source": [
    "A part from the BW2.5 modules and Python packages presented above, certain types of analysis might require additional BW2.5 modules and/or Python packages. Those will be introduced whenever needed."
   ]
  },
  {
   "cell_type": "markdown",
   "id": "590afbea-d91f-4a4a-aa49-ff31564efafd",
   "metadata": {},
   "source": [
    "## 1.2) Projects <a name=\"projects\"></a>\n",
    "\n",
    "Data in BW25 is organized in hierarchycally. At the top-level we have projects. They contain LCI databases, LCIA methods and other less often used objects (e.g., normalization and weighting factors, as well as project-specific code). Each project is completely independent of other projects. Therefore, objects from one project do not interact with objects within other projects.\n",
    "\n",
    "See: https://docs.brightway.dev/en/latest/content/theory/structure.html \n",
    "\n",
    "When you first launch BW2.5, you will be in the `default` project. You can check this using the `current` property of the projects object:"
   ]
  },
  {
   "cell_type": "code",
   "execution_count": 8,
   "id": "08433209-7a17-4df0-943d-7dbad004de74",
   "metadata": {},
   "outputs": [
    {
     "data": {
      "text/plain": [
       "'20240831_Test'"
      ]
     },
     "execution_count": 8,
     "metadata": {},
     "output_type": "execute_result"
    }
   ],
   "source": [
    "bd.projects.current"
   ]
  },
  {
   "cell_type": "markdown",
   "id": "80f1efee-a6db-4187-aa85-40ceabf96606",
   "metadata": {},
   "source": [
    "### Creating a new project, or switching to an existing project\n",
    "\n",
    "Let's create a new project for this lecture, called `2024_STI_BW25_Lecture`. There are two ways of doing this:\n",
    "\n",
    "- In the first option we start by assigning to the variable `project_name` the name of the project we want to create: project_name = `2024_STI_BW25_Lecture`. This variable is then used as argument of the function `\n",
    "bd.projects.create_project(project_name)` that will create the project. However, you will remain in your current project.\n",
    "- In the second option, `bd.projects.set_current(project_name)` will switch to the project passed as argument, and create it first if it doesn't exist yet."
   ]
  },
  {
   "cell_type": "code",
   "execution_count": 9,
   "id": "5a396e3a-d7f8-4cc3-b899-3adb8015c8dd",
   "metadata": {},
   "outputs": [],
   "source": [
    "# Let's select the second option\n",
    "project_name = \"2024_STI_BW25_Lecture\" # variable (string) that stores the name of the project we want to create\n",
    "bd.projects.set_current(project_name)"
   ]
  },
  {
   "cell_type": "markdown",
   "id": "30046a40-86f7-45bb-ab30-95f9e5e04751",
   "metadata": {},
   "source": [
    "Let's see if the project was created"
   ]
  },
  {
   "cell_type": "code",
   "execution_count": 10,
   "id": "a9fd6c43-5530-46f0-b54a-0de08adf94ff",
   "metadata": {},
   "outputs": [
    {
     "data": {
      "text/plain": [
       "Brightway2 projects manager with 6 objects:\n",
       "\t20240831_Test\n",
       "\t2024_STI_BW25_Lecture\n",
       "\tTest_location_specifc_folder\n",
       "\tbw25_20240406\n",
       "\tbw25_test\n",
       "\tdefault\n",
       "Use `projects.report()` to get a report on all projects."
      ]
     },
     "execution_count": 10,
     "metadata": {},
     "output_type": "execute_result"
    }
   ],
   "source": [
    "bd.projects #this allows you to see all projects you have on your computer"
   ]
  },
  {
   "cell_type": "markdown",
   "id": "5935fa9a-df43-43b3-ad3e-827cff643d71",
   "metadata": {},
   "source": [
    "You can always see what projects you have on your computer by running `list(bd.projects)`. If this is the first time you are working with BW on your computer your list should contain two projects: 'default' and '2024_STI_BW25_Lecture'."
   ]
  },
  {
   "cell_type": "code",
   "execution_count": 11,
   "id": "e5962579-4f74-4439-a2ab-402dc99ca67f",
   "metadata": {},
   "outputs": [
    {
     "data": {
      "text/plain": [
       "[Project: default,\n",
       " Project: bw25_test,\n",
       " Project: bw25_20240406,\n",
       " Project: Test_location_specifc_folder,\n",
       " Project: 2024_STI_BW25_Lecture,\n",
       " Project: 20240831_Test]"
      ]
     },
     "execution_count": 11,
     "metadata": {},
     "output_type": "execute_result"
    }
   ],
   "source": [
    "list(bd.projects)"
   ]
  },
  {
   "cell_type": "markdown",
   "id": "56ee3aba-9fb5-4736-981d-e0423291a84c",
   "metadata": {},
   "source": [
    "You can also check all the projects that are installed on your computer, like below. It returns a list of projects, the number of databases in each projects, and their size (in GB)."
   ]
  },
  {
   "cell_type": "markdown",
   "id": "de4207ce-58a8-4190-b7ed-71aed6d41117",
   "metadata": {},
   "source": [
    "if you want to delete an existing project execut `delete('name')`"
   ]
  },
  {
   "cell_type": "markdown",
   "id": "664ee27a-b57d-4794-b050-eeb427c49056",
   "metadata": {},
   "source": [
    "Like in all Python modules, you can get additionnal information on the `projects` object and associated properties and methods by typing `help(projects)`.\n",
    "\n",
    "One of these properties is its location, which is given by `bd.projects.dir`"
   ]
  },
  {
   "cell_type": "code",
   "execution_count": 12,
   "id": "f95d805d-a628-45da-ad6c-ea5ae87b1097",
   "metadata": {},
   "outputs": [
    {
     "data": {
      "text/plain": [
       "PosixPath('/Users/joaosantos/Library/Application Support/Brightway3/2024_STI_BW25_Lecture.b5b5e0e3')"
      ]
     },
     "execution_count": 12,
     "metadata": {},
     "output_type": "execute_result"
    }
   ],
   "source": [
    "bd.projects.dir"
   ]
  },
  {
   "cell_type": "markdown",
   "id": "e3846428-6a4f-4be9-b6c3-55a5412ed659",
   "metadata": {},
   "source": [
    "if you want to delete an existing project execut `bd.projects.delete_project('name', delete_dir=True)`"
   ]
  },
  {
   "cell_type": "code",
   "execution_count": 13,
   "id": "82d121aa-b10e-47d8-acef-07010fdaf47c",
   "metadata": {},
   "outputs": [
    {
     "data": {
      "text/plain": [
       "PosixPath('/Users/joaosantos/Library/Logs/Brightway3/2024_STI_BW25_Lecture.b5b5e0e3')"
      ]
     },
     "execution_count": 13,
     "metadata": {},
     "output_type": "execute_result"
    }
   ],
   "source": [
    "bd.projects.logs_dir"
   ]
  },
  {
   "cell_type": "code",
   "execution_count": 14,
   "id": "7f6a03c0-8fc8-4e29-a674-222371130a91",
   "metadata": {},
   "outputs": [
    {
     "data": {
      "text/plain": [
       "PosixPath('/Users/joaosantos/Library/Application Support/Brightway3/2024_STI_BW25_Lecture.b5b5e0e3/output')"
      ]
     },
     "execution_count": 14,
     "metadata": {},
     "output_type": "execute_result"
    }
   ],
   "source": [
    "bd.projects.output_dir"
   ]
  },
  {
   "cell_type": "code",
   "execution_count": null,
   "id": "3fb42038-5acc-413d-b2a4-5b420caefb53",
   "metadata": {},
   "outputs": [],
   "source": []
  }
 ],
 "metadata": {
  "kernelspec": {
   "display_name": "Python 3 (ipykernel)",
   "language": "python",
   "name": "python3"
  },
  "language_info": {
   "codemirror_mode": {
    "name": "ipython",
    "version": 3
   },
   "file_extension": ".py",
   "mimetype": "text/x-python",
   "name": "python",
   "nbconvert_exporter": "python",
   "pygments_lexer": "ipython3",
   "version": "3.11.9"
  }
 },
 "nbformat": 4,
 "nbformat_minor": 5
}
