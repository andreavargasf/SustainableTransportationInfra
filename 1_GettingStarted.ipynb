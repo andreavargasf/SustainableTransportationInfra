{
 "cells": [
  {
   "cell_type": "markdown",
   "id": "bbb558d6-a108-4d08-98b9-56cd3238b889",
   "metadata": {
    "tags": []
   },
   "source": [
    "# Getting Started\n",
    "\n",
    "## Content\n",
    "\n",
    "<span style='background:yellow'> 1.1) Jupyter lab and accessing Brightway 2.5 </span> \n",
    "\n",
    "<span style='background:yellow'> 1.2) Projects </span>\n",
    "\n",
    "<span style='background:yellow'> 1.3) ... </span>\n",
    "\n"
   ]
  },
  {
   "cell_type": "markdown",
   "id": "dc021ec5-b23a-4356-b1aa-7b26c59674d8",
   "metadata": {},
   "source": [
    "## 1.1) Jupyter lab and accessing Brightway 2.5\n",
    "\n",
    "### Accessing Brightway libraries\n",
    "\n",
    "In this course we will use Jupyter Notebooks to access the different BW25 modules\n",
    "\n",
    "<span style='background:yellow'> https://github.com/romainsacchi/internal-PSI-training-2024/blob/main/tutorials/brightway/notebooks%20with%20solutions/1%20-%20BW%20structure%20and%20first%20LCAs.ipynb </span>\n"
   ]
  },
  {
   "cell_type": "code",
   "execution_count": 1,
   "id": "618b5162-c599-4a68-8c6b-0f162a8a1f8c",
   "metadata": {},
   "outputs": [
    {
     "name": "stderr",
     "output_type": "stream",
     "text": [
      "/Users/andreavargasf/anaconda3/envs/STI_environment/lib/python3.11/site-packages/bw2calc/__init__.py:48: UserWarning: \n",
      "It seems like you have an ARM architecture, but haven't installed scikit-umfpack:\n",
      "\n",
      "    https://pypi.org/project/scikit-umfpack/\n",
      "\n",
      "Installing it could give you much faster calculations.\n",
      "\n",
      "  warnings.warn(UMFPACK_WARNING)\n"
     ]
    }
   ],
   "source": [
    "# Import \"traditional\" pyhton packages that will be needed along with those specific to Brightway2.5 (BW25)\n",
    "import os\n",
    "import matplotlib.pyplot as plt\n",
    "import numpy as np\n",
    "import pandas as pd\n",
    "\n",
    "# Import BW25 packages. You need those to use BW25\n",
    "import bw2data as bd\n",
    "import bw2io as bi\n",
    "import bw2calc as bc\n",
    "import bw2analyzer as bwa"
   ]
  },
  {
   "cell_type": "code",
   "execution_count": null,
   "id": "eb14d391-9d7b-4c0e-92bc-fb97dd5a024a",
   "metadata": {},
   "outputs": [],
   "source": []
  },
  {
   "cell_type": "markdown",
   "id": "590afbea-d91f-4a4a-aa49-ff31564efafd",
   "metadata": {},
   "source": [
    "## 1.2) Projects\n",
    "\n",
    "Data in BW25 is organized in hierarchycally. At the top-level we have projects. They contain LCI databases, LCIA methods and other less often used objects (e.g., normalization and weighting factors, as well as project-specific code). Each project is completely independent of other projects. Therefore, objects from one project do not interact with objects within other projects.\n",
    "\n",
    "See: https://docs.brightway.dev/en/latest/content/theory/structure.html \n",
    "\n",
    "When you first launch BW2.5, you will be in the default project. You can check this using the current property of the projects object:"
   ]
  },
  {
   "cell_type": "code",
   "execution_count": 2,
   "id": "08433209-7a17-4df0-943d-7dbad004de74",
   "metadata": {},
   "outputs": [
    {
     "data": {
      "text/plain": [
       "'default'"
      ]
     },
     "execution_count": 2,
     "metadata": {},
     "output_type": "execute_result"
    }
   ],
   "source": [
    "bd.projects.current"
   ]
  },
  {
   "cell_type": "markdown",
   "id": "80f1efee-a6db-4187-aa85-40ceabf96606",
   "metadata": {},
   "source": [
    "### Creating a new project, or switching to an existing project\n",
    "\n",
    "Let's create a new project for this lecture, called \"2024_STI_BW25_Lecture\". There are two ways of doing this:\n",
    "\n",
    "project_name = \"2024_STI_BW25_Lecture\"\n",
    "bd.projects.create_project(project_name) will create the project, but you will remain in your current project.\n",
    "bd.projects.set_current(project_name) will switch to the project passed as argument, and create it first if it doesn't exist yet."
   ]
  },
  {
   "cell_type": "code",
   "execution_count": 3,
   "id": "5a396e3a-d7f8-4cc3-b899-3adb8015c8dd",
   "metadata": {},
   "outputs": [],
   "source": [
    "# Let's select the second option\n",
    "project_name = \"2024_STI_BW25_Lecture\" #string that stores the name of the project we want\n",
    "bd.projects.set_current(project_name)"
   ]
  },
  {
   "cell_type": "markdown",
   "id": "30046a40-86f7-45bb-ab30-95f9e5e04751",
   "metadata": {},
   "source": [
    "Let's see if the project was created"
   ]
  },
  {
   "cell_type": "code",
   "execution_count": 9,
   "id": "a9fd6c43-5530-46f0-b54a-0de08adf94ff",
   "metadata": {},
   "outputs": [
    {
     "data": {
      "text/plain": [
       "Brightway2 projects manager with 5 objects:\n",
       "\t2024_STI_BW25_Lecture\n",
       "\tTest_location_specifc_folder\n",
       "\tbw25_20240406\n",
       "\tbw25_test\n",
       "\tdefault\n",
       "Use `projects.report()` to get a report on all projects."
      ]
     },
     "execution_count": 9,
     "metadata": {},
     "output_type": "execute_result"
    }
   ],
   "source": [
    "bd.projects #this allows you to see all projects you have on your computer"
   ]
  },
  {
   "cell_type": "markdown",
   "id": "5935fa9a-df43-43b3-ad3e-827cff643d71",
   "metadata": {},
   "source": [
    "You can always see what projects you have on your computer by running list(bd.projects). If this is the first time you are working with BW on your computer your list should contain two projects: 'default' and '2024_STI_BW25_Lecture'."
   ]
  },
  {
   "cell_type": "code",
   "execution_count": 14,
   "id": "e5962579-4f74-4439-a2ab-402dc99ca67f",
   "metadata": {},
   "outputs": [
    {
     "data": {
      "text/plain": [
       "[Project: default,\n",
       " Project: bw25_test,\n",
       " Project: bw25_20240406,\n",
       " Project: Test_location_specifc_folder,\n",
       " Project: 2024_STI_BW25_Lecture]"
      ]
     },
     "execution_count": 14,
     "metadata": {},
     "output_type": "execute_result"
    }
   ],
   "source": [
    "list(bd.projects)"
   ]
  },
  {
   "cell_type": "markdown",
   "id": "664ee27a-b57d-4794-b050-eeb427c49056",
   "metadata": {},
   "source": [
    "Like in all Python modules, you can get additionnal information on the projects object and associated properties and methods by typing help(projects).\n",
    "\n",
    "One of these properties is its location, which is given by bd.projects.dir"
   ]
  },
  {
   "cell_type": "code",
   "execution_count": 10,
   "id": "f95d805d-a628-45da-ad6c-ea5ae87b1097",
   "metadata": {},
   "outputs": [
    {
     "data": {
      "text/plain": [
       "PosixPath('/Users/joaosantos/Library/Application Support/Brightway3/2024_STI_BW25_Lecture.b5b5e0e3')"
      ]
     },
     "execution_count": 10,
     "metadata": {},
     "output_type": "execute_result"
    }
   ],
   "source": [
    "bd.projects.dir"
   ]
  },
  {
   "cell_type": "markdown",
   "id": "e3846428-6a4f-4be9-b6c3-55a5412ed659",
   "metadata": {},
   "source": [
    "if you want to delete an existing project execut delete('name')"
   ]
  },
  {
   "cell_type": "code",
   "execution_count": null,
   "id": "82d121aa-b10e-47d8-acef-07010fdaf47c",
   "metadata": {},
   "outputs": [],
   "source": []
  }
 ],
 "metadata": {
  "kernelspec": {
   "display_name": "Python 3 (ipykernel)",
   "language": "python",
   "name": "python3"
  },
  "language_info": {
   "codemirror_mode": {
    "name": "ipython",
    "version": 3
   },
   "file_extension": ".py",
   "mimetype": "text/x-python",
   "name": "python",
   "nbconvert_exporter": "python",
   "pygments_lexer": "ipython3",
   "version": "3.11.9"
  }
 },
 "nbformat": 4,
 "nbformat_minor": 5
}
