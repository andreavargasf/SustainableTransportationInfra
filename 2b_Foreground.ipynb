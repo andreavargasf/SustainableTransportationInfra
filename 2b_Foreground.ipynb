{
 "cells": [
  {
   "cell_type": "markdown",
   "id": "c5d5994a-a224-4c48-88a6-c19659519f38",
   "metadata": {},
   "source": [
    "## 2.2) Setting up the foreground system: foreground database"
   ]
  },
  {
   "cell_type": "markdown",
   "id": "df92c248-c9e9-45ae-b33f-f97e2178f421",
   "metadata": {},
   "source": [
    "This notebook contains the required steps to import the foreground datatabase. The database comes originally as an excel file."
   ]
  },
  {
   "cell_type": "code",
   "execution_count": 1,
   "id": "1635a774-51d7-4e1b-97da-0f6e8da0346b",
   "metadata": {},
   "outputs": [],
   "source": [
    "from pathlib import Path\n",
    "from pprint import pprint"
   ]
  },
  {
   "cell_type": "code",
   "execution_count": 2,
   "id": "eea679d9-8f92-4caa-a421-1088692b66a8",
   "metadata": {
    "tags": []
   },
   "outputs": [],
   "source": [
    "## Import BW25 packages\n",
    "import bw2data as bd\n",
    "import bw2io as bi"
   ]
  },
  {
   "cell_type": "code",
   "execution_count": 3,
   "id": "164bedb9-1918-4659-a6d3-dc5381919ea9",
   "metadata": {},
   "outputs": [],
   "source": [
    "#Importing the variables with the project name and background db\n",
    "from project_details import ei_name, project_name"
   ]
  },
  {
   "cell_type": "code",
   "execution_count": 4,
   "id": "2f852bb5-e97b-4762-aa21-ed6bc2df5b25",
   "metadata": {},
   "outputs": [
    {
     "data": {
      "text/plain": [
       "Databases dictionary with 2 object(s):\n",
       "\tbiosphere3\n",
       "\tecoinvent-391-cutoff"
      ]
     },
     "execution_count": 4,
     "metadata": {},
     "output_type": "execute_result"
    }
   ],
   "source": [
    "bd.projects.set_current(project_name)\n",
    "bd.databases"
   ]
  },
  {
   "cell_type": "code",
   "execution_count": 5,
   "id": "cef4e58d-e51a-4d86-8d61-fa25b42858b2",
   "metadata": {},
   "outputs": [],
   "source": [
    "# Is the background database name the same as the one we wrote in `project_details.py`?\n",
    "assert ei_name in bd.databases"
   ]
  },
  {
   "cell_type": "markdown",
   "id": "aa24d605-d2c6-4fe2-ad31-b17888deec0a",
   "metadata": {},
   "source": [
    "## Transform the data from xlsx format to Brightway format"
   ]
  },
  {
   "cell_type": "markdown",
   "id": "82b5557b-ce10-4822-af50-456b92392069",
   "metadata": {},
   "source": [
    "### Extract foreground inventory data"
   ]
  },
  {
   "cell_type": "code",
   "execution_count": 9,
   "id": "18a2c93e-e7b7-4b23-8556-0b478bb104d7",
   "metadata": {},
   "outputs": [
    {
     "name": "stdout",
     "output_type": "stream",
     "text": [
      "Extracted 1 worksheets in 0.06 seconds\n"
     ]
    }
   ],
   "source": [
    "# Include the path to the foreground database (excel file)\n",
    "FG_DB = Path(\"./Foreground.xlsx\")\n",
    "\n",
    "# Import your LCI\n",
    "lci = bi.ExcelImporter(FG_DB)"
   ]
  },
  {
   "cell_type": "markdown",
   "id": "248bbe09-c155-44da-ae33-1862f92fd6a1",
   "metadata": {},
   "source": [
    "### Match the foreground database to itself"
   ]
  },
  {
   "cell_type": "code",
   "execution_count": 10,
   "id": "06a225d7-fea3-4664-9594-f789423fd607",
   "metadata": {},
   "outputs": [
    {
     "name": "stdout",
     "output_type": "stream",
     "text": [
      "Applying strategy: link_iterable_by_fields\n"
     ]
    }
   ],
   "source": [
    "# Need to match FG_DB to itself\n",
    "lci.match_database(fields=[\"name\", \"unit\", \"location\"])"
   ]
  },
  {
   "cell_type": "markdown",
   "id": "3352b3cc-7750-4ea6-9ade-f7ec84689911",
   "metadata": {},
   "source": [
    "### Match the FG_DB to the background db"
   ]
  },
  {
   "cell_type": "code",
   "execution_count": 11,
   "id": "971853cd-53e2-4c5b-9e0b-f8e5838ba198",
   "metadata": {},
   "outputs": [
    {
     "name": "stdout",
     "output_type": "stream",
     "text": [
      "Applying strategy: link_iterable_by_fields\n"
     ]
    }
   ],
   "source": [
    "# Need to match FG_DB to the biosphere\n",
    "lci.match_database(ei_name, fields=[\"name\", \"reference product\", \"location\", \"unit\"])"
   ]
  },
  {
   "cell_type": "markdown",
   "id": "81300b5c-301f-4989-aaf6-537a2ae7efdb",
   "metadata": {},
   "source": [
    "### Match the FG_DB to the biosphere3 database"
   ]
  },
  {
   "cell_type": "code",
   "execution_count": 12,
   "id": "c978a70e-7d6d-4686-ae14-434f95c538d8",
   "metadata": {},
   "outputs": [
    {
     "name": "stdout",
     "output_type": "stream",
     "text": [
      "Applying strategy: link_iterable_by_fields\n"
     ]
    }
   ],
   "source": [
    "# Need to match FG_DB to the biosphere\n",
    "lci.match_database(\"biosphere3\", fields=[\"name\", \"categories\"])"
   ]
  },
  {
   "cell_type": "code",
   "execution_count": 14,
   "id": "0c26bf77-a4b0-4074-a600-1f665756da7a",
   "metadata": {},
   "outputs": [
    {
     "name": "stdout",
     "output_type": "stream",
     "text": [
      "Applying strategy: csv_restore_tuples\n",
      "Applying strategy: csv_restore_booleans\n",
      "Applying strategy: csv_numerize\n",
      "Applying strategy: csv_drop_unknown\n",
      "Applying strategy: csv_add_missing_exchanges_section\n",
      "Applying strategy: normalize_units\n",
      "Applying strategy: normalize_biosphere_categories\n",
      "Applying strategy: normalize_biosphere_names\n",
      "Applying strategy: strip_biosphere_exc_locations\n",
      "Applying strategy: set_code_by_activity_hash\n",
      "Applying strategy: link_iterable_by_fields\n",
      "Applying strategy: assign_only_product_as_production\n",
      "Applying strategy: link_technosphere_by_activity_hash\n",
      "Applying strategy: drop_falsey_uncertainty_fields_but_keep_zeros\n",
      "Applying strategy: convert_uncertainty_types_to_integers\n",
      "Applying strategy: convert_activity_parameters_to_list\n",
      "Applied 16 strategies in 4.86 seconds\n",
      "26 datasets\n",
      "123 exchanges\n",
      "0 unlinked exchanges\n",
      "  \n"
     ]
    },
    {
     "data": {
      "text/plain": [
       "(26, 123, 0)"
      ]
     },
     "execution_count": 14,
     "metadata": {},
     "output_type": "execute_result"
    }
   ],
   "source": [
    "bi.create_core_migrations()\n",
    "# Once your package is imported we need to apply strategies\n",
    "lci.apply_strategies()\n",
    "\n",
    "# We need to match databases - name and categories but ATTENTION! the categories in\n",
    "# the excel file is \"None\" so we will lci.write_excel() also need to match against unit.\n",
    "\n",
    "lci.statistics()"
   ]
  },
  {
   "cell_type": "code",
   "execution_count": 15,
   "id": "39634c46-95cf-44db-ba4f-006c1b78850e",
   "metadata": {},
   "outputs": [
    {
     "name": "stderr",
     "output_type": "stream",
     "text": [
      "100%|████████████████████████████████████████| 26/26 [00:00<00:00, 17983.49it/s]\n"
     ]
    },
    {
     "name": "stdout",
     "output_type": "stream",
     "text": [
      "Vacuuming database \n",
      "Created database: asphalt\n"
     ]
    },
    {
     "data": {
      "text/plain": [
       "Databases dictionary with 3 object(s):\n",
       "\tasphalt\n",
       "\tbiosphere3\n",
       "\tecoinvent-391-cutoff"
      ]
     },
     "execution_count": 15,
     "metadata": {},
     "output_type": "execute_result"
    }
   ],
   "source": [
    "import_statistics = lci.statistics(print_stats=False)\n",
    "\n",
    "# If all exchanges have been linked, proceed to write the database\n",
    "if import_statistics[2] == 0:\n",
    "    lci.write_database()\n",
    "else:\n",
    "    print(f\"There are unlinked exchanges {import_statistics}\")\n",
    "    lci.write_excel()\n",
    "    for unlinked_exchange in lci.unlinked:\n",
    "        pprint(unlinked_exchange)\n",
    "\n",
    "bd.databases"
   ]
  },
  {
   "cell_type": "markdown",
   "id": "989b9ffb-4735-4960-b6c3-5ea06006f1d7",
   "metadata": {},
   "source": [
    "### DB structure checks"
   ]
  },
  {
   "cell_type": "code",
   "execution_count": 16,
   "id": "279d85fc-b798-4c8c-b5b0-965616683246",
   "metadata": {},
   "outputs": [],
   "source": [
    "import bw2analyzer as bwa"
   ]
  },
  {
   "cell_type": "markdown",
   "id": "a0fc509e-2fe0-4c93-9e78-710d5bf9b86c",
   "metadata": {},
   "source": [
    "Let's define and assign the name of the foreground database to a variable called \"fg_name\"\n",
    "The name must be equal to the content of the cell B2 in the excel file \"Foreground.xlsx\""
   ]
  },
  {
   "cell_type": "code",
   "execution_count": 24,
   "id": "b446c5b4-6169-46f5-a930-ecebf85605c5",
   "metadata": {},
   "outputs": [],
   "source": [
    "fg_name = \"asphalt\""
   ]
  },
  {
   "cell_type": "markdown",
   "id": "afa1486c-4e41-4f91-bc20-9376dede562b",
   "metadata": {},
   "source": [
    "There are many properties and functions associated with this database object. To access those, let's assign the database to a variable"
   ]
  },
  {
   "cell_type": "code",
   "execution_count": 25,
   "id": "6733b48c-9fa1-483f-b528-a1fd9697a082",
   "metadata": {},
   "outputs": [],
   "source": [
    "fgdb = bd.Database(fg_name)"
   ]
  },
  {
   "cell_type": "markdown",
   "id": "5be8b106-8752-457e-bac8-4f8336a93622",
   "metadata": {},
   "source": [
    "Let's explore the foreground db with the function \"random\""
   ]
  },
  {
   "cell_type": "code",
   "execution_count": 27,
   "id": "04cb808e-6969-4bc5-8208-b960f4dfd7c4",
   "metadata": {},
   "outputs": [
    {
     "data": {
      "text/plain": [
       "'other fillers, production and transport' (kilogram, NL, None)"
      ]
     },
     "execution_count": 27,
     "metadata": {},
     "output_type": "execute_result"
    }
   ],
   "source": [
    "fgdb.random()"
   ]
  },
  {
   "cell_type": "code",
   "execution_count": 28,
   "id": "f8c631c5-69ac-42c8-8ff0-fc434702e894",
   "metadata": {},
   "outputs": [
    {
     "data": {
      "text/plain": [
       "'asphalt, transport to processing' (kilogram, NL, None)"
      ]
     },
     "execution_count": 28,
     "metadata": {},
     "output_type": "execute_result"
    }
   ],
   "source": [
    "random_fg_activity = fgdb.random()\n",
    "random_fg_activity"
   ]
  },
  {
   "cell_type": "markdown",
   "id": "4ae64a6f-1ae8-4dfa-9476-c3a91fa2c9df",
   "metadata": {},
   "source": [
    "We can get the type of the object that was returned from the database:"
   ]
  },
  {
   "cell_type": "code",
   "execution_count": 29,
   "id": "deb0c5f3-2e18-4e7f-af8e-8b7526f36202",
   "metadata": {},
   "outputs": [
    {
     "data": {
      "text/plain": [
       "bw2data.backends.proxies.Activity"
      ]
     },
     "execution_count": 29,
     "metadata": {},
     "output_type": "execute_result"
    }
   ],
   "source": [
    "type(random_fg_activity)"
   ]
  },
  {
   "cell_type": "markdown",
   "id": "20ef14c0-7d77-4ab8-8437-04b2e837e1db",
   "metadata": {},
   "source": [
    "The type is an activity proxy. Activity proxies allow us to interact with the content of the database.\n",
    "\n",
    "To see what the activity contains, we can convert it to a dictionary:"
   ]
  },
  {
   "cell_type": "code",
   "execution_count": 30,
   "id": "fe5db813-196b-4a7a-9f4b-2a2b3b3f35ff",
   "metadata": {},
   "outputs": [
    {
     "data": {
      "text/plain": [
       "{'reference product': 'asphalt',\n",
       " 'code': 'asphalt_C2',\n",
       " 'location': 'NL',\n",
       " 'amount': 1,\n",
       " 'unit': 'kilogram',\n",
       " 'original_ConversionDem2FU': 1,\n",
       " 'name': 'asphalt, transport to processing',\n",
       " 'worksheet name': 'Foreground',\n",
       " 'database': 'asphalt',\n",
       " 'id': 25969}"
      ]
     },
     "execution_count": 30,
     "metadata": {},
     "output_type": "execute_result"
    }
   ],
   "source": [
    "random_fg_activity.as_dict()"
   ]
  },
  {
   "cell_type": "markdown",
   "id": "6f5f8f9d-b36c-4ffc-80c5-0e82b2fad0ef",
   "metadata": {},
   "source": [
    "We can get the value of each item by specifying its key. Example: let's get the value corresponding to the key 'location'"
   ]
  },
  {
   "cell_type": "code",
   "execution_count": 32,
   "id": "0c1305bc-048a-4a47-a340-32d2fc8b1746",
   "metadata": {},
   "outputs": [
    {
     "data": {
      "text/plain": [
       "'NL'"
      ]
     },
     "execution_count": 32,
     "metadata": {},
     "output_type": "execute_result"
    }
   ],
   "source": [
    "random_fg_activity['location']"
   ]
  },
  {
   "cell_type": "markdown",
   "id": "e260559b-6d40-4a1e-9b60-a851649ca6df",
   "metadata": {},
   "source": [
    "<span style='background:yellow'> Ended here </span> "
   ]
  },
  {
   "cell_type": "code",
   "execution_count": 20,
   "id": "7ac7fffb-a24c-4d73-9535-d88c9fe0253b",
   "metadata": {},
   "outputs": [],
   "source": [
    "pavement = fgdb.get('asphalt_SMA')"
   ]
  },
  {
   "cell_type": "code",
   "execution_count": 21,
   "id": "2f4f52f5-ee39-4f8c-97a2-40b5483a7a6d",
   "metadata": {},
   "outputs": [
    {
     "data": {
      "text/plain": [
       "'SMA' (kilogram, NL, None)"
      ]
     },
     "execution_count": 21,
     "metadata": {},
     "output_type": "execute_result"
    }
   ],
   "source": [
    "pavement"
   ]
  },
  {
   "cell_type": "code",
   "execution_count": 22,
   "id": "241130f5-15d6-4ae2-b403-6881a1e9ed1e",
   "metadata": {},
   "outputs": [
    {
     "name": "stdout",
     "output_type": "stream",
     "text": [
      "1: 'SMA' (kilogram, NL, None)\n",
      "  1: 'SMA, materials and transport to plant' (kilogram, NL, None)\n",
      "  1: 'SMA, production' (kilogram, NL, None)\n",
      "  1: 'asphalt, transport to site' (kilogram, NL, None)\n",
      "  1: 'asphalt, construction' (kilogram, NL, None)\n",
      "  1: 'asphalt, pvi, car' (kilometer, NL, None)\n",
      "  1: 'asphalt, pvi, HDV' (kilometer, NL, None)\n",
      "  1: 'asphalt, pvi, trailer' (kilometer, NL, None)\n",
      "  1: 'asphalt, demolition' (kilogram, NL, None)\n",
      "  1: 'asphalt, transport to processing' (kilogram, NL, None)\n",
      "  1: 'asphalt, processing' (kilogram, NL, None)\n"
     ]
    }
   ],
   "source": [
    "bwa.print_recursive_supply_chain(pavement, max_level=1)"
   ]
  },
  {
   "cell_type": "code",
   "execution_count": 23,
   "id": "31868199-31a9-4166-bd06-7e34f175ef2d",
   "metadata": {},
   "outputs": [
    {
     "name": "stdout",
     "output_type": "stream",
     "text": [
      "1: 'SMA' (kilogram, NL, None)\n",
      "  1: 'SMA, materials and transport to plant' (kilogram, NL, None)\n",
      "    0.068: 'bitumen, production and transport' (kilogram, NL, None)\n",
      "    0.676: 'crushed stone, production and transport' (kilogram, NL, None)\n",
      "    0.075: 'crushed sand, production and transport' (kilogram, NL, None)\n",
      "    0.091: 'other fillers, production and transport' (kilogram, NL, None)\n",
      "    0.073: 'natural sand, production and transport' (kilogram, NL, None)\n",
      "    0.014: 'weak filler, production and transport' (kilogram, NL, None)\n",
      "    0.003: 'drip resistant material, production and transport' (kilogram, NL, None)\n",
      "  1: 'SMA, production' (kilogram, NL, None)\n",
      "    0.00714: 'market for electricity, low voltage' (kilowatt hour, NL, None)\n",
      "    0.254: 'heat production, natural gas, at industrial furnace >100kW' (megajoule, Europe without Switzerland, None)\n",
      "    0.0043: 'diesel, burned in building machine' (megajoule, GLO, None)\n",
      "  1: 'asphalt, transport to site' (kilogram, NL, None)\n",
      "    0.0333: 'transport, freight, lorry >32 metric ton, EURO5' (ton kilometer, RER, None)\n",
      "    0.0111: 'transport, freight, lorry >32 metric ton, EURO6' (ton kilometer, RER, None)\n",
      "  1: 'asphalt, construction' (kilogram, NL, None)\n",
      "    0.0115: 'diesel, burned in building machine' (megajoule, GLO, None)\n",
      "  1: 'asphalt, pvi, car' (kilometer, NL, None)\n",
      "    0.1: 'transport, passenger car, medium size, petrol, EURO 5' (kilometer, RER, None)\n",
      "  1: 'asphalt, pvi, HDV' (kilometer, NL, None)\n",
      "    0.1: 'transport, freight, lorry 7.5-16 metric ton, EURO5' (ton kilometer, RER, None)\n",
      "  1: 'asphalt, pvi, trailer' (kilometer, NL, None)\n",
      "    0.1: 'transport, freight, lorry 7.5-16 metric ton, EURO5' (ton kilometer, RER, None)\n",
      "  1: 'asphalt, demolition' (kilogram, NL, None)\n",
      "    0.0276: 'diesel, burned in building machine' (megajoule, GLO, None)\n",
      "  1: 'asphalt, transport to processing' (kilogram, NL, None)\n",
      "    0.0333: 'transport, freight, lorry >32 metric ton, EURO5' (ton kilometer, RER, None)\n",
      "    0.0111: 'transport, freight, lorry >32 metric ton, EURO6' (ton kilometer, RER, None)\n",
      "  1: 'asphalt, processing' (kilogram, NL, None)\n",
      "    0.0132: 'diesel, burned in building machine' (megajoule, GLO, None)\n"
     ]
    }
   ],
   "source": [
    "bwa.print_recursive_supply_chain(pavement, max_level=2)"
   ]
  },
  {
   "cell_type": "code",
   "execution_count": null,
   "id": "c125e187-fadf-433e-908f-1923760da3ea",
   "metadata": {},
   "outputs": [],
   "source": []
  }
 ],
 "metadata": {
  "kernelspec": {
   "display_name": "Python 3 (ipykernel)",
   "language": "python",
   "name": "python3"
  },
  "language_info": {
   "codemirror_mode": {
    "name": "ipython",
    "version": 3
   },
   "file_extension": ".py",
   "mimetype": "text/x-python",
   "name": "python",
   "nbconvert_exporter": "python",
   "pygments_lexer": "ipython3",
   "version": "3.11.9"
  }
 },
 "nbformat": 4,
 "nbformat_minor": 5
}
