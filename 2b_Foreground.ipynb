{
 "cells": [
  {
   "cell_type": "markdown",
   "id": "c5d5994a-a224-4c48-88a6-c19659519f38",
   "metadata": {},
   "source": [
    "## 2.2) Setting up the foreground system: foreground database"
   ]
  },
  {
   "cell_type": "markdown",
   "id": "df92c248-c9e9-45ae-b33f-f97e2178f421",
   "metadata": {},
   "source": [
    "This notebook contains the required steps to import the foreground datatabase. The database comes originally as an excel file."
   ]
  },
  {
   "cell_type": "code",
   "execution_count": 1,
   "id": "1635a774-51d7-4e1b-97da-0f6e8da0346b",
   "metadata": {},
   "outputs": [],
   "source": [
    "from pathlib import Path\n",
    "from pprint import pprint"
   ]
  },
  {
   "cell_type": "code",
   "execution_count": 2,
   "id": "eea679d9-8f92-4caa-a421-1088692b66a8",
   "metadata": {
    "tags": []
   },
   "outputs": [],
   "source": [
    "## Import BW25 packages\n",
    "import bw2data as bd\n",
    "import bw2io as bi"
   ]
  },
  {
   "cell_type": "code",
   "execution_count": 3,
   "id": "164bedb9-1918-4659-a6d3-dc5381919ea9",
   "metadata": {},
   "outputs": [],
   "source": [
    "#Importing the variables with the project name and background db\n",
    "from project_details import ei_name, project_name"
   ]
  },
  {
   "cell_type": "code",
   "execution_count": 4,
   "id": "2f852bb5-e97b-4762-aa21-ed6bc2df5b25",
   "metadata": {},
   "outputs": [
    {
     "data": {
      "text/plain": [
       "Databases dictionary with 3 object(s):\n",
       "\tasphalt\n",
       "\tbiosphere3\n",
       "\tecoinvent-391-cutoff"
      ]
     },
     "execution_count": 4,
     "metadata": {},
     "output_type": "execute_result"
    }
   ],
   "source": [
    "bd.projects.set_current(project_name)\n",
    "bd.databases"
   ]
  },
  {
   "cell_type": "code",
   "execution_count": 5,
   "id": "cef4e58d-e51a-4d86-8d61-fa25b42858b2",
   "metadata": {},
   "outputs": [],
   "source": [
    "# Is the background database name the same as the one we wrote in `project_details.py`?\n",
    "assert ei_name in bd.databases"
   ]
  },
  {
   "cell_type": "markdown",
   "id": "aa24d605-d2c6-4fe2-ad31-b17888deec0a",
   "metadata": {},
   "source": [
    "## Transform the data from xlsx format to Brightway format"
   ]
  },
  {
   "cell_type": "markdown",
   "id": "82b5557b-ce10-4822-af50-456b92392069",
   "metadata": {},
   "source": [
    "### Extract foreground inventory data"
   ]
  },
  {
   "cell_type": "code",
   "execution_count": 6,
   "id": "18a2c93e-e7b7-4b23-8556-0b478bb104d7",
   "metadata": {},
   "outputs": [
    {
     "name": "stdout",
     "output_type": "stream",
     "text": [
      "Extracted 1 worksheets in 0.04 seconds\n"
     ]
    }
   ],
   "source": [
    "# Include the path to the foreground database (excel file)\n",
    "FG_DB = Path(\"./Foreground.xlsx\")\n",
    "\n",
    "# Import your LCI\n",
    "lci = bi.ExcelImporter(FG_DB)"
   ]
  },
  {
   "cell_type": "markdown",
   "id": "248bbe09-c155-44da-ae33-1862f92fd6a1",
   "metadata": {},
   "source": [
    "### Match the foreground database to itself"
   ]
  },
  {
   "cell_type": "code",
   "execution_count": 7,
   "id": "06a225d7-fea3-4664-9594-f789423fd607",
   "metadata": {},
   "outputs": [
    {
     "name": "stdout",
     "output_type": "stream",
     "text": [
      "Applying strategy: link_iterable_by_fields\n"
     ]
    }
   ],
   "source": [
    "# Need to match FG_DB to itself\n",
    "lci.match_database(fields=[\"name\", \"unit\", \"location\"])"
   ]
  },
  {
   "cell_type": "markdown",
   "id": "3352b3cc-7750-4ea6-9ade-f7ec84689911",
   "metadata": {},
   "source": [
    "### Match the FG_DB to the background db"
   ]
  },
  {
   "cell_type": "code",
   "execution_count": 8,
   "id": "971853cd-53e2-4c5b-9e0b-f8e5838ba198",
   "metadata": {},
   "outputs": [
    {
     "name": "stdout",
     "output_type": "stream",
     "text": [
      "Applying strategy: link_iterable_by_fields\n"
     ]
    }
   ],
   "source": [
    "# Need to match FG_DB to the biosphere\n",
    "lci.match_database(ei_name, fields=[\"name\", \"reference product\", \"location\", \"unit\"])"
   ]
  },
  {
   "cell_type": "markdown",
   "id": "81300b5c-301f-4989-aaf6-537a2ae7efdb",
   "metadata": {},
   "source": [
    "### Match the FG_DB to the biosphere3 database"
   ]
  },
  {
   "cell_type": "code",
   "execution_count": 9,
   "id": "c978a70e-7d6d-4686-ae14-434f95c538d8",
   "metadata": {},
   "outputs": [
    {
     "name": "stdout",
     "output_type": "stream",
     "text": [
      "Applying strategy: link_iterable_by_fields\n"
     ]
    }
   ],
   "source": [
    "# Need to match FG_DB to the biosphere\n",
    "lci.match_database(\"biosphere3\", fields=[\"name\", \"categories\"])"
   ]
  },
  {
   "cell_type": "code",
   "execution_count": 10,
   "id": "0c26bf77-a4b0-4074-a600-1f665756da7a",
   "metadata": {},
   "outputs": [
    {
     "name": "stdout",
     "output_type": "stream",
     "text": [
      "Applying strategy: csv_restore_tuples\n",
      "Applying strategy: csv_restore_booleans\n",
      "Applying strategy: csv_numerize\n",
      "Applying strategy: csv_drop_unknown\n",
      "Applying strategy: csv_add_missing_exchanges_section\n",
      "Applying strategy: normalize_units\n",
      "Applying strategy: normalize_biosphere_categories\n",
      "Applying strategy: normalize_biosphere_names\n",
      "Applying strategy: strip_biosphere_exc_locations\n",
      "Applying strategy: set_code_by_activity_hash\n",
      "Applying strategy: link_iterable_by_fields\n",
      "Applying strategy: assign_only_product_as_production\n",
      "Applying strategy: link_technosphere_by_activity_hash\n",
      "Applying strategy: drop_falsey_uncertainty_fields_but_keep_zeros\n",
      "Applying strategy: convert_uncertainty_types_to_integers\n",
      "Applying strategy: convert_activity_parameters_to_list\n",
      "Applied 16 strategies in 4.91 seconds\n",
      "27 datasets\n",
      "\t127 exchanges\n",
      "\t0 unlinked exchanges (0 unique)\n",
      "\t\n"
     ]
    },
    {
     "data": {
      "text/plain": [
       "(27, 127, 0, 0)"
      ]
     },
     "execution_count": 10,
     "metadata": {},
     "output_type": "execute_result"
    }
   ],
   "source": [
    "bi.create_core_migrations()\n",
    "# Once your package is imported we need to apply strategies\n",
    "lci.apply_strategies()\n",
    "\n",
    "# We need to match databases - name and categories but ATTENTION! the categories in\n",
    "# the excel file is \"None\" so we will lci.write_excel() also need to match against unit.\n",
    "\n",
    "lci.statistics()"
   ]
  },
  {
   "cell_type": "code",
   "execution_count": 11,
   "id": "39634c46-95cf-44db-ba4f-006c1b78850e",
   "metadata": {},
   "outputs": [
    {
     "name": "stderr",
     "output_type": "stream",
     "text": [
      "100%|█████████████████████████████████████████| 27/27 [00:00<00:00, 1698.66it/s]\n"
     ]
    },
    {
     "name": "stdout",
     "output_type": "stream",
     "text": [
      "Vacuuming database \n",
      "Created database: asphalt\n"
     ]
    },
    {
     "data": {
      "text/plain": [
       "Databases dictionary with 3 object(s):\n",
       "\tasphalt\n",
       "\tbiosphere3\n",
       "\tecoinvent-391-cutoff"
      ]
     },
     "execution_count": 11,
     "metadata": {},
     "output_type": "execute_result"
    }
   ],
   "source": [
    "import_statistics = lci.statistics(print_stats=False)\n",
    "\n",
    "# If all exchanges have been linked, proceed to write the database\n",
    "if import_statistics[2] == 0:\n",
    "    lci.write_database()\n",
    "else:\n",
    "    print(f\"There are unlinked exchanges {import_statistics}\")\n",
    "    lci.write_excel()\n",
    "    for unlinked_exchange in lci.unlinked:\n",
    "        pprint(unlinked_exchange)\n",
    "\n",
    "bd.databases"
   ]
  },
  {
   "cell_type": "markdown",
   "id": "989b9ffb-4735-4960-b6c3-5ea06006f1d7",
   "metadata": {},
   "source": [
    "### DB structure checks"
   ]
  },
  {
   "cell_type": "code",
   "execution_count": 12,
   "id": "279d85fc-b798-4c8c-b5b0-965616683246",
   "metadata": {},
   "outputs": [
    {
     "name": "stderr",
     "output_type": "stream",
     "text": [
      "/Users/andreavargasf/anaconda3/envs/STI_environment/lib/python3.11/site-packages/bw2calc/__init__.py:48: UserWarning: \n",
      "It seems like you have an ARM architecture, but haven't installed scikit-umfpack:\n",
      "\n",
      "    https://pypi.org/project/scikit-umfpack/\n",
      "\n",
      "Installing it could give you much faster calculations.\n",
      "\n",
      "  warnings.warn(UMFPACK_WARNING)\n"
     ]
    }
   ],
   "source": [
    "import bw2analyzer as bwa"
   ]
  },
  {
   "cell_type": "markdown",
   "id": "a0fc509e-2fe0-4c93-9e78-710d5bf9b86c",
   "metadata": {},
   "source": [
    "Let's define and assign the name of the foreground database to a variable called \"fg_name\"\n",
    "The name must be equal to the content of the cell B2 in the excel file \"Foreground.xlsx\""
   ]
  },
  {
   "cell_type": "code",
   "execution_count": 13,
   "id": "b446c5b4-6169-46f5-a930-ecebf85605c5",
   "metadata": {},
   "outputs": [],
   "source": [
    "fg_name = \"asphalt\""
   ]
  },
  {
   "cell_type": "markdown",
   "id": "afa1486c-4e41-4f91-bc20-9376dede562b",
   "metadata": {},
   "source": [
    "There are many properties and functions associated with this database object. To access those, let's assign the database to a variable"
   ]
  },
  {
   "cell_type": "code",
   "execution_count": 14,
   "id": "6733b48c-9fa1-483f-b528-a1fd9697a082",
   "metadata": {},
   "outputs": [],
   "source": [
    "fgdb = bd.Database(fg_name)"
   ]
  },
  {
   "cell_type": "markdown",
   "id": "5be8b106-8752-457e-bac8-4f8336a93622",
   "metadata": {},
   "source": [
    "Let's explore the foreground db with the function \"random\""
   ]
  },
  {
   "cell_type": "code",
   "execution_count": 15,
   "id": "04cb808e-6969-4bc5-8208-b960f4dfd7c4",
   "metadata": {},
   "outputs": [
    {
     "data": {
      "text/plain": [
       "'asphalt granulate, free of burden' (kilogram, NL, None)"
      ]
     },
     "execution_count": 15,
     "metadata": {},
     "output_type": "execute_result"
    }
   ],
   "source": [
    "fgdb.random()"
   ]
  },
  {
   "cell_type": "code",
   "execution_count": 16,
   "id": "f8c631c5-69ac-42c8-8ff0-fc434702e894",
   "metadata": {},
   "outputs": [
    {
     "data": {
      "text/plain": [
       "'asphalt, pvi, HDV' (kilometer, NL, None)"
      ]
     },
     "execution_count": 16,
     "metadata": {},
     "output_type": "execute_result"
    }
   ],
   "source": [
    "random_fg_activity = fgdb.random()\n",
    "random_fg_activity"
   ]
  },
  {
   "cell_type": "markdown",
   "id": "4ae64a6f-1ae8-4dfa-9476-c3a91fa2c9df",
   "metadata": {},
   "source": [
    "We can get the type of the object that was returned from the database:"
   ]
  },
  {
   "cell_type": "code",
   "execution_count": 17,
   "id": "deb0c5f3-2e18-4e7f-af8e-8b7526f36202",
   "metadata": {},
   "outputs": [
    {
     "data": {
      "text/plain": [
       "bw2data.backends.proxies.Activity"
      ]
     },
     "execution_count": 17,
     "metadata": {},
     "output_type": "execute_result"
    }
   ],
   "source": [
    "type(random_fg_activity)"
   ]
  },
  {
   "cell_type": "markdown",
   "id": "20ef14c0-7d77-4ab8-8437-04b2e837e1db",
   "metadata": {},
   "source": [
    "The type is an activity proxy. Activity proxies allow us to interact with the content of the database.\n",
    "\n",
    "To see what the activity contains, we can convert it to a dictionary:"
   ]
  },
  {
   "cell_type": "code",
   "execution_count": 18,
   "id": "fe5db813-196b-4a7a-9f4b-2a2b3b3f35ff",
   "metadata": {},
   "outputs": [
    {
     "data": {
      "text/plain": [
       "{'reference product': 'extra fuel consumption',\n",
       " 'code': 'HDV_B',\n",
       " 'location': 'NL',\n",
       " 'amount': 1,\n",
       " 'unit': 'kilometer',\n",
       " 'original_ConversionDem2FU': 1,\n",
       " 'name': 'asphalt, pvi, HDV',\n",
       " 'worksheet name': 'Foreground',\n",
       " 'database': 'asphalt',\n",
       " 'id': 25966}"
      ]
     },
     "execution_count": 18,
     "metadata": {},
     "output_type": "execute_result"
    }
   ],
   "source": [
    "random_fg_activity.as_dict()"
   ]
  },
  {
   "cell_type": "markdown",
   "id": "6f5f8f9d-b36c-4ffc-80c5-0e82b2fad0ef",
   "metadata": {},
   "source": [
    "We can get the value of each item by specifying its key. Example: let's get the value corresponding to the key 'location'"
   ]
  },
  {
   "cell_type": "code",
   "execution_count": 19,
   "id": "0c1305bc-048a-4a47-a340-32d2fc8b1746",
   "metadata": {},
   "outputs": [
    {
     "data": {
      "text/plain": [
       "'NL'"
      ]
     },
     "execution_count": 19,
     "metadata": {},
     "output_type": "execute_result"
    }
   ],
   "source": [
    "random_fg_activity['location']"
   ]
  },
  {
   "cell_type": "markdown",
   "id": "e260559b-6d40-4a1e-9b60-a851649ca6df",
   "metadata": {},
   "source": [
    "<span style='background:yellow'> Ended here </span> "
   ]
  },
  {
   "cell_type": "code",
   "execution_count": 23,
   "id": "7ac7fffb-a24c-4d73-9535-d88c9fe0253b",
   "metadata": {},
   "outputs": [],
   "source": [
    "pavement = fgdb.get('pavement_structure')"
   ]
  },
  {
   "cell_type": "code",
   "execution_count": 24,
   "id": "2f4f52f5-ee39-4f8c-97a2-40b5483a7a6d",
   "metadata": {},
   "outputs": [
    {
     "data": {
      "text/plain": [
       "'pavement structure' (kilometer, NL, None)"
      ]
     },
     "execution_count": 24,
     "metadata": {},
     "output_type": "execute_result"
    }
   ],
   "source": [
    "pavement"
   ]
  },
  {
   "cell_type": "code",
   "execution_count": 25,
   "id": "241130f5-15d6-4ae2-b403-6881a1e9ed1e",
   "metadata": {},
   "outputs": [
    {
     "name": "stdout",
     "output_type": "stream",
     "text": [
      "1: 'pavement structure' (kilometer, NL, None)\n",
      "  2.01e+06: 'AC Surf' (kilogram, NL, None)\n",
      "  2.72e+06: 'AC Bin' (kilogram, NL, None)\n",
      "  1.35e+07: 'AC Bin' (kilogram, NL, None)\n"
     ]
    }
   ],
   "source": [
    "bwa.print_recursive_supply_chain(pavement, max_level=1)"
   ]
  },
  {
   "cell_type": "code",
   "execution_count": 26,
   "id": "31868199-31a9-4166-bd06-7e34f175ef2d",
   "metadata": {},
   "outputs": [
    {
     "name": "stdout",
     "output_type": "stream",
     "text": [
      "1: 'pavement structure' (kilometer, NL, None)\n",
      "  2.01e+06: 'AC Surf' (kilogram, NL, None)\n",
      "    2.01e+06: 'AC Surf, materials and transport to plant' (kilogram, NL, None)\n",
      "    2.01e+06: 'AC Surf, production' (kilogram, NL, None)\n",
      "    2.01e+06: 'asphalt, transport to site' (kilogram, NL, None)\n",
      "    2.01e+06: 'asphalt, construction' (kilogram, NL, None)\n",
      "    0: 'asphalt, pvi, car' (kilometer, NL, None)\n",
      "    0: 'asphalt, pvi, HDV' (kilometer, NL, None)\n",
      "    0: 'asphalt, pvi, trailer' (kilometer, NL, None)\n",
      "    2.01e+06: 'asphalt, demolition' (kilogram, NL, None)\n",
      "    0: 'asphalt, transport to processing' (kilogram, NL, None)\n",
      "    0: 'asphalt, processing' (kilogram, NL, None)\n",
      "  2.72e+06: 'AC Bin' (kilogram, NL, None)\n",
      "    2.72e+06: 'AC Bin, materials and transport to plant' (kilogram, NL, None)\n",
      "    2.72e+06: 'AC Bin, production' (kilogram, NL, None)\n",
      "    2.72e+06: 'asphalt, transport to site' (kilogram, NL, None)\n",
      "    2.72e+06: 'asphalt, construction' (kilogram, NL, None)\n",
      "    0: 'asphalt, pvi, car' (kilometer, NL, None)\n",
      "    0: 'asphalt, pvi, HDV' (kilometer, NL, None)\n",
      "    0: 'asphalt, pvi, trailer' (kilometer, NL, None)\n",
      "    2.72e+06: 'asphalt, demolition' (kilogram, NL, None)\n",
      "    0: 'asphalt, transport to processing' (kilogram, NL, None)\n",
      "    0: 'asphalt, processing' (kilogram, NL, None)\n",
      "  1.35e+07: 'AC Bin' (kilogram, NL, None)\n",
      "    1.35e+07: 'AC Bin, materials and transport to plant' (kilogram, NL, None)\n",
      "    1.35e+07: 'AC Bin, production' (kilogram, NL, None)\n",
      "    1.35e+07: 'asphalt, transport to site' (kilogram, NL, None)\n",
      "    1.35e+07: 'asphalt, construction' (kilogram, NL, None)\n",
      "    0: 'asphalt, pvi, car' (kilometer, NL, None)\n",
      "    0: 'asphalt, pvi, HDV' (kilometer, NL, None)\n",
      "    0: 'asphalt, pvi, trailer' (kilometer, NL, None)\n",
      "    1.35e+07: 'asphalt, demolition' (kilogram, NL, None)\n",
      "    0: 'asphalt, transport to processing' (kilogram, NL, None)\n",
      "    0: 'asphalt, processing' (kilogram, NL, None)\n"
     ]
    }
   ],
   "source": [
    "bwa.print_recursive_supply_chain(pavement, max_level=2)"
   ]
  },
  {
   "cell_type": "code",
   "execution_count": 27,
   "id": "c125e187-fadf-433e-908f-1923760da3ea",
   "metadata": {},
   "outputs": [
    {
     "name": "stdout",
     "output_type": "stream",
     "text": [
      "1: 'pavement structure' (kilometer, NL, None)\n",
      "  2.01e+06: 'AC Surf' (kilogram, NL, None)\n",
      "    2.01e+06: 'AC Surf, materials and transport to plant' (kilogram, NL, None)\n",
      "      9.24e+04: 'bitumen, production and transport' (kilogram, NL, None)\n",
      "      5.91e+05: 'asphalt granulate, free of burden' (kilogram, NL, None)\n",
      "      7.35e+05: 'crushed stone, production and transport' (kilogram, NL, None)\n",
      "      5.18e+05: 'crushed sand, production and transport' (kilogram, NL, None)\n",
      "      1.81e+04: 'other fillers, production and transport' (kilogram, NL, None)\n",
      "      5.42e+04: 'weak filler' (kilogram, NL, None)\n",
      "    2.01e+06: 'AC Surf, production' (kilogram, NL, None)\n",
      "      1.18e+04: 'market for electricity, low voltage' (kilowatt hour, NL, None)\n",
      "      5.84e+05: 'heat production, natural gas, at industrial furnace >100kW' (megajoule, Europe without Switzerland, None)\n",
      "      8.63e+03: 'diesel, burned in building machine' (megajoule, GLO, None)\n",
      "    2.01e+06: 'asphalt, transport to site' (kilogram, NL, None)\n",
      "      6.69e+04: 'transport, freight, lorry >32 metric ton, EURO5' (ton kilometer, RER, None)\n",
      "      2.23e+04: 'transport, freight, lorry >32 metric ton, EURO6' (ton kilometer, RER, None)\n",
      "    2.01e+06: 'asphalt, construction' (kilogram, NL, None)\n",
      "      2.3e+04: 'diesel, burned in building machine' (megajoule, GLO, None)\n",
      "    0: 'asphalt, pvi, car' (kilometer, NL, None)\n",
      "      0: 'transport, passenger car, medium size, petrol, EURO 5' (kilometer, RER, None)\n",
      "    0: 'asphalt, pvi, HDV' (kilometer, NL, None)\n",
      "      0: 'transport, freight, lorry 7.5-16 metric ton, EURO5' (ton kilometer, RER, None)\n",
      "    0: 'asphalt, pvi, trailer' (kilometer, NL, None)\n",
      "      0: 'transport, freight, lorry 7.5-16 metric ton, EURO5' (ton kilometer, RER, None)\n",
      "    2.01e+06: 'asphalt, demolition' (kilogram, NL, None)\n",
      "      5.54e+04: 'diesel, burned in building machine' (megajoule, GLO, None)\n",
      "    0: 'asphalt, transport to processing' (kilogram, NL, None)\n",
      "      0: 'transport, freight, lorry >32 metric ton, EURO5' (ton kilometer, RER, None)\n",
      "      0: 'transport, freight, lorry >32 metric ton, EURO6' (ton kilometer, RER, None)\n",
      "    0: 'asphalt, processing' (kilogram, NL, None)\n",
      "      0: 'diesel, burned in building machine' (megajoule, GLO, None)\n",
      "  2.72e+06: 'AC Bin' (kilogram, NL, None)\n",
      "    2.72e+06: 'AC Bin, materials and transport to plant' (kilogram, NL, None)\n",
      "      5.44e+04: 'bitumen, production and transport' (kilogram, NL, None)\n",
      "      1.36e+06: 'asphalt granulate, free of burden' (kilogram, NL, None)\n",
      "      7.32e+05: 'crushed stone, production and transport' (kilogram, NL, None)\n",
      "      2.18e+04: 'other fillers, production and transport' (kilogram, NL, None)\n",
      "      5.22e+05: 'natural sand, production and transport' (kilogram, NL, None)\n",
      "      2.72e+04: 'weak filler, production and transport' (kilogram, NL, None)\n",
      "    2.72e+06: 'AC Bin, production' (kilogram, NL, None)\n",
      "      1.19e+04: 'market for electricity, low voltage' (kilowatt hour, NL, None)\n",
      "      7.98e+05: 'heat production, natural gas, at industrial furnace >100kW' (megajoule, Europe without Switzerland, None)\n",
      "      1.17e+04: 'diesel, burned in building machine' (megajoule, GLO, None)\n",
      "    2.72e+06: 'asphalt, transport to site' (kilogram, NL, None)\n",
      "      9.06e+04: 'transport, freight, lorry >32 metric ton, EURO5' (ton kilometer, RER, None)\n",
      "      3.02e+04: 'transport, freight, lorry >32 metric ton, EURO6' (ton kilometer, RER, None)\n",
      "    2.72e+06: 'asphalt, construction' (kilogram, NL, None)\n",
      "      3.12e+04: 'diesel, burned in building machine' (megajoule, GLO, None)\n",
      "    0: 'asphalt, pvi, car' (kilometer, NL, None)\n",
      "      0: 'transport, passenger car, medium size, petrol, EURO 5' (kilometer, RER, None)\n",
      "    0: 'asphalt, pvi, HDV' (kilometer, NL, None)\n",
      "      0: 'transport, freight, lorry 7.5-16 metric ton, EURO5' (ton kilometer, RER, None)\n",
      "    0: 'asphalt, pvi, trailer' (kilometer, NL, None)\n",
      "      0: 'transport, freight, lorry 7.5-16 metric ton, EURO5' (ton kilometer, RER, None)\n",
      "    2.72e+06: 'asphalt, demolition' (kilogram, NL, None)\n",
      "      7.5e+04: 'diesel, burned in building machine' (megajoule, GLO, None)\n",
      "    0: 'asphalt, transport to processing' (kilogram, NL, None)\n",
      "      0: 'transport, freight, lorry >32 metric ton, EURO5' (ton kilometer, RER, None)\n",
      "      0: 'transport, freight, lorry >32 metric ton, EURO6' (ton kilometer, RER, None)\n",
      "    0: 'asphalt, processing' (kilogram, NL, None)\n",
      "      0: 'diesel, burned in building machine' (megajoule, GLO, None)\n",
      "  1.35e+07: 'AC Bin' (kilogram, NL, None)\n",
      "    1.35e+07: 'AC Bin, materials and transport to plant' (kilogram, NL, None)\n",
      "      2.71e+05: 'bitumen, production and transport' (kilogram, NL, None)\n",
      "      6.79e+06: 'asphalt granulate, free of burden' (kilogram, NL, None)\n",
      "      3.64e+06: 'crushed stone, production and transport' (kilogram, NL, None)\n",
      "      1.08e+05: 'other fillers, production and transport' (kilogram, NL, None)\n",
      "      2.6e+06: 'natural sand, production and transport' (kilogram, NL, None)\n",
      "      1.35e+05: 'weak filler, production and transport' (kilogram, NL, None)\n",
      "    1.35e+07: 'AC Bin, production' (kilogram, NL, None)\n",
      "      5.95e+04: 'market for electricity, low voltage' (kilowatt hour, NL, None)\n",
      "      3.97e+06: 'heat production, natural gas, at industrial furnace >100kW' (megajoule, Europe without Switzerland, None)\n",
      "      5.82e+04: 'diesel, burned in building machine' (megajoule, GLO, None)\n",
      "    1.35e+07: 'asphalt, transport to site' (kilogram, NL, None)\n",
      "      4.51e+05: 'transport, freight, lorry >32 metric ton, EURO5' (ton kilometer, RER, None)\n",
      "      1.5e+05: 'transport, freight, lorry >32 metric ton, EURO6' (ton kilometer, RER, None)\n",
      "    1.35e+07: 'asphalt, construction' (kilogram, NL, None)\n",
      "      1.55e+05: 'diesel, burned in building machine' (megajoule, GLO, None)\n",
      "    0: 'asphalt, pvi, car' (kilometer, NL, None)\n",
      "      0: 'transport, passenger car, medium size, petrol, EURO 5' (kilometer, RER, None)\n",
      "    0: 'asphalt, pvi, HDV' (kilometer, NL, None)\n",
      "      0: 'transport, freight, lorry 7.5-16 metric ton, EURO5' (ton kilometer, RER, None)\n",
      "    0: 'asphalt, pvi, trailer' (kilometer, NL, None)\n",
      "      0: 'transport, freight, lorry 7.5-16 metric ton, EURO5' (ton kilometer, RER, None)\n",
      "    1.35e+07: 'asphalt, demolition' (kilogram, NL, None)\n",
      "      3.73e+05: 'diesel, burned in building machine' (megajoule, GLO, None)\n",
      "    0: 'asphalt, transport to processing' (kilogram, NL, None)\n",
      "      0: 'transport, freight, lorry >32 metric ton, EURO5' (ton kilometer, RER, None)\n",
      "      0: 'transport, freight, lorry >32 metric ton, EURO6' (ton kilometer, RER, None)\n",
      "    0: 'asphalt, processing' (kilogram, NL, None)\n",
      "      0: 'diesel, burned in building machine' (megajoule, GLO, None)\n"
     ]
    }
   ],
   "source": [
    "bwa.print_recursive_supply_chain(pavement, max_level=3)"
   ]
  },
  {
   "cell_type": "code",
   "execution_count": 28,
   "id": "e0cd6743-c481-4830-b60b-c998a430c897",
   "metadata": {},
   "outputs": [
    {
     "name": "stdout",
     "output_type": "stream",
     "text": [
      "1: 'pavement structure' (kilometer, NL, None)\n",
      "  2.01e+06: 'AC Surf' (kilogram, NL, None)\n",
      "    2.01e+06: 'AC Surf, materials and transport to plant' (kilogram, NL, None)\n",
      "      9.24e+04: 'bitumen, production and transport' (kilogram, NL, None)\n",
      "        9.24e+04: 'bitumen adhesive compound production, hot' (kilogram, RER, None)\n",
      "        2.31e+04: 'market for transport, freight, lorry, unspecified' (ton kilometer, RER, None)\n",
      "      5.91e+05: 'asphalt granulate, free of burden' (kilogram, NL, None)\n",
      "      7.35e+05: 'crushed stone, production and transport' (kilogram, NL, None)\n",
      "        7.35e+05: 'gravel production, crushed' (kilogram, RoW, None)\n",
      "        1.84e+04: 'market for transport, freight, lorry, unspecified' (ton kilometer, RER, None)\n",
      "        4.85e+05: 'market for transport, freight, inland waterways, barge' (ton kilometer, RER, None)\n",
      "      5.18e+05: 'crushed sand, production and transport' (kilogram, NL, None)\n",
      "        5.18e+05: 'gravel production, crushed' (kilogram, RoW, None)\n",
      "        1.3e+04: 'market for transport, freight, lorry, unspecified' (ton kilometer, RER, None)\n",
      "        3.42e+05: 'market for transport, freight, inland waterways, barge' (ton kilometer, RER, None)\n",
      "      1.81e+04: 'other fillers, production and transport' (kilogram, NL, None)\n",
      "        1.81e+04: 'gravel production, crushed' (kilogram, RoW, None)\n",
      "        452: 'market for transport, freight, lorry, unspecified' (ton kilometer, RER, None)\n",
      "        2.71e+03: 'market for transport, freight, inland waterways, barge' (ton kilometer, RER, None)\n",
      "      5.42e+04: 'weak filler' (kilogram, NL, None)\n",
      "        4.88e+04: 'lime production, milled, loose' (kilogram, RoW, None)\n",
      "        5.42e+03: 'market for lime, hydrated, packed' (kilogram, RoW, None)\n",
      "    2.01e+06: 'AC Surf, production' (kilogram, NL, None)\n",
      "      1.18e+04: 'market for electricity, low voltage' (kilowatt hour, NL, None)\n",
      "        0.00105: 'market for distribution network, electricity, low voltage' (kilometer, GLO, None)\n",
      "        455: 'electricity production, photovoltaic, 3kWp slanted-roof installation, single-Si, panel, mounted' (kilowatt hour, NL,\n",
      "        565: 'electricity production, photovoltaic, 3kWp slanted-roof installation, multi-Si, panel, mounted' (kilowatt hour, NL, \n",
      "        13.9: 'electricity production, photovoltaic, 570kWp open ground installation, multi-Si' (kilowatt hour, NL, None)\n",
      "        1.1e+04: 'electricity voltage transformation from medium to low voltage' (kilowatt hour, NL, None)\n",
      "        7.53e-05: 'market for sulfur hexafluoride, liquid' (kilogram, RER, None)\n",
      "      5.84e+05: 'heat production, natural gas, at industrial furnace >100kW' (megajoule, Europe without Switzerland, None)\n",
      "        683: 'market group for electricity, low voltage' (kilowatt hour, Europe without Switzerland, None)\n",
      "        0.00172: 'industrial furnace production, natural gas' (unit, RER, None)\n",
      "        1.59e+04: 'market group for natural gas, high pressure' (cubic meter, Europe without Switzerland, None)\n",
      "      8.63e+03: 'diesel, burned in building machine' (megajoule, GLO, None)\n",
      "        0.00116: 'market for building machine' (unit, GLO, None)\n",
      "        202: 'market group for diesel' (kilogram, GLO, None)\n",
      "        0.772: 'market for lubricating oil' (kilogram, RER, None)\n",
      "        3.66: 'market for lubricating oil' (kilogram, RoW, None)\n",
      "        -3.19: 'market for waste mineral oil' (kilogram, RoW, None)\n",
      "        -1.22: 'market for waste mineral oil' (kilogram, Europe without Switzerland, None)\n",
      "        -0.0301: 'market for waste mineral oil' (kilogram, CH, None)\n",
      "    2.01e+06: 'asphalt, transport to site' (kilogram, NL, None)\n",
      "      6.69e+04: 'transport, freight, lorry >32 metric ton, EURO5' (ton kilometer, RER, None)\n",
      "        -1.02: 'market for brake wear emissions, lorry' (kilogram, GLO, None)\n",
      "        1.28e+03: 'market group for diesel, low-sulfur' (kilogram, RER, None)\n",
      "        0.00646: 'market for lorry, 40 metric ton' (unit, RER, None)\n",
      "        0.00646: 'market for maintenance, lorry 40 metric ton' (unit, GLO, None)\n",
      "        72.9: 'market for road' (meter-year, GLO, None)\n",
      "        5.41: 'market for road maintenance' (meter-year, RER, None)\n",
      "        -0.879: 'market for road wear emissions, lorry' (kilogram, GLO, None)\n",
      "        -10.1: 'market for tyre wear emissions, lorry' (kilogram, GLO, None)\n",
      "      2.23e+04: 'transport, freight, lorry >32 metric ton, EURO6' (ton kilometer, RER, None)\n",
      "        -0.34: 'market for brake wear emissions, lorry' (kilogram, GLO, None)\n",
      "        428: 'market group for diesel, low-sulfur' (kilogram, RER, None)\n",
      "        0.00215: 'market for lorry, 40 metric ton' (unit, RER, None)\n",
      "        0.00215: 'market for maintenance, lorry 40 metric ton' (unit, GLO, None)\n",
      "        24.3: 'market for road' (meter-year, GLO, None)\n",
      "        1.8: 'market for road maintenance' (meter-year, RER, None)\n",
      "        -0.293: 'market for road wear emissions, lorry' (kilogram, GLO, None)\n",
      "        -3.37: 'market for tyre wear emissions, lorry' (kilogram, GLO, None)\n",
      "    2.01e+06: 'asphalt, construction' (kilogram, NL, None)\n",
      "      2.3e+04: 'diesel, burned in building machine' (megajoule, GLO, None)\n",
      "        0.00309: 'market for building machine' (unit, GLO, None)\n",
      "        539: 'market group for diesel' (kilogram, GLO, None)\n",
      "        2.06: 'market for lubricating oil' (kilogram, RER, None)\n",
      "        9.78: 'market for lubricating oil' (kilogram, RoW, None)\n",
      "        -8.51: 'market for waste mineral oil' (kilogram, RoW, None)\n",
      "        -3.25: 'market for waste mineral oil' (kilogram, Europe without Switzerland, None)\n",
      "        -0.0804: 'market for waste mineral oil' (kilogram, CH, None)\n",
      "    0: 'asphalt, pvi, car' (kilometer, NL, None)\n",
      "      0: 'transport, passenger car, medium size, petrol, EURO 5' (kilometer, RER, None)\n",
      "        -0: 'market for brake wear emissions, passenger car' (kilogram, GLO, None)\n",
      "        0: 'maintenance, passenger car' (unit, RER, None)\n",
      "        0: 'market for passenger car, petrol/natural gas' (kilogram, GLO, None)\n",
      "        0: 'market for petrol, low-sulfur' (kilogram, Europe without Switzerland, None)\n",
      "        0: 'market for petrol, low-sulfur' (kilogram, CH, None)\n",
      "        0: 'market for road' (meter-year, GLO, None)\n",
      "        0: 'market for road maintenance' (meter-year, RER, None)\n",
      "        -0: 'market for road wear emissions, passenger car' (kilogram, GLO, None)\n",
      "        -0: 'market for tyre wear emissions, passenger car' (kilogram, GLO, None)\n",
      "    0: 'asphalt, pvi, HDV' (kilometer, NL, None)\n",
      "      0: 'transport, freight, lorry 7.5-16 metric ton, EURO5' (ton kilometer, RER, None)\n",
      "        -0: 'market for brake wear emissions, lorry' (kilogram, GLO, None)\n",
      "        0: 'market group for diesel, low-sulfur' (kilogram, RER, None)\n",
      "        0: 'market for lorry, 16 metric ton' (unit, RER, None)\n",
      "        0: 'market for maintenance, lorry 16 metric ton' (unit, RER, None)\n",
      "        0: 'market for road' (meter-year, GLO, None)\n",
      "        0: 'market for road maintenance' (meter-year, RER, None)\n",
      "        -0: 'market for road wear emissions, lorry' (kilogram, GLO, None)\n",
      "        -0: 'market for tyre wear emissions, lorry' (kilogram, GLO, None)\n",
      "    0: 'asphalt, pvi, trailer' (kilometer, NL, None)\n",
      "      0: 'transport, freight, lorry 7.5-16 metric ton, EURO5' (ton kilometer, RER, None)\n",
      "        -0: 'market for brake wear emissions, lorry' (kilogram, GLO, None)\n",
      "        0: 'market group for diesel, low-sulfur' (kilogram, RER, None)\n",
      "        0: 'market for lorry, 16 metric ton' (unit, RER, None)\n",
      "        0: 'market for maintenance, lorry 16 metric ton' (unit, RER, None)\n",
      "        0: 'market for road' (meter-year, GLO, None)\n",
      "        0: 'market for road maintenance' (meter-year, RER, None)\n",
      "        -0: 'market for road wear emissions, lorry' (kilogram, GLO, None)\n",
      "        -0: 'market for tyre wear emissions, lorry' (kilogram, GLO, None)\n",
      "    2.01e+06: 'asphalt, demolition' (kilogram, NL, None)\n",
      "      5.54e+04: 'diesel, burned in building machine' (megajoule, GLO, None)\n",
      "        0.00742: 'market for building machine' (unit, GLO, None)\n",
      "        1.3e+03: 'market group for diesel' (kilogram, GLO, None)\n",
      "        4.95: 'market for lubricating oil' (kilogram, RER, None)\n",
      "        23.5: 'market for lubricating oil' (kilogram, RoW, None)\n",
      "        -20.5: 'market for waste mineral oil' (kilogram, RoW, None)\n",
      "        -7.81: 'market for waste mineral oil' (kilogram, Europe without Switzerland, None)\n",
      "        -0.193: 'market for waste mineral oil' (kilogram, CH, None)\n",
      "    0: 'asphalt, transport to processing' (kilogram, NL, None)\n",
      "      0: 'transport, freight, lorry >32 metric ton, EURO5' (ton kilometer, RER, None)\n",
      "        -0: 'market for brake wear emissions, lorry' (kilogram, GLO, None)\n",
      "        0: 'market group for diesel, low-sulfur' (kilogram, RER, None)\n",
      "        0: 'market for lorry, 40 metric ton' (unit, RER, None)\n",
      "        0: 'market for maintenance, lorry 40 metric ton' (unit, GLO, None)\n",
      "        0: 'market for road' (meter-year, GLO, None)\n",
      "        0: 'market for road maintenance' (meter-year, RER, None)\n",
      "        -0: 'market for road wear emissions, lorry' (kilogram, GLO, None)\n",
      "        -0: 'market for tyre wear emissions, lorry' (kilogram, GLO, None)\n",
      "      0: 'transport, freight, lorry >32 metric ton, EURO6' (ton kilometer, RER, None)\n",
      "        -0: 'market for brake wear emissions, lorry' (kilogram, GLO, None)\n",
      "        0: 'market group for diesel, low-sulfur' (kilogram, RER, None)\n",
      "        0: 'market for lorry, 40 metric ton' (unit, RER, None)\n",
      "        0: 'market for maintenance, lorry 40 metric ton' (unit, GLO, None)\n",
      "        0: 'market for road' (meter-year, GLO, None)\n",
      "        0: 'market for road maintenance' (meter-year, RER, None)\n",
      "        -0: 'market for road wear emissions, lorry' (kilogram, GLO, None)\n",
      "        -0: 'market for tyre wear emissions, lorry' (kilogram, GLO, None)\n",
      "    0: 'asphalt, processing' (kilogram, NL, None)\n",
      "      0: 'diesel, burned in building machine' (megajoule, GLO, None)\n",
      "        0: 'market for building machine' (unit, GLO, None)\n",
      "        0: 'market group for diesel' (kilogram, GLO, None)\n",
      "        0: 'market for lubricating oil' (kilogram, RER, None)\n",
      "        0: 'market for lubricating oil' (kilogram, RoW, None)\n",
      "        -0: 'market for waste mineral oil' (kilogram, RoW, None)\n",
      "        -0: 'market for waste mineral oil' (kilogram, Europe without Switzerland, None)\n",
      "        -0: 'market for waste mineral oil' (kilogram, CH, None)\n",
      "  2.72e+06: 'AC Bin' (kilogram, NL, None)\n",
      "    2.72e+06: 'AC Bin, materials and transport to plant' (kilogram, NL, None)\n",
      "      5.44e+04: 'bitumen, production and transport' (kilogram, NL, None)\n",
      "        5.44e+04: 'bitumen adhesive compound production, hot' (kilogram, RER, None)\n",
      "        1.36e+04: 'market for transport, freight, lorry, unspecified' (ton kilometer, RER, None)\n",
      "      1.36e+06: 'asphalt granulate, free of burden' (kilogram, NL, None)\n",
      "      7.32e+05: 'crushed stone, production and transport' (kilogram, NL, None)\n",
      "        7.32e+05: 'gravel production, crushed' (kilogram, RoW, None)\n",
      "        1.83e+04: 'market for transport, freight, lorry, unspecified' (ton kilometer, RER, None)\n",
      "        4.83e+05: 'market for transport, freight, inland waterways, barge' (ton kilometer, RER, None)\n",
      "      2.18e+04: 'other fillers, production and transport' (kilogram, NL, None)\n",
      "        2.18e+04: 'gravel production, crushed' (kilogram, RoW, None)\n",
      "        544: 'market for transport, freight, lorry, unspecified' (ton kilometer, RER, None)\n",
      "        3.26e+03: 'market for transport, freight, inland waterways, barge' (ton kilometer, RER, None)\n",
      "      5.22e+05: 'natural sand, production and transport' (kilogram, NL, None)\n",
      "        5.22e+05: 'market for sand' (kilogram, RoW, None)\n",
      "        1.31e+04: 'market for transport, freight, lorry, unspecified' (ton kilometer, RER, None)\n",
      "        7.83e+04: 'market for transport, freight, inland waterways, barge' (ton kilometer, RER, None)\n",
      "      2.72e+04: 'weak filler, production and transport' (kilogram, NL, None)\n",
      "        2.72e+04: 'weak filler' (kilogram, NL, None)\n",
      "        3.7e+03: 'market for transport, freight, lorry, unspecified' (ton kilometer, RER, None)\n",
      "    2.72e+06: 'AC Bin, production' (kilogram, NL, None)\n",
      "      1.19e+04: 'market for electricity, low voltage' (kilowatt hour, NL, None)\n",
      "        0.00106: 'market for distribution network, electricity, low voltage' (kilometer, GLO, None)\n",
      "        459: 'electricity production, photovoltaic, 3kWp slanted-roof installation, single-Si, panel, mounted' (kilowatt hour, NL,\n",
      "        571: 'electricity production, photovoltaic, 3kWp slanted-roof installation, multi-Si, panel, mounted' (kilowatt hour, NL, \n",
      "        14: 'electricity production, photovoltaic, 570kWp open ground installation, multi-Si' (kilowatt hour, NL, None)\n",
      "        1.11e+04: 'electricity voltage transformation from medium to low voltage' (kilowatt hour, NL, None)\n",
      "        7.61e-05: 'market for sulfur hexafluoride, liquid' (kilogram, RER, None)\n",
      "      7.98e+05: 'heat production, natural gas, at industrial furnace >100kW' (megajoule, Europe without Switzerland, None)\n",
      "        932: 'market group for electricity, low voltage' (kilowatt hour, Europe without Switzerland, None)\n",
      "        0.00235: 'industrial furnace production, natural gas' (unit, RER, None)\n",
      "        2.17e+04: 'market group for natural gas, high pressure' (cubic meter, Europe without Switzerland, None)\n",
      "      1.17e+04: 'diesel, burned in building machine' (megajoule, GLO, None)\n",
      "        0.00157: 'market for building machine' (unit, GLO, None)\n",
      "        273: 'market group for diesel' (kilogram, GLO, None)\n",
      "        1.04: 'market for lubricating oil' (kilogram, RER, None)\n",
      "        4.96: 'market for lubricating oil' (kilogram, RoW, None)\n",
      "        -4.32: 'market for waste mineral oil' (kilogram, RoW, None)\n",
      "        -1.65: 'market for waste mineral oil' (kilogram, Europe without Switzerland, None)\n",
      "        -0.0408: 'market for waste mineral oil' (kilogram, CH, None)\n",
      "    2.72e+06: 'asphalt, transport to site' (kilogram, NL, None)\n",
      "      9.06e+04: 'transport, freight, lorry >32 metric ton, EURO5' (ton kilometer, RER, None)\n",
      "        -1.38: 'market for brake wear emissions, lorry' (kilogram, GLO, None)\n",
      "        1.74e+03: 'market group for diesel, low-sulfur' (kilogram, RER, None)\n",
      "        0.00874: 'market for lorry, 40 metric ton' (unit, RER, None)\n",
      "        0.00874: 'market for maintenance, lorry 40 metric ton' (unit, GLO, None)\n",
      "        98.7: 'market for road' (meter-year, GLO, None)\n",
      "        7.33: 'market for road maintenance' (meter-year, RER, None)\n",
      "        -1.19: 'market for road wear emissions, lorry' (kilogram, GLO, None)\n",
      "        -13.7: 'market for tyre wear emissions, lorry' (kilogram, GLO, None)\n",
      "      3.02e+04: 'transport, freight, lorry >32 metric ton, EURO6' (ton kilometer, RER, None)\n",
      "        -0.461: 'market for brake wear emissions, lorry' (kilogram, GLO, None)\n",
      "        579: 'market group for diesel, low-sulfur' (kilogram, RER, None)\n",
      "        0.00291: 'market for lorry, 40 metric ton' (unit, RER, None)\n",
      "        0.00291: 'market for maintenance, lorry 40 metric ton' (unit, GLO, None)\n",
      "        32.9: 'market for road' (meter-year, GLO, None)\n",
      "        2.44: 'market for road maintenance' (meter-year, RER, None)\n",
      "        -0.397: 'market for road wear emissions, lorry' (kilogram, GLO, None)\n",
      "        -4.56: 'market for tyre wear emissions, lorry' (kilogram, GLO, None)\n",
      "    2.72e+06: 'asphalt, construction' (kilogram, NL, None)\n",
      "      3.12e+04: 'diesel, burned in building machine' (megajoule, GLO, None)\n",
      "        0.00418: 'market for building machine' (unit, GLO, None)\n",
      "        729: 'market group for diesel' (kilogram, GLO, None)\n",
      "        2.79: 'market for lubricating oil' (kilogram, RER, None)\n",
      "        13.2: 'market for lubricating oil' (kilogram, RoW, None)\n",
      "        -11.5: 'market for waste mineral oil' (kilogram, RoW, None)\n",
      "        -4.4: 'market for waste mineral oil' (kilogram, Europe without Switzerland, None)\n",
      "        -0.109: 'market for waste mineral oil' (kilogram, CH, None)\n",
      "    0: 'asphalt, pvi, car' (kilometer, NL, None)\n",
      "      0: 'transport, passenger car, medium size, petrol, EURO 5' (kilometer, RER, None)\n",
      "        -0: 'market for brake wear emissions, passenger car' (kilogram, GLO, None)\n",
      "        0: 'maintenance, passenger car' (unit, RER, None)\n",
      "        0: 'market for passenger car, petrol/natural gas' (kilogram, GLO, None)\n",
      "        0: 'market for petrol, low-sulfur' (kilogram, Europe without Switzerland, None)\n",
      "        0: 'market for petrol, low-sulfur' (kilogram, CH, None)\n",
      "        0: 'market for road' (meter-year, GLO, None)\n",
      "        0: 'market for road maintenance' (meter-year, RER, None)\n",
      "        -0: 'market for road wear emissions, passenger car' (kilogram, GLO, None)\n",
      "        -0: 'market for tyre wear emissions, passenger car' (kilogram, GLO, None)\n",
      "    0: 'asphalt, pvi, HDV' (kilometer, NL, None)\n",
      "      0: 'transport, freight, lorry 7.5-16 metric ton, EURO5' (ton kilometer, RER, None)\n",
      "        -0: 'market for brake wear emissions, lorry' (kilogram, GLO, None)\n",
      "        0: 'market group for diesel, low-sulfur' (kilogram, RER, None)\n",
      "        0: 'market for lorry, 16 metric ton' (unit, RER, None)\n",
      "        0: 'market for maintenance, lorry 16 metric ton' (unit, RER, None)\n",
      "        0: 'market for road' (meter-year, GLO, None)\n",
      "        0: 'market for road maintenance' (meter-year, RER, None)\n",
      "        -0: 'market for road wear emissions, lorry' (kilogram, GLO, None)\n",
      "        -0: 'market for tyre wear emissions, lorry' (kilogram, GLO, None)\n",
      "    0: 'asphalt, pvi, trailer' (kilometer, NL, None)\n",
      "      0: 'transport, freight, lorry 7.5-16 metric ton, EURO5' (ton kilometer, RER, None)\n",
      "        -0: 'market for brake wear emissions, lorry' (kilogram, GLO, None)\n",
      "        0: 'market group for diesel, low-sulfur' (kilogram, RER, None)\n",
      "        0: 'market for lorry, 16 metric ton' (unit, RER, None)\n",
      "        0: 'market for maintenance, lorry 16 metric ton' (unit, RER, None)\n",
      "        0: 'market for road' (meter-year, GLO, None)\n",
      "        0: 'market for road maintenance' (meter-year, RER, None)\n",
      "        -0: 'market for road wear emissions, lorry' (kilogram, GLO, None)\n",
      "        -0: 'market for tyre wear emissions, lorry' (kilogram, GLO, None)\n",
      "    2.72e+06: 'asphalt, demolition' (kilogram, NL, None)\n",
      "      7.5e+04: 'diesel, burned in building machine' (megajoule, GLO, None)\n",
      "        0.01: 'market for building machine' (unit, GLO, None)\n",
      "        1.75e+03: 'market group for diesel' (kilogram, GLO, None)\n",
      "        6.7: 'market for lubricating oil' (kilogram, RER, None)\n",
      "        31.8: 'market for lubricating oil' (kilogram, RoW, None)\n",
      "        -27.7: 'market for waste mineral oil' (kilogram, RoW, None)\n",
      "        -10.6: 'market for waste mineral oil' (kilogram, Europe without Switzerland, None)\n",
      "        -0.262: 'market for waste mineral oil' (kilogram, CH, None)\n",
      "    0: 'asphalt, transport to processing' (kilogram, NL, None)\n",
      "      0: 'transport, freight, lorry >32 metric ton, EURO5' (ton kilometer, RER, None)\n",
      "        -0: 'market for brake wear emissions, lorry' (kilogram, GLO, None)\n",
      "        0: 'market group for diesel, low-sulfur' (kilogram, RER, None)\n",
      "        0: 'market for lorry, 40 metric ton' (unit, RER, None)\n",
      "        0: 'market for maintenance, lorry 40 metric ton' (unit, GLO, None)\n",
      "        0: 'market for road' (meter-year, GLO, None)\n",
      "        0: 'market for road maintenance' (meter-year, RER, None)\n",
      "        -0: 'market for road wear emissions, lorry' (kilogram, GLO, None)\n",
      "        -0: 'market for tyre wear emissions, lorry' (kilogram, GLO, None)\n",
      "      0: 'transport, freight, lorry >32 metric ton, EURO6' (ton kilometer, RER, None)\n",
      "        -0: 'market for brake wear emissions, lorry' (kilogram, GLO, None)\n",
      "        0: 'market group for diesel, low-sulfur' (kilogram, RER, None)\n",
      "        0: 'market for lorry, 40 metric ton' (unit, RER, None)\n",
      "        0: 'market for maintenance, lorry 40 metric ton' (unit, GLO, None)\n",
      "        0: 'market for road' (meter-year, GLO, None)\n",
      "        0: 'market for road maintenance' (meter-year, RER, None)\n",
      "        -0: 'market for road wear emissions, lorry' (kilogram, GLO, None)\n",
      "        -0: 'market for tyre wear emissions, lorry' (kilogram, GLO, None)\n",
      "    0: 'asphalt, processing' (kilogram, NL, None)\n",
      "      0: 'diesel, burned in building machine' (megajoule, GLO, None)\n",
      "        0: 'market for building machine' (unit, GLO, None)\n",
      "        0: 'market group for diesel' (kilogram, GLO, None)\n",
      "        0: 'market for lubricating oil' (kilogram, RER, None)\n",
      "        0: 'market for lubricating oil' (kilogram, RoW, None)\n",
      "        -0: 'market for waste mineral oil' (kilogram, RoW, None)\n",
      "        -0: 'market for waste mineral oil' (kilogram, Europe without Switzerland, None)\n",
      "        -0: 'market for waste mineral oil' (kilogram, CH, None)\n",
      "  1.35e+07: 'AC Bin' (kilogram, NL, None)\n",
      "    1.35e+07: 'AC Bin, materials and transport to plant' (kilogram, NL, None)\n",
      "      2.71e+05: 'bitumen, production and transport' (kilogram, NL, None)\n",
      "        2.71e+05: 'bitumen adhesive compound production, hot' (kilogram, RER, None)\n",
      "        6.77e+04: 'market for transport, freight, lorry, unspecified' (ton kilometer, RER, None)\n",
      "      6.79e+06: 'asphalt granulate, free of burden' (kilogram, NL, None)\n",
      "      3.64e+06: 'crushed stone, production and transport' (kilogram, NL, None)\n",
      "        3.64e+06: 'gravel production, crushed' (kilogram, RoW, None)\n",
      "        9.11e+04: 'market for transport, freight, lorry, unspecified' (ton kilometer, RER, None)\n",
      "        2.4e+06: 'market for transport, freight, inland waterways, barge' (ton kilometer, RER, None)\n",
      "      1.08e+05: 'other fillers, production and transport' (kilogram, NL, None)\n",
      "        1.08e+05: 'gravel production, crushed' (kilogram, RoW, None)\n",
      "        2.71e+03: 'market for transport, freight, lorry, unspecified' (ton kilometer, RER, None)\n",
      "        1.63e+04: 'market for transport, freight, inland waterways, barge' (ton kilometer, RER, None)\n",
      "      2.6e+06: 'natural sand, production and transport' (kilogram, NL, None)\n",
      "        2.6e+06: 'market for sand' (kilogram, RoW, None)\n",
      "        6.5e+04: 'market for transport, freight, lorry, unspecified' (ton kilometer, RER, None)\n",
      "        3.9e+05: 'market for transport, freight, inland waterways, barge' (ton kilometer, RER, None)\n",
      "      1.35e+05: 'weak filler, production and transport' (kilogram, NL, None)\n",
      "        1.35e+05: 'weak filler' (kilogram, NL, None)\n",
      "        1.84e+04: 'market for transport, freight, lorry, unspecified' (ton kilometer, RER, None)\n",
      "    1.35e+07: 'AC Bin, production' (kilogram, NL, None)\n",
      "      5.95e+04: 'market for electricity, low voltage' (kilowatt hour, NL, None)\n",
      "        0.00528: 'market for distribution network, electricity, low voltage' (kilometer, GLO, None)\n",
      "        2.29e+03: 'electricity production, photovoltaic, 3kWp slanted-roof installation, single-Si, panel, mounted' (kilowatt hour\n",
      "        2.85e+03: 'electricity production, photovoltaic, 3kWp slanted-roof installation, multi-Si, panel, mounted' (kilowatt hour,\n",
      "        69.7: 'electricity production, photovoltaic, 570kWp open ground installation, multi-Si' (kilowatt hour, NL, None)\n",
      "        5.52e+04: 'electricity voltage transformation from medium to low voltage' (kilowatt hour, NL, None)\n",
      "        0.000379: 'market for sulfur hexafluoride, liquid' (kilogram, RER, None)\n",
      "      3.97e+06: 'heat production, natural gas, at industrial furnace >100kW' (megajoule, Europe without Switzerland, None)\n",
      "        4.64e+03: 'market group for electricity, low voltage' (kilowatt hour, Europe without Switzerland, None)\n",
      "        0.0117: 'industrial furnace production, natural gas' (unit, RER, None)\n",
      "        1.08e+05: 'market group for natural gas, high pressure' (cubic meter, Europe without Switzerland, None)\n",
      "      5.82e+04: 'diesel, burned in building machine' (megajoule, GLO, None)\n",
      "        0.0078: 'market for building machine' (unit, GLO, None)\n",
      "        1.36e+03: 'market group for diesel' (kilogram, GLO, None)\n",
      "        5.2: 'market for lubricating oil' (kilogram, RER, None)\n",
      "        24.7: 'market for lubricating oil' (kilogram, RoW, None)\n",
      "        -21.5: 'market for waste mineral oil' (kilogram, RoW, None)\n",
      "        -8.21: 'market for waste mineral oil' (kilogram, Europe without Switzerland, None)\n",
      "        -0.203: 'market for waste mineral oil' (kilogram, CH, None)\n",
      "    1.35e+07: 'asphalt, transport to site' (kilogram, NL, None)\n",
      "      4.51e+05: 'transport, freight, lorry >32 metric ton, EURO5' (ton kilometer, RER, None)\n",
      "        -6.88: 'market for brake wear emissions, lorry' (kilogram, GLO, None)\n",
      "        8.65e+03: 'market group for diesel, low-sulfur' (kilogram, RER, None)\n",
      "        0.0435: 'market for lorry, 40 metric ton' (unit, RER, None)\n",
      "        0.0435: 'market for maintenance, lorry 40 metric ton' (unit, GLO, None)\n",
      "        492: 'market for road' (meter-year, GLO, None)\n",
      "        36.5: 'market for road maintenance' (meter-year, RER, None)\n",
      "        -5.93: 'market for road wear emissions, lorry' (kilogram, GLO, None)\n",
      "        -68.2: 'market for tyre wear emissions, lorry' (kilogram, GLO, None)\n",
      "      1.5e+05: 'transport, freight, lorry >32 metric ton, EURO6' (ton kilometer, RER, None)\n",
      "        -2.29: 'market for brake wear emissions, lorry' (kilogram, GLO, None)\n",
      "        2.89e+03: 'market group for diesel, low-sulfur' (kilogram, RER, None)\n",
      "        0.0145: 'market for lorry, 40 metric ton' (unit, RER, None)\n",
      "        0.0145: 'market for maintenance, lorry 40 metric ton' (unit, GLO, None)\n",
      "        164: 'market for road' (meter-year, GLO, None)\n",
      "        12.2: 'market for road maintenance' (meter-year, RER, None)\n",
      "        -1.98: 'market for road wear emissions, lorry' (kilogram, GLO, None)\n",
      "        -22.7: 'market for tyre wear emissions, lorry' (kilogram, GLO, None)\n",
      "    1.35e+07: 'asphalt, construction' (kilogram, NL, None)\n",
      "      1.55e+05: 'diesel, burned in building machine' (megajoule, GLO, None)\n",
      "        0.0208: 'market for building machine' (unit, GLO, None)\n",
      "        3.63e+03: 'market group for diesel' (kilogram, GLO, None)\n",
      "        13.9: 'market for lubricating oil' (kilogram, RER, None)\n",
      "        65.9: 'market for lubricating oil' (kilogram, RoW, None)\n",
      "        -57.3: 'market for waste mineral oil' (kilogram, RoW, None)\n",
      "        -21.9: 'market for waste mineral oil' (kilogram, Europe without Switzerland, None)\n",
      "        -0.542: 'market for waste mineral oil' (kilogram, CH, None)\n",
      "    0: 'asphalt, pvi, car' (kilometer, NL, None)\n",
      "      0: 'transport, passenger car, medium size, petrol, EURO 5' (kilometer, RER, None)\n",
      "        -0: 'market for brake wear emissions, passenger car' (kilogram, GLO, None)\n",
      "        0: 'maintenance, passenger car' (unit, RER, None)\n",
      "        0: 'market for passenger car, petrol/natural gas' (kilogram, GLO, None)\n",
      "        0: 'market for petrol, low-sulfur' (kilogram, Europe without Switzerland, None)\n",
      "        0: 'market for petrol, low-sulfur' (kilogram, CH, None)\n",
      "        0: 'market for road' (meter-year, GLO, None)\n",
      "        0: 'market for road maintenance' (meter-year, RER, None)\n",
      "        -0: 'market for road wear emissions, passenger car' (kilogram, GLO, None)\n",
      "        -0: 'market for tyre wear emissions, passenger car' (kilogram, GLO, None)\n",
      "    0: 'asphalt, pvi, HDV' (kilometer, NL, None)\n",
      "      0: 'transport, freight, lorry 7.5-16 metric ton, EURO5' (ton kilometer, RER, None)\n",
      "        -0: 'market for brake wear emissions, lorry' (kilogram, GLO, None)\n",
      "        0: 'market group for diesel, low-sulfur' (kilogram, RER, None)\n",
      "        0: 'market for lorry, 16 metric ton' (unit, RER, None)\n",
      "        0: 'market for maintenance, lorry 16 metric ton' (unit, RER, None)\n",
      "        0: 'market for road' (meter-year, GLO, None)\n",
      "        0: 'market for road maintenance' (meter-year, RER, None)\n",
      "        -0: 'market for road wear emissions, lorry' (kilogram, GLO, None)\n",
      "        -0: 'market for tyre wear emissions, lorry' (kilogram, GLO, None)\n",
      "    0: 'asphalt, pvi, trailer' (kilometer, NL, None)\n",
      "      0: 'transport, freight, lorry 7.5-16 metric ton, EURO5' (ton kilometer, RER, None)\n",
      "        -0: 'market for brake wear emissions, lorry' (kilogram, GLO, None)\n",
      "        0: 'market group for diesel, low-sulfur' (kilogram, RER, None)\n",
      "        0: 'market for lorry, 16 metric ton' (unit, RER, None)\n",
      "        0: 'market for maintenance, lorry 16 metric ton' (unit, RER, None)\n",
      "        0: 'market for road' (meter-year, GLO, None)\n",
      "        0: 'market for road maintenance' (meter-year, RER, None)\n",
      "        -0: 'market for road wear emissions, lorry' (kilogram, GLO, None)\n",
      "        -0: 'market for tyre wear emissions, lorry' (kilogram, GLO, None)\n",
      "    1.35e+07: 'asphalt, demolition' (kilogram, NL, None)\n",
      "      3.73e+05: 'diesel, burned in building machine' (megajoule, GLO, None)\n",
      "        0.05: 'market for building machine' (unit, GLO, None)\n",
      "        8.74e+03: 'market group for diesel' (kilogram, GLO, None)\n",
      "        33.4: 'market for lubricating oil' (kilogram, RER, None)\n",
      "        158: 'market for lubricating oil' (kilogram, RoW, None)\n",
      "        -138: 'market for waste mineral oil' (kilogram, RoW, None)\n",
      "        -52.7: 'market for waste mineral oil' (kilogram, Europe without Switzerland, None)\n",
      "        -1.3: 'market for waste mineral oil' (kilogram, CH, None)\n",
      "    0: 'asphalt, transport to processing' (kilogram, NL, None)\n",
      "      0: 'transport, freight, lorry >32 metric ton, EURO5' (ton kilometer, RER, None)\n",
      "        -0: 'market for brake wear emissions, lorry' (kilogram, GLO, None)\n",
      "        0: 'market group for diesel, low-sulfur' (kilogram, RER, None)\n",
      "        0: 'market for lorry, 40 metric ton' (unit, RER, None)\n",
      "        0: 'market for maintenance, lorry 40 metric ton' (unit, GLO, None)\n",
      "        0: 'market for road' (meter-year, GLO, None)\n",
      "        0: 'market for road maintenance' (meter-year, RER, None)\n",
      "        -0: 'market for road wear emissions, lorry' (kilogram, GLO, None)\n",
      "        -0: 'market for tyre wear emissions, lorry' (kilogram, GLO, None)\n",
      "      0: 'transport, freight, lorry >32 metric ton, EURO6' (ton kilometer, RER, None)\n",
      "        -0: 'market for brake wear emissions, lorry' (kilogram, GLO, None)\n",
      "        0: 'market group for diesel, low-sulfur' (kilogram, RER, None)\n",
      "        0: 'market for lorry, 40 metric ton' (unit, RER, None)\n",
      "        0: 'market for maintenance, lorry 40 metric ton' (unit, GLO, None)\n",
      "        0: 'market for road' (meter-year, GLO, None)\n",
      "        0: 'market for road maintenance' (meter-year, RER, None)\n",
      "        -0: 'market for road wear emissions, lorry' (kilogram, GLO, None)\n",
      "        -0: 'market for tyre wear emissions, lorry' (kilogram, GLO, None)\n",
      "    0: 'asphalt, processing' (kilogram, NL, None)\n",
      "      0: 'diesel, burned in building machine' (megajoule, GLO, None)\n",
      "        0: 'market for building machine' (unit, GLO, None)\n",
      "        0: 'market group for diesel' (kilogram, GLO, None)\n",
      "        0: 'market for lubricating oil' (kilogram, RER, None)\n",
      "        0: 'market for lubricating oil' (kilogram, RoW, None)\n",
      "        -0: 'market for waste mineral oil' (kilogram, RoW, None)\n",
      "        -0: 'market for waste mineral oil' (kilogram, Europe without Switzerland, None)\n",
      "        -0: 'market for waste mineral oil' (kilogram, CH, None)\n"
     ]
    }
   ],
   "source": [
    "bwa.print_recursive_supply_chain(pavement, max_level=4)"
   ]
  },
  {
   "cell_type": "code",
   "execution_count": null,
   "id": "f827202b-4e11-47f9-b08c-a80e41bd51f3",
   "metadata": {},
   "outputs": [],
   "source": []
  }
 ],
 "metadata": {
  "kernelspec": {
   "display_name": "Python 3 (ipykernel)",
   "language": "python",
   "name": "python3"
  },
  "language_info": {
   "codemirror_mode": {
    "name": "ipython",
    "version": 3
   },
   "file_extension": ".py",
   "mimetype": "text/x-python",
   "name": "python",
   "nbconvert_exporter": "python",
   "pygments_lexer": "ipython3",
   "version": "3.11.9"
  }
 },
 "nbformat": 4,
 "nbformat_minor": 5
}
