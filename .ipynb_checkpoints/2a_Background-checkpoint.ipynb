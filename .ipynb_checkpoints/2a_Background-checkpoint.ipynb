{
 "cells": [
  {
   "cell_type": "markdown",
   "id": "d8a5375d-fdfc-4f23-9654-becf2462c4e7",
   "metadata": {},
   "source": [
    "# Inventory\n",
    "\n",
    "## Content\n",
    "\n",
    "<span style='background:yellow'> 2.1) Setting up the background system: ecoinvent and biosphere3 databases </span> \n",
    "\n",
    "<span style='background:yellow'> 2.2) Setting up the foreground system: </span> \n",
    "\n",
    "\n"
   ]
  },
  {
   "cell_type": "markdown",
   "id": "c8a88d55-7d7c-42bc-ac59-bd254c75cea5",
   "metadata": {},
   "source": [
    "## 2.1) Setting up the background system: ecoinvent and biosphere3 databases\n",
    "\n",
    "You will need two databases: \n",
    "- biosphere3, that contains all the exchanges and impact assessment methods, and\n",
    "- ecoinvent."
   ]
  },
  {
   "cell_type": "markdown",
   "id": "8c4c493a-4a06-43d2-9a2b-7a9d5f3453ae",
   "metadata": {},
   "source": [
    "But first, let's import BW25 packages"
   ]
  },
  {
   "cell_type": "code",
   "execution_count": 18,
   "id": "b99ebf5c-3167-41ac-aee7-210606c1d79d",
   "metadata": {},
   "outputs": [],
   "source": [
    "# Import BW25 packages\n",
    "import bw2data as bd\n",
    "import bw2io as bi\n",
    "import bw2calc as bc\n",
    "import bw2analyzer as bwa"
   ]
  },
  {
   "cell_type": "markdown",
   "id": "9b120421-7b57-45ac-a4bf-5d6cc6c3e6aa",
   "metadata": {},
   "source": [
    "### Biosphere3"
   ]
  },
  {
   "cell_type": "markdown",
   "id": "0acef9a6-6414-407f-8805-932c57926f3a",
   "metadata": {},
   "source": [
    "#### Importing biosphere3"
   ]
  },
  {
   "cell_type": "markdown",
   "id": "4be952fa-eed7-4e4b-9c44-6877838718af",
   "metadata": {},
   "source": [
    "Check the projects you have created:"
   ]
  },
  {
   "cell_type": "code",
   "execution_count": 21,
   "id": "e2bbed52-23ee-4e09-8000-2dd7dd886afc",
   "metadata": {},
   "outputs": [
    {
     "data": {
      "text/plain": [
       "Brightway2 projects manager with 5 objects:\n",
       "\t2024_STI_BW25_Lecture\n",
       "\tTest_location_specifc_folder\n",
       "\tbw25_20240406\n",
       "\tbw25_test\n",
       "\tdefault\n",
       "Use `projects.report()` to get a report on all projects."
      ]
     },
     "execution_count": 21,
     "metadata": {},
     "output_type": "execute_result"
    }
   ],
   "source": [
    "bd.projects "
   ]
  },
  {
   "cell_type": "code",
   "execution_count": 22,
   "id": "1fbee6a1-5da1-41b3-899f-c556c2c1cd40",
   "metadata": {},
   "outputs": [],
   "source": [
    "# Activate the project we are working on\n",
    "bd.projects.set_current('2024_STI_BW25_Lecture') "
   ]
  },
  {
   "cell_type": "markdown",
   "id": "c0e79f18-61e8-416b-af56-55fa76743130",
   "metadata": {},
   "source": [
    " Let’s see what databases you have:"
   ]
  },
  {
   "cell_type": "code",
   "execution_count": 23,
   "id": "5a0cae59-3483-4411-93c9-12458a30ef63",
   "metadata": {},
   "outputs": [
    {
     "data": {
      "text/plain": [
       "Databases dictionary with 0 objects"
      ]
     },
     "execution_count": 23,
     "metadata": {},
     "output_type": "execute_result"
    }
   ],
   "source": [
    "# If this is your first time using this project, this should be an empty dictionary! \n",
    "bd.databases"
   ]
  },
  {
   "cell_type": "markdown",
   "id": "155806fc-b8a8-4491-8d7f-450b72fb0699",
   "metadata": {},
   "source": [
    "Now we can add the biosphere flows. This is done by running the bw2setup function:\n",
    "\n",
    "(This will also create the LCIA methods. But more about that will be explored later)"
   ]
  },
  {
   "cell_type": "code",
   "execution_count": 25,
   "id": "21cd4d69-f0d4-41b7-89be-645810f19d5e",
   "metadata": {},
   "outputs": [
    {
     "name": "stdout",
     "output_type": "stream",
     "text": [
      "Creating default biosphere\n",
      "\n",
      "Applying strategy: normalize_units\n",
      "Applying strategy: drop_unspecified_subcategories\n",
      "Applying strategy: ensure_categories_are_tuples\n",
      "Applied 3 strategies in 0.00 seconds\n"
     ]
    },
    {
     "name": "stderr",
     "output_type": "stream",
     "text": [
      "100%|████████████████████████████████████| 4709/4709 [00:00<00:00, 51737.04it/s]"
     ]
    },
    {
     "name": "stdout",
     "output_type": "stream",
     "text": [
      "Vacuuming database \n"
     ]
    },
    {
     "name": "stderr",
     "output_type": "stream",
     "text": [
      "\n"
     ]
    },
    {
     "name": "stdout",
     "output_type": "stream",
     "text": [
      "Created database: biosphere3\n",
      "Creating default LCIA methods\n",
      "\n",
      "Wrote 762 LCIA methods with 227223 characterization factors\n",
      "Creating core data migrations\n",
      "\n"
     ]
    }
   ],
   "source": [
    "bi.bw2setup()"
   ]
  },
  {
   "cell_type": "markdown",
   "id": "f1468717-5341-40a2-b18b-1108270b89c4",
   "metadata": {},
   "source": [
    "Check the databases. You should now see \"biosphere3\""
   ]
  },
  {
   "cell_type": "code",
   "execution_count": 26,
   "id": "3d171038-b98a-4c75-bfcf-0ced82eaf043",
   "metadata": {},
   "outputs": [
    {
     "data": {
      "text/plain": [
       "Databases dictionary with 1 object(s):\n",
       "\tbiosphere3"
      ]
     },
     "execution_count": 26,
     "metadata": {},
     "output_type": "execute_result"
    }
   ],
   "source": [
    "bd.databases"
   ]
  },
  {
   "cell_type": "markdown",
   "id": "df6a5e3f-6943-46dd-bd84-a5eef18e403e",
   "metadata": {},
   "source": [
    "#### Navigating biosphere3"
   ]
  },
  {
   "cell_type": "markdown",
   "id": "b337b628-1811-4d4c-9de5-5d21f37c6b8e",
   "metadata": {},
   "source": [
    "There are many properties and functions associated with this database object. To access those, let's assign the database to a variable"
   ]
  },
  {
   "cell_type": "code",
   "execution_count": 189,
   "id": "3067a380-25e8-425d-97bd-e0ac28365daf",
   "metadata": {},
   "outputs": [],
   "source": [
    "my_bio = bd.Database('biosphere3')"
   ]
  },
  {
   "cell_type": "code",
   "execution_count": 190,
   "id": "bc56615a-5c18-46c6-b5d9-ae50ca921a87",
   "metadata": {},
   "outputs": [],
   "source": [
    "#type(my_bio)\n",
    "#len(my_bio)"
   ]
  },
  {
   "cell_type": "markdown",
   "id": "25c65a7c-4345-4fc0-8250-d6cd61d44e6a",
   "metadata": {},
   "source": [
    "If you type my_bio. and click on tab, you should get a list of properties and methods associated with database objects. "
   ]
  },
  {
   "cell_type": "code",
   "execution_count": 191,
   "id": "c4105a41-f327-4fe4-aeb6-bf3ca11dc0b1",
   "metadata": {},
   "outputs": [
    {
     "data": {
      "text/plain": [
       "<bound method SQLiteBackend.get of Brightway2 SQLiteBackend: biosphere3>"
      ]
     },
     "execution_count": 191,
     "metadata": {},
     "output_type": "execute_result"
    }
   ],
   "source": [
    "my_bio.get"
   ]
  },
  {
   "cell_type": "markdown",
   "id": "1278fff5-180e-4cc0-9f3d-9187a21d86db",
   "metadata": {},
   "source": [
    "Some of the more basic ones we will be using now are :\n",
    "\n",
    "- random() - returns a random activity in the database\n",
    "- get(*valid_exchange_tuple*) - returns an activity, but you must know the activity key\n",
    "- load() - loads the whole database as a dictionary.\n",
    "- make_searchable - allows searching of the database (by default, it is already searchable)\n",
    "- search - search the database\n",
    "\n",
    "Let's start with random:"
   ]
  },
  {
   "cell_type": "code",
   "execution_count": 192,
   "id": "d8f9f8f3-848e-4a9f-9e4b-5a1b326afe8e",
   "metadata": {},
   "outputs": [
    {
     "data": {
      "text/plain": [
       "'Krypton-85' (kilo Becquerel, None, ('air', 'urban air close to ground'))"
      ]
     },
     "execution_count": 192,
     "metadata": {},
     "output_type": "execute_result"
    }
   ],
   "source": [
    "my_bio.random()"
   ]
  },
  {
   "cell_type": "markdown",
   "id": "be30cb22-ed11-48ba-91d3-65a69f18c2b3",
   "metadata": {},
   "source": [
    "This returns a biosphere activity, but without assigning it to a variable, there is not much we can do with it directly.\n",
    "\n",
    "Note: It may seem counter-intuitive for elementary flows to be considered activities in Brightway, but it is no mistake. LCA models are made up of nodes (activities) that are linked by edges (exchanges). The biosphere activities are the nodes outside the technosphere. Emissions and resource extractions are modelled as exchanges between activities in the technosphere (part of the product system) and these biosphere activities.\n",
    "\n",
    "More on this later.\n",
    "\n",
    "For now, let's assign another random activity to a variable:"
   ]
  },
  {
   "cell_type": "code",
   "execution_count": 193,
   "id": "f0ffa8bc-368e-4f62-97f0-c84c587d37e5",
   "metadata": {},
   "outputs": [
    {
     "data": {
      "text/plain": [
       "'Sodium sulphate, various forms' (kilogram, None, ('natural resource', 'in ground'))"
      ]
     },
     "execution_count": 193,
     "metadata": {},
     "output_type": "execute_result"
    }
   ],
   "source": [
    "random_biosphere = my_bio.random()\n",
    "random_biosphere"
   ]
  },
  {
   "cell_type": "markdown",
   "id": "b40ff5d3-d0ac-4412-8bf0-5956dd7a9f69",
   "metadata": {},
   "source": [
    "We can get the type of the object that was returned from the database:"
   ]
  },
  {
   "cell_type": "code",
   "execution_count": 194,
   "id": "fb551a65-52b0-4c4a-b996-6117ea596bdf",
   "metadata": {},
   "outputs": [
    {
     "data": {
      "text/plain": [
       "bw2data.backends.proxies.Activity"
      ]
     },
     "execution_count": 194,
     "metadata": {},
     "output_type": "execute_result"
    }
   ],
   "source": [
    "type(random_biosphere)"
   ]
  },
  {
   "cell_type": "markdown",
   "id": "384c0550-bd1a-4d4a-ad23-eda67caea23b",
   "metadata": {},
   "source": [
    "The type is an activity proxy. Activity proxies allow us to interact with the content of the database.\n",
    "\n",
    "To see what the activity contains, we can convert it to a dictionary:"
   ]
  },
  {
   "cell_type": "code",
   "execution_count": 195,
   "id": "45498e37-889b-4221-8744-7a2c84a58b80",
   "metadata": {},
   "outputs": [
    {
     "data": {
      "text/plain": [
       "{'categories': ('natural resource', 'in ground'),\n",
       " 'code': '5bbcdc6d-b1a7-4b63-b625-76060c767de7',\n",
       " 'CAS number': '007757-82-6',\n",
       " 'synonyms': [],\n",
       " 'name': 'Sodium sulphate, various forms',\n",
       " 'database': 'biosphere3',\n",
       " 'unit': 'kilogram',\n",
       " 'type': 'natural resource',\n",
       " 'id': 697}"
      ]
     },
     "execution_count": 195,
     "metadata": {},
     "output_type": "execute_result"
    }
   ],
   "source": [
    "random_biosphere.as_dict()"
   ]
  },
  {
   "cell_type": "markdown",
   "id": "5e665e10-a343-41b9-8567-af23d74cbb4e",
   "metadata": {},
   "source": [
    "We can get the value of each item by specifying its key. Example: let's get the value corresponding to the key 'code'"
   ]
  },
  {
   "cell_type": "code",
   "execution_count": 196,
   "id": "0171b267-2a75-4957-8484-0ba073e8d671",
   "metadata": {},
   "outputs": [
    {
     "data": {
      "text/plain": [
       "'5bbcdc6d-b1a7-4b63-b625-76060c767de7'"
      ]
     },
     "execution_count": 196,
     "metadata": {},
     "output_type": "execute_result"
    }
   ],
   "source": [
    "random_biosphere['code']"
   ]
  },
  {
   "cell_type": "markdown",
   "id": "2fff8e23-78a4-490f-9331-69a22c1a6d73",
   "metadata": {},
   "source": [
    "Now for the key 'unit'"
   ]
  },
  {
   "cell_type": "code",
   "execution_count": 197,
   "id": "42e3e061-3f56-4bce-bb6e-65b2686322c4",
   "metadata": {},
   "outputs": [
    {
     "data": {
      "text/plain": [
       "'kilogram'"
      ]
     },
     "execution_count": 197,
     "metadata": {},
     "output_type": "execute_result"
    }
   ],
   "source": [
    "random_biosphere['unit']"
   ]
  },
  {
   "cell_type": "markdown",
   "id": "6125505f-d0ad-457a-99b6-5e9e2a363959",
   "metadata": {},
   "source": [
    "Activities in the biosphere3 database have unique codes, which we can use with the get function:"
   ]
  },
  {
   "cell_type": "code",
   "execution_count": 198,
   "id": "607ec63e-6509-490c-9672-8deeadc1737a",
   "metadata": {},
   "outputs": [
    {
     "data": {
      "text/plain": [
       "'Sodium sulphate, various forms' (kilogram, None, ('natural resource', 'in ground'))"
      ]
     },
     "execution_count": 198,
     "metadata": {},
     "output_type": "execute_result"
    }
   ],
   "source": [
    "my_bio.get(random_biosphere['code'])"
   ]
  },
  {
   "cell_type": "markdown",
   "id": "57f683bc-57b5-48f3-8945-1d18a708c515",
   "metadata": {},
   "source": [
    "As you can see this is the same activity! This is expected because we are \"getting\" the activity with the code equal to our random biosphere variable. And remember: Activities in the biosphere3 database have unique codes."
   ]
  },
  {
   "cell_type": "markdown",
   "id": "77c03ab9-341f-434e-8fab-cfd27eb2ef80",
   "metadata": {},
   "source": [
    "You can always find (or return) the key to an activity using the .key property."
   ]
  },
  {
   "cell_type": "code",
   "execution_count": 199,
   "id": "38baac00-12e1-4fa4-9a35-9773c426bffa",
   "metadata": {},
   "outputs": [
    {
     "data": {
      "text/plain": [
       "('biosphere3', '5bbcdc6d-b1a7-4b63-b625-76060c767de7')"
      ]
     },
     "execution_count": 199,
     "metadata": {},
     "output_type": "execute_result"
    }
   ],
   "source": [
    "random_biosphere.key"
   ]
  },
  {
   "cell_type": "markdown",
   "id": "04b8b869-8bdd-417e-a6a6-f825cca8512a",
   "metadata": {},
   "source": [
    "**Searching for activities**"
   ]
  },
  {
   "cell_type": "markdown",
   "id": "a8c13c65-0097-4796-8850-728cffd5791e",
   "metadata": {},
   "source": [
    "Let's say we are looking for a specific elementary flow. For this purpose we can use the search method of the database"
   ]
  },
  {
   "cell_type": "code",
   "execution_count": 200,
   "id": "4f8c26b6-241a-4855-9bd9-bbc9ad5c0507",
   "metadata": {},
   "outputs": [
    {
     "data": {
      "text/plain": [
       "['Carbon dioxide, fossil' (kilogram, None, ('air', 'low population density, long-term')),\n",
       " 'Carbon dioxide, fossil' (kilogram, None, ('air',)),\n",
       " 'Carbon dioxide, fossil' (kilogram, None, ('air', 'lower stratosphere + upper troposphere')),\n",
       " 'Carbon dioxide, fossil' (kilogram, None, ('air', 'non-urban air or from high stacks')),\n",
       " 'Carbon dioxide, fossil' (kilogram, None, ('air', 'urban air close to ground')),\n",
       " 'Carbon dioxide, non-fossil' (kilogram, None, ('air', 'lower stratosphere + upper troposphere')),\n",
       " 'Carbon dioxide, non-fossil' (kilogram, None, ('air', 'non-urban air or from high stacks')),\n",
       " 'Carbon dioxide, non-fossil' (kilogram, None, ('air', 'urban air close to ground')),\n",
       " 'Carbon dioxide, non-fossil' (kilogram, None, ('air', 'low population density, long-term')),\n",
       " 'Carbon dioxide, in air' (kilogram, None, ('natural resource', 'in air')),\n",
       " 'Carbon dioxide, non-fossil' (kilogram, None, ('air',)),\n",
       " 'Carbon dioxide, non-fossil, resource correction' (kilogram, None, ('natural resource', 'in air')),\n",
       " 'Carbon dioxide, from soil or biomass stock' (kilogram, None, ('air',)),\n",
       " 'Carbon dioxide, from soil or biomass stock' (kilogram, None, ('air', 'low population density, long-term')),\n",
       " 'Carbon dioxide, to soil or biomass stock' (kilogram, None, ('soil', 'forestry')),\n",
       " 'Carbon dioxide, from soil or biomass stock' (kilogram, None, ('air', 'urban air close to ground')),\n",
       " 'Carbon dioxide, to soil or biomass stock' (kilogram, None, ('soil', 'agricultural')),\n",
       " 'Carbon dioxide, from soil or biomass stock' (kilogram, None, ('air', 'lower stratosphere + upper troposphere')),\n",
       " 'Carbon dioxide, from soil or biomass stock' (kilogram, None, ('air', 'non-urban air or from high stacks')),\n",
       " 'Carbon dioxide, to soil or biomass stock' (kilogram, None, ('soil', 'industrial')),\n",
       " 'Carbon dioxide, to soil or biomass stock' (kilogram, None, ('soil',))]"
      ]
     },
     "execution_count": 200,
     "metadata": {},
     "output_type": "execute_result"
    }
   ],
   "source": [
    "bd.Database('biosphere3').search('carbon dioxide')"
   ]
  },
  {
   "cell_type": "markdown",
   "id": "0dedb2f0-bef4-48cb-9954-c8ec30bfd2ab",
   "metadata": {},
   "source": [
    "We can do the same operation by using the variable we assigned previously to the biosphere database"
   ]
  },
  {
   "cell_type": "code",
   "execution_count": 201,
   "id": "26fbbecf-6e03-4648-95c4-9ad5b72bb8d9",
   "metadata": {},
   "outputs": [
    {
     "data": {
      "text/plain": [
       "['Carbon dioxide, fossil' (kilogram, None, ('air', 'low population density, long-term')),\n",
       " 'Carbon dioxide, fossil' (kilogram, None, ('air',)),\n",
       " 'Carbon dioxide, fossil' (kilogram, None, ('air', 'lower stratosphere + upper troposphere')),\n",
       " 'Carbon dioxide, fossil' (kilogram, None, ('air', 'non-urban air or from high stacks')),\n",
       " 'Carbon dioxide, fossil' (kilogram, None, ('air', 'urban air close to ground')),\n",
       " 'Carbon dioxide, non-fossil' (kilogram, None, ('air', 'lower stratosphere + upper troposphere')),\n",
       " 'Carbon dioxide, non-fossil' (kilogram, None, ('air', 'non-urban air or from high stacks')),\n",
       " 'Carbon dioxide, non-fossil' (kilogram, None, ('air', 'urban air close to ground')),\n",
       " 'Carbon dioxide, non-fossil' (kilogram, None, ('air', 'low population density, long-term')),\n",
       " 'Carbon dioxide, in air' (kilogram, None, ('natural resource', 'in air')),\n",
       " 'Carbon dioxide, non-fossil' (kilogram, None, ('air',)),\n",
       " 'Carbon dioxide, non-fossil, resource correction' (kilogram, None, ('natural resource', 'in air')),\n",
       " 'Carbon dioxide, from soil or biomass stock' (kilogram, None, ('air',)),\n",
       " 'Carbon dioxide, from soil or biomass stock' (kilogram, None, ('air', 'low population density, long-term')),\n",
       " 'Carbon dioxide, to soil or biomass stock' (kilogram, None, ('soil', 'forestry')),\n",
       " 'Carbon dioxide, from soil or biomass stock' (kilogram, None, ('air', 'urban air close to ground')),\n",
       " 'Carbon dioxide, to soil or biomass stock' (kilogram, None, ('soil', 'agricultural')),\n",
       " 'Carbon dioxide, from soil or biomass stock' (kilogram, None, ('air', 'lower stratosphere + upper troposphere')),\n",
       " 'Carbon dioxide, from soil or biomass stock' (kilogram, None, ('air', 'non-urban air or from high stacks')),\n",
       " 'Carbon dioxide, to soil or biomass stock' (kilogram, None, ('soil', 'industrial')),\n",
       " 'Carbon dioxide, to soil or biomass stock' (kilogram, None, ('soil',))]"
      ]
     },
     "execution_count": 201,
     "metadata": {},
     "output_type": "execute_result"
    }
   ],
   "source": [
    "my_bio.search('carbon dioxide')"
   ]
  },
  {
   "cell_type": "markdown",
   "id": "aa360a92-5796-4d65-9fb2-3a5442eb0416",
   "metadata": {},
   "source": [
    "It is also possible to use \"filters\" to narrow searches, e.g."
   ]
  },
  {
   "cell_type": "code",
   "execution_count": 202,
   "id": "bece8f31-75ed-4e4a-9eb5-0ac505ebac10",
   "metadata": {},
   "outputs": [
    {
     "name": "stdout",
     "output_type": "stream",
     "text": [
      "Excluding 17 filtered results\n"
     ]
    },
    {
     "data": {
      "text/plain": [
       "['Carbon dioxide, fossil' (kilogram, None, ('air', 'non-urban air or from high stacks')),\n",
       " 'Carbon dioxide, fossil' (kilogram, None, ('air', 'urban air close to ground')),\n",
       " 'Carbon dioxide, non-fossil' (kilogram, None, ('air', 'non-urban air or from high stacks')),\n",
       " 'Carbon dioxide, non-fossil' (kilogram, None, ('air', 'urban air close to ground'))]"
      ]
     },
     "execution_count": 202,
     "metadata": {},
     "output_type": "execute_result"
    }
   ],
   "source": [
    "my_bio.search('carbon dioxide', filter={'categories':'urban', 'name':'fossil'})"
   ]
  },
  {
   "cell_type": "markdown",
   "id": "dbb73706-ad1b-4fc6-8560-fc9f6b0b0d14",
   "metadata": {},
   "source": [
    "We can also use \"home-made\" searches with list comprehensions. This approach allow us to add as many criteria as we wante"
   ]
  },
  {
   "cell_type": "code",
   "execution_count": 203,
   "id": "767959aa-a668-4cae-b635-bf9cf98f39aa",
   "metadata": {},
   "outputs": [
    {
     "data": {
      "text/plain": [
       "['Carbon dioxide, fossil' (kilogram, None, ('air', 'urban air close to ground'))]"
      ]
     },
     "execution_count": 203,
     "metadata": {},
     "output_type": "execute_result"
    }
   ],
   "source": [
    "[act for act in my_bio if 'Carbon dioxide' in act['name'] \n",
    "                                            and 'fossil' in act['name']\n",
    "                                            and 'non' not in act['name']\n",
    "                                            and 'urban air close to ground' in str(act['categories'])\n",
    "         ]"
   ]
  },
  {
   "cell_type": "markdown",
   "id": "b20eb697-256e-48b7-8e0d-9d70ebf871a1",
   "metadata": {},
   "source": [
    "Activities returned by searches or list comprehensions can be assigned to variables, but to do so, one needs to identify the activity by index. Based on the above, we can refine the filters to ensure the list comprehension only returns one activity, and that that activity is the one we really want."
   ]
  },
  {
   "cell_type": "code",
   "execution_count": 204,
   "id": "09ea288b-0394-4fdc-82d5-eea3ba5eee84",
   "metadata": {},
   "outputs": [],
   "source": [
    "activity_I_want = [act for act in my_bio if 'Carbon dioxide' in act['name'] \n",
    "                                            and 'fossil' in act['name']\n",
    "                                            and 'non' not in act['name']\n",
    "                                            and 'urban air close to ground' in str(act['categories'])\n",
    "         ][0]"
   ]
  },
  {
   "cell_type": "code",
   "execution_count": 205,
   "id": "f5ac2015-6f92-451a-8a6b-97ac60259bc1",
   "metadata": {},
   "outputs": [
    {
     "name": "stdout",
     "output_type": "stream",
     "text": [
      "'Carbon dioxide, fossil' (kilogram, None, ('air', 'urban air close to ground'))\n"
     ]
    }
   ],
   "source": [
    "print(activity_I_want)"
   ]
  },
  {
   "cell_type": "markdown",
   "id": "1616ab1a-fd3d-4db5-ab3a-7c2c6f7f9ef8",
   "metadata": {},
   "source": [
    "####"
   ]
  },
  {
   "cell_type": "markdown",
   "id": "16be21b5-aaa4-417b-a33f-1177b90fba75",
   "metadata": {},
   "source": [
    "**LCIA Methods**\n",
    "\n",
    "As mentioned before bi.bw2setup() also installed LCIA methods. LCIA methods are a set of principles, models and characteriation factors that convert biosphere flows into environment impacts scores."
   ]
  },
  {
   "cell_type": "markdown",
   "id": "8eeaa67d-d550-41b8-a7b1-bc838e2284f1",
   "metadata": {},
   "source": [
    "Run the code below to know the methods we have access to:"
   ]
  },
  {
   "cell_type": "code",
   "execution_count": null,
   "id": "b7ab89fc-ddac-44e8-8026-99d119681f94",
   "metadata": {},
   "outputs": [],
   "source": [
    "list(bd.methods)\n",
    "#bd.methods.list #this produces the same outputs"
   ]
  },
  {
   "cell_type": "markdown",
   "id": "0f519f4b-114a-4f18-a919-f8cd237690a7",
   "metadata": {},
   "source": [
    "For each method, the 1st name is the name of the impact assessment methodology, the 2nd name is the name of the impact category, and the 3rd name is the name of the characterization model. Let's take as an exmaple ('CML v4.8 2016', 'acidification', 'acidification (incl. fate, average Europe total, A&B)': \n",
    "\n",
    "- 'CML v4.8 2016' = impact assessment methodology\n",
    "- 'acidification' = impact category\n",
    "- 'acidification (incl. fate, average Europe total, A&B)' = characterization model/method\n"
   ]
  },
  {
   "cell_type": "markdown",
   "id": "dc00bf64-67a7-4945-a350-aa73388890ba",
   "metadata": {},
   "source": [
    "We get more details about the LCIA methods. Those details are stored as values (bw.methods.values()), with the LCIA method names being the keys (bw.methods.keys()):"
   ]
  },
  {
   "cell_type": "code",
   "execution_count": null,
   "id": "20cbb7ad-a968-4663-afa7-e78a6783658e",
   "metadata": {},
   "outputs": [],
   "source": [
    "for key in bd.methods:\n",
    "    print(key, ':', bd.methods[key])"
   ]
  },
  {
   "cell_type": "markdown",
   "id": "011bb9ed-23ce-4afe-8a11-e31f0df7860d",
   "metadata": {},
   "source": [
    "To access the description of only one characterization method, type:"
   ]
  },
  {
   "cell_type": "code",
   "execution_count": 208,
   "id": "e7106769-0b0e-48a9-81f4-68c6421f345f",
   "metadata": {},
   "outputs": [
    {
     "data": {
      "text/plain": [
       "{'description': '',\n",
       " 'filename': 'LCIA_Implementation_3.9.xlsx',\n",
       " 'unit': 'kg CO2-Eq',\n",
       " 'abbreviation': 'cml-v48-2016cg.231d6e8f8b1c199a47182515eba4032e',\n",
       " 'num_cfs': 185,\n",
       " 'geocollections': ['world']}"
      ]
     },
     "execution_count": 208,
     "metadata": {},
     "output_type": "execute_result"
    }
   ],
   "source": [
    "bd.methods.get(('CML v4.8 2016', 'climate change', 'global warming potential (GWP100)'))"
   ]
  },
  {
   "cell_type": "markdown",
   "id": "282c47a0-3bf5-4c7e-9def-7cce009cac0d",
   "metadata": {},
   "source": [
    "We can also get the value of an item by specifying the corresponding key. Let's imagine we want to know the units considered by the characterization method:"
   ]
  },
  {
   "cell_type": "code",
   "execution_count": 209,
   "id": "25679ed2-ef1d-475a-8421-3e83335d9500",
   "metadata": {},
   "outputs": [
    {
     "data": {
      "text/plain": [
       "'kg CO2-Eq'"
      ]
     },
     "execution_count": 209,
     "metadata": {},
     "output_type": "execute_result"
    }
   ],
   "source": [
    "bd.methods.get(('CML v4.8 2016', 'climate change', 'global warming potential (GWP100)')).get('unit')"
   ]
  },
  {
   "cell_type": "markdown",
   "id": "2615b4ea-c286-458f-a3a5-7bf9c5477e92",
   "metadata": {},
   "source": [
    "As we did with the biosphere activities, we can also assign variables to characterization methods:"
   ]
  },
  {
   "cell_type": "code",
   "execution_count": 244,
   "id": "9ea4a378-344e-4dec-9917-d15f4d46d98f",
   "metadata": {},
   "outputs": [
    {
     "data": {
      "text/plain": [
       "dict"
      ]
     },
     "execution_count": 244,
     "metadata": {},
     "output_type": "execute_result"
    }
   ],
   "source": [
    "my_method = bd.methods.get(('CML v4.8 2016', 'climate change', 'global warming potential (GWP100)'))\n",
    "type(my_method)"
   ]
  },
  {
   "cell_type": "markdown",
   "id": "0a0bd143-06e0-416f-98d6-a219a88cd225",
   "metadata": {},
   "source": [
    "We can then get the value corresponding to the key we are interested in. Let's consider again we want to know the unitsof the characterization method:"
   ]
  },
  {
   "cell_type": "code",
   "execution_count": 211,
   "id": "d9ca99fa-bb48-4a31-bfef-5e0060b9fd7c",
   "metadata": {},
   "outputs": [
    {
     "data": {
      "text/plain": [
       "'kg CO2-Eq'"
      ]
     },
     "execution_count": 211,
     "metadata": {},
     "output_type": "execute_result"
    }
   ],
   "source": [
    "my_method['unit']"
   ]
  },
  {
   "cell_type": "markdown",
   "id": "a6bf18a5-92a1-4891-be59-4f8a7ba9a67c",
   "metadata": {},
   "source": [
    "We can get the same information by running the code below:"
   ]
  },
  {
   "cell_type": "code",
   "execution_count": 242,
   "id": "15011051-57ea-40c1-a9b2-56e71e67d66a",
   "metadata": {},
   "outputs": [
    {
     "data": {
      "text/plain": [
       "'kg CO2-Eq'"
      ]
     },
     "execution_count": 242,
     "metadata": {},
     "output_type": "execute_result"
    }
   ],
   "source": [
    "my_method.get('unit')"
   ]
  },
  {
   "cell_type": "markdown",
   "id": "29184fad-a751-41ac-a0b4-2841a8b12117",
   "metadata": {},
   "source": [
    "We can also search for a specific method using list comprehensions. In your group assignment you will work with a LCIA methodology called CML, and specifically the version 4.8, released in 2016. To know all impact categories and respective characterization methods considered by CML v4.8, we can type:"
   ]
  },
  {
   "cell_type": "code",
   "execution_count": 252,
   "id": "021b8aa8-5763-4741-8425-e54c9d167c08",
   "metadata": {},
   "outputs": [
    {
     "data": {
      "text/plain": [
       "[('CML v4.8 2016 no LT',\n",
       "  'acidification no LT',\n",
       "  'acidification (incl. fate, average Europe total, A&B) no LT'),\n",
       " ('CML v4.8 2016 no LT',\n",
       "  'climate change no LT',\n",
       "  'global warming potential (GWP100) no LT'),\n",
       " ('CML v4.8 2016 no LT',\n",
       "  'ecotoxicity: freshwater no LT',\n",
       "  'freshwater aquatic ecotoxicity (FAETP inf) no LT'),\n",
       " ('CML v4.8 2016 no LT',\n",
       "  'ecotoxicity: marine no LT',\n",
       "  'marine aquatic ecotoxicity (MAETP inf) no LT'),\n",
       " ('CML v4.8 2016 no LT',\n",
       "  'ecotoxicity: terrestrial no LT',\n",
       "  'terrestrial ecotoxicity (TETP inf) no LT'),\n",
       " ('CML v4.8 2016 no LT',\n",
       "  'energy resources: non-renewable no LT',\n",
       "  'abiotic depletion potential (ADP): fossil fuels no LT'),\n",
       " ('CML v4.8 2016 no LT',\n",
       "  'eutrophication no LT',\n",
       "  'eutrophication (fate not incl.) no LT'),\n",
       " ('CML v4.8 2016 no LT',\n",
       "  'human toxicity no LT',\n",
       "  'human toxicity (HTP inf) no LT'),\n",
       " ('CML v4.8 2016 no LT',\n",
       "  'material resources: metals/minerals no LT',\n",
       "  'abiotic depletion potential (ADP): elements (ultimate reserves) no LT'),\n",
       " ('CML v4.8 2016 no LT',\n",
       "  'ozone depletion no LT',\n",
       "  'ozone layer depletion (ODP steady state) no LT'),\n",
       " ('CML v4.8 2016 no LT',\n",
       "  'photochemical oxidant formation no LT',\n",
       "  'photochemical oxidation (high NOx) no LT'),\n",
       " ('CML v4.8 2016',\n",
       "  'acidification',\n",
       "  'acidification (incl. fate, average Europe total, A&B)'),\n",
       " ('CML v4.8 2016', 'climate change', 'global warming potential (GWP100)'),\n",
       " ('CML v4.8 2016',\n",
       "  'ecotoxicity: freshwater',\n",
       "  'freshwater aquatic ecotoxicity (FAETP inf)'),\n",
       " ('CML v4.8 2016',\n",
       "  'ecotoxicity: marine',\n",
       "  'marine aquatic ecotoxicity (MAETP inf)'),\n",
       " ('CML v4.8 2016',\n",
       "  'ecotoxicity: terrestrial',\n",
       "  'terrestrial ecotoxicity (TETP inf)'),\n",
       " ('CML v4.8 2016',\n",
       "  'energy resources: non-renewable',\n",
       "  'abiotic depletion potential (ADP): fossil fuels'),\n",
       " ('CML v4.8 2016', 'eutrophication', 'eutrophication (fate not incl.)'),\n",
       " ('CML v4.8 2016', 'human toxicity', 'human toxicity (HTP inf)'),\n",
       " ('CML v4.8 2016',\n",
       "  'material resources: metals/minerals',\n",
       "  'abiotic depletion potential (ADP): elements (ultimate reserves)'),\n",
       " ('CML v4.8 2016',\n",
       "  'ozone depletion',\n",
       "  'ozone layer depletion (ODP steady state)'),\n",
       " ('CML v4.8 2016',\n",
       "  'photochemical oxidant formation',\n",
       "  'photochemical oxidation (high NOx)')]"
      ]
     },
     "execution_count": 252,
     "metadata": {},
     "output_type": "execute_result"
    }
   ],
   "source": [
    "[m for m in bd.methods if 'CML v4.8 2016' in str(m)]"
   ]
  },
  {
   "cell_type": "markdown",
   "id": "69ab1ce5-e847-4ff5-a855-edde283b7684",
   "metadata": {},
   "source": [
    "The query above resulted in two \"types\" of CML. One is what we were looking for ('CML v4.8 2016') and another one is 'CML v4.8 2016 no LT', where LT stands for Land Transformation. We can get exactly the one we are looking for by refining the search as follows:"
   ]
  },
  {
   "cell_type": "code",
   "execution_count": 251,
   "id": "ce7d17ed-9785-4690-8b98-279ff4cc760c",
   "metadata": {},
   "outputs": [
    {
     "data": {
      "text/plain": [
       "[('CML v4.8 2016',\n",
       "  'acidification',\n",
       "  'acidification (incl. fate, average Europe total, A&B)'),\n",
       " ('CML v4.8 2016', 'climate change', 'global warming potential (GWP100)'),\n",
       " ('CML v4.8 2016',\n",
       "  'ecotoxicity: freshwater',\n",
       "  'freshwater aquatic ecotoxicity (FAETP inf)'),\n",
       " ('CML v4.8 2016',\n",
       "  'ecotoxicity: marine',\n",
       "  'marine aquatic ecotoxicity (MAETP inf)'),\n",
       " ('CML v4.8 2016',\n",
       "  'ecotoxicity: terrestrial',\n",
       "  'terrestrial ecotoxicity (TETP inf)'),\n",
       " ('CML v4.8 2016',\n",
       "  'energy resources: non-renewable',\n",
       "  'abiotic depletion potential (ADP): fossil fuels'),\n",
       " ('CML v4.8 2016', 'eutrophication', 'eutrophication (fate not incl.)'),\n",
       " ('CML v4.8 2016', 'human toxicity', 'human toxicity (HTP inf)'),\n",
       " ('CML v4.8 2016',\n",
       "  'material resources: metals/minerals',\n",
       "  'abiotic depletion potential (ADP): elements (ultimate reserves)'),\n",
       " ('CML v4.8 2016',\n",
       "  'ozone depletion',\n",
       "  'ozone layer depletion (ODP steady state)'),\n",
       " ('CML v4.8 2016',\n",
       "  'photochemical oxidant formation',\n",
       "  'photochemical oxidation (high NOx)')]"
      ]
     },
     "execution_count": 251,
     "metadata": {},
     "output_type": "execute_result"
    }
   ],
   "source": [
    "[m for m in bd.methods if 'CML v4.8 2016' in str(m) and not 'no LT' in str(m)]"
   ]
  },
  {
   "cell_type": "code",
   "execution_count": 213,
   "id": "21c74cc8-80bd-4b61-a7d2-42dcde610fbb",
   "metadata": {},
   "outputs": [
    {
     "data": {
      "text/plain": [
       "tuple"
      ]
     },
     "execution_count": 213,
     "metadata": {},
     "output_type": "execute_result"
    }
   ],
   "source": [
    "Ozone_depletion = [m for m in bd.methods if 'ReCiPe 2016 v1.03, midpoint (E) no LT' \n",
    "                   in str(m) and 'ozone depletion no LT' in str(m)][0]\n",
    "type(Ozone_depletion)"
   ]
  },
  {
   "cell_type": "markdown",
   "id": "ca77b47b-09e0-4bee-b55d-299e0e56cac4",
   "metadata": {},
   "source": [
    "We can also set the characterization method as an object and benefit from the multiple 'Methods' associated with a pyhton object. In pyhton, methods are functions associated with an object, and can manipulate and perform action on it. et consider in are interested in the impact category Climate Change and respective characterization method, considered by 'CML v4.8 2016':"
   ]
  },
  {
   "cell_type": "code",
   "execution_count": 260,
   "id": "ee70f47b-38dc-4b83-98c4-53af7849a6b0",
   "metadata": {},
   "outputs": [],
   "source": [
    "cml_ClimateChange_method = bd.Method(('CML v4.8 2016', 'climate change', 'global warming potential (GWP100)'))"
   ]
  },
  {
   "cell_type": "code",
   "execution_count": 261,
   "id": "96ccb519-d2d1-4f45-939c-6059ce30df46",
   "metadata": {},
   "outputs": [
    {
     "data": {
      "text/plain": [
       "bw2data.method.Method"
      ]
     },
     "execution_count": 261,
     "metadata": {},
     "output_type": "execute_result"
    }
   ],
   "source": [
    "type(cml_ClimateChange_method)"
   ]
  },
  {
   "cell_type": "code",
   "execution_count": 262,
   "id": "6cee7383-61fd-490e-b384-aaaeb98d0547",
   "metadata": {},
   "outputs": [
    {
     "data": {
      "text/plain": [
       "{'description': '',\n",
       " 'filename': 'LCIA_Implementation_3.9.xlsx',\n",
       " 'unit': 'kg CO2-Eq',\n",
       " 'abbreviation': 'cml-v48-2016cg.231d6e8f8b1c199a47182515eba4032e',\n",
       " 'num_cfs': 185,\n",
       " 'geocollections': ['world']}"
      ]
     },
     "execution_count": 262,
     "metadata": {},
     "output_type": "execute_result"
    }
   ],
   "source": [
    "cml_ClimateChange_method.metadata"
   ]
  },
  {
   "cell_type": "code",
   "execution_count": 263,
   "id": "190d67e8-bb7d-4116-b06f-1397a08ae192",
   "metadata": {},
   "outputs": [
    {
     "data": {
      "text/plain": [
       "'kg CO2-Eq'"
      ]
     },
     "execution_count": 263,
     "metadata": {},
     "output_type": "execute_result"
    }
   ],
   "source": [
    "cml_ClimateChange_method.metadata['unit']"
   ]
  },
  {
   "cell_type": "code",
   "execution_count": 269,
   "id": "ee22162b-66e9-4365-9a7d-34a6ea68536b",
   "metadata": {},
   "outputs": [
    {
     "data": {
      "text/plain": [
       "'kg CO2-Eq'"
      ]
     },
     "execution_count": 269,
     "metadata": {},
     "output_type": "execute_result"
    }
   ],
   "source": [
    "cml_ClimateChange_method.metadata.get('unit')"
   ]
  },
  {
   "cell_type": "markdown",
   "id": "c57e8626-7354-4a01-91e1-b747f2b34132",
   "metadata": {},
   "source": [
    "We can get the elementary flows and corresponding CFs associated witht the LCIA method by doing the following:"
   ]
  },
  {
   "cell_type": "code",
   "execution_count": null,
   "id": "6b35ed65-4e90-4c21-b1d6-52526e4c8f52",
   "metadata": {},
   "outputs": [],
   "source": [
    "cml_ClimateChange_method.load()"
   ]
  },
  {
   "cell_type": "markdown",
   "id": "f2c750de-4c92-454c-9f8e-5bec341d3c0f",
   "metadata": {},
   "source": [
    "Lets create a dictionary that has as key the name of the elemenyary flows and as value the corresponding CF:\n",
    "\n",
    "<span style='background:red'> (!!!!! code not working) </span> "
   ]
  },
  {
   "cell_type": "code",
   "execution_count": 272,
   "id": "3e49f473-0356-45e5-b665-450fe791eb86",
   "metadata": {},
   "outputs": [
    {
     "ename": "MultipleResults",
     "evalue": "Found 25947 results for the given search",
     "output_type": "error",
     "traceback": [
      "\u001b[0;31m---------------------------------------------------------------------------\u001b[0m",
      "\u001b[0;31mMultipleResults\u001b[0m                           Traceback (most recent call last)",
      "Cell \u001b[0;32mIn[272], line 1\u001b[0m\n\u001b[0;32m----> 1\u001b[0m OD_dict \u001b[38;5;241m=\u001b[39m \u001b[43m{\u001b[49m\u001b[43mbd\u001b[49m\u001b[38;5;241;43m.\u001b[39;49m\u001b[43mget_activity\u001b[49m\u001b[43m(\u001b[49m\u001b[43mef\u001b[49m\u001b[43m[\u001b[49m\u001b[38;5;241;43m0\u001b[39;49m\u001b[43m]\u001b[49m\u001b[43m)\u001b[49m\u001b[43m[\u001b[49m\u001b[38;5;124;43m'\u001b[39;49m\u001b[38;5;124;43mname\u001b[39;49m\u001b[38;5;124;43m'\u001b[39;49m\u001b[43m]\u001b[49m\u001b[43m:\u001b[49m\u001b[43mef\u001b[49m\u001b[43m[\u001b[49m\u001b[38;5;241;43m1\u001b[39;49m\u001b[43m]\u001b[49m\u001b[43m \u001b[49m\u001b[38;5;28;43;01mfor\u001b[39;49;00m\u001b[43m \u001b[49m\u001b[43mef\u001b[49m\u001b[43m \u001b[49m\u001b[38;5;129;43;01min\u001b[39;49;00m\u001b[43m \u001b[49m\u001b[43mcml_ClimateChange_method\u001b[49m\u001b[38;5;241;43m.\u001b[39;49m\u001b[43mload\u001b[49m\u001b[43m(\u001b[49m\u001b[43m)\u001b[49m\u001b[43m}\u001b[49m\n",
      "Cell \u001b[0;32mIn[272], line 1\u001b[0m, in \u001b[0;36m<dictcomp>\u001b[0;34m(.0)\u001b[0m\n\u001b[0;32m----> 1\u001b[0m OD_dict \u001b[38;5;241m=\u001b[39m {\u001b[43mbd\u001b[49m\u001b[38;5;241;43m.\u001b[39;49m\u001b[43mget_activity\u001b[49m\u001b[43m(\u001b[49m\u001b[43mef\u001b[49m\u001b[43m[\u001b[49m\u001b[38;5;241;43m0\u001b[39;49m\u001b[43m]\u001b[49m\u001b[43m)\u001b[49m[\u001b[38;5;124m'\u001b[39m\u001b[38;5;124mname\u001b[39m\u001b[38;5;124m'\u001b[39m]:ef[\u001b[38;5;241m1\u001b[39m] \u001b[38;5;28;01mfor\u001b[39;00m ef \u001b[38;5;129;01min\u001b[39;00m cml_ClimateChange_method\u001b[38;5;241m.\u001b[39mload()}\n",
      "File \u001b[0;32m/opt/anaconda3/envs/bw25/lib/python3.11/site-packages/bw2data/utils.py:440\u001b[0m, in \u001b[0;36mget_activity\u001b[0;34m(key, **kwargs)\u001b[0m\n\u001b[1;32m    438\u001b[0m \u001b[38;5;28;01melif\u001b[39;00m \u001b[38;5;28misinstance\u001b[39m(key, numbers\u001b[38;5;241m.\u001b[39mIntegral):\n\u001b[1;32m    439\u001b[0m     kwargs[\u001b[38;5;124m\"\u001b[39m\u001b[38;5;124mid\u001b[39m\u001b[38;5;124m\"\u001b[39m] \u001b[38;5;241m=\u001b[39m key\n\u001b[0;32m--> 440\u001b[0m \u001b[38;5;28;01mreturn\u001b[39;00m \u001b[43mget_node\u001b[49m\u001b[43m(\u001b[49m\u001b[38;5;241;43m*\u001b[39;49m\u001b[38;5;241;43m*\u001b[39;49m\u001b[43mkwargs\u001b[49m\u001b[43m)\u001b[49m\n",
      "File \u001b[0;32m/opt/anaconda3/envs/bw25/lib/python3.11/site-packages/bw2data/utils.py:418\u001b[0m, in \u001b[0;36mget_node\u001b[0;34m(**kwargs)\u001b[0m\n\u001b[1;32m    408\u001b[0m     candidates \u001b[38;5;241m=\u001b[39m [\n\u001b[1;32m    409\u001b[0m         obj\n\u001b[1;32m    410\u001b[0m         \u001b[38;5;28;01mfor\u001b[39;00m obj \u001b[38;5;129;01min\u001b[39;00m candidates\n\u001b[0;32m   (...)\u001b[0m\n\u001b[1;32m    415\u001b[0m         )\n\u001b[1;32m    416\u001b[0m     ]\n\u001b[1;32m    417\u001b[0m \u001b[38;5;28;01mif\u001b[39;00m \u001b[38;5;28mlen\u001b[39m(candidates) \u001b[38;5;241m>\u001b[39m \u001b[38;5;241m1\u001b[39m:\n\u001b[0;32m--> 418\u001b[0m     \u001b[38;5;28;01mraise\u001b[39;00m MultipleResults(\n\u001b[1;32m    419\u001b[0m         \u001b[38;5;124m\"\u001b[39m\u001b[38;5;124mFound \u001b[39m\u001b[38;5;132;01m{}\u001b[39;00m\u001b[38;5;124m results for the given search\u001b[39m\u001b[38;5;124m\"\u001b[39m\u001b[38;5;241m.\u001b[39mformat(\u001b[38;5;28mlen\u001b[39m(candidates))\n\u001b[1;32m    420\u001b[0m     )\n\u001b[1;32m    421\u001b[0m \u001b[38;5;28;01melif\u001b[39;00m \u001b[38;5;129;01mnot\u001b[39;00m candidates:\n\u001b[1;32m    422\u001b[0m     \u001b[38;5;28;01mraise\u001b[39;00m UnknownObject\n",
      "\u001b[0;31mMultipleResults\u001b[0m: Found 25947 results for the given search"
     ]
    }
   ],
   "source": [
    "OD_dict = {bd.get_activity(ef[0])['name']:ef[1] for ef in cml_ClimateChange_method.load()}"
   ]
  },
  {
   "cell_type": "code",
   "execution_count": 273,
   "id": "98ec9bc8-8f8c-48da-a60b-3196690d5e28",
   "metadata": {},
   "outputs": [
    {
     "ename": "TypeError",
     "evalue": "list indices must be integers or slices, not str",
     "output_type": "error",
     "traceback": [
      "\u001b[0;31m---------------------------------------------------------------------------\u001b[0m",
      "\u001b[0;31mTypeError\u001b[0m                                 Traceback (most recent call last)",
      "Cell \u001b[0;32mIn[273], line 1\u001b[0m\n\u001b[0;32m----> 1\u001b[0m OD_dict \u001b[38;5;241m=\u001b[39m \u001b[43m{\u001b[49m\u001b[43mmy_bio\u001b[49m\u001b[38;5;241;43m.\u001b[39;49m\u001b[43mget\u001b[49m\u001b[43m(\u001b[49m\u001b[43mef\u001b[49m\u001b[43m[\u001b[49m\u001b[38;5;241;43m0\u001b[39;49m\u001b[43m]\u001b[49m\u001b[43m[\u001b[49m\u001b[38;5;124;43m'\u001b[39;49m\u001b[38;5;124;43mname\u001b[39;49m\u001b[38;5;124;43m'\u001b[39;49m\u001b[43m]\u001b[49m\u001b[43m)\u001b[49m\u001b[43m:\u001b[49m\u001b[43mef\u001b[49m\u001b[43m[\u001b[49m\u001b[38;5;241;43m1\u001b[39;49m\u001b[43m]\u001b[49m\u001b[43m \u001b[49m\u001b[38;5;28;43;01mfor\u001b[39;49;00m\u001b[43m \u001b[49m\u001b[43mef\u001b[49m\u001b[43m \u001b[49m\u001b[38;5;129;43;01min\u001b[39;49;00m\u001b[43m \u001b[49m\u001b[43mcml_ClimateChange_method\u001b[49m\u001b[38;5;241;43m.\u001b[39;49m\u001b[43mload\u001b[49m\u001b[43m(\u001b[49m\u001b[43m)\u001b[49m\u001b[43m}\u001b[49m\n",
      "Cell \u001b[0;32mIn[273], line 1\u001b[0m, in \u001b[0;36m<dictcomp>\u001b[0;34m(.0)\u001b[0m\n\u001b[0;32m----> 1\u001b[0m OD_dict \u001b[38;5;241m=\u001b[39m {my_bio\u001b[38;5;241m.\u001b[39mget(\u001b[43mef\u001b[49m\u001b[43m[\u001b[49m\u001b[38;5;241;43m0\u001b[39;49m\u001b[43m]\u001b[49m\u001b[43m[\u001b[49m\u001b[38;5;124;43m'\u001b[39;49m\u001b[38;5;124;43mname\u001b[39;49m\u001b[38;5;124;43m'\u001b[39;49m\u001b[43m]\u001b[49m):ef[\u001b[38;5;241m1\u001b[39m] \u001b[38;5;28;01mfor\u001b[39;00m ef \u001b[38;5;129;01min\u001b[39;00m cml_ClimateChange_method\u001b[38;5;241m.\u001b[39mload()}\n",
      "\u001b[0;31mTypeError\u001b[0m: list indices must be integers or slices, not str"
     ]
    }
   ],
   "source": [
    "OD_dict = {my_bio.get(ef[0])['name']:ef[1] for ef in cml_ClimateChange_method.load()}"
   ]
  },
  {
   "cell_type": "code",
   "execution_count": null,
   "id": "18fb2278-7252-4915-be83-3c617e6f5f58",
   "metadata": {},
   "outputs": [],
   "source": []
  },
  {
   "cell_type": "code",
   "execution_count": null,
   "id": "89739381-de10-4529-8d48-14212ba0b1f9",
   "metadata": {},
   "outputs": [],
   "source": []
  },
  {
   "cell_type": "markdown",
   "id": "17f96e23-856e-4efa-be75-3053fcd93eed",
   "metadata": {},
   "source": [
    "### Ecoinvent\n",
    "\n",
    "#### Importing Ecoinvent\n",
    "\n",
    "You need to get the ecoinvent files first. To do so, follow the following steps:\n",
    "- Go to STI course's Canvas page -> Module <span style='background:yellow'> \"XXXXXX\" </span>\n",
    "- Download the file ecoinvent <span style='background:yellow'> XXXXXX </span>  in a folder of yours. Make sure you remember the full path to this directory.\n",
    "- The file you have downloaded is a compressed archive of many files (like with winzip or winrar). Extract the files from the .7z archive, e.g. by double clicking it. If it does not work, install a software that can do that. \n",
    "Now you an run the cells below. Make sure you change the path line and replace it with the one where you have extracted the files. For example, I have extracted the files in a folder called \"datasets\". The path to this folder is: */Users/joaosantos/Library/CloudStorage/OneDrive-UniversityofTwente/UT_Academic Life/My Software Purchase/ecoinvent v3.9.1/datasets*  You will see this same line in the script and you need to change it with your directory.\n",
    "\n",
    "<span style='background:yellow'> https://medium.com/game-of-data/12-things-to-know-about-jupyter-notebook-markdown-3f6cef811707 </span>\n"
   ]
  },
  {
   "cell_type": "markdown",
   "id": "2013f5d1-6f59-438b-b343-66a0b40359ba",
   "metadata": {},
   "source": [
    "Let’s see the projects you have created:"
   ]
  },
  {
   "cell_type": "code",
   "execution_count": 229,
   "id": "71751ada-5b20-4ae0-b958-74df01f6bffa",
   "metadata": {},
   "outputs": [
    {
     "data": {
      "text/plain": [
       "Brightway2 projects manager with 5 objects:\n",
       "\t2024_STI_BW25_Lecture\n",
       "\tTest_location_specifc_folder\n",
       "\tbw25_20240406\n",
       "\tbw25_test\n",
       "\tdefault\n",
       "Use `projects.report()` to get a report on all projects."
      ]
     },
     "execution_count": 229,
     "metadata": {},
     "output_type": "execute_result"
    }
   ],
   "source": [
    "bd.projects #Checked the projects you created"
   ]
  },
  {
   "cell_type": "code",
   "execution_count": 230,
   "id": "3541139c-8583-46b3-8b23-7e32ec08ff77",
   "metadata": {},
   "outputs": [],
   "source": [
    "# Activate the project we are working on\n",
    "bd.projects.set_current('2024_STI_BW25_Lecture') "
   ]
  },
  {
   "cell_type": "markdown",
   "id": "5862d643-6ff1-44cf-9ace-722ba7009ffa",
   "metadata": {},
   "source": [
    " Let’s see what databases we have:"
   ]
  },
  {
   "cell_type": "code",
   "execution_count": 231,
   "id": "194db14f-c537-4da8-a1e0-a50ef131b96d",
   "metadata": {},
   "outputs": [
    {
     "data": {
      "text/plain": [
       "Databases dictionary with 1 object(s):\n",
       "\tbiosphere3"
      ]
     },
     "execution_count": 231,
     "metadata": {},
     "output_type": "execute_result"
    }
   ],
   "source": [
    "# If this is your first time using this project, this should be an empty dictionary! \n",
    "bd.databases"
   ]
  },
  {
   "cell_type": "markdown",
   "id": "edd88a05-abbf-4d0f-872b-b9b0eac51001",
   "metadata": {},
   "source": [
    "Let's import the ecoinvent database"
   ]
  },
  {
   "cell_type": "code",
   "execution_count": 232,
   "id": "87ce4ede-2993-41c5-9483-540eef14bc22",
   "metadata": {},
   "outputs": [
    {
     "name": "stdout",
     "output_type": "stream",
     "text": [
      "Extracting XML data from 21238 datasets\n",
      "Extracted 21238 datasets in 16.65 seconds\n",
      "Applying strategy: normalize_units\n",
      "Applying strategy: update_ecoinvent_locations\n",
      "Applying strategy: remove_zero_amount_coproducts\n",
      "Applying strategy: remove_zero_amount_inputs_with_no_activity\n",
      "Applying strategy: remove_unnamed_parameters\n",
      "Applying strategy: es2_assign_only_product_with_amount_as_reference_product\n",
      "Applying strategy: assign_single_product_as_activity\n",
      "Applying strategy: create_composite_code\n",
      "Applying strategy: drop_unspecified_subcategories\n",
      "Applying strategy: fix_ecoinvent_flows_pre35\n",
      "Applying strategy: drop_temporary_outdated_biosphere_flows\n",
      "Applying strategy: link_biosphere_by_flow_uuid\n",
      "Applying strategy: link_internal_technosphere_by_composite_code\n",
      "Applying strategy: delete_exchanges_missing_activity\n",
      "Applying strategy: delete_ghost_exchanges\n",
      "Applying strategy: remove_uncertainty_from_negative_loss_exchanges\n",
      "Applying strategy: fix_unreasonably_high_lognormal_uncertainties\n",
      "Applying strategy: convert_activity_parameters_to_list\n",
      "Applying strategy: add_cpc_classification_from_single_reference_product\n",
      "Applying strategy: delete_none_synonyms\n",
      "Applying strategy: update_social_flows_in_older_consequential\n",
      "Applying strategy: set_lognormal_loc_value\n",
      "Applied 22 strategies in 3.08 seconds\n",
      "21238 datasets\n",
      "674593 exchanges\n",
      "0 unlinked exchanges\n",
      "  \n",
      "Not able to determine geocollections for all datasets. This database is not ready for regionalization.\n"
     ]
    },
    {
     "name": "stderr",
     "output_type": "stream",
     "text": [
      "100%|███████████████████████████████████| 21238/21238 [00:13<00:00, 1575.21it/s]\n"
     ]
    },
    {
     "name": "stdout",
     "output_type": "stream",
     "text": [
      "Vacuuming database \n",
      "Created database: ecoinvent-391-cutoff\n"
     ]
    }
   ],
   "source": [
    "#directory where the ecoinvent is saved\n",
    "ei_path = \"ecoinvent 3.9.1_cutoff_ecoSpold02/datasets\"\n",
    "\n",
    "# Give the database a name \n",
    "# In this course we will use ecoinvent v3.9.1 cutoff.\n",
    "ei_name = \"ecoinvent-391-cutoff\"\n",
    "\n",
    "if ei_name in bd.databases:\n",
    "    print(\"Database has already been imported\")\n",
    "else:\n",
    "    # Go ahead and import:\n",
    "    ei_importer = bi.SingleOutputEcospold2Importer(ei_path, ei_name)\n",
    "    # Apply stragegies \n",
    "    ei_importer.apply_strategies()\n",
    "    # We can get some statistics\n",
    "    ei_importer.statistics()\n",
    "    # Now we will write the database into our project. \n",
    "    ei_importer.write_database()\n",
    "    "
   ]
  },
  {
   "cell_type": "markdown",
   "id": "f77a2d4a-e041-485e-955a-9bcdabf2df2f",
   "metadata": {},
   "source": [
    "Let's see the databases we have in our working project:"
   ]
  },
  {
   "cell_type": "code",
   "execution_count": 233,
   "id": "3a43ba73-9a99-47bb-997e-3e2b0d770317",
   "metadata": {},
   "outputs": [
    {
     "data": {
      "text/plain": [
       "Databases dictionary with 2 object(s):\n",
       "\tbiosphere3\n",
       "\tecoinvent-391-cutoff"
      ]
     },
     "execution_count": 233,
     "metadata": {},
     "output_type": "execute_result"
    }
   ],
   "source": [
    "bd.databases"
   ]
  },
  {
   "cell_type": "markdown",
   "id": "7a488106-f205-4cdc-a171-2de462f5aba7",
   "metadata": {},
   "source": [
    "The db we have just imported in now in our project. Let's assign it to a variable:"
   ]
  },
  {
   "cell_type": "code",
   "execution_count": 420,
   "id": "59437872-ce72-401c-b4d4-ce2256d8393f",
   "metadata": {},
   "outputs": [],
   "source": [
    "eidb = bd.Database(ei_name)"
   ]
  },
  {
   "cell_type": "code",
   "execution_count": 241,
   "id": "85ee6733-3022-4e66-9a96-078386f695fb",
   "metadata": {},
   "outputs": [
    {
     "name": "stdout",
     "output_type": "stream",
     "text": [
      "The imported ecoinvent database is of type <class 'bw2data.backends.base.SQLiteBackend'> and has a length of 21238.\n"
     ]
    }
   ],
   "source": [
    "print(\"The imported ecoinvent database is of type {} and has a length of {}.\".format(type(eidb), len(eidb)))"
   ]
  },
  {
   "cell_type": "code",
   "execution_count": null,
   "id": "e326c376-214d-4d89-b9be-3985c476de68",
   "metadata": {},
   "outputs": [],
   "source": []
  },
  {
   "cell_type": "markdown",
   "id": "1b49e8c9-bc7d-4436-b1b1-02baa61fbb89",
   "metadata": {},
   "source": [
    "#### Navigating ecoinvent"
   ]
  },
  {
   "cell_type": "markdown",
   "id": "beaca0f5-22ba-4199-b375-9f5ac79382b2",
   "metadata": {},
   "source": [
    "##### LCI activities"
   ]
  },
  {
   "cell_type": "markdown",
   "id": "71bb8522-256f-4b50-88b4-68e32f318269",
   "metadata": {},
   "source": [
    "In the context of LCI databases, activities are the nodes \"within the technosphere\". They are therefore the columns in the technosphere matrix A.\n",
    "\n",
    "There are different ways to get access to an activity. Similarly to the biosphere database, we can use the random() method  to explore a random activity in the ecoinvent database."
   ]
  },
  {
   "cell_type": "code",
   "execution_count": 275,
   "id": "9bc5e7a6-7b1f-442f-83ec-063d5ecb3304",
   "metadata": {},
   "outputs": [
    {
     "name": "stdout",
     "output_type": "stream",
     "text": [
      "'petroleum and gas production, onshore' (cubic meter, AZ, None)\n"
     ]
    }
   ],
   "source": [
    "random_act = eidb.random()\n",
    "print(random_act)"
   ]
  },
  {
   "cell_type": "code",
   "execution_count": 276,
   "id": "72850782-714b-4995-8313-f9f614a1d60d",
   "metadata": {},
   "outputs": [
    {
     "data": {
      "text/plain": [
       "bw2data.backends.proxies.Activity"
      ]
     },
     "execution_count": 276,
     "metadata": {},
     "output_type": "execute_result"
    }
   ],
   "source": [
    "type(random_act)"
   ]
  },
  {
   "cell_type": "markdown",
   "id": "bd6e5738-6bcf-46ff-9100-e7c2c77d75e6",
   "metadata": {},
   "source": [
    "To know what is stored in an activity object, let's convert our random act in a dictionary:"
   ]
  },
  {
   "cell_type": "code",
   "execution_count": 277,
   "id": "d772a006-70cc-4861-905c-f2b6a8cf0859",
   "metadata": {},
   "outputs": [
    {
     "name": "stdout",
     "output_type": "stream",
     "text": [
      "{'activity': 'd7b76c6a-806d-5101-9e72-52e621e8d554',\n",
      " 'activity type': 'ordinary transforming activity',\n",
      " 'authors': {'data entry': {'email': 'vadenbo@ecoinvent.org',\n",
      "                            'name': 'Carl Vadenbo'},\n",
      "             'data generator': {'email': 'meili@esu-services.ch',\n",
      "                                'name': 'Christoph Meili'}},\n",
      " 'classifications': [('ISIC rev.4 ecoinvent',\n",
      "                      '06:Extraction of crude petroleum and natural gas'),\n",
      "                     ('CPC',\n",
      "                      '12020: Natural gas, liquefied or in the gaseous state')],\n",
      " 'code': 'b453747c9cc71737805ef6127eea6440',\n",
      " 'comment': 'The multioutput process “petroleum and gas production, onshore” '\n",
      "            'delivers the co-products crude petroleum oil [kg] and natural gas '\n",
      "            '[m3] via conventional extraction methods. Separate production of '\n",
      "            'crude petroleum oil and natural gas (i.e., non-associated) is '\n",
      "            'considered implicitly within this inventory, which is based on '\n",
      "            'total output by country.\\n'\n",
      "            'The production of petroleum and/or natural gas in Azerbaijan in '\n",
      "            '2019 is modelled as 90 % offshore and  10 % onshore production '\n",
      "            'following the approach described in Meili et al. (2022; section '\n",
      "            '4.1).\\n'\n",
      "            'The dataset covers the environmental impact of onshore extraction '\n",
      "            'of crude petroleum oil and natural gas. Onshore production '\n",
      "            'includes pumps, separators, tanks, pipes, energy generation, and '\n",
      "            'cleaning processes (especially related to wastewater cleaning). '\n",
      "            'The inventory includes country-specific methane emissions '\n",
      "            '(vented, fugitive, and from flaring), the discharge of produced '\n",
      "            'water, and the direct energy use during oil extraction including '\n",
      "            'drilling and flaring. Flaring is the controlled and intentional '\n",
      "            'burning of natural gas as part of production and processing of '\n",
      "            'crude oil and natural gas. Reasons for flaring include safety, '\n",
      "            'economics (oil vs. gas price), disposal of unusable gas quality '\n",
      "            'et cetera. The average usage of a plant is estimated as 20 years, '\n",
      "            'but exceptions can happen, like for large oil fields as Rumaila '\n",
      "            'in Iraq. Consequently, there is a possibility of underestimating '\n",
      "            'land use. \\n'\n",
      "            'Furthermore, emissions due to oil spills related with drilling '\n",
      "            'and pumping operations are included in this inventory, but '\n",
      "            'excluding spills related to transportation and refining. Amounts '\n",
      "            'of oil spilled to sea (offshore) and river/soil (onshore) per kg '\n",
      "            'oil-equivalent of production were derived for world regions from '\n",
      "            'three-year averages based on IOGP (2020). \\n'\n",
      "            'The inventory for this combined crude oil and natural gas '\n",
      "            'production activity is mainly allocated based on the net '\n",
      "            'calorific values and the annual production volumes of the '\n",
      "            'co-products. The allocation of methane emissions from venting and '\n",
      "            'fugative natural gas emissions is based on the country-specific '\n",
      "            'information for 2019 from IEA\"s Methane Tracker 2022. The IEA '\n",
      "            'factors for oil and gas extraction are used directly to split the '\n",
      "            'total emissions between natural gas and crude oil per country. '\n",
      "            'Freshwater use and water discharge are allocated to crude '\n",
      "            'petroleum oil only.The underlying inventory was created as '\n",
      "            'described in Meili et al. (2022), using generic a gross calorific '\n",
      "            'value (GCV) of 40MJ/m3, a net calorific value (NCV) of 36.0 MJ/m3 '\n",
      "            'and a density of 0.735kg/m3 for natural gas, in line with the '\n",
      "            'global statistics (referring to standard cubic meters, Sm3, '\n",
      "            'measured at 15°C and 1013 mbar). A net calorific value of 43.4 '\n",
      "            'MJ/kg is used for crude petroleum oil and related products like '\n",
      "            'condensates and liquefied natural gas liquids, with the density '\n",
      "            'of crude oil set to 858.1 kg/m3.\\n'\n",
      "            'Reference(s): \\n'\n",
      "            'C. Meili, N. Jungbluth, M. Bussa (2022) Life cycle inventories of '\n",
      "            'crude oil and natural gas extraction. ESU-services Ltd. '\n",
      "            'Schaffhausen, Switzerland. Available from: '\n",
      "            'http://esu-ser-vices.ch/data/public-lci-reports/ \\n'\n",
      "            'IOGP (2020) Environmental performance indicators - 2019 data. '\n",
      "            'International Association of Oil and Gas Producers (IOGP), '\n",
      "            'retrieved from: '\n",
      "            'https://www.iogp.org/bookstore/product-category/data-series/environmental-performance/\\n'\n",
      "            'Geography:  Azerbaijan\\n'\n",
      "            'Technology:  This dataset represents the onshore extraction of '\n",
      "            'petroleum and gas via conventional extraction methods. This '\n",
      "            'includes the gas lift process and deep-pump pumping (see Meili et '\n",
      "            'al., 2022, chapter 3.1), as well as a default share of 15% '\n",
      "            'enhanced oil recovery (EOR; described in section 4.2). For the '\n",
      "            'natural gas production, also the processing of the gas (e.g., '\n",
      "            'drying and desulfurization) is considered.\\n'\n",
      "            'Time period:  Time of most relevant publications and statistics. '\n",
      "            'Other generic data, e.g. for infrastructure are based on older '\n",
      "            'publications.',\n",
      " 'database': 'ecoinvent-391-cutoff',\n",
      " 'filename': 'd7b76c6a-806d-5101-9e72-52e621e8d554_a9007f10-7e39-4d50-8f4a-d6d03ce3d673.spold',\n",
      " 'flow': 'a9007f10-7e39-4d50-8f4a-d6d03ce3d673',\n",
      " 'id': 16936,\n",
      " 'location': 'AZ',\n",
      " 'name': 'petroleum and gas production, onshore',\n",
      " 'parameters': [],\n",
      " 'production amount': 1.0,\n",
      " 'reference product': 'natural gas, high pressure',\n",
      " 'synonyms': [],\n",
      " 'type': 'process',\n",
      " 'unit': 'cubic meter'}\n"
     ]
    }
   ],
   "source": [
    "from pprint import pprint\n",
    "pprint(random_act.as_dict())"
   ]
  },
  {
   "cell_type": "markdown",
   "id": "c9966504-3bc0-43cc-9470-3d267ba847ca",
   "metadata": {},
   "source": [
    "Another way to get the same info consists of using the method _data. "
   ]
  },
  {
   "cell_type": "code",
   "execution_count": 296,
   "id": "885be249-e332-4f82-afc1-49ea7697bb7e",
   "metadata": {},
   "outputs": [
    {
     "data": {
      "text/plain": [
       "{'comment': 'The multioutput process “petroleum and gas production, onshore” delivers the co-products crude petroleum oil [kg] and natural gas [m3] via conventional extraction methods. Separate production of crude petroleum oil and natural gas (i.e., non-associated) is considered implicitly within this inventory, which is based on total output by country.\\nThe production of petroleum and/or natural gas in Azerbaijan in 2019 is modelled as 90 % offshore and  10 % onshore production following the approach described in Meili et al. (2022; section 4.1).\\nThe dataset covers the environmental impact of onshore extraction of crude petroleum oil and natural gas. Onshore production includes pumps, separators, tanks, pipes, energy generation, and cleaning processes (especially related to wastewater cleaning). The inventory includes country-specific methane emissions (vented, fugitive, and from flaring), the discharge of produced water, and the direct energy use during oil extraction including drilling and flaring. Flaring is the controlled and intentional burning of natural gas as part of production and processing of crude oil and natural gas. Reasons for flaring include safety, economics (oil vs. gas price), disposal of unusable gas quality et cetera. The average usage of a plant is estimated as 20 years, but exceptions can happen, like for large oil fields as Rumaila in Iraq. Consequently, there is a possibility of underestimating land use. \\nFurthermore, emissions due to oil spills related with drilling and pumping operations are included in this inventory, but excluding spills related to transportation and refining. Amounts of oil spilled to sea (offshore) and river/soil (onshore) per kg oil-equivalent of production were derived for world regions from three-year averages based on IOGP (2020). \\nThe inventory for this combined crude oil and natural gas production activity is mainly allocated based on the net calorific values and the annual production volumes of the co-products. The allocation of methane emissions from venting and fugative natural gas emissions is based on the country-specific information for 2019 from IEA\"s Methane Tracker 2022. The IEA factors for oil and gas extraction are used directly to split the total emissions between natural gas and crude oil per country. Freshwater use and water discharge are allocated to crude petroleum oil only.The underlying inventory was created as described in Meili et al. (2022), using generic a gross calorific value (GCV) of 40MJ/m3, a net calorific value (NCV) of 36.0 MJ/m3 and a density of 0.735kg/m3 for natural gas, in line with the global statistics (referring to standard cubic meters, Sm3, measured at 15°C and 1013 mbar). A net calorific value of 43.4 MJ/kg is used for crude petroleum oil and related products like condensates and liquefied natural gas liquids, with the density of crude oil set to 858.1 kg/m3.\\nReference(s): \\nC. Meili, N. Jungbluth, M. Bussa (2022) Life cycle inventories of crude oil and natural gas extraction. ESU-services Ltd. Schaffhausen, Switzerland. Available from: http://esu-ser-vices.ch/data/public-lci-reports/ \\nIOGP (2020) Environmental performance indicators - 2019 data. International Association of Oil and Gas Producers (IOGP), retrieved from: https://www.iogp.org/bookstore/product-category/data-series/environmental-performance/\\nGeography:  Azerbaijan\\nTechnology:  This dataset represents the onshore extraction of petroleum and gas via conventional extraction methods. This includes the gas lift process and deep-pump pumping (see Meili et al., 2022, chapter 3.1), as well as a default share of 15% enhanced oil recovery (EOR; described in section 4.2). For the natural gas production, also the processing of the gas (e.g., drying and desulfurization) is considered.\\nTime period:  Time of most relevant publications and statistics. Other generic data, e.g. for infrastructure are based on older publications.',\n",
       " 'classifications': [('ISIC rev.4 ecoinvent',\n",
       "   '06:Extraction of crude petroleum and natural gas'),\n",
       "  ('CPC', '12020: Natural gas, liquefied or in the gaseous state')],\n",
       " 'activity type': 'ordinary transforming activity',\n",
       " 'activity': 'd7b76c6a-806d-5101-9e72-52e621e8d554',\n",
       " 'database': 'ecoinvent-391-cutoff',\n",
       " 'filename': 'd7b76c6a-806d-5101-9e72-52e621e8d554_a9007f10-7e39-4d50-8f4a-d6d03ce3d673.spold',\n",
       " 'location': 'AZ',\n",
       " 'name': 'petroleum and gas production, onshore',\n",
       " 'synonyms': [],\n",
       " 'parameters': [],\n",
       " 'authors': {'data entry': {'name': 'Carl Vadenbo',\n",
       "   'email': 'vadenbo@ecoinvent.org'},\n",
       "  'data generator': {'name': 'Christoph Meili',\n",
       "   'email': 'meili@esu-services.ch'}},\n",
       " 'type': 'process',\n",
       " 'reference product': 'natural gas, high pressure',\n",
       " 'flow': 'a9007f10-7e39-4d50-8f4a-d6d03ce3d673',\n",
       " 'unit': 'cubic meter',\n",
       " 'production amount': 1.0,\n",
       " 'code': 'b453747c9cc71737805ef6127eea6440',\n",
       " 'id': 16936}"
      ]
     },
     "execution_count": 296,
     "metadata": {},
     "output_type": "execute_result"
    }
   ],
   "source": [
    "random_act._data"
   ]
  },
  {
   "cell_type": "markdown",
   "id": "46281e39-e0b2-46de-ba97-173328625e86",
   "metadata": {},
   "source": [
    "We can get acess to the value of each key by using the method .get(). Let's take as an example the key 'reference product'. The corresponding value is retrieved by running the code below:"
   ]
  },
  {
   "cell_type": "code",
   "execution_count": 301,
   "id": "abfbe70c-e946-49c4-b86b-942af09392d5",
   "metadata": {},
   "outputs": [
    {
     "data": {
      "text/plain": [
       "'natural gas, high pressure'"
      ]
     },
     "execution_count": 301,
     "metadata": {},
     "output_type": "execute_result"
    }
   ],
   "source": [
    "random_act.get('reference product')"
   ]
  },
  {
   "cell_type": "code",
   "execution_count": null,
   "id": "cca8cc9b-d645-440b-bbd3-22bb898853f4",
   "metadata": {},
   "outputs": [],
   "source": [
    "Two alternative ways to obtain the same info are given below:"
   ]
  },
  {
   "cell_type": "code",
   "execution_count": 302,
   "id": "c6660e10-cb55-49fa-905b-9ed8331bc9e9",
   "metadata": {},
   "outputs": [
    {
     "data": {
      "text/plain": [
       "'natural gas, high pressure'"
      ]
     },
     "execution_count": 302,
     "metadata": {},
     "output_type": "execute_result"
    }
   ],
   "source": [
    "random_act._data['reference product']"
   ]
  },
  {
   "cell_type": "code",
   "execution_count": 303,
   "id": "6884b30e-2d76-4ea6-8f68-48e39fabd452",
   "metadata": {},
   "outputs": [
    {
     "data": {
      "text/plain": [
       "'natural gas, high pressure'"
      ]
     },
     "execution_count": 303,
     "metadata": {},
     "output_type": "execute_result"
    }
   ],
   "source": [
    "random_act['reference product']"
   ]
  },
  {
   "cell_type": "markdown",
   "id": "bd31df96-16c0-4708-909c-846d317f7fb8",
   "metadata": {},
   "source": [
    "We can also use the search method to search for specific activities. Let's search for three activities that commonly used in pavement LCA studies, namely the (1) production of limestone, (2) production of bitumen, and (2) transportation "
   ]
  },
  {
   "cell_type": "code",
   "execution_count": 287,
   "id": "3f602f78-3463-420f-8af6-4d5d481dd06f",
   "metadata": {},
   "outputs": [
    {
     "data": {
      "text/plain": [
       "['limestone quarry operation' (kilogram, IN, None),\n",
       " 'limestone quarry operation' (kilogram, CA-QC, None),\n",
       " 'market for limestone, unprocessed' (kilogram, CH, None),\n",
       " 'limestone quarry operation' (kilogram, RoW, None),\n",
       " 'market for limestone, unprocessed' (kilogram, IN, None),\n",
       " 'limestone quarry operation' (kilogram, CH, None),\n",
       " 'market for limestone residue' (kilogram, CH, None),\n",
       " 'limestone quarry construction' (unit, CH, None),\n",
       " 'recultivation, limestone mine' (square meter, CH, None),\n",
       " 'recultivation, limestone mine' (square meter, RoW, None),\n",
       " 'market for limestone, unprocessed' (kilogram, RoW, None),\n",
       " 'market for limestone residue' (kilogram, RoW, None),\n",
       " 'limestone production, crushed, washed' (kilogram, CA-QC, None),\n",
       " 'limestone quarry construction' (unit, RoW, None),\n",
       " 'limestone production, crushed, washed' (kilogram, CH, None),\n",
       " 'market for limestone, crushed, washed' (kilogram, CH, None),\n",
       " 'market for limestone, crushed, washed' (kilogram, RoW, None),\n",
       " 'limestone production, crushed, for mill' (kilogram, IN, None),\n",
       " 'limestone production, crushed, for mill' (kilogram, CA-QC, None),\n",
       " 'market for recultivation, limestone mine' (square meter, GLO, None),\n",
       " 'limestone production, crushed, washed' (kilogram, RoW, None),\n",
       " 'market for limestone quarry infrastructure' (unit, GLO, None),\n",
       " 'limestone production, crushed, for mill' (kilogram, CH, None),\n",
       " 'market for limestone, crushed, for mill' (kilogram, CH, None),\n",
       " 'market for limestone, crushed, for mill' (kilogram, IN, None)]"
      ]
     },
     "execution_count": 287,
     "metadata": {},
     "output_type": "execute_result"
    }
   ],
   "source": [
    "# Using search\n",
    "eidb.search('limestone')"
   ]
  },
  {
   "cell_type": "markdown",
   "id": "2ce7fbb4-cba9-44a3-820a-28f827be524b",
   "metadata": {},
   "source": [
    "The code above retrieves multiple activities involving limestone. We can refine the search by using filter with as many criteria as we want (provided that they are valid):"
   ]
  },
  {
   "cell_type": "code",
   "execution_count": 317,
   "id": "dcdd187a-a392-4f48-be66-4491ea41e10b",
   "metadata": {},
   "outputs": [
    {
     "name": "stdout",
     "output_type": "stream",
     "text": [
      "Excluding 257 filtered results\n"
     ]
    },
    {
     "data": {
      "text/plain": [
       "['market for limestone, crushed, washed' (kilogram, RoW, None),\n",
       " 'limestone production, crushed, washed' (kilogram, RoW, None),\n",
       " 'market for limestone, crushed, for mill' (kilogram, RoW, None),\n",
       " 'limestone production, crushed, for mill' (kilogram, RoW, None),\n",
       " 'limestone, crushed, washed to generic market for supplementary cementitious materials' (kilogram, RoW, None),\n",
       " 'gravel production, crushed' (kilogram, RoW, None)]"
      ]
     },
     "execution_count": 317,
     "metadata": {},
     "output_type": "execute_result"
    }
   ],
   "source": [
    "# Using search\n",
    "act_name = 'limestone' \n",
    "eidb.search(act_name, filter={'location':'ROW', 'name':'crushed'})\n"
   ]
  },
  {
   "cell_type": "markdown",
   "id": "e288a8c4-b5ab-4a27-9103-c69ae94e8f84",
   "metadata": {},
   "source": [
    "...refining the search a bit more:"
   ]
  },
  {
   "cell_type": "code",
   "execution_count": 318,
   "id": "306cfe2a-1f60-44de-b891-f410332f548d",
   "metadata": {},
   "outputs": [
    {
     "name": "stdout",
     "output_type": "stream",
     "text": [
      "Excluding 260 filtered results\n"
     ]
    },
    {
     "data": {
      "text/plain": [
       "['market for limestone, crushed, washed' (kilogram, RoW, None),\n",
       " 'limestone production, crushed, washed' (kilogram, RoW, None),\n",
       " 'limestone, crushed, washed to generic market for supplementary cementitious materials' (kilogram, RoW, None)]"
      ]
     },
     "execution_count": 318,
     "metadata": {},
     "output_type": "execute_result"
    }
   ],
   "source": [
    "eidb.search(act_name, filter={'location':'ROW', 'name':'crushed', 'name':'washed'})"
   ]
  },
  {
   "cell_type": "markdown",
   "id": "90615dd3-64a0-4698-9e6f-694155cb90ca",
   "metadata": {},
   "source": [
    "It might be useful to know the code of the activities retrived. That can be accomplished by running the following code:"
   ]
  },
  {
   "cell_type": "code",
   "execution_count": 339,
   "id": "200513b4-2fe3-494a-ac18-f9e231607323",
   "metadata": {},
   "outputs": [
    {
     "name": "stdout",
     "output_type": "stream",
     "text": [
      "Excluding 7 filtered results\n",
      "'limestone production, crushed, washed' (kilogram, RoW, None)\n",
      "570143a9c955c81d5f8bc1e9bd8d22a1\n",
      "'market for limestone, crushed, washed' (kilogram, RoW, None)\n",
      "f02db7dc2aa90b15c39e38e5b2871a63\n",
      "'limestone, crushed, washed to generic market for supplementary cementitious materials' (kilogram, RoW, None)\n",
      "16f5ec192027775224682821f0453d17\n"
     ]
    }
   ],
   "source": [
    "for activity in eidb.search(act_name, filter={'location':'RoW', 'name':'washed','name':'crushed'}):\n",
    "    print(activity)\n",
    "    print(activity['code'])"
   ]
  },
  {
   "cell_type": "markdown",
   "id": "8a01ede2-609a-4c5e-8e14-86e10c0b3088",
   "metadata": {},
   "source": [
    "This search resulted in three activities. Let's image we are interested in selecting the activity 'limestone production, crushed, washed', which is the second of the list, and we want to assign it to a variable called my_act. Invariably, there are many ways to do this. One of them is presented below:"
   ]
  },
  {
   "cell_type": "code",
   "execution_count": 340,
   "id": "16ff5aba-1ec0-4365-8e01-279a253769d2",
   "metadata": {},
   "outputs": [
    {
     "name": "stdout",
     "output_type": "stream",
     "text": [
      "'market for limestone, crushed, washed' (kilogram, RoW, None)\n"
     ]
    }
   ],
   "source": [
    "my_act = eidb.get('f02db7dc2aa90b15c39e38e5b2871a63')\n",
    "print(my_act)\n"
   ]
  },
  {
   "cell_type": "markdown",
   "id": "5aa40572-4a31-4db8-8bea-39ffd23a90b9",
   "metadata": {},
   "source": [
    "The search method can also be used with list comprehension:"
   ]
  },
  {
   "cell_type": "code",
   "execution_count": 341,
   "id": "a523399f-2ba0-4321-8e53-d23e32423105",
   "metadata": {},
   "outputs": [
    {
     "data": {
      "text/plain": [
       "['market for limestone, crushed, washed' (kilogram, RoW, None),\n",
       " 'limestone, crushed, washed to generic market for supplementary cementitious materials' (kilogram, RoW, None),\n",
       " 'limestone production, crushed, washed' (kilogram, RoW, None)]"
      ]
     },
     "execution_count": 341,
     "metadata": {},
     "output_type": "execute_result"
    }
   ],
   "source": [
    "[act for act in eidb if 'limestone' in act['name']\n",
    "        and 'crushed' in act['name']\n",
    "        and 'washed' in act['name']\n",
    "        and 'RoW' in act['location']\n",
    "]"
   ]
  },
  {
   "cell_type": "code",
   "execution_count": 343,
   "id": "c4d5d73d-cf8f-4755-9fb3-c8a0513438a9",
   "metadata": {},
   "outputs": [
    {
     "data": {
      "text/plain": [
       "'market for limestone, crushed, washed' (kilogram, RoW, None)"
      ]
     },
     "execution_count": 343,
     "metadata": {},
     "output_type": "execute_result"
    }
   ],
   "source": [
    "[act for act in eidb if 'limestone' in act['name']\n",
    "        and 'crushed' in act['name']\n",
    "        and 'washed' in act['name']\n",
    "        and 'RoW' in act['location']\n",
    "][0]"
   ]
  },
  {
   "cell_type": "markdown",
   "id": "b276995b-f348-4f27-bbcd-508363312d53",
   "metadata": {},
   "source": []
  },
  {
   "cell_type": "markdown",
   "id": "3b58a043-54c5-4385-9398-aed096fdb471",
   "metadata": {},
   "source": [
    "**Exercise**: Select the activities that best represent: \n",
    "- The production of bitumen used in asphalt mixtures;\n",
    "- The transportation of materials used in road paving activities"
   ]
  },
  {
   "cell_type": "code",
   "execution_count": null,
   "id": "dbb1520d-96e7-4791-a4d5-b93755a64b2a",
   "metadata": {},
   "outputs": [],
   "source": []
  },
  {
   "cell_type": "markdown",
   "id": "7ac6d7c2-b695-4ede-a409-621cab2f11e3",
   "metadata": {},
   "source": [
    "##### LCI exchanges"
   ]
  },
  {
   "cell_type": "markdown",
   "id": "54c5cd8a-e2e2-41b7-abe8-6220d2d56421",
   "metadata": {},
   "source": [
    "Exchanges are the edges between nodes.\n",
    "\n",
    "These can be:\n",
    "\n",
    "- an edge between two activities within the technosphere (an element aij of A matrix)\n",
    "- edges between an activity in the technosphere and an activity in the \"biosphere\" (an element bkj of the biosphere matrix B).\n",
    "  \n",
    "One can iterate through all exchanges that have a given activity as output. Let's use as example the my_act selected above:"
   ]
  },
  {
   "cell_type": "code",
   "execution_count": 378,
   "id": "49a68b41-131d-4445-9a30-25b5d9a42825",
   "metadata": {},
   "outputs": [
    {
     "name": "stdout",
     "output_type": "stream",
     "text": [
      "Exchange: 1.0 kilogram 'market for limestone, crushed, washed' (kilogram, RoW, None) to 'market for limestone, crushed, washed' (kilogram, RoW, None)>\n",
      "Exchange: 1.0 kilogram 'limestone production, crushed, washed' (kilogram, RoW, None) to 'market for limestone, crushed, washed' (kilogram, RoW, None)>\n",
      "Exchange: 0.017352839318965644 ton kilometer 'market for transport, freight, lorry, unspecified' (ton kilometer, RoW, None) to 'market for limestone, crushed, washed' (kilogram, RoW, None)>\n",
      "Exchange: 0.0003583442198355759 ton kilometer 'market for transport, freight, lorry, unspecified' (ton kilometer, ZA, None) to 'market for limestone, crushed, washed' (kilogram, RoW, None)>\n",
      "Exchange: 0.0022888164611987796 ton kilometer 'market for transport, freight, lorry, unspecified' (ton kilometer, BR, None) to 'market for limestone, crushed, washed' (kilogram, RoW, None)>\n"
     ]
    }
   ],
   "source": [
    "for exc in my_act.exchanges():\n",
    "    print(exc)\n"
   ]
  },
  {
   "cell_type": "markdown",
   "id": "e7c6beb5-db70-4c36-a5fb-1efc2118d230",
   "metadata": {},
   "source": [
    "We can also iterate through subsets of the exchanges:\n",
    "\n",
    "- Technosphere exchanges: exchanges linking to other activities in the technosphere, activity.technosphere()\n",
    "- Biosphere exchanges: i.e. elementary flows, linking to activities in the biosphere database activity.biosphere()\n",
    "- Production exchange: the reference flow of the activity activity.production\n",
    "\n",
    "Let's consider we want to learn more info about the second exchange of those listed out above. We can do that by assigning it to a variable:"
   ]
  },
  {
   "cell_type": "code",
   "execution_count": 409,
   "id": "827867d5-27e9-4bfd-9041-b05f060ed0f6",
   "metadata": {},
   "outputs": [
    {
     "data": {
      "text/plain": [
       "{'flow': 'cfbce515-3f54-4411-ad9d-3d26b7faa15a',\n",
       " 'type': 'technosphere',\n",
       " 'name': 'transport, freight, lorry, unspecified',\n",
       " 'classifications': {'CPC': ['6511: Road transport services of freight']},\n",
       " 'production volume': 0.0,\n",
       " 'properties': {'carbon allocation': {'amount': 0.0, 'unit': 'kg'},\n",
       "  'carbon content': {'amount': 0.0, 'unit': 'dimensionless'}},\n",
       " 'activity': '5985dd21-41a0-54ff-9099-307681a5cbfb',\n",
       " 'unit': 'ton kilometer',\n",
       " 'comment': 'transportation over 20 km, based on expert judgement.',\n",
       " 'amount': 0.017352839318965644,\n",
       " 'pedigree': {'reliability': 3,\n",
       "  'completeness': 1,\n",
       "  'temporal correlation': 5,\n",
       "  'geographical correlation': 5,\n",
       "  'further technological correlation': 4},\n",
       " 'uncertainty type': 2,\n",
       " 'loc': -4.053999136470282,\n",
       " 'scale': 0.4516635916254486,\n",
       " 'scale without pedigree': 0.34641016151377546,\n",
       " 'input': ('ecoinvent-391-cutoff', '187ad56dca8970918d4b9bbbb8ffb41d'),\n",
       " 'output': ('ecoinvent-391-cutoff', 'f02db7dc2aa90b15c39e38e5b2871a63')}"
      ]
     },
     "execution_count": 409,
     "metadata": {},
     "output_type": "execute_result"
    }
   ],
   "source": [
    "my_act_exchange = [exc for exc in my_act.technosphere()][1]\n",
    "my_act_exchange._data"
   ]
  },
  {
   "cell_type": "markdown",
   "id": "126dd9e4-4f85-4f87-8217-7e7499a5701a",
   "metadata": {},
   "source": [
    "An alternative way to get the same info:"
   ]
  },
  {
   "cell_type": "code",
   "execution_count": 410,
   "id": "5131af62-a5f1-4430-8446-6ba915356d9f",
   "metadata": {},
   "outputs": [
    {
     "data": {
      "text/plain": [
       "{'flow': 'cfbce515-3f54-4411-ad9d-3d26b7faa15a',\n",
       " 'type': 'technosphere',\n",
       " 'name': 'transport, freight, lorry, unspecified',\n",
       " 'classifications': {'CPC': ['6511: Road transport services of freight']},\n",
       " 'production volume': 0.0,\n",
       " 'properties': {'carbon allocation': {'amount': 0.0, 'unit': 'kg'},\n",
       "  'carbon content': {'amount': 0.0, 'unit': 'dimensionless'}},\n",
       " 'activity': '5985dd21-41a0-54ff-9099-307681a5cbfb',\n",
       " 'unit': 'ton kilometer',\n",
       " 'comment': 'transportation over 20 km, based on expert judgement.',\n",
       " 'amount': 0.017352839318965644,\n",
       " 'pedigree': {'reliability': 3,\n",
       "  'completeness': 1,\n",
       "  'temporal correlation': 5,\n",
       "  'geographical correlation': 5,\n",
       "  'further technological correlation': 4},\n",
       " 'uncertainty type': 2,\n",
       " 'loc': -4.053999136470282,\n",
       " 'scale': 0.4516635916254486,\n",
       " 'scale without pedigree': 0.34641016151377546,\n",
       " 'input': ('ecoinvent-391-cutoff', '187ad56dca8970918d4b9bbbb8ffb41d'),\n",
       " 'output': ('ecoinvent-391-cutoff', 'f02db7dc2aa90b15c39e38e5b2871a63')}"
      ]
     },
     "execution_count": 410,
     "metadata": {},
     "output_type": "execute_result"
    }
   ],
   "source": [
    "my_act_exchange.as_dict()"
   ]
  },
  {
   "cell_type": "code",
   "execution_count": 411,
   "id": "1d696bce-2807-4f8c-9169-3df946be8827",
   "metadata": {},
   "outputs": [
    {
     "data": {
      "text/plain": [
       "'technosphere'"
      ]
     },
     "execution_count": 411,
     "metadata": {},
     "output_type": "execute_result"
    }
   ],
   "source": [
    "my_act_exchange['type']"
   ]
  },
  {
   "cell_type": "code",
   "execution_count": 412,
   "id": "c8ea2dd0-0c46-4e4b-a61b-0032a14785a7",
   "metadata": {},
   "outputs": [
    {
     "data": {
      "text/plain": [
       "0.017352839318965644"
      ]
     },
     "execution_count": 412,
     "metadata": {},
     "output_type": "execute_result"
    }
   ],
   "source": [
    "# Amount, or weight of the edge\n",
    "my_act_exchange.amount # The following code produces the same result: my_act_exchange['amount']"
   ]
  },
  {
   "cell_type": "code",
   "execution_count": 413,
   "id": "ef1022d0-d474-4749-a865-8b6f7148f045",
   "metadata": {},
   "outputs": [
    {
     "data": {
      "text/plain": [
       "'market for limestone, crushed, washed' (kilogram, RoW, None)"
      ]
     },
     "execution_count": 413,
     "metadata": {},
     "output_type": "execute_result"
    }
   ],
   "source": [
    "# Activity the exchange terminates in\n",
    "my_act_exchange.output"
   ]
  },
  {
   "cell_type": "code",
   "execution_count": 414,
   "id": "e2af1619-d0fe-4b76-a4e7-1bebadf431b6",
   "metadata": {},
   "outputs": [
    {
     "data": {
      "text/plain": [
       "'market for transport, freight, lorry, unspecified' (ton kilometer, RoW, None)"
      ]
     },
     "execution_count": 414,
     "metadata": {},
     "output_type": "execute_result"
    }
   ],
   "source": [
    "# Activity the exchange stems from\n",
    "my_act_exchange.input"
   ]
  },
  {
   "cell_type": "code",
   "execution_count": null,
   "id": "0a18b873-aa03-4bef-bb89-94dbd49b6c0d",
   "metadata": {},
   "outputs": [],
   "source": []
  },
  {
   "cell_type": "code",
   "execution_count": 431,
   "id": "4bc5b1fc-6e8b-4b0d-8b95-dcfad1147ab8",
   "metadata": {},
   "outputs": [
    {
     "data": {
      "text/plain": [
       "[Exchange: 1.0 kilogram 'market for limestone, crushed, washed' (kilogram, RoW, None) to 'market for limestone, crushed, washed' (kilogram, RoW, None)>]"
      ]
     },
     "execution_count": 431,
     "metadata": {},
     "output_type": "execute_result"
    }
   ],
   "source": [
    "[exc for exc in my_act.production()]"
   ]
  },
  {
   "cell_type": "markdown",
   "id": "6060df89-ecc6-4960-ae0c-3b7b3a7a5683",
   "metadata": {},
   "source": [
    "This is the reference flow of the selected activity!"
   ]
  },
  {
   "cell_type": "code",
   "execution_count": null,
   "id": "a3dc69a5-c0d8-475c-8fd2-927abbf6cdbf",
   "metadata": {},
   "outputs": [],
   "source": []
  },
  {
   "cell_type": "markdown",
   "id": "b47618bf-4b0e-46ce-8dd3-53468c67069a",
   "metadata": {},
   "source": [
    "Let's assign a biosphere flow to a variable, and check the following:\n",
    "\n",
    "- Is the output the same as for the technosphere exchange?\n",
    "- From what database does the biosphere exchange come from?\n",
    "- What is the amount of the exchange (i.e. the weight of the edge connecting the two activities)?\n",
    "  \n",
    "NOTE: If we get a  list index out of range error when trying to subscript our list comprehension, it means our list comprehension is empty, i.e. that there are no biosphere flows associated with the activity."
   ]
  },
  {
   "cell_type": "code",
   "execution_count": 432,
   "id": "341113eb-96ee-4307-969f-4dc89be0f92c",
   "metadata": {},
   "outputs": [
    {
     "ename": "IndexError",
     "evalue": "list index out of range",
     "output_type": "error",
     "traceback": [
      "\u001b[0;31m---------------------------------------------------------------------------\u001b[0m",
      "\u001b[0;31mIndexError\u001b[0m                                Traceback (most recent call last)",
      "Cell \u001b[0;32mIn[432], line 2\u001b[0m\n\u001b[1;32m      1\u001b[0m \u001b[38;5;66;03m# Assign the exchange to a variable:\u001b[39;00m\n\u001b[0;32m----> 2\u001b[0m bio_exchange \u001b[38;5;241m=\u001b[39m \u001b[43m[\u001b[49m\u001b[43mexc\u001b[49m\u001b[43m \u001b[49m\u001b[38;5;28;43;01mfor\u001b[39;49;00m\u001b[43m \u001b[49m\u001b[43mexc\u001b[49m\u001b[43m \u001b[49m\u001b[38;5;129;43;01min\u001b[39;49;00m\u001b[43m \u001b[49m\u001b[43mmy_act\u001b[49m\u001b[38;5;241;43m.\u001b[39;49m\u001b[43mbiosphere\u001b[49m\u001b[43m(\u001b[49m\u001b[43m)\u001b[49m\u001b[43m]\u001b[49m\u001b[43m[\u001b[49m\u001b[38;5;241;43m0\u001b[39;49m\u001b[43m]\u001b[49m\n\u001b[1;32m      3\u001b[0m bio_exchange\n",
      "\u001b[0;31mIndexError\u001b[0m: list index out of range"
     ]
    }
   ],
   "source": [
    "# Assign the exchange to a variable:\n",
    "bio_exchange = [exc for exc in my_act.biosphere()][0]\n",
    "bio_exchange"
   ]
  },
  {
   "cell_type": "code",
   "execution_count": null,
   "id": "a028c720-101c-47a0-964d-4f8dfaaeb620",
   "metadata": {},
   "outputs": [],
   "source": []
  },
  {
   "cell_type": "code",
   "execution_count": 430,
   "id": "940d141c-62fc-4254-8c52-aa32e5c03b04",
   "metadata": {},
   "outputs": [
    {
     "ename": "NameError",
     "evalue": "name 'bio_exchange' is not defined",
     "output_type": "error",
     "traceback": [
      "\u001b[0;31m---------------------------------------------------------------------------\u001b[0m",
      "\u001b[0;31mNameError\u001b[0m                                 Traceback (most recent call last)",
      "Cell \u001b[0;32mIn[430], line 1\u001b[0m\n\u001b[0;32m----> 1\u001b[0m \u001b[43mbio_exchange\u001b[49m\u001b[38;5;241m.\u001b[39moutput\n",
      "\u001b[0;31mNameError\u001b[0m: name 'bio_exchange' is not defined"
     ]
    }
   ],
   "source": [
    "bio_exchange.output"
   ]
  }
 ],
 "metadata": {
  "kernelspec": {
   "display_name": "Python 3 (ipykernel)",
   "language": "python",
   "name": "python3"
  },
  "language_info": {
   "codemirror_mode": {
    "name": "ipython",
    "version": 3
   },
   "file_extension": ".py",
   "mimetype": "text/x-python",
   "name": "python",
   "nbconvert_exporter": "python",
   "pygments_lexer": "ipython3",
   "version": "3.10.9"
  }
 },
 "nbformat": 4,
 "nbformat_minor": 5
}
