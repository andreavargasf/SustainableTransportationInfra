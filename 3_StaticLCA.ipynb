{
 "cells": [
  {
   "cell_type": "markdown",
   "id": "acd8ef66-7b9b-4e88-901d-6269896d3d5c",
   "metadata": {},
   "source": [
    "# Static LCA\n",
    "\n",
    "This notebook explains how to conduct a static (i.e. deterministic; or in other words, ignoring uncertainties) LCA for the pavement structure defined in the case study used in the lectures.\n",
    "\n",
    "## Content\n",
    "\n",
    "3.1) Single-LCA: Presentation of the steps needed to calcule the environmental impacts for a product system corresponding to the initial pavement structure.\n",
    "\n",
    "3.2) Multi-LCA"
   ]
  },
  {
   "cell_type": "code",
   "execution_count": 6,
   "id": "0992f186-03dc-43bf-9a92-34266fcfc806",
   "metadata": {},
   "outputs": [],
   "source": [
    "import bw2analyzer as bwa\n",
    "import bw2calc as bc\n",
    "import bw2data as bd\n",
    "import bw2io as bi\n",
    "import pandas as pd\n",
    "from bw2data.query import Filter, Query\n",
    "from IPython.display import display"
   ]
  },
  {
   "cell_type": "code",
   "execution_count": 7,
   "id": "ee8d0ad9-fd3c-46a9-ab3e-37c8900d6471",
   "metadata": {},
   "outputs": [
    {
     "name": "stdout",
     "output_type": "stream",
     "text": [
      "ecoinvent-391-cutoff\n",
      "2024_STI_BW25_Lecture\n"
     ]
    }
   ],
   "source": [
    "#Importing the variables with the project name and background db\n",
    "from project_details import ei_name, project_name\n",
    "print(ei_name)\n",
    "print(project_name)"
   ]
  },
  {
   "cell_type": "code",
   "execution_count": 8,
   "id": "b851b305-7366-49d8-a946-7163b0a9581d",
   "metadata": {},
   "outputs": [
    {
     "data": {
      "text/plain": [
       "Databases dictionary with 3 object(s):\n",
       "\tasphalt\n",
       "\tbiosphere3\n",
       "\tecoinvent-391-cutoff"
      ]
     },
     "execution_count": 8,
     "metadata": {},
     "output_type": "execute_result"
    }
   ],
   "source": [
    "bd.projects.set_current(project_name)\n",
    "bd.databases"
   ]
  },
  {
   "cell_type": "code",
   "execution_count": 9,
   "id": "da289bd7-7402-4f6a-b4d5-cbfe675ca7c9",
   "metadata": {},
   "outputs": [],
   "source": [
    "# Is the background database name the same as the one we wrote in `project_details.py`?\n",
    "assert ei_name in bd.databases"
   ]
  },
  {
   "cell_type": "code",
   "execution_count": 10,
   "id": "df3acc89-6b6d-489b-8804-1dffbb60b97d",
   "metadata": {},
   "outputs": [],
   "source": [
    "fg_name = \"asphalt\""
   ]
  },
  {
   "cell_type": "code",
   "execution_count": 11,
   "id": "8705a056-55bc-471a-9739-dd22d0c3bae7",
   "metadata": {},
   "outputs": [],
   "source": [
    "# Assign the foreground database to a variable:\n",
    "fgdb = bd.Database(fg_name)"
   ]
  },
  {
   "cell_type": "markdown",
   "id": "6e2e18ca-cc25-4b82-877f-66adab032854",
   "metadata": {},
   "source": [
    "## 3.1) Single-LCA\n",
    "\n",
    "## Product system definition"
   ]
  },
  {
   "cell_type": "markdown",
   "id": "473cb3f9-354f-4266-91da-bd8474ad0f12",
   "metadata": {},
   "source": [
    "We are going to create a product system for the initial pavement structure. In our foreground database the activity \"pavement structure, AC Surf, 0% RAP, regular bitumen\" has as reference product the inital pavement structure for which we want to calculate the environmental impacts related to the phases A1-A5. Let's selected it and assign it to the variable \"pavement_structure\". We can select it by using the .get() method with the activity code (i.e., pavement_structure_1) as argument."
   ]
  },
  {
   "cell_type": "code",
   "execution_count": 19,
   "id": "98bc9f25-f8ce-4314-ac63-02d2705423da",
   "metadata": {},
   "outputs": [],
   "source": [
    "pavement_structure = fgdb.get(\"pavement_structure_1\")"
   ]
  },
  {
   "cell_type": "code",
   "execution_count": 20,
   "id": "f3ee5ebc-b8db-47b6-b41b-6d49cdf763d1",
   "metadata": {},
   "outputs": [
    {
     "name": "stdout",
     "output_type": "stream",
     "text": [
      "1: 'pavement structure, AC Surf, 30% RAP, regular bitumen' (kilometer, NL, None)\n",
      "  2.01e+06: 'AC Surf, 30% RAP, regular bitumen' (kilogram, NL, None)\n",
      "  2.72e+06: 'AC Bin' (kilogram, NL, None)\n",
      "  1.35e+07: 'AC Bin' (kilogram, NL, None)\n"
     ]
    }
   ],
   "source": [
    "bwa.print_recursive_supply_chain(pavement_structure, max_level=1)"
   ]
  },
  {
   "cell_type": "markdown",
   "id": "59ed53ef-52e0-4ef7-bf09-833639e1e308",
   "metadata": {},
   "source": [
    "## Functional unit "
   ]
  },
  {
   "cell_type": "markdown",
   "id": "278bed00-0dfb-4ebe-bc97-2a9ac39eb75c",
   "metadata": {},
   "source": [
    "The next step consists of defining the functional unit. This is done by using a dictionary with keys = activities and values = amounts. \n",
    "In our case study, the name of the activity is 'pavement_structure' and the amount is 1."
   ]
  },
  {
   "cell_type": "code",
   "execution_count": 21,
   "id": "a980261b-edd4-4b59-aac1-2b6435327bd5",
   "metadata": {},
   "outputs": [
    {
     "data": {
      "text/plain": [
       "{'pavement structure, AC Surf, 30% RAP, regular bitumen' (kilometer, NL, None): 1}"
      ]
     },
     "execution_count": 21,
     "metadata": {},
     "output_type": "execute_result"
    }
   ],
   "source": [
    "fu = {pavement_structure:1}\n",
    "fu"
   ]
  },
  {
   "cell_type": "markdown",
   "id": "081f3d4d-0352-45cc-845a-c84535778462",
   "metadata": {},
   "source": [
    "## LCIA Methods"
   ]
  },
  {
   "cell_type": "markdown",
   "id": "d7a5fa7a-4e34-4426-9be0-0c19b06824c4",
   "metadata": {},
   "source": [
    "n this step we are going to select the LCIA method to be used for calculating the environmental impact scores. In the notebook 2a_Background we explore the different LCIA methods that come with the databse 'biosphere3'. In this example we are going to use the method 'CML v4.8 2016'."
   ]
  },
  {
   "cell_type": "code",
   "execution_count": 22,
   "id": "1e8d1830-98f6-43a0-84ba-d8f1ae8de6fb",
   "metadata": {},
   "outputs": [
    {
     "data": {
      "text/plain": [
       "[('CML v4.8 2016',\n",
       "  'acidification',\n",
       "  'acidification (incl. fate, average Europe total, A&B)'),\n",
       " ('CML v4.8 2016', 'climate change', 'global warming potential (GWP100)'),\n",
       " ('CML v4.8 2016',\n",
       "  'ecotoxicity: freshwater',\n",
       "  'freshwater aquatic ecotoxicity (FAETP inf)'),\n",
       " ('CML v4.8 2016',\n",
       "  'ecotoxicity: marine',\n",
       "  'marine aquatic ecotoxicity (MAETP inf)'),\n",
       " ('CML v4.8 2016',\n",
       "  'ecotoxicity: terrestrial',\n",
       "  'terrestrial ecotoxicity (TETP inf)'),\n",
       " ('CML v4.8 2016',\n",
       "  'energy resources: non-renewable',\n",
       "  'abiotic depletion potential (ADP): fossil fuels'),\n",
       " ('CML v4.8 2016', 'eutrophication', 'eutrophication (fate not incl.)'),\n",
       " ('CML v4.8 2016', 'human toxicity', 'human toxicity (HTP inf)'),\n",
       " ('CML v4.8 2016',\n",
       "  'material resources: metals/minerals',\n",
       "  'abiotic depletion potential (ADP): elements (ultimate reserves)'),\n",
       " ('CML v4.8 2016',\n",
       "  'ozone depletion',\n",
       "  'ozone layer depletion (ODP steady state)'),\n",
       " ('CML v4.8 2016',\n",
       "  'photochemical oxidant formation',\n",
       "  'photochemical oxidation (high NOx)')]"
      ]
     },
     "execution_count": 22,
     "metadata": {},
     "output_type": "execute_result"
    }
   ],
   "source": [
    "cml_methods = [m for m in bd.methods if m[0] == \"CML v4.8 2016\"]\n",
    "cml_methods"
   ]
  },
  {
   "cell_type": "markdown",
   "id": "a360f5af-fe74-444f-89c0-c3715b189d76",
   "metadata": {},
   "source": [
    "## Scores (i.e. results) calculation"
   ]
  },
  {
   "cell_type": "markdown",
   "id": "80f28b2a-160d-453f-b6a2-5c8bdb13f84e",
   "metadata": {},
   "source": [
    "In this step we are going to calculate the environmental impact scores. To do so, we need to do the following:"
   ]
  },
  {
   "cell_type": "code",
   "execution_count": 23,
   "id": "a0bcb60d-2951-4d96-9a9b-5f66431bec43",
   "metadata": {},
   "outputs": [
    {
     "name": "stdout",
     "output_type": "stream",
     "text": [
      "Score is 4620.867554 kg SO2-Eq for category Acidification\n",
      "Score is 1451712.044700 kg CO2-Eq for category Climate Change\n",
      "Score is 305424.681945 kg 1,4-DCB-Eq for category Ecotoxicity: Freshwater\n",
      "Score is 541236955.229911 kg 1,4-DCB-Eq for category Ecotoxicity: Marine\n",
      "Score is 4622.939915 kg 1,4-DCB-Eq for category Ecotoxicity: Terrestrial\n",
      "Score is 35589696.272327 megajoule for category Energy Resources: Non-Renewable\n",
      "Score is 1131.355488 kg PO4-Eq for category Eutrophication\n",
      "Score is 101618546.054719 kg 1,4-DCB-Eq for category Human Toxicity\n",
      "Score is 2.326668 kg Sb-Eq for category Material Resources: Metals/Minerals\n",
      "Score is 0.053242 kg CFC-11-Eq for category Ozone Depletion\n",
      "Score is 426.951361 kg ethylene-Eq for category Photochemical Oxidant Formation\n"
     ]
    },
    {
     "data": {
      "text/plain": [
       "[('Acidification', 4620.867554305927, 'kg SO2-Eq'),\n",
       " ('Climate Change', 1451712.0447004328, 'kg CO2-Eq'),\n",
       " ('Ecotoxicity: Freshwater', 305424.68194525054, 'kg 1,4-DCB-Eq'),\n",
       " ('Ecotoxicity: Marine', 541236955.2299111, 'kg 1,4-DCB-Eq'),\n",
       " ('Ecotoxicity: Terrestrial', 4622.939915413022, 'kg 1,4-DCB-Eq'),\n",
       " ('Energy Resources: Non-Renewable', 35589696.272327244, 'megajoule'),\n",
       " ('Eutrophication', 1131.3554877978527, 'kg PO4-Eq'),\n",
       " ('Human Toxicity', 101618546.0547189, 'kg 1,4-DCB-Eq'),\n",
       " ('Material Resources: Metals/Minerals', 2.3266684801435487, 'kg Sb-Eq'),\n",
       " ('Ozone Depletion', 0.053242043984428895, 'kg CFC-11-Eq'),\n",
       " ('Photochemical Oxidant Formation', 426.9513612295997, 'kg ethylene-Eq')]"
      ]
     },
     "execution_count": 23,
     "metadata": {},
     "output_type": "execute_result"
    }
   ],
   "source": [
    "# Create a lca object\n",
    "lca = bc.LCA(fu)\n",
    "\n",
    "# Builds matrices, solves the system, generates an LCI matrix.\n",
    "lca.lci()\n",
    "\n",
    "results = [] #this list will store the LCA scores\n",
    "for method in cml_methods:\n",
    "    lca.switch_method(method)\n",
    "    lca.lcia() # Characterization, i.e. the multiplication of the elements of the LCI matrix with characterization factors from the chosen LCIA method\n",
    "    results.append((method[1].title(), \n",
    "                    lca.score, # Returns the score, i.e. the sum of the characterized inventory\n",
    "                    bd.methods.get(method).get('unit')))\n",
    "    print(\"Score is {:f} {} for category {}\".format(lca.score, \n",
    "                                                 bd.methods.get(method).get('unit'),\n",
    "                                                 method[1].title())\n",
    "         )\n",
    "    \n",
    "results"
   ]
  },
  {
   "cell_type": "code",
   "execution_count": 24,
   "id": "8dceed8a-8869-4007-b47f-0349d69116de",
   "metadata": {},
   "outputs": [
    {
     "data": {
      "text/plain": [
       "[('Acidification', 4620.867554305927, 'kg SO2-Eq'),\n",
       " ('Climate Change', 1451712.0447004328, 'kg CO2-Eq'),\n",
       " ('Ecotoxicity: Freshwater', 305424.68194525054, 'kg 1,4-DCB-Eq'),\n",
       " ('Ecotoxicity: Marine', 541236955.2299111, 'kg 1,4-DCB-Eq'),\n",
       " ('Ecotoxicity: Terrestrial', 4622.939915413022, 'kg 1,4-DCB-Eq'),\n",
       " ('Energy Resources: Non-Renewable', 35589696.272327244, 'megajoule'),\n",
       " ('Eutrophication', 1131.3554877978527, 'kg PO4-Eq'),\n",
       " ('Human Toxicity', 101618546.0547189, 'kg 1,4-DCB-Eq'),\n",
       " ('Material Resources: Metals/Minerals', 2.3266684801435487, 'kg Sb-Eq'),\n",
       " ('Ozone Depletion', 0.053242043984428895, 'kg CFC-11-Eq'),\n",
       " ('Photochemical Oxidant Formation', 426.9513612295997, 'kg ethylene-Eq')]"
      ]
     },
     "execution_count": 24,
     "metadata": {},
     "output_type": "execute_result"
    }
   ],
   "source": [
    "# We can also see the values stores in the list 'results'\n",
    "results"
   ]
  },
  {
   "cell_type": "code",
   "execution_count": 25,
   "id": "072240a6-9111-47d1-8418-47ba31c5dd55",
   "metadata": {},
   "outputs": [
    {
     "data": {
      "text/html": [
       "<div>\n",
       "<style scoped>\n",
       "    .dataframe tbody tr th:only-of-type {\n",
       "        vertical-align: middle;\n",
       "    }\n",
       "\n",
       "    .dataframe tbody tr th {\n",
       "        vertical-align: top;\n",
       "    }\n",
       "\n",
       "    .dataframe thead th {\n",
       "        text-align: right;\n",
       "    }\n",
       "</style>\n",
       "<table border=\"1\" class=\"dataframe\">\n",
       "  <thead>\n",
       "    <tr style=\"text-align: right;\">\n",
       "      <th></th>\n",
       "      <th>Score</th>\n",
       "      <th>Unit</th>\n",
       "    </tr>\n",
       "    <tr>\n",
       "      <th>Impact Category</th>\n",
       "      <th></th>\n",
       "      <th></th>\n",
       "    </tr>\n",
       "  </thead>\n",
       "  <tbody>\n",
       "    <tr>\n",
       "      <th>Acidification</th>\n",
       "      <td>4.620868e+03</td>\n",
       "      <td>kg SO2-Eq</td>\n",
       "    </tr>\n",
       "    <tr>\n",
       "      <th>Climate Change</th>\n",
       "      <td>1.451712e+06</td>\n",
       "      <td>kg CO2-Eq</td>\n",
       "    </tr>\n",
       "    <tr>\n",
       "      <th>Ecotoxicity: Freshwater</th>\n",
       "      <td>3.054247e+05</td>\n",
       "      <td>kg 1,4-DCB-Eq</td>\n",
       "    </tr>\n",
       "    <tr>\n",
       "      <th>Ecotoxicity: Marine</th>\n",
       "      <td>5.412370e+08</td>\n",
       "      <td>kg 1,4-DCB-Eq</td>\n",
       "    </tr>\n",
       "    <tr>\n",
       "      <th>Ecotoxicity: Terrestrial</th>\n",
       "      <td>4.622940e+03</td>\n",
       "      <td>kg 1,4-DCB-Eq</td>\n",
       "    </tr>\n",
       "    <tr>\n",
       "      <th>Energy Resources: Non-Renewable</th>\n",
       "      <td>3.558970e+07</td>\n",
       "      <td>megajoule</td>\n",
       "    </tr>\n",
       "    <tr>\n",
       "      <th>Eutrophication</th>\n",
       "      <td>1.131355e+03</td>\n",
       "      <td>kg PO4-Eq</td>\n",
       "    </tr>\n",
       "    <tr>\n",
       "      <th>Human Toxicity</th>\n",
       "      <td>1.016185e+08</td>\n",
       "      <td>kg 1,4-DCB-Eq</td>\n",
       "    </tr>\n",
       "    <tr>\n",
       "      <th>Material Resources: Metals/Minerals</th>\n",
       "      <td>2.326668e+00</td>\n",
       "      <td>kg Sb-Eq</td>\n",
       "    </tr>\n",
       "    <tr>\n",
       "      <th>Ozone Depletion</th>\n",
       "      <td>5.324204e-02</td>\n",
       "      <td>kg CFC-11-Eq</td>\n",
       "    </tr>\n",
       "    <tr>\n",
       "      <th>Photochemical Oxidant Formation</th>\n",
       "      <td>4.269514e+02</td>\n",
       "      <td>kg ethylene-Eq</td>\n",
       "    </tr>\n",
       "  </tbody>\n",
       "</table>\n",
       "</div>"
      ],
      "text/plain": [
       "                                            Score            Unit\n",
       "Impact Category                                                  \n",
       "Acidification                        4.620868e+03       kg SO2-Eq\n",
       "Climate Change                       1.451712e+06       kg CO2-Eq\n",
       "Ecotoxicity: Freshwater              3.054247e+05   kg 1,4-DCB-Eq\n",
       "Ecotoxicity: Marine                  5.412370e+08   kg 1,4-DCB-Eq\n",
       "Ecotoxicity: Terrestrial             4.622940e+03   kg 1,4-DCB-Eq\n",
       "Energy Resources: Non-Renewable      3.558970e+07       megajoule\n",
       "Eutrophication                       1.131355e+03       kg PO4-Eq\n",
       "Human Toxicity                       1.016185e+08   kg 1,4-DCB-Eq\n",
       "Material Resources: Metals/Minerals  2.326668e+00        kg Sb-Eq\n",
       "Ozone Depletion                      5.324204e-02    kg CFC-11-Eq\n",
       "Photochemical Oxidant Formation      4.269514e+02  kg ethylene-Eq"
      ]
     },
     "execution_count": 25,
     "metadata": {},
     "output_type": "execute_result"
    }
   ],
   "source": [
    "#Creates a table with the results\n",
    "results_df = pd.DataFrame(results, columns=[\"Impact Category\", \"Score\", \"Unit\"])\n",
    "results_df = results_df.set_index(\"Impact Category\")\n",
    "results_df"
   ]
  },
  {
   "cell_type": "code",
   "execution_count": null,
   "id": "8a28a74f-b874-4916-8548-65d02d11b86a",
   "metadata": {},
   "outputs": [],
   "source": []
  },
  {
   "cell_type": "markdown",
   "id": "83bf672e-3ea1-4325-bdc6-9e7e4c619e39",
   "metadata": {},
   "source": [
    "## 3.2) Multi-LCA"
   ]
  },
  {
   "cell_type": "markdown",
   "id": "a0061729-c65d-42e7-8a1b-3f17f53a7a58",
   "metadata": {},
   "source": [
    "In the previous analysis we calculated the environmental impacts of one single product system. But sometimes we may want to compare the environmental impacts of multiple product systems. To illustrate the execution of such comparative analysis let's consider we want to compare the initial pavement structure (pavement_structure_1) with one where the bitumen used in the surface mixture is a polymer modified bitumen. This pavement structure is given by the activity \"pavement structure, AC Surf, 30% RAP, modified bitumen\" of the foreground database. it has the following code: pavement_structure_2"
   ]
  },
  {
   "cell_type": "markdown",
   "id": "89d7ae41-9d53-484f-99ad-771fb16a2e53",
   "metadata": {},
   "source": [
    "Let's assign the activities corresponding to the two pavement structures to the variables 'pavement_structure_1' and 'pavement_structure_2', respectively."
   ]
  },
  {
   "cell_type": "code",
   "execution_count": 26,
   "id": "7011d1ff-11c0-43f3-aee6-30e22d4e74f8",
   "metadata": {},
   "outputs": [],
   "source": [
    "pavement_structure_1 = fgdb.get(\"pavement_structure_1\")\n",
    "pavement_structure_2 = fgdb.get(\"pavement_structure_2\")"
   ]
  },
  {
   "cell_type": "markdown",
   "id": "43f09ba1-c1f6-44d4-be3d-b3172314c016",
   "metadata": {},
   "source": [
    "Create a list of functional units:"
   ]
  },
  {
   "cell_type": "code",
   "execution_count": 27,
   "id": "ac49d8d8-16e8-4dc3-9ac0-32c86a4a3569",
   "metadata": {},
   "outputs": [],
   "source": [
    "list_fu = [{pavement_structure_1:1}, {pavement_structure_2:1}]"
   ]
  },
  {
   "cell_type": "code",
   "execution_count": 29,
   "id": "575fa107-e46f-4794-87b3-08452b969f73",
   "metadata": {},
   "outputs": [],
   "source": [
    "bd.calculation_setups['pavement_structure_1_vs_pavement_structure_2'] = {'inv':list_fu, 'ia':cml_methods}"
   ]
  },
  {
   "cell_type": "code",
   "execution_count": 39,
   "id": "04e26733-eded-4da8-91e8-09e16f9959a7",
   "metadata": {},
   "outputs": [
    {
     "name": "stdout",
     "output_type": "stream",
     "text": [
      "(2, 11)\n"
     ]
    },
    {
     "data": {
      "text/plain": [
       "array([[4.62086755e+03, 1.45171204e+06, 3.05424682e+05, 5.41236955e+08,\n",
       "        4.62293992e+03, 3.55896963e+07, 1.13135549e+03, 1.01618546e+08,\n",
       "        2.32666848e+00, 5.32420440e-02, 4.26951361e+02],\n",
       "       [4.66550304e+03, 1.47012742e+06, 3.12774541e+05, 5.54607998e+08,\n",
       "        4.69294385e+03, 3.58550783e+07, 1.15959004e+03, 1.01630128e+08,\n",
       "        2.45825579e+00, 5.29742793e-02, 4.31881990e+02]])"
      ]
     },
     "execution_count": 39,
     "metadata": {},
     "output_type": "execute_result"
    }
   ],
   "source": [
    "mlca = bc.MultiLCA(\"pavement_structure_1_vs_pavement_structure_2\")\n",
    "\n",
    "# `mlca.results`, is a NumPy array of LCA scores,\n",
    "# with rows of functional units and\n",
    "# columns of LCIA methods. Ordering is the same as in the `calculation_setup`.\n",
    "print(mlca.results.shape)\n",
    "mlca.results"
   ]
  },
  {
   "cell_type": "code",
   "execution_count": 37,
   "id": "59226549-0a5a-4923-8d15-0b5d44cb3b80",
   "metadata": {},
   "outputs": [
    {
     "data": {
      "text/html": [
       "<div>\n",
       "<style scoped>\n",
       "    .dataframe tbody tr th:only-of-type {\n",
       "        vertical-align: middle;\n",
       "    }\n",
       "\n",
       "    .dataframe tbody tr th {\n",
       "        vertical-align: top;\n",
       "    }\n",
       "\n",
       "    .dataframe thead th {\n",
       "        text-align: right;\n",
       "    }\n",
       "</style>\n",
       "<table border=\"1\" class=\"dataframe\">\n",
       "  <thead>\n",
       "    <tr style=\"text-align: right;\">\n",
       "      <th></th>\n",
       "      <th>pavement_structure_1</th>\n",
       "      <th>pavement_structure_2</th>\n",
       "    </tr>\n",
       "  </thead>\n",
       "  <tbody>\n",
       "    <tr>\n",
       "      <th>(CML v4.8 2016, acidification, acidification (incl. fate, average Europe total, A&amp;B))</th>\n",
       "      <td>4.620868e+03</td>\n",
       "      <td>4.665503e+03</td>\n",
       "    </tr>\n",
       "    <tr>\n",
       "      <th>(CML v4.8 2016, climate change, global warming potential (GWP100))</th>\n",
       "      <td>1.451712e+06</td>\n",
       "      <td>1.470127e+06</td>\n",
       "    </tr>\n",
       "    <tr>\n",
       "      <th>(CML v4.8 2016, ecotoxicity: freshwater, freshwater aquatic ecotoxicity (FAETP inf))</th>\n",
       "      <td>3.054247e+05</td>\n",
       "      <td>3.127745e+05</td>\n",
       "    </tr>\n",
       "    <tr>\n",
       "      <th>(CML v4.8 2016, ecotoxicity: marine, marine aquatic ecotoxicity (MAETP inf))</th>\n",
       "      <td>5.412370e+08</td>\n",
       "      <td>5.546080e+08</td>\n",
       "    </tr>\n",
       "    <tr>\n",
       "      <th>(CML v4.8 2016, ecotoxicity: terrestrial, terrestrial ecotoxicity (TETP inf))</th>\n",
       "      <td>4.622940e+03</td>\n",
       "      <td>4.692944e+03</td>\n",
       "    </tr>\n",
       "    <tr>\n",
       "      <th>(CML v4.8 2016, energy resources: non-renewable, abiotic depletion potential (ADP): fossil fuels)</th>\n",
       "      <td>3.558970e+07</td>\n",
       "      <td>3.585508e+07</td>\n",
       "    </tr>\n",
       "    <tr>\n",
       "      <th>(CML v4.8 2016, eutrophication, eutrophication (fate not incl.))</th>\n",
       "      <td>1.131355e+03</td>\n",
       "      <td>1.159590e+03</td>\n",
       "    </tr>\n",
       "    <tr>\n",
       "      <th>(CML v4.8 2016, human toxicity, human toxicity (HTP inf))</th>\n",
       "      <td>1.016185e+08</td>\n",
       "      <td>1.016301e+08</td>\n",
       "    </tr>\n",
       "    <tr>\n",
       "      <th>(CML v4.8 2016, material resources: metals/minerals, abiotic depletion potential (ADP): elements (ultimate reserves))</th>\n",
       "      <td>2.326668e+00</td>\n",
       "      <td>2.458256e+00</td>\n",
       "    </tr>\n",
       "    <tr>\n",
       "      <th>(CML v4.8 2016, ozone depletion, ozone layer depletion (ODP steady state))</th>\n",
       "      <td>5.324204e-02</td>\n",
       "      <td>5.297428e-02</td>\n",
       "    </tr>\n",
       "    <tr>\n",
       "      <th>(CML v4.8 2016, photochemical oxidant formation, photochemical oxidation (high NOx))</th>\n",
       "      <td>4.269514e+02</td>\n",
       "      <td>4.318820e+02</td>\n",
       "    </tr>\n",
       "  </tbody>\n",
       "</table>\n",
       "</div>"
      ],
      "text/plain": [
       "                                                    pavement_structure_1  \\\n",
       "(CML v4.8 2016, acidification, acidification (i...          4.620868e+03   \n",
       "(CML v4.8 2016, climate change, global warming ...          1.451712e+06   \n",
       "(CML v4.8 2016, ecotoxicity: freshwater, freshw...          3.054247e+05   \n",
       "(CML v4.8 2016, ecotoxicity: marine, marine aqu...          5.412370e+08   \n",
       "(CML v4.8 2016, ecotoxicity: terrestrial, terre...          4.622940e+03   \n",
       "(CML v4.8 2016, energy resources: non-renewable...          3.558970e+07   \n",
       "(CML v4.8 2016, eutrophication, eutrophication ...          1.131355e+03   \n",
       "(CML v4.8 2016, human toxicity, human toxicity ...          1.016185e+08   \n",
       "(CML v4.8 2016, material resources: metals/mine...          2.326668e+00   \n",
       "(CML v4.8 2016, ozone depletion, ozone layer de...          5.324204e-02   \n",
       "(CML v4.8 2016, photochemical oxidant formation...          4.269514e+02   \n",
       "\n",
       "                                                    pavement_structure_2  \n",
       "(CML v4.8 2016, acidification, acidification (i...          4.665503e+03  \n",
       "(CML v4.8 2016, climate change, global warming ...          1.470127e+06  \n",
       "(CML v4.8 2016, ecotoxicity: freshwater, freshw...          3.127745e+05  \n",
       "(CML v4.8 2016, ecotoxicity: marine, marine aqu...          5.546080e+08  \n",
       "(CML v4.8 2016, ecotoxicity: terrestrial, terre...          4.692944e+03  \n",
       "(CML v4.8 2016, energy resources: non-renewable...          3.585508e+07  \n",
       "(CML v4.8 2016, eutrophication, eutrophication ...          1.159590e+03  \n",
       "(CML v4.8 2016, human toxicity, human toxicity ...          1.016301e+08  \n",
       "(CML v4.8 2016, material resources: metals/mine...          2.458256e+00  \n",
       "(CML v4.8 2016, ozone depletion, ozone layer de...          5.297428e-02  \n",
       "(CML v4.8 2016, photochemical oxidant formation...          4.318820e+02  "
      ]
     },
     "execution_count": 37,
     "metadata": {},
     "output_type": "execute_result"
    }
   ],
   "source": [
    "#Creates a table with the results\n",
    "df = pd.DataFrame(index=cml_methods, columns=[\"pavement_structure_1\", \"pavement_structure_2\"], data=mlca.results.T)\n",
    "df"
   ]
  },
  {
   "cell_type": "markdown",
   "id": "64c502ce-04ca-42e1-8971-485d4dc2f6bf",
   "metadata": {},
   "source": [
    "Another way to calculate and present the results in a table:"
   ]
  },
  {
   "cell_type": "code",
   "execution_count": 41,
   "id": "ec485c24-a55b-4bae-a231-3f0a64dbbbf6",
   "metadata": {},
   "outputs": [],
   "source": [
    "def format_results(mlca):\n",
    "    formatted_results = []\n",
    "    for i, scores in enumerate(mlca.results):  # the results for a fu\n",
    "        for j, method_key in enumerate(mlca.methods):  # the result for each method\n",
    "            demand = list(mlca.func_units[i].values())[0]\n",
    "            activity = list(mlca.func_units[i].keys())[0]\n",
    "            method = bd.Method(method_key)\n",
    "            a_result = {\n",
    "                \"activity\": repr(activity),\n",
    "                \"demand\": demand,\n",
    "                \"method\": method_key[0],\n",
    "                \"category\": method_key[1],\n",
    "                \"subcategory\": method_key[2],\n",
    "                \"score\": scores[j],\n",
    "                \"unit\": method.metadata[\"unit\"],\n",
    "            }\n",
    "            formatted_results.append(a_result)\n",
    "    return formatted_results"
   ]
  },
  {
   "cell_type": "code",
   "execution_count": 42,
   "id": "b36de1a9-cd2a-453a-a373-af0309a6639e",
   "metadata": {},
   "outputs": [
    {
     "data": {
      "text/html": [
       "<div>\n",
       "<style scoped>\n",
       "    .dataframe tbody tr th:only-of-type {\n",
       "        vertical-align: middle;\n",
       "    }\n",
       "\n",
       "    .dataframe tbody tr th {\n",
       "        vertical-align: top;\n",
       "    }\n",
       "\n",
       "    .dataframe thead th {\n",
       "        text-align: right;\n",
       "    }\n",
       "</style>\n",
       "<table border=\"1\" class=\"dataframe\">\n",
       "  <thead>\n",
       "    <tr style=\"text-align: right;\">\n",
       "      <th></th>\n",
       "      <th>activity</th>\n",
       "      <th>demand</th>\n",
       "      <th>method</th>\n",
       "      <th>category</th>\n",
       "      <th>subcategory</th>\n",
       "      <th>score</th>\n",
       "      <th>unit</th>\n",
       "    </tr>\n",
       "  </thead>\n",
       "  <tbody>\n",
       "    <tr>\n",
       "      <th>0</th>\n",
       "      <td>'pavement structure, AC Surf, 30% RAP, regular...</td>\n",
       "      <td>1</td>\n",
       "      <td>CML v4.8 2016</td>\n",
       "      <td>acidification</td>\n",
       "      <td>acidification (incl. fate, average Europe tota...</td>\n",
       "      <td>4.620868e+03</td>\n",
       "      <td>kg SO2-Eq</td>\n",
       "    </tr>\n",
       "    <tr>\n",
       "      <th>1</th>\n",
       "      <td>'pavement structure, AC Surf, 30% RAP, regular...</td>\n",
       "      <td>1</td>\n",
       "      <td>CML v4.8 2016</td>\n",
       "      <td>climate change</td>\n",
       "      <td>global warming potential (GWP100)</td>\n",
       "      <td>1.451712e+06</td>\n",
       "      <td>kg CO2-Eq</td>\n",
       "    </tr>\n",
       "    <tr>\n",
       "      <th>2</th>\n",
       "      <td>'pavement structure, AC Surf, 30% RAP, regular...</td>\n",
       "      <td>1</td>\n",
       "      <td>CML v4.8 2016</td>\n",
       "      <td>ecotoxicity: freshwater</td>\n",
       "      <td>freshwater aquatic ecotoxicity (FAETP inf)</td>\n",
       "      <td>3.054247e+05</td>\n",
       "      <td>kg 1,4-DCB-Eq</td>\n",
       "    </tr>\n",
       "    <tr>\n",
       "      <th>3</th>\n",
       "      <td>'pavement structure, AC Surf, 30% RAP, regular...</td>\n",
       "      <td>1</td>\n",
       "      <td>CML v4.8 2016</td>\n",
       "      <td>ecotoxicity: marine</td>\n",
       "      <td>marine aquatic ecotoxicity (MAETP inf)</td>\n",
       "      <td>5.412370e+08</td>\n",
       "      <td>kg 1,4-DCB-Eq</td>\n",
       "    </tr>\n",
       "    <tr>\n",
       "      <th>4</th>\n",
       "      <td>'pavement structure, AC Surf, 30% RAP, regular...</td>\n",
       "      <td>1</td>\n",
       "      <td>CML v4.8 2016</td>\n",
       "      <td>ecotoxicity: terrestrial</td>\n",
       "      <td>terrestrial ecotoxicity (TETP inf)</td>\n",
       "      <td>4.622940e+03</td>\n",
       "      <td>kg 1,4-DCB-Eq</td>\n",
       "    </tr>\n",
       "    <tr>\n",
       "      <th>5</th>\n",
       "      <td>'pavement structure, AC Surf, 30% RAP, regular...</td>\n",
       "      <td>1</td>\n",
       "      <td>CML v4.8 2016</td>\n",
       "      <td>energy resources: non-renewable</td>\n",
       "      <td>abiotic depletion potential (ADP): fossil fuels</td>\n",
       "      <td>3.558970e+07</td>\n",
       "      <td>megajoule</td>\n",
       "    </tr>\n",
       "    <tr>\n",
       "      <th>6</th>\n",
       "      <td>'pavement structure, AC Surf, 30% RAP, regular...</td>\n",
       "      <td>1</td>\n",
       "      <td>CML v4.8 2016</td>\n",
       "      <td>eutrophication</td>\n",
       "      <td>eutrophication (fate not incl.)</td>\n",
       "      <td>1.131355e+03</td>\n",
       "      <td>kg PO4-Eq</td>\n",
       "    </tr>\n",
       "    <tr>\n",
       "      <th>7</th>\n",
       "      <td>'pavement structure, AC Surf, 30% RAP, regular...</td>\n",
       "      <td>1</td>\n",
       "      <td>CML v4.8 2016</td>\n",
       "      <td>human toxicity</td>\n",
       "      <td>human toxicity (HTP inf)</td>\n",
       "      <td>1.016185e+08</td>\n",
       "      <td>kg 1,4-DCB-Eq</td>\n",
       "    </tr>\n",
       "    <tr>\n",
       "      <th>8</th>\n",
       "      <td>'pavement structure, AC Surf, 30% RAP, regular...</td>\n",
       "      <td>1</td>\n",
       "      <td>CML v4.8 2016</td>\n",
       "      <td>material resources: metals/minerals</td>\n",
       "      <td>abiotic depletion potential (ADP): elements (u...</td>\n",
       "      <td>2.326668e+00</td>\n",
       "      <td>kg Sb-Eq</td>\n",
       "    </tr>\n",
       "    <tr>\n",
       "      <th>9</th>\n",
       "      <td>'pavement structure, AC Surf, 30% RAP, regular...</td>\n",
       "      <td>1</td>\n",
       "      <td>CML v4.8 2016</td>\n",
       "      <td>ozone depletion</td>\n",
       "      <td>ozone layer depletion (ODP steady state)</td>\n",
       "      <td>5.324204e-02</td>\n",
       "      <td>kg CFC-11-Eq</td>\n",
       "    </tr>\n",
       "    <tr>\n",
       "      <th>10</th>\n",
       "      <td>'pavement structure, AC Surf, 30% RAP, regular...</td>\n",
       "      <td>1</td>\n",
       "      <td>CML v4.8 2016</td>\n",
       "      <td>photochemical oxidant formation</td>\n",
       "      <td>photochemical oxidation (high NOx)</td>\n",
       "      <td>4.269514e+02</td>\n",
       "      <td>kg ethylene-Eq</td>\n",
       "    </tr>\n",
       "    <tr>\n",
       "      <th>11</th>\n",
       "      <td>'pavement structure, AC Surf, 30% RAP, modifie...</td>\n",
       "      <td>1</td>\n",
       "      <td>CML v4.8 2016</td>\n",
       "      <td>acidification</td>\n",
       "      <td>acidification (incl. fate, average Europe tota...</td>\n",
       "      <td>4.665503e+03</td>\n",
       "      <td>kg SO2-Eq</td>\n",
       "    </tr>\n",
       "    <tr>\n",
       "      <th>12</th>\n",
       "      <td>'pavement structure, AC Surf, 30% RAP, modifie...</td>\n",
       "      <td>1</td>\n",
       "      <td>CML v4.8 2016</td>\n",
       "      <td>climate change</td>\n",
       "      <td>global warming potential (GWP100)</td>\n",
       "      <td>1.470127e+06</td>\n",
       "      <td>kg CO2-Eq</td>\n",
       "    </tr>\n",
       "    <tr>\n",
       "      <th>13</th>\n",
       "      <td>'pavement structure, AC Surf, 30% RAP, modifie...</td>\n",
       "      <td>1</td>\n",
       "      <td>CML v4.8 2016</td>\n",
       "      <td>ecotoxicity: freshwater</td>\n",
       "      <td>freshwater aquatic ecotoxicity (FAETP inf)</td>\n",
       "      <td>3.127745e+05</td>\n",
       "      <td>kg 1,4-DCB-Eq</td>\n",
       "    </tr>\n",
       "    <tr>\n",
       "      <th>14</th>\n",
       "      <td>'pavement structure, AC Surf, 30% RAP, modifie...</td>\n",
       "      <td>1</td>\n",
       "      <td>CML v4.8 2016</td>\n",
       "      <td>ecotoxicity: marine</td>\n",
       "      <td>marine aquatic ecotoxicity (MAETP inf)</td>\n",
       "      <td>5.546080e+08</td>\n",
       "      <td>kg 1,4-DCB-Eq</td>\n",
       "    </tr>\n",
       "    <tr>\n",
       "      <th>15</th>\n",
       "      <td>'pavement structure, AC Surf, 30% RAP, modifie...</td>\n",
       "      <td>1</td>\n",
       "      <td>CML v4.8 2016</td>\n",
       "      <td>ecotoxicity: terrestrial</td>\n",
       "      <td>terrestrial ecotoxicity (TETP inf)</td>\n",
       "      <td>4.692944e+03</td>\n",
       "      <td>kg 1,4-DCB-Eq</td>\n",
       "    </tr>\n",
       "    <tr>\n",
       "      <th>16</th>\n",
       "      <td>'pavement structure, AC Surf, 30% RAP, modifie...</td>\n",
       "      <td>1</td>\n",
       "      <td>CML v4.8 2016</td>\n",
       "      <td>energy resources: non-renewable</td>\n",
       "      <td>abiotic depletion potential (ADP): fossil fuels</td>\n",
       "      <td>3.585508e+07</td>\n",
       "      <td>megajoule</td>\n",
       "    </tr>\n",
       "    <tr>\n",
       "      <th>17</th>\n",
       "      <td>'pavement structure, AC Surf, 30% RAP, modifie...</td>\n",
       "      <td>1</td>\n",
       "      <td>CML v4.8 2016</td>\n",
       "      <td>eutrophication</td>\n",
       "      <td>eutrophication (fate not incl.)</td>\n",
       "      <td>1.159590e+03</td>\n",
       "      <td>kg PO4-Eq</td>\n",
       "    </tr>\n",
       "    <tr>\n",
       "      <th>18</th>\n",
       "      <td>'pavement structure, AC Surf, 30% RAP, modifie...</td>\n",
       "      <td>1</td>\n",
       "      <td>CML v4.8 2016</td>\n",
       "      <td>human toxicity</td>\n",
       "      <td>human toxicity (HTP inf)</td>\n",
       "      <td>1.016301e+08</td>\n",
       "      <td>kg 1,4-DCB-Eq</td>\n",
       "    </tr>\n",
       "    <tr>\n",
       "      <th>19</th>\n",
       "      <td>'pavement structure, AC Surf, 30% RAP, modifie...</td>\n",
       "      <td>1</td>\n",
       "      <td>CML v4.8 2016</td>\n",
       "      <td>material resources: metals/minerals</td>\n",
       "      <td>abiotic depletion potential (ADP): elements (u...</td>\n",
       "      <td>2.458256e+00</td>\n",
       "      <td>kg Sb-Eq</td>\n",
       "    </tr>\n",
       "    <tr>\n",
       "      <th>20</th>\n",
       "      <td>'pavement structure, AC Surf, 30% RAP, modifie...</td>\n",
       "      <td>1</td>\n",
       "      <td>CML v4.8 2016</td>\n",
       "      <td>ozone depletion</td>\n",
       "      <td>ozone layer depletion (ODP steady state)</td>\n",
       "      <td>5.297428e-02</td>\n",
       "      <td>kg CFC-11-Eq</td>\n",
       "    </tr>\n",
       "    <tr>\n",
       "      <th>21</th>\n",
       "      <td>'pavement structure, AC Surf, 30% RAP, modifie...</td>\n",
       "      <td>1</td>\n",
       "      <td>CML v4.8 2016</td>\n",
       "      <td>photochemical oxidant formation</td>\n",
       "      <td>photochemical oxidation (high NOx)</td>\n",
       "      <td>4.318820e+02</td>\n",
       "      <td>kg ethylene-Eq</td>\n",
       "    </tr>\n",
       "  </tbody>\n",
       "</table>\n",
       "</div>"
      ],
      "text/plain": [
       "                                             activity  demand         method  \\\n",
       "0   'pavement structure, AC Surf, 30% RAP, regular...       1  CML v4.8 2016   \n",
       "1   'pavement structure, AC Surf, 30% RAP, regular...       1  CML v4.8 2016   \n",
       "2   'pavement structure, AC Surf, 30% RAP, regular...       1  CML v4.8 2016   \n",
       "3   'pavement structure, AC Surf, 30% RAP, regular...       1  CML v4.8 2016   \n",
       "4   'pavement structure, AC Surf, 30% RAP, regular...       1  CML v4.8 2016   \n",
       "5   'pavement structure, AC Surf, 30% RAP, regular...       1  CML v4.8 2016   \n",
       "6   'pavement structure, AC Surf, 30% RAP, regular...       1  CML v4.8 2016   \n",
       "7   'pavement structure, AC Surf, 30% RAP, regular...       1  CML v4.8 2016   \n",
       "8   'pavement structure, AC Surf, 30% RAP, regular...       1  CML v4.8 2016   \n",
       "9   'pavement structure, AC Surf, 30% RAP, regular...       1  CML v4.8 2016   \n",
       "10  'pavement structure, AC Surf, 30% RAP, regular...       1  CML v4.8 2016   \n",
       "11  'pavement structure, AC Surf, 30% RAP, modifie...       1  CML v4.8 2016   \n",
       "12  'pavement structure, AC Surf, 30% RAP, modifie...       1  CML v4.8 2016   \n",
       "13  'pavement structure, AC Surf, 30% RAP, modifie...       1  CML v4.8 2016   \n",
       "14  'pavement structure, AC Surf, 30% RAP, modifie...       1  CML v4.8 2016   \n",
       "15  'pavement structure, AC Surf, 30% RAP, modifie...       1  CML v4.8 2016   \n",
       "16  'pavement structure, AC Surf, 30% RAP, modifie...       1  CML v4.8 2016   \n",
       "17  'pavement structure, AC Surf, 30% RAP, modifie...       1  CML v4.8 2016   \n",
       "18  'pavement structure, AC Surf, 30% RAP, modifie...       1  CML v4.8 2016   \n",
       "19  'pavement structure, AC Surf, 30% RAP, modifie...       1  CML v4.8 2016   \n",
       "20  'pavement structure, AC Surf, 30% RAP, modifie...       1  CML v4.8 2016   \n",
       "21  'pavement structure, AC Surf, 30% RAP, modifie...       1  CML v4.8 2016   \n",
       "\n",
       "                               category  \\\n",
       "0                         acidification   \n",
       "1                        climate change   \n",
       "2               ecotoxicity: freshwater   \n",
       "3                   ecotoxicity: marine   \n",
       "4              ecotoxicity: terrestrial   \n",
       "5       energy resources: non-renewable   \n",
       "6                        eutrophication   \n",
       "7                        human toxicity   \n",
       "8   material resources: metals/minerals   \n",
       "9                       ozone depletion   \n",
       "10      photochemical oxidant formation   \n",
       "11                        acidification   \n",
       "12                       climate change   \n",
       "13              ecotoxicity: freshwater   \n",
       "14                  ecotoxicity: marine   \n",
       "15             ecotoxicity: terrestrial   \n",
       "16      energy resources: non-renewable   \n",
       "17                       eutrophication   \n",
       "18                       human toxicity   \n",
       "19  material resources: metals/minerals   \n",
       "20                      ozone depletion   \n",
       "21      photochemical oxidant formation   \n",
       "\n",
       "                                          subcategory         score  \\\n",
       "0   acidification (incl. fate, average Europe tota...  4.620868e+03   \n",
       "1                   global warming potential (GWP100)  1.451712e+06   \n",
       "2          freshwater aquatic ecotoxicity (FAETP inf)  3.054247e+05   \n",
       "3              marine aquatic ecotoxicity (MAETP inf)  5.412370e+08   \n",
       "4                  terrestrial ecotoxicity (TETP inf)  4.622940e+03   \n",
       "5     abiotic depletion potential (ADP): fossil fuels  3.558970e+07   \n",
       "6                     eutrophication (fate not incl.)  1.131355e+03   \n",
       "7                            human toxicity (HTP inf)  1.016185e+08   \n",
       "8   abiotic depletion potential (ADP): elements (u...  2.326668e+00   \n",
       "9            ozone layer depletion (ODP steady state)  5.324204e-02   \n",
       "10                 photochemical oxidation (high NOx)  4.269514e+02   \n",
       "11  acidification (incl. fate, average Europe tota...  4.665503e+03   \n",
       "12                  global warming potential (GWP100)  1.470127e+06   \n",
       "13         freshwater aquatic ecotoxicity (FAETP inf)  3.127745e+05   \n",
       "14             marine aquatic ecotoxicity (MAETP inf)  5.546080e+08   \n",
       "15                 terrestrial ecotoxicity (TETP inf)  4.692944e+03   \n",
       "16    abiotic depletion potential (ADP): fossil fuels  3.585508e+07   \n",
       "17                    eutrophication (fate not incl.)  1.159590e+03   \n",
       "18                           human toxicity (HTP inf)  1.016301e+08   \n",
       "19  abiotic depletion potential (ADP): elements (u...  2.458256e+00   \n",
       "20           ozone layer depletion (ODP steady state)  5.297428e-02   \n",
       "21                 photochemical oxidation (high NOx)  4.318820e+02   \n",
       "\n",
       "              unit  \n",
       "0        kg SO2-Eq  \n",
       "1        kg CO2-Eq  \n",
       "2    kg 1,4-DCB-Eq  \n",
       "3    kg 1,4-DCB-Eq  \n",
       "4    kg 1,4-DCB-Eq  \n",
       "5        megajoule  \n",
       "6        kg PO4-Eq  \n",
       "7    kg 1,4-DCB-Eq  \n",
       "8         kg Sb-Eq  \n",
       "9     kg CFC-11-Eq  \n",
       "10  kg ethylene-Eq  \n",
       "11       kg SO2-Eq  \n",
       "12       kg CO2-Eq  \n",
       "13   kg 1,4-DCB-Eq  \n",
       "14   kg 1,4-DCB-Eq  \n",
       "15   kg 1,4-DCB-Eq  \n",
       "16       megajoule  \n",
       "17       kg PO4-Eq  \n",
       "18   kg 1,4-DCB-Eq  \n",
       "19        kg Sb-Eq  \n",
       "20    kg CFC-11-Eq  \n",
       "21  kg ethylene-Eq  "
      ]
     },
     "execution_count": 42,
     "metadata": {},
     "output_type": "execute_result"
    }
   ],
   "source": [
    "df_results = pd.DataFrame(format_results(mlca))\n",
    "df_results"
   ]
  },
  {
   "cell_type": "code",
   "execution_count": null,
   "id": "071f3ad1-6864-422d-bf83-a8dedcf9a9a9",
   "metadata": {},
   "outputs": [],
   "source": []
  }
 ],
 "metadata": {
  "kernelspec": {
   "display_name": "Python 3 (ipykernel)",
   "language": "python",
   "name": "python3"
  },
  "language_info": {
   "codemirror_mode": {
    "name": "ipython",
    "version": 3
   },
   "file_extension": ".py",
   "mimetype": "text/x-python",
   "name": "python",
   "nbconvert_exporter": "python",
   "pygments_lexer": "ipython3",
   "version": "3.11.9"
  }
 },
 "nbformat": 4,
 "nbformat_minor": 5
}
