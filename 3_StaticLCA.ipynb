{
 "cells": [
  {
   "cell_type": "markdown",
   "id": "acd8ef66-7b9b-4e88-901d-6269896d3d5c",
   "metadata": {},
   "source": [
    "# Static LCA\n",
    "\n",
    "This notebook explains how to conduct a static (i.e. deterministic; or in other words, ignoring uncertainties) LCA for the pavement structure defined in the case study used in the lectures.\n",
    "\n",
    "## Content\n",
    "\n",
    "3.1) Single-LCA: Presentation of the steps needed to calcule the environmental impacts for a product system corresponding to the initial pavement structure.\n",
    "\n",
    "3.2) Multi-LCA"
   ]
  },
  {
   "cell_type": "code",
   "execution_count": 6,
   "id": "0992f186-03dc-43bf-9a92-34266fcfc806",
   "metadata": {},
   "outputs": [],
   "source": [
    "import bw2analyzer as bwa\n",
    "import bw2calc as bc\n",
    "import bw2data as bd\n",
    "import bw2io as bi\n",
    "import pandas as pd\n",
    "from bw2data.query import Filter, Query\n",
    "from IPython.display import display"
   ]
  },
  {
   "cell_type": "code",
   "execution_count": 9,
   "id": "ee8d0ad9-fd3c-46a9-ab3e-37c8900d6471",
   "metadata": {},
   "outputs": [
    {
     "name": "stdout",
     "output_type": "stream",
     "text": [
      "ecoinvent-391-cutoff\n",
      "2024_STI_BW25_Lecture\n"
     ]
    }
   ],
   "source": [
    "#Importing the variables with the project name and background db\n",
    "from project_details import ei_name, project_name\n",
    "print(ei_name)\n",
    "print(project_name)"
   ]
  },
  {
   "cell_type": "code",
   "execution_count": 10,
   "id": "b851b305-7366-49d8-a946-7163b0a9581d",
   "metadata": {},
   "outputs": [
    {
     "data": {
      "text/plain": [
       "Databases dictionary with 3 object(s):\n",
       "\tasphalt\n",
       "\tbiosphere3\n",
       "\tecoinvent-391-cutoff"
      ]
     },
     "execution_count": 10,
     "metadata": {},
     "output_type": "execute_result"
    }
   ],
   "source": [
    "bd.projects.set_current(project_name)\n",
    "bd.databases"
   ]
  },
  {
   "cell_type": "code",
   "execution_count": 15,
   "id": "da289bd7-7402-4f6a-b4d5-cbfe675ca7c9",
   "metadata": {},
   "outputs": [],
   "source": [
    "# Is the background database name the same as the one we wrote in `project_details.py`?\n",
    "assert ei_name in bd.databases"
   ]
  },
  {
   "cell_type": "code",
   "execution_count": 16,
   "id": "df3acc89-6b6d-489b-8804-1dffbb60b97d",
   "metadata": {},
   "outputs": [],
   "source": [
    "fg_name = \"asphalt\""
   ]
  },
  {
   "cell_type": "code",
   "execution_count": 17,
   "id": "8705a056-55bc-471a-9739-dd22d0c3bae7",
   "metadata": {},
   "outputs": [],
   "source": [
    "# Assign the foreground database to a variable:\n",
    "fgdb = bd.Database(fg_name)"
   ]
  },
  {
   "cell_type": "markdown",
   "id": "6e2e18ca-cc25-4b82-877f-66adab032854",
   "metadata": {},
   "source": [
    "## 3.1) Single-LCA\n",
    "\n",
    "## Product system definition"
   ]
  },
  {
   "cell_type": "markdown",
   "id": "473cb3f9-354f-4266-91da-bd8474ad0f12",
   "metadata": {},
   "source": [
    "We are going to create a product system for the initial pavement structure. In our foreground database the activity \"pavement structure\" has as reference product the inital pavement structure for which we want to calculate the environmental impacts related to the phases A1-A5. Let's selected it and assign it to the variable \"pavement_structure\""
   ]
  },
  {
   "cell_type": "code",
   "execution_count": 19,
   "id": "98bc9f25-f8ce-4314-ac63-02d2705423da",
   "metadata": {},
   "outputs": [],
   "source": [
    "pavement_structure = fgdb.get(\"pavement_structure_1\")"
   ]
  },
  {
   "cell_type": "code",
   "execution_count": 20,
   "id": "f3ee5ebc-b8db-47b6-b41b-6d49cdf763d1",
   "metadata": {},
   "outputs": [
    {
     "name": "stdout",
     "output_type": "stream",
     "text": [
      "1: 'pavement structure, AC Surf, 30% RAP, regular bitumen' (kilometer, NL, None)\n",
      "  2.01e+06: 'AC Surf, 30% RAP, regular bitumen' (kilogram, NL, None)\n",
      "  2.72e+06: 'AC Bin' (kilogram, NL, None)\n",
      "  1.35e+07: 'AC Bin' (kilogram, NL, None)\n"
     ]
    }
   ],
   "source": [
    "bwa.print_recursive_supply_chain(pavement_structure, max_level=1)"
   ]
  },
  {
   "cell_type": "markdown",
   "id": "59ed53ef-52e0-4ef7-bf09-833639e1e308",
   "metadata": {},
   "source": [
    "## Functional unit "
   ]
  },
  {
   "cell_type": "markdown",
   "id": "278bed00-0dfb-4ebe-bc97-2a9ac39eb75c",
   "metadata": {},
   "source": [
    "The next step consists of defining the functional unit. This is done by using a dictionary with keys = activities and values = amounts. \n",
    "In our case study, the name of the activity is 'pavement_structure' and the amount is 1."
   ]
  },
  {
   "cell_type": "code",
   "execution_count": 21,
   "id": "a980261b-edd4-4b59-aac1-2b6435327bd5",
   "metadata": {},
   "outputs": [
    {
     "data": {
      "text/plain": [
       "{'pavement structure, AC Surf, 30% RAP, regular bitumen' (kilometer, NL, None): 1}"
      ]
     },
     "execution_count": 21,
     "metadata": {},
     "output_type": "execute_result"
    }
   ],
   "source": [
    "fu = {pavement_structure:1}\n",
    "fu"
   ]
  },
  {
   "cell_type": "markdown",
   "id": "081f3d4d-0352-45cc-845a-c84535778462",
   "metadata": {},
   "source": [
    "## LCIA Methods"
   ]
  },
  {
   "cell_type": "markdown",
   "id": "d7a5fa7a-4e34-4426-9be0-0c19b06824c4",
   "metadata": {},
   "source": [
    "n this step we are going to select the LCIA method to be used for calculating the environmental impact scores. In the notebook 2a_Background we explore the different LCIA methods that come with the databse 'biosphere3'. In this example we are going to use the method 'CML v4.8 2016'."
   ]
  },
  {
   "cell_type": "code",
   "execution_count": 22,
   "id": "1e8d1830-98f6-43a0-84ba-d8f1ae8de6fb",
   "metadata": {},
   "outputs": [
    {
     "data": {
      "text/plain": [
       "[('CML v4.8 2016',\n",
       "  'acidification',\n",
       "  'acidification (incl. fate, average Europe total, A&B)'),\n",
       " ('CML v4.8 2016', 'climate change', 'global warming potential (GWP100)'),\n",
       " ('CML v4.8 2016',\n",
       "  'ecotoxicity: freshwater',\n",
       "  'freshwater aquatic ecotoxicity (FAETP inf)'),\n",
       " ('CML v4.8 2016',\n",
       "  'ecotoxicity: marine',\n",
       "  'marine aquatic ecotoxicity (MAETP inf)'),\n",
       " ('CML v4.8 2016',\n",
       "  'ecotoxicity: terrestrial',\n",
       "  'terrestrial ecotoxicity (TETP inf)'),\n",
       " ('CML v4.8 2016',\n",
       "  'energy resources: non-renewable',\n",
       "  'abiotic depletion potential (ADP): fossil fuels'),\n",
       " ('CML v4.8 2016', 'eutrophication', 'eutrophication (fate not incl.)'),\n",
       " ('CML v4.8 2016', 'human toxicity', 'human toxicity (HTP inf)'),\n",
       " ('CML v4.8 2016',\n",
       "  'material resources: metals/minerals',\n",
       "  'abiotic depletion potential (ADP): elements (ultimate reserves)'),\n",
       " ('CML v4.8 2016',\n",
       "  'ozone depletion',\n",
       "  'ozone layer depletion (ODP steady state)'),\n",
       " ('CML v4.8 2016',\n",
       "  'photochemical oxidant formation',\n",
       "  'photochemical oxidation (high NOx)')]"
      ]
     },
     "execution_count": 22,
     "metadata": {},
     "output_type": "execute_result"
    }
   ],
   "source": [
    "cml_methods = [m for m in bd.methods if m[0] == \"CML v4.8 2016\"]\n",
    "cml_methods"
   ]
  },
  {
   "cell_type": "markdown",
   "id": "a360f5af-fe74-444f-89c0-c3715b189d76",
   "metadata": {},
   "source": [
    "## Scores (i.e. results) calculation"
   ]
  },
  {
   "cell_type": "markdown",
   "id": "80f28b2a-160d-453f-b6a2-5c8bdb13f84e",
   "metadata": {},
   "source": [
    "In this step we are going to calculate the environmental impact scores. To do so, we need to do the following:"
   ]
  },
  {
   "cell_type": "code",
   "execution_count": 23,
   "id": "a0bcb60d-2951-4d96-9a9b-5f66431bec43",
   "metadata": {},
   "outputs": [
    {
     "name": "stdout",
     "output_type": "stream",
     "text": [
      "Score is 4620.867554 kg SO2-Eq for category Acidification\n",
      "Score is 1451712.044700 kg CO2-Eq for category Climate Change\n",
      "Score is 305424.681945 kg 1,4-DCB-Eq for category Ecotoxicity: Freshwater\n",
      "Score is 541236955.229911 kg 1,4-DCB-Eq for category Ecotoxicity: Marine\n",
      "Score is 4622.939915 kg 1,4-DCB-Eq for category Ecotoxicity: Terrestrial\n",
      "Score is 35589696.272327 megajoule for category Energy Resources: Non-Renewable\n",
      "Score is 1131.355488 kg PO4-Eq for category Eutrophication\n",
      "Score is 101618546.054719 kg 1,4-DCB-Eq for category Human Toxicity\n",
      "Score is 2.326668 kg Sb-Eq for category Material Resources: Metals/Minerals\n",
      "Score is 0.053242 kg CFC-11-Eq for category Ozone Depletion\n",
      "Score is 426.951361 kg ethylene-Eq for category Photochemical Oxidant Formation\n"
     ]
    },
    {
     "data": {
      "text/plain": [
       "[('Acidification', 4620.867554305927, 'kg SO2-Eq'),\n",
       " ('Climate Change', 1451712.0447004328, 'kg CO2-Eq'),\n",
       " ('Ecotoxicity: Freshwater', 305424.68194525054, 'kg 1,4-DCB-Eq'),\n",
       " ('Ecotoxicity: Marine', 541236955.2299111, 'kg 1,4-DCB-Eq'),\n",
       " ('Ecotoxicity: Terrestrial', 4622.939915413022, 'kg 1,4-DCB-Eq'),\n",
       " ('Energy Resources: Non-Renewable', 35589696.272327244, 'megajoule'),\n",
       " ('Eutrophication', 1131.3554877978527, 'kg PO4-Eq'),\n",
       " ('Human Toxicity', 101618546.0547189, 'kg 1,4-DCB-Eq'),\n",
       " ('Material Resources: Metals/Minerals', 2.3266684801435487, 'kg Sb-Eq'),\n",
       " ('Ozone Depletion', 0.053242043984428895, 'kg CFC-11-Eq'),\n",
       " ('Photochemical Oxidant Formation', 426.9513612295997, 'kg ethylene-Eq')]"
      ]
     },
     "execution_count": 23,
     "metadata": {},
     "output_type": "execute_result"
    }
   ],
   "source": [
    "# Create a lca object\n",
    "lca = bc.LCA(fu)\n",
    "\n",
    "# Builds matrices, solves the system, generates an LCI matrix.\n",
    "lca.lci()\n",
    "\n",
    "results = [] #this list will store the LCA scores\n",
    "for method in cml_methods:\n",
    "    lca.switch_method(method)\n",
    "    lca.lcia() # Characterization, i.e. the multiplication of the elements of the LCI matrix with characterization factors from the chosen LCIA method\n",
    "    results.append((method[1].title(), \n",
    "                    lca.score, # Returns the score, i.e. the sum of the characterized inventory\n",
    "                    bd.methods.get(method).get('unit')))\n",
    "    print(\"Score is {:f} {} for category {}\".format(lca.score, \n",
    "                                                 bd.methods.get(method).get('unit'),\n",
    "                                                 method[1].title())\n",
    "         )\n",
    "    \n",
    "results"
   ]
  },
  {
   "cell_type": "code",
   "execution_count": 25,
   "id": "8dceed8a-8869-4007-b47f-0349d69116de",
   "metadata": {},
   "outputs": [
    {
     "data": {
      "text/plain": [
       "[('Acidification', 4620.867554305927, 'kg SO2-Eq'),\n",
       " ('Climate Change', 1451712.0447004328, 'kg CO2-Eq'),\n",
       " ('Ecotoxicity: Freshwater', 305424.68194525054, 'kg 1,4-DCB-Eq'),\n",
       " ('Ecotoxicity: Marine', 541236955.2299111, 'kg 1,4-DCB-Eq'),\n",
       " ('Ecotoxicity: Terrestrial', 4622.939915413022, 'kg 1,4-DCB-Eq'),\n",
       " ('Energy Resources: Non-Renewable', 35589696.272327244, 'megajoule'),\n",
       " ('Eutrophication', 1131.3554877978527, 'kg PO4-Eq'),\n",
       " ('Human Toxicity', 101618546.0547189, 'kg 1,4-DCB-Eq'),\n",
       " ('Material Resources: Metals/Minerals', 2.3266684801435487, 'kg Sb-Eq'),\n",
       " ('Ozone Depletion', 0.053242043984428895, 'kg CFC-11-Eq'),\n",
       " ('Photochemical Oxidant Formation', 426.9513612295997, 'kg ethylene-Eq')]"
      ]
     },
     "execution_count": 25,
     "metadata": {},
     "output_type": "execute_result"
    }
   ],
   "source": [
    "# We can also see the values stores in the list 'results'\n",
    "results"
   ]
  },
  {
   "cell_type": "code",
   "execution_count": 26,
   "id": "072240a6-9111-47d1-8418-47ba31c5dd55",
   "metadata": {},
   "outputs": [
    {
     "data": {
      "text/html": [
       "<div>\n",
       "<style scoped>\n",
       "    .dataframe tbody tr th:only-of-type {\n",
       "        vertical-align: middle;\n",
       "    }\n",
       "\n",
       "    .dataframe tbody tr th {\n",
       "        vertical-align: top;\n",
       "    }\n",
       "\n",
       "    .dataframe thead th {\n",
       "        text-align: right;\n",
       "    }\n",
       "</style>\n",
       "<table border=\"1\" class=\"dataframe\">\n",
       "  <thead>\n",
       "    <tr style=\"text-align: right;\">\n",
       "      <th></th>\n",
       "      <th>Score</th>\n",
       "      <th>Unit</th>\n",
       "    </tr>\n",
       "    <tr>\n",
       "      <th>Impact Category</th>\n",
       "      <th></th>\n",
       "      <th></th>\n",
       "    </tr>\n",
       "  </thead>\n",
       "  <tbody>\n",
       "    <tr>\n",
       "      <th>Acidification</th>\n",
       "      <td>4.620868e+03</td>\n",
       "      <td>kg SO2-Eq</td>\n",
       "    </tr>\n",
       "    <tr>\n",
       "      <th>Climate Change</th>\n",
       "      <td>1.451712e+06</td>\n",
       "      <td>kg CO2-Eq</td>\n",
       "    </tr>\n",
       "    <tr>\n",
       "      <th>Ecotoxicity: Freshwater</th>\n",
       "      <td>3.054247e+05</td>\n",
       "      <td>kg 1,4-DCB-Eq</td>\n",
       "    </tr>\n",
       "    <tr>\n",
       "      <th>Ecotoxicity: Marine</th>\n",
       "      <td>5.412370e+08</td>\n",
       "      <td>kg 1,4-DCB-Eq</td>\n",
       "    </tr>\n",
       "    <tr>\n",
       "      <th>Ecotoxicity: Terrestrial</th>\n",
       "      <td>4.622940e+03</td>\n",
       "      <td>kg 1,4-DCB-Eq</td>\n",
       "    </tr>\n",
       "    <tr>\n",
       "      <th>Energy Resources: Non-Renewable</th>\n",
       "      <td>3.558970e+07</td>\n",
       "      <td>megajoule</td>\n",
       "    </tr>\n",
       "    <tr>\n",
       "      <th>Eutrophication</th>\n",
       "      <td>1.131355e+03</td>\n",
       "      <td>kg PO4-Eq</td>\n",
       "    </tr>\n",
       "    <tr>\n",
       "      <th>Human Toxicity</th>\n",
       "      <td>1.016185e+08</td>\n",
       "      <td>kg 1,4-DCB-Eq</td>\n",
       "    </tr>\n",
       "    <tr>\n",
       "      <th>Material Resources: Metals/Minerals</th>\n",
       "      <td>2.326668e+00</td>\n",
       "      <td>kg Sb-Eq</td>\n",
       "    </tr>\n",
       "    <tr>\n",
       "      <th>Ozone Depletion</th>\n",
       "      <td>5.324204e-02</td>\n",
       "      <td>kg CFC-11-Eq</td>\n",
       "    </tr>\n",
       "    <tr>\n",
       "      <th>Photochemical Oxidant Formation</th>\n",
       "      <td>4.269514e+02</td>\n",
       "      <td>kg ethylene-Eq</td>\n",
       "    </tr>\n",
       "  </tbody>\n",
       "</table>\n",
       "</div>"
      ],
      "text/plain": [
       "                                            Score            Unit\n",
       "Impact Category                                                  \n",
       "Acidification                        4.620868e+03       kg SO2-Eq\n",
       "Climate Change                       1.451712e+06       kg CO2-Eq\n",
       "Ecotoxicity: Freshwater              3.054247e+05   kg 1,4-DCB-Eq\n",
       "Ecotoxicity: Marine                  5.412370e+08   kg 1,4-DCB-Eq\n",
       "Ecotoxicity: Terrestrial             4.622940e+03   kg 1,4-DCB-Eq\n",
       "Energy Resources: Non-Renewable      3.558970e+07       megajoule\n",
       "Eutrophication                       1.131355e+03       kg PO4-Eq\n",
       "Human Toxicity                       1.016185e+08   kg 1,4-DCB-Eq\n",
       "Material Resources: Metals/Minerals  2.326668e+00        kg Sb-Eq\n",
       "Ozone Depletion                      5.324204e-02    kg CFC-11-Eq\n",
       "Photochemical Oxidant Formation      4.269514e+02  kg ethylene-Eq"
      ]
     },
     "execution_count": 26,
     "metadata": {},
     "output_type": "execute_result"
    }
   ],
   "source": [
    "#Creates a table with the results\n",
    "results_df = pd.DataFrame(results, columns=[\"Impact Category\", \"Score\", \"Unit\"])\n",
    "results_df = results_df.set_index(\"Impact Category\")\n",
    "results_df"
   ]
  },
  {
   "cell_type": "code",
   "execution_count": null,
   "id": "8a28a74f-b874-4916-8548-65d02d11b86a",
   "metadata": {},
   "outputs": [],
   "source": []
  }
 ],
 "metadata": {
  "kernelspec": {
   "display_name": "Python 3 (ipykernel)",
   "language": "python",
   "name": "python3"
  },
  "language_info": {
   "codemirror_mode": {
    "name": "ipython",
    "version": 3
   },
   "file_extension": ".py",
   "mimetype": "text/x-python",
   "name": "python",
   "nbconvert_exporter": "python",
   "pygments_lexer": "ipython3",
   "version": "3.11.9"
  }
 },
 "nbformat": 4,
 "nbformat_minor": 5
}
