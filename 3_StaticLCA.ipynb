{
 "cells": [
  {
   "cell_type": "code",
   "execution_count": 1,
   "id": "0992f186-03dc-43bf-9a92-34266fcfc806",
   "metadata": {},
   "outputs": [
    {
     "name": "stderr",
     "output_type": "stream",
     "text": [
      "/Users/andreavargasf/anaconda3/envs/STI_environment/lib/python3.11/site-packages/bw2calc/__init__.py:48: UserWarning: \n",
      "It seems like you have an ARM architecture, but haven't installed scikit-umfpack:\n",
      "\n",
      "    https://pypi.org/project/scikit-umfpack/\n",
      "\n",
      "Installing it could give you much faster calculations.\n",
      "\n",
      "  warnings.warn(UMFPACK_WARNING)\n"
     ]
    }
   ],
   "source": [
    "import bw2analyzer as bwa\n",
    "import bw2calc as bc\n",
    "import bw2data as bd\n",
    "import bw2io as bi\n",
    "#import ipywidgets as widgets\n",
    "import pandas as pd\n",
    "from bw2data.query import Filter, Query\n",
    "from IPython.display import display"
   ]
  },
  {
   "cell_type": "code",
   "execution_count": 2,
   "id": "ee8d0ad9-fd3c-46a9-ab3e-37c8900d6471",
   "metadata": {},
   "outputs": [],
   "source": [
    "#Importing the variables with the project name and background db\n",
    "from project_details import ei_name, project_name"
   ]
  },
  {
   "cell_type": "code",
   "execution_count": 3,
   "id": "b851b305-7366-49d8-a946-7163b0a9581d",
   "metadata": {},
   "outputs": [
    {
     "data": {
      "text/plain": [
       "Databases dictionary with 3 object(s):\n",
       "\tasphalt\n",
       "\tbiosphere3\n",
       "\tecoinvent-391-cutoff"
      ]
     },
     "execution_count": 3,
     "metadata": {},
     "output_type": "execute_result"
    }
   ],
   "source": [
    "bd.projects.set_current(project_name)\n",
    "bd.databases"
   ]
  },
  {
   "cell_type": "code",
   "execution_count": 4,
   "id": "da289bd7-7402-4f6a-b4d5-cbfe675ca7c9",
   "metadata": {},
   "outputs": [],
   "source": [
    "# Is the background database name the same as the one we wrote in `project_details.py`?\n",
    "assert ei_name in bd.databases"
   ]
  },
  {
   "cell_type": "code",
   "execution_count": 5,
   "id": "df3acc89-6b6d-489b-8804-1dffbb60b97d",
   "metadata": {},
   "outputs": [],
   "source": [
    "fg_name = \"asphalt\""
   ]
  },
  {
   "cell_type": "code",
   "execution_count": 6,
   "id": "8705a056-55bc-471a-9739-dd22d0c3bae7",
   "metadata": {},
   "outputs": [],
   "source": [
    "fgdb = bd.Database(fg_name)"
   ]
  },
  {
   "cell_type": "markdown",
   "id": "6e2e18ca-cc25-4b82-877f-66adab032854",
   "metadata": {},
   "source": [
    "## System definition"
   ]
  },
  {
   "cell_type": "code",
   "execution_count": 7,
   "id": "98bc9f25-f8ce-4314-ac63-02d2705423da",
   "metadata": {},
   "outputs": [],
   "source": [
    "pavement_structure = fgdb.get(\"pavement_structure\")"
   ]
  },
  {
   "cell_type": "code",
   "execution_count": 9,
   "id": "f3ee5ebc-b8db-47b6-b41b-6d49cdf763d1",
   "metadata": {},
   "outputs": [
    {
     "name": "stdout",
     "output_type": "stream",
     "text": [
      "1: 'pavement structure' (kilometer, NL, None)\n",
      "  2.01e+06: 'AC Surf' (kilogram, NL, None)\n",
      "  2.72e+06: 'AC Bin' (kilogram, NL, None)\n",
      "  1.35e+07: 'AC Bin' (kilogram, NL, None)\n"
     ]
    }
   ],
   "source": [
    "bwa.print_recursive_supply_chain(pavement_structure, max_level=1)"
   ]
  },
  {
   "cell_type": "markdown",
   "id": "59ed53ef-52e0-4ef7-bf09-833639e1e308",
   "metadata": {},
   "source": [
    "## Functional unit "
   ]
  },
  {
   "cell_type": "code",
   "execution_count": 26,
   "id": "a980261b-edd4-4b59-aac1-2b6435327bd5",
   "metadata": {},
   "outputs": [
    {
     "data": {
      "text/plain": [
       "{'pavement structure' (kilometer, NL, None): 1}"
      ]
     },
     "execution_count": 26,
     "metadata": {},
     "output_type": "execute_result"
    }
   ],
   "source": [
    "fu = {pavement_structure:1}\n",
    "fu"
   ]
  },
  {
   "cell_type": "markdown",
   "id": "081f3d4d-0352-45cc-845a-c84535778462",
   "metadata": {},
   "source": [
    "## LCIA Methods"
   ]
  },
  {
   "cell_type": "code",
   "execution_count": 20,
   "id": "1e8d1830-98f6-43a0-84ba-d8f1ae8de6fb",
   "metadata": {},
   "outputs": [
    {
     "data": {
      "text/plain": [
       "[('CML v4.8 2016',\n",
       "  'acidification',\n",
       "  'acidification (incl. fate, average Europe total, A&B)'),\n",
       " ('CML v4.8 2016', 'climate change', 'global warming potential (GWP100)'),\n",
       " ('CML v4.8 2016',\n",
       "  'ecotoxicity: freshwater',\n",
       "  'freshwater aquatic ecotoxicity (FAETP inf)'),\n",
       " ('CML v4.8 2016',\n",
       "  'ecotoxicity: marine',\n",
       "  'marine aquatic ecotoxicity (MAETP inf)'),\n",
       " ('CML v4.8 2016',\n",
       "  'ecotoxicity: terrestrial',\n",
       "  'terrestrial ecotoxicity (TETP inf)'),\n",
       " ('CML v4.8 2016',\n",
       "  'energy resources: non-renewable',\n",
       "  'abiotic depletion potential (ADP): fossil fuels'),\n",
       " ('CML v4.8 2016', 'eutrophication', 'eutrophication (fate not incl.)'),\n",
       " ('CML v4.8 2016', 'human toxicity', 'human toxicity (HTP inf)'),\n",
       " ('CML v4.8 2016',\n",
       "  'material resources: metals/minerals',\n",
       "  'abiotic depletion potential (ADP): elements (ultimate reserves)'),\n",
       " ('CML v4.8 2016',\n",
       "  'ozone depletion',\n",
       "  'ozone layer depletion (ODP steady state)'),\n",
       " ('CML v4.8 2016',\n",
       "  'photochemical oxidant formation',\n",
       "  'photochemical oxidation (high NOx)')]"
      ]
     },
     "execution_count": 20,
     "metadata": {},
     "output_type": "execute_result"
    }
   ],
   "source": [
    "cml_methods = [m for m in bd.methods if m[0] == \"CML v4.8 2016\"]\n",
    "cml_methods"
   ]
  },
  {
   "cell_type": "code",
   "execution_count": 38,
   "id": "a0bcb60d-2951-4d96-9a9b-5f66431bec43",
   "metadata": {},
   "outputs": [
    {
     "data": {
      "text/plain": [
       "[('Acidification', 4262.25284277886, 'kg SO2-Eq'),\n",
       " ('Climate Change', 1344776.4563756627, 'kg CO2-Eq'),\n",
       " ('Ecotoxicity: Freshwater', 285610.5700195525, 'kg 1,4-DCB-Eq'),\n",
       " ('Ecotoxicity: Marine', 503510167.2598891, 'kg 1,4-DCB-Eq'),\n",
       " ('Ecotoxicity: Terrestrial', 4294.063843982962, 'kg 1,4-DCB-Eq'),\n",
       " ('Energy Resources: Non-Renewable', 34058665.4910202, 'megajoule'),\n",
       " ('Eutrophication', 1041.97242228296, 'kg PO4-Eq'),\n",
       " ('Human Toxicity', 101544863.0600193, 'kg 1,4-DCB-Eq'),\n",
       " ('Material Resources: Metals/Minerals', 2.090926655104789, 'kg Sb-Eq'),\n",
       " ('Ozone Depletion', 0.051422326214295405, 'kg CFC-11-Eq'),\n",
       " ('Photochemical Oxidant Formation', 396.37651616427786, 'kg ethylene-Eq')]"
      ]
     },
     "execution_count": 38,
     "metadata": {},
     "output_type": "execute_result"
    }
   ],
   "source": [
    "lca = bc.LCA(fu)\n",
    "lca.lci()\n",
    "\n",
    "results = []\n",
    "for method in cml_methods:\n",
    "    lca.switch_method(method)\n",
    "    lca.lcia()\n",
    "    results.append((method[1].title(), \n",
    "                    lca.score, \n",
    "                    bd.methods.get(method).get('unit')))\n",
    "results"
   ]
  },
  {
   "cell_type": "code",
   "execution_count": 47,
   "id": "072240a6-9111-47d1-8418-47ba31c5dd55",
   "metadata": {},
   "outputs": [
    {
     "data": {
      "text/html": [
       "<div>\n",
       "<style scoped>\n",
       "    .dataframe tbody tr th:only-of-type {\n",
       "        vertical-align: middle;\n",
       "    }\n",
       "\n",
       "    .dataframe tbody tr th {\n",
       "        vertical-align: top;\n",
       "    }\n",
       "\n",
       "    .dataframe thead th {\n",
       "        text-align: right;\n",
       "    }\n",
       "</style>\n",
       "<table border=\"1\" class=\"dataframe\">\n",
       "  <thead>\n",
       "    <tr style=\"text-align: right;\">\n",
       "      <th></th>\n",
       "      <th>Score</th>\n",
       "      <th>Unit</th>\n",
       "    </tr>\n",
       "    <tr>\n",
       "      <th>Impact Category</th>\n",
       "      <th></th>\n",
       "      <th></th>\n",
       "    </tr>\n",
       "  </thead>\n",
       "  <tbody>\n",
       "    <tr>\n",
       "      <th>Acidification</th>\n",
       "      <td>4.262253e+03</td>\n",
       "      <td>kg SO2-Eq</td>\n",
       "    </tr>\n",
       "    <tr>\n",
       "      <th>Climate Change</th>\n",
       "      <td>1.344776e+06</td>\n",
       "      <td>kg CO2-Eq</td>\n",
       "    </tr>\n",
       "    <tr>\n",
       "      <th>Ecotoxicity: Freshwater</th>\n",
       "      <td>2.856106e+05</td>\n",
       "      <td>kg 1,4-DCB-Eq</td>\n",
       "    </tr>\n",
       "    <tr>\n",
       "      <th>Ecotoxicity: Marine</th>\n",
       "      <td>5.035102e+08</td>\n",
       "      <td>kg 1,4-DCB-Eq</td>\n",
       "    </tr>\n",
       "    <tr>\n",
       "      <th>Ecotoxicity: Terrestrial</th>\n",
       "      <td>4.294064e+03</td>\n",
       "      <td>kg 1,4-DCB-Eq</td>\n",
       "    </tr>\n",
       "    <tr>\n",
       "      <th>Energy Resources: Non-Renewable</th>\n",
       "      <td>3.405867e+07</td>\n",
       "      <td>megajoule</td>\n",
       "    </tr>\n",
       "    <tr>\n",
       "      <th>Eutrophication</th>\n",
       "      <td>1.041972e+03</td>\n",
       "      <td>kg PO4-Eq</td>\n",
       "    </tr>\n",
       "    <tr>\n",
       "      <th>Human Toxicity</th>\n",
       "      <td>1.015449e+08</td>\n",
       "      <td>kg 1,4-DCB-Eq</td>\n",
       "    </tr>\n",
       "    <tr>\n",
       "      <th>Material Resources: Metals/Minerals</th>\n",
       "      <td>2.090927e+00</td>\n",
       "      <td>kg Sb-Eq</td>\n",
       "    </tr>\n",
       "    <tr>\n",
       "      <th>Ozone Depletion</th>\n",
       "      <td>5.142233e-02</td>\n",
       "      <td>kg CFC-11-Eq</td>\n",
       "    </tr>\n",
       "    <tr>\n",
       "      <th>Photochemical Oxidant Formation</th>\n",
       "      <td>3.963765e+02</td>\n",
       "      <td>kg ethylene-Eq</td>\n",
       "    </tr>\n",
       "  </tbody>\n",
       "</table>\n",
       "</div>"
      ],
      "text/plain": [
       "                                            Score            Unit\n",
       "Impact Category                                                  \n",
       "Acidification                        4.262253e+03       kg SO2-Eq\n",
       "Climate Change                       1.344776e+06       kg CO2-Eq\n",
       "Ecotoxicity: Freshwater              2.856106e+05   kg 1,4-DCB-Eq\n",
       "Ecotoxicity: Marine                  5.035102e+08   kg 1,4-DCB-Eq\n",
       "Ecotoxicity: Terrestrial             4.294064e+03   kg 1,4-DCB-Eq\n",
       "Energy Resources: Non-Renewable      3.405867e+07       megajoule\n",
       "Eutrophication                       1.041972e+03       kg PO4-Eq\n",
       "Human Toxicity                       1.015449e+08   kg 1,4-DCB-Eq\n",
       "Material Resources: Metals/Minerals  2.090927e+00        kg Sb-Eq\n",
       "Ozone Depletion                      5.142233e-02    kg CFC-11-Eq\n",
       "Photochemical Oxidant Formation      3.963765e+02  kg ethylene-Eq"
      ]
     },
     "execution_count": 47,
     "metadata": {},
     "output_type": "execute_result"
    }
   ],
   "source": [
    "results_df = pd.DataFrame(results, columns=[\"Impact Category\", \"Score\", \"Unit\"])\n",
    "results_df = results_df.set_index(\"Impact Category\")\n",
    "results_df"
   ]
  },
  {
   "cell_type": "code",
   "execution_count": null,
   "id": "8a28a74f-b874-4916-8548-65d02d11b86a",
   "metadata": {},
   "outputs": [],
   "source": []
  }
 ],
 "metadata": {
  "kernelspec": {
   "display_name": "Python 3 (ipykernel)",
   "language": "python",
   "name": "python3"
  },
  "language_info": {
   "codemirror_mode": {
    "name": "ipython",
    "version": 3
   },
   "file_extension": ".py",
   "mimetype": "text/x-python",
   "name": "python",
   "nbconvert_exporter": "python",
   "pygments_lexer": "ipython3",
   "version": "3.11.9"
  }
 },
 "nbformat": 4,
 "nbformat_minor": 5
}
