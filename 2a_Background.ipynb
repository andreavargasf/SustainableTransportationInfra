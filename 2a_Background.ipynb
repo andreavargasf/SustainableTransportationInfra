{
 "cells": [
  {
   "cell_type": "markdown",
   "id": "d8a5375d-fdfc-4f23-9654-becf2462c4e7",
   "metadata": {},
   "source": [
    "# Inventory\n",
    "\n",
    "## Content\n",
    "\n",
    "<span style='background:yellow'> 2.1) Setting up the background system: ecoinvent and biosphere3 databases </span> \n",
    "\n",
    "<span style='background:yellow'> 2.2) Setting up the foreground system: </span> \n",
    "\n",
    "\n"
   ]
  },
  {
   "cell_type": "markdown",
   "id": "c8a88d55-7d7c-42bc-ac59-bd254c75cea5",
   "metadata": {},
   "source": [
    "## 2.1) Setting up the background system: ecoinvent and biosphere3 databases\n",
    "\n",
    "You will need two databases: \n",
    "- biosphere3, that contains all the exchanges and impact assessment methods, and\n",
    "- ecoinvent."
   ]
  },
  {
   "cell_type": "markdown",
   "id": "8c4c493a-4a06-43d2-9a2b-7a9d5f3453ae",
   "metadata": {},
   "source": [
    "But first, let's import BW25 packages"
   ]
  },
  {
   "cell_type": "code",
   "execution_count": 3,
   "id": "b99ebf5c-3167-41ac-aee7-210606c1d79d",
   "metadata": {},
   "outputs": [
    {
     "name": "stderr",
     "output_type": "stream",
     "text": [
      "/Users/andreavargasf/anaconda3/envs/STI_environment/lib/python3.11/site-packages/bw2calc/__init__.py:48: UserWarning: \n",
      "It seems like you have an ARM architecture, but haven't installed scikit-umfpack:\n",
      "\n",
      "    https://pypi.org/project/scikit-umfpack/\n",
      "\n",
      "Installing it could give you much faster calculations.\n",
      "\n",
      "  warnings.warn(UMFPACK_WARNING)\n"
     ]
    }
   ],
   "source": [
    "# Import BW25 packages\n",
    "import bw2data as bd\n",
    "import bw2io as bi\n",
    "import bw2calc as bc\n",
    "import bw2analyzer as bwa"
   ]
  },
  {
   "cell_type": "markdown",
   "id": "9b120421-7b57-45ac-a4bf-5d6cc6c3e6aa",
   "metadata": {},
   "source": [
    "### Biosphere3"
   ]
  },
  {
   "cell_type": "markdown",
   "id": "0acef9a6-6414-407f-8805-932c57926f3a",
   "metadata": {},
   "source": [
    "#### Importing biosphere3"
   ]
  },
  {
   "cell_type": "markdown",
   "id": "4be952fa-eed7-4e4b-9c44-6877838718af",
   "metadata": {},
   "source": [
    "Check the projects you have created:"
   ]
  },
  {
   "cell_type": "code",
   "execution_count": 4,
   "id": "e2bbed52-23ee-4e09-8000-2dd7dd886afc",
   "metadata": {},
   "outputs": [
    {
     "data": {
      "text/plain": [
       "Brightway2 projects manager with 7 objects:\n",
       "\t2024_STI_BW25_Lecture\n",
       "\tasphalt\n",
       "\tbeavers\n",
       "\tdefault\n",
       "\texample\n",
       "\tspm\n",
       "\tua_pmlca\n",
       "Use `projects.report()` to get a report on all projects."
      ]
     },
     "execution_count": 4,
     "metadata": {},
     "output_type": "execute_result"
    }
   ],
   "source": [
    "bd.projects "
   ]
  },
  {
   "cell_type": "code",
   "execution_count": 5,
   "id": "1fbee6a1-5da1-41b3-899f-c556c2c1cd40",
   "metadata": {},
   "outputs": [],
   "source": [
    "# Activate the project we are working on\n",
    "bd.projects.set_current('2024_STI_BW25_Lecture') "
   ]
  },
  {
   "cell_type": "markdown",
   "id": "c0e79f18-61e8-416b-af56-55fa76743130",
   "metadata": {},
   "source": [
    " Let’s see what databases you have:"
   ]
  },
  {
   "cell_type": "code",
   "execution_count": 6,
   "id": "5a0cae59-3483-4411-93c9-12458a30ef63",
   "metadata": {},
   "outputs": [
    {
     "data": {
      "text/plain": [
       "Databases dictionary with 3 object(s):\n",
       "\tasphalt\n",
       "\tbiosphere3\n",
       "\tecoinvent-391-cutoff"
      ]
     },
     "execution_count": 6,
     "metadata": {},
     "output_type": "execute_result"
    }
   ],
   "source": [
    "# If this is your first time using this project, this should be an empty dictionary! \n",
    "bd.databases"
   ]
  },
  {
   "cell_type": "markdown",
   "id": "155806fc-b8a8-4491-8d7f-450b72fb0699",
   "metadata": {},
   "source": [
    "Now we can add the biosphere flows. This is done by running the bw2setup function:\n",
    "\n",
    "(This will also create the LCIA methods. But more about that will be explored later)"
   ]
  },
  {
   "cell_type": "code",
   "execution_count": 5,
   "id": "21cd4d69-f0d4-41b7-89be-645810f19d5e",
   "metadata": {},
   "outputs": [
    {
     "name": "stdout",
     "output_type": "stream",
     "text": [
      "Biosphere database already present!!! No setup is needed\n"
     ]
    }
   ],
   "source": [
    "bi.bw2setup()"
   ]
  },
  {
   "cell_type": "markdown",
   "id": "f1468717-5341-40a2-b18b-1108270b89c4",
   "metadata": {},
   "source": [
    "Check the databases. You should now see \"biosphere3\""
   ]
  },
  {
   "cell_type": "code",
   "execution_count": 6,
   "id": "3d171038-b98a-4c75-bfcf-0ced82eaf043",
   "metadata": {},
   "outputs": [
    {
     "data": {
      "text/plain": [
       "Databases dictionary with 2 object(s):\n",
       "\tbiosphere3\n",
       "\tecoinvent-391-cutoff"
      ]
     },
     "execution_count": 6,
     "metadata": {},
     "output_type": "execute_result"
    }
   ],
   "source": [
    "bd.databases"
   ]
  },
  {
   "cell_type": "markdown",
   "id": "df6a5e3f-6943-46dd-bd84-a5eef18e403e",
   "metadata": {},
   "source": [
    "#### Navigating biosphere3"
   ]
  },
  {
   "cell_type": "markdown",
   "id": "b337b628-1811-4d4c-9de5-5d21f37c6b8e",
   "metadata": {},
   "source": [
    "There are many properties and functions associated with this database object. To access those, let's assign the database to a variable"
   ]
  },
  {
   "cell_type": "code",
   "execution_count": 7,
   "id": "3067a380-25e8-425d-97bd-e0ac28365daf",
   "metadata": {},
   "outputs": [],
   "source": [
    "my_bio = bd.Database('biosphere3')"
   ]
  },
  {
   "cell_type": "code",
   "execution_count": 8,
   "id": "bc56615a-5c18-46c6-b5d9-ae50ca921a87",
   "metadata": {},
   "outputs": [],
   "source": [
    "#type(my_bio)\n",
    "#len(my_bio)"
   ]
  },
  {
   "cell_type": "markdown",
   "id": "25c65a7c-4345-4fc0-8250-d6cd61d44e6a",
   "metadata": {},
   "source": [
    "If you type my_bio. and click on tab, you should get a list of properties and methods associated with database objects. "
   ]
  },
  {
   "cell_type": "code",
   "execution_count": 9,
   "id": "c4105a41-f327-4fe4-aeb6-bf3ca11dc0b1",
   "metadata": {},
   "outputs": [
    {
     "data": {
      "text/plain": [
       "<bound method SQLiteBackend.get of Brightway2 SQLiteBackend: biosphere3>"
      ]
     },
     "execution_count": 9,
     "metadata": {},
     "output_type": "execute_result"
    }
   ],
   "source": [
    "my_bio.get"
   ]
  },
  {
   "cell_type": "markdown",
   "id": "1278fff5-180e-4cc0-9f3d-9187a21d86db",
   "metadata": {},
   "source": [
    "Some of the more basic ones we will be using now are :\n",
    "\n",
    "- random() - returns a random activity in the database\n",
    "- get(*valid_exchange_tuple*) - returns an activity, but you must know the activity key\n",
    "- load() - loads the whole database as a dictionary.\n",
    "- make_searchable - allows searching of the database (by default, it is already searchable)\n",
    "- search - search the database\n",
    "\n",
    "Let's start with random:"
   ]
  },
  {
   "cell_type": "code",
   "execution_count": 10,
   "id": "d8f9f8f3-848e-4a9f-9e4b-5a1b326afe8e",
   "metadata": {},
   "outputs": [
    {
     "data": {
      "text/plain": [
       "'Ethanol' (kilogram, None, ('air',))"
      ]
     },
     "execution_count": 10,
     "metadata": {},
     "output_type": "execute_result"
    }
   ],
   "source": [
    "my_bio.random()"
   ]
  },
  {
   "cell_type": "markdown",
   "id": "be30cb22-ed11-48ba-91d3-65a69f18c2b3",
   "metadata": {},
   "source": [
    "This returns a biosphere activity, but without assigning it to a variable, there is not much we can do with it directly.\n",
    "\n",
    "Note: It may seem counter-intuitive for elementary flows to be considered activities in Brightway, but it is no mistake. LCA models are made up of nodes (activities) that are linked by edges (exchanges). The biosphere activities are the nodes outside the technosphere. Emissions and resource extractions are modelled as exchanges between activities in the technosphere (part of the product system) and these biosphere activities.\n",
    "\n",
    "More on this later.\n",
    "\n",
    "For now, let's assign another random activity to a variable:"
   ]
  },
  {
   "cell_type": "code",
   "execution_count": 11,
   "id": "f0ffa8bc-368e-4f62-97f0-c84c587d37e5",
   "metadata": {},
   "outputs": [
    {
     "data": {
      "text/plain": [
       "'Haloxyfop-ethoxyethyl' (kilogram, None, ('water', 'ground-'))"
      ]
     },
     "execution_count": 11,
     "metadata": {},
     "output_type": "execute_result"
    }
   ],
   "source": [
    "random_biosphere = my_bio.random()\n",
    "random_biosphere"
   ]
  },
  {
   "cell_type": "markdown",
   "id": "b40ff5d3-d0ac-4412-8bf0-5956dd7a9f69",
   "metadata": {},
   "source": [
    "We can get the type of the object that was returned from the database:"
   ]
  },
  {
   "cell_type": "code",
   "execution_count": 12,
   "id": "fb551a65-52b0-4c4a-b996-6117ea596bdf",
   "metadata": {},
   "outputs": [
    {
     "data": {
      "text/plain": [
       "bw2data.backends.proxies.Activity"
      ]
     },
     "execution_count": 12,
     "metadata": {},
     "output_type": "execute_result"
    }
   ],
   "source": [
    "type(random_biosphere)"
   ]
  },
  {
   "cell_type": "markdown",
   "id": "384c0550-bd1a-4d4a-ad23-eda67caea23b",
   "metadata": {},
   "source": [
    "The type is an activity proxy. Activity proxies allow us to interact with the content of the database.\n",
    "\n",
    "To see what the activity contains, we can convert it to a dictionary:"
   ]
  },
  {
   "cell_type": "code",
   "execution_count": 13,
   "id": "45498e37-889b-4221-8744-7a2c84a58b80",
   "metadata": {},
   "outputs": [
    {
     "data": {
      "text/plain": [
       "{'categories': ('water', 'ground-'),\n",
       " 'code': '125cffa2-ba58-5995-8645-24e7789cdccc',\n",
       " 'CAS number': '087237-48-7',\n",
       " 'synonyms': [],\n",
       " 'name': 'Haloxyfop-ethoxyethyl',\n",
       " 'database': 'biosphere3',\n",
       " 'unit': 'kilogram',\n",
       " 'type': 'emission',\n",
       " 'id': 4410}"
      ]
     },
     "execution_count": 13,
     "metadata": {},
     "output_type": "execute_result"
    }
   ],
   "source": [
    "random_biosphere.as_dict()"
   ]
  },
  {
   "cell_type": "markdown",
   "id": "5e665e10-a343-41b9-8567-af23d74cbb4e",
   "metadata": {},
   "source": [
    "We can get the value of each item by specifying its key. Example: let's get the value corresponding to the key 'code'"
   ]
  },
  {
   "cell_type": "code",
   "execution_count": 14,
   "id": "0171b267-2a75-4957-8484-0ba073e8d671",
   "metadata": {},
   "outputs": [
    {
     "data": {
      "text/plain": [
       "'125cffa2-ba58-5995-8645-24e7789cdccc'"
      ]
     },
     "execution_count": 14,
     "metadata": {},
     "output_type": "execute_result"
    }
   ],
   "source": [
    "random_biosphere['code']"
   ]
  },
  {
   "cell_type": "markdown",
   "id": "2fff8e23-78a4-490f-9331-69a22c1a6d73",
   "metadata": {},
   "source": [
    "Now for the key 'unit'"
   ]
  },
  {
   "cell_type": "code",
   "execution_count": 15,
   "id": "42e3e061-3f56-4bce-bb6e-65b2686322c4",
   "metadata": {},
   "outputs": [
    {
     "data": {
      "text/plain": [
       "'kilogram'"
      ]
     },
     "execution_count": 15,
     "metadata": {},
     "output_type": "execute_result"
    }
   ],
   "source": [
    "random_biosphere['unit']"
   ]
  },
  {
   "cell_type": "markdown",
   "id": "6125505f-d0ad-457a-99b6-5e9e2a363959",
   "metadata": {},
   "source": [
    "Activities in the biosphere3 database have unique codes, which we can use with the get function:"
   ]
  },
  {
   "cell_type": "code",
   "execution_count": 16,
   "id": "607ec63e-6509-490c-9672-8deeadc1737a",
   "metadata": {},
   "outputs": [
    {
     "data": {
      "text/plain": [
       "'Haloxyfop-ethoxyethyl' (kilogram, None, ('water', 'ground-'))"
      ]
     },
     "execution_count": 16,
     "metadata": {},
     "output_type": "execute_result"
    }
   ],
   "source": [
    "my_bio.get(random_biosphere['code'])"
   ]
  },
  {
   "cell_type": "markdown",
   "id": "57f683bc-57b5-48f3-8945-1d18a708c515",
   "metadata": {},
   "source": [
    "As you can see this is the same activity! This is expected because we are \"getting\" the activity with the code equal to our random biosphere variable. And remember: Activities in the biosphere3 database have unique codes."
   ]
  },
  {
   "cell_type": "markdown",
   "id": "77c03ab9-341f-434e-8fab-cfd27eb2ef80",
   "metadata": {},
   "source": [
    "You can always find (or return) the key to an activity using the .key property."
   ]
  },
  {
   "cell_type": "code",
   "execution_count": 17,
   "id": "38baac00-12e1-4fa4-9a35-9773c426bffa",
   "metadata": {},
   "outputs": [
    {
     "data": {
      "text/plain": [
       "('biosphere3', '125cffa2-ba58-5995-8645-24e7789cdccc')"
      ]
     },
     "execution_count": 17,
     "metadata": {},
     "output_type": "execute_result"
    }
   ],
   "source": [
    "random_biosphere.key"
   ]
  },
  {
   "cell_type": "markdown",
   "id": "04b8b869-8bdd-417e-a6a6-f825cca8512a",
   "metadata": {},
   "source": [
    "**Searching for activities**"
   ]
  },
  {
   "cell_type": "markdown",
   "id": "a8c13c65-0097-4796-8850-728cffd5791e",
   "metadata": {},
   "source": [
    "Let's say we are looking for a specific elementary flow. For this purpose we can use the search method of the database"
   ]
  },
  {
   "cell_type": "code",
   "execution_count": 18,
   "id": "4f8c26b6-241a-4855-9bd9-bbc9ad5c0507",
   "metadata": {},
   "outputs": [
    {
     "data": {
      "text/plain": [
       "['Carbon dioxide, fossil' (kilogram, None, ('air', 'low population density, long-term')),\n",
       " 'Carbon dioxide, fossil' (kilogram, None, ('air',)),\n",
       " 'Carbon dioxide, fossil' (kilogram, None, ('air', 'lower stratosphere + upper troposphere')),\n",
       " 'Carbon dioxide, fossil' (kilogram, None, ('air', 'non-urban air or from high stacks')),\n",
       " 'Carbon dioxide, fossil' (kilogram, None, ('air', 'urban air close to ground')),\n",
       " 'Carbon dioxide, non-fossil' (kilogram, None, ('air', 'lower stratosphere + upper troposphere')),\n",
       " 'Carbon dioxide, non-fossil' (kilogram, None, ('air', 'non-urban air or from high stacks')),\n",
       " 'Carbon dioxide, non-fossil' (kilogram, None, ('air', 'urban air close to ground')),\n",
       " 'Carbon dioxide, non-fossil' (kilogram, None, ('air', 'low population density, long-term')),\n",
       " 'Carbon dioxide, in air' (kilogram, None, ('natural resource', 'in air')),\n",
       " 'Carbon dioxide, non-fossil' (kilogram, None, ('air',)),\n",
       " 'Carbon dioxide, non-fossil, resource correction' (kilogram, None, ('natural resource', 'in air')),\n",
       " 'Carbon dioxide, from soil or biomass stock' (kilogram, None, ('air',)),\n",
       " 'Carbon dioxide, from soil or biomass stock' (kilogram, None, ('air', 'low population density, long-term')),\n",
       " 'Carbon dioxide, to soil or biomass stock' (kilogram, None, ('soil', 'forestry')),\n",
       " 'Carbon dioxide, from soil or biomass stock' (kilogram, None, ('air', 'urban air close to ground')),\n",
       " 'Carbon dioxide, to soil or biomass stock' (kilogram, None, ('soil', 'agricultural')),\n",
       " 'Carbon dioxide, from soil or biomass stock' (kilogram, None, ('air', 'lower stratosphere + upper troposphere')),\n",
       " 'Carbon dioxide, from soil or biomass stock' (kilogram, None, ('air', 'non-urban air or from high stacks')),\n",
       " 'Carbon dioxide, to soil or biomass stock' (kilogram, None, ('soil', 'industrial')),\n",
       " 'Carbon dioxide, to soil or biomass stock' (kilogram, None, ('soil',))]"
      ]
     },
     "execution_count": 18,
     "metadata": {},
     "output_type": "execute_result"
    }
   ],
   "source": [
    "bd.Database('biosphere3').search('carbon dioxide')"
   ]
  },
  {
   "cell_type": "markdown",
   "id": "0dedb2f0-bef4-48cb-9954-c8ec30bfd2ab",
   "metadata": {},
   "source": [
    "We can do the same operation by using the variable we assigned previously to the biosphere database"
   ]
  },
  {
   "cell_type": "code",
   "execution_count": 19,
   "id": "26fbbecf-6e03-4648-95c4-9ad5b72bb8d9",
   "metadata": {},
   "outputs": [
    {
     "data": {
      "text/plain": [
       "['Carbon dioxide, fossil' (kilogram, None, ('air', 'low population density, long-term')),\n",
       " 'Carbon dioxide, fossil' (kilogram, None, ('air',)),\n",
       " 'Carbon dioxide, fossil' (kilogram, None, ('air', 'lower stratosphere + upper troposphere')),\n",
       " 'Carbon dioxide, fossil' (kilogram, None, ('air', 'non-urban air or from high stacks')),\n",
       " 'Carbon dioxide, fossil' (kilogram, None, ('air', 'urban air close to ground')),\n",
       " 'Carbon dioxide, non-fossil' (kilogram, None, ('air', 'lower stratosphere + upper troposphere')),\n",
       " 'Carbon dioxide, non-fossil' (kilogram, None, ('air', 'non-urban air or from high stacks')),\n",
       " 'Carbon dioxide, non-fossil' (kilogram, None, ('air', 'urban air close to ground')),\n",
       " 'Carbon dioxide, non-fossil' (kilogram, None, ('air', 'low population density, long-term')),\n",
       " 'Carbon dioxide, in air' (kilogram, None, ('natural resource', 'in air')),\n",
       " 'Carbon dioxide, non-fossil' (kilogram, None, ('air',)),\n",
       " 'Carbon dioxide, non-fossil, resource correction' (kilogram, None, ('natural resource', 'in air')),\n",
       " 'Carbon dioxide, from soil or biomass stock' (kilogram, None, ('air',)),\n",
       " 'Carbon dioxide, from soil or biomass stock' (kilogram, None, ('air', 'low population density, long-term')),\n",
       " 'Carbon dioxide, to soil or biomass stock' (kilogram, None, ('soil', 'forestry')),\n",
       " 'Carbon dioxide, from soil or biomass stock' (kilogram, None, ('air', 'urban air close to ground')),\n",
       " 'Carbon dioxide, to soil or biomass stock' (kilogram, None, ('soil', 'agricultural')),\n",
       " 'Carbon dioxide, from soil or biomass stock' (kilogram, None, ('air', 'lower stratosphere + upper troposphere')),\n",
       " 'Carbon dioxide, from soil or biomass stock' (kilogram, None, ('air', 'non-urban air or from high stacks')),\n",
       " 'Carbon dioxide, to soil or biomass stock' (kilogram, None, ('soil', 'industrial')),\n",
       " 'Carbon dioxide, to soil or biomass stock' (kilogram, None, ('soil',))]"
      ]
     },
     "execution_count": 19,
     "metadata": {},
     "output_type": "execute_result"
    }
   ],
   "source": [
    "my_bio.search('carbon dioxide')"
   ]
  },
  {
   "cell_type": "markdown",
   "id": "aa360a92-5796-4d65-9fb2-3a5442eb0416",
   "metadata": {},
   "source": [
    "It is also possible to use \"filters\" to narrow searches, e.g."
   ]
  },
  {
   "cell_type": "code",
   "execution_count": 20,
   "id": "bece8f31-75ed-4e4a-9eb5-0ac505ebac10",
   "metadata": {},
   "outputs": [
    {
     "name": "stdout",
     "output_type": "stream",
     "text": [
      "Excluding 17 filtered results\n"
     ]
    },
    {
     "data": {
      "text/plain": [
       "['Carbon dioxide, fossil' (kilogram, None, ('air', 'non-urban air or from high stacks')),\n",
       " 'Carbon dioxide, fossil' (kilogram, None, ('air', 'urban air close to ground')),\n",
       " 'Carbon dioxide, non-fossil' (kilogram, None, ('air', 'non-urban air or from high stacks')),\n",
       " 'Carbon dioxide, non-fossil' (kilogram, None, ('air', 'urban air close to ground'))]"
      ]
     },
     "execution_count": 20,
     "metadata": {},
     "output_type": "execute_result"
    }
   ],
   "source": [
    "my_bio.search('carbon dioxide', filter={'categories':'urban', 'name':'fossil'})"
   ]
  },
  {
   "cell_type": "markdown",
   "id": "dbb73706-ad1b-4fc6-8560-fc9f6b0b0d14",
   "metadata": {},
   "source": [
    "We can also use \"home-made\" searches with list comprehensions. This approach allow us to add as many criteria as we wante"
   ]
  },
  {
   "cell_type": "code",
   "execution_count": 21,
   "id": "767959aa-a668-4cae-b635-bf9cf98f39aa",
   "metadata": {},
   "outputs": [
    {
     "data": {
      "text/plain": [
       "['Carbon dioxide, fossil' (kilogram, None, ('air', 'urban air close to ground'))]"
      ]
     },
     "execution_count": 21,
     "metadata": {},
     "output_type": "execute_result"
    }
   ],
   "source": [
    "[act for act in my_bio if 'Carbon dioxide' in act['name'] \n",
    "                                            and 'fossil' in act['name']\n",
    "                                            and 'non' not in act['name']\n",
    "                                            and 'urban air close to ground' in str(act['categories'])\n",
    "         ]"
   ]
  },
  {
   "cell_type": "markdown",
   "id": "b20eb697-256e-48b7-8e0d-9d70ebf871a1",
   "metadata": {},
   "source": [
    "Activities returned by searches or list comprehensions can be assigned to variables, but to do so, one needs to identify the activity by index. Based on the above, we can refine the filters to ensure the list comprehension only returns one activity, and that that activity is the one we really want."
   ]
  },
  {
   "cell_type": "code",
   "execution_count": 22,
   "id": "09ea288b-0394-4fdc-82d5-eea3ba5eee84",
   "metadata": {},
   "outputs": [],
   "source": [
    "activity_I_want = [act for act in my_bio if 'Carbon dioxide' in act['name'] \n",
    "                                            and 'fossil' in act['name']\n",
    "                                            and 'non' not in act['name']\n",
    "                                            and 'urban air close to ground' in str(act['categories'])\n",
    "         ][0]"
   ]
  },
  {
   "cell_type": "code",
   "execution_count": 23,
   "id": "f5ac2015-6f92-451a-8a6b-97ac60259bc1",
   "metadata": {},
   "outputs": [
    {
     "name": "stdout",
     "output_type": "stream",
     "text": [
      "'Carbon dioxide, fossil' (kilogram, None, ('air', 'urban air close to ground'))\n"
     ]
    }
   ],
   "source": [
    "print(activity_I_want)"
   ]
  },
  {
   "cell_type": "markdown",
   "id": "1616ab1a-fd3d-4db5-ab3a-7c2c6f7f9ef8",
   "metadata": {},
   "source": [
    "####"
   ]
  },
  {
   "cell_type": "markdown",
   "id": "16be21b5-aaa4-417b-a33f-1177b90fba75",
   "metadata": {},
   "source": [
    "**LCIA Methods**\n",
    "\n",
    "As mentioned before bi.bw2setup() also installed LCIA methods. LCIA methods are a set of principles, models and characteriation factors that convert biosphere flows into environment impacts scores."
   ]
  },
  {
   "cell_type": "markdown",
   "id": "8eeaa67d-d550-41b8-a7b1-bc838e2284f1",
   "metadata": {},
   "source": [
    "Run the code below to know the methods we have access to:"
   ]
  },
  {
   "cell_type": "code",
   "execution_count": 24,
   "id": "b7ab89fc-ddac-44e8-8026-99d119681f94",
   "metadata": {},
   "outputs": [
    {
     "data": {
      "text/plain": [
       "[('CML v4.8 2016 no LT',\n",
       "  'acidification no LT',\n",
       "  'acidification (incl. fate, average Europe total, A&B) no LT'),\n",
       " ('CML v4.8 2016 no LT',\n",
       "  'climate change no LT',\n",
       "  'global warming potential (GWP100) no LT'),\n",
       " ('CML v4.8 2016 no LT',\n",
       "  'ecotoxicity: freshwater no LT',\n",
       "  'freshwater aquatic ecotoxicity (FAETP inf) no LT'),\n",
       " ('CML v4.8 2016 no LT',\n",
       "  'ecotoxicity: marine no LT',\n",
       "  'marine aquatic ecotoxicity (MAETP inf) no LT'),\n",
       " ('CML v4.8 2016 no LT',\n",
       "  'ecotoxicity: terrestrial no LT',\n",
       "  'terrestrial ecotoxicity (TETP inf) no LT'),\n",
       " ('CML v4.8 2016 no LT',\n",
       "  'energy resources: non-renewable no LT',\n",
       "  'abiotic depletion potential (ADP): fossil fuels no LT'),\n",
       " ('CML v4.8 2016 no LT',\n",
       "  'eutrophication no LT',\n",
       "  'eutrophication (fate not incl.) no LT'),\n",
       " ('CML v4.8 2016 no LT',\n",
       "  'human toxicity no LT',\n",
       "  'human toxicity (HTP inf) no LT'),\n",
       " ('CML v4.8 2016 no LT',\n",
       "  'material resources: metals/minerals no LT',\n",
       "  'abiotic depletion potential (ADP): elements (ultimate reserves) no LT'),\n",
       " ('CML v4.8 2016 no LT',\n",
       "  'ozone depletion no LT',\n",
       "  'ozone layer depletion (ODP steady state) no LT'),\n",
       " ('CML v4.8 2016 no LT',\n",
       "  'photochemical oxidant formation no LT',\n",
       "  'photochemical oxidation (high NOx) no LT'),\n",
       " ('CML v4.8 2016',\n",
       "  'acidification',\n",
       "  'acidification (incl. fate, average Europe total, A&B)'),\n",
       " ('CML v4.8 2016', 'climate change', 'global warming potential (GWP100)'),\n",
       " ('CML v4.8 2016',\n",
       "  'ecotoxicity: freshwater',\n",
       "  'freshwater aquatic ecotoxicity (FAETP inf)'),\n",
       " ('CML v4.8 2016',\n",
       "  'ecotoxicity: marine',\n",
       "  'marine aquatic ecotoxicity (MAETP inf)'),\n",
       " ('CML v4.8 2016',\n",
       "  'ecotoxicity: terrestrial',\n",
       "  'terrestrial ecotoxicity (TETP inf)'),\n",
       " ('CML v4.8 2016',\n",
       "  'energy resources: non-renewable',\n",
       "  'abiotic depletion potential (ADP): fossil fuels'),\n",
       " ('CML v4.8 2016', 'eutrophication', 'eutrophication (fate not incl.)'),\n",
       " ('CML v4.8 2016', 'human toxicity', 'human toxicity (HTP inf)'),\n",
       " ('CML v4.8 2016',\n",
       "  'material resources: metals/minerals',\n",
       "  'abiotic depletion potential (ADP): elements (ultimate reserves)'),\n",
       " ('CML v4.8 2016',\n",
       "  'ozone depletion',\n",
       "  'ozone layer depletion (ODP steady state)'),\n",
       " ('CML v4.8 2016',\n",
       "  'photochemical oxidant formation',\n",
       "  'photochemical oxidation (high NOx)'),\n",
       " ('Crustal Scarcity Indicator 2020',\n",
       "  'material resources: metals/minerals',\n",
       "  'crustal scarcity potential (CSP)'),\n",
       " ('Cumulative Energy Demand (CED)',\n",
       "  'energy resources: non-renewable',\n",
       "  'energy content (HHV)'),\n",
       " ('Cumulative Energy Demand (CED)',\n",
       "  'energy resources: non-renewable, biomass',\n",
       "  'energy content (HHV)'),\n",
       " ('Cumulative Energy Demand (CED)',\n",
       "  'energy resources: non-renewable, fossil',\n",
       "  'energy content (HHV)'),\n",
       " ('Cumulative Energy Demand (CED)',\n",
       "  'energy resources: non-renewable, nuclear',\n",
       "  'energy content (HHV)'),\n",
       " ('Cumulative Energy Demand (CED)',\n",
       "  'energy resources: renewable',\n",
       "  'energy content (HHV)'),\n",
       " ('Cumulative Energy Demand (CED)',\n",
       "  'energy resources: renewable, biomass',\n",
       "  'energy content (HHV)'),\n",
       " ('Cumulative Energy Demand (CED)',\n",
       "  'energy resources: renewable, geothermal',\n",
       "  'energy content (HHV)'),\n",
       " ('Cumulative Energy Demand (CED)',\n",
       "  'energy resources: renewable, geothermal, solar, wind',\n",
       "  'energy content (HHV)'),\n",
       " ('Cumulative Energy Demand (CED)',\n",
       "  'energy resources: renewable, solar',\n",
       "  'energy content (HHV)'),\n",
       " ('Cumulative Energy Demand (CED)',\n",
       "  'energy resources: renewable, water',\n",
       "  'energy content (HHV)'),\n",
       " ('Cumulative Energy Demand (CED)',\n",
       "  'energy resources: renewable, wind',\n",
       "  'energy content (HHV)'),\n",
       " ('Cumulative Energy Demand (CED)', 'total', 'energy content (HHV)'),\n",
       " ('Cumulative Exergy Demand (CExD)',\n",
       "  'energy resources: non-renewable',\n",
       "  'exergy content'),\n",
       " ('Cumulative Exergy Demand (CExD)',\n",
       "  'energy resources: non-renewable, biomass',\n",
       "  'exergy content'),\n",
       " ('Cumulative Exergy Demand (CExD)',\n",
       "  'energy resources: non-renewable, fossil',\n",
       "  'exergy content'),\n",
       " ('Cumulative Exergy Demand (CExD)',\n",
       "  'energy resources: non-renewable, nuclear',\n",
       "  'exergy content'),\n",
       " ('Cumulative Exergy Demand (CExD)',\n",
       "  'energy resources: renewable',\n",
       "  'exergy content'),\n",
       " ('Cumulative Exergy Demand (CExD)',\n",
       "  'energy resources: renewable, biomass',\n",
       "  'exergy content'),\n",
       " ('Cumulative Exergy Demand (CExD)',\n",
       "  'energy resources: renewable, solar',\n",
       "  'exergy content'),\n",
       " ('Cumulative Exergy Demand (CExD)',\n",
       "  'energy resources: renewable, water',\n",
       "  'exergy content'),\n",
       " ('Cumulative Exergy Demand (CExD)',\n",
       "  'energy resources: renewable, wind',\n",
       "  'exergy content'),\n",
       " ('Cumulative Exergy Demand (CExD)', 'material resources', 'exergy content'),\n",
       " ('Cumulative Exergy Demand (CExD)',\n",
       "  'material resources: metals',\n",
       "  'exergy content'),\n",
       " ('Cumulative Exergy Demand (CExD)',\n",
       "  'material resources: minerals',\n",
       "  'exergy content'),\n",
       " ('Cumulative Exergy Demand (CExD)',\n",
       "  'material resources: water',\n",
       "  'exergy content'),\n",
       " ('Cumulative Exergy Demand (CExD)', 'total', 'exergy content'),\n",
       " ('Ecological Footprint', 'CO2', 'global hectares'),\n",
       " ('Ecological Footprint', 'land occupation', 'global hectares'),\n",
       " ('Ecological Footprint', 'nuclear', 'global hectares'),\n",
       " ('Ecological Footprint', 'total', 'global hectares'),\n",
       " ('Ecological Scarcity 2021 no LT',\n",
       "  'climate change no LT',\n",
       "  'global warming potential (GWP100) no LT'),\n",
       " ('Ecological Scarcity 2021 no LT',\n",
       "  'emissions to air no LT',\n",
       "  'air pollutants and PM no LT'),\n",
       " ('Ecological Scarcity 2021 no LT',\n",
       "  'emissions to air no LT',\n",
       "  'carcinogenic substances into air no LT'),\n",
       " ('Ecological Scarcity 2021 no LT',\n",
       "  'emissions to air no LT',\n",
       "  'heavy metals into air no LT'),\n",
       " ('Ecological Scarcity 2021 no LT',\n",
       "  'emissions to air no LT',\n",
       "  'radioactive substances into air no LT'),\n",
       " ('Ecological Scarcity 2021 no LT',\n",
       "  'emissions to soil no LT',\n",
       "  'heavy metals into soil no LT'),\n",
       " ('Ecological Scarcity 2021 no LT',\n",
       "  'emissions to soil no LT',\n",
       "  'pesticides into soil no LT'),\n",
       " ('Ecological Scarcity 2021 no LT',\n",
       "  'emissions to water no LT',\n",
       "  'heavy metals into water no LT'),\n",
       " ('Ecological Scarcity 2021 no LT',\n",
       "  'emissions to water no LT',\n",
       "  'POP into water no LT'),\n",
       " ('Ecological Scarcity 2021 no LT',\n",
       "  'emissions to water no LT',\n",
       "  'radioactive substances into water no LT'),\n",
       " ('Ecological Scarcity 2021 no LT',\n",
       "  'emissions to water no LT',\n",
       "  'water pollutants no LT'),\n",
       " ('Ecological Scarcity 2021 no LT',\n",
       "  'energy resources no LT',\n",
       "  'energy resources no LT'),\n",
       " ('Ecological Scarcity 2021 no LT', 'land use no LT', 'land use no LT'),\n",
       " ('Ecological Scarcity 2021 no LT',\n",
       "  'mineral resources no LT',\n",
       "  'mineral resources no LT'),\n",
       " ('Ecological Scarcity 2021 no LT',\n",
       "  'natural resources no LT',\n",
       "  'biotic resources no LT'),\n",
       " ('Ecological Scarcity 2021 no LT',\n",
       "  'ozone depletion no LT',\n",
       "  'ozone depletion no LT'),\n",
       " ('Ecological Scarcity 2021 no LT', 'total no LT', 'UBP no LT'),\n",
       " ('Ecological Scarcity 2021 no LT',\n",
       "  'waste disposal no LT',\n",
       "  'radioactive waste to deposit no LT'),\n",
       " ('Ecological Scarcity 2021 no LT',\n",
       "  'waste disposal no LT',\n",
       "  'waste, non radioactive no LT'),\n",
       " ('Ecological Scarcity 2021 no LT',\n",
       "  'water use no LT',\n",
       "  'water resources, evaporated no LT'),\n",
       " ('Ecological Scarcity 2021',\n",
       "  'climate change',\n",
       "  'global warming potential (GWP100)'),\n",
       " ('Ecological Scarcity 2021', 'emissions to air', 'air pollutants and PM'),\n",
       " ('Ecological Scarcity 2021',\n",
       "  'emissions to air',\n",
       "  'carcinogenic substances into air'),\n",
       " ('Ecological Scarcity 2021', 'emissions to air', 'heavy metals into air'),\n",
       " ('Ecological Scarcity 2021',\n",
       "  'emissions to air',\n",
       "  'radioactive substances into air'),\n",
       " ('Ecological Scarcity 2021', 'emissions to soil', 'heavy metals into soil'),\n",
       " ('Ecological Scarcity 2021', 'emissions to soil', 'pesticides into soil'),\n",
       " ('Ecological Scarcity 2021', 'emissions to water', 'heavy metals into water'),\n",
       " ('Ecological Scarcity 2021', 'emissions to water', 'POP into water'),\n",
       " ('Ecological Scarcity 2021',\n",
       "  'emissions to water',\n",
       "  'radioactive substances into water'),\n",
       " ('Ecological Scarcity 2021', 'emissions to water', 'water pollutants'),\n",
       " ('Ecological Scarcity 2021', 'energy resources', 'energy resources'),\n",
       " ('Ecological Scarcity 2021', 'land use', 'land use'),\n",
       " ('Ecological Scarcity 2021', 'mineral resources', 'mineral resources'),\n",
       " ('Ecological Scarcity 2021', 'natural resources', 'biotic resources'),\n",
       " ('Ecological Scarcity 2021', 'ozone depletion', 'ozone depletion'),\n",
       " ('Ecological Scarcity 2021', 'total', 'UBP'),\n",
       " ('Ecological Scarcity 2021',\n",
       "  'waste disposal',\n",
       "  'radioactive waste to deposit'),\n",
       " ('Ecological Scarcity 2021', 'waste disposal', 'waste, non radioactive'),\n",
       " ('Ecological Scarcity 2021', 'water use', 'water resources, evaporated'),\n",
       " ('Ecosystem Damage Potential',\n",
       "  'land occupation',\n",
       "  'ecosystem damage potential'),\n",
       " ('Ecosystem Damage Potential',\n",
       "  'land transformation',\n",
       "  'ecosystem damage potential'),\n",
       " ('Ecosystem Damage Potential', 'total', 'ecosystem damage potential'),\n",
       " ('EDIP 2003 no LT', 'acidification no LT', 'acidification no LT'),\n",
       " ('EDIP 2003 no LT', 'ecotoxicity no LT', 'acute, in water no LT'),\n",
       " ('EDIP 2003 no LT', 'ecotoxicity no LT', 'chronic, in soil no LT'),\n",
       " ('EDIP 2003 no LT', 'ecotoxicity no LT', 'chronic, in water no LT'),\n",
       " ('EDIP 2003 no LT', 'ecotoxicity no LT', 'in sewage treatment plants no LT'),\n",
       " ('EDIP 2003 no LT', 'eutrophication no LT', 'combined potential no LT'),\n",
       " ('EDIP 2003 no LT', 'eutrophication no LT', 'separate N potential no LT'),\n",
       " ('EDIP 2003 no LT', 'eutrophication no LT', 'separate P potential no LT'),\n",
       " ('EDIP 2003 no LT',\n",
       "  'eutrophication no LT',\n",
       "  'terrestrial eutrophication no LT'),\n",
       " ('EDIP 2003 no LT', 'global warming no LT', 'GWP 100a no LT'),\n",
       " ('EDIP 2003 no LT', 'global warming no LT', 'GWP 20a no LT'),\n",
       " ('EDIP 2003 no LT', 'global warming no LT', 'GWP 500a no LT'),\n",
       " ('EDIP 2003 no LT', 'human toxicity no LT', 'via air no LT'),\n",
       " ('EDIP 2003 no LT', 'human toxicity no LT', 'via soil no LT'),\n",
       " ('EDIP 2003 no LT', 'human toxicity no LT', 'via surface water no LT'),\n",
       " ('EDIP 2003 no LT', 'land filling no LT', 'bulk waste no LT'),\n",
       " ('EDIP 2003 no LT', 'land filling no LT', 'hazardous waste no LT'),\n",
       " ('EDIP 2003 no LT', 'land filling no LT', 'radioactive waste no LT'),\n",
       " ('EDIP 2003 no LT', 'land filling no LT', 'slag and ashes no LT'),\n",
       " ('EDIP 2003 no LT', 'non-renewable resources no LT', 'aluminium no LT'),\n",
       " ('EDIP 2003 no LT', 'non-renewable resources no LT', 'antimony no LT'),\n",
       " ('EDIP 2003 no LT', 'non-renewable resources no LT', 'brown coal no LT'),\n",
       " ('EDIP 2003 no LT', 'non-renewable resources no LT', 'cadmium no LT'),\n",
       " ('EDIP 2003 no LT', 'non-renewable resources no LT', 'cerium no LT'),\n",
       " ('EDIP 2003 no LT', 'non-renewable resources no LT', 'coal no LT'),\n",
       " ('EDIP 2003 no LT', 'non-renewable resources no LT', 'cobalt no LT'),\n",
       " ('EDIP 2003 no LT', 'non-renewable resources no LT', 'copper no LT'),\n",
       " ('EDIP 2003 no LT', 'non-renewable resources no LT', 'gold no LT'),\n",
       " ('EDIP 2003 no LT', 'non-renewable resources no LT', 'iron no LT'),\n",
       " ('EDIP 2003 no LT', 'non-renewable resources no LT', 'lanthanum no LT'),\n",
       " ('EDIP 2003 no LT', 'non-renewable resources no LT', 'lead no LT'),\n",
       " ('EDIP 2003 no LT', 'non-renewable resources no LT', 'manganese no LT'),\n",
       " ('EDIP 2003 no LT', 'non-renewable resources no LT', 'mercury no LT'),\n",
       " ('EDIP 2003 no LT', 'non-renewable resources no LT', 'molybdenum no LT'),\n",
       " ('EDIP 2003 no LT', 'non-renewable resources no LT', 'natural gas no LT'),\n",
       " ('EDIP 2003 no LT', 'non-renewable resources no LT', 'nickel no LT'),\n",
       " ('EDIP 2003 no LT', 'non-renewable resources no LT', 'oil no LT'),\n",
       " ('EDIP 2003 no LT', 'non-renewable resources no LT', 'palladium no LT'),\n",
       " ('EDIP 2003 no LT', 'non-renewable resources no LT', 'platinum no LT'),\n",
       " ('EDIP 2003 no LT', 'non-renewable resources no LT', 'silver no LT'),\n",
       " ('EDIP 2003 no LT', 'non-renewable resources no LT', 'tantalum no LT'),\n",
       " ('EDIP 2003 no LT', 'non-renewable resources no LT', 'tin no LT'),\n",
       " ('EDIP 2003 no LT', 'non-renewable resources no LT', 'zinc no LT'),\n",
       " ('EDIP 2003 no LT',\n",
       "  'photochemical ozone formation no LT',\n",
       "  'impacts on human health no LT'),\n",
       " ('EDIP 2003 no LT',\n",
       "  'photochemical ozone formation no LT',\n",
       "  'impacts on vegetation no LT'),\n",
       " ('EDIP 2003 no LT', 'renewable resources no LT', 'wood no LT'),\n",
       " ('EDIP 2003 no LT', 'stratospheric ozone depletion no LT', 'ODP total no LT'),\n",
       " ('EDIP 2003', 'acidification', 'acidification'),\n",
       " ('EDIP 2003', 'ecotoxicity', 'acute, in water'),\n",
       " ('EDIP 2003', 'ecotoxicity', 'chronic, in soil'),\n",
       " ('EDIP 2003', 'ecotoxicity', 'chronic, in water'),\n",
       " ('EDIP 2003', 'ecotoxicity', 'in sewage treatment plants'),\n",
       " ('EDIP 2003', 'eutrophication', 'combined potential'),\n",
       " ('EDIP 2003', 'eutrophication', 'separate N potential'),\n",
       " ('EDIP 2003', 'eutrophication', 'separate P potential'),\n",
       " ('EDIP 2003', 'eutrophication', 'terrestrial eutrophication'),\n",
       " ('EDIP 2003', 'global warming', 'GWP 100a'),\n",
       " ('EDIP 2003', 'global warming', 'GWP 20a'),\n",
       " ('EDIP 2003', 'global warming', 'GWP 500a'),\n",
       " ('EDIP 2003', 'human toxicity', 'via air'),\n",
       " ('EDIP 2003', 'human toxicity', 'via soil'),\n",
       " ('EDIP 2003', 'human toxicity', 'via surface water'),\n",
       " ('EDIP 2003', 'land filling', 'bulk waste'),\n",
       " ('EDIP 2003', 'land filling', 'hazardous waste'),\n",
       " ('EDIP 2003', 'land filling', 'radioactive waste'),\n",
       " ('EDIP 2003', 'land filling', 'slag and ashes'),\n",
       " ('EDIP 2003', 'non-renewable resources', 'aluminium'),\n",
       " ('EDIP 2003', 'non-renewable resources', 'antimony'),\n",
       " ('EDIP 2003', 'non-renewable resources', 'brown coal'),\n",
       " ('EDIP 2003', 'non-renewable resources', 'cadmium'),\n",
       " ('EDIP 2003', 'non-renewable resources', 'cerium'),\n",
       " ('EDIP 2003', 'non-renewable resources', 'coal'),\n",
       " ('EDIP 2003', 'non-renewable resources', 'cobalt'),\n",
       " ('EDIP 2003', 'non-renewable resources', 'copper'),\n",
       " ('EDIP 2003', 'non-renewable resources', 'gold'),\n",
       " ('EDIP 2003', 'non-renewable resources', 'iron'),\n",
       " ('EDIP 2003', 'non-renewable resources', 'lanthanum'),\n",
       " ('EDIP 2003', 'non-renewable resources', 'lead'),\n",
       " ('EDIP 2003', 'non-renewable resources', 'manganese'),\n",
       " ('EDIP 2003', 'non-renewable resources', 'mercury'),\n",
       " ('EDIP 2003', 'non-renewable resources', 'molybdenum'),\n",
       " ('EDIP 2003', 'non-renewable resources', 'natural gas'),\n",
       " ('EDIP 2003', 'non-renewable resources', 'nickel'),\n",
       " ('EDIP 2003', 'non-renewable resources', 'oil'),\n",
       " ('EDIP 2003', 'non-renewable resources', 'palladium'),\n",
       " ('EDIP 2003', 'non-renewable resources', 'platinum'),\n",
       " ('EDIP 2003', 'non-renewable resources', 'silver'),\n",
       " ('EDIP 2003', 'non-renewable resources', 'tantalum'),\n",
       " ('EDIP 2003', 'non-renewable resources', 'tin'),\n",
       " ('EDIP 2003', 'non-renewable resources', 'zinc'),\n",
       " ('EDIP 2003', 'photochemical ozone formation', 'impacts on human health'),\n",
       " ('EDIP 2003', 'photochemical ozone formation', 'impacts on vegetation'),\n",
       " ('EDIP 2003', 'renewable resources', 'wood'),\n",
       " ('EDIP 2003', 'stratospheric ozone depletion', 'ODP total'),\n",
       " ('EF v3.0 no LT', 'acidification no LT', 'accumulated exceedance (AE) no LT'),\n",
       " ('EF v3.0 no LT',\n",
       "  'climate change no LT',\n",
       "  'global warming potential (GWP100) no LT'),\n",
       " ('EF v3.0 no LT',\n",
       "  'climate change: biogenic no LT',\n",
       "  'global warming potential (GWP100) no LT'),\n",
       " ('EF v3.0 no LT',\n",
       "  'climate change: fossil no LT',\n",
       "  'global warming potential (GWP100) no LT'),\n",
       " ('EF v3.0 no LT',\n",
       "  'climate change: land use and land use change no LT',\n",
       "  'global warming potential (GWP100) no LT'),\n",
       " ('EF v3.0 no LT',\n",
       "  'ecotoxicity: freshwater no LT',\n",
       "  'comparative toxic unit for ecosystems (CTUe) no LT'),\n",
       " ('EF v3.0 no LT',\n",
       "  'ecotoxicity: freshwater, inorganics no LT',\n",
       "  'comparative toxic unit for ecosystems (CTUe) no LT'),\n",
       " ('EF v3.0 no LT',\n",
       "  'ecotoxicity: freshwater, metals no LT',\n",
       "  'comparative toxic unit for ecosystems (CTUe) no LT'),\n",
       " ('EF v3.0 no LT',\n",
       "  'ecotoxicity: freshwater, organics no LT',\n",
       "  'comparative toxic unit for ecosystems (CTUe) no LT'),\n",
       " ('EF v3.0 no LT',\n",
       "  'energy resources: non-renewable no LT',\n",
       "  'abiotic depletion potential (ADP): fossil fuels no LT'),\n",
       " ('EF v3.0 no LT',\n",
       "  'eutrophication: freshwater no LT',\n",
       "  'fraction of nutrients reaching freshwater end compartment (P) no LT'),\n",
       " ('EF v3.0 no LT',\n",
       "  'eutrophication: marine no LT',\n",
       "  'fraction of nutrients reaching marine end compartment (N) no LT'),\n",
       " ('EF v3.0 no LT',\n",
       "  'eutrophication: terrestrial no LT',\n",
       "  'accumulated exceedance (AE) no LT'),\n",
       " ('EF v3.0 no LT',\n",
       "  'human toxicity: carcinogenic no LT',\n",
       "  'comparative toxic unit for human (CTUh) no LT'),\n",
       " ('EF v3.0 no LT',\n",
       "  'human toxicity: carcinogenic, inorganics no LT',\n",
       "  'comparative toxic unit for human (CTUh) no LT'),\n",
       " ('EF v3.0 no LT',\n",
       "  'human toxicity: carcinogenic, metals no LT',\n",
       "  'comparative toxic unit for human (CTUh) no LT'),\n",
       " ('EF v3.0 no LT',\n",
       "  'human toxicity: carcinogenic, organics no LT',\n",
       "  'comparative toxic unit for human (CTUh) no LT'),\n",
       " ('EF v3.0 no LT',\n",
       "  'human toxicity: non-carcinogenic no LT',\n",
       "  'comparative toxic unit for human (CTUh) no LT'),\n",
       " ('EF v3.0 no LT',\n",
       "  'human toxicity: non-carcinogenic, inorganics no LT',\n",
       "  'comparative toxic unit for human (CTUh) no LT'),\n",
       " ('EF v3.0 no LT',\n",
       "  'human toxicity: non-carcinogenic, metals no LT',\n",
       "  'comparative toxic unit for human (CTUh) no LT'),\n",
       " ('EF v3.0 no LT',\n",
       "  'human toxicity: non-carcinogenic, organics no LT',\n",
       "  'comparative toxic unit for human (CTUh) no LT'),\n",
       " ('EF v3.0 no LT',\n",
       "  'ionising radiation: human health no LT',\n",
       "  'human exposure efficiency relative to u235 no LT'),\n",
       " ('EF v3.0 no LT', 'land use no LT', 'soil quality index no LT'),\n",
       " ('EF v3.0 no LT',\n",
       "  'material resources: metals/minerals no LT',\n",
       "  'abiotic depletion potential (ADP): elements (ultimate reserves) no LT'),\n",
       " ('EF v3.0 no LT',\n",
       "  'ozone depletion no LT',\n",
       "  'ozone depletion potential (ODP) no LT'),\n",
       " ('EF v3.0 no LT',\n",
       "  'particulate matter formation no LT',\n",
       "  'impact on human health no LT'),\n",
       " ('EF v3.0 no LT',\n",
       "  'photochemical oxidant formation: human health no LT',\n",
       "  'tropospheric ozone concentration increase no LT'),\n",
       " ('EF v3.0 no LT',\n",
       "  'water use no LT',\n",
       "  'user deprivation potential (deprivation-weighted water consumption) no LT'),\n",
       " ('EF v3.0', 'acidification', 'accumulated exceedance (AE)'),\n",
       " ('EF v3.0', 'climate change', 'global warming potential (GWP100)'),\n",
       " ('EF v3.0', 'climate change: biogenic', 'global warming potential (GWP100)'),\n",
       " ('EF v3.0', 'climate change: fossil', 'global warming potential (GWP100)'),\n",
       " ('EF v3.0',\n",
       "  'climate change: land use and land use change',\n",
       "  'global warming potential (GWP100)'),\n",
       " ('EF v3.0',\n",
       "  'ecotoxicity: freshwater',\n",
       "  'comparative toxic unit for ecosystems (CTUe)'),\n",
       " ('EF v3.0',\n",
       "  'ecotoxicity: freshwater, inorganics',\n",
       "  'comparative toxic unit for ecosystems (CTUe)'),\n",
       " ('EF v3.0',\n",
       "  'ecotoxicity: freshwater, metals',\n",
       "  'comparative toxic unit for ecosystems (CTUe)'),\n",
       " ('EF v3.0',\n",
       "  'ecotoxicity: freshwater, organics',\n",
       "  'comparative toxic unit for ecosystems (CTUe)'),\n",
       " ('EF v3.0',\n",
       "  'energy resources: non-renewable',\n",
       "  'abiotic depletion potential (ADP): fossil fuels'),\n",
       " ('EF v3.0',\n",
       "  'eutrophication: freshwater',\n",
       "  'fraction of nutrients reaching freshwater end compartment (P)'),\n",
       " ('EF v3.0',\n",
       "  'eutrophication: marine',\n",
       "  'fraction of nutrients reaching marine end compartment (N)'),\n",
       " ('EF v3.0', 'eutrophication: terrestrial', 'accumulated exceedance (AE)'),\n",
       " ('EF v3.0',\n",
       "  'human toxicity: carcinogenic',\n",
       "  'comparative toxic unit for human (CTUh)'),\n",
       " ('EF v3.0',\n",
       "  'human toxicity: carcinogenic, inorganics',\n",
       "  'comparative toxic unit for human (CTUh)'),\n",
       " ('EF v3.0',\n",
       "  'human toxicity: carcinogenic, metals',\n",
       "  'comparative toxic unit for human (CTUh)'),\n",
       " ('EF v3.0',\n",
       "  'human toxicity: carcinogenic, organics',\n",
       "  'comparative toxic unit for human (CTUh)'),\n",
       " ('EF v3.0',\n",
       "  'human toxicity: non-carcinogenic',\n",
       "  'comparative toxic unit for human (CTUh)'),\n",
       " ('EF v3.0',\n",
       "  'human toxicity: non-carcinogenic, inorganics',\n",
       "  'comparative toxic unit for human (CTUh)'),\n",
       " ('EF v3.0',\n",
       "  'human toxicity: non-carcinogenic, metals',\n",
       "  'comparative toxic unit for human (CTUh)'),\n",
       " ('EF v3.0',\n",
       "  'human toxicity: non-carcinogenic, organics',\n",
       "  'comparative toxic unit for human (CTUh)'),\n",
       " ('EF v3.0',\n",
       "  'ionising radiation: human health',\n",
       "  'human exposure efficiency relative to u235'),\n",
       " ('EF v3.0', 'land use', 'soil quality index'),\n",
       " ('EF v3.0',\n",
       "  'material resources: metals/minerals',\n",
       "  'abiotic depletion potential (ADP): elements (ultimate reserves)'),\n",
       " ('EF v3.0', 'ozone depletion', 'ozone depletion potential (ODP)'),\n",
       " ('EF v3.0', 'particulate matter formation', 'impact on human health'),\n",
       " ('EF v3.0',\n",
       "  'photochemical oxidant formation: human health',\n",
       "  'tropospheric ozone concentration increase'),\n",
       " ('EF v3.0',\n",
       "  'water use',\n",
       "  'user deprivation potential (deprivation-weighted water consumption)'),\n",
       " ('EF v3.1 no LT', 'acidification no LT', 'accumulated exceedance (AE) no LT'),\n",
       " ('EF v3.1 no LT',\n",
       "  'climate change no LT',\n",
       "  'global warming potential (GWP100) no LT'),\n",
       " ('EF v3.1 no LT',\n",
       "  'climate change: biogenic no LT',\n",
       "  'global warming potential (GWP100) no LT'),\n",
       " ('EF v3.1 no LT',\n",
       "  'climate change: fossil no LT',\n",
       "  'global warming potential (GWP100) no LT'),\n",
       " ('EF v3.1 no LT',\n",
       "  'climate change: land use and land use change no LT',\n",
       "  'global warming potential (GWP100) no LT'),\n",
       " ('EF v3.1 no LT',\n",
       "  'ecotoxicity: freshwater no LT',\n",
       "  'comparative toxic unit for ecosystems (CTUe) no LT'),\n",
       " ('EF v3.1 no LT',\n",
       "  'ecotoxicity: freshwater, inorganics no LT',\n",
       "  'comparative toxic unit for ecosystems (CTUe) no LT'),\n",
       " ('EF v3.1 no LT',\n",
       "  'ecotoxicity: freshwater, organics no LT',\n",
       "  'comparative toxic unit for ecosystems (CTUe) no LT'),\n",
       " ('EF v3.1 no LT',\n",
       "  'energy resources: non-renewable no LT',\n",
       "  'abiotic depletion potential (ADP): fossil fuels no LT'),\n",
       " ('EF v3.1 no LT',\n",
       "  'eutrophication: freshwater no LT',\n",
       "  'fraction of nutrients reaching freshwater end compartment (P) no LT'),\n",
       " ('EF v3.1 no LT',\n",
       "  'eutrophication: marine no LT',\n",
       "  'fraction of nutrients reaching marine end compartment (N) no LT'),\n",
       " ('EF v3.1 no LT',\n",
       "  'eutrophication: terrestrial no LT',\n",
       "  'accumulated exceedance (AE) no LT'),\n",
       " ('EF v3.1 no LT',\n",
       "  'human toxicity: carcinogenic no LT',\n",
       "  'comparative toxic unit for human (CTUh) no LT'),\n",
       " ('EF v3.1 no LT',\n",
       "  'human toxicity: carcinogenic, inorganics no LT',\n",
       "  'comparative toxic unit for human (CTUh) no LT'),\n",
       " ('EF v3.1 no LT',\n",
       "  'human toxicity: carcinogenic, organics no LT',\n",
       "  'comparative toxic unit for human (CTUh) no LT'),\n",
       " ('EF v3.1 no LT',\n",
       "  'human toxicity: non-carcinogenic no LT',\n",
       "  'comparative toxic unit for human (CTUh) no LT'),\n",
       " ('EF v3.1 no LT',\n",
       "  'human toxicity: non-carcinogenic, inorganics no LT',\n",
       "  'comparative toxic unit for human (CTUh) no LT'),\n",
       " ('EF v3.1 no LT',\n",
       "  'human toxicity: non-carcinogenic, organics no LT',\n",
       "  'comparative toxic unit for human (CTUh) no LT'),\n",
       " ('EF v3.1 no LT',\n",
       "  'ionising radiation: human health no LT',\n",
       "  'human exposure efficiency relative to u235 no LT'),\n",
       " ('EF v3.1 no LT', 'land use no LT', 'soil quality index no LT'),\n",
       " ('EF v3.1 no LT',\n",
       "  'material resources: metals/minerals no LT',\n",
       "  'abiotic depletion potential (ADP): elements (ultimate reserves) no LT'),\n",
       " ('EF v3.1 no LT',\n",
       "  'ozone depletion no LT',\n",
       "  'ozone depletion potential (ODP) no LT'),\n",
       " ('EF v3.1 no LT',\n",
       "  'particulate matter formation no LT',\n",
       "  'impact on human health no LT'),\n",
       " ('EF v3.1 no LT',\n",
       "  'photochemical oxidant formation: human health no LT',\n",
       "  'tropospheric ozone concentration increase no LT'),\n",
       " ('EF v3.1 no LT',\n",
       "  'water use no LT',\n",
       "  'user deprivation potential (deprivation-weighted water consumption) no LT'),\n",
       " ('EF v3.1', 'acidification', 'accumulated exceedance (AE)'),\n",
       " ('EF v3.1', 'climate change', 'global warming potential (GWP100)'),\n",
       " ('EF v3.1', 'climate change: biogenic', 'global warming potential (GWP100)'),\n",
       " ('EF v3.1', 'climate change: fossil', 'global warming potential (GWP100)'),\n",
       " ('EF v3.1',\n",
       "  'climate change: land use and land use change',\n",
       "  'global warming potential (GWP100)'),\n",
       " ('EF v3.1',\n",
       "  'ecotoxicity: freshwater',\n",
       "  'comparative toxic unit for ecosystems (CTUe)'),\n",
       " ('EF v3.1',\n",
       "  'ecotoxicity: freshwater, inorganics',\n",
       "  'comparative toxic unit for ecosystems (CTUe)'),\n",
       " ('EF v3.1',\n",
       "  'ecotoxicity: freshwater, organics',\n",
       "  'comparative toxic unit for ecosystems (CTUe)'),\n",
       " ('EF v3.1',\n",
       "  'energy resources: non-renewable',\n",
       "  'abiotic depletion potential (ADP): fossil fuels'),\n",
       " ('EF v3.1',\n",
       "  'eutrophication: freshwater',\n",
       "  'fraction of nutrients reaching freshwater end compartment (P)'),\n",
       " ('EF v3.1',\n",
       "  'eutrophication: marine',\n",
       "  'fraction of nutrients reaching marine end compartment (N)'),\n",
       " ('EF v3.1', 'eutrophication: terrestrial', 'accumulated exceedance (AE)'),\n",
       " ('EF v3.1',\n",
       "  'human toxicity: carcinogenic',\n",
       "  'comparative toxic unit for human (CTUh)'),\n",
       " ('EF v3.1',\n",
       "  'human toxicity: carcinogenic, inorganics',\n",
       "  'comparative toxic unit for human (CTUh)'),\n",
       " ('EF v3.1',\n",
       "  'human toxicity: carcinogenic, organics',\n",
       "  'comparative toxic unit for human (CTUh)'),\n",
       " ('EF v3.1',\n",
       "  'human toxicity: non-carcinogenic',\n",
       "  'comparative toxic unit for human (CTUh)'),\n",
       " ('EF v3.1',\n",
       "  'human toxicity: non-carcinogenic, inorganics',\n",
       "  'comparative toxic unit for human (CTUh)'),\n",
       " ('EF v3.1',\n",
       "  'human toxicity: non-carcinogenic, organics',\n",
       "  'comparative toxic unit for human (CTUh)'),\n",
       " ('EF v3.1',\n",
       "  'ionising radiation: human health',\n",
       "  'human exposure efficiency relative to u235'),\n",
       " ('EF v3.1', 'land use', 'soil quality index'),\n",
       " ('EF v3.1',\n",
       "  'material resources: metals/minerals',\n",
       "  'abiotic depletion potential (ADP): elements (ultimate reserves)'),\n",
       " ('EF v3.1', 'ozone depletion', 'ozone depletion potential (ODP)'),\n",
       " ('EF v3.1', 'particulate matter formation', 'impact on human health'),\n",
       " ('EF v3.1',\n",
       "  'photochemical oxidant formation: human health',\n",
       "  'tropospheric ozone concentration increase'),\n",
       " ('EF v3.1',\n",
       "  'water use',\n",
       "  'user deprivation potential (deprivation-weighted water consumption)'),\n",
       " ('EPS 2020d no LT', 'emissions to air no LT', 'monetary impact value no LT'),\n",
       " ('EPS 2020d no LT', 'emissions to soil no LT', 'monetary impact value no LT'),\n",
       " ('EPS 2020d no LT',\n",
       "  'emissions to water no LT',\n",
       "  'monetary impact value no LT'),\n",
       " ('EPS 2020d no LT',\n",
       "  'energy resources: non-renewable, fossil no LT',\n",
       "  'monetary impact value no LT'),\n",
       " ('EPS 2020d no LT', 'land use no LT', 'monetary impact value no LT'),\n",
       " ('EPS 2020d no LT',\n",
       "  'material resources: metals no LT',\n",
       "  'monetary impact value no LT'),\n",
       " ('EPS 2020d no LT', 'total no LT', 'monetary impact value no LT'),\n",
       " ('EPS 2020d', 'emissions to air', 'monetary impact value'),\n",
       " ('EPS 2020d', 'emissions to soil', 'monetary impact value'),\n",
       " ('EPS 2020d', 'emissions to water', 'monetary impact value'),\n",
       " ('EPS 2020d',\n",
       "  'energy resources: non-renewable, fossil',\n",
       "  'monetary impact value'),\n",
       " ('EPS 2020d', 'land use', 'monetary impact value'),\n",
       " ('EPS 2020d', 'material resources: metals', 'monetary impact value'),\n",
       " ('EPS 2020d', 'total', 'monetary impact value'),\n",
       " ('IMPACT 2002+ (Endpoint)', 'climate change', 'climate change'),\n",
       " ('IMPACT 2002+ (Endpoint)', 'climate change', 'total'),\n",
       " ('IMPACT 2002+ (Endpoint)', 'ecosystem quality', 'aquatic ecotoxicity'),\n",
       " ('IMPACT 2002+ (Endpoint)', 'ecosystem quality', 'land occupation'),\n",
       " ('IMPACT 2002+ (Endpoint)',\n",
       "  'ecosystem quality',\n",
       "  'terrestrial acidification & nutrification'),\n",
       " ('IMPACT 2002+ (Endpoint)', 'ecosystem quality', 'terrestrial ecotoxicity'),\n",
       " ('IMPACT 2002+ (Endpoint)', 'ecosystem quality', 'total'),\n",
       " ('IMPACT 2002+ (Endpoint)', 'human health', 'human toxicity'),\n",
       " ('IMPACT 2002+ (Endpoint)', 'human health', 'ionising radiation'),\n",
       " ('IMPACT 2002+ (Endpoint)', 'human health', 'ozone layer depletion'),\n",
       " ('IMPACT 2002+ (Endpoint)', 'human health', 'photochemical oxidation'),\n",
       " ('IMPACT 2002+ (Endpoint)',\n",
       "  'human health',\n",
       "  'respiratory effects (inorganics)'),\n",
       " ('IMPACT 2002+ (Endpoint)', 'human health', 'total'),\n",
       " ('IMPACT 2002+ (Endpoint)', 'resources', 'mineral extraction'),\n",
       " ('IMPACT 2002+ (Endpoint)', 'resources', 'non-renewable energy'),\n",
       " ('IMPACT 2002+ (Endpoint)', 'resources', 'total'),\n",
       " ('IMPACT 2002+ (Midpoint)', 'ecosystem quality', 'aquatic acidification'),\n",
       " ('IMPACT 2002+ (Midpoint)', 'ecosystem quality', 'aquatic eutrophication'),\n",
       " ('IPCC 2013 no LT',\n",
       "  'climate change no LT',\n",
       "  'global temperature change potential (GTP100) no LT'),\n",
       " ('IPCC 2013 no LT',\n",
       "  'climate change no LT',\n",
       "  'global temperature change potential (GTP20) no LT'),\n",
       " ('IPCC 2013 no LT',\n",
       "  'climate change no LT',\n",
       "  'global warming potential (GWP100) no LT'),\n",
       " ('IPCC 2013 no LT',\n",
       "  'climate change no LT',\n",
       "  'global warming potential (GWP20) no LT'),\n",
       " ('IPCC 2013',\n",
       "  'climate change',\n",
       "  'global temperature change potential (GTP100)'),\n",
       " ('IPCC 2013',\n",
       "  'climate change',\n",
       "  'global temperature change potential (GTP20)'),\n",
       " ('IPCC 2013', 'climate change', 'global warming potential (GWP100)'),\n",
       " ('IPCC 2013', 'climate change', 'global warming potential (GWP20)'),\n",
       " ('IPCC 2021 no LT',\n",
       "  'climate change no LT',\n",
       "  'global temperature change potential (GTP100) no LT'),\n",
       " ('IPCC 2021 no LT',\n",
       "  'climate change no LT',\n",
       "  'global temperature change potential (GTP50) no LT'),\n",
       " ('IPCC 2021 no LT',\n",
       "  'climate change no LT',\n",
       "  'global warming potential (GWP100) no LT'),\n",
       " ('IPCC 2021 no LT',\n",
       "  'climate change no LT',\n",
       "  'global warming potential (GWP20) no LT'),\n",
       " ('IPCC 2021 no LT',\n",
       "  'climate change no LT',\n",
       "  'global warming potential (GWP500) no LT'),\n",
       " ('IPCC 2021 no LT',\n",
       "  'climate change: biogenic no LT',\n",
       "  'global temperature change potential (GTP100) no LT'),\n",
       " ('IPCC 2021 no LT',\n",
       "  'climate change: biogenic no LT',\n",
       "  'global temperature change potential (GTP50) no LT'),\n",
       " ('IPCC 2021 no LT',\n",
       "  'climate change: biogenic no LT',\n",
       "  'global warming potential (GWP100) no LT'),\n",
       " ('IPCC 2021 no LT',\n",
       "  'climate change: biogenic no LT',\n",
       "  'global warming potential (GWP20) no LT'),\n",
       " ('IPCC 2021 no LT',\n",
       "  'climate change: biogenic no LT',\n",
       "  'global warming potential (GWP500) no LT'),\n",
       " ('IPCC 2021 no LT',\n",
       "  'climate change: biogenic, including SLCFs no LT',\n",
       "  'global temperature change potential (GTP100) no LT'),\n",
       " ('IPCC 2021 no LT',\n",
       "  'climate change: biogenic, including SLCFs no LT',\n",
       "  'global warming potential (GWP100) no LT'),\n",
       " ('IPCC 2021 no LT',\n",
       "  'climate change: biogenic, including SLCFs no LT',\n",
       "  'global warming potential (GWP20) no LT'),\n",
       " ('IPCC 2021 no LT',\n",
       "  'climate change: fossil no LT',\n",
       "  'global temperature change potential (GTP100) no LT'),\n",
       " ('IPCC 2021 no LT',\n",
       "  'climate change: fossil no LT',\n",
       "  'global temperature change potential (GTP50) no LT'),\n",
       " ('IPCC 2021 no LT',\n",
       "  'climate change: fossil no LT',\n",
       "  'global warming potential (GWP100) no LT'),\n",
       " ('IPCC 2021 no LT',\n",
       "  'climate change: fossil no LT',\n",
       "  'global warming potential (GWP20) no LT'),\n",
       " ('IPCC 2021 no LT',\n",
       "  'climate change: fossil no LT',\n",
       "  'global warming potential (GWP500) no LT'),\n",
       " ('IPCC 2021 no LT',\n",
       "  'climate change: fossil, including SLCFs no LT',\n",
       "  'global temperature change potential (GTP100) no LT'),\n",
       " ('IPCC 2021 no LT',\n",
       "  'climate change: fossil, including SLCFs no LT',\n",
       "  'global warming potential (GWP100) no LT'),\n",
       " ('IPCC 2021 no LT',\n",
       "  'climate change: fossil, including SLCFs no LT',\n",
       "  'global warming potential (GWP20) no LT'),\n",
       " ('IPCC 2021 no LT',\n",
       "  'climate change: including SLCFs no LT',\n",
       "  'global temperature change potential (GTP100) no LT'),\n",
       " ('IPCC 2021 no LT',\n",
       "  'climate change: including SLCFs no LT',\n",
       "  'global warming potential (GWP100) no LT'),\n",
       " ('IPCC 2021 no LT',\n",
       "  'climate change: including SLCFs no LT',\n",
       "  'global warming potential (GWP20) no LT'),\n",
       " ('IPCC 2021 no LT',\n",
       "  'climate change: land use no LT',\n",
       "  'global temperature change potential (GTP100) no LT'),\n",
       " ('IPCC 2021 no LT',\n",
       "  'climate change: land use no LT',\n",
       "  'global temperature change potential (GTP50) no LT'),\n",
       " ('IPCC 2021 no LT',\n",
       "  'climate change: land use no LT',\n",
       "  'global warming potential (GWP100) no LT'),\n",
       " ('IPCC 2021 no LT',\n",
       "  'climate change: land use no LT',\n",
       "  'global warming potential (GWP20) no LT'),\n",
       " ('IPCC 2021 no LT',\n",
       "  'climate change: land use no LT',\n",
       "  'global warming potential (GWP500) no LT'),\n",
       " ('IPCC 2021 no LT',\n",
       "  'climate change: land use, including SLCFs no LT',\n",
       "  'global temperature change potential (GTP100) no LT'),\n",
       " ('IPCC 2021 no LT',\n",
       "  'climate change: land use, including SLCFs no LT',\n",
       "  'global warming potential (GWP100) no LT'),\n",
       " ('IPCC 2021 no LT',\n",
       "  'climate change: land use, including SLCFs no LT',\n",
       "  'global warming potential (GWP20) no LT'),\n",
       " ('IPCC 2021',\n",
       "  'climate change',\n",
       "  'global temperature change potential (GTP100)'),\n",
       " ('IPCC 2021',\n",
       "  'climate change',\n",
       "  'global temperature change potential (GTP50)'),\n",
       " ('IPCC 2021', 'climate change', 'global warming potential (GWP100)'),\n",
       " ('IPCC 2021', 'climate change', 'global warming potential (GWP20)'),\n",
       " ('IPCC 2021', 'climate change', 'global warming potential (GWP500)'),\n",
       " ('IPCC 2021',\n",
       "  'climate change: biogenic',\n",
       "  'global temperature change potential (GTP100)'),\n",
       " ('IPCC 2021',\n",
       "  'climate change: biogenic',\n",
       "  'global temperature change potential (GTP50)'),\n",
       " ('IPCC 2021',\n",
       "  'climate change: biogenic',\n",
       "  'global warming potential (GWP100)'),\n",
       " ('IPCC 2021', 'climate change: biogenic', 'global warming potential (GWP20)'),\n",
       " ('IPCC 2021',\n",
       "  'climate change: biogenic',\n",
       "  'global warming potential (GWP500)'),\n",
       " ('IPCC 2021',\n",
       "  'climate change: biogenic, including SLCFs',\n",
       "  'global temperature change potential (GTP100)'),\n",
       " ('IPCC 2021',\n",
       "  'climate change: biogenic, including SLCFs',\n",
       "  'global warming potential (GWP100)'),\n",
       " ('IPCC 2021',\n",
       "  'climate change: biogenic, including SLCFs',\n",
       "  'global warming potential (GWP20)'),\n",
       " ('IPCC 2021',\n",
       "  'climate change: fossil',\n",
       "  'global temperature change potential (GTP100)'),\n",
       " ('IPCC 2021',\n",
       "  'climate change: fossil',\n",
       "  'global temperature change potential (GTP50)'),\n",
       " ('IPCC 2021', 'climate change: fossil', 'global warming potential (GWP100)'),\n",
       " ('IPCC 2021', 'climate change: fossil', 'global warming potential (GWP20)'),\n",
       " ('IPCC 2021', 'climate change: fossil', 'global warming potential (GWP500)'),\n",
       " ('IPCC 2021',\n",
       "  'climate change: fossil, including SLCFs',\n",
       "  'global temperature change potential (GTP100)'),\n",
       " ('IPCC 2021',\n",
       "  'climate change: fossil, including SLCFs',\n",
       "  'global warming potential (GWP100)'),\n",
       " ('IPCC 2021',\n",
       "  'climate change: fossil, including SLCFs',\n",
       "  'global warming potential (GWP20)'),\n",
       " ('IPCC 2021',\n",
       "  'climate change: including SLCFs',\n",
       "  'global temperature change potential (GTP100)'),\n",
       " ('IPCC 2021',\n",
       "  'climate change: including SLCFs',\n",
       "  'global warming potential (GWP100)'),\n",
       " ('IPCC 2021',\n",
       "  'climate change: including SLCFs',\n",
       "  'global warming potential (GWP20)'),\n",
       " ('IPCC 2021',\n",
       "  'climate change: land use',\n",
       "  'global temperature change potential (GTP100)'),\n",
       " ('IPCC 2021',\n",
       "  'climate change: land use',\n",
       "  'global temperature change potential (GTP50)'),\n",
       " ('IPCC 2021',\n",
       "  'climate change: land use',\n",
       "  'global warming potential (GWP100)'),\n",
       " ('IPCC 2021', 'climate change: land use', 'global warming potential (GWP20)'),\n",
       " ('IPCC 2021',\n",
       "  'climate change: land use',\n",
       "  'global warming potential (GWP500)'),\n",
       " ('IPCC 2021',\n",
       "  'climate change: land use, including SLCFs',\n",
       "  'global temperature change potential (GTP100)'),\n",
       " ('IPCC 2021',\n",
       "  'climate change: land use, including SLCFs',\n",
       "  'global warming potential (GWP100)'),\n",
       " ('IPCC 2021',\n",
       "  'climate change: land use, including SLCFs',\n",
       "  'global warming potential (GWP20)'),\n",
       " ('ReCiPe 2016 v1.03, endpoint (E) no LT',\n",
       "  'ecosystem quality no LT',\n",
       "  'acidification: terrestrial no LT'),\n",
       " ('ReCiPe 2016 v1.03, endpoint (E) no LT',\n",
       "  'ecosystem quality no LT',\n",
       "  'climate change: freshwater ecosystems no LT'),\n",
       " ('ReCiPe 2016 v1.03, endpoint (E) no LT',\n",
       "  'ecosystem quality no LT',\n",
       "  'climate change: terrestrial ecosystems no LT'),\n",
       " ('ReCiPe 2016 v1.03, endpoint (E) no LT',\n",
       "  'ecosystem quality no LT',\n",
       "  'ecotoxicity: freshwater no LT'),\n",
       " ('ReCiPe 2016 v1.03, endpoint (E) no LT',\n",
       "  'ecosystem quality no LT',\n",
       "  'ecotoxicity: marine no LT'),\n",
       " ('ReCiPe 2016 v1.03, endpoint (E) no LT',\n",
       "  'ecosystem quality no LT',\n",
       "  'ecotoxicity: terrestrial no LT'),\n",
       " ('ReCiPe 2016 v1.03, endpoint (E) no LT',\n",
       "  'ecosystem quality no LT',\n",
       "  'eutrophication: freshwater no LT'),\n",
       " ('ReCiPe 2016 v1.03, endpoint (E) no LT',\n",
       "  'ecosystem quality no LT',\n",
       "  'eutrophication: marine no LT'),\n",
       " ('ReCiPe 2016 v1.03, endpoint (E) no LT',\n",
       "  'ecosystem quality no LT',\n",
       "  'land use no LT'),\n",
       " ('ReCiPe 2016 v1.03, endpoint (E) no LT',\n",
       "  'ecosystem quality no LT',\n",
       "  'photochemical oxidant formation: terrestrial ecosystems no LT'),\n",
       " ('ReCiPe 2016 v1.03, endpoint (E) no LT',\n",
       "  'ecosystem quality no LT',\n",
       "  'water use: aquatic ecosystems no LT'),\n",
       " ('ReCiPe 2016 v1.03, endpoint (E) no LT',\n",
       "  'ecosystem quality no LT',\n",
       "  'water use: terrestrial ecosystems no LT'),\n",
       " ('ReCiPe 2016 v1.03, endpoint (E) no LT',\n",
       "  'human health no LT',\n",
       "  'climate change: human health no LT'),\n",
       " ('ReCiPe 2016 v1.03, endpoint (E) no LT',\n",
       "  'human health no LT',\n",
       "  'human toxicity: carcinogenic no LT'),\n",
       " ('ReCiPe 2016 v1.03, endpoint (E) no LT',\n",
       "  'human health no LT',\n",
       "  'human toxicity: non-carcinogenic no LT'),\n",
       " ('ReCiPe 2016 v1.03, endpoint (E) no LT',\n",
       "  'human health no LT',\n",
       "  'ionising radiation no LT'),\n",
       " ('ReCiPe 2016 v1.03, endpoint (E) no LT',\n",
       "  'human health no LT',\n",
       "  'ozone depletion no LT'),\n",
       " ('ReCiPe 2016 v1.03, endpoint (E) no LT',\n",
       "  'human health no LT',\n",
       "  'particulate matter formation no LT'),\n",
       " ('ReCiPe 2016 v1.03, endpoint (E) no LT',\n",
       "  'human health no LT',\n",
       "  'photochemical oxidant formation: human health no LT'),\n",
       " ('ReCiPe 2016 v1.03, endpoint (E) no LT',\n",
       "  'human health no LT',\n",
       "  'water use: human health no LT'),\n",
       " ('ReCiPe 2016 v1.03, endpoint (E) no LT',\n",
       "  'natural resources no LT',\n",
       "  'energy resources: non-renewable, fossil no LT'),\n",
       " ('ReCiPe 2016 v1.03, endpoint (E) no LT',\n",
       "  'natural resources no LT',\n",
       "  'material resources: metals/minerals no LT'),\n",
       " ('ReCiPe 2016 v1.03, endpoint (E) no LT',\n",
       "  'total: ecosystem quality no LT',\n",
       "  'ecosystem quality no LT'),\n",
       " ('ReCiPe 2016 v1.03, endpoint (E) no LT',\n",
       "  'total: human health no LT',\n",
       "  'human health no LT'),\n",
       " ('ReCiPe 2016 v1.03, endpoint (E) no LT',\n",
       "  'total: natural resources no LT',\n",
       "  'natural resources no LT'),\n",
       " ('ReCiPe 2016 v1.03, endpoint (E)',\n",
       "  'ecosystem quality',\n",
       "  'acidification: terrestrial'),\n",
       " ('ReCiPe 2016 v1.03, endpoint (E)',\n",
       "  'ecosystem quality',\n",
       "  'climate change: freshwater ecosystems'),\n",
       " ('ReCiPe 2016 v1.03, endpoint (E)',\n",
       "  'ecosystem quality',\n",
       "  'climate change: terrestrial ecosystems'),\n",
       " ('ReCiPe 2016 v1.03, endpoint (E)',\n",
       "  'ecosystem quality',\n",
       "  'ecotoxicity: freshwater'),\n",
       " ('ReCiPe 2016 v1.03, endpoint (E)',\n",
       "  'ecosystem quality',\n",
       "  'ecotoxicity: marine'),\n",
       " ('ReCiPe 2016 v1.03, endpoint (E)',\n",
       "  'ecosystem quality',\n",
       "  'ecotoxicity: terrestrial'),\n",
       " ('ReCiPe 2016 v1.03, endpoint (E)',\n",
       "  'ecosystem quality',\n",
       "  'eutrophication: freshwater'),\n",
       " ('ReCiPe 2016 v1.03, endpoint (E)',\n",
       "  'ecosystem quality',\n",
       "  'eutrophication: marine'),\n",
       " ('ReCiPe 2016 v1.03, endpoint (E)', 'ecosystem quality', 'land use'),\n",
       " ('ReCiPe 2016 v1.03, endpoint (E)',\n",
       "  'ecosystem quality',\n",
       "  'photochemical oxidant formation: terrestrial ecosystems'),\n",
       " ('ReCiPe 2016 v1.03, endpoint (E)',\n",
       "  'ecosystem quality',\n",
       "  'water use: aquatic ecosystems'),\n",
       " ('ReCiPe 2016 v1.03, endpoint (E)',\n",
       "  'ecosystem quality',\n",
       "  'water use: terrestrial ecosystems'),\n",
       " ('ReCiPe 2016 v1.03, endpoint (E)',\n",
       "  'human health',\n",
       "  'climate change: human health'),\n",
       " ('ReCiPe 2016 v1.03, endpoint (E)',\n",
       "  'human health',\n",
       "  'human toxicity: carcinogenic'),\n",
       " ('ReCiPe 2016 v1.03, endpoint (E)',\n",
       "  'human health',\n",
       "  'human toxicity: non-carcinogenic'),\n",
       " ('ReCiPe 2016 v1.03, endpoint (E)', 'human health', 'ionising radiation'),\n",
       " ('ReCiPe 2016 v1.03, endpoint (E)', 'human health', 'ozone depletion'),\n",
       " ('ReCiPe 2016 v1.03, endpoint (E)',\n",
       "  'human health',\n",
       "  'particulate matter formation'),\n",
       " ('ReCiPe 2016 v1.03, endpoint (E)',\n",
       "  'human health',\n",
       "  'photochemical oxidant formation: human health'),\n",
       " ('ReCiPe 2016 v1.03, endpoint (E)',\n",
       "  'human health',\n",
       "  'water use: human health'),\n",
       " ('ReCiPe 2016 v1.03, endpoint (E)',\n",
       "  'natural resources',\n",
       "  'energy resources: non-renewable, fossil'),\n",
       " ('ReCiPe 2016 v1.03, endpoint (E)',\n",
       "  'natural resources',\n",
       "  'material resources: metals/minerals'),\n",
       " ('ReCiPe 2016 v1.03, endpoint (E)',\n",
       "  'total: ecosystem quality',\n",
       "  'ecosystem quality'),\n",
       " ('ReCiPe 2016 v1.03, endpoint (E)', 'total: human health', 'human health'),\n",
       " ('ReCiPe 2016 v1.03, endpoint (E)',\n",
       "  'total: natural resources',\n",
       "  'natural resources'),\n",
       " ('ReCiPe 2016 v1.03, endpoint (H) no LT',\n",
       "  'ecosystem quality no LT',\n",
       "  'acidification: terrestrial no LT'),\n",
       " ('ReCiPe 2016 v1.03, endpoint (H) no LT',\n",
       "  'ecosystem quality no LT',\n",
       "  'climate change: freshwater ecosystems no LT'),\n",
       " ('ReCiPe 2016 v1.03, endpoint (H) no LT',\n",
       "  'ecosystem quality no LT',\n",
       "  'climate change: terrestrial ecosystems no LT'),\n",
       " ('ReCiPe 2016 v1.03, endpoint (H) no LT',\n",
       "  'ecosystem quality no LT',\n",
       "  'ecotoxicity: freshwater no LT'),\n",
       " ('ReCiPe 2016 v1.03, endpoint (H) no LT',\n",
       "  'ecosystem quality no LT',\n",
       "  'ecotoxicity: marine no LT'),\n",
       " ('ReCiPe 2016 v1.03, endpoint (H) no LT',\n",
       "  'ecosystem quality no LT',\n",
       "  'ecotoxicity: terrestrial no LT'),\n",
       " ('ReCiPe 2016 v1.03, endpoint (H) no LT',\n",
       "  'ecosystem quality no LT',\n",
       "  'eutrophication: freshwater no LT'),\n",
       " ('ReCiPe 2016 v1.03, endpoint (H) no LT',\n",
       "  'ecosystem quality no LT',\n",
       "  'eutrophication: marine no LT'),\n",
       " ('ReCiPe 2016 v1.03, endpoint (H) no LT',\n",
       "  'ecosystem quality no LT',\n",
       "  'land use no LT'),\n",
       " ('ReCiPe 2016 v1.03, endpoint (H) no LT',\n",
       "  'ecosystem quality no LT',\n",
       "  'photochemical oxidant formation: terrestrial ecosystems no LT'),\n",
       " ('ReCiPe 2016 v1.03, endpoint (H) no LT',\n",
       "  'ecosystem quality no LT',\n",
       "  'water use: aquatic ecosystems no LT'),\n",
       " ('ReCiPe 2016 v1.03, endpoint (H) no LT',\n",
       "  'ecosystem quality no LT',\n",
       "  'water use: terrestrial ecosystems no LT'),\n",
       " ('ReCiPe 2016 v1.03, endpoint (H) no LT',\n",
       "  'human health no LT',\n",
       "  'climate change: human health no LT'),\n",
       " ('ReCiPe 2016 v1.03, endpoint (H) no LT',\n",
       "  'human health no LT',\n",
       "  'human toxicity: carcinogenic no LT'),\n",
       " ('ReCiPe 2016 v1.03, endpoint (H) no LT',\n",
       "  'human health no LT',\n",
       "  'human toxicity: non-carcinogenic no LT'),\n",
       " ('ReCiPe 2016 v1.03, endpoint (H) no LT',\n",
       "  'human health no LT',\n",
       "  'ionising radiation no LT'),\n",
       " ('ReCiPe 2016 v1.03, endpoint (H) no LT',\n",
       "  'human health no LT',\n",
       "  'ozone depletion no LT'),\n",
       " ('ReCiPe 2016 v1.03, endpoint (H) no LT',\n",
       "  'human health no LT',\n",
       "  'particulate matter formation no LT'),\n",
       " ('ReCiPe 2016 v1.03, endpoint (H) no LT',\n",
       "  'human health no LT',\n",
       "  'photochemical oxidant formation: human health no LT'),\n",
       " ('ReCiPe 2016 v1.03, endpoint (H) no LT',\n",
       "  'human health no LT',\n",
       "  'water use: human health no LT'),\n",
       " ('ReCiPe 2016 v1.03, endpoint (H) no LT',\n",
       "  'natural resources no LT',\n",
       "  'energy resources: non-renewable, fossil no LT'),\n",
       " ('ReCiPe 2016 v1.03, endpoint (H) no LT',\n",
       "  'natural resources no LT',\n",
       "  'material resources: metals/minerals no LT'),\n",
       " ('ReCiPe 2016 v1.03, endpoint (H) no LT',\n",
       "  'total: ecosystem quality no LT',\n",
       "  'ecosystem quality no LT'),\n",
       " ('ReCiPe 2016 v1.03, endpoint (H) no LT',\n",
       "  'total: human health no LT',\n",
       "  'human health no LT'),\n",
       " ('ReCiPe 2016 v1.03, endpoint (H) no LT',\n",
       "  'total: natural resources no LT',\n",
       "  'natural resources no LT'),\n",
       " ('ReCiPe 2016 v1.03, endpoint (H)',\n",
       "  'ecosystem quality',\n",
       "  'acidification: terrestrial'),\n",
       " ('ReCiPe 2016 v1.03, endpoint (H)',\n",
       "  'ecosystem quality',\n",
       "  'climate change: freshwater ecosystems'),\n",
       " ('ReCiPe 2016 v1.03, endpoint (H)',\n",
       "  'ecosystem quality',\n",
       "  'climate change: terrestrial ecosystems'),\n",
       " ('ReCiPe 2016 v1.03, endpoint (H)',\n",
       "  'ecosystem quality',\n",
       "  'ecotoxicity: freshwater'),\n",
       " ('ReCiPe 2016 v1.03, endpoint (H)',\n",
       "  'ecosystem quality',\n",
       "  'ecotoxicity: marine'),\n",
       " ('ReCiPe 2016 v1.03, endpoint (H)',\n",
       "  'ecosystem quality',\n",
       "  'ecotoxicity: terrestrial'),\n",
       " ('ReCiPe 2016 v1.03, endpoint (H)',\n",
       "  'ecosystem quality',\n",
       "  'eutrophication: freshwater'),\n",
       " ('ReCiPe 2016 v1.03, endpoint (H)',\n",
       "  'ecosystem quality',\n",
       "  'eutrophication: marine'),\n",
       " ('ReCiPe 2016 v1.03, endpoint (H)', 'ecosystem quality', 'land use'),\n",
       " ('ReCiPe 2016 v1.03, endpoint (H)',\n",
       "  'ecosystem quality',\n",
       "  'photochemical oxidant formation: terrestrial ecosystems'),\n",
       " ('ReCiPe 2016 v1.03, endpoint (H)',\n",
       "  'ecosystem quality',\n",
       "  'water use: aquatic ecosystems'),\n",
       " ('ReCiPe 2016 v1.03, endpoint (H)',\n",
       "  'ecosystem quality',\n",
       "  'water use: terrestrial ecosystems'),\n",
       " ('ReCiPe 2016 v1.03, endpoint (H)',\n",
       "  'human health',\n",
       "  'climate change: human health'),\n",
       " ('ReCiPe 2016 v1.03, endpoint (H)',\n",
       "  'human health',\n",
       "  'human toxicity: carcinogenic'),\n",
       " ('ReCiPe 2016 v1.03, endpoint (H)',\n",
       "  'human health',\n",
       "  'human toxicity: non-carcinogenic'),\n",
       " ('ReCiPe 2016 v1.03, endpoint (H)', 'human health', 'ionising radiation'),\n",
       " ('ReCiPe 2016 v1.03, endpoint (H)', 'human health', 'ozone depletion'),\n",
       " ('ReCiPe 2016 v1.03, endpoint (H)',\n",
       "  'human health',\n",
       "  'particulate matter formation'),\n",
       " ('ReCiPe 2016 v1.03, endpoint (H)',\n",
       "  'human health',\n",
       "  'photochemical oxidant formation: human health'),\n",
       " ('ReCiPe 2016 v1.03, endpoint (H)',\n",
       "  'human health',\n",
       "  'water use: human health'),\n",
       " ('ReCiPe 2016 v1.03, endpoint (H)',\n",
       "  'natural resources',\n",
       "  'energy resources: non-renewable, fossil'),\n",
       " ('ReCiPe 2016 v1.03, endpoint (H)',\n",
       "  'natural resources',\n",
       "  'material resources: metals/minerals'),\n",
       " ('ReCiPe 2016 v1.03, endpoint (H)',\n",
       "  'total: ecosystem quality',\n",
       "  'ecosystem quality'),\n",
       " ('ReCiPe 2016 v1.03, endpoint (H)', 'total: human health', 'human health'),\n",
       " ('ReCiPe 2016 v1.03, endpoint (H)',\n",
       "  'total: natural resources',\n",
       "  'natural resources'),\n",
       " ('ReCiPe 2016 v1.03, endpoint (I) no LT',\n",
       "  'ecosystem quality no LT',\n",
       "  'acidification: terrestrial no LT'),\n",
       " ('ReCiPe 2016 v1.03, endpoint (I) no LT',\n",
       "  'ecosystem quality no LT',\n",
       "  'climate change: freshwater ecosystems no LT'),\n",
       " ('ReCiPe 2016 v1.03, endpoint (I) no LT',\n",
       "  'ecosystem quality no LT',\n",
       "  'climate change: terrestrial ecosystems no LT'),\n",
       " ('ReCiPe 2016 v1.03, endpoint (I) no LT',\n",
       "  'ecosystem quality no LT',\n",
       "  'ecotoxicity: freshwater no LT'),\n",
       " ('ReCiPe 2016 v1.03, endpoint (I) no LT',\n",
       "  'ecosystem quality no LT',\n",
       "  'ecotoxicity: marine no LT'),\n",
       " ('ReCiPe 2016 v1.03, endpoint (I) no LT',\n",
       "  'ecosystem quality no LT',\n",
       "  'ecotoxicity: terrestrial no LT'),\n",
       " ('ReCiPe 2016 v1.03, endpoint (I) no LT',\n",
       "  'ecosystem quality no LT',\n",
       "  'eutrophication: freshwater no LT'),\n",
       " ('ReCiPe 2016 v1.03, endpoint (I) no LT',\n",
       "  'ecosystem quality no LT',\n",
       "  'eutrophication: marine no LT'),\n",
       " ('ReCiPe 2016 v1.03, endpoint (I) no LT',\n",
       "  'ecosystem quality no LT',\n",
       "  'land use no LT'),\n",
       " ('ReCiPe 2016 v1.03, endpoint (I) no LT',\n",
       "  'ecosystem quality no LT',\n",
       "  'photochemical oxidant formation: terrestrial ecosystems no LT'),\n",
       " ('ReCiPe 2016 v1.03, endpoint (I) no LT',\n",
       "  'ecosystem quality no LT',\n",
       "  'water use: aquatic ecosystems no LT'),\n",
       " ('ReCiPe 2016 v1.03, endpoint (I) no LT',\n",
       "  'human health no LT',\n",
       "  'climate change: human health no LT'),\n",
       " ('ReCiPe 2016 v1.03, endpoint (I) no LT',\n",
       "  'human health no LT',\n",
       "  'human toxicity: carcinogenic no LT'),\n",
       " ('ReCiPe 2016 v1.03, endpoint (I) no LT',\n",
       "  'human health no LT',\n",
       "  'human toxicity: non-carcinogenic no LT'),\n",
       " ('ReCiPe 2016 v1.03, endpoint (I) no LT',\n",
       "  'human health no LT',\n",
       "  'ionising radiation no LT'),\n",
       " ('ReCiPe 2016 v1.03, endpoint (I) no LT',\n",
       "  'human health no LT',\n",
       "  'ozone depletion no LT'),\n",
       " ('ReCiPe 2016 v1.03, endpoint (I) no LT',\n",
       "  'human health no LT',\n",
       "  'particulate matter formation no LT'),\n",
       " ('ReCiPe 2016 v1.03, endpoint (I) no LT',\n",
       "  'human health no LT',\n",
       "  'photochemical oxidant formation: human health no LT'),\n",
       " ('ReCiPe 2016 v1.03, endpoint (I) no LT',\n",
       "  'human health no LT',\n",
       "  'water use: human health no LT'),\n",
       " ('ReCiPe 2016 v1.03, endpoint (I) no LT',\n",
       "  'natural resources no LT',\n",
       "  'energy resources: non-renewable, fossil no LT'),\n",
       " ('ReCiPe 2016 v1.03, endpoint (I) no LT',\n",
       "  'natural resources no LT',\n",
       "  'material resources: metals/minerals no LT'),\n",
       " ('ReCiPe 2016 v1.03, endpoint (I) no LT',\n",
       "  'total: ecosystem quality no LT',\n",
       "  'ecosystem quality no LT'),\n",
       " ('ReCiPe 2016 v1.03, endpoint (I) no LT',\n",
       "  'total: human health no LT',\n",
       "  'human health no LT'),\n",
       " ('ReCiPe 2016 v1.03, endpoint (I) no LT',\n",
       "  'total: natural resources no LT',\n",
       "  'natural resources no LT'),\n",
       " ('ReCiPe 2016 v1.03, endpoint (I)',\n",
       "  'ecosystem quality',\n",
       "  'acidification: terrestrial'),\n",
       " ('ReCiPe 2016 v1.03, endpoint (I)',\n",
       "  'ecosystem quality',\n",
       "  'climate change: freshwater ecosystems'),\n",
       " ('ReCiPe 2016 v1.03, endpoint (I)',\n",
       "  'ecosystem quality',\n",
       "  'climate change: terrestrial ecosystems'),\n",
       " ('ReCiPe 2016 v1.03, endpoint (I)',\n",
       "  'ecosystem quality',\n",
       "  'ecotoxicity: freshwater'),\n",
       " ('ReCiPe 2016 v1.03, endpoint (I)',\n",
       "  'ecosystem quality',\n",
       "  'ecotoxicity: marine'),\n",
       " ('ReCiPe 2016 v1.03, endpoint (I)',\n",
       "  'ecosystem quality',\n",
       "  'ecotoxicity: terrestrial'),\n",
       " ('ReCiPe 2016 v1.03, endpoint (I)',\n",
       "  'ecosystem quality',\n",
       "  'eutrophication: freshwater'),\n",
       " ('ReCiPe 2016 v1.03, endpoint (I)',\n",
       "  'ecosystem quality',\n",
       "  'eutrophication: marine'),\n",
       " ('ReCiPe 2016 v1.03, endpoint (I)', 'ecosystem quality', 'land use'),\n",
       " ('ReCiPe 2016 v1.03, endpoint (I)',\n",
       "  'ecosystem quality',\n",
       "  'photochemical oxidant formation: terrestrial ecosystems'),\n",
       " ('ReCiPe 2016 v1.03, endpoint (I)',\n",
       "  'ecosystem quality',\n",
       "  'water use: aquatic ecosystems'),\n",
       " ('ReCiPe 2016 v1.03, endpoint (I)',\n",
       "  'human health',\n",
       "  'climate change: human health'),\n",
       " ('ReCiPe 2016 v1.03, endpoint (I)',\n",
       "  'human health',\n",
       "  'human toxicity: carcinogenic'),\n",
       " ('ReCiPe 2016 v1.03, endpoint (I)',\n",
       "  'human health',\n",
       "  'human toxicity: non-carcinogenic'),\n",
       " ('ReCiPe 2016 v1.03, endpoint (I)', 'human health', 'ionising radiation'),\n",
       " ('ReCiPe 2016 v1.03, endpoint (I)', 'human health', 'ozone depletion'),\n",
       " ('ReCiPe 2016 v1.03, endpoint (I)',\n",
       "  'human health',\n",
       "  'particulate matter formation'),\n",
       " ('ReCiPe 2016 v1.03, endpoint (I)',\n",
       "  'human health',\n",
       "  'photochemical oxidant formation: human health'),\n",
       " ('ReCiPe 2016 v1.03, endpoint (I)',\n",
       "  'human health',\n",
       "  'water use: human health'),\n",
       " ('ReCiPe 2016 v1.03, endpoint (I)',\n",
       "  'natural resources',\n",
       "  'energy resources: non-renewable, fossil'),\n",
       " ('ReCiPe 2016 v1.03, endpoint (I)',\n",
       "  'natural resources',\n",
       "  'material resources: metals/minerals'),\n",
       " ('ReCiPe 2016 v1.03, endpoint (I)',\n",
       "  'total: ecosystem quality',\n",
       "  'ecosystem quality'),\n",
       " ('ReCiPe 2016 v1.03, endpoint (I)', 'total: human health', 'human health'),\n",
       " ('ReCiPe 2016 v1.03, endpoint (I)',\n",
       "  'total: natural resources',\n",
       "  'natural resources'),\n",
       " ('ReCiPe 2016 v1.03, midpoint (E) no LT',\n",
       "  'acidification: terrestrial no LT',\n",
       "  'terrestrial acidification potential (TAP) no LT'),\n",
       " ('ReCiPe 2016 v1.03, midpoint (E) no LT',\n",
       "  'climate change no LT',\n",
       "  'global warming potential (GWP1000) no LT'),\n",
       " ('ReCiPe 2016 v1.03, midpoint (E) no LT',\n",
       "  'ecotoxicity: freshwater no LT',\n",
       "  'freshwater ecotoxicity potential (FETP) no LT'),\n",
       " ('ReCiPe 2016 v1.03, midpoint (E) no LT',\n",
       "  'ecotoxicity: marine no LT',\n",
       "  'marine ecotoxicity potential (METP) no LT'),\n",
       " ('ReCiPe 2016 v1.03, midpoint (E) no LT',\n",
       "  'ecotoxicity: terrestrial no LT',\n",
       "  'terrestrial ecotoxicity potential (TETP) no LT'),\n",
       " ('ReCiPe 2016 v1.03, midpoint (E) no LT',\n",
       "  'energy resources: non-renewable, fossil no LT',\n",
       "  'fossil fuel potential (FFP) no LT'),\n",
       " ('ReCiPe 2016 v1.03, midpoint (E) no LT',\n",
       "  'eutrophication: freshwater no LT',\n",
       "  'freshwater eutrophication potential (FEP) no LT'),\n",
       " ('ReCiPe 2016 v1.03, midpoint (E) no LT',\n",
       "  'eutrophication: marine no LT',\n",
       "  'marine eutrophication potential (MEP) no LT'),\n",
       " ('ReCiPe 2016 v1.03, midpoint (E) no LT',\n",
       "  'human toxicity: carcinogenic no LT',\n",
       "  'human toxicity potential (HTPc) no LT'),\n",
       " ('ReCiPe 2016 v1.03, midpoint (E) no LT',\n",
       "  'human toxicity: non-carcinogenic no LT',\n",
       "  'human toxicity potential (HTPnc) no LT'),\n",
       " ('ReCiPe 2016 v1.03, midpoint (E) no LT',\n",
       "  'ionising radiation no LT',\n",
       "  'ionising radiation potential (IRP) no LT'),\n",
       " ('ReCiPe 2016 v1.03, midpoint (E) no LT',\n",
       "  'land use no LT',\n",
       "  'agricultural land occupation (LOP) no LT'),\n",
       " ('ReCiPe 2016 v1.03, midpoint (E) no LT',\n",
       "  'material resources: metals/minerals no LT',\n",
       "  'surplus ore potential (SOP) no LT'),\n",
       " ('ReCiPe 2016 v1.03, midpoint (E) no LT',\n",
       "  'ozone depletion no LT',\n",
       "  'ozone depletion potential (ODPinfinite) no LT'),\n",
       " ('ReCiPe 2016 v1.03, midpoint (E) no LT',\n",
       "  'particulate matter formation no LT',\n",
       "  'particulate matter formation potential (PMFP) no LT'),\n",
       " ('ReCiPe 2016 v1.03, midpoint (E) no LT',\n",
       "  'photochemical oxidant formation: human health no LT',\n",
       "  'photochemical oxidant formation potential: humans (HOFP) no LT'),\n",
       " ('ReCiPe 2016 v1.03, midpoint (E) no LT',\n",
       "  'photochemical oxidant formation: terrestrial ecosystems no LT',\n",
       "  'photochemical oxidant formation potential: ecosystems (EOFP) no LT'),\n",
       " ('ReCiPe 2016 v1.03, midpoint (E) no LT',\n",
       "  'water use no LT',\n",
       "  'water consumption potential (WCP) no LT'),\n",
       " ('ReCiPe 2016 v1.03, midpoint (E)',\n",
       "  'acidification: terrestrial',\n",
       "  'terrestrial acidification potential (TAP)'),\n",
       " ('ReCiPe 2016 v1.03, midpoint (E)',\n",
       "  'climate change',\n",
       "  'global warming potential (GWP1000)'),\n",
       " ('ReCiPe 2016 v1.03, midpoint (E)',\n",
       "  'ecotoxicity: freshwater',\n",
       "  'freshwater ecotoxicity potential (FETP)'),\n",
       " ('ReCiPe 2016 v1.03, midpoint (E)',\n",
       "  'ecotoxicity: marine',\n",
       "  'marine ecotoxicity potential (METP)'),\n",
       " ('ReCiPe 2016 v1.03, midpoint (E)',\n",
       "  'ecotoxicity: terrestrial',\n",
       "  'terrestrial ecotoxicity potential (TETP)'),\n",
       " ('ReCiPe 2016 v1.03, midpoint (E)',\n",
       "  'energy resources: non-renewable, fossil',\n",
       "  'fossil fuel potential (FFP)'),\n",
       " ('ReCiPe 2016 v1.03, midpoint (E)',\n",
       "  'eutrophication: freshwater',\n",
       "  'freshwater eutrophication potential (FEP)'),\n",
       " ('ReCiPe 2016 v1.03, midpoint (E)',\n",
       "  'eutrophication: marine',\n",
       "  'marine eutrophication potential (MEP)'),\n",
       " ('ReCiPe 2016 v1.03, midpoint (E)',\n",
       "  'human toxicity: carcinogenic',\n",
       "  'human toxicity potential (HTPc)'),\n",
       " ('ReCiPe 2016 v1.03, midpoint (E)',\n",
       "  'human toxicity: non-carcinogenic',\n",
       "  'human toxicity potential (HTPnc)'),\n",
       " ('ReCiPe 2016 v1.03, midpoint (E)',\n",
       "  'ionising radiation',\n",
       "  'ionising radiation potential (IRP)'),\n",
       " ('ReCiPe 2016 v1.03, midpoint (E)',\n",
       "  'land use',\n",
       "  'agricultural land occupation (LOP)'),\n",
       " ('ReCiPe 2016 v1.03, midpoint (E)',\n",
       "  'material resources: metals/minerals',\n",
       "  'surplus ore potential (SOP)'),\n",
       " ('ReCiPe 2016 v1.03, midpoint (E)',\n",
       "  'ozone depletion',\n",
       "  'ozone depletion potential (ODPinfinite)'),\n",
       " ('ReCiPe 2016 v1.03, midpoint (E)',\n",
       "  'particulate matter formation',\n",
       "  'particulate matter formation potential (PMFP)'),\n",
       " ('ReCiPe 2016 v1.03, midpoint (E)',\n",
       "  'photochemical oxidant formation: human health',\n",
       "  'photochemical oxidant formation potential: humans (HOFP)'),\n",
       " ('ReCiPe 2016 v1.03, midpoint (E)',\n",
       "  'photochemical oxidant formation: terrestrial ecosystems',\n",
       "  'photochemical oxidant formation potential: ecosystems (EOFP)'),\n",
       " ('ReCiPe 2016 v1.03, midpoint (E)',\n",
       "  'water use',\n",
       "  'water consumption potential (WCP)'),\n",
       " ('ReCiPe 2016 v1.03, midpoint (H) no LT',\n",
       "  'acidification: terrestrial no LT',\n",
       "  'terrestrial acidification potential (TAP) no LT'),\n",
       " ('ReCiPe 2016 v1.03, midpoint (H) no LT',\n",
       "  'climate change no LT',\n",
       "  'global warming potential (GWP1000) no LT'),\n",
       " ('ReCiPe 2016 v1.03, midpoint (H) no LT',\n",
       "  'ecotoxicity: freshwater no LT',\n",
       "  'freshwater ecotoxicity potential (FETP) no LT'),\n",
       " ('ReCiPe 2016 v1.03, midpoint (H) no LT',\n",
       "  'ecotoxicity: marine no LT',\n",
       "  'marine ecotoxicity potential (METP) no LT'),\n",
       " ('ReCiPe 2016 v1.03, midpoint (H) no LT',\n",
       "  'ecotoxicity: terrestrial no LT',\n",
       "  'terrestrial ecotoxicity potential (TETP) no LT'),\n",
       " ('ReCiPe 2016 v1.03, midpoint (H) no LT',\n",
       "  'energy resources: non-renewable, fossil no LT',\n",
       "  'fossil fuel potential (FFP) no LT'),\n",
       " ('ReCiPe 2016 v1.03, midpoint (H) no LT',\n",
       "  'eutrophication: freshwater no LT',\n",
       "  'freshwater eutrophication potential (FEP) no LT'),\n",
       " ('ReCiPe 2016 v1.03, midpoint (H) no LT',\n",
       "  'eutrophication: marine no LT',\n",
       "  'marine eutrophication potential (MEP) no LT'),\n",
       " ('ReCiPe 2016 v1.03, midpoint (H) no LT',\n",
       "  'human toxicity: carcinogenic no LT',\n",
       "  'human toxicity potential (HTPc) no LT'),\n",
       " ('ReCiPe 2016 v1.03, midpoint (H) no LT',\n",
       "  'human toxicity: non-carcinogenic no LT',\n",
       "  'human toxicity potential (HTPnc) no LT'),\n",
       " ('ReCiPe 2016 v1.03, midpoint (H) no LT',\n",
       "  'ionising radiation no LT',\n",
       "  'ionising radiation potential (IRP) no LT'),\n",
       " ('ReCiPe 2016 v1.03, midpoint (H) no LT',\n",
       "  'land use no LT',\n",
       "  'agricultural land occupation (LOP) no LT'),\n",
       " ('ReCiPe 2016 v1.03, midpoint (H) no LT',\n",
       "  'material resources: metals/minerals no LT',\n",
       "  'surplus ore potential (SOP) no LT'),\n",
       " ('ReCiPe 2016 v1.03, midpoint (H) no LT',\n",
       "  'ozone depletion no LT',\n",
       "  'ozone depletion potential (ODPinfinite) no LT'),\n",
       " ('ReCiPe 2016 v1.03, midpoint (H) no LT',\n",
       "  'particulate matter formation no LT',\n",
       "  'particulate matter formation potential (PMFP) no LT'),\n",
       " ('ReCiPe 2016 v1.03, midpoint (H) no LT',\n",
       "  'photochemical oxidant formation: human health no LT',\n",
       "  'photochemical oxidant formation potential: humans (HOFP) no LT'),\n",
       " ('ReCiPe 2016 v1.03, midpoint (H) no LT',\n",
       "  'photochemical oxidant formation: terrestrial ecosystems no LT',\n",
       "  'photochemical oxidant formation potential: ecosystems (EOFP) no LT'),\n",
       " ('ReCiPe 2016 v1.03, midpoint (H) no LT',\n",
       "  'water use no LT',\n",
       "  'water consumption potential (WCP) no LT'),\n",
       " ('ReCiPe 2016 v1.03, midpoint (H)',\n",
       "  'acidification: terrestrial',\n",
       "  'terrestrial acidification potential (TAP)'),\n",
       " ('ReCiPe 2016 v1.03, midpoint (H)',\n",
       "  'climate change',\n",
       "  'global warming potential (GWP1000)'),\n",
       " ('ReCiPe 2016 v1.03, midpoint (H)',\n",
       "  'ecotoxicity: freshwater',\n",
       "  'freshwater ecotoxicity potential (FETP)'),\n",
       " ('ReCiPe 2016 v1.03, midpoint (H)',\n",
       "  'ecotoxicity: marine',\n",
       "  'marine ecotoxicity potential (METP)'),\n",
       " ('ReCiPe 2016 v1.03, midpoint (H)',\n",
       "  'ecotoxicity: terrestrial',\n",
       "  'terrestrial ecotoxicity potential (TETP)'),\n",
       " ('ReCiPe 2016 v1.03, midpoint (H)',\n",
       "  'energy resources: non-renewable, fossil',\n",
       "  'fossil fuel potential (FFP)'),\n",
       " ('ReCiPe 2016 v1.03, midpoint (H)',\n",
       "  'eutrophication: freshwater',\n",
       "  'freshwater eutrophication potential (FEP)'),\n",
       " ('ReCiPe 2016 v1.03, midpoint (H)',\n",
       "  'eutrophication: marine',\n",
       "  'marine eutrophication potential (MEP)'),\n",
       " ('ReCiPe 2016 v1.03, midpoint (H)',\n",
       "  'human toxicity: carcinogenic',\n",
       "  'human toxicity potential (HTPc)'),\n",
       " ('ReCiPe 2016 v1.03, midpoint (H)',\n",
       "  'human toxicity: non-carcinogenic',\n",
       "  'human toxicity potential (HTPnc)'),\n",
       " ('ReCiPe 2016 v1.03, midpoint (H)',\n",
       "  'ionising radiation',\n",
       "  'ionising radiation potential (IRP)'),\n",
       " ('ReCiPe 2016 v1.03, midpoint (H)',\n",
       "  'land use',\n",
       "  'agricultural land occupation (LOP)'),\n",
       " ('ReCiPe 2016 v1.03, midpoint (H)',\n",
       "  'material resources: metals/minerals',\n",
       "  'surplus ore potential (SOP)'),\n",
       " ('ReCiPe 2016 v1.03, midpoint (H)',\n",
       "  'ozone depletion',\n",
       "  'ozone depletion potential (ODPinfinite)'),\n",
       " ('ReCiPe 2016 v1.03, midpoint (H)',\n",
       "  'particulate matter formation',\n",
       "  'particulate matter formation potential (PMFP)'),\n",
       " ('ReCiPe 2016 v1.03, midpoint (H)',\n",
       "  'photochemical oxidant formation: human health',\n",
       "  'photochemical oxidant formation potential: humans (HOFP)'),\n",
       " ('ReCiPe 2016 v1.03, midpoint (H)',\n",
       "  'photochemical oxidant formation: terrestrial ecosystems',\n",
       "  'photochemical oxidant formation potential: ecosystems (EOFP)'),\n",
       " ('ReCiPe 2016 v1.03, midpoint (H)',\n",
       "  'water use',\n",
       "  'water consumption potential (WCP)'),\n",
       " ('ReCiPe 2016 v1.03, midpoint (I) no LT',\n",
       "  'acidification: terrestrial no LT',\n",
       "  'terrestrial acidification potential (TAP) no LT'),\n",
       " ('ReCiPe 2016 v1.03, midpoint (I) no LT',\n",
       "  'climate change no LT',\n",
       "  'global warming potential (GWP1000) no LT'),\n",
       " ('ReCiPe 2016 v1.03, midpoint (I) no LT',\n",
       "  'ecotoxicity: freshwater no LT',\n",
       "  'freshwater ecotoxicity potential (FETP) no LT'),\n",
       " ('ReCiPe 2016 v1.03, midpoint (I) no LT',\n",
       "  'ecotoxicity: marine no LT',\n",
       "  'marine ecotoxicity potential (METP) no LT'),\n",
       " ('ReCiPe 2016 v1.03, midpoint (I) no LT',\n",
       "  'ecotoxicity: terrestrial no LT',\n",
       "  'terrestrial ecotoxicity potential (TETP) no LT'),\n",
       " ('ReCiPe 2016 v1.03, midpoint (I) no LT',\n",
       "  'energy resources: non-renewable, fossil no LT',\n",
       "  'fossil fuel potential (FFP) no LT'),\n",
       " ('ReCiPe 2016 v1.03, midpoint (I) no LT',\n",
       "  'eutrophication: freshwater no LT',\n",
       "  'freshwater eutrophication potential (FEP) no LT'),\n",
       " ('ReCiPe 2016 v1.03, midpoint (I) no LT',\n",
       "  'eutrophication: marine no LT',\n",
       "  'marine eutrophication potential (MEP) no LT'),\n",
       " ('ReCiPe 2016 v1.03, midpoint (I) no LT',\n",
       "  'human toxicity: carcinogenic no LT',\n",
       "  'human toxicity potential (HTPc) no LT'),\n",
       " ('ReCiPe 2016 v1.03, midpoint (I) no LT',\n",
       "  'human toxicity: non-carcinogenic no LT',\n",
       "  'human toxicity potential (HTPnc) no LT'),\n",
       " ('ReCiPe 2016 v1.03, midpoint (I) no LT',\n",
       "  'ionising radiation no LT',\n",
       "  'ionising radiation potential (IRP) no LT'),\n",
       " ('ReCiPe 2016 v1.03, midpoint (I) no LT',\n",
       "  'land use no LT',\n",
       "  'agricultural land occupation (LOP) no LT'),\n",
       " ('ReCiPe 2016 v1.03, midpoint (I) no LT',\n",
       "  'material resources: metals/minerals no LT',\n",
       "  'surplus ore potential (SOP) no LT'),\n",
       " ('ReCiPe 2016 v1.03, midpoint (I) no LT',\n",
       "  'ozone depletion no LT',\n",
       "  'ozone depletion potential (ODPinfinite) no LT'),\n",
       " ('ReCiPe 2016 v1.03, midpoint (I) no LT',\n",
       "  'particulate matter formation no LT',\n",
       "  'particulate matter formation potential (PMFP) no LT'),\n",
       " ('ReCiPe 2016 v1.03, midpoint (I) no LT',\n",
       "  'photochemical oxidant formation: human health no LT',\n",
       "  'photochemical oxidant formation potential: humans (HOFP) no LT'),\n",
       " ('ReCiPe 2016 v1.03, midpoint (I) no LT',\n",
       "  'photochemical oxidant formation: terrestrial ecosystems no LT',\n",
       "  'photochemical oxidant formation potential: ecosystems (EOFP) no LT'),\n",
       " ('ReCiPe 2016 v1.03, midpoint (I) no LT',\n",
       "  'water use no LT',\n",
       "  'water consumption potential (WCP) no LT'),\n",
       " ('ReCiPe 2016 v1.03, midpoint (I)',\n",
       "  'acidification: terrestrial',\n",
       "  'terrestrial acidification potential (TAP)'),\n",
       " ('ReCiPe 2016 v1.03, midpoint (I)',\n",
       "  'climate change',\n",
       "  'global warming potential (GWP1000)'),\n",
       " ('ReCiPe 2016 v1.03, midpoint (I)',\n",
       "  'ecotoxicity: freshwater',\n",
       "  'freshwater ecotoxicity potential (FETP)'),\n",
       " ('ReCiPe 2016 v1.03, midpoint (I)',\n",
       "  'ecotoxicity: marine',\n",
       "  'marine ecotoxicity potential (METP)'),\n",
       " ('ReCiPe 2016 v1.03, midpoint (I)',\n",
       "  'ecotoxicity: terrestrial',\n",
       "  'terrestrial ecotoxicity potential (TETP)'),\n",
       " ('ReCiPe 2016 v1.03, midpoint (I)',\n",
       "  'energy resources: non-renewable, fossil',\n",
       "  'fossil fuel potential (FFP)'),\n",
       " ('ReCiPe 2016 v1.03, midpoint (I)',\n",
       "  'eutrophication: freshwater',\n",
       "  'freshwater eutrophication potential (FEP)'),\n",
       " ('ReCiPe 2016 v1.03, midpoint (I)',\n",
       "  'eutrophication: marine',\n",
       "  'marine eutrophication potential (MEP)'),\n",
       " ('ReCiPe 2016 v1.03, midpoint (I)',\n",
       "  'human toxicity: carcinogenic',\n",
       "  'human toxicity potential (HTPc)'),\n",
       " ('ReCiPe 2016 v1.03, midpoint (I)',\n",
       "  'human toxicity: non-carcinogenic',\n",
       "  'human toxicity potential (HTPnc)'),\n",
       " ('ReCiPe 2016 v1.03, midpoint (I)',\n",
       "  'ionising radiation',\n",
       "  'ionising radiation potential (IRP)'),\n",
       " ('ReCiPe 2016 v1.03, midpoint (I)',\n",
       "  'land use',\n",
       "  'agricultural land occupation (LOP)'),\n",
       " ('ReCiPe 2016 v1.03, midpoint (I)',\n",
       "  'material resources: metals/minerals',\n",
       "  'surplus ore potential (SOP)'),\n",
       " ('ReCiPe 2016 v1.03, midpoint (I)',\n",
       "  'ozone depletion',\n",
       "  'ozone depletion potential (ODPinfinite)'),\n",
       " ('ReCiPe 2016 v1.03, midpoint (I)',\n",
       "  'particulate matter formation',\n",
       "  'particulate matter formation potential (PMFP)'),\n",
       " ('ReCiPe 2016 v1.03, midpoint (I)',\n",
       "  'photochemical oxidant formation: human health',\n",
       "  'photochemical oxidant formation potential: humans (HOFP)'),\n",
       " ('ReCiPe 2016 v1.03, midpoint (I)',\n",
       "  'photochemical oxidant formation: terrestrial ecosystems',\n",
       "  'photochemical oxidant formation potential: ecosystems (EOFP)'),\n",
       " ('ReCiPe 2016 v1.03, midpoint (I)',\n",
       "  'water use',\n",
       "  'water consumption potential (WCP)'),\n",
       " ('selected LCI results, additional', 'air', 'carbon monoxide'),\n",
       " ('selected LCI results, additional', 'air', 'lead'),\n",
       " ('selected LCI results, additional', 'air', 'methane'),\n",
       " ('selected LCI results, additional', 'air', 'N2O'),\n",
       " ('selected LCI results, additional', 'air', 'particulates'),\n",
       " ('selected LCI results, additional', 'air', 'particulates >10 um'),\n",
       " ('selected LCI results, additional', 'air', 'particulates, >2.5 um and <10'),\n",
       " ('selected LCI results, additional', 'air', 'zinc'),\n",
       " ('selected LCI results, additional', 'air, radioactive', 'actinides'),\n",
       " ('selected LCI results, additional', 'air, radioactive', 'aerosole'),\n",
       " ('selected LCI results, additional', 'air, radioactive', 'noble gas'),\n",
       " ('selected LCI results, additional', 'air, radioactive', 'radon (+ radium)'),\n",
       " ('selected LCI results, additional', 'resource', 'carbon, biogenic, fixed'),\n",
       " ('selected LCI results, additional', 'resource', 'water'),\n",
       " ('selected LCI results, additional', 'total', 'heat, waste'),\n",
       " ('selected LCI results, additional', 'total', 'oils, unspecified'),\n",
       " ('selected LCI results, additional', 'water, radioactive', 'actinides'),\n",
       " ('selected LCI results, additional', 'water, radioactive', 'nuclides'),\n",
       " ('selected LCI results, additional', 'water, radioactive', 'radium'),\n",
       " ('selected LCI results, additional', 'water, radioactive', 'tritium'),\n",
       " ('selected LCI results', 'air', 'CO2, fossil'),\n",
       " ('selected LCI results', 'air', 'nitrogen oxides'),\n",
       " ('selected LCI results', 'air', 'NMVOC'),\n",
       " ('selected LCI results', 'air', 'particulates, < 2.5 um'),\n",
       " ('selected LCI results', 'air', 'sulphur dioxide'),\n",
       " ('selected LCI results', 'resource', 'land occupation'),\n",
       " ('selected LCI results', 'soil', 'cadmium'),\n",
       " ('selected LCI results', 'water', 'BOD'),\n",
       " ('TRACI v2.1 no LT',\n",
       "  'acidification no LT',\n",
       "  'acidification potential (AP) no LT'),\n",
       " ('TRACI v2.1 no LT',\n",
       "  'climate change no LT',\n",
       "  'global warming potential (GWP100) no LT'),\n",
       " ('TRACI v2.1 no LT',\n",
       "  'ecotoxicity: freshwater no LT',\n",
       "  'ecotoxicity: freshwater no LT'),\n",
       " ('TRACI v2.1 no LT',\n",
       "  'eutrophication no LT',\n",
       "  'eutrophication potential no LT'),\n",
       " ('TRACI v2.1 no LT',\n",
       "  'human toxicity: carcinogenic no LT',\n",
       "  'human toxicity: carcinogenic no LT'),\n",
       " ('TRACI v2.1 no LT',\n",
       "  'human toxicity: non-carcinogenic no LT',\n",
       "  'human toxicity: non-carcinogenic no LT'),\n",
       " ('TRACI v2.1 no LT',\n",
       "  'ozone depletion no LT',\n",
       "  'ozone depletion potential (ODP) no LT'),\n",
       " ('TRACI v2.1 no LT',\n",
       "  'particulate matter formation no LT',\n",
       "  'particulate matter formation potential (PMFP) no LT'),\n",
       " ('TRACI v2.1 no LT',\n",
       "  'photochemical oxidant formation no LT',\n",
       "  'maximum incremental reactivity (MIR) no LT'),\n",
       " ('TRACI v2.1', 'acidification', 'acidification potential (AP)'),\n",
       " ('TRACI v2.1', 'climate change', 'global warming potential (GWP100)'),\n",
       " ('TRACI v2.1', 'ecotoxicity: freshwater', 'ecotoxicity: freshwater'),\n",
       " ('TRACI v2.1', 'eutrophication', 'eutrophication potential'),\n",
       " ('TRACI v2.1',\n",
       "  'human toxicity: carcinogenic',\n",
       "  'human toxicity: carcinogenic'),\n",
       " ('TRACI v2.1',\n",
       "  'human toxicity: non-carcinogenic',\n",
       "  'human toxicity: non-carcinogenic'),\n",
       " ('TRACI v2.1', 'ozone depletion', 'ozone depletion potential (ODP)'),\n",
       " ('TRACI v2.1',\n",
       "  'particulate matter formation',\n",
       "  'particulate matter formation potential (PMFP)'),\n",
       " ('TRACI v2.1',\n",
       "  'photochemical oxidant formation',\n",
       "  'maximum incremental reactivity (MIR)'),\n",
       " ('USEtox no LT', 'ecotoxicity no LT', 'total no LT'),\n",
       " ('USEtox no LT', 'human toxicity no LT', 'carcinogenic no LT'),\n",
       " ('USEtox no LT', 'human toxicity no LT', 'non-carcinogenic no LT'),\n",
       " ('USEtox no LT', 'human toxicity no LT', 'total no LT'),\n",
       " ('USEtox', 'ecotoxicity', 'total'),\n",
       " ('USEtox', 'human toxicity', 'carcinogenic'),\n",
       " ('USEtox', 'human toxicity', 'non-carcinogenic'),\n",
       " ('USEtox', 'human toxicity', 'total'),\n",
       " ('EF v3.0 EN15804', 'acidification', 'accumulated exceedance (AE)'),\n",
       " ('EF v3.0 EN15804', 'climate change', 'global warming potential (GWP100)'),\n",
       " ('EF v3.0 EN15804',\n",
       "  'climate change: biogenic',\n",
       "  'global warming potential (GWP100)'),\n",
       " ('EF v3.0 EN15804',\n",
       "  'climate change: fossil',\n",
       "  'global warming potential (GWP100)'),\n",
       " ('EF v3.0 EN15804',\n",
       "  'climate change: land use and land use change',\n",
       "  'global warming potential (GWP100)'),\n",
       " ('EF v3.0 EN15804',\n",
       "  'ecotoxicity: freshwater',\n",
       "  'comparative toxic unit for ecosystems (CTUe)'),\n",
       " ('EF v3.0 EN15804',\n",
       "  'energy resources: non-renewable',\n",
       "  'abiotic depletion potential (ADP): fossil fuels'),\n",
       " ('EF v3.0 EN15804',\n",
       "  'eutrophication: freshwater',\n",
       "  'fraction of nutrients reaching freshwater end compartment (P)'),\n",
       " ('EF v3.0 EN15804',\n",
       "  'eutrophication: marine',\n",
       "  'fraction of nutrients reaching marine end compartment (N)'),\n",
       " ('EF v3.0 EN15804',\n",
       "  'eutrophication: terrestrial',\n",
       "  'accumulated exceedance (AE)'),\n",
       " ('EF v3.0 EN15804',\n",
       "  'human toxicity: carcinogenic',\n",
       "  'comparative toxic unit for human (CTUh)'),\n",
       " ('EF v3.0 EN15804',\n",
       "  'human toxicity: non-carcinogenic',\n",
       "  'comparative toxic unit for human (CTUh)'),\n",
       " ('EF v3.0 EN15804',\n",
       "  'ionising radiation: human health',\n",
       "  'human exposure efficiency relative to u235'),\n",
       " ('EF v3.0 EN15804', 'land use', 'soil quality index'),\n",
       " ('EF v3.0 EN15804',\n",
       "  'material resources: metals/minerals',\n",
       "  'abiotic depletion potential (ADP): elements (ultimate reserves)'),\n",
       " ('EF v3.0 EN15804', 'ozone depletion', 'ozone depletion potential (ODP)'),\n",
       " ('EF v3.0 EN15804', 'particulate matter formation', 'impact on human health'),\n",
       " ('EF v3.0 EN15804',\n",
       "  'photochemical oxidant formation: human health',\n",
       "  'tropospheric ozone concentration increase'),\n",
       " ('EF v3.0 EN15804',\n",
       "  'water use',\n",
       "  'user deprivation potential (deprivation-weighted water consumption)'),\n",
       " ('EF v3.1 EN15804', 'acidification', 'accumulated exceedance (AE)'),\n",
       " ('EF v3.1 EN15804', 'climate change', 'global warming potential (GWP100)'),\n",
       " ('EF v3.1 EN15804',\n",
       "  'climate change: biogenic',\n",
       "  'global warming potential (GWP100)'),\n",
       " ('EF v3.1 EN15804',\n",
       "  'climate change: fossil',\n",
       "  'global warming potential (GWP100)'),\n",
       " ('EF v3.1 EN15804',\n",
       "  'climate change: land use and land use change',\n",
       "  'global warming potential (GWP100)'),\n",
       " ('EF v3.1 EN15804',\n",
       "  'ecotoxicity: freshwater',\n",
       "  'comparative toxic unit for ecosystems (CTUe)'),\n",
       " ('EF v3.1 EN15804',\n",
       "  'energy resources: non-renewable',\n",
       "  'abiotic depletion potential (ADP): fossil fuels'),\n",
       " ('EF v3.1 EN15804',\n",
       "  'eutrophication: freshwater',\n",
       "  'fraction of nutrients reaching freshwater end compartment (P)'),\n",
       " ('EF v3.1 EN15804',\n",
       "  'eutrophication: marine',\n",
       "  'fraction of nutrients reaching marine end compartment (N)'),\n",
       " ('EF v3.1 EN15804',\n",
       "  'eutrophication: terrestrial',\n",
       "  'accumulated exceedance (AE)'),\n",
       " ('EF v3.1 EN15804',\n",
       "  'human toxicity: carcinogenic',\n",
       "  'comparative toxic unit for human (CTUh)'),\n",
       " ('EF v3.1 EN15804',\n",
       "  'human toxicity: non-carcinogenic',\n",
       "  'comparative toxic unit for human (CTUh)'),\n",
       " ('EF v3.1 EN15804',\n",
       "  'ionising radiation: human health',\n",
       "  'human exposure efficiency relative to u235'),\n",
       " ('EF v3.1 EN15804', 'land use', 'soil quality index'),\n",
       " ('EF v3.1 EN15804',\n",
       "  'material resources: metals/minerals',\n",
       "  'abiotic depletion potential (ADP): elements (ultimate reserves)'),\n",
       " ('EF v3.1 EN15804', 'ozone depletion', 'ozone depletion potential (ODP)'),\n",
       " ('EF v3.1 EN15804', 'particulate matter formation', 'impact on human health'),\n",
       " ('EF v3.1 EN15804',\n",
       "  'photochemical oxidant formation: human health',\n",
       "  'tropospheric ozone concentration increase'),\n",
       " ('EF v3.1 EN15804',\n",
       "  'water use',\n",
       "  'user deprivation potential (deprivation-weighted water consumption)'),\n",
       " ('EN15804', 'inventory indicators ISO21930', 'exported energy - electricity'),\n",
       " ('EN15804', 'inventory indicators ISO21930', 'exported energy - heat'),\n",
       " ('EN15804', 'inventory indicators ISO21930', 'hazardous waste disposed'),\n",
       " ('EN15804',\n",
       "  'inventory indicators ISO21930',\n",
       "  'high-level radioactive waste disposed'),\n",
       " ('EN15804',\n",
       "  'inventory indicators ISO21930',\n",
       "  'intermediate and low-level radioactive waste disposed'),\n",
       " ('EN15804', 'inventory indicators ISO21930', 'materials for energy recovery'),\n",
       " ('EN15804', 'inventory indicators ISO21930', 'materials for recycling'),\n",
       " ('EN15804', 'inventory indicators ISO21930', 'non-hazardous waste disposed'),\n",
       " ('EN15804', 'inventory indicators ISO21930', 'recovered energy'),\n",
       " ('EN15804', 'inventory indicators ISO21930', 'use of net fresh water'),\n",
       " ('EN15804',\n",
       "  'inventory indicators ISO21930',\n",
       "  'use of renewable secondary fuels'),\n",
       " ('EN15804', 'inventory indicators ISO21930', 'use of secondary material'),\n",
       " ('EN15804',\n",
       "  'inventory indicators ISO21930',\n",
       "  'Cumulative Energy Demand - renewable energy resources'),\n",
       " ('EN15804',\n",
       "  'inventory indicators ISO21930',\n",
       "  'Cumulative Energy Demand - non-renewable energy resources')]"
      ]
     },
     "execution_count": 24,
     "metadata": {},
     "output_type": "execute_result"
    }
   ],
   "source": [
    "list(bd.methods)\n",
    "#bd.methods.list #this produces the same outputs"
   ]
  },
  {
   "cell_type": "markdown",
   "id": "0f519f4b-114a-4f18-a919-f8cd237690a7",
   "metadata": {},
   "source": [
    "For each method, the 1st name is the name of the impact assessment methodology, the 2nd name is the name of the impact category, and the 3rd name is the name of the characterization model. Let's take as an exmaple ('CML v4.8 2016', 'acidification', 'acidification (incl. fate, average Europe total, A&B)': \n",
    "\n",
    "- 'CML v4.8 2016' = impact assessment methodology\n",
    "- 'acidification' = impact category\n",
    "- 'acidification (incl. fate, average Europe total, A&B)' = characterization model/method\n"
   ]
  },
  {
   "cell_type": "markdown",
   "id": "dc00bf64-67a7-4945-a350-aa73388890ba",
   "metadata": {},
   "source": [
    "We get more details about the LCIA methods. Those details are stored as values (bw.methods.values()), with the LCIA method names being the keys (bw.methods.keys()):"
   ]
  },
  {
   "cell_type": "code",
   "execution_count": 25,
   "id": "20cbb7ad-a968-4663-afa7-e78a6783658e",
   "metadata": {},
   "outputs": [
    {
     "name": "stdout",
     "output_type": "stream",
     "text": [
      "('CML v4.8 2016 no LT', 'acidification no LT', 'acidification (incl. fate, average Europe total, A&B) no LT') : {'description': '', 'filename': 'LCIA_Implementation_3.9.xlsx', 'unit': 'kg SO2-Eq', 'abbreviation': 'cml-v48-2016-no-ltaa.9326888b5dfc8ad763461e87dc5a0a9e', 'num_cfs': 21, 'geocollections': ['world']}\n",
      "('CML v4.8 2016 no LT', 'climate change no LT', 'global warming potential (GWP100) no LT') : {'description': '', 'filename': 'LCIA_Implementation_3.9.xlsx', 'unit': 'kg CO2-Eq', 'abbreviation': 'cml-v48-2016-no-ltcg.ef26e472ac5329eeba834f793ba181a9', 'num_cfs': 149, 'geocollections': ['world']}\n",
      "('CML v4.8 2016 no LT', 'ecotoxicity: freshwater no LT', 'freshwater aquatic ecotoxicity (FAETP inf) no LT') : {'description': '', 'filename': 'LCIA_Implementation_3.9.xlsx', 'unit': 'kg 1,4-DCB-Eq', 'abbreviation': 'cml-v48-2016-no-ltef.7bcf2b54b0276df08edfbd557353fcec', 'num_cfs': 692, 'geocollections': ['world']}\n",
      "('CML v4.8 2016 no LT', 'ecotoxicity: marine no LT', 'marine aquatic ecotoxicity (MAETP inf) no LT') : {'description': '', 'filename': 'LCIA_Implementation_3.9.xlsx', 'unit': 'kg 1,4-DCB-Eq', 'abbreviation': 'cml-v48-2016-no-ltem.a0375eb8cf5f50184aec734447fceb07', 'num_cfs': 692, 'geocollections': ['world']}\n",
      "('CML v4.8 2016 no LT', 'ecotoxicity: terrestrial no LT', 'terrestrial ecotoxicity (TETP inf) no LT') : {'description': '', 'filename': 'LCIA_Implementation_3.9.xlsx', 'unit': 'kg 1,4-DCB-Eq', 'abbreviation': 'cml-v48-2016-no-ltet.6cdf31823baa518ac55b3a552853e260', 'num_cfs': 692, 'geocollections': ['world']}\n",
      "('CML v4.8 2016 no LT', 'energy resources: non-renewable no LT', 'abiotic depletion potential (ADP): fossil fuels no LT') : {'description': '', 'filename': 'LCIA_Implementation_3.9.xlsx', 'unit': 'megajoule', 'abbreviation': 'cml-v48-2016-no-ltea.e5a75f64df67c7a7d83e4165deef7bfc', 'num_cfs': 5, 'geocollections': ['world']}\n",
      "('CML v4.8 2016 no LT', 'eutrophication no LT', 'eutrophication (fate not incl.) no LT') : {'description': '', 'filename': 'LCIA_Implementation_3.9.xlsx', 'unit': 'kg PO4-Eq', 'abbreviation': 'cml-v48-2016-no-ltee.0760034aaafd25e8435d412d66977108', 'num_cfs': 73, 'geocollections': ['world']}\n",
      "('CML v4.8 2016 no LT', 'human toxicity no LT', 'human toxicity (HTP inf) no LT') : {'description': '', 'filename': 'LCIA_Implementation_3.9.xlsx', 'unit': 'kg 1,4-DCB-Eq', 'abbreviation': 'cml-v48-2016-no-lthh.b4f403b8130c01a5348b7f43fc782454', 'num_cfs': 686, 'geocollections': ['world']}\n",
      "('CML v4.8 2016 no LT', 'material resources: metals/minerals no LT', 'abiotic depletion potential (ADP): elements (ultimate reserves) no LT') : {'description': '', 'filename': 'LCIA_Implementation_3.9.xlsx', 'unit': 'kg Sb-Eq', 'abbreviation': 'cml-v48-2016-no-ltma.05c512de653374fa57d4c1b96105aaa4', 'num_cfs': 129, 'geocollections': ['world']}\n",
      "('CML v4.8 2016 no LT', 'ozone depletion no LT', 'ozone layer depletion (ODP steady state) no LT') : {'description': '', 'filename': 'LCIA_Implementation_3.9.xlsx', 'unit': 'kg CFC-11-Eq', 'abbreviation': 'cml-v48-2016-no-ltoo.d43247522eec852758c4dc227e9773e9', 'num_cfs': 64, 'geocollections': ['world']}\n",
      "('CML v4.8 2016 no LT', 'photochemical oxidant formation no LT', 'photochemical oxidation (high NOx) no LT') : {'description': '', 'filename': 'LCIA_Implementation_3.9.xlsx', 'unit': 'kg ethylene-Eq', 'abbreviation': 'cml-v48-2016-no-ltpp.654348e86b17aa314d1324a109a9defe', 'num_cfs': 252, 'geocollections': ['world']}\n",
      "('CML v4.8 2016', 'acidification', 'acidification (incl. fate, average Europe total, A&B)') : {'description': '', 'filename': 'LCIA_Implementation_3.9.xlsx', 'unit': 'kg SO2-Eq', 'abbreviation': 'cml-v48-2016aa.dabb63ec4fa65348da4d153bee4888b2', 'num_cfs': 26, 'geocollections': ['world']}\n",
      "('CML v4.8 2016', 'climate change', 'global warming potential (GWP100)') : {'description': '', 'filename': 'LCIA_Implementation_3.9.xlsx', 'unit': 'kg CO2-Eq', 'abbreviation': 'cml-v48-2016cg.231d6e8f8b1c199a47182515eba4032e', 'num_cfs': 185, 'geocollections': ['world']}\n",
      "('CML v4.8 2016', 'ecotoxicity: freshwater', 'freshwater aquatic ecotoxicity (FAETP inf)') : {'description': '', 'filename': 'LCIA_Implementation_3.9.xlsx', 'unit': 'kg 1,4-DCB-Eq', 'abbreviation': 'cml-v48-2016ef.803983b018c3cc9559cabea0ee94323f', 'num_cfs': 800, 'geocollections': ['world']}\n",
      "('CML v4.8 2016', 'ecotoxicity: marine', 'marine aquatic ecotoxicity (MAETP inf)') : {'description': '', 'filename': 'LCIA_Implementation_3.9.xlsx', 'unit': 'kg 1,4-DCB-Eq', 'abbreviation': 'cml-v48-2016em.b558064bea27501547a2577a72680581', 'num_cfs': 800, 'geocollections': ['world']}\n",
      "('CML v4.8 2016', 'ecotoxicity: terrestrial', 'terrestrial ecotoxicity (TETP inf)') : {'description': '', 'filename': 'LCIA_Implementation_3.9.xlsx', 'unit': 'kg 1,4-DCB-Eq', 'abbreviation': 'cml-v48-2016et.58a9c4f9714f0591bc0ed845bbf010a5', 'num_cfs': 800, 'geocollections': ['world']}\n",
      "('CML v4.8 2016', 'energy resources: non-renewable', 'abiotic depletion potential (ADP): fossil fuels') : {'description': '', 'filename': 'LCIA_Implementation_3.9.xlsx', 'unit': 'megajoule', 'abbreviation': 'cml-v48-2016ea.48bc7aa078213d04df81ded6e6235e42', 'num_cfs': 5, 'geocollections': ['world']}\n",
      "('CML v4.8 2016', 'eutrophication', 'eutrophication (fate not incl.)') : {'description': '', 'filename': 'LCIA_Implementation_3.9.xlsx', 'unit': 'kg PO4-Eq', 'abbreviation': 'cml-v48-2016ee.8bb7e032343e9753f1863befc58e7244', 'num_cfs': 87, 'geocollections': ['world']}\n",
      "('CML v4.8 2016', 'human toxicity', 'human toxicity (HTP inf)') : {'description': '', 'filename': 'LCIA_Implementation_3.9.xlsx', 'unit': 'kg 1,4-DCB-Eq', 'abbreviation': 'cml-v48-2016hh.726cf7a04a5fc77b79782aa999e27899', 'num_cfs': 796, 'geocollections': ['world']}\n",
      "('CML v4.8 2016', 'material resources: metals/minerals', 'abiotic depletion potential (ADP): elements (ultimate reserves)') : {'description': '', 'filename': 'LCIA_Implementation_3.9.xlsx', 'unit': 'kg Sb-Eq', 'abbreviation': 'cml-v48-2016ma.6d864f84e736749817c5887d65a92588', 'num_cfs': 129, 'geocollections': ['world']}\n",
      "('CML v4.8 2016', 'ozone depletion', 'ozone layer depletion (ODP steady state)') : {'description': '', 'filename': 'LCIA_Implementation_3.9.xlsx', 'unit': 'kg CFC-11-Eq', 'abbreviation': 'cml-v48-2016oo.1c9d75a11947940de4b45037a96f3d91', 'num_cfs': 80, 'geocollections': ['world']}\n",
      "('CML v4.8 2016', 'photochemical oxidant formation', 'photochemical oxidation (high NOx)') : {'description': '', 'filename': 'LCIA_Implementation_3.9.xlsx', 'unit': 'kg ethylene-Eq', 'abbreviation': 'cml-v48-2016pp.c31c567e0da047f9bf8e6859ccbc2bed', 'num_cfs': 314, 'geocollections': ['world']}\n",
      "('Crustal Scarcity Indicator 2020', 'material resources: metals/minerals', 'crustal scarcity potential (CSP)') : {'description': '', 'filename': 'LCIA_Implementation_3.9.xlsx', 'unit': 'kg Si-Eq', 'abbreviation': 'crustal-scarcity-indicator-2020mc.9abeae126e151c80ad0f3b56584a5dc2', 'num_cfs': 216, 'geocollections': ['world']}\n",
      "('Cumulative Energy Demand (CED)', 'energy resources: non-renewable', 'energy content (HHV)') : {'description': '', 'filename': 'LCIA_Implementation_3.9.xlsx', 'unit': 'MJ-Eq', 'abbreviation': 'cumulative-energy-demand-cedee.711b20dfef4a9a07a4f4ad88500d1bfb', 'num_cfs': 8, 'geocollections': ['world']}\n",
      "('Cumulative Energy Demand (CED)', 'energy resources: non-renewable, biomass', 'energy content (HHV)') : {'description': '', 'filename': 'LCIA_Implementation_3.9.xlsx', 'unit': 'MJ-Eq', 'abbreviation': 'cumulative-energy-demand-cedee.3f25cbc26fbb68a36a95da2c84b8621d', 'num_cfs': 1, 'geocollections': ['world']}\n",
      "('Cumulative Energy Demand (CED)', 'energy resources: non-renewable, fossil', 'energy content (HHV)') : {'description': '', 'filename': 'LCIA_Implementation_3.9.xlsx', 'unit': 'MJ-Eq', 'abbreviation': 'cumulative-energy-demand-cedee.86ace9d80d465a7b866bc23257271425', 'num_cfs': 6, 'geocollections': ['world']}\n",
      "('Cumulative Energy Demand (CED)', 'energy resources: non-renewable, nuclear', 'energy content (HHV)') : {'description': '', 'filename': 'LCIA_Implementation_3.9.xlsx', 'unit': 'MJ-Eq', 'abbreviation': 'cumulative-energy-demand-cedee.54e1efe53242dc8f8a56c6f2c9f7e804', 'num_cfs': 1, 'geocollections': ['world']}\n",
      "('Cumulative Energy Demand (CED)', 'energy resources: renewable', 'energy content (HHV)') : {'description': '', 'filename': 'LCIA_Implementation_3.9.xlsx', 'unit': 'MJ-Eq', 'abbreviation': 'cumulative-energy-demand-cedee.acf98354aa38c0bed0fb32591f7e739f', 'num_cfs': 5, 'geocollections': ['world']}\n",
      "('Cumulative Energy Demand (CED)', 'energy resources: renewable, biomass', 'energy content (HHV)') : {'description': '', 'filename': 'LCIA_Implementation_3.9.xlsx', 'unit': 'MJ-Eq', 'abbreviation': 'cumulative-energy-demand-cedee.099420d32fa3457841724aba87ff2d19', 'num_cfs': 1, 'geocollections': ['world']}\n",
      "('Cumulative Energy Demand (CED)', 'energy resources: renewable, geothermal', 'energy content (HHV)') : {'description': '', 'filename': 'LCIA_Implementation_3.9.xlsx', 'unit': 'MJ-Eq', 'abbreviation': 'cumulative-energy-demand-cedee.733c853d4635303b8ae6fb5e91cac347', 'num_cfs': 1, 'geocollections': ['world']}\n",
      "('Cumulative Energy Demand (CED)', 'energy resources: renewable, geothermal, solar, wind', 'energy content (HHV)') : {'description': '', 'filename': 'LCIA_Implementation_3.9.xlsx', 'unit': 'MJ-Eq', 'abbreviation': 'cumulative-energy-demand-cedee.cf2069e2e31e1939a43785f274858b25', 'num_cfs': 3, 'geocollections': ['world']}\n",
      "('Cumulative Energy Demand (CED)', 'energy resources: renewable, solar', 'energy content (HHV)') : {'description': '', 'filename': 'LCIA_Implementation_3.9.xlsx', 'unit': 'MJ-Eq', 'abbreviation': 'cumulative-energy-demand-cedee.a3a892cb2e66b300694baa65d5b69a10', 'num_cfs': 1, 'geocollections': ['world']}\n",
      "('Cumulative Energy Demand (CED)', 'energy resources: renewable, water', 'energy content (HHV)') : {'description': '', 'filename': 'LCIA_Implementation_3.9.xlsx', 'unit': 'MJ-Eq', 'abbreviation': 'cumulative-energy-demand-cedee.644df24de258bc9ee29f2585ce58ef14', 'num_cfs': 1, 'geocollections': ['world']}\n",
      "('Cumulative Energy Demand (CED)', 'energy resources: renewable, wind', 'energy content (HHV)') : {'description': '', 'filename': 'LCIA_Implementation_3.9.xlsx', 'unit': 'MJ-Eq', 'abbreviation': 'cumulative-energy-demand-cedee.964354bfebfe841b8ce610d30fcb7754', 'num_cfs': 1, 'geocollections': ['world']}\n",
      "('Cumulative Energy Demand (CED)', 'total', 'energy content (HHV)') : {'description': '', 'filename': 'LCIA_Implementation_3.9.xlsx', 'unit': 'MJ-Eq', 'abbreviation': 'cumulative-energy-demand-cedte.a9b5eb5934dd1f9719796c9625f25a11', 'num_cfs': 13, 'geocollections': ['world']}\n",
      "('Cumulative Exergy Demand (CExD)', 'energy resources: non-renewable', 'exergy content') : {'description': '', 'filename': 'LCIA_Implementation_3.9.xlsx', 'unit': 'MJ-Eq', 'abbreviation': 'cumulative-exergy-demand-cexdee.0197d93d4b059cf876e1a60b66c8c5c8', 'num_cfs': 8, 'geocollections': ['world']}\n",
      "('Cumulative Exergy Demand (CExD)', 'energy resources: non-renewable, biomass', 'exergy content') : {'description': '', 'filename': 'LCIA_Implementation_3.9.xlsx', 'unit': 'MJ-Eq', 'abbreviation': 'cumulative-exergy-demand-cexdee.be8cf42249a429dc80a1fafee57647d3', 'num_cfs': 1, 'geocollections': ['world']}\n",
      "('Cumulative Exergy Demand (CExD)', 'energy resources: non-renewable, fossil', 'exergy content') : {'description': '', 'filename': 'LCIA_Implementation_3.9.xlsx', 'unit': 'MJ-Eq', 'abbreviation': 'cumulative-exergy-demand-cexdee.76fc755d65adfde1eed99f0ffb7ef1d7', 'num_cfs': 6, 'geocollections': ['world']}\n",
      "('Cumulative Exergy Demand (CExD)', 'energy resources: non-renewable, nuclear', 'exergy content') : {'description': '', 'filename': 'LCIA_Implementation_3.9.xlsx', 'unit': 'MJ-Eq', 'abbreviation': 'cumulative-exergy-demand-cexdee.caf2532bfc51c7fedc1ae3bc158753ca', 'num_cfs': 1, 'geocollections': ['world']}\n",
      "('Cumulative Exergy Demand (CExD)', 'energy resources: renewable', 'exergy content') : {'description': '', 'filename': 'LCIA_Implementation_3.9.xlsx', 'unit': 'MJ-Eq', 'abbreviation': 'cumulative-exergy-demand-cexdee.f0a781d1ce4a81a4bbd98620a1af04da', 'num_cfs': 4, 'geocollections': ['world']}\n",
      "('Cumulative Exergy Demand (CExD)', 'energy resources: renewable, biomass', 'exergy content') : {'description': '', 'filename': 'LCIA_Implementation_3.9.xlsx', 'unit': 'MJ-Eq', 'abbreviation': 'cumulative-exergy-demand-cexdee.588afeab0a58bda19bc8a07d220fcd8d', 'num_cfs': 1, 'geocollections': ['world']}\n",
      "('Cumulative Exergy Demand (CExD)', 'energy resources: renewable, solar', 'exergy content') : {'description': '', 'filename': 'LCIA_Implementation_3.9.xlsx', 'unit': 'MJ-Eq', 'abbreviation': 'cumulative-exergy-demand-cexdee.58fd123e12ffa46b119990b0a4876cad', 'num_cfs': 1, 'geocollections': ['world']}\n",
      "('Cumulative Exergy Demand (CExD)', 'energy resources: renewable, water', 'exergy content') : {'description': '', 'filename': 'LCIA_Implementation_3.9.xlsx', 'unit': 'MJ-Eq', 'abbreviation': 'cumulative-exergy-demand-cexdee.53298df826a3488803918149220867fd', 'num_cfs': 1, 'geocollections': ['world']}\n",
      "('Cumulative Exergy Demand (CExD)', 'energy resources: renewable, wind', 'exergy content') : {'description': '', 'filename': 'LCIA_Implementation_3.9.xlsx', 'unit': 'MJ-Eq', 'abbreviation': 'cumulative-exergy-demand-cexdee.d2702e4e4fa3d85909c5b71fe6d895aa', 'num_cfs': 1, 'geocollections': ['world']}\n",
      "('Cumulative Exergy Demand (CExD)', 'material resources', 'exergy content') : {'description': '', 'filename': 'LCIA_Implementation_3.9.xlsx', 'unit': 'MJ-Eq', 'abbreviation': 'cumulative-exergy-demand-cexdme.a65dc18e8101a6fd9c673cfa21162d40', 'num_cfs': 154, 'geocollections': ['world']}\n",
      "('Cumulative Exergy Demand (CExD)', 'material resources: metals', 'exergy content') : {'description': '', 'filename': 'LCIA_Implementation_3.9.xlsx', 'unit': 'MJ-Eq', 'abbreviation': 'cumulative-exergy-demand-cexdme.afff450c9432587837b7e28c0ea99e4a', 'num_cfs': 102, 'geocollections': ['world']}\n",
      "('Cumulative Exergy Demand (CExD)', 'material resources: minerals', 'exergy content') : {'description': '', 'filename': 'LCIA_Implementation_3.9.xlsx', 'unit': 'MJ-Eq', 'abbreviation': 'cumulative-exergy-demand-cexdme.634d919c05bc8facb839456695a6fc0a', 'num_cfs': 46, 'geocollections': ['world']}\n",
      "('Cumulative Exergy Demand (CExD)', 'material resources: water', 'exergy content') : {'description': '', 'filename': 'LCIA_Implementation_3.9.xlsx', 'unit': 'MJ-Eq', 'abbreviation': 'cumulative-exergy-demand-cexdme.14bfea4e66e8855949f6ab42d136bd7e', 'num_cfs': 6, 'geocollections': ['world']}\n",
      "('Cumulative Exergy Demand (CExD)', 'total', 'exergy content') : {'description': '', 'filename': 'LCIA_Implementation_3.9.xlsx', 'unit': 'MJ-Eq', 'abbreviation': 'cumulative-exergy-demand-cexdte.8f791c3f233ad6e89f980b0d7da94e61', 'num_cfs': 166, 'geocollections': ['world']}\n",
      "('Ecological Footprint', 'CO2', 'global hectares') : {'description': '', 'filename': 'LCIA_Implementation_3.9.xlsx', 'unit': 'square meter-year', 'abbreviation': 'ecological-footprintcg.e69eeec4f580cf816cae45ab8037c8c6', 'num_cfs': 14, 'geocollections': ['world']}\n",
      "('Ecological Footprint', 'land occupation', 'global hectares') : {'description': '', 'filename': 'LCIA_Implementation_3.9.xlsx', 'unit': 'square meter-year', 'abbreviation': 'ecological-footprintlg.c415fc7f002516e45df68ce23a4a8ae7', 'num_cfs': 58, 'geocollections': ['world']}\n",
      "('Ecological Footprint', 'nuclear', 'global hectares') : {'description': '', 'filename': 'LCIA_Implementation_3.9.xlsx', 'unit': 'square meter-year', 'abbreviation': 'ecological-footprintng.ab19c3d3fc932f42730ede6a3641ca93', 'num_cfs': 1, 'geocollections': ['world']}\n",
      "('Ecological Footprint', 'total', 'global hectares') : {'description': '', 'filename': 'LCIA_Implementation_3.9.xlsx', 'unit': 'square meter-year', 'abbreviation': 'ecological-footprinttg.bdd2051db9549757f39bd94bb8f204fb', 'num_cfs': 73, 'geocollections': ['world']}\n",
      "('Ecological Scarcity 2021 no LT', 'climate change no LT', 'global warming potential (GWP100) no LT') : {'description': '', 'filename': 'LCIA_Implementation_3.9.xlsx', 'unit': 'UBP', 'abbreviation': 'ecological-scarcity-2021-no-ltcg.5fed5371a2597d8bf9d4500ba4097dbd', 'num_cfs': 97, 'geocollections': ['world']}\n",
      "('Ecological Scarcity 2021 no LT', 'emissions to air no LT', 'air pollutants and PM no LT') : {'description': '', 'filename': 'LCIA_Implementation_3.9.xlsx', 'unit': 'UBP', 'abbreviation': 'ecological-scarcity-2021-no-ltea.9578cb096d21959e63f7dcc2d6618bd2', 'num_cfs': 355, 'geocollections': ['world']}\n",
      "('Ecological Scarcity 2021 no LT', 'emissions to air no LT', 'carcinogenic substances into air no LT') : {'description': '', 'filename': 'LCIA_Implementation_3.9.xlsx', 'unit': 'UBP', 'abbreviation': 'ecological-scarcity-2021-no-ltec.abcd43ba80d20d8827603334581e8191', 'num_cfs': 50, 'geocollections': ['world']}\n",
      "('Ecological Scarcity 2021 no LT', 'emissions to air no LT', 'heavy metals into air no LT') : {'description': '', 'filename': 'LCIA_Implementation_3.9.xlsx', 'unit': 'UBP', 'abbreviation': 'ecological-scarcity-2021-no-lteh.070e41be91ab6eadba03d340ba294edd', 'num_cfs': 32, 'geocollections': ['world']}\n",
      "('Ecological Scarcity 2021 no LT', 'emissions to air no LT', 'radioactive substances into air no LT') : {'description': '', 'filename': 'LCIA_Implementation_3.9.xlsx', 'unit': 'UBP', 'abbreviation': 'ecological-scarcity-2021-no-lter.39175a57f51b9671380b1681be3423dc', 'num_cfs': 96, 'geocollections': ['world']}\n",
      "('Ecological Scarcity 2021 no LT', 'emissions to soil no LT', 'heavy metals into soil no LT') : {'description': '', 'filename': 'LCIA_Implementation_3.9.xlsx', 'unit': 'UBP', 'abbreviation': 'ecological-scarcity-2021-no-lteh.1802903d6f6d565c71e1d4ee29003b80', 'num_cfs': 23, 'geocollections': ['world']}\n",
      "('Ecological Scarcity 2021 no LT', 'emissions to soil no LT', 'pesticides into soil no LT') : {'description': '', 'filename': 'LCIA_Implementation_3.9.xlsx', 'unit': 'UBP', 'abbreviation': 'ecological-scarcity-2021-no-ltep.da653e11a8b992ab8120ba967a602772', 'num_cfs': 368, 'geocollections': ['world']}\n",
      "('Ecological Scarcity 2021 no LT', 'emissions to water no LT', 'heavy metals into water no LT') : {'description': '', 'filename': 'LCIA_Implementation_3.9.xlsx', 'unit': 'UBP', 'abbreviation': 'ecological-scarcity-2021-no-lteh.e65d9c7b6462c7f9c0157e1b822fe475', 'num_cfs': 36, 'geocollections': ['world']}\n",
      "('Ecological Scarcity 2021 no LT', 'emissions to water no LT', 'POP into water no LT') : {'description': '', 'filename': 'LCIA_Implementation_3.9.xlsx', 'unit': 'UBP', 'abbreviation': 'ecological-scarcity-2021-no-ltep.ee24bf1f121cdd1bb5b4173308fa5011', 'num_cfs': 32, 'geocollections': ['world']}\n",
      "('Ecological Scarcity 2021 no LT', 'emissions to water no LT', 'radioactive substances into water no LT') : {'description': '', 'filename': 'LCIA_Implementation_3.9.xlsx', 'unit': 'UBP', 'abbreviation': 'ecological-scarcity-2021-no-lter.82a31674be04442d131327a9338336f0', 'num_cfs': 47, 'geocollections': ['world']}\n",
      "('Ecological Scarcity 2021 no LT', 'emissions to water no LT', 'water pollutants no LT') : {'description': '', 'filename': 'LCIA_Implementation_3.9.xlsx', 'unit': 'UBP', 'abbreviation': 'ecological-scarcity-2021-no-ltew.29f7d1bf0b1dd4a05f0cdef4a9d07d20', 'num_cfs': 88, 'geocollections': ['world']}\n",
      "('Ecological Scarcity 2021 no LT', 'energy resources no LT', 'energy resources no LT') : {'description': '', 'filename': 'LCIA_Implementation_3.9.xlsx', 'unit': 'UBP', 'abbreviation': 'ecological-scarcity-2021-no-ltee.f6ea1b1c1be48f740530c6fc80c7ab66', 'num_cfs': 12, 'geocollections': ['world']}\n",
      "('Ecological Scarcity 2021 no LT', 'land use no LT', 'land use no LT') : {'description': '', 'filename': 'LCIA_Implementation_3.9.xlsx', 'unit': 'UBP', 'abbreviation': 'ecological-scarcity-2021-no-ltll.991821781ef418d2245c22545c13efe3', 'num_cfs': 38, 'geocollections': ['world']}\n",
      "('Ecological Scarcity 2021 no LT', 'mineral resources no LT', 'mineral resources no LT') : {'description': '', 'filename': 'LCIA_Implementation_3.9.xlsx', 'unit': 'UBP', 'abbreviation': 'ecological-scarcity-2021-no-ltmm.90ae9634e1695f43c26ea0178b39b908', 'num_cfs': 175, 'geocollections': ['world']}\n",
      "('Ecological Scarcity 2021 no LT', 'natural resources no LT', 'biotic resources no LT') : {'description': '', 'filename': 'LCIA_Implementation_3.9.xlsx', 'unit': 'UBP', 'abbreviation': 'ecological-scarcity-2021-no-ltnb.7284df48004455ec0286810a1e673744', 'num_cfs': 2, 'geocollections': ['world']}\n",
      "('Ecological Scarcity 2021 no LT', 'ozone depletion no LT', 'ozone depletion no LT') : {'description': '', 'filename': 'LCIA_Implementation_3.9.xlsx', 'unit': 'UBP', 'abbreviation': 'ecological-scarcity-2021-no-ltoo.d4b3b6fc455245ccb8d68c19841a4e83', 'num_cfs': 64, 'geocollections': ['world']}\n",
      "('Ecological Scarcity 2021 no LT', 'total no LT', 'UBP no LT') : {'description': '', 'filename': 'LCIA_Implementation_3.9.xlsx', 'unit': 'UBP', 'abbreviation': 'ecological-scarcity-2021-no-lttu.015438c50e28a194cbe20e867da8f86b', 'num_cfs': 1519, 'geocollections': ['world']}\n",
      "('Ecological Scarcity 2021 no LT', 'waste disposal no LT', 'radioactive waste to deposit no LT') : {'description': '', 'filename': 'LCIA_Implementation_3.9.xlsx', 'unit': 'UBP', 'abbreviation': 'ecological-scarcity-2021-no-ltwr.c886d34dd8757066aeb0edc9b977df73', 'num_cfs': 2, 'geocollections': ['world']}\n",
      "('Ecological Scarcity 2021 no LT', 'waste disposal no LT', 'waste, non radioactive no LT') : {'description': '', 'filename': 'LCIA_Implementation_3.9.xlsx', 'unit': 'UBP', 'abbreviation': 'ecological-scarcity-2021-no-ltww.d8b7414ecde65be765634f19652cd9ce', 'num_cfs': 3, 'geocollections': ['world']}\n",
      "('Ecological Scarcity 2021 no LT', 'water use no LT', 'water resources, evaporated no LT') : {'description': '', 'filename': 'LCIA_Implementation_3.9.xlsx', 'unit': 'UBP', 'abbreviation': 'ecological-scarcity-2021-no-ltww.12429b821c53c06459b5802610ff3d60', 'num_cfs': 4, 'geocollections': ['world']}\n",
      "('Ecological Scarcity 2021', 'climate change', 'global warming potential (GWP100)') : {'description': '', 'filename': 'LCIA_Implementation_3.9.xlsx', 'unit': 'UBP', 'abbreviation': 'ecological-scarcity-2021cg.0191976dad749779438feb5440d77faa', 'num_cfs': 120, 'geocollections': ['world']}\n",
      "('Ecological Scarcity 2021', 'emissions to air', 'air pollutants and PM') : {'description': '', 'filename': 'LCIA_Implementation_3.9.xlsx', 'unit': 'UBP', 'abbreviation': 'ecological-scarcity-2021ea.bf636c0d3448e65da201690b6c6106e1', 'num_cfs': 443, 'geocollections': ['world']}\n",
      "('Ecological Scarcity 2021', 'emissions to air', 'carcinogenic substances into air') : {'description': '', 'filename': 'LCIA_Implementation_3.9.xlsx', 'unit': 'UBP', 'abbreviation': 'ecological-scarcity-2021ec.145782caf869b292a1359aea7d839408', 'num_cfs': 61, 'geocollections': ['world']}\n",
      "('Ecological Scarcity 2021', 'emissions to air', 'heavy metals into air') : {'description': '', 'filename': 'LCIA_Implementation_3.9.xlsx', 'unit': 'UBP', 'abbreviation': 'ecological-scarcity-2021eh.93e19195e52b84b077f775a2845c3176', 'num_cfs': 40, 'geocollections': ['world']}\n",
      "('Ecological Scarcity 2021', 'emissions to air', 'radioactive substances into air') : {'description': '', 'filename': 'LCIA_Implementation_3.9.xlsx', 'unit': 'UBP', 'abbreviation': 'ecological-scarcity-2021er.0b570004d4f0ef90b8f6ed6b3061cb62', 'num_cfs': 120, 'geocollections': ['world']}\n",
      "('Ecological Scarcity 2021', 'emissions to soil', 'heavy metals into soil') : {'description': '', 'filename': 'LCIA_Implementation_3.9.xlsx', 'unit': 'UBP', 'abbreviation': 'ecological-scarcity-2021eh.a233c441da56d1751862745da57de916', 'num_cfs': 23, 'geocollections': ['world']}\n",
      "('Ecological Scarcity 2021', 'emissions to soil', 'pesticides into soil') : {'description': '', 'filename': 'LCIA_Implementation_3.9.xlsx', 'unit': 'UBP', 'abbreviation': 'ecological-scarcity-2021ep.441fb128158bec419a9312ad8328ba42', 'num_cfs': 368, 'geocollections': ['world']}\n",
      "('Ecological Scarcity 2021', 'emissions to water', 'heavy metals into water') : {'description': '', 'filename': 'LCIA_Implementation_3.9.xlsx', 'unit': 'UBP', 'abbreviation': 'ecological-scarcity-2021eh.83dde213e4aa68455aeb3e040e7f5ffd', 'num_cfs': 36, 'geocollections': ['world']}\n",
      "('Ecological Scarcity 2021', 'emissions to water', 'POP into water') : {'description': '', 'filename': 'LCIA_Implementation_3.9.xlsx', 'unit': 'UBP', 'abbreviation': 'ecological-scarcity-2021ep.16dbecad9be49e55d6c5093a7b30cb21', 'num_cfs': 32, 'geocollections': ['world']}\n",
      "('Ecological Scarcity 2021', 'emissions to water', 'radioactive substances into water') : {'description': '', 'filename': 'LCIA_Implementation_3.9.xlsx', 'unit': 'UBP', 'abbreviation': 'ecological-scarcity-2021er.13ae49cc0abed41828fffc8ce7447ae0', 'num_cfs': 47, 'geocollections': ['world']}\n",
      "('Ecological Scarcity 2021', 'emissions to water', 'water pollutants') : {'description': '', 'filename': 'LCIA_Implementation_3.9.xlsx', 'unit': 'UBP', 'abbreviation': 'ecological-scarcity-2021ew.a524369d0ec3002615179126e0cac589', 'num_cfs': 88, 'geocollections': ['world']}\n",
      "('Ecological Scarcity 2021', 'energy resources', 'energy resources') : {'description': '', 'filename': 'LCIA_Implementation_3.9.xlsx', 'unit': 'UBP', 'abbreviation': 'ecological-scarcity-2021ee.f87d5afbae43e6ceb531ee1bc367e2f3', 'num_cfs': 12, 'geocollections': ['world']}\n",
      "('Ecological Scarcity 2021', 'land use', 'land use') : {'description': '', 'filename': 'LCIA_Implementation_3.9.xlsx', 'unit': 'UBP', 'abbreviation': 'ecological-scarcity-2021ll.5783051ccc8c379274ade82b39690f98', 'num_cfs': 38, 'geocollections': ['world']}\n",
      "('Ecological Scarcity 2021', 'mineral resources', 'mineral resources') : {'description': '', 'filename': 'LCIA_Implementation_3.9.xlsx', 'unit': 'UBP', 'abbreviation': 'ecological-scarcity-2021mm.e4a0e67507faa7eebfb99ac0cf17d11f', 'num_cfs': 175, 'geocollections': ['world']}\n",
      "('Ecological Scarcity 2021', 'natural resources', 'biotic resources') : {'description': '', 'filename': 'LCIA_Implementation_3.9.xlsx', 'unit': 'UBP', 'abbreviation': 'ecological-scarcity-2021nb.1636d7049012034a8d181138d60ea774', 'num_cfs': 2, 'geocollections': ['world']}\n",
      "('Ecological Scarcity 2021', 'ozone depletion', 'ozone depletion') : {'description': '', 'filename': 'LCIA_Implementation_3.9.xlsx', 'unit': 'UBP', 'abbreviation': 'ecological-scarcity-2021oo.652bebe8b33b5fdb3f043f772ae085f6', 'num_cfs': 80, 'geocollections': ['world']}\n",
      "('Ecological Scarcity 2021', 'total', 'UBP') : {'description': '', 'filename': 'LCIA_Implementation_3.9.xlsx', 'unit': 'UBP', 'abbreviation': 'ecological-scarcity-2021tu.2c03db9656a2a6750535e3de37dff59e', 'num_cfs': 1691, 'geocollections': ['world']}\n",
      "('Ecological Scarcity 2021', 'waste disposal', 'radioactive waste to deposit') : {'description': '', 'filename': 'LCIA_Implementation_3.9.xlsx', 'unit': 'UBP', 'abbreviation': 'ecological-scarcity-2021wr.8cc70a8b35a4824eb8f6627ee56b09cc', 'num_cfs': 2, 'geocollections': ['world']}\n",
      "('Ecological Scarcity 2021', 'waste disposal', 'waste, non radioactive') : {'description': '', 'filename': 'LCIA_Implementation_3.9.xlsx', 'unit': 'UBP', 'abbreviation': 'ecological-scarcity-2021ww.96a39dd6fab003dba15ea84a2945680d', 'num_cfs': 4, 'geocollections': ['world']}\n",
      "('Ecological Scarcity 2021', 'water use', 'water resources, evaporated') : {'description': '', 'filename': 'LCIA_Implementation_3.9.xlsx', 'unit': 'UBP', 'abbreviation': 'ecological-scarcity-2021ww.3b893208745dbdf8ea0f7d02f1f0c14f', 'num_cfs': 5, 'geocollections': ['world']}\n",
      "('Ecosystem Damage Potential', 'land occupation', 'ecosystem damage potential') : {'description': '', 'filename': 'LCIA_Implementation_3.9.xlsx', 'unit': 'points', 'abbreviation': 'ecosystem-damage-potentialle.af9873e29b4ef1c35aa02c114c4cdbe8', 'num_cfs': 55, 'geocollections': ['world']}\n",
      "('Ecosystem Damage Potential', 'land transformation', 'ecosystem damage potential') : {'description': '', 'filename': 'LCIA_Implementation_3.9.xlsx', 'unit': 'points', 'abbreviation': 'ecosystem-damage-potentialle.4a837e63244195bca182c623ca7f9327', 'num_cfs': 110, 'geocollections': ['world']}\n",
      "('Ecosystem Damage Potential', 'total', 'ecosystem damage potential') : {'description': '', 'filename': 'LCIA_Implementation_3.9.xlsx', 'unit': 'points', 'abbreviation': 'ecosystem-damage-potentialte.2237ccc1b3fc347f6633ba83fc0795e4', 'num_cfs': 165, 'geocollections': ['world']}\n",
      "('EDIP 2003 no LT', 'acidification no LT', 'acidification no LT') : {'description': '', 'filename': 'LCIA_Implementation_3.9.xlsx', 'unit': 'square meter', 'abbreviation': 'edip-2003-no-ltaa.83e68c5a1f8ddf51cb0db07b86699beb', 'num_cfs': 31, 'geocollections': ['world']}\n",
      "('EDIP 2003 no LT', 'ecotoxicity no LT', 'acute, in water no LT') : {'description': '', 'filename': 'LCIA_Implementation_3.9.xlsx', 'unit': 'm3 water', 'abbreviation': 'edip-2003-no-ltea.37f477f5b80527b0406bc6ac9c9b18f8', 'num_cfs': 215, 'geocollections': ['world']}\n",
      "('EDIP 2003 no LT', 'ecotoxicity no LT', 'chronic, in soil no LT') : {'description': '', 'filename': 'LCIA_Implementation_3.9.xlsx', 'unit': 'm3 soil', 'abbreviation': 'edip-2003-no-ltec.588eaf6920a1aa4e71a6de144adb2971', 'num_cfs': 391, 'geocollections': ['world']}\n",
      "('EDIP 2003 no LT', 'ecotoxicity no LT', 'chronic, in water no LT') : {'description': '', 'filename': 'LCIA_Implementation_3.9.xlsx', 'unit': 'm3 water', 'abbreviation': 'edip-2003-no-ltec.963224837e02ebaa3828dd58f5649526', 'num_cfs': 394, 'geocollections': ['world']}\n",
      "('EDIP 2003 no LT', 'ecotoxicity no LT', 'in sewage treatment plants no LT') : {'description': '', 'filename': 'LCIA_Implementation_3.9.xlsx', 'unit': 'm3 waste water', 'abbreviation': 'edip-2003-no-ltei.443b58f494ecc2ab143621e88da19930', 'num_cfs': 151, 'geocollections': ['world']}\n",
      "('EDIP 2003 no LT', 'eutrophication no LT', 'combined potential no LT') : {'description': '', 'filename': 'LCIA_Implementation_3.9.xlsx', 'unit': 'kg NO3-', 'abbreviation': 'edip-2003-no-ltec.0083996d765f2b0bf5213398c637a7c8', 'num_cfs': 100, 'geocollections': ['world']}\n",
      "('EDIP 2003 no LT', 'eutrophication no LT', 'separate N potential no LT') : {'description': '', 'filename': 'LCIA_Implementation_3.9.xlsx', 'unit': 'kg N', 'abbreviation': 'edip-2003-no-ltes.559041e01d5d681f1df56a974f2b78e1', 'num_cfs': 64, 'geocollections': ['world']}\n",
      "('EDIP 2003 no LT', 'eutrophication no LT', 'separate P potential no LT') : {'description': '', 'filename': 'LCIA_Implementation_3.9.xlsx', 'unit': 'kg P', 'abbreviation': 'edip-2003-no-ltes.ef8f2d47f872f61cec2f979372f0435b', 'num_cfs': 16, 'geocollections': ['world']}\n",
      "('EDIP 2003 no LT', 'eutrophication no LT', 'terrestrial eutrophication no LT') : {'description': '', 'filename': 'LCIA_Implementation_3.9.xlsx', 'unit': 'square meter', 'abbreviation': 'edip-2003-no-ltet.220fee9d70ad2c595db69591586fd5f9', 'num_cfs': 8, 'geocollections': ['world']}\n",
      "('EDIP 2003 no LT', 'global warming no LT', 'GWP 100a no LT') : {'description': '', 'filename': 'LCIA_Implementation_3.9.xlsx', 'unit': 'kg CO2-Eq', 'abbreviation': 'edip-2003-no-ltgg.792b1b2f7367c2c985cc8756be1a21fb', 'num_cfs': 474, 'geocollections': ['world']}\n",
      "('EDIP 2003 no LT', 'global warming no LT', 'GWP 20a no LT') : {'description': '', 'filename': 'LCIA_Implementation_3.9.xlsx', 'unit': 'kg CO2-Eq', 'abbreviation': 'edip-2003-no-ltgg.6659c2b22e7cd94e3db6f0717fa9713c', 'num_cfs': 474, 'geocollections': ['world']}\n",
      "('EDIP 2003 no LT', 'global warming no LT', 'GWP 500a no LT') : {'description': '', 'filename': 'LCIA_Implementation_3.9.xlsx', 'unit': 'kg CO2-Eq', 'abbreviation': 'edip-2003-no-ltgg.1615cdccbb02887cc4835efbfa5c1c24', 'num_cfs': 474, 'geocollections': ['world']}\n",
      "('EDIP 2003 no LT', 'human toxicity no LT', 'via air no LT') : {'description': '', 'filename': 'LCIA_Implementation_3.9.xlsx', 'unit': 'm3 air', 'abbreviation': 'edip-2003-no-lthv.30f1c10b59e68bae503fe9735dcbf481', 'num_cfs': 370, 'geocollections': ['world']}\n",
      "('EDIP 2003 no LT', 'human toxicity no LT', 'via soil no LT') : {'description': '', 'filename': 'LCIA_Implementation_3.9.xlsx', 'unit': 'm3 soil', 'abbreviation': 'edip-2003-no-lthv.ea49344131ec98499dfe5ad341f0b999', 'num_cfs': 391, 'geocollections': ['world']}\n",
      "('EDIP 2003 no LT', 'human toxicity no LT', 'via surface water no LT') : {'description': '', 'filename': 'LCIA_Implementation_3.9.xlsx', 'unit': 'm3 water', 'abbreviation': 'edip-2003-no-lthv.607e1845667b23c4350987c160a99da4', 'num_cfs': 453, 'geocollections': ['world']}\n",
      "('EDIP 2003 no LT', 'land filling no LT', 'bulk waste no LT') : {'description': '', 'filename': 'LCIA_Implementation_3.9.xlsx', 'unit': 'kg waste', 'abbreviation': 'edip-2003-no-ltlb.5a6e7d29d0277ecc4b900f32f226d536', 'num_cfs': 3, 'geocollections': ['world']}\n",
      "('EDIP 2003 no LT', 'land filling no LT', 'hazardous waste no LT') : {'description': '', 'filename': 'LCIA_Implementation_3.9.xlsx', 'unit': 'kg waste', 'abbreviation': 'edip-2003-no-ltlh.2a9ff5e179eb0f5ba8bdcdbf799c437b', 'num_cfs': 1, 'geocollections': ['world']}\n",
      "('EDIP 2003 no LT', 'land filling no LT', 'radioactive waste no LT') : {'description': '', 'filename': 'LCIA_Implementation_3.9.xlsx', 'unit': 'kg waste', 'abbreviation': 'edip-2003-no-ltlr.2bb58f712cc7f61e3a0b2bc6df9459a5', 'num_cfs': 2, 'geocollections': ['world']}\n",
      "('EDIP 2003 no LT', 'land filling no LT', 'slag and ashes no LT') : {'description': '', 'filename': 'LCIA_Implementation_3.9.xlsx', 'unit': 'kg waste', 'abbreviation': 'edip-2003-no-ltls.87f0dd2196081d60f226411a31ef44ee', 'num_cfs': 1, 'geocollections': ['world']}\n",
      "('EDIP 2003 no LT', 'non-renewable resources no LT', 'aluminium no LT') : {'description': '', 'filename': 'LCIA_Implementation_3.9.xlsx', 'unit': 'kilogram', 'abbreviation': 'edip-2003-no-ltna.defde8d5bc4d5e2f2dd4afb62abd9ec3', 'num_cfs': 2, 'geocollections': ['world']}\n",
      "('EDIP 2003 no LT', 'non-renewable resources no LT', 'antimony no LT') : {'description': '', 'filename': 'LCIA_Implementation_3.9.xlsx', 'unit': 'kilogram', 'abbreviation': 'edip-2003-no-ltna.267516d0f6bcf86fe6751906ca81ab5e', 'num_cfs': 2, 'geocollections': ['world']}\n",
      "('EDIP 2003 no LT', 'non-renewable resources no LT', 'brown coal no LT') : {'description': '', 'filename': 'LCIA_Implementation_3.9.xlsx', 'unit': 'kilogram', 'abbreviation': 'edip-2003-no-ltnb.6e84f9a0672061a3bff9627f1fccea13', 'num_cfs': 1, 'geocollections': ['world']}\n",
      "('EDIP 2003 no LT', 'non-renewable resources no LT', 'cadmium no LT') : {'description': '', 'filename': 'LCIA_Implementation_3.9.xlsx', 'unit': 'kilogram', 'abbreviation': 'edip-2003-no-ltnc.059e4244f6a65890897176b59a997528', 'num_cfs': 2, 'geocollections': ['world']}\n",
      "('EDIP 2003 no LT', 'non-renewable resources no LT', 'cerium no LT') : {'description': '', 'filename': 'LCIA_Implementation_3.9.xlsx', 'unit': 'kilogram', 'abbreviation': 'edip-2003-no-ltnc.0b5b3e1af08bf76e7db02ac7b8cda254', 'num_cfs': 2, 'geocollections': ['world']}\n",
      "('EDIP 2003 no LT', 'non-renewable resources no LT', 'coal no LT') : {'description': '', 'filename': 'LCIA_Implementation_3.9.xlsx', 'unit': 'kilogram', 'abbreviation': 'edip-2003-no-ltnc.6ea5983ff20c16cb61284ebfc6943e04', 'num_cfs': 1, 'geocollections': ['world']}\n",
      "('EDIP 2003 no LT', 'non-renewable resources no LT', 'cobalt no LT') : {'description': '', 'filename': 'LCIA_Implementation_3.9.xlsx', 'unit': 'kilogram', 'abbreviation': 'edip-2003-no-ltnc.fcd1b4c2fa1da4f9f2bebb42fde62da0', 'num_cfs': 1, 'geocollections': ['world']}\n",
      "('EDIP 2003 no LT', 'non-renewable resources no LT', 'copper no LT') : {'description': '', 'filename': 'LCIA_Implementation_3.9.xlsx', 'unit': 'kilogram', 'abbreviation': 'edip-2003-no-ltnc.35201cd38243408c0aaf173ced08167d', 'num_cfs': 12, 'geocollections': ['world']}\n",
      "('EDIP 2003 no LT', 'non-renewable resources no LT', 'gold no LT') : {'description': '', 'filename': 'LCIA_Implementation_3.9.xlsx', 'unit': 'kilogram', 'abbreviation': 'edip-2003-no-ltng.240cb41538d30611bd3be65415fdea9e', 'num_cfs': 10, 'geocollections': ['world']}\n",
      "('EDIP 2003 no LT', 'non-renewable resources no LT', 'iron no LT') : {'description': '', 'filename': 'LCIA_Implementation_3.9.xlsx', 'unit': 'kilogram', 'abbreviation': 'edip-2003-no-ltni.2e691b3597902e8244605f17d1b2be7b', 'num_cfs': 2, 'geocollections': ['world']}\n",
      "('EDIP 2003 no LT', 'non-renewable resources no LT', 'lanthanum no LT') : {'description': '', 'filename': 'LCIA_Implementation_3.9.xlsx', 'unit': 'kilogram', 'abbreviation': 'edip-2003-no-ltnl.bf3d05dc12d44cc4dd636ca79f1e334d', 'num_cfs': 2, 'geocollections': ['world']}\n",
      "('EDIP 2003 no LT', 'non-renewable resources no LT', 'lead no LT') : {'description': '', 'filename': 'LCIA_Implementation_3.9.xlsx', 'unit': 'kilogram', 'abbreviation': 'edip-2003-no-ltnl.10ad4bd7458976f43e28022879a36b4c', 'num_cfs': 3, 'geocollections': ['world']}\n",
      "('EDIP 2003 no LT', 'non-renewable resources no LT', 'manganese no LT') : {'description': '', 'filename': 'LCIA_Implementation_3.9.xlsx', 'unit': 'kilogram', 'abbreviation': 'edip-2003-no-ltnm.d3a261791c7280cb1dc0b5713f643bf7', 'num_cfs': 3, 'geocollections': ['world']}\n",
      "('EDIP 2003 no LT', 'non-renewable resources no LT', 'mercury no LT') : {'description': '', 'filename': 'LCIA_Implementation_3.9.xlsx', 'unit': 'kilogram', 'abbreviation': 'edip-2003-no-ltnm.3030d732647e6816d7e1029d45d10f61', 'num_cfs': 2, 'geocollections': ['world']}\n",
      "('EDIP 2003 no LT', 'non-renewable resources no LT', 'molybdenum no LT') : {'description': '', 'filename': 'LCIA_Implementation_3.9.xlsx', 'unit': 'kilogram', 'abbreviation': 'edip-2003-no-ltnm.11bb4a6864b1e3a0071b8a6ef600a21e', 'num_cfs': 8, 'geocollections': ['world']}\n",
      "('EDIP 2003 no LT', 'non-renewable resources no LT', 'natural gas no LT') : {'description': '', 'filename': 'LCIA_Implementation_3.9.xlsx', 'unit': 'kilogram', 'abbreviation': 'edip-2003-no-ltnn.f5e99e59ebe78c08dbb30b38aabffe04', 'num_cfs': 2, 'geocollections': ['world']}\n",
      "('EDIP 2003 no LT', 'non-renewable resources no LT', 'nickel no LT') : {'description': '', 'filename': 'LCIA_Implementation_3.9.xlsx', 'unit': 'kilogram', 'abbreviation': 'edip-2003-no-ltnn.def1b8c35d6b90e181addba3b3f170d1', 'num_cfs': 5, 'geocollections': ['world']}\n",
      "('EDIP 2003 no LT', 'non-renewable resources no LT', 'oil no LT') : {'description': '', 'filename': 'LCIA_Implementation_3.9.xlsx', 'unit': 'kilogram', 'abbreviation': 'edip-2003-no-ltno.181f5260b4b7142bb27758ac39536f3a', 'num_cfs': 1, 'geocollections': ['world']}\n",
      "('EDIP 2003 no LT', 'non-renewable resources no LT', 'palladium no LT') : {'description': '', 'filename': 'LCIA_Implementation_3.9.xlsx', 'unit': 'kilogram', 'abbreviation': 'edip-2003-no-ltnp.d4811edb21786f07d3c02ec5df29cf8e', 'num_cfs': 3, 'geocollections': ['world']}\n",
      "('EDIP 2003 no LT', 'non-renewable resources no LT', 'platinum no LT') : {'description': '', 'filename': 'LCIA_Implementation_3.9.xlsx', 'unit': 'kilogram', 'abbreviation': 'edip-2003-no-ltnp.4c1535f1b0bbc1d7d525bf00cc5346b7', 'num_cfs': 3, 'geocollections': ['world']}\n",
      "('EDIP 2003 no LT', 'non-renewable resources no LT', 'silver no LT') : {'description': '', 'filename': 'LCIA_Implementation_3.9.xlsx', 'unit': 'kilogram', 'abbreviation': 'edip-2003-no-ltns.7230d0dfbf46c421676ddaedf36deb7b', 'num_cfs': 8, 'geocollections': ['world']}\n",
      "('EDIP 2003 no LT', 'non-renewable resources no LT', 'tantalum no LT') : {'description': '', 'filename': 'LCIA_Implementation_3.9.xlsx', 'unit': 'kilogram', 'abbreviation': 'edip-2003-no-ltnt.c4917354efa6be485f465fea67b14810', 'num_cfs': 2, 'geocollections': ['world']}\n",
      "('EDIP 2003 no LT', 'non-renewable resources no LT', 'tin no LT') : {'description': '', 'filename': 'LCIA_Implementation_3.9.xlsx', 'unit': 'kilogram', 'abbreviation': 'edip-2003-no-ltnt.591c62dfc053212ba1562dd2c2bbda2f', 'num_cfs': 2, 'geocollections': ['world']}\n",
      "('EDIP 2003 no LT', 'non-renewable resources no LT', 'zinc no LT') : {'description': '', 'filename': 'LCIA_Implementation_3.9.xlsx', 'unit': 'kilogram', 'abbreviation': 'edip-2003-no-ltnz.2c00cd0a25e23784a0765db656fb3496', 'num_cfs': 3, 'geocollections': ['world']}\n",
      "('EDIP 2003 no LT', 'photochemical ozone formation no LT', 'impacts on human health no LT') : {'description': '', 'filename': 'LCIA_Implementation_3.9.xlsx', 'unit': 'person.ppm.h', 'abbreviation': 'edip-2003-no-ltpi.92eefecb9f60266c3d4fe7c70abc31e6', 'num_cfs': 410, 'geocollections': ['world']}\n",
      "('EDIP 2003 no LT', 'photochemical ozone formation no LT', 'impacts on vegetation no LT') : {'description': '', 'filename': 'LCIA_Implementation_3.9.xlsx', 'unit': 'm2.ppm.h', 'abbreviation': 'edip-2003-no-ltpi.7bfe61020743e03187725fdf05a84eac', 'num_cfs': 430, 'geocollections': ['world']}\n",
      "('EDIP 2003 no LT', 'renewable resources no LT', 'wood no LT') : {'description': '', 'filename': 'LCIA_Implementation_3.9.xlsx', 'unit': 'cubic meter', 'abbreviation': 'edip-2003-no-ltrw.3d761555b928ea40dd8df7f19c72c8f2', 'num_cfs': 4, 'geocollections': ['world']}\n",
      "('EDIP 2003 no LT', 'stratospheric ozone depletion no LT', 'ODP total no LT') : {'description': '', 'filename': 'LCIA_Implementation_3.9.xlsx', 'unit': 'kg CFC-11-Eq', 'abbreviation': 'edip-2003-no-ltso.14f616451a536fc3938ee0ba5ae7b682', 'num_cfs': 64, 'geocollections': ['world']}\n",
      "('EDIP 2003', 'acidification', 'acidification') : {'description': '', 'filename': 'LCIA_Implementation_3.9.xlsx', 'unit': 'square meter', 'abbreviation': 'edip-2003aa.6b8b9606a80fc028d478b3e229eab4c3', 'num_cfs': 39, 'geocollections': ['world']}\n",
      "('EDIP 2003', 'ecotoxicity', 'acute, in water') : {'description': '', 'filename': 'LCIA_Implementation_3.9.xlsx', 'unit': 'm3 water', 'abbreviation': 'edip-2003ea.2f45db6d47d6db4279070735500b8ba9', 'num_cfs': 245, 'geocollections': ['world']}\n",
      "('EDIP 2003', 'ecotoxicity', 'chronic, in soil') : {'description': '', 'filename': 'LCIA_Implementation_3.9.xlsx', 'unit': 'm3 soil', 'abbreviation': 'edip-2003ec.17a0e31ba6219373396527b124c8cfcd', 'num_cfs': 451, 'geocollections': ['world']}\n",
      "('EDIP 2003', 'ecotoxicity', 'chronic, in water') : {'description': '', 'filename': 'LCIA_Implementation_3.9.xlsx', 'unit': 'm3 water', 'abbreviation': 'edip-2003ec.1451f287f6eacab4c2f8d92fb056fd43', 'num_cfs': 492, 'geocollections': ['world']}\n",
      "('EDIP 2003', 'ecotoxicity', 'in sewage treatment plants') : {'description': '', 'filename': 'LCIA_Implementation_3.9.xlsx', 'unit': 'm3 waste water', 'abbreviation': 'edip-2003ei.c31bda407b67a9f72b155d8fabb071f9', 'num_cfs': 166, 'geocollections': ['world']}\n",
      "('EDIP 2003', 'eutrophication', 'combined potential') : {'description': '', 'filename': 'LCIA_Implementation_3.9.xlsx', 'unit': 'kg NO3-', 'abbreviation': 'edip-2003ec.f60cde875f6704e2778e818d15712968', 'num_cfs': 123, 'geocollections': ['world']}\n",
      "('EDIP 2003', 'eutrophication', 'separate N potential') : {'description': '', 'filename': 'LCIA_Implementation_3.9.xlsx', 'unit': 'kg N', 'abbreviation': 'edip-2003es.c4c03ff562355e01083a95d2d967b289', 'num_cfs': 79, 'geocollections': ['world']}\n",
      "('EDIP 2003', 'eutrophication', 'separate P potential') : {'description': '', 'filename': 'LCIA_Implementation_3.9.xlsx', 'unit': 'kg P', 'abbreviation': 'edip-2003es.e59a69ae39558daf0f569a00e9581ee7', 'num_cfs': 19, 'geocollections': ['world']}\n",
      "('EDIP 2003', 'eutrophication', 'terrestrial eutrophication') : {'description': '', 'filename': 'LCIA_Implementation_3.9.xlsx', 'unit': 'square meter', 'abbreviation': 'edip-2003et.8e9c868635529e27d7dbd94441f36485', 'num_cfs': 10, 'geocollections': ['world']}\n",
      "('EDIP 2003', 'global warming', 'GWP 100a') : {'description': '', 'filename': 'LCIA_Implementation_3.9.xlsx', 'unit': 'kg CO2-Eq', 'abbreviation': 'edip-2003gg.6abfbb89d15b5d2e4922ab33bc4606b9', 'num_cfs': 593, 'geocollections': ['world']}\n",
      "('EDIP 2003', 'global warming', 'GWP 20a') : {'description': '', 'filename': 'LCIA_Implementation_3.9.xlsx', 'unit': 'kg CO2-Eq', 'abbreviation': 'edip-2003gg.3b23be607e2293a0d1ffdad6fb8c041c', 'num_cfs': 593, 'geocollections': ['world']}\n",
      "('EDIP 2003', 'global warming', 'GWP 500a') : {'description': '', 'filename': 'LCIA_Implementation_3.9.xlsx', 'unit': 'kg CO2-Eq', 'abbreviation': 'edip-2003gg.bc2bbac09b04f7da1a6261c202c2f36a', 'num_cfs': 593, 'geocollections': ['world']}\n",
      "('EDIP 2003', 'human toxicity', 'via air') : {'description': '', 'filename': 'LCIA_Implementation_3.9.xlsx', 'unit': 'm3 air', 'abbreviation': 'edip-2003hv.f469842a48a850d2b3245e114c79b79d', 'num_cfs': 452, 'geocollections': ['world']}\n",
      "('EDIP 2003', 'human toxicity', 'via soil') : {'description': '', 'filename': 'LCIA_Implementation_3.9.xlsx', 'unit': 'm3 soil', 'abbreviation': 'edip-2003hv.242a94c9f2886c18c664c809813c4f9e', 'num_cfs': 464, 'geocollections': ['world']}\n",
      "('EDIP 2003', 'human toxicity', 'via surface water') : {'description': '', 'filename': 'LCIA_Implementation_3.9.xlsx', 'unit': 'm3 water', 'abbreviation': 'edip-2003hv.07524ff334ee03215054a960c9292c98', 'num_cfs': 566, 'geocollections': ['world']}\n",
      "('EDIP 2003', 'land filling', 'bulk waste') : {'description': '', 'filename': 'LCIA_Implementation_3.9.xlsx', 'unit': 'kg waste', 'abbreviation': 'edip-2003lb.29ec84644b9d587533b52497cb1dfcc1', 'num_cfs': 3, 'geocollections': ['world']}\n",
      "('EDIP 2003', 'land filling', 'hazardous waste') : {'description': '', 'filename': 'LCIA_Implementation_3.9.xlsx', 'unit': 'kg waste', 'abbreviation': 'edip-2003lh.51585c98486c91b36850203d08747e74', 'num_cfs': 1, 'geocollections': ['world']}\n",
      "('EDIP 2003', 'land filling', 'radioactive waste') : {'description': '', 'filename': 'LCIA_Implementation_3.9.xlsx', 'unit': 'kg waste', 'abbreviation': 'edip-2003lr.072544103bb400b6b490424bb0ba6e1b', 'num_cfs': 2, 'geocollections': ['world']}\n",
      "('EDIP 2003', 'land filling', 'slag and ashes') : {'description': '', 'filename': 'LCIA_Implementation_3.9.xlsx', 'unit': 'kg waste', 'abbreviation': 'edip-2003ls.06ee42a7131620be9c370199890b1b13', 'num_cfs': 1, 'geocollections': ['world']}\n",
      "('EDIP 2003', 'non-renewable resources', 'aluminium') : {'description': '', 'filename': 'LCIA_Implementation_3.9.xlsx', 'unit': 'kilogram', 'abbreviation': 'edip-2003na.aba2e43d45e9c96fcbed9dc03eb3fdcb', 'num_cfs': 2, 'geocollections': ['world']}\n",
      "('EDIP 2003', 'non-renewable resources', 'antimony') : {'description': '', 'filename': 'LCIA_Implementation_3.9.xlsx', 'unit': 'kilogram', 'abbreviation': 'edip-2003na.83e1722439ab2bdb54412bea1b7a0698', 'num_cfs': 2, 'geocollections': ['world']}\n",
      "('EDIP 2003', 'non-renewable resources', 'brown coal') : {'description': '', 'filename': 'LCIA_Implementation_3.9.xlsx', 'unit': 'kilogram', 'abbreviation': 'edip-2003nb.51ba18c83860051f77e8dc4b47a61470', 'num_cfs': 1, 'geocollections': ['world']}\n",
      "('EDIP 2003', 'non-renewable resources', 'cadmium') : {'description': '', 'filename': 'LCIA_Implementation_3.9.xlsx', 'unit': 'kilogram', 'abbreviation': 'edip-2003nc.97e34413cdc0fdb99457285925eef5bd', 'num_cfs': 2, 'geocollections': ['world']}\n",
      "('EDIP 2003', 'non-renewable resources', 'cerium') : {'description': '', 'filename': 'LCIA_Implementation_3.9.xlsx', 'unit': 'kilogram', 'abbreviation': 'edip-2003nc.18cc0bcb7464ed5d9a2bfa3a556e33c6', 'num_cfs': 2, 'geocollections': ['world']}\n",
      "('EDIP 2003', 'non-renewable resources', 'coal') : {'description': '', 'filename': 'LCIA_Implementation_3.9.xlsx', 'unit': 'kilogram', 'abbreviation': 'edip-2003nc.47df3b75a9bbf8729d28f584389fd720', 'num_cfs': 1, 'geocollections': ['world']}\n",
      "('EDIP 2003', 'non-renewable resources', 'cobalt') : {'description': '', 'filename': 'LCIA_Implementation_3.9.xlsx', 'unit': 'kilogram', 'abbreviation': 'edip-2003nc.0fb3ef238af5e2b104b81caab9609a37', 'num_cfs': 1, 'geocollections': ['world']}\n",
      "('EDIP 2003', 'non-renewable resources', 'copper') : {'description': '', 'filename': 'LCIA_Implementation_3.9.xlsx', 'unit': 'kilogram', 'abbreviation': 'edip-2003nc.fe13cdb84bb5be536f9f5aa0fdeedaf4', 'num_cfs': 12, 'geocollections': ['world']}\n",
      "('EDIP 2003', 'non-renewable resources', 'gold') : {'description': '', 'filename': 'LCIA_Implementation_3.9.xlsx', 'unit': 'kilogram', 'abbreviation': 'edip-2003ng.a8994b88c153ad065182f7e6cf1a7166', 'num_cfs': 10, 'geocollections': ['world']}\n",
      "('EDIP 2003', 'non-renewable resources', 'iron') : {'description': '', 'filename': 'LCIA_Implementation_3.9.xlsx', 'unit': 'kilogram', 'abbreviation': 'edip-2003ni.f92d226f51a0dbb103b879a04510188d', 'num_cfs': 2, 'geocollections': ['world']}\n",
      "('EDIP 2003', 'non-renewable resources', 'lanthanum') : {'description': '', 'filename': 'LCIA_Implementation_3.9.xlsx', 'unit': 'kilogram', 'abbreviation': 'edip-2003nl.eca49c208075ccc8645694bcd5fffa6c', 'num_cfs': 2, 'geocollections': ['world']}\n",
      "('EDIP 2003', 'non-renewable resources', 'lead') : {'description': '', 'filename': 'LCIA_Implementation_3.9.xlsx', 'unit': 'kilogram', 'abbreviation': 'edip-2003nl.f773c5d68f401d1cf00338cfd572cf3c', 'num_cfs': 3, 'geocollections': ['world']}\n",
      "('EDIP 2003', 'non-renewable resources', 'manganese') : {'description': '', 'filename': 'LCIA_Implementation_3.9.xlsx', 'unit': 'kilogram', 'abbreviation': 'edip-2003nm.78c9c0e1889f08f59aa0907a055f3e25', 'num_cfs': 3, 'geocollections': ['world']}\n",
      "('EDIP 2003', 'non-renewable resources', 'mercury') : {'description': '', 'filename': 'LCIA_Implementation_3.9.xlsx', 'unit': 'kilogram', 'abbreviation': 'edip-2003nm.fd0adb07e97c46473081977738d63938', 'num_cfs': 2, 'geocollections': ['world']}\n",
      "('EDIP 2003', 'non-renewable resources', 'molybdenum') : {'description': '', 'filename': 'LCIA_Implementation_3.9.xlsx', 'unit': 'kilogram', 'abbreviation': 'edip-2003nm.c88af42ee46d51dd3da8433db5a7bbdd', 'num_cfs': 8, 'geocollections': ['world']}\n",
      "('EDIP 2003', 'non-renewable resources', 'natural gas') : {'description': '', 'filename': 'LCIA_Implementation_3.9.xlsx', 'unit': 'kilogram', 'abbreviation': 'edip-2003nn.35e03be4e570fbacb0f0562720378673', 'num_cfs': 2, 'geocollections': ['world']}\n",
      "('EDIP 2003', 'non-renewable resources', 'nickel') : {'description': '', 'filename': 'LCIA_Implementation_3.9.xlsx', 'unit': 'kilogram', 'abbreviation': 'edip-2003nn.eea05d5d59148990d83aedbe6aaafa1b', 'num_cfs': 5, 'geocollections': ['world']}\n",
      "('EDIP 2003', 'non-renewable resources', 'oil') : {'description': '', 'filename': 'LCIA_Implementation_3.9.xlsx', 'unit': 'kilogram', 'abbreviation': 'edip-2003no.92de4e0f5e34a88e8d70071eca465d6b', 'num_cfs': 1, 'geocollections': ['world']}\n",
      "('EDIP 2003', 'non-renewable resources', 'palladium') : {'description': '', 'filename': 'LCIA_Implementation_3.9.xlsx', 'unit': 'kilogram', 'abbreviation': 'edip-2003np.ac6b9f61240af75991d709c400f0f8fa', 'num_cfs': 3, 'geocollections': ['world']}\n",
      "('EDIP 2003', 'non-renewable resources', 'platinum') : {'description': '', 'filename': 'LCIA_Implementation_3.9.xlsx', 'unit': 'kilogram', 'abbreviation': 'edip-2003np.8a46fdb40b5006209e97e88b02efe86c', 'num_cfs': 3, 'geocollections': ['world']}\n",
      "('EDIP 2003', 'non-renewable resources', 'silver') : {'description': '', 'filename': 'LCIA_Implementation_3.9.xlsx', 'unit': 'kilogram', 'abbreviation': 'edip-2003ns.6f5a5253e999fb99ba1ad9e3dce41729', 'num_cfs': 8, 'geocollections': ['world']}\n",
      "('EDIP 2003', 'non-renewable resources', 'tantalum') : {'description': '', 'filename': 'LCIA_Implementation_3.9.xlsx', 'unit': 'kilogram', 'abbreviation': 'edip-2003nt.9081744f855702d88d75d86db6440f8e', 'num_cfs': 2, 'geocollections': ['world']}\n",
      "('EDIP 2003', 'non-renewable resources', 'tin') : {'description': '', 'filename': 'LCIA_Implementation_3.9.xlsx', 'unit': 'kilogram', 'abbreviation': 'edip-2003nt.21395b107256ba12f9e836f47e6e499b', 'num_cfs': 2, 'geocollections': ['world']}\n",
      "('EDIP 2003', 'non-renewable resources', 'zinc') : {'description': '', 'filename': 'LCIA_Implementation_3.9.xlsx', 'unit': 'kilogram', 'abbreviation': 'edip-2003nz.dbfebcde65f68ed9d749f1b22a2127d6', 'num_cfs': 3, 'geocollections': ['world']}\n",
      "('EDIP 2003', 'photochemical ozone formation', 'impacts on human health') : {'description': '', 'filename': 'LCIA_Implementation_3.9.xlsx', 'unit': 'person.ppm.h', 'abbreviation': 'edip-2003pi.afce0a82119a4065c2b0d988078c1691', 'num_cfs': 513, 'geocollections': ['world']}\n",
      "('EDIP 2003', 'photochemical ozone formation', 'impacts on vegetation') : {'description': '', 'filename': 'LCIA_Implementation_3.9.xlsx', 'unit': 'm2.ppm.h', 'abbreviation': 'edip-2003pi.8ed3ef1aa959abc8122a49e2d8b2be52', 'num_cfs': 538, 'geocollections': ['world']}\n",
      "('EDIP 2003', 'renewable resources', 'wood') : {'description': '', 'filename': 'LCIA_Implementation_3.9.xlsx', 'unit': 'cubic meter', 'abbreviation': 'edip-2003rw.2a78a9214d071965e36d479f163249de', 'num_cfs': 4, 'geocollections': ['world']}\n",
      "('EDIP 2003', 'stratospheric ozone depletion', 'ODP total') : {'description': '', 'filename': 'LCIA_Implementation_3.9.xlsx', 'unit': 'kg CFC-11-Eq', 'abbreviation': 'edip-2003so.863feb3b7678d7f6654ed10a1ca7c6fc', 'num_cfs': 80, 'geocollections': ['world']}\n",
      "('EF v3.0 no LT', 'acidification no LT', 'accumulated exceedance (AE) no LT') : {'description': '', 'filename': 'LCIA_Implementation_3.9.xlsx', 'unit': 'mol H+-Eq', 'abbreviation': 'ef-v30-no-ltaa.89504dec5adb27b149fbb2f8fff0f43f', 'num_cfs': 18, 'geocollections': ['world']}\n",
      "('EF v3.0 no LT', 'climate change no LT', 'global warming potential (GWP100) no LT') : {'description': '', 'filename': 'LCIA_Implementation_3.9.xlsx', 'unit': 'kg CO2-Eq', 'abbreviation': 'ef-v30-no-ltcg.ba81474170e9e879cf9c8b0812a1b77b', 'num_cfs': 159, 'geocollections': ['world']}\n",
      "('EF v3.0 no LT', 'climate change: biogenic no LT', 'global warming potential (GWP100) no LT') : {'description': '', 'filename': 'LCIA_Implementation_3.9.xlsx', 'unit': 'kg CO2-Eq', 'abbreviation': 'ef-v30-no-ltcg.f87fe6700e3b667e85e6093c85962d47', 'num_cfs': 4, 'geocollections': ['world']}\n",
      "('EF v3.0 no LT', 'climate change: fossil no LT', 'global warming potential (GWP100) no LT') : {'description': '', 'filename': 'LCIA_Implementation_3.9.xlsx', 'unit': 'kg CO2-Eq', 'abbreviation': 'ef-v30-no-ltcg.df79bbe4212aebf801b0a12b55656349', 'num_cfs': 139, 'geocollections': ['world']}\n",
      "('EF v3.0 no LT', 'climate change: land use and land use change no LT', 'global warming potential (GWP100) no LT') : {'description': '', 'filename': 'LCIA_Implementation_3.9.xlsx', 'unit': 'kg CO2-Eq', 'abbreviation': 'ef-v30-no-ltcg.e0b4c646ca9e0c4e30582c8baa6c7b25', 'num_cfs': 16, 'geocollections': ['world']}\n",
      "('EF v3.0 no LT', 'ecotoxicity: freshwater no LT', 'comparative toxic unit for ecosystems (CTUe) no LT') : {'description': '', 'filename': 'LCIA_Implementation_3.9.xlsx', 'unit': 'CTUe', 'abbreviation': 'ef-v30-no-ltec.6caca60b6d76bba8c12b0558684d7cb7', 'num_cfs': 2482, 'geocollections': ['world']}\n",
      "('EF v3.0 no LT', 'ecotoxicity: freshwater, inorganics no LT', 'comparative toxic unit for ecosystems (CTUe) no LT') : {'description': '', 'filename': 'LCIA_Implementation_3.9.xlsx', 'unit': 'CTUe', 'abbreviation': 'ef-v30-no-ltec.0bd61e2b4d7963a4971cbc4c0a73d45c', 'num_cfs': 272, 'geocollections': ['world']}\n",
      "('EF v3.0 no LT', 'ecotoxicity: freshwater, metals no LT', 'comparative toxic unit for ecosystems (CTUe) no LT') : {'description': '', 'filename': 'LCIA_Implementation_3.9.xlsx', 'unit': 'CTUe', 'abbreviation': 'ef-v30-no-ltec.29420aa7e421f0216a4bd15e0f61638e', 'num_cfs': 362, 'geocollections': ['world']}\n",
      "('EF v3.0 no LT', 'ecotoxicity: freshwater, organics no LT', 'comparative toxic unit for ecosystems (CTUe) no LT') : {'description': '', 'filename': 'LCIA_Implementation_3.9.xlsx', 'unit': 'CTUe', 'abbreviation': 'ef-v30-no-ltec.ae787d3ccd56984a24f1f2c55e9486b1', 'num_cfs': 1848, 'geocollections': ['world']}\n",
      "('EF v3.0 no LT', 'energy resources: non-renewable no LT', 'abiotic depletion potential (ADP): fossil fuels no LT') : {'description': '', 'filename': 'LCIA_Implementation_3.9.xlsx', 'unit': 'MJ, net calorific value', 'abbreviation': 'ef-v30-no-ltea.b2a216e5a1479592c97b561a80579097', 'num_cfs': 7, 'geocollections': ['world']}\n",
      "('EF v3.0 no LT', 'eutrophication: freshwater no LT', 'fraction of nutrients reaching freshwater end compartment (P) no LT') : {'description': '', 'filename': 'LCIA_Implementation_3.9.xlsx', 'unit': 'kg P-Eq', 'abbreviation': 'ef-v30-no-ltef.2c5dcb4b58afb98b91edfe338c520e8b', 'num_cfs': 11, 'geocollections': ['world']}\n",
      "('EF v3.0 no LT', 'eutrophication: marine no LT', 'fraction of nutrients reaching marine end compartment (N) no LT') : {'description': '', 'filename': 'LCIA_Implementation_3.9.xlsx', 'unit': 'kg N-Eq', 'abbreviation': 'ef-v30-no-ltef.b0d77391ac1c65323d2437b7b341a337', 'num_cfs': 29, 'geocollections': ['world']}\n",
      "('EF v3.0 no LT', 'eutrophication: terrestrial no LT', 'accumulated exceedance (AE) no LT') : {'description': '', 'filename': 'LCIA_Implementation_3.9.xlsx', 'unit': 'mol N-Eq', 'abbreviation': 'ef-v30-no-ltea.4e8ee4c02b5d41e3c1b2dac355752ac4', 'num_cfs': 13, 'geocollections': ['world']}\n",
      "('EF v3.0 no LT', 'human toxicity: carcinogenic no LT', 'comparative toxic unit for human (CTUh) no LT') : {'description': '', 'filename': 'LCIA_Implementation_3.9.xlsx', 'unit': 'CTUh', 'abbreviation': 'ef-v30-no-lthc.4e383bb28ad42e1a509b62d6dcdc5b21', 'num_cfs': 478, 'geocollections': ['world']}\n",
      "('EF v3.0 no LT', 'human toxicity: carcinogenic, inorganics no LT', 'comparative toxic unit for human (CTUh) no LT') : {'description': '', 'filename': 'LCIA_Implementation_3.9.xlsx', 'unit': 'CTUh', 'abbreviation': 'ef-v30-no-lthc.2de62b628f70c14ca13b7c55ee1f5cbf', 'num_cfs': 4, 'geocollections': ['world']}\n",
      "('EF v3.0 no LT', 'human toxicity: carcinogenic, metals no LT', 'comparative toxic unit for human (CTUh) no LT') : {'description': '', 'filename': 'LCIA_Implementation_3.9.xlsx', 'unit': 'CTUh', 'abbreviation': 'ef-v30-no-lthc.53effddb9c9e84a0148ff5c91efd79b7', 'num_cfs': 92, 'geocollections': ['world']}\n",
      "('EF v3.0 no LT', 'human toxicity: carcinogenic, organics no LT', 'comparative toxic unit for human (CTUh) no LT') : {'description': '', 'filename': 'LCIA_Implementation_3.9.xlsx', 'unit': 'CTUh', 'abbreviation': 'ef-v30-no-lthc.48fb29ce72b1163c8693e46326402fa0', 'num_cfs': 382, 'geocollections': ['world']}\n",
      "('EF v3.0 no LT', 'human toxicity: non-carcinogenic no LT', 'comparative toxic unit for human (CTUh) no LT') : {'description': '', 'filename': 'LCIA_Implementation_3.9.xlsx', 'unit': 'CTUh', 'abbreviation': 'ef-v30-no-lthc.def940c3fbb0789553f2b362fa61853f', 'num_cfs': 2057, 'geocollections': ['world']}\n",
      "('EF v3.0 no LT', 'human toxicity: non-carcinogenic, inorganics no LT', 'comparative toxic unit for human (CTUh) no LT') : {'description': '', 'filename': 'LCIA_Implementation_3.9.xlsx', 'unit': 'CTUh', 'abbreviation': 'ef-v30-no-lthc.ce347fd5a3f789cf1208dae425935b6c', 'num_cfs': 195, 'geocollections': ['world']}\n",
      "('EF v3.0 no LT', 'human toxicity: non-carcinogenic, metals no LT', 'comparative toxic unit for human (CTUh) no LT') : {'description': '', 'filename': 'LCIA_Implementation_3.9.xlsx', 'unit': 'CTUh', 'abbreviation': 'ef-v30-no-lthc.654b1e1e70332647b232897d15445d42', 'num_cfs': 270, 'geocollections': ['world']}\n",
      "('EF v3.0 no LT', 'human toxicity: non-carcinogenic, organics no LT', 'comparative toxic unit for human (CTUh) no LT') : {'description': '', 'filename': 'LCIA_Implementation_3.9.xlsx', 'unit': 'CTUh', 'abbreviation': 'ef-v30-no-lthc.abd5e65cb0074fd3aa2dd33c80b68ead', 'num_cfs': 1597, 'geocollections': ['world']}\n",
      "('EF v3.0 no LT', 'ionising radiation: human health no LT', 'human exposure efficiency relative to u235 no LT') : {'description': '', 'filename': 'LCIA_Implementation_3.9.xlsx', 'unit': 'kBq U235-Eq', 'abbreviation': 'ef-v30-no-ltih.4a8344c526fabfda610c9179e703d222', 'num_cfs': 156, 'geocollections': ['world']}\n",
      "('EF v3.0 no LT', 'land use no LT', 'soil quality index no LT') : {'description': '', 'filename': 'LCIA_Implementation_3.9.xlsx', 'unit': 'dimensionless', 'abbreviation': 'ef-v30-no-ltls.3938dde54ad56f79c85c1013a3983c8c', 'num_cfs': 155, 'geocollections': ['world']}\n",
      "('EF v3.0 no LT', 'material resources: metals/minerals no LT', 'abiotic depletion potential (ADP): elements (ultimate reserves) no LT') : {'description': '', 'filename': 'LCIA_Implementation_3.9.xlsx', 'unit': 'kg Sb-Eq', 'abbreviation': 'ef-v30-no-ltma.1613a0a7bd476ef82b3b3f12836b502f', 'num_cfs': 148, 'geocollections': ['world']}\n",
      "('EF v3.0 no LT', 'ozone depletion no LT', 'ozone depletion potential (ODP) no LT') : {'description': '', 'filename': 'LCIA_Implementation_3.9.xlsx', 'unit': 'kg CFC-11-Eq', 'abbreviation': 'ef-v30-no-ltoo.bb0448c930bc5071a7fc85d9937a2c10', 'num_cfs': 60, 'geocollections': ['world']}\n",
      "('EF v3.0 no LT', 'particulate matter formation no LT', 'impact on human health no LT') : {'description': '', 'filename': 'LCIA_Implementation_3.9.xlsx', 'unit': 'disease incidence', 'abbreviation': 'ef-v30-no-ltpi.b3355933ba4a5dc4bf50ed9010aa8f67', 'num_cfs': 21, 'geocollections': ['world']}\n",
      "('EF v3.0 no LT', 'photochemical oxidant formation: human health no LT', 'tropospheric ozone concentration increase no LT') : {'description': '', 'filename': 'LCIA_Implementation_3.9.xlsx', 'unit': 'kg NMVOC-Eq', 'abbreviation': 'ef-v30-no-ltpt.a6dac43bc8a8384e26ecb463fe7de966', 'num_cfs': 250, 'geocollections': ['world']}\n",
      "('EF v3.0 no LT', 'water use no LT', 'user deprivation potential (deprivation-weighted water consumption) no LT') : {'description': '', 'filename': 'LCIA_Implementation_3.9.xlsx', 'unit': 'm3 world eq. deprived', 'abbreviation': 'ef-v30-no-ltwu.c30012d63a9eb713eb173308163b259a', 'num_cfs': 4, 'geocollections': ['world']}\n",
      "('EF v3.0', 'acidification', 'accumulated exceedance (AE)') : {'description': '', 'filename': 'LCIA_Implementation_3.9.xlsx', 'unit': 'mol H+-Eq', 'abbreviation': 'ef-v30aa.bc63365a59e28af2f9ab3c8b43f0ff3b', 'num_cfs': 21, 'geocollections': ['world']}\n",
      "('EF v3.0', 'climate change', 'global warming potential (GWP100)') : {'description': '', 'filename': 'LCIA_Implementation_3.9.xlsx', 'unit': 'kg CO2-Eq', 'abbreviation': 'ef-v30cg.fc91b07ab84331932f3a5fff158a99d6', 'num_cfs': 198, 'geocollections': ['world']}\n",
      "('EF v3.0', 'climate change: biogenic', 'global warming potential (GWP100)') : {'description': '', 'filename': 'LCIA_Implementation_3.9.xlsx', 'unit': 'kg CO2-Eq', 'abbreviation': 'ef-v30cg.0b12705baa32e4a9480703bdfe6a7c9b', 'num_cfs': 5, 'geocollections': ['world']}\n",
      "('EF v3.0', 'climate change: fossil', 'global warming potential (GWP100)') : {'description': '', 'filename': 'LCIA_Implementation_3.9.xlsx', 'unit': 'kg CO2-Eq', 'abbreviation': 'ef-v30cg.bf997449c7b4e93176cd0d4cb32966dd', 'num_cfs': 174, 'geocollections': ['world']}\n",
      "('EF v3.0', 'climate change: land use and land use change', 'global warming potential (GWP100)') : {'description': '', 'filename': 'LCIA_Implementation_3.9.xlsx', 'unit': 'kg CO2-Eq', 'abbreviation': 'ef-v30cg.b585a3e5fdfacfd23de3b27dcc609bca', 'num_cfs': 19, 'geocollections': ['world']}\n",
      "('EF v3.0', 'ecotoxicity: freshwater', 'comparative toxic unit for ecosystems (CTUe)') : {'description': '', 'filename': 'LCIA_Implementation_3.9.xlsx', 'unit': 'CTUe', 'abbreviation': 'ef-v30ec.1f10702b4f1a96f3b001933a96f82376', 'num_cfs': 2482, 'geocollections': ['world']}\n",
      "('EF v3.0', 'ecotoxicity: freshwater, inorganics', 'comparative toxic unit for ecosystems (CTUe)') : {'description': '', 'filename': 'LCIA_Implementation_3.9.xlsx', 'unit': 'CTUe', 'abbreviation': 'ef-v30ec.31517739b9957b8651c6e9984eb966ab', 'num_cfs': 272, 'geocollections': ['world']}\n",
      "('EF v3.0', 'ecotoxicity: freshwater, metals', 'comparative toxic unit for ecosystems (CTUe)') : {'description': '', 'filename': 'LCIA_Implementation_3.9.xlsx', 'unit': 'CTUe', 'abbreviation': 'ef-v30ec.ddf84bf4e8c70997d5a8eb15c5e774a0', 'num_cfs': 362, 'geocollections': ['world']}\n",
      "('EF v3.0', 'ecotoxicity: freshwater, organics', 'comparative toxic unit for ecosystems (CTUe)') : {'description': '', 'filename': 'LCIA_Implementation_3.9.xlsx', 'unit': 'CTUe', 'abbreviation': 'ef-v30ec.7bc584a02f719115aaa27c6ef3652591', 'num_cfs': 1848, 'geocollections': ['world']}\n",
      "('EF v3.0', 'energy resources: non-renewable', 'abiotic depletion potential (ADP): fossil fuels') : {'description': '', 'filename': 'LCIA_Implementation_3.9.xlsx', 'unit': 'MJ, net calorific value', 'abbreviation': 'ef-v30ea.0cd38b874d1078f73fdd42d342018ce9', 'num_cfs': 7, 'geocollections': ['world']}\n",
      "('EF v3.0', 'eutrophication: freshwater', 'fraction of nutrients reaching freshwater end compartment (P)') : {'description': '', 'filename': 'LCIA_Implementation_3.9.xlsx', 'unit': 'kg P-Eq', 'abbreviation': 'ef-v30ef.e2da9993d64f45a5c2469a28d58770be', 'num_cfs': 13, 'geocollections': ['world']}\n",
      "('EF v3.0', 'eutrophication: marine', 'fraction of nutrients reaching marine end compartment (N)') : {'description': '', 'filename': 'LCIA_Implementation_3.9.xlsx', 'unit': 'kg N-Eq', 'abbreviation': 'ef-v30ef.257bab5abc0ac68cbf881345d7f4d216', 'num_cfs': 36, 'geocollections': ['world']}\n",
      "('EF v3.0', 'eutrophication: terrestrial', 'accumulated exceedance (AE)') : {'description': '', 'filename': 'LCIA_Implementation_3.9.xlsx', 'unit': 'mol N-Eq', 'abbreviation': 'ef-v30ea.88102410a0a8a7b96065aadbaa4d903e', 'num_cfs': 16, 'geocollections': ['world']}\n",
      "('EF v3.0', 'human toxicity: carcinogenic', 'comparative toxic unit for human (CTUh)') : {'description': '', 'filename': 'LCIA_Implementation_3.9.xlsx', 'unit': 'CTUh', 'abbreviation': 'ef-v30hc.7f9911f1a3357763fbb470ff446b3ad3', 'num_cfs': 478, 'geocollections': ['world']}\n",
      "('EF v3.0', 'human toxicity: carcinogenic, inorganics', 'comparative toxic unit for human (CTUh)') : {'description': '', 'filename': 'LCIA_Implementation_3.9.xlsx', 'unit': 'CTUh', 'abbreviation': 'ef-v30hc.28da446d9ac748a6b693dc4e3ef8b4b6', 'num_cfs': 4, 'geocollections': ['world']}\n",
      "('EF v3.0', 'human toxicity: carcinogenic, metals', 'comparative toxic unit for human (CTUh)') : {'description': '', 'filename': 'LCIA_Implementation_3.9.xlsx', 'unit': 'CTUh', 'abbreviation': 'ef-v30hc.d368d25001515847b4626d90d4f52e9e', 'num_cfs': 92, 'geocollections': ['world']}\n",
      "('EF v3.0', 'human toxicity: carcinogenic, organics', 'comparative toxic unit for human (CTUh)') : {'description': '', 'filename': 'LCIA_Implementation_3.9.xlsx', 'unit': 'CTUh', 'abbreviation': 'ef-v30hc.545cce2217f5c17d646465a1f77b626b', 'num_cfs': 382, 'geocollections': ['world']}\n",
      "('EF v3.0', 'human toxicity: non-carcinogenic', 'comparative toxic unit for human (CTUh)') : {'description': '', 'filename': 'LCIA_Implementation_3.9.xlsx', 'unit': 'CTUh', 'abbreviation': 'ef-v30hc.edbe219f8da59f1246ad7172adcc9bd8', 'num_cfs': 2057, 'geocollections': ['world']}\n",
      "('EF v3.0', 'human toxicity: non-carcinogenic, inorganics', 'comparative toxic unit for human (CTUh)') : {'description': '', 'filename': 'LCIA_Implementation_3.9.xlsx', 'unit': 'CTUh', 'abbreviation': 'ef-v30hc.a17bdbd8893590cd7965105a2fb0bacc', 'num_cfs': 195, 'geocollections': ['world']}\n",
      "('EF v3.0', 'human toxicity: non-carcinogenic, metals', 'comparative toxic unit for human (CTUh)') : {'description': '', 'filename': 'LCIA_Implementation_3.9.xlsx', 'unit': 'CTUh', 'abbreviation': 'ef-v30hc.d2f17a20e0a23629727771f7471706e3', 'num_cfs': 270, 'geocollections': ['world']}\n",
      "('EF v3.0', 'human toxicity: non-carcinogenic, organics', 'comparative toxic unit for human (CTUh)') : {'description': '', 'filename': 'LCIA_Implementation_3.9.xlsx', 'unit': 'CTUh', 'abbreviation': 'ef-v30hc.ea2fdf9988e430505b9622056f2d38e2', 'num_cfs': 1597, 'geocollections': ['world']}\n",
      "('EF v3.0', 'ionising radiation: human health', 'human exposure efficiency relative to u235') : {'description': '', 'filename': 'LCIA_Implementation_3.9.xlsx', 'unit': 'kBq U235-Eq', 'abbreviation': 'ef-v30ih.c448704a7fe4e093f19d127b65f664b2', 'num_cfs': 195, 'geocollections': ['world']}\n",
      "('EF v3.0', 'land use', 'soil quality index') : {'description': '', 'filename': 'LCIA_Implementation_3.9.xlsx', 'unit': 'dimensionless', 'abbreviation': 'ef-v30ls.8c9c1ca2ad5c69fd5a489c7b8e5cc6a5', 'num_cfs': 155, 'geocollections': ['world']}\n",
      "('EF v3.0', 'material resources: metals/minerals', 'abiotic depletion potential (ADP): elements (ultimate reserves)') : {'description': '', 'filename': 'LCIA_Implementation_3.9.xlsx', 'unit': 'kg Sb-Eq', 'abbreviation': 'ef-v30ma.f98bbf57c80a1a8051cb4be3fdcef343', 'num_cfs': 148, 'geocollections': ['world']}\n",
      "('EF v3.0', 'ozone depletion', 'ozone depletion potential (ODP)') : {'description': '', 'filename': 'LCIA_Implementation_3.9.xlsx', 'unit': 'kg CFC-11-Eq', 'abbreviation': 'ef-v30oo.c57d1293fde5d8985580f091e2985f25', 'num_cfs': 75, 'geocollections': ['world']}\n",
      "('EF v3.0', 'particulate matter formation', 'impact on human health') : {'description': '', 'filename': 'LCIA_Implementation_3.9.xlsx', 'unit': 'disease incidence', 'abbreviation': 'ef-v30pi.e84324654a70645b984a777d5550627d', 'num_cfs': 27, 'geocollections': ['world']}\n",
      "('EF v3.0', 'photochemical oxidant formation: human health', 'tropospheric ozone concentration increase') : {'description': '', 'filename': 'LCIA_Implementation_3.9.xlsx', 'unit': 'kg NMVOC-Eq', 'abbreviation': 'ef-v30pt.764c8d6d08f40d8d36ee8b28987abb12', 'num_cfs': 311, 'geocollections': ['world']}\n",
      "('EF v3.0', 'water use', 'user deprivation potential (deprivation-weighted water consumption)') : {'description': '', 'filename': 'LCIA_Implementation_3.9.xlsx', 'unit': 'm3 world eq. deprived', 'abbreviation': 'ef-v30wu.2041cdbbda531c8da8275ae88de50185', 'num_cfs': 5, 'geocollections': ['world']}\n",
      "('EF v3.1 no LT', 'acidification no LT', 'accumulated exceedance (AE) no LT') : {'description': '', 'filename': 'LCIA_Implementation_3.9.xlsx', 'unit': 'mol H+-Eq', 'abbreviation': 'ef-v31-no-ltaa.549beb1e182803cc772b2c3237d6ba68', 'num_cfs': 18, 'geocollections': ['world']}\n",
      "('EF v3.1 no LT', 'climate change no LT', 'global warming potential (GWP100) no LT') : {'description': '', 'filename': 'LCIA_Implementation_3.9.xlsx', 'unit': 'kg CO2-Eq', 'abbreviation': 'ef-v31-no-ltcg.fe655fe5ddc1d5833e66d936a2f07317', 'num_cfs': 181, 'geocollections': ['world']}\n",
      "('EF v3.1 no LT', 'climate change: biogenic no LT', 'global warming potential (GWP100) no LT') : {'description': '', 'filename': 'LCIA_Implementation_3.9.xlsx', 'unit': 'kg CO2-Eq', 'abbreviation': 'ef-v31-no-ltcg.8cd6f28db387a3623858517d9ef10661', 'num_cfs': 4, 'geocollections': ['world']}\n",
      "('EF v3.1 no LT', 'climate change: fossil no LT', 'global warming potential (GWP100) no LT') : {'description': '', 'filename': 'LCIA_Implementation_3.9.xlsx', 'unit': 'kg CO2-Eq', 'abbreviation': 'ef-v31-no-ltcg.13b9e38bfc7a64dcf0b5f426e2598746', 'num_cfs': 165, 'geocollections': ['world']}\n",
      "('EF v3.1 no LT', 'climate change: land use and land use change no LT', 'global warming potential (GWP100) no LT') : {'description': '', 'filename': 'LCIA_Implementation_3.9.xlsx', 'unit': 'kg CO2-Eq', 'abbreviation': 'ef-v31-no-ltcg.d7cd409ea36523af0f5c0d4c070c9ca1', 'num_cfs': 12, 'geocollections': ['world']}\n",
      "('EF v3.1 no LT', 'ecotoxicity: freshwater no LT', 'comparative toxic unit for ecosystems (CTUe) no LT') : {'description': '', 'filename': 'LCIA_Implementation_3.9.xlsx', 'unit': 'CTUe', 'abbreviation': 'ef-v31-no-ltec.ca16a97f1c1c6b72f05f407735da9c94', 'num_cfs': 2474, 'geocollections': ['world']}\n",
      "('EF v3.1 no LT', 'ecotoxicity: freshwater, inorganics no LT', 'comparative toxic unit for ecosystems (CTUe) no LT') : {'description': '', 'filename': 'LCIA_Implementation_3.9.xlsx', 'unit': 'CTUe', 'abbreviation': 'ef-v31-no-ltec.9acf06a0466d4e96a48b1626f8c57e94', 'num_cfs': 616, 'geocollections': ['world']}\n",
      "('EF v3.1 no LT', 'ecotoxicity: freshwater, organics no LT', 'comparative toxic unit for ecosystems (CTUe) no LT') : {'description': '', 'filename': 'LCIA_Implementation_3.9.xlsx', 'unit': 'CTUe', 'abbreviation': 'ef-v31-no-ltec.83489f1620ca3f021fd43f02697f62ca', 'num_cfs': 1858, 'geocollections': ['world']}\n",
      "('EF v3.1 no LT', 'energy resources: non-renewable no LT', 'abiotic depletion potential (ADP): fossil fuels no LT') : {'description': '', 'filename': 'LCIA_Implementation_3.9.xlsx', 'unit': 'MJ, net calorific value', 'abbreviation': 'ef-v31-no-ltea.26d412b159cadb7fc4e3e66e19d572a5', 'num_cfs': 7, 'geocollections': ['world']}\n",
      "('EF v3.1 no LT', 'eutrophication: freshwater no LT', 'fraction of nutrients reaching freshwater end compartment (P) no LT') : {'description': '', 'filename': 'LCIA_Implementation_3.9.xlsx', 'unit': 'kg P-Eq', 'abbreviation': 'ef-v31-no-ltef.472e602c7b552cfc31d2ba8268449a3b', 'num_cfs': 11, 'geocollections': ['world']}\n",
      "('EF v3.1 no LT', 'eutrophication: marine no LT', 'fraction of nutrients reaching marine end compartment (N) no LT') : {'description': '', 'filename': 'LCIA_Implementation_3.9.xlsx', 'unit': 'kg N-Eq', 'abbreviation': 'ef-v31-no-ltef.5a267d674a5d2c7a7f299ba63b0d41ea', 'num_cfs': 29, 'geocollections': ['world']}\n",
      "('EF v3.1 no LT', 'eutrophication: terrestrial no LT', 'accumulated exceedance (AE) no LT') : {'description': '', 'filename': 'LCIA_Implementation_3.9.xlsx', 'unit': 'mol N-Eq', 'abbreviation': 'ef-v31-no-ltea.4bd2fce21732d256f011d795d8fa4a2d', 'num_cfs': 13, 'geocollections': ['world']}\n",
      "('EF v3.1 no LT', 'human toxicity: carcinogenic no LT', 'comparative toxic unit for human (CTUh) no LT') : {'description': '', 'filename': 'LCIA_Implementation_3.9.xlsx', 'unit': 'CTUh', 'abbreviation': 'ef-v31-no-lthc.eca9327b6cd47f85b526892290b2fdf2', 'num_cfs': 479, 'geocollections': ['world']}\n",
      "('EF v3.1 no LT', 'human toxicity: carcinogenic, inorganics no LT', 'comparative toxic unit for human (CTUh) no LT') : {'description': '', 'filename': 'LCIA_Implementation_3.9.xlsx', 'unit': 'CTUh', 'abbreviation': 'ef-v31-no-lthc.0bd3111e6ba6d53b00488fc84d18fb10', 'num_cfs': 96, 'geocollections': ['world']}\n",
      "('EF v3.1 no LT', 'human toxicity: carcinogenic, organics no LT', 'comparative toxic unit for human (CTUh) no LT') : {'description': '', 'filename': 'LCIA_Implementation_3.9.xlsx', 'unit': 'CTUh', 'abbreviation': 'ef-v31-no-lthc.6745b378b1a94f33b48f219ab2bd099a', 'num_cfs': 383, 'geocollections': ['world']}\n",
      "('EF v3.1 no LT', 'human toxicity: non-carcinogenic no LT', 'comparative toxic unit for human (CTUh) no LT') : {'description': '', 'filename': 'LCIA_Implementation_3.9.xlsx', 'unit': 'CTUh', 'abbreviation': 'ef-v31-no-lthc.1536477bba9fb806190d3f746d04abde', 'num_cfs': 2026, 'geocollections': ['world']}\n",
      "('EF v3.1 no LT', 'human toxicity: non-carcinogenic, inorganics no LT', 'comparative toxic unit for human (CTUh) no LT') : {'description': '', 'filename': 'LCIA_Implementation_3.9.xlsx', 'unit': 'CTUh', 'abbreviation': 'ef-v31-no-lthc.626be3bc72a0bb1e44ecf466d3a40663', 'num_cfs': 420, 'geocollections': ['world']}\n",
      "('EF v3.1 no LT', 'human toxicity: non-carcinogenic, organics no LT', 'comparative toxic unit for human (CTUh) no LT') : {'description': '', 'filename': 'LCIA_Implementation_3.9.xlsx', 'unit': 'CTUh', 'abbreviation': 'ef-v31-no-lthc.7581f972a8bdb39e1bdc6fb57130a4fa', 'num_cfs': 1606, 'geocollections': ['world']}\n",
      "('EF v3.1 no LT', 'ionising radiation: human health no LT', 'human exposure efficiency relative to u235 no LT') : {'description': '', 'filename': 'LCIA_Implementation_3.9.xlsx', 'unit': 'kBq U235-Eq', 'abbreviation': 'ef-v31-no-ltih.1e4a673ba20aad1f94aae50cbd5e3ed0', 'num_cfs': 156, 'geocollections': ['world']}\n",
      "('EF v3.1 no LT', 'land use no LT', 'soil quality index no LT') : {'description': '', 'filename': 'LCIA_Implementation_3.9.xlsx', 'unit': 'dimensionless', 'abbreviation': 'ef-v31-no-ltls.5ea1635c4588e7dd7d5df3778009845b', 'num_cfs': 155, 'geocollections': ['world']}\n",
      "('EF v3.1 no LT', 'material resources: metals/minerals no LT', 'abiotic depletion potential (ADP): elements (ultimate reserves) no LT') : {'description': '', 'filename': 'LCIA_Implementation_3.9.xlsx', 'unit': 'kg Sb-Eq', 'abbreviation': 'ef-v31-no-ltma.4e3dae13631d440d5aa38a63a3d024c5', 'num_cfs': 148, 'geocollections': ['world']}\n",
      "('EF v3.1 no LT', 'ozone depletion no LT', 'ozone depletion potential (ODP) no LT') : {'description': '', 'filename': 'LCIA_Implementation_3.9.xlsx', 'unit': 'kg CFC-11-Eq', 'abbreviation': 'ef-v31-no-ltoo.7bc5bbd1b873d0e481cf0c660b2cdef6', 'num_cfs': 60, 'geocollections': ['world']}\n",
      "('EF v3.1 no LT', 'particulate matter formation no LT', 'impact on human health no LT') : {'description': '', 'filename': 'LCIA_Implementation_3.9.xlsx', 'unit': 'disease incidence', 'abbreviation': 'ef-v31-no-ltpi.e2717f9ada4df0afec63384ff3b681d7', 'num_cfs': 21, 'geocollections': ['world']}\n",
      "('EF v3.1 no LT', 'photochemical oxidant formation: human health no LT', 'tropospheric ozone concentration increase no LT') : {'description': '', 'filename': 'LCIA_Implementation_3.9.xlsx', 'unit': 'kg NMVOC-Eq', 'abbreviation': 'ef-v31-no-ltpt.e474f8e888890de593b40c40a06c5451', 'num_cfs': 250, 'geocollections': ['world']}\n",
      "('EF v3.1 no LT', 'water use no LT', 'user deprivation potential (deprivation-weighted water consumption) no LT') : {'description': '', 'filename': 'LCIA_Implementation_3.9.xlsx', 'unit': 'm3 world eq. deprived', 'abbreviation': 'ef-v31-no-ltwu.f8a0e4eddf63fcc0870d2ee590adaf8f', 'num_cfs': 4, 'geocollections': ['world']}\n",
      "('EF v3.1', 'acidification', 'accumulated exceedance (AE)') : {'description': '', 'filename': 'LCIA_Implementation_3.9.xlsx', 'unit': 'mol H+-Eq', 'abbreviation': 'ef-v31aa.3561cd671a473310747f754fe860108c', 'num_cfs': 22, 'geocollections': ['world']}\n",
      "('EF v3.1', 'climate change', 'global warming potential (GWP100)') : {'description': '', 'filename': 'LCIA_Implementation_3.9.xlsx', 'unit': 'kg CO2-Eq', 'abbreviation': 'ef-v31cg.1c397559135d78f19a1915a0ca4f626a', 'num_cfs': 223, 'geocollections': ['world']}\n",
      "('EF v3.1', 'climate change: biogenic', 'global warming potential (GWP100)') : {'description': '', 'filename': 'LCIA_Implementation_3.9.xlsx', 'unit': 'kg CO2-Eq', 'abbreviation': 'ef-v31cg.a709ef67df83f4dc46415ed8f4bf30fc', 'num_cfs': 5, 'geocollections': ['world']}\n",
      "('EF v3.1', 'climate change: fossil', 'global warming potential (GWP100)') : {'description': '', 'filename': 'LCIA_Implementation_3.9.xlsx', 'unit': 'kg CO2-Eq', 'abbreviation': 'ef-v31cg.5a41d0cb0834ca96503051836e34f145', 'num_cfs': 204, 'geocollections': ['world']}\n",
      "('EF v3.1', 'climate change: land use and land use change', 'global warming potential (GWP100)') : {'description': '', 'filename': 'LCIA_Implementation_3.9.xlsx', 'unit': 'kg CO2-Eq', 'abbreviation': 'ef-v31cg.9bcefb126c208e865d34ca72c54b3b0c', 'num_cfs': 14, 'geocollections': ['world']}\n",
      "('EF v3.1', 'ecotoxicity: freshwater', 'comparative toxic unit for ecosystems (CTUe)') : {'description': '', 'filename': 'LCIA_Implementation_3.9.xlsx', 'unit': 'CTUe', 'abbreviation': 'ef-v31ec.2b1bb91ef6b650e3a6e7f85f6f38e48c', 'num_cfs': 2474, 'geocollections': ['world']}\n",
      "('EF v3.1', 'ecotoxicity: freshwater, inorganics', 'comparative toxic unit for ecosystems (CTUe)') : {'description': '', 'filename': 'LCIA_Implementation_3.9.xlsx', 'unit': 'CTUe', 'abbreviation': 'ef-v31ec.c35b23fa611c0ee9ef0195e29a5e76c4', 'num_cfs': 616, 'geocollections': ['world']}\n",
      "('EF v3.1', 'ecotoxicity: freshwater, organics', 'comparative toxic unit for ecosystems (CTUe)') : {'description': '', 'filename': 'LCIA_Implementation_3.9.xlsx', 'unit': 'CTUe', 'abbreviation': 'ef-v31ec.7738317ea31d521f4447bb94aeb2cd45', 'num_cfs': 1858, 'geocollections': ['world']}\n",
      "('EF v3.1', 'energy resources: non-renewable', 'abiotic depletion potential (ADP): fossil fuels') : {'description': '', 'filename': 'LCIA_Implementation_3.9.xlsx', 'unit': 'MJ, net calorific value', 'abbreviation': 'ef-v31ea.41ac072e6f84d10be5190f984e74e66d', 'num_cfs': 7, 'geocollections': ['world']}\n",
      "('EF v3.1', 'eutrophication: freshwater', 'fraction of nutrients reaching freshwater end compartment (P)') : {'description': '', 'filename': 'LCIA_Implementation_3.9.xlsx', 'unit': 'kg P-Eq', 'abbreviation': 'ef-v31ef.5f477386ad531bc81b206ca5adb1457d', 'num_cfs': 13, 'geocollections': ['world']}\n",
      "('EF v3.1', 'eutrophication: marine', 'fraction of nutrients reaching marine end compartment (N)') : {'description': '', 'filename': 'LCIA_Implementation_3.9.xlsx', 'unit': 'kg N-Eq', 'abbreviation': 'ef-v31ef.f6f366fc261423655cb0db33db455bde', 'num_cfs': 36, 'geocollections': ['world']}\n",
      "('EF v3.1', 'eutrophication: terrestrial', 'accumulated exceedance (AE)') : {'description': '', 'filename': 'LCIA_Implementation_3.9.xlsx', 'unit': 'mol N-Eq', 'abbreviation': 'ef-v31ea.adee3b8b785857db474610ba0047cbbf', 'num_cfs': 16, 'geocollections': ['world']}\n",
      "('EF v3.1', 'human toxicity: carcinogenic', 'comparative toxic unit for human (CTUh)') : {'description': '', 'filename': 'LCIA_Implementation_3.9.xlsx', 'unit': 'CTUh', 'abbreviation': 'ef-v31hc.77a0dbe5412ce259b5d1bd3992f46dc1', 'num_cfs': 479, 'geocollections': ['world']}\n",
      "('EF v3.1', 'human toxicity: carcinogenic, inorganics', 'comparative toxic unit for human (CTUh)') : {'description': '', 'filename': 'LCIA_Implementation_3.9.xlsx', 'unit': 'CTUh', 'abbreviation': 'ef-v31hc.94c6f8dc07777f697a06318e91c8a0a9', 'num_cfs': 96, 'geocollections': ['world']}\n",
      "('EF v3.1', 'human toxicity: carcinogenic, organics', 'comparative toxic unit for human (CTUh)') : {'description': '', 'filename': 'LCIA_Implementation_3.9.xlsx', 'unit': 'CTUh', 'abbreviation': 'ef-v31hc.00159ba9d800c4e53ab6a9ddce13fb85', 'num_cfs': 383, 'geocollections': ['world']}\n",
      "('EF v3.1', 'human toxicity: non-carcinogenic', 'comparative toxic unit for human (CTUh)') : {'description': '', 'filename': 'LCIA_Implementation_3.9.xlsx', 'unit': 'CTUh', 'abbreviation': 'ef-v31hc.6f73a9f1feeb701a48cce837f6bc0213', 'num_cfs': 2026, 'geocollections': ['world']}\n",
      "('EF v3.1', 'human toxicity: non-carcinogenic, inorganics', 'comparative toxic unit for human (CTUh)') : {'description': '', 'filename': 'LCIA_Implementation_3.9.xlsx', 'unit': 'CTUh', 'abbreviation': 'ef-v31hc.29cc12fc6b3243d9c7d9875bb026176f', 'num_cfs': 420, 'geocollections': ['world']}\n",
      "('EF v3.1', 'human toxicity: non-carcinogenic, organics', 'comparative toxic unit for human (CTUh)') : {'description': '', 'filename': 'LCIA_Implementation_3.9.xlsx', 'unit': 'CTUh', 'abbreviation': 'ef-v31hc.d9b80db5bb1c8da39bcc53ade737565d', 'num_cfs': 1606, 'geocollections': ['world']}\n",
      "('EF v3.1', 'ionising radiation: human health', 'human exposure efficiency relative to u235') : {'description': '', 'filename': 'LCIA_Implementation_3.9.xlsx', 'unit': 'kBq U235-Eq', 'abbreviation': 'ef-v31ih.c22f21736047064490b9631c7fa2cb34', 'num_cfs': 195, 'geocollections': ['world']}\n",
      "('EF v3.1', 'land use', 'soil quality index') : {'description': '', 'filename': 'LCIA_Implementation_3.9.xlsx', 'unit': 'dimensionless', 'abbreviation': 'ef-v31ls.e6192af00690c5bc296f45e80359ae4b', 'num_cfs': 155, 'geocollections': ['world']}\n",
      "('EF v3.1', 'material resources: metals/minerals', 'abiotic depletion potential (ADP): elements (ultimate reserves)') : {'description': '', 'filename': 'LCIA_Implementation_3.9.xlsx', 'unit': 'kg Sb-Eq', 'abbreviation': 'ef-v31ma.458aa6cb6d9335c9da89015af4afe157', 'num_cfs': 148, 'geocollections': ['world']}\n",
      "('EF v3.1', 'ozone depletion', 'ozone depletion potential (ODP)') : {'description': '', 'filename': 'LCIA_Implementation_3.9.xlsx', 'unit': 'kg CFC-11-Eq', 'abbreviation': 'ef-v31oo.24ecf0ac9220dda9512c1face21d9a36', 'num_cfs': 75, 'geocollections': ['world']}\n",
      "('EF v3.1', 'particulate matter formation', 'impact on human health') : {'description': '', 'filename': 'LCIA_Implementation_3.9.xlsx', 'unit': 'disease incidence', 'abbreviation': 'ef-v31pi.0cb770785d5846f9cda6a8e070907b1c', 'num_cfs': 27, 'geocollections': ['world']}\n",
      "('EF v3.1', 'photochemical oxidant formation: human health', 'tropospheric ozone concentration increase') : {'description': '', 'filename': 'LCIA_Implementation_3.9.xlsx', 'unit': 'kg NMVOC-Eq', 'abbreviation': 'ef-v31pt.95555b6153df96f07ec8b068a49d2479', 'num_cfs': 311, 'geocollections': ['world']}\n",
      "('EF v3.1', 'water use', 'user deprivation potential (deprivation-weighted water consumption)') : {'description': '', 'filename': 'LCIA_Implementation_3.9.xlsx', 'unit': 'm3 world eq. deprived', 'abbreviation': 'ef-v31wu.c06e898cc1acad11272faed515ba1aab', 'num_cfs': 5, 'geocollections': ['world']}\n",
      "('EPS 2020d no LT', 'emissions to air no LT', 'monetary impact value no LT') : {'description': '', 'filename': 'LCIA_Implementation_3.9.xlsx', 'unit': 'EUR 2018', 'abbreviation': 'eps-2020d-no-ltem.4577957ce3993b6ef5ecec59165ba067', 'num_cfs': 457, 'geocollections': ['world']}\n",
      "('EPS 2020d no LT', 'emissions to soil no LT', 'monetary impact value no LT') : {'description': '', 'filename': 'LCIA_Implementation_3.9.xlsx', 'unit': 'EUR 2018', 'abbreviation': 'eps-2020d-no-ltem.b6dfb1b8d550e1df6c5908a654f705f0', 'num_cfs': 181, 'geocollections': ['world']}\n",
      "('EPS 2020d no LT', 'emissions to water no LT', 'monetary impact value no LT') : {'description': '', 'filename': 'LCIA_Implementation_3.9.xlsx', 'unit': 'EUR 2018', 'abbreviation': 'eps-2020d-no-ltem.26adfb2dd63f5adca3ac6398b38e0ec8', 'num_cfs': 20, 'geocollections': ['world']}\n",
      "('EPS 2020d no LT', 'energy resources: non-renewable, fossil no LT', 'monetary impact value no LT') : {'description': '', 'filename': 'LCIA_Implementation_3.9.xlsx', 'unit': 'EUR 2018', 'abbreviation': 'eps-2020d-no-ltem.328f56b21a3556d77f72c81f28b92233', 'num_cfs': 5, 'geocollections': ['world']}\n",
      "('EPS 2020d no LT', 'land use no LT', 'monetary impact value no LT') : {'description': '', 'filename': 'LCIA_Implementation_3.9.xlsx', 'unit': 'EUR 2018', 'abbreviation': 'eps-2020d-no-ltlm.b214c321fa503026188cb59d42673f4e', 'num_cfs': 40, 'geocollections': ['world']}\n",
      "('EPS 2020d no LT', 'material resources: metals no LT', 'monetary impact value no LT') : {'description': '', 'filename': 'LCIA_Implementation_3.9.xlsx', 'unit': 'EUR 2018', 'abbreviation': 'eps-2020d-no-ltmm.e3c55689d3e5f84b4e7b39c7e3a2dbcd', 'num_cfs': 163, 'geocollections': ['world']}\n",
      "('EPS 2020d no LT', 'total no LT', 'monetary impact value no LT') : {'description': '', 'filename': 'LCIA_Implementation_3.9.xlsx', 'unit': 'EUR 2018', 'abbreviation': 'eps-2020d-no-lttm.f0d0a882a6bd9a3dd336a353112641df', 'num_cfs': 866, 'geocollections': ['world']}\n",
      "('EPS 2020d', 'emissions to air', 'monetary impact value') : {'description': '', 'filename': 'LCIA_Implementation_3.9.xlsx', 'unit': 'EUR 2018', 'abbreviation': 'eps-2020dem.255f6e504266150e51390151efde054a', 'num_cfs': 569, 'geocollections': ['world']}\n",
      "('EPS 2020d', 'emissions to soil', 'monetary impact value') : {'description': '', 'filename': 'LCIA_Implementation_3.9.xlsx', 'unit': 'EUR 2018', 'abbreviation': 'eps-2020dem.f893031a044b07ca2f81514e13406b04', 'num_cfs': 181, 'geocollections': ['world']}\n",
      "('EPS 2020d', 'emissions to water', 'monetary impact value') : {'description': '', 'filename': 'LCIA_Implementation_3.9.xlsx', 'unit': 'EUR 2018', 'abbreviation': 'eps-2020dem.b631ce764aeea8eb62bae6c5b7725c01', 'num_cfs': 26, 'geocollections': ['world']}\n",
      "('EPS 2020d', 'energy resources: non-renewable, fossil', 'monetary impact value') : {'description': '', 'filename': 'LCIA_Implementation_3.9.xlsx', 'unit': 'EUR 2018', 'abbreviation': 'eps-2020dem.bafd1081b842e05731617a1eff49e68c', 'num_cfs': 5, 'geocollections': ['world']}\n",
      "('EPS 2020d', 'land use', 'monetary impact value') : {'description': '', 'filename': 'LCIA_Implementation_3.9.xlsx', 'unit': 'EUR 2018', 'abbreviation': 'eps-2020dlm.47149f37732ca197b3c40c8245ce1051', 'num_cfs': 40, 'geocollections': ['world']}\n",
      "('EPS 2020d', 'material resources: metals', 'monetary impact value') : {'description': '', 'filename': 'LCIA_Implementation_3.9.xlsx', 'unit': 'EUR 2018', 'abbreviation': 'eps-2020dmm.4f9215b17109c9eb624b21492fc054f2', 'num_cfs': 163, 'geocollections': ['world']}\n",
      "('EPS 2020d', 'total', 'monetary impact value') : {'description': '', 'filename': 'LCIA_Implementation_3.9.xlsx', 'unit': 'EUR 2018', 'abbreviation': 'eps-2020dtm.03af962e76a765029aa255a5fccdba4e', 'num_cfs': 984, 'geocollections': ['world']}\n",
      "('IMPACT 2002+ (Endpoint)', 'climate change', 'climate change') : {'description': '', 'filename': 'LCIA_Implementation_3.9.xlsx', 'unit': 'points', 'abbreviation': 'impact-2002-endpointcc.f0d6dcda47644cda5050030be792b6fd', 'num_cfs': 175, 'geocollections': ['world']}\n",
      "('IMPACT 2002+ (Endpoint)', 'climate change', 'total') : {'description': '', 'filename': 'LCIA_Implementation_3.9.xlsx', 'unit': 'points', 'abbreviation': 'impact-2002-endpointct.3f19cdcdf090de2d0b708c8702a20041', 'num_cfs': 175, 'geocollections': ['world']}\n",
      "('IMPACT 2002+ (Endpoint)', 'ecosystem quality', 'aquatic ecotoxicity') : {'description': '', 'filename': 'LCIA_Implementation_3.9.xlsx', 'unit': 'points', 'abbreviation': 'impact-2002-endpointea.3528f9e611ec6df35c8e02267168eb27', 'num_cfs': 650, 'geocollections': ['world']}\n",
      "('IMPACT 2002+ (Endpoint)', 'ecosystem quality', 'land occupation') : {'description': '', 'filename': 'LCIA_Implementation_3.9.xlsx', 'unit': 'points', 'abbreviation': 'impact-2002-endpointel.3b415badb76b57adb75dd8bc1a4f3418', 'num_cfs': 30, 'geocollections': ['world']}\n",
      "('IMPACT 2002+ (Endpoint)', 'ecosystem quality', 'terrestrial acidification & nutrification') : {'description': '', 'filename': 'LCIA_Implementation_3.9.xlsx', 'unit': 'points', 'abbreviation': 'impact-2002-endpointet.1c0f6708cea62a071c2e398e4bb765d4', 'num_cfs': 19, 'geocollections': ['world']}\n",
      "('IMPACT 2002+ (Endpoint)', 'ecosystem quality', 'terrestrial ecotoxicity') : {'description': '', 'filename': 'LCIA_Implementation_3.9.xlsx', 'unit': 'points', 'abbreviation': 'impact-2002-endpointet.b055ea3aad5eb5431ffe8a1fa7c5843d', 'num_cfs': 636, 'geocollections': ['world']}\n",
      "('IMPACT 2002+ (Endpoint)', 'ecosystem quality', 'total') : {'description': '', 'filename': 'LCIA_Implementation_3.9.xlsx', 'unit': 'points', 'abbreviation': 'impact-2002-endpointet.111c7ce8cd86bea5380aa3a9a8b86395', 'num_cfs': 695, 'geocollections': ['world']}\n",
      "('IMPACT 2002+ (Endpoint)', 'human health', 'human toxicity') : {'description': '', 'filename': 'LCIA_Implementation_3.9.xlsx', 'unit': 'points', 'abbreviation': 'impact-2002-endpointhh.ffa523d6335d033ec7ddce66e320038a', 'num_cfs': 607, 'geocollections': ['world']}\n",
      "('IMPACT 2002+ (Endpoint)', 'human health', 'ionising radiation') : {'description': '', 'filename': 'LCIA_Implementation_3.9.xlsx', 'unit': 'points', 'abbreviation': 'impact-2002-endpointhi.afe994d64357c62b7cede2a5e223466d', 'num_cfs': 150, 'geocollections': ['world']}\n",
      "('IMPACT 2002+ (Endpoint)', 'human health', 'ozone layer depletion') : {'description': '', 'filename': 'LCIA_Implementation_3.9.xlsx', 'unit': 'points', 'abbreviation': 'impact-2002-endpointho.96c838f8b1e680a3b2fb2cb69f3ec80e', 'num_cfs': 94, 'geocollections': ['world']}\n",
      "('IMPACT 2002+ (Endpoint)', 'human health', 'photochemical oxidation') : {'description': '', 'filename': 'LCIA_Implementation_3.9.xlsx', 'unit': 'points', 'abbreviation': 'impact-2002-endpointhp.dbc3e58707994c17b05d6cc6b2fd6487', 'num_cfs': 234, 'geocollections': ['world']}\n",
      "('IMPACT 2002+ (Endpoint)', 'human health', 'respiratory effects (inorganics)') : {'description': '', 'filename': 'LCIA_Implementation_3.9.xlsx', 'unit': 'points', 'abbreviation': 'impact-2002-endpointhr.90b50af31fcbbbed6d447c1421d7c922', 'num_cfs': 28, 'geocollections': ['world']}\n",
      "('IMPACT 2002+ (Endpoint)', 'human health', 'total') : {'description': '', 'filename': 'LCIA_Implementation_3.9.xlsx', 'unit': 'points', 'abbreviation': 'impact-2002-endpointht.aa7f68ff055e79af3b11fc57781b1395', 'num_cfs': 974, 'geocollections': ['world']}\n",
      "('IMPACT 2002+ (Endpoint)', 'resources', 'mineral extraction') : {'description': '', 'filename': 'LCIA_Implementation_3.9.xlsx', 'unit': 'points', 'abbreviation': 'impact-2002-endpointrm.2a62e344efd63e7d8a88004ee751eac0', 'num_cfs': 43, 'geocollections': ['world']}\n",
      "('IMPACT 2002+ (Endpoint)', 'resources', 'non-renewable energy') : {'description': '', 'filename': 'LCIA_Implementation_3.9.xlsx', 'unit': 'points', 'abbreviation': 'impact-2002-endpointrn.f3273f82440331986ebbbfa23a6337ea', 'num_cfs': 7, 'geocollections': ['world']}\n",
      "('IMPACT 2002+ (Endpoint)', 'resources', 'total') : {'description': '', 'filename': 'LCIA_Implementation_3.9.xlsx', 'unit': 'points', 'abbreviation': 'impact-2002-endpointrt.cd2032014f12c2867e487944fdef6041', 'num_cfs': 50, 'geocollections': ['world']}\n",
      "('IMPACT 2002+ (Midpoint)', 'ecosystem quality', 'aquatic acidification') : {'description': '', 'filename': 'LCIA_Implementation_3.9.xlsx', 'unit': 'kg SO2-Eq', 'abbreviation': 'impact-2002-midpointea.bb9825e73c45486ed66f67f980f82fda', 'num_cfs': 42, 'geocollections': ['world']}\n",
      "('IMPACT 2002+ (Midpoint)', 'ecosystem quality', 'aquatic eutrophication') : {'description': '', 'filename': 'LCIA_Implementation_3.9.xlsx', 'unit': 'kg PO4-Eq', 'abbreviation': 'impact-2002-midpointea.579a86138ce6a6996c0cf0dc5c717738', 'num_cfs': 22, 'geocollections': ['world']}\n",
      "('IPCC 2013 no LT', 'climate change no LT', 'global temperature change potential (GTP100) no LT') : {'description': '', 'filename': 'LCIA_Implementation_3.9.xlsx', 'unit': 'kg CO2-Eq', 'abbreviation': 'ipcc-2013-no-ltcg.fa193e734b7afee063e964dc40da5d10', 'num_cfs': 167, 'geocollections': ['world']}\n",
      "('IPCC 2013 no LT', 'climate change no LT', 'global temperature change potential (GTP20) no LT') : {'description': '', 'filename': 'LCIA_Implementation_3.9.xlsx', 'unit': 'kg CO2-Eq', 'abbreviation': 'ipcc-2013-no-ltcg.28b959dec3a0a56e127cb4ecc710f788', 'num_cfs': 167, 'geocollections': ['world']}\n",
      "('IPCC 2013 no LT', 'climate change no LT', 'global warming potential (GWP100) no LT') : {'description': '', 'filename': 'LCIA_Implementation_3.9.xlsx', 'unit': 'kg CO2-Eq', 'abbreviation': 'ipcc-2013-no-ltcg.7962c33963a1191f21e7488df1f998cd', 'num_cfs': 167, 'geocollections': ['world']}\n",
      "('IPCC 2013 no LT', 'climate change no LT', 'global warming potential (GWP20) no LT') : {'description': '', 'filename': 'LCIA_Implementation_3.9.xlsx', 'unit': 'kg CO2-Eq', 'abbreviation': 'ipcc-2013-no-ltcg.ce1fb1bc85e81fb623eab70d3e2dbf87', 'num_cfs': 167, 'geocollections': ['world']}\n",
      "('IPCC 2013', 'climate change', 'global temperature change potential (GTP100)') : {'description': '', 'filename': 'LCIA_Implementation_3.9.xlsx', 'unit': 'kg CO2-Eq', 'abbreviation': 'ipcc-2013cg.bd6645f9563344b11278a5f5ce91b738', 'num_cfs': 207, 'geocollections': ['world']}\n",
      "('IPCC 2013', 'climate change', 'global temperature change potential (GTP20)') : {'description': '', 'filename': 'LCIA_Implementation_3.9.xlsx', 'unit': 'kg CO2-Eq', 'abbreviation': 'ipcc-2013cg.7da3269307b445abf2ddf1070fff2794', 'num_cfs': 207, 'geocollections': ['world']}\n",
      "('IPCC 2013', 'climate change', 'global warming potential (GWP100)') : {'description': '', 'filename': 'LCIA_Implementation_3.9.xlsx', 'unit': 'kg CO2-Eq', 'abbreviation': 'ipcc-2013cg.c44286db43e989e224357edf263706ce', 'num_cfs': 207, 'geocollections': ['world']}\n",
      "('IPCC 2013', 'climate change', 'global warming potential (GWP20)') : {'description': '', 'filename': 'LCIA_Implementation_3.9.xlsx', 'unit': 'kg CO2-Eq', 'abbreviation': 'ipcc-2013cg.5113c3190025c8c9ee99fb76edab1783', 'num_cfs': 207, 'geocollections': ['world']}\n",
      "('IPCC 2021 no LT', 'climate change no LT', 'global temperature change potential (GTP100) no LT') : {'description': '', 'filename': 'LCIA_Implementation_3.9.xlsx', 'unit': 'kg CO2-Eq', 'abbreviation': 'ipcc-2021-no-ltcg.e41cc06ec6f7b8f37c927d653cb09e9e', 'num_cfs': 182, 'geocollections': ['world']}\n",
      "('IPCC 2021 no LT', 'climate change no LT', 'global temperature change potential (GTP50) no LT') : {'description': '', 'filename': 'LCIA_Implementation_3.9.xlsx', 'unit': 'kg CO2-Eq', 'abbreviation': 'ipcc-2021-no-ltcg.cfd6af4cc2aded5f0e39e733dbdea05e', 'num_cfs': 182, 'geocollections': ['world']}\n",
      "('IPCC 2021 no LT', 'climate change no LT', 'global warming potential (GWP100) no LT') : {'description': '', 'filename': 'LCIA_Implementation_3.9.xlsx', 'unit': 'kg CO2-Eq', 'abbreviation': 'ipcc-2021-no-ltcg.dc34e719fc41ee3be541d4e36e95cfd8', 'num_cfs': 182, 'geocollections': ['world']}\n",
      "('IPCC 2021 no LT', 'climate change no LT', 'global warming potential (GWP20) no LT') : {'description': '', 'filename': 'LCIA_Implementation_3.9.xlsx', 'unit': 'kg CO2-Eq', 'abbreviation': 'ipcc-2021-no-ltcg.14f35b69b78ce274f1f597afb97e0ff5', 'num_cfs': 182, 'geocollections': ['world']}\n",
      "('IPCC 2021 no LT', 'climate change no LT', 'global warming potential (GWP500) no LT') : {'description': '', 'filename': 'LCIA_Implementation_3.9.xlsx', 'unit': 'kg CO2-Eq', 'abbreviation': 'ipcc-2021-no-ltcg.f5801c599a812146709ca388dd5acd86', 'num_cfs': 182, 'geocollections': ['world']}\n",
      "('IPCC 2021 no LT', 'climate change: biogenic no LT', 'global temperature change potential (GTP100) no LT') : {'description': '', 'filename': 'LCIA_Implementation_3.9.xlsx', 'unit': 'kg CO2-Eq', 'abbreviation': 'ipcc-2021-no-ltcg.e1dfea1f954939a48accf67f0e2d63c7', 'num_cfs': 4, 'geocollections': ['world']}\n",
      "('IPCC 2021 no LT', 'climate change: biogenic no LT', 'global temperature change potential (GTP50) no LT') : {'description': '', 'filename': 'LCIA_Implementation_3.9.xlsx', 'unit': 'kg CO2-Eq', 'abbreviation': 'ipcc-2021-no-ltcg.c911c686fe0dd0ee021026165e29d54f', 'num_cfs': 4, 'geocollections': ['world']}\n",
      "('IPCC 2021 no LT', 'climate change: biogenic no LT', 'global warming potential (GWP100) no LT') : {'description': '', 'filename': 'LCIA_Implementation_3.9.xlsx', 'unit': 'kg CO2-Eq', 'abbreviation': 'ipcc-2021-no-ltcg.348ee7f7e99e16ff411234f48afa05ae', 'num_cfs': 4, 'geocollections': ['world']}\n",
      "('IPCC 2021 no LT', 'climate change: biogenic no LT', 'global warming potential (GWP20) no LT') : {'description': '', 'filename': 'LCIA_Implementation_3.9.xlsx', 'unit': 'kg CO2-Eq', 'abbreviation': 'ipcc-2021-no-ltcg.aaae2be9ee7651c9236e6ed3b5a3ac9d', 'num_cfs': 4, 'geocollections': ['world']}\n",
      "('IPCC 2021 no LT', 'climate change: biogenic no LT', 'global warming potential (GWP500) no LT') : {'description': '', 'filename': 'LCIA_Implementation_3.9.xlsx', 'unit': 'kg CO2-Eq', 'abbreviation': 'ipcc-2021-no-ltcg.9b09a2c35d382debb615c2e05c5db9c2', 'num_cfs': 4, 'geocollections': ['world']}\n",
      "('IPCC 2021 no LT', 'climate change: biogenic, including SLCFs no LT', 'global temperature change potential (GTP100) no LT') : {'description': '', 'filename': 'LCIA_Implementation_3.9.xlsx', 'unit': 'kg CO2-Eq', 'abbreviation': 'ipcc-2021-no-ltcg.afb9acca8c9c723cdf808d96d3ebbe9a', 'num_cfs': 8, 'geocollections': ['world']}\n",
      "('IPCC 2021 no LT', 'climate change: biogenic, including SLCFs no LT', 'global warming potential (GWP100) no LT') : {'description': '', 'filename': 'LCIA_Implementation_3.9.xlsx', 'unit': 'kg CO2-Eq', 'abbreviation': 'ipcc-2021-no-ltcg.5a695263b3a57cac0bb2fff4c89c7d60', 'num_cfs': 8, 'geocollections': ['world']}\n",
      "('IPCC 2021 no LT', 'climate change: biogenic, including SLCFs no LT', 'global warming potential (GWP20) no LT') : {'description': '', 'filename': 'LCIA_Implementation_3.9.xlsx', 'unit': 'kg CO2-Eq', 'abbreviation': 'ipcc-2021-no-ltcg.7e46ba24f096d63a1d9f31fb806b0638', 'num_cfs': 8, 'geocollections': ['world']}\n",
      "('IPCC 2021 no LT', 'climate change: fossil no LT', 'global temperature change potential (GTP100) no LT') : {'description': '', 'filename': 'LCIA_Implementation_3.9.xlsx', 'unit': 'kg CO2-Eq', 'abbreviation': 'ipcc-2021-no-ltcg.dc8cbe72dd6e0f39049d0343089923d9', 'num_cfs': 166, 'geocollections': ['world']}\n",
      "('IPCC 2021 no LT', 'climate change: fossil no LT', 'global temperature change potential (GTP50) no LT') : {'description': '', 'filename': 'LCIA_Implementation_3.9.xlsx', 'unit': 'kg CO2-Eq', 'abbreviation': 'ipcc-2021-no-ltcg.625aca60255e183a3b872d8409807a5b', 'num_cfs': 166, 'geocollections': ['world']}\n",
      "('IPCC 2021 no LT', 'climate change: fossil no LT', 'global warming potential (GWP100) no LT') : {'description': '', 'filename': 'LCIA_Implementation_3.9.xlsx', 'unit': 'kg CO2-Eq', 'abbreviation': 'ipcc-2021-no-ltcg.416c178df2cfd4ba2bbb59b36921c2ed', 'num_cfs': 166, 'geocollections': ['world']}\n",
      "('IPCC 2021 no LT', 'climate change: fossil no LT', 'global warming potential (GWP20) no LT') : {'description': '', 'filename': 'LCIA_Implementation_3.9.xlsx', 'unit': 'kg CO2-Eq', 'abbreviation': 'ipcc-2021-no-ltcg.5aaf07fe8be2e4a61649104241a6e1e0', 'num_cfs': 166, 'geocollections': ['world']}\n",
      "('IPCC 2021 no LT', 'climate change: fossil no LT', 'global warming potential (GWP500) no LT') : {'description': '', 'filename': 'LCIA_Implementation_3.9.xlsx', 'unit': 'kg CO2-Eq', 'abbreviation': 'ipcc-2021-no-ltcg.7adcce515a0316f221f2f9146428115d', 'num_cfs': 166, 'geocollections': ['world']}\n",
      "('IPCC 2021 no LT', 'climate change: fossil, including SLCFs no LT', 'global temperature change potential (GTP100) no LT') : {'description': '', 'filename': 'LCIA_Implementation_3.9.xlsx', 'unit': 'kg CO2-Eq', 'abbreviation': 'ipcc-2021-no-ltcg.020a2990fd6f4fab8ba8cd06cb1e695c', 'num_cfs': 172, 'geocollections': ['world']}\n",
      "('IPCC 2021 no LT', 'climate change: fossil, including SLCFs no LT', 'global warming potential (GWP100) no LT') : {'description': '', 'filename': 'LCIA_Implementation_3.9.xlsx', 'unit': 'kg CO2-Eq', 'abbreviation': 'ipcc-2021-no-ltcg.3193d049c6e9a855f68d80a9aa3c8a69', 'num_cfs': 172, 'geocollections': ['world']}\n",
      "('IPCC 2021 no LT', 'climate change: fossil, including SLCFs no LT', 'global warming potential (GWP20) no LT') : {'description': '', 'filename': 'LCIA_Implementation_3.9.xlsx', 'unit': 'kg CO2-Eq', 'abbreviation': 'ipcc-2021-no-ltcg.12e84c54b519075504a0846b64434f40', 'num_cfs': 172, 'geocollections': ['world']}\n",
      "('IPCC 2021 no LT', 'climate change: including SLCFs no LT', 'global temperature change potential (GTP100) no LT') : {'description': '', 'filename': 'LCIA_Implementation_3.9.xlsx', 'unit': 'kg CO2-Eq', 'abbreviation': 'ipcc-2021-no-ltcg.bb434df1bbe3fabf5faa52276112758c', 'num_cfs': 196, 'geocollections': ['world']}\n",
      "('IPCC 2021 no LT', 'climate change: including SLCFs no LT', 'global warming potential (GWP100) no LT') : {'description': '', 'filename': 'LCIA_Implementation_3.9.xlsx', 'unit': 'kg CO2-Eq', 'abbreviation': 'ipcc-2021-no-ltcg.d9b035afe1e3ab26e7ddad34a1c1df66', 'num_cfs': 196, 'geocollections': ['world']}\n",
      "('IPCC 2021 no LT', 'climate change: including SLCFs no LT', 'global warming potential (GWP20) no LT') : {'description': '', 'filename': 'LCIA_Implementation_3.9.xlsx', 'unit': 'kg CO2-Eq', 'abbreviation': 'ipcc-2021-no-ltcg.009f9f5a431eba0d8247658700f06be6', 'num_cfs': 196, 'geocollections': ['world']}\n",
      "('IPCC 2021 no LT', 'climate change: land use no LT', 'global temperature change potential (GTP100) no LT') : {'description': '', 'filename': 'LCIA_Implementation_3.9.xlsx', 'unit': 'kg CO2-Eq', 'abbreviation': 'ipcc-2021-no-ltcg.316e437af00cc290c1d1c1a9a99f1f39', 'num_cfs': 12, 'geocollections': ['world']}\n",
      "('IPCC 2021 no LT', 'climate change: land use no LT', 'global temperature change potential (GTP50) no LT') : {'description': '', 'filename': 'LCIA_Implementation_3.9.xlsx', 'unit': 'kg CO2-Eq', 'abbreviation': 'ipcc-2021-no-ltcg.1e47a35349234b6c71118409933d93b0', 'num_cfs': 12, 'geocollections': ['world']}\n",
      "('IPCC 2021 no LT', 'climate change: land use no LT', 'global warming potential (GWP100) no LT') : {'description': '', 'filename': 'LCIA_Implementation_3.9.xlsx', 'unit': 'kg CO2-Eq', 'abbreviation': 'ipcc-2021-no-ltcg.40fba7022367e38214dafd11ad4030c1', 'num_cfs': 12, 'geocollections': ['world']}\n",
      "('IPCC 2021 no LT', 'climate change: land use no LT', 'global warming potential (GWP20) no LT') : {'description': '', 'filename': 'LCIA_Implementation_3.9.xlsx', 'unit': 'kg CO2-Eq', 'abbreviation': 'ipcc-2021-no-ltcg.f189d45b97142b7201c6108c162e7f89', 'num_cfs': 12, 'geocollections': ['world']}\n",
      "('IPCC 2021 no LT', 'climate change: land use no LT', 'global warming potential (GWP500) no LT') : {'description': '', 'filename': 'LCIA_Implementation_3.9.xlsx', 'unit': 'kg CO2-Eq', 'abbreviation': 'ipcc-2021-no-ltcg.21a287501e33679953be2fda500f3ae1', 'num_cfs': 12, 'geocollections': ['world']}\n",
      "('IPCC 2021 no LT', 'climate change: land use, including SLCFs no LT', 'global temperature change potential (GTP100) no LT') : {'description': '', 'filename': 'LCIA_Implementation_3.9.xlsx', 'unit': 'kg CO2-Eq', 'abbreviation': 'ipcc-2021-no-ltcg.943cc9e984ba1e88ed51e48fffbb2848', 'num_cfs': 16, 'geocollections': ['world']}\n",
      "('IPCC 2021 no LT', 'climate change: land use, including SLCFs no LT', 'global warming potential (GWP100) no LT') : {'description': '', 'filename': 'LCIA_Implementation_3.9.xlsx', 'unit': 'kg CO2-Eq', 'abbreviation': 'ipcc-2021-no-ltcg.0b901bb162dea7f282c3ed2899192275', 'num_cfs': 16, 'geocollections': ['world']}\n",
      "('IPCC 2021 no LT', 'climate change: land use, including SLCFs no LT', 'global warming potential (GWP20) no LT') : {'description': '', 'filename': 'LCIA_Implementation_3.9.xlsx', 'unit': 'kg CO2-Eq', 'abbreviation': 'ipcc-2021-no-ltcg.b0dcf03b4151a85df212d6d382d7d35b', 'num_cfs': 16, 'geocollections': ['world']}\n",
      "('IPCC 2021', 'climate change', 'global temperature change potential (GTP100)') : {'description': '', 'filename': 'LCIA_Implementation_3.9.xlsx', 'unit': 'kg CO2-Eq', 'abbreviation': 'ipcc-2021cg.12a79f55a637ff8ebed2e39766dfdc5b', 'num_cfs': 226, 'geocollections': ['world']}\n",
      "('IPCC 2021', 'climate change', 'global temperature change potential (GTP50)') : {'description': '', 'filename': 'LCIA_Implementation_3.9.xlsx', 'unit': 'kg CO2-Eq', 'abbreviation': 'ipcc-2021cg.73e0916dcb7080b3cb3a37ca502e842e', 'num_cfs': 226, 'geocollections': ['world']}\n",
      "('IPCC 2021', 'climate change', 'global warming potential (GWP100)') : {'description': '', 'filename': 'LCIA_Implementation_3.9.xlsx', 'unit': 'kg CO2-Eq', 'abbreviation': 'ipcc-2021cg.7f3bec1f3f63e5211c9815c52a5f928c', 'num_cfs': 226, 'geocollections': ['world']}\n",
      "('IPCC 2021', 'climate change', 'global warming potential (GWP20)') : {'description': '', 'filename': 'LCIA_Implementation_3.9.xlsx', 'unit': 'kg CO2-Eq', 'abbreviation': 'ipcc-2021cg.b3ccb42d23e6035cfd79bc7b56019f8d', 'num_cfs': 226, 'geocollections': ['world']}\n",
      "('IPCC 2021', 'climate change', 'global warming potential (GWP500)') : {'description': '', 'filename': 'LCIA_Implementation_3.9.xlsx', 'unit': 'kg CO2-Eq', 'abbreviation': 'ipcc-2021cg.c675eb58c914ba81d2cf1f33e2131fe5', 'num_cfs': 226, 'geocollections': ['world']}\n",
      "('IPCC 2021', 'climate change: biogenic', 'global temperature change potential (GTP100)') : {'description': '', 'filename': 'LCIA_Implementation_3.9.xlsx', 'unit': 'kg CO2-Eq', 'abbreviation': 'ipcc-2021cg.ad282d55d0c45c203ea903a4ec3362bb', 'num_cfs': 5, 'geocollections': ['world']}\n",
      "('IPCC 2021', 'climate change: biogenic', 'global temperature change potential (GTP50)') : {'description': '', 'filename': 'LCIA_Implementation_3.9.xlsx', 'unit': 'kg CO2-Eq', 'abbreviation': 'ipcc-2021cg.ebb21df3f6ec1f83bf0c5952dfaec029', 'num_cfs': 5, 'geocollections': ['world']}\n",
      "('IPCC 2021', 'climate change: biogenic', 'global warming potential (GWP100)') : {'description': '', 'filename': 'LCIA_Implementation_3.9.xlsx', 'unit': 'kg CO2-Eq', 'abbreviation': 'ipcc-2021cg.53430e09e305748933330bd00b612547', 'num_cfs': 5, 'geocollections': ['world']}\n",
      "('IPCC 2021', 'climate change: biogenic', 'global warming potential (GWP20)') : {'description': '', 'filename': 'LCIA_Implementation_3.9.xlsx', 'unit': 'kg CO2-Eq', 'abbreviation': 'ipcc-2021cg.bef6605ce518d3ce23bcb497dfa7e0ee', 'num_cfs': 5, 'geocollections': ['world']}\n",
      "('IPCC 2021', 'climate change: biogenic', 'global warming potential (GWP500)') : {'description': '', 'filename': 'LCIA_Implementation_3.9.xlsx', 'unit': 'kg CO2-Eq', 'abbreviation': 'ipcc-2021cg.41991af349aa89ed6c0a83145fb485e6', 'num_cfs': 5, 'geocollections': ['world']}\n",
      "('IPCC 2021', 'climate change: biogenic, including SLCFs', 'global temperature change potential (GTP100)') : {'description': '', 'filename': 'LCIA_Implementation_3.9.xlsx', 'unit': 'kg CO2-Eq', 'abbreviation': 'ipcc-2021cg.7cfe288acaf65626826328b0ca132f07', 'num_cfs': 10, 'geocollections': ['world']}\n",
      "('IPCC 2021', 'climate change: biogenic, including SLCFs', 'global warming potential (GWP100)') : {'description': '', 'filename': 'LCIA_Implementation_3.9.xlsx', 'unit': 'kg CO2-Eq', 'abbreviation': 'ipcc-2021cg.9f7ec27db9910054c0528b9ec840f61f', 'num_cfs': 10, 'geocollections': ['world']}\n",
      "('IPCC 2021', 'climate change: biogenic, including SLCFs', 'global warming potential (GWP20)') : {'description': '', 'filename': 'LCIA_Implementation_3.9.xlsx', 'unit': 'kg CO2-Eq', 'abbreviation': 'ipcc-2021cg.63c435e05dae56c5eebd7bda035a0743', 'num_cfs': 10, 'geocollections': ['world']}\n",
      "('IPCC 2021', 'climate change: fossil', 'global temperature change potential (GTP100)') : {'description': '', 'filename': 'LCIA_Implementation_3.9.xlsx', 'unit': 'kg CO2-Eq', 'abbreviation': 'ipcc-2021cg.788fe9d31835af49e8e08207170c803a', 'num_cfs': 207, 'geocollections': ['world']}\n",
      "('IPCC 2021', 'climate change: fossil', 'global temperature change potential (GTP50)') : {'description': '', 'filename': 'LCIA_Implementation_3.9.xlsx', 'unit': 'kg CO2-Eq', 'abbreviation': 'ipcc-2021cg.19e6d5aeabaca876bbb57efa1821280d', 'num_cfs': 207, 'geocollections': ['world']}\n",
      "('IPCC 2021', 'climate change: fossil', 'global warming potential (GWP100)') : {'description': '', 'filename': 'LCIA_Implementation_3.9.xlsx', 'unit': 'kg CO2-Eq', 'abbreviation': 'ipcc-2021cg.b7e40ada75432fee257e97a013cc0869', 'num_cfs': 207, 'geocollections': ['world']}\n",
      "('IPCC 2021', 'climate change: fossil', 'global warming potential (GWP20)') : {'description': '', 'filename': 'LCIA_Implementation_3.9.xlsx', 'unit': 'kg CO2-Eq', 'abbreviation': 'ipcc-2021cg.b9e870abe2c4e118cc7f5f02e6446216', 'num_cfs': 207, 'geocollections': ['world']}\n",
      "('IPCC 2021', 'climate change: fossil', 'global warming potential (GWP500)') : {'description': '', 'filename': 'LCIA_Implementation_3.9.xlsx', 'unit': 'kg CO2-Eq', 'abbreviation': 'ipcc-2021cg.42ad09355ddb1fb681a9b65ada8a626e', 'num_cfs': 207, 'geocollections': ['world']}\n",
      "('IPCC 2021', 'climate change: fossil, including SLCFs', 'global temperature change potential (GTP100)') : {'description': '', 'filename': 'LCIA_Implementation_3.9.xlsx', 'unit': 'kg CO2-Eq', 'abbreviation': 'ipcc-2021cg.73213d1e84536f135bf76a19c5460178', 'num_cfs': 214, 'geocollections': ['world']}\n",
      "('IPCC 2021', 'climate change: fossil, including SLCFs', 'global warming potential (GWP100)') : {'description': '', 'filename': 'LCIA_Implementation_3.9.xlsx', 'unit': 'kg CO2-Eq', 'abbreviation': 'ipcc-2021cg.cf3bb42032224d171f3d623a52d2986f', 'num_cfs': 214, 'geocollections': ['world']}\n",
      "('IPCC 2021', 'climate change: fossil, including SLCFs', 'global warming potential (GWP20)') : {'description': '', 'filename': 'LCIA_Implementation_3.9.xlsx', 'unit': 'kg CO2-Eq', 'abbreviation': 'ipcc-2021cg.5968b712ba36bc4a298c5e1b36e0e2c1', 'num_cfs': 214, 'geocollections': ['world']}\n",
      "('IPCC 2021', 'climate change: including SLCFs', 'global temperature change potential (GTP100)') : {'description': '', 'filename': 'LCIA_Implementation_3.9.xlsx', 'unit': 'kg CO2-Eq', 'abbreviation': 'ipcc-2021cg.27eb4e64bcbc2eb97397615b0252f117', 'num_cfs': 243, 'geocollections': ['world']}\n",
      "('IPCC 2021', 'climate change: including SLCFs', 'global warming potential (GWP100)') : {'description': '', 'filename': 'LCIA_Implementation_3.9.xlsx', 'unit': 'kg CO2-Eq', 'abbreviation': 'ipcc-2021cg.86cd92fcabe8ce220026e22ca6a19733', 'num_cfs': 243, 'geocollections': ['world']}\n",
      "('IPCC 2021', 'climate change: including SLCFs', 'global warming potential (GWP20)') : {'description': '', 'filename': 'LCIA_Implementation_3.9.xlsx', 'unit': 'kg CO2-Eq', 'abbreviation': 'ipcc-2021cg.7a55ba179884f81593a13ef5d5f39247', 'num_cfs': 243, 'geocollections': ['world']}\n",
      "('IPCC 2021', 'climate change: land use', 'global temperature change potential (GTP100)') : {'description': '', 'filename': 'LCIA_Implementation_3.9.xlsx', 'unit': 'kg CO2-Eq', 'abbreviation': 'ipcc-2021cg.059f40104ed537f5f26e95372470a097', 'num_cfs': 14, 'geocollections': ['world']}\n",
      "('IPCC 2021', 'climate change: land use', 'global temperature change potential (GTP50)') : {'description': '', 'filename': 'LCIA_Implementation_3.9.xlsx', 'unit': 'kg CO2-Eq', 'abbreviation': 'ipcc-2021cg.8164294a7add3a803bf78bdabca196f9', 'num_cfs': 14, 'geocollections': ['world']}\n",
      "('IPCC 2021', 'climate change: land use', 'global warming potential (GWP100)') : {'description': '', 'filename': 'LCIA_Implementation_3.9.xlsx', 'unit': 'kg CO2-Eq', 'abbreviation': 'ipcc-2021cg.9302b5a601986188b8a084ad84feb860', 'num_cfs': 14, 'geocollections': ['world']}\n",
      "('IPCC 2021', 'climate change: land use', 'global warming potential (GWP20)') : {'description': '', 'filename': 'LCIA_Implementation_3.9.xlsx', 'unit': 'kg CO2-Eq', 'abbreviation': 'ipcc-2021cg.a87a40a1cb8c95d7efe543fa554dfa30', 'num_cfs': 14, 'geocollections': ['world']}\n",
      "('IPCC 2021', 'climate change: land use', 'global warming potential (GWP500)') : {'description': '', 'filename': 'LCIA_Implementation_3.9.xlsx', 'unit': 'kg CO2-Eq', 'abbreviation': 'ipcc-2021cg.f1b989d33f8d9ae3bd7cc5f61f5932d7', 'num_cfs': 14, 'geocollections': ['world']}\n",
      "('IPCC 2021', 'climate change: land use, including SLCFs', 'global temperature change potential (GTP100)') : {'description': '', 'filename': 'LCIA_Implementation_3.9.xlsx', 'unit': 'kg CO2-Eq', 'abbreviation': 'ipcc-2021cg.c49d968e47bdb93f50b88ac445f9e6b9', 'num_cfs': 19, 'geocollections': ['world']}\n",
      "('IPCC 2021', 'climate change: land use, including SLCFs', 'global warming potential (GWP100)') : {'description': '', 'filename': 'LCIA_Implementation_3.9.xlsx', 'unit': 'kg CO2-Eq', 'abbreviation': 'ipcc-2021cg.b037fbb21c77feda6da5fe523c2c1ebf', 'num_cfs': 19, 'geocollections': ['world']}\n",
      "('IPCC 2021', 'climate change: land use, including SLCFs', 'global warming potential (GWP20)') : {'description': '', 'filename': 'LCIA_Implementation_3.9.xlsx', 'unit': 'kg CO2-Eq', 'abbreviation': 'ipcc-2021cg.bd5908fca218b3fb9bcdb2db54d3f35e', 'num_cfs': 19, 'geocollections': ['world']}\n",
      "('ReCiPe 2016 v1.03, endpoint (E) no LT', 'ecosystem quality no LT', 'acidification: terrestrial no LT') : {'description': '', 'filename': 'LCIA_Implementation_3.9.xlsx', 'unit': 'species.yr', 'abbreviation': 'recipe-2016-v103-endpoint-e-no-ltea.8fe55da06e7fe1fed83ef9abec3ead2a', 'num_cfs': 24, 'geocollections': ['world']}\n",
      "('ReCiPe 2016 v1.03, endpoint (E) no LT', 'ecosystem quality no LT', 'climate change: freshwater ecosystems no LT') : {'description': '', 'filename': 'LCIA_Implementation_3.9.xlsx', 'unit': 'species.yr', 'abbreviation': 'recipe-2016-v103-endpoint-e-no-ltec.010a3c7eeb3aaaea61d1d48f95945347', 'num_cfs': 131, 'geocollections': ['world']}\n",
      "('ReCiPe 2016 v1.03, endpoint (E) no LT', 'ecosystem quality no LT', 'climate change: terrestrial ecosystems no LT') : {'description': '', 'filename': 'LCIA_Implementation_3.9.xlsx', 'unit': 'species.yr', 'abbreviation': 'recipe-2016-v103-endpoint-e-no-ltec.44cb5f153f6dc76962bd8131813464ac', 'num_cfs': 131, 'geocollections': ['world']}\n",
      "('ReCiPe 2016 v1.03, endpoint (E) no LT', 'ecosystem quality no LT', 'ecotoxicity: freshwater no LT') : {'description': '', 'filename': 'LCIA_Implementation_3.9.xlsx', 'unit': 'species.yr', 'abbreviation': 'recipe-2016-v103-endpoint-e-no-ltee.23bd6946e531a7e6e838a094417963bf', 'num_cfs': 1538, 'geocollections': ['world']}\n",
      "('ReCiPe 2016 v1.03, endpoint (E) no LT', 'ecosystem quality no LT', 'ecotoxicity: marine no LT') : {'description': '', 'filename': 'LCIA_Implementation_3.9.xlsx', 'unit': 'species.yr', 'abbreviation': 'recipe-2016-v103-endpoint-e-no-ltee.d855a7a3bbf7d989c2d8166b3d907895', 'num_cfs': 1538, 'geocollections': ['world']}\n",
      "('ReCiPe 2016 v1.03, endpoint (E) no LT', 'ecosystem quality no LT', 'ecotoxicity: terrestrial no LT') : {'description': '', 'filename': 'LCIA_Implementation_3.9.xlsx', 'unit': 'species.yr', 'abbreviation': 'recipe-2016-v103-endpoint-e-no-ltee.f8bbf6803cd30913caad1f3f31ca2108', 'num_cfs': 1535, 'geocollections': ['world']}\n",
      "('ReCiPe 2016 v1.03, endpoint (E) no LT', 'ecosystem quality no LT', 'eutrophication: freshwater no LT') : {'description': '', 'filename': 'LCIA_Implementation_3.9.xlsx', 'unit': 'species.yr', 'abbreviation': 'recipe-2016-v103-endpoint-e-no-ltee.bcbcd5a7fb70f05b9346102fa4e41da1', 'num_cfs': 11, 'geocollections': ['world']}\n",
      "('ReCiPe 2016 v1.03, endpoint (E) no LT', 'ecosystem quality no LT', 'eutrophication: marine no LT') : {'description': '', 'filename': 'LCIA_Implementation_3.9.xlsx', 'unit': 'species.yr', 'abbreviation': 'recipe-2016-v103-endpoint-e-no-ltee.528b4438bd3da751b6b38a787cdd7ab5', 'num_cfs': 18, 'geocollections': ['world']}\n",
      "('ReCiPe 2016 v1.03, endpoint (E) no LT', 'ecosystem quality no LT', 'land use no LT') : {'description': '', 'filename': 'LCIA_Implementation_3.9.xlsx', 'unit': 'species.yr', 'abbreviation': 'recipe-2016-v103-endpoint-e-no-ltel.c6d3a74f076ca024dda0553ad888eb13', 'num_cfs': 51, 'geocollections': ['world']}\n",
      "('ReCiPe 2016 v1.03, endpoint (E) no LT', 'ecosystem quality no LT', 'photochemical oxidant formation: terrestrial ecosystems no LT') : {'description': '', 'filename': 'LCIA_Implementation_3.9.xlsx', 'unit': 'species.yr', 'abbreviation': 'recipe-2016-v103-endpoint-e-no-ltep.3f431f818f94f9c20188c0ff7c17b8e6', 'num_cfs': 162, 'geocollections': ['world']}\n",
      "('ReCiPe 2016 v1.03, endpoint (E) no LT', 'ecosystem quality no LT', 'water use: aquatic ecosystems no LT') : {'description': '', 'filename': 'LCIA_Implementation_3.9.xlsx', 'unit': 'species.yr', 'abbreviation': 'recipe-2016-v103-endpoint-e-no-ltew.3b9c0722eadc240d1ad480b4830b86c8', 'num_cfs': 4, 'geocollections': ['world']}\n",
      "('ReCiPe 2016 v1.03, endpoint (E) no LT', 'ecosystem quality no LT', 'water use: terrestrial ecosystems no LT') : {'description': '', 'filename': 'LCIA_Implementation_3.9.xlsx', 'unit': 'species.yr', 'abbreviation': 'recipe-2016-v103-endpoint-e-no-ltew.9a87debab9acdec798bed53fb45f364b', 'num_cfs': 4, 'geocollections': ['world']}\n",
      "('ReCiPe 2016 v1.03, endpoint (E) no LT', 'human health no LT', 'climate change: human health no LT') : {'description': '', 'filename': 'LCIA_Implementation_3.9.xlsx', 'unit': 'DALYs', 'abbreviation': 'recipe-2016-v103-endpoint-e-no-lthc.f3996676d809868b1ff68af93bffdc69', 'num_cfs': 131, 'geocollections': ['world']}\n",
      "('ReCiPe 2016 v1.03, endpoint (E) no LT', 'human health no LT', 'human toxicity: carcinogenic no LT') : {'description': '', 'filename': 'LCIA_Implementation_3.9.xlsx', 'unit': 'DALYs', 'abbreviation': 'recipe-2016-v103-endpoint-e-no-lthh.9beefb83e1bda7fe22bfd0f8ce3ddf40', 'num_cfs': 453, 'geocollections': ['world']}\n",
      "('ReCiPe 2016 v1.03, endpoint (E) no LT', 'human health no LT', 'human toxicity: non-carcinogenic no LT') : {'description': '', 'filename': 'LCIA_Implementation_3.9.xlsx', 'unit': 'DALYs', 'abbreviation': 'recipe-2016-v103-endpoint-e-no-lthh.e7303fff6251bf138e144b56239f8340', 'num_cfs': 1034, 'geocollections': ['world']}\n",
      "('ReCiPe 2016 v1.03, endpoint (E) no LT', 'human health no LT', 'ionising radiation no LT') : {'description': '', 'filename': 'LCIA_Implementation_3.9.xlsx', 'unit': 'DALYs', 'abbreviation': 'recipe-2016-v103-endpoint-e-no-lthi.58f2614c3f9dc2d249d22d8e603937b8', 'num_cfs': 203, 'geocollections': ['world']}\n",
      "('ReCiPe 2016 v1.03, endpoint (E) no LT', 'human health no LT', 'ozone depletion no LT') : {'description': '', 'filename': 'LCIA_Implementation_3.9.xlsx', 'unit': 'DALYs', 'abbreviation': 'recipe-2016-v103-endpoint-e-no-ltho.7fc17468c7611c4093a5132fb461e258', 'num_cfs': 50, 'geocollections': ['world']}\n",
      "('ReCiPe 2016 v1.03, endpoint (E) no LT', 'human health no LT', 'particulate matter formation no LT') : {'description': '', 'filename': 'LCIA_Implementation_3.9.xlsx', 'unit': 'DALYs', 'abbreviation': 'recipe-2016-v103-endpoint-e-no-lthp.a4acc2de5455519211cb205d3476aaf5', 'num_cfs': 26, 'geocollections': ['world']}\n",
      "('ReCiPe 2016 v1.03, endpoint (E) no LT', 'human health no LT', 'photochemical oxidant formation: human health no LT') : {'description': '', 'filename': 'LCIA_Implementation_3.9.xlsx', 'unit': 'DALYs', 'abbreviation': 'recipe-2016-v103-endpoint-e-no-lthp.802cfbd9faf5f23a11806fdc7920d76a', 'num_cfs': 162, 'geocollections': ['world']}\n",
      "('ReCiPe 2016 v1.03, endpoint (E) no LT', 'human health no LT', 'water use: human health no LT') : {'description': '', 'filename': 'LCIA_Implementation_3.9.xlsx', 'unit': 'DALYs', 'abbreviation': 'recipe-2016-v103-endpoint-e-no-lthw.9367e8a2486edc42c7123e27eee3de88', 'num_cfs': 4, 'geocollections': ['world']}\n",
      "('ReCiPe 2016 v1.03, endpoint (E) no LT', 'natural resources no LT', 'energy resources: non-renewable, fossil no LT') : {'description': '', 'filename': 'LCIA_Implementation_3.9.xlsx', 'unit': 'USD 2013', 'abbreviation': 'recipe-2016-v103-endpoint-e-no-ltne.d11cc384b9d5156baf2d0c2146b49988', 'num_cfs': 6, 'geocollections': ['world']}\n",
      "('ReCiPe 2016 v1.03, endpoint (E) no LT', 'natural resources no LT', 'material resources: metals/minerals no LT') : {'description': '', 'filename': 'LCIA_Implementation_3.9.xlsx', 'unit': 'USD 2013', 'abbreviation': 'recipe-2016-v103-endpoint-e-no-ltnm.adb48904fe108eb287429ce657aaf4a5', 'num_cfs': 149, 'geocollections': ['world']}\n",
      "('ReCiPe 2016 v1.03, endpoint (E) no LT', 'total: ecosystem quality no LT', 'ecosystem quality no LT') : {'description': '', 'filename': 'LCIA_Implementation_3.9.xlsx', 'unit': 'species.yr', 'abbreviation': 'recipe-2016-v103-endpoint-e-no-ltte.3be6c082aa99f73aca346ef91d3cc780', 'num_cfs': 1819, 'geocollections': ['world']}\n",
      "('ReCiPe 2016 v1.03, endpoint (E) no LT', 'total: human health no LT', 'human health no LT') : {'description': '', 'filename': 'LCIA_Implementation_3.9.xlsx', 'unit': 'DALYs', 'abbreviation': 'recipe-2016-v103-endpoint-e-no-ltth.d158a109eff65d801a52b80eb9a7f249', 'num_cfs': 1539, 'geocollections': ['world']}\n",
      "('ReCiPe 2016 v1.03, endpoint (E) no LT', 'total: natural resources no LT', 'natural resources no LT') : {'description': '', 'filename': 'LCIA_Implementation_3.9.xlsx', 'unit': 'USD 2013', 'abbreviation': 'recipe-2016-v103-endpoint-e-no-lttn.261a09c1d697df88ff5b35db9eaffcde', 'num_cfs': 159, 'geocollections': ['world']}\n",
      "('ReCiPe 2016 v1.03, endpoint (E)', 'ecosystem quality', 'acidification: terrestrial') : {'description': '', 'filename': 'LCIA_Implementation_3.9.xlsx', 'unit': 'species.yr', 'abbreviation': 'recipe-2016-v103-endpoint-eea.fdde1681653a45c6db5fee280f61824e', 'num_cfs': 29, 'geocollections': ['world']}\n",
      "('ReCiPe 2016 v1.03, endpoint (E)', 'ecosystem quality', 'climate change: freshwater ecosystems') : {'description': '', 'filename': 'LCIA_Implementation_3.9.xlsx', 'unit': 'species.yr', 'abbreviation': 'recipe-2016-v103-endpoint-eec.6918c6484ee124dd4547f08e7297de1d', 'num_cfs': 155, 'geocollections': ['world']}\n",
      "('ReCiPe 2016 v1.03, endpoint (E)', 'ecosystem quality', 'climate change: terrestrial ecosystems') : {'description': '', 'filename': 'LCIA_Implementation_3.9.xlsx', 'unit': 'species.yr', 'abbreviation': 'recipe-2016-v103-endpoint-eec.d4fec82621ac30fb9e86fc639ad42cc2', 'num_cfs': 155, 'geocollections': ['world']}\n",
      "('ReCiPe 2016 v1.03, endpoint (E)', 'ecosystem quality', 'ecotoxicity: freshwater') : {'description': '', 'filename': 'LCIA_Implementation_3.9.xlsx', 'unit': 'species.yr', 'abbreviation': 'recipe-2016-v103-endpoint-eee.7b81eb4479357b1b01731a5bb32e9e2e', 'num_cfs': 1760, 'geocollections': ['world']}\n",
      "('ReCiPe 2016 v1.03, endpoint (E)', 'ecosystem quality', 'ecotoxicity: marine') : {'description': '', 'filename': 'LCIA_Implementation_3.9.xlsx', 'unit': 'species.yr', 'abbreviation': 'recipe-2016-v103-endpoint-eee.40bbcc29f70d258b947b7fbd7af67d8f', 'num_cfs': 1760, 'geocollections': ['world']}\n",
      "('ReCiPe 2016 v1.03, endpoint (E)', 'ecosystem quality', 'ecotoxicity: terrestrial') : {'description': '', 'filename': 'LCIA_Implementation_3.9.xlsx', 'unit': 'species.yr', 'abbreviation': 'recipe-2016-v103-endpoint-eee.a5ac565ac133da9b095fd547e8ef2148', 'num_cfs': 1757, 'geocollections': ['world']}\n",
      "('ReCiPe 2016 v1.03, endpoint (E)', 'ecosystem quality', 'eutrophication: freshwater') : {'description': '', 'filename': 'LCIA_Implementation_3.9.xlsx', 'unit': 'species.yr', 'abbreviation': 'recipe-2016-v103-endpoint-eee.39265e898bb1e1d47b9888d117c76ec5', 'num_cfs': 13, 'geocollections': ['world']}\n",
      "('ReCiPe 2016 v1.03, endpoint (E)', 'ecosystem quality', 'eutrophication: marine') : {'description': '', 'filename': 'LCIA_Implementation_3.9.xlsx', 'unit': 'species.yr', 'abbreviation': 'recipe-2016-v103-endpoint-eee.14e6857940d2d44cd8b31a5685b395b7', 'num_cfs': 22, 'geocollections': ['world']}\n",
      "('ReCiPe 2016 v1.03, endpoint (E)', 'ecosystem quality', 'land use') : {'description': '', 'filename': 'LCIA_Implementation_3.9.xlsx', 'unit': 'species.yr', 'abbreviation': 'recipe-2016-v103-endpoint-eel.d25f4773e74a5e1628b90c03ffc8c3e9', 'num_cfs': 51, 'geocollections': ['world']}\n",
      "('ReCiPe 2016 v1.03, endpoint (E)', 'ecosystem quality', 'photochemical oxidant formation: terrestrial ecosystems') : {'description': '', 'filename': 'LCIA_Implementation_3.9.xlsx', 'unit': 'species.yr', 'abbreviation': 'recipe-2016-v103-endpoint-eep.fbfa9bf2b15ed268e1b6ca524dc9fb42', 'num_cfs': 178, 'geocollections': ['world']}\n",
      "('ReCiPe 2016 v1.03, endpoint (E)', 'ecosystem quality', 'water use: aquatic ecosystems') : {'description': '', 'filename': 'LCIA_Implementation_3.9.xlsx', 'unit': 'species.yr', 'abbreviation': 'recipe-2016-v103-endpoint-eew.73d9d34fbde0639c7e6f5f4c4b03a5d1', 'num_cfs': 5, 'geocollections': ['world']}\n",
      "('ReCiPe 2016 v1.03, endpoint (E)', 'ecosystem quality', 'water use: terrestrial ecosystems') : {'description': '', 'filename': 'LCIA_Implementation_3.9.xlsx', 'unit': 'species.yr', 'abbreviation': 'recipe-2016-v103-endpoint-eew.10bde0b817aa1d9c3328afc94b0ce026', 'num_cfs': 5, 'geocollections': ['world']}\n",
      "('ReCiPe 2016 v1.03, endpoint (E)', 'human health', 'climate change: human health') : {'description': '', 'filename': 'LCIA_Implementation_3.9.xlsx', 'unit': 'DALYs', 'abbreviation': 'recipe-2016-v103-endpoint-ehc.4d912443e239a7d831844cdfad692440', 'num_cfs': 155, 'geocollections': ['world']}\n",
      "('ReCiPe 2016 v1.03, endpoint (E)', 'human health', 'human toxicity: carcinogenic') : {'description': '', 'filename': 'LCIA_Implementation_3.9.xlsx', 'unit': 'DALYs', 'abbreviation': 'recipe-2016-v103-endpoint-ehh.1c7e7eacb466f318405ee8d707e88d06', 'num_cfs': 542, 'geocollections': ['world']}\n",
      "('ReCiPe 2016 v1.03, endpoint (E)', 'human health', 'human toxicity: non-carcinogenic') : {'description': '', 'filename': 'LCIA_Implementation_3.9.xlsx', 'unit': 'DALYs', 'abbreviation': 'recipe-2016-v103-endpoint-ehh.520a1b6b7e44d5365208b5ec28daff66', 'num_cfs': 1184, 'geocollections': ['world']}\n",
      "('ReCiPe 2016 v1.03, endpoint (E)', 'human health', 'ionising radiation') : {'description': '', 'filename': 'LCIA_Implementation_3.9.xlsx', 'unit': 'DALYs', 'abbreviation': 'recipe-2016-v103-endpoint-ehi.0a3912f94ed0e116e85519be1f9c350d', 'num_cfs': 253, 'geocollections': ['world']}\n",
      "('ReCiPe 2016 v1.03, endpoint (E)', 'human health', 'ozone depletion') : {'description': '', 'filename': 'LCIA_Implementation_3.9.xlsx', 'unit': 'DALYs', 'abbreviation': 'recipe-2016-v103-endpoint-eho.720a346fb2e9d0e1b300386a0621f2b4', 'num_cfs': 57, 'geocollections': ['world']}\n",
      "('ReCiPe 2016 v1.03, endpoint (E)', 'human health', 'particulate matter formation') : {'description': '', 'filename': 'LCIA_Implementation_3.9.xlsx', 'unit': 'DALYs', 'abbreviation': 'recipe-2016-v103-endpoint-ehp.23fab9348227293fccdb5084b429793d', 'num_cfs': 32, 'geocollections': ['world']}\n",
      "('ReCiPe 2016 v1.03, endpoint (E)', 'human health', 'photochemical oxidant formation: human health') : {'description': '', 'filename': 'LCIA_Implementation_3.9.xlsx', 'unit': 'DALYs', 'abbreviation': 'recipe-2016-v103-endpoint-ehp.f235cb113e1e1ea00d1a794aaf3f5a74', 'num_cfs': 178, 'geocollections': ['world']}\n",
      "('ReCiPe 2016 v1.03, endpoint (E)', 'human health', 'water use: human health') : {'description': '', 'filename': 'LCIA_Implementation_3.9.xlsx', 'unit': 'DALYs', 'abbreviation': 'recipe-2016-v103-endpoint-ehw.764a7a580f23577c240c76c3719dae41', 'num_cfs': 5, 'geocollections': ['world']}\n",
      "('ReCiPe 2016 v1.03, endpoint (E)', 'natural resources', 'energy resources: non-renewable, fossil') : {'description': '', 'filename': 'LCIA_Implementation_3.9.xlsx', 'unit': 'USD 2013', 'abbreviation': 'recipe-2016-v103-endpoint-ene.889d0b6aa9347d17321a9f9869b5928a', 'num_cfs': 6, 'geocollections': ['world']}\n",
      "('ReCiPe 2016 v1.03, endpoint (E)', 'natural resources', 'material resources: metals/minerals') : {'description': '', 'filename': 'LCIA_Implementation_3.9.xlsx', 'unit': 'USD 2013', 'abbreviation': 'recipe-2016-v103-endpoint-enm.2b3a2fb1e5ad09e54b513cc8f2a32b09', 'num_cfs': 149, 'geocollections': ['world']}\n",
      "('ReCiPe 2016 v1.03, endpoint (E)', 'total: ecosystem quality', 'ecosystem quality') : {'description': '', 'filename': 'LCIA_Implementation_3.9.xlsx', 'unit': 'species.yr', 'abbreviation': 'recipe-2016-v103-endpoint-ete.a6b212f0b832b38918060ea628c37bc9', 'num_cfs': 2091, 'geocollections': ['world']}\n",
      "('ReCiPe 2016 v1.03, endpoint (E)', 'total: human health', 'human health') : {'description': '', 'filename': 'LCIA_Implementation_3.9.xlsx', 'unit': 'DALYs', 'abbreviation': 'recipe-2016-v103-endpoint-eth.36793640a1b40f7ea79a24eab1d7e2b1', 'num_cfs': 1803, 'geocollections': ['world']}\n",
      "('ReCiPe 2016 v1.03, endpoint (E)', 'total: natural resources', 'natural resources') : {'description': '', 'filename': 'LCIA_Implementation_3.9.xlsx', 'unit': 'USD 2013', 'abbreviation': 'recipe-2016-v103-endpoint-etn.a16ced15e6c6fe3354ad38e5cadec2ae', 'num_cfs': 160, 'geocollections': ['world']}\n",
      "('ReCiPe 2016 v1.03, endpoint (H) no LT', 'ecosystem quality no LT', 'acidification: terrestrial no LT') : {'description': '', 'filename': 'LCIA_Implementation_3.9.xlsx', 'unit': 'species.yr', 'abbreviation': 'recipe-2016-v103-endpoint-h-no-ltea.44cc02ff0928093f42a8098afb242116', 'num_cfs': 24, 'geocollections': ['world']}\n",
      "('ReCiPe 2016 v1.03, endpoint (H) no LT', 'ecosystem quality no LT', 'climate change: freshwater ecosystems no LT') : {'description': '', 'filename': 'LCIA_Implementation_3.9.xlsx', 'unit': 'species.yr', 'abbreviation': 'recipe-2016-v103-endpoint-h-no-ltec.74aa7e38628afa34d2a9532c39425a98', 'num_cfs': 131, 'geocollections': ['world']}\n",
      "('ReCiPe 2016 v1.03, endpoint (H) no LT', 'ecosystem quality no LT', 'climate change: terrestrial ecosystems no LT') : {'description': '', 'filename': 'LCIA_Implementation_3.9.xlsx', 'unit': 'species.yr', 'abbreviation': 'recipe-2016-v103-endpoint-h-no-ltec.45a98e980cdee7d8123b0f769ea1a2f7', 'num_cfs': 131, 'geocollections': ['world']}\n",
      "('ReCiPe 2016 v1.03, endpoint (H) no LT', 'ecosystem quality no LT', 'ecotoxicity: freshwater no LT') : {'description': '', 'filename': 'LCIA_Implementation_3.9.xlsx', 'unit': 'species.yr', 'abbreviation': 'recipe-2016-v103-endpoint-h-no-ltee.a6392b0837bf7db564fb7fe72350f451', 'num_cfs': 1538, 'geocollections': ['world']}\n",
      "('ReCiPe 2016 v1.03, endpoint (H) no LT', 'ecosystem quality no LT', 'ecotoxicity: marine no LT') : {'description': '', 'filename': 'LCIA_Implementation_3.9.xlsx', 'unit': 'species.yr', 'abbreviation': 'recipe-2016-v103-endpoint-h-no-ltee.a5c16ef1f8096c7b879da310e172cf59', 'num_cfs': 1538, 'geocollections': ['world']}\n",
      "('ReCiPe 2016 v1.03, endpoint (H) no LT', 'ecosystem quality no LT', 'ecotoxicity: terrestrial no LT') : {'description': '', 'filename': 'LCIA_Implementation_3.9.xlsx', 'unit': 'species.yr', 'abbreviation': 'recipe-2016-v103-endpoint-h-no-ltee.81370bb7be986d09347386cd1c172cdd', 'num_cfs': 1535, 'geocollections': ['world']}\n",
      "('ReCiPe 2016 v1.03, endpoint (H) no LT', 'ecosystem quality no LT', 'eutrophication: freshwater no LT') : {'description': '', 'filename': 'LCIA_Implementation_3.9.xlsx', 'unit': 'species.yr', 'abbreviation': 'recipe-2016-v103-endpoint-h-no-ltee.766e3e00161ebc13cb0d1e57f6d49535', 'num_cfs': 11, 'geocollections': ['world']}\n",
      "('ReCiPe 2016 v1.03, endpoint (H) no LT', 'ecosystem quality no LT', 'eutrophication: marine no LT') : {'description': '', 'filename': 'LCIA_Implementation_3.9.xlsx', 'unit': 'species.yr', 'abbreviation': 'recipe-2016-v103-endpoint-h-no-ltee.1037d6bad0b576c06f7d7ca722e45db0', 'num_cfs': 18, 'geocollections': ['world']}\n",
      "('ReCiPe 2016 v1.03, endpoint (H) no LT', 'ecosystem quality no LT', 'land use no LT') : {'description': '', 'filename': 'LCIA_Implementation_3.9.xlsx', 'unit': 'species.yr', 'abbreviation': 'recipe-2016-v103-endpoint-h-no-ltel.86d560e3cdc118610451146c905debee', 'num_cfs': 51, 'geocollections': ['world']}\n",
      "('ReCiPe 2016 v1.03, endpoint (H) no LT', 'ecosystem quality no LT', 'photochemical oxidant formation: terrestrial ecosystems no LT') : {'description': '', 'filename': 'LCIA_Implementation_3.9.xlsx', 'unit': 'species.yr', 'abbreviation': 'recipe-2016-v103-endpoint-h-no-ltep.da05ec991466ff2f9e6ec9f5c510e5a1', 'num_cfs': 162, 'geocollections': ['world']}\n",
      "('ReCiPe 2016 v1.03, endpoint (H) no LT', 'ecosystem quality no LT', 'water use: aquatic ecosystems no LT') : {'description': '', 'filename': 'LCIA_Implementation_3.9.xlsx', 'unit': 'species.yr', 'abbreviation': 'recipe-2016-v103-endpoint-h-no-ltew.32995ac2c9984eb7b188fbc602c8197d', 'num_cfs': 4, 'geocollections': ['world']}\n",
      "('ReCiPe 2016 v1.03, endpoint (H) no LT', 'ecosystem quality no LT', 'water use: terrestrial ecosystems no LT') : {'description': '', 'filename': 'LCIA_Implementation_3.9.xlsx', 'unit': 'species.yr', 'abbreviation': 'recipe-2016-v103-endpoint-h-no-ltew.d25994c52d4ca1e8221984565da4b8a5', 'num_cfs': 4, 'geocollections': ['world']}\n",
      "('ReCiPe 2016 v1.03, endpoint (H) no LT', 'human health no LT', 'climate change: human health no LT') : {'description': '', 'filename': 'LCIA_Implementation_3.9.xlsx', 'unit': 'DALYs', 'abbreviation': 'recipe-2016-v103-endpoint-h-no-lthc.563f0afe455b7501782e171fda657545', 'num_cfs': 131, 'geocollections': ['world']}\n",
      "('ReCiPe 2016 v1.03, endpoint (H) no LT', 'human health no LT', 'human toxicity: carcinogenic no LT') : {'description': '', 'filename': 'LCIA_Implementation_3.9.xlsx', 'unit': 'DALYs', 'abbreviation': 'recipe-2016-v103-endpoint-h-no-lthh.4aabf821599032329bb42288909c48f0', 'num_cfs': 453, 'geocollections': ['world']}\n",
      "('ReCiPe 2016 v1.03, endpoint (H) no LT', 'human health no LT', 'human toxicity: non-carcinogenic no LT') : {'description': '', 'filename': 'LCIA_Implementation_3.9.xlsx', 'unit': 'DALYs', 'abbreviation': 'recipe-2016-v103-endpoint-h-no-lthh.d96092c3c495c63fca477375d446a563', 'num_cfs': 1034, 'geocollections': ['world']}\n",
      "('ReCiPe 2016 v1.03, endpoint (H) no LT', 'human health no LT', 'ionising radiation no LT') : {'description': '', 'filename': 'LCIA_Implementation_3.9.xlsx', 'unit': 'DALYs', 'abbreviation': 'recipe-2016-v103-endpoint-h-no-lthi.11bd27ddafc05dc01ba6de067c7cde1e', 'num_cfs': 149, 'geocollections': ['world']}\n",
      "('ReCiPe 2016 v1.03, endpoint (H) no LT', 'human health no LT', 'ozone depletion no LT') : {'description': '', 'filename': 'LCIA_Implementation_3.9.xlsx', 'unit': 'DALYs', 'abbreviation': 'recipe-2016-v103-endpoint-h-no-ltho.9b2b4b7a738790f5507b1f82d2b19c36', 'num_cfs': 50, 'geocollections': ['world']}\n",
      "('ReCiPe 2016 v1.03, endpoint (H) no LT', 'human health no LT', 'particulate matter formation no LT') : {'description': '', 'filename': 'LCIA_Implementation_3.9.xlsx', 'unit': 'DALYs', 'abbreviation': 'recipe-2016-v103-endpoint-h-no-lthp.4b3564e32822ae823ce95d0c50f1b7be', 'num_cfs': 26, 'geocollections': ['world']}\n",
      "('ReCiPe 2016 v1.03, endpoint (H) no LT', 'human health no LT', 'photochemical oxidant formation: human health no LT') : {'description': '', 'filename': 'LCIA_Implementation_3.9.xlsx', 'unit': 'DALYs', 'abbreviation': 'recipe-2016-v103-endpoint-h-no-lthp.681cec75c69b968160d46b0b1d1d84c6', 'num_cfs': 162, 'geocollections': ['world']}\n",
      "('ReCiPe 2016 v1.03, endpoint (H) no LT', 'human health no LT', 'water use: human health no LT') : {'description': '', 'filename': 'LCIA_Implementation_3.9.xlsx', 'unit': 'DALYs', 'abbreviation': 'recipe-2016-v103-endpoint-h-no-lthw.0f6d9038f5f5177f813e441419402eda', 'num_cfs': 4, 'geocollections': ['world']}\n",
      "('ReCiPe 2016 v1.03, endpoint (H) no LT', 'natural resources no LT', 'energy resources: non-renewable, fossil no LT') : {'description': '', 'filename': 'LCIA_Implementation_3.9.xlsx', 'unit': 'USD 2013', 'abbreviation': 'recipe-2016-v103-endpoint-h-no-ltne.3dcc64291e52b4a8ad5e9864a5eca597', 'num_cfs': 4, 'geocollections': ['world']}\n",
      "('ReCiPe 2016 v1.03, endpoint (H) no LT', 'natural resources no LT', 'material resources: metals/minerals no LT') : {'description': '', 'filename': 'LCIA_Implementation_3.9.xlsx', 'unit': 'USD 2013', 'abbreviation': 'recipe-2016-v103-endpoint-h-no-ltnm.66529443066520590b91b422343c8de1', 'num_cfs': 149, 'geocollections': ['world']}\n",
      "('ReCiPe 2016 v1.03, endpoint (H) no LT', 'total: ecosystem quality no LT', 'ecosystem quality no LT') : {'description': '', 'filename': 'LCIA_Implementation_3.9.xlsx', 'unit': 'species.yr', 'abbreviation': 'recipe-2016-v103-endpoint-h-no-ltte.b73939cca401cbacc0950f4b539683bf', 'num_cfs': 1819, 'geocollections': ['world']}\n",
      "('ReCiPe 2016 v1.03, endpoint (H) no LT', 'total: human health no LT', 'human health no LT') : {'description': '', 'filename': 'LCIA_Implementation_3.9.xlsx', 'unit': 'DALYs', 'abbreviation': 'recipe-2016-v103-endpoint-h-no-ltth.b5bca553f159404d4880a1175a9bd80c', 'num_cfs': 1485, 'geocollections': ['world']}\n",
      "('ReCiPe 2016 v1.03, endpoint (H) no LT', 'total: natural resources no LT', 'natural resources no LT') : {'description': '', 'filename': 'LCIA_Implementation_3.9.xlsx', 'unit': 'USD 2013', 'abbreviation': 'recipe-2016-v103-endpoint-h-no-lttn.8007dac1fef619f36b5fdbdf2bf03166', 'num_cfs': 157, 'geocollections': ['world']}\n",
      "('ReCiPe 2016 v1.03, endpoint (H)', 'ecosystem quality', 'acidification: terrestrial') : {'description': '', 'filename': 'LCIA_Implementation_3.9.xlsx', 'unit': 'species.yr', 'abbreviation': 'recipe-2016-v103-endpoint-hea.f7ce1a1e3ceed2c677c298717e4eef98', 'num_cfs': 29, 'geocollections': ['world']}\n",
      "('ReCiPe 2016 v1.03, endpoint (H)', 'ecosystem quality', 'climate change: freshwater ecosystems') : {'description': '', 'filename': 'LCIA_Implementation_3.9.xlsx', 'unit': 'species.yr', 'abbreviation': 'recipe-2016-v103-endpoint-hec.831d0a8f5262889e034403d00aeb8e11', 'num_cfs': 155, 'geocollections': ['world']}\n",
      "('ReCiPe 2016 v1.03, endpoint (H)', 'ecosystem quality', 'climate change: terrestrial ecosystems') : {'description': '', 'filename': 'LCIA_Implementation_3.9.xlsx', 'unit': 'species.yr', 'abbreviation': 'recipe-2016-v103-endpoint-hec.f4cd6a33ea66ff996bf47370ed16e312', 'num_cfs': 155, 'geocollections': ['world']}\n",
      "('ReCiPe 2016 v1.03, endpoint (H)', 'ecosystem quality', 'ecotoxicity: freshwater') : {'description': '', 'filename': 'LCIA_Implementation_3.9.xlsx', 'unit': 'species.yr', 'abbreviation': 'recipe-2016-v103-endpoint-hee.b287f88bb5f1fff26f43108425e4b8ad', 'num_cfs': 1760, 'geocollections': ['world']}\n",
      "('ReCiPe 2016 v1.03, endpoint (H)', 'ecosystem quality', 'ecotoxicity: marine') : {'description': '', 'filename': 'LCIA_Implementation_3.9.xlsx', 'unit': 'species.yr', 'abbreviation': 'recipe-2016-v103-endpoint-hee.33ad145855e11f877e79935ab26317e0', 'num_cfs': 1760, 'geocollections': ['world']}\n",
      "('ReCiPe 2016 v1.03, endpoint (H)', 'ecosystem quality', 'ecotoxicity: terrestrial') : {'description': '', 'filename': 'LCIA_Implementation_3.9.xlsx', 'unit': 'species.yr', 'abbreviation': 'recipe-2016-v103-endpoint-hee.c1b57599b250666934346f6c5140c329', 'num_cfs': 1757, 'geocollections': ['world']}\n",
      "('ReCiPe 2016 v1.03, endpoint (H)', 'ecosystem quality', 'eutrophication: freshwater') : {'description': '', 'filename': 'LCIA_Implementation_3.9.xlsx', 'unit': 'species.yr', 'abbreviation': 'recipe-2016-v103-endpoint-hee.ba60a981ecfa1e7bd14548638371c375', 'num_cfs': 13, 'geocollections': ['world']}\n",
      "('ReCiPe 2016 v1.03, endpoint (H)', 'ecosystem quality', 'eutrophication: marine') : {'description': '', 'filename': 'LCIA_Implementation_3.9.xlsx', 'unit': 'species.yr', 'abbreviation': 'recipe-2016-v103-endpoint-hee.eb3384e8c2c67a192cb41bf17bb9ab3e', 'num_cfs': 22, 'geocollections': ['world']}\n",
      "('ReCiPe 2016 v1.03, endpoint (H)', 'ecosystem quality', 'land use') : {'description': '', 'filename': 'LCIA_Implementation_3.9.xlsx', 'unit': 'species.yr', 'abbreviation': 'recipe-2016-v103-endpoint-hel.ff0f977c69b453c8aea5471ba7b6064c', 'num_cfs': 51, 'geocollections': ['world']}\n",
      "('ReCiPe 2016 v1.03, endpoint (H)', 'ecosystem quality', 'photochemical oxidant formation: terrestrial ecosystems') : {'description': '', 'filename': 'LCIA_Implementation_3.9.xlsx', 'unit': 'species.yr', 'abbreviation': 'recipe-2016-v103-endpoint-hep.0a5ec1bfd0fcc016e2aed45047d8eb05', 'num_cfs': 178, 'geocollections': ['world']}\n",
      "('ReCiPe 2016 v1.03, endpoint (H)', 'ecosystem quality', 'water use: aquatic ecosystems') : {'description': '', 'filename': 'LCIA_Implementation_3.9.xlsx', 'unit': 'species.yr', 'abbreviation': 'recipe-2016-v103-endpoint-hew.62ba466ed2ced6e4562695748599c14c', 'num_cfs': 5, 'geocollections': ['world']}\n",
      "('ReCiPe 2016 v1.03, endpoint (H)', 'ecosystem quality', 'water use: terrestrial ecosystems') : {'description': '', 'filename': 'LCIA_Implementation_3.9.xlsx', 'unit': 'species.yr', 'abbreviation': 'recipe-2016-v103-endpoint-hew.f3096a31d819af9b3ccd57f49ce8f1b8', 'num_cfs': 5, 'geocollections': ['world']}\n",
      "('ReCiPe 2016 v1.03, endpoint (H)', 'human health', 'climate change: human health') : {'description': '', 'filename': 'LCIA_Implementation_3.9.xlsx', 'unit': 'DALYs', 'abbreviation': 'recipe-2016-v103-endpoint-hhc.3b03e37527bf981cab002fd01da6fa57', 'num_cfs': 155, 'geocollections': ['world']}\n",
      "('ReCiPe 2016 v1.03, endpoint (H)', 'human health', 'human toxicity: carcinogenic') : {'description': '', 'filename': 'LCIA_Implementation_3.9.xlsx', 'unit': 'DALYs', 'abbreviation': 'recipe-2016-v103-endpoint-hhh.8820ffadaca1122dddcd29f66ea5c277', 'num_cfs': 542, 'geocollections': ['world']}\n",
      "('ReCiPe 2016 v1.03, endpoint (H)', 'human health', 'human toxicity: non-carcinogenic') : {'description': '', 'filename': 'LCIA_Implementation_3.9.xlsx', 'unit': 'DALYs', 'abbreviation': 'recipe-2016-v103-endpoint-hhh.50906bbe0a06110e4faa5be54bf95dd3', 'num_cfs': 1184, 'geocollections': ['world']}\n",
      "('ReCiPe 2016 v1.03, endpoint (H)', 'human health', 'ionising radiation') : {'description': '', 'filename': 'LCIA_Implementation_3.9.xlsx', 'unit': 'DALYs', 'abbreviation': 'recipe-2016-v103-endpoint-hhi.668effd556e2b2fa9c65794ac00db79d', 'num_cfs': 186, 'geocollections': ['world']}\n",
      "('ReCiPe 2016 v1.03, endpoint (H)', 'human health', 'ozone depletion') : {'description': '', 'filename': 'LCIA_Implementation_3.9.xlsx', 'unit': 'DALYs', 'abbreviation': 'recipe-2016-v103-endpoint-hho.2bca4a8db16fec993fcd3009da8306ad', 'num_cfs': 57, 'geocollections': ['world']}\n",
      "('ReCiPe 2016 v1.03, endpoint (H)', 'human health', 'particulate matter formation') : {'description': '', 'filename': 'LCIA_Implementation_3.9.xlsx', 'unit': 'DALYs', 'abbreviation': 'recipe-2016-v103-endpoint-hhp.b19c9e0cede145287eafd85ad6573c03', 'num_cfs': 32, 'geocollections': ['world']}\n",
      "('ReCiPe 2016 v1.03, endpoint (H)', 'human health', 'photochemical oxidant formation: human health') : {'description': '', 'filename': 'LCIA_Implementation_3.9.xlsx', 'unit': 'DALYs', 'abbreviation': 'recipe-2016-v103-endpoint-hhp.42100b85461df2a584a68f58dbea0c53', 'num_cfs': 178, 'geocollections': ['world']}\n",
      "('ReCiPe 2016 v1.03, endpoint (H)', 'human health', 'water use: human health') : {'description': '', 'filename': 'LCIA_Implementation_3.9.xlsx', 'unit': 'DALYs', 'abbreviation': 'recipe-2016-v103-endpoint-hhw.1e20e1b71a00ae0f68bd793fb95069a0', 'num_cfs': 5, 'geocollections': ['world']}\n",
      "('ReCiPe 2016 v1.03, endpoint (H)', 'natural resources', 'energy resources: non-renewable, fossil') : {'description': '', 'filename': 'LCIA_Implementation_3.9.xlsx', 'unit': 'USD 2013', 'abbreviation': 'recipe-2016-v103-endpoint-hne.bf6445cf8597b36f704a2655641a42fa', 'num_cfs': 4, 'geocollections': ['world']}\n",
      "('ReCiPe 2016 v1.03, endpoint (H)', 'natural resources', 'material resources: metals/minerals') : {'description': '', 'filename': 'LCIA_Implementation_3.9.xlsx', 'unit': 'USD 2013', 'abbreviation': 'recipe-2016-v103-endpoint-hnm.411e8f9b13621158a84d74132997862b', 'num_cfs': 149, 'geocollections': ['world']}\n",
      "('ReCiPe 2016 v1.03, endpoint (H)', 'total: ecosystem quality', 'ecosystem quality') : {'description': '', 'filename': 'LCIA_Implementation_3.9.xlsx', 'unit': 'species.yr', 'abbreviation': 'recipe-2016-v103-endpoint-hte.ce07c23072132d3e163569b5b5b18b21', 'num_cfs': 2091, 'geocollections': ['world']}\n",
      "('ReCiPe 2016 v1.03, endpoint (H)', 'total: human health', 'human health') : {'description': '', 'filename': 'LCIA_Implementation_3.9.xlsx', 'unit': 'DALYs', 'abbreviation': 'recipe-2016-v103-endpoint-hth.278be9bc69932938eb0613f39ff8cf2a', 'num_cfs': 1736, 'geocollections': ['world']}\n",
      "('ReCiPe 2016 v1.03, endpoint (H)', 'total: natural resources', 'natural resources') : {'description': '', 'filename': 'LCIA_Implementation_3.9.xlsx', 'unit': 'USD 2013', 'abbreviation': 'recipe-2016-v103-endpoint-htn.e1f7f31172ff585a2d317f1af04965d5', 'num_cfs': 158, 'geocollections': ['world']}\n",
      "('ReCiPe 2016 v1.03, endpoint (I) no LT', 'ecosystem quality no LT', 'acidification: terrestrial no LT') : {'description': '', 'filename': 'LCIA_Implementation_3.9.xlsx', 'unit': 'species.yr', 'abbreviation': 'recipe-2016-v103-endpoint-i-no-ltea.0d18649cf00aa0b07962a4f617fec235', 'num_cfs': 26, 'geocollections': ['world']}\n",
      "('ReCiPe 2016 v1.03, endpoint (I) no LT', 'ecosystem quality no LT', 'climate change: freshwater ecosystems no LT') : {'description': '', 'filename': 'LCIA_Implementation_3.9.xlsx', 'unit': 'species.yr', 'abbreviation': 'recipe-2016-v103-endpoint-i-no-ltec.44753501bee2d1b14fa9080dc2298071', 'num_cfs': 131, 'geocollections': ['world']}\n",
      "('ReCiPe 2016 v1.03, endpoint (I) no LT', 'ecosystem quality no LT', 'climate change: terrestrial ecosystems no LT') : {'description': '', 'filename': 'LCIA_Implementation_3.9.xlsx', 'unit': 'species.yr', 'abbreviation': 'recipe-2016-v103-endpoint-i-no-ltec.56ed6df609e8f59d1f4fc91cced4807d', 'num_cfs': 131, 'geocollections': ['world']}\n",
      "('ReCiPe 2016 v1.03, endpoint (I) no LT', 'ecosystem quality no LT', 'ecotoxicity: freshwater no LT') : {'description': '', 'filename': 'LCIA_Implementation_3.9.xlsx', 'unit': 'species.yr', 'abbreviation': 'recipe-2016-v103-endpoint-i-no-ltee.aa6c6a58f8f3e062b891457893af6300', 'num_cfs': 1234, 'geocollections': ['world']}\n",
      "('ReCiPe 2016 v1.03, endpoint (I) no LT', 'ecosystem quality no LT', 'ecotoxicity: marine no LT') : {'description': '', 'filename': 'LCIA_Implementation_3.9.xlsx', 'unit': 'species.yr', 'abbreviation': 'recipe-2016-v103-endpoint-i-no-ltee.aebae76ed2b1560f7c9e901ff39d6561', 'num_cfs': 1234, 'geocollections': ['world']}\n",
      "('ReCiPe 2016 v1.03, endpoint (I) no LT', 'ecosystem quality no LT', 'ecotoxicity: terrestrial no LT') : {'description': '', 'filename': 'LCIA_Implementation_3.9.xlsx', 'unit': 'species.yr', 'abbreviation': 'recipe-2016-v103-endpoint-i-no-ltee.f595b1c3168e0da73af603b815c0f3b9', 'num_cfs': 1231, 'geocollections': ['world']}\n",
      "('ReCiPe 2016 v1.03, endpoint (I) no LT', 'ecosystem quality no LT', 'eutrophication: freshwater no LT') : {'description': '', 'filename': 'LCIA_Implementation_3.9.xlsx', 'unit': 'species.yr', 'abbreviation': 'recipe-2016-v103-endpoint-i-no-ltee.55f2d0fce37a21ed9eb1f3fffe5fc2b9', 'num_cfs': 11, 'geocollections': ['world']}\n",
      "('ReCiPe 2016 v1.03, endpoint (I) no LT', 'ecosystem quality no LT', 'eutrophication: marine no LT') : {'description': '', 'filename': 'LCIA_Implementation_3.9.xlsx', 'unit': 'species.yr', 'abbreviation': 'recipe-2016-v103-endpoint-i-no-ltee.b9493f3d7aa3d581e44a63d7b5afdcae', 'num_cfs': 18, 'geocollections': ['world']}\n",
      "('ReCiPe 2016 v1.03, endpoint (I) no LT', 'ecosystem quality no LT', 'land use no LT') : {'description': '', 'filename': 'LCIA_Implementation_3.9.xlsx', 'unit': 'species.yr', 'abbreviation': 'recipe-2016-v103-endpoint-i-no-ltel.f743cff63212f5bc0f9f0808df930f39', 'num_cfs': 51, 'geocollections': ['world']}\n",
      "('ReCiPe 2016 v1.03, endpoint (I) no LT', 'ecosystem quality no LT', 'photochemical oxidant formation: terrestrial ecosystems no LT') : {'description': '', 'filename': 'LCIA_Implementation_3.9.xlsx', 'unit': 'species.yr', 'abbreviation': 'recipe-2016-v103-endpoint-i-no-ltep.85933ada1584035df9f1f83f73960675', 'num_cfs': 168, 'geocollections': ['world']}\n",
      "('ReCiPe 2016 v1.03, endpoint (I) no LT', 'ecosystem quality no LT', 'water use: aquatic ecosystems no LT') : {'description': '', 'filename': 'LCIA_Implementation_3.9.xlsx', 'unit': 'species.yr', 'abbreviation': 'recipe-2016-v103-endpoint-i-no-ltew.b35b7994e99f5678b9e4737fb7bb133f', 'num_cfs': 4, 'geocollections': ['world']}\n",
      "('ReCiPe 2016 v1.03, endpoint (I) no LT', 'human health no LT', 'climate change: human health no LT') : {'description': '', 'filename': 'LCIA_Implementation_3.9.xlsx', 'unit': 'DALYs', 'abbreviation': 'recipe-2016-v103-endpoint-i-no-lthc.7cc2ec209674f1bceef7a1834b4f7868', 'num_cfs': 131, 'geocollections': ['world']}\n",
      "('ReCiPe 2016 v1.03, endpoint (I) no LT', 'human health no LT', 'human toxicity: carcinogenic no LT') : {'description': '', 'filename': 'LCIA_Implementation_3.9.xlsx', 'unit': 'DALYs', 'abbreviation': 'recipe-2016-v103-endpoint-i-no-lthh.67cc97d33e53ed1a244ec88a0d11e954', 'num_cfs': 274, 'geocollections': ['world']}\n",
      "('ReCiPe 2016 v1.03, endpoint (I) no LT', 'human health no LT', 'human toxicity: non-carcinogenic no LT') : {'description': '', 'filename': 'LCIA_Implementation_3.9.xlsx', 'unit': 'DALYs', 'abbreviation': 'recipe-2016-v103-endpoint-i-no-lthh.a33ac9fe6c846a4e50d68d64b24e002b', 'num_cfs': 1034, 'geocollections': ['world']}\n",
      "('ReCiPe 2016 v1.03, endpoint (I) no LT', 'human health no LT', 'ionising radiation no LT') : {'description': '', 'filename': 'LCIA_Implementation_3.9.xlsx', 'unit': 'DALYs', 'abbreviation': 'recipe-2016-v103-endpoint-i-no-lthi.7e889f1b1031ba5e11ad1b420c97cb1f', 'num_cfs': 145, 'geocollections': ['world']}\n",
      "('ReCiPe 2016 v1.03, endpoint (I) no LT', 'human health no LT', 'ozone depletion no LT') : {'description': '', 'filename': 'LCIA_Implementation_3.9.xlsx', 'unit': 'DALYs', 'abbreviation': 'recipe-2016-v103-endpoint-i-no-ltho.844015653f01f499eab39dd4c97f523a', 'num_cfs': 50, 'geocollections': ['world']}\n",
      "('ReCiPe 2016 v1.03, endpoint (I) no LT', 'human health no LT', 'particulate matter formation no LT') : {'description': '', 'filename': 'LCIA_Implementation_3.9.xlsx', 'unit': 'DALYs', 'abbreviation': 'recipe-2016-v103-endpoint-i-no-lthp.9353b9c3b90538648f0a7f0c98af3aa4', 'num_cfs': 4, 'geocollections': ['world']}\n",
      "('ReCiPe 2016 v1.03, endpoint (I) no LT', 'human health no LT', 'photochemical oxidant formation: human health no LT') : {'description': '', 'filename': 'LCIA_Implementation_3.9.xlsx', 'unit': 'DALYs', 'abbreviation': 'recipe-2016-v103-endpoint-i-no-lthp.9cde8f0d75f7715460d5df63707ac0b9', 'num_cfs': 168, 'geocollections': ['world']}\n",
      "('ReCiPe 2016 v1.03, endpoint (I) no LT', 'human health no LT', 'water use: human health no LT') : {'description': '', 'filename': 'LCIA_Implementation_3.9.xlsx', 'unit': 'DALYs', 'abbreviation': 'recipe-2016-v103-endpoint-i-no-lthw.ba2296c4493b69ec1de25cff0b5caf34', 'num_cfs': 4, 'geocollections': ['world']}\n",
      "('ReCiPe 2016 v1.03, endpoint (I) no LT', 'natural resources no LT', 'energy resources: non-renewable, fossil no LT') : {'description': '', 'filename': 'LCIA_Implementation_3.9.xlsx', 'unit': 'USD 2013', 'abbreviation': 'recipe-2016-v103-endpoint-i-no-ltne.099824793e17bb55ab20f7594813c6db', 'num_cfs': 4, 'geocollections': ['world']}\n",
      "('ReCiPe 2016 v1.03, endpoint (I) no LT', 'natural resources no LT', 'material resources: metals/minerals no LT') : {'description': '', 'filename': 'LCIA_Implementation_3.9.xlsx', 'unit': 'USD 2013', 'abbreviation': 'recipe-2016-v103-endpoint-i-no-ltnm.ec62ac8f0cfd73d5628f2d8add993cf2', 'num_cfs': 149, 'geocollections': ['world']}\n",
      "('ReCiPe 2016 v1.03, endpoint (I) no LT', 'total: ecosystem quality no LT', 'ecosystem quality no LT') : {'description': '', 'filename': 'LCIA_Implementation_3.9.xlsx', 'unit': 'species.yr', 'abbreviation': 'recipe-2016-v103-endpoint-i-no-ltte.1cfd0e5496502f6f9ceb03d20412bed1', 'num_cfs': 1533, 'geocollections': ['world']}\n",
      "('ReCiPe 2016 v1.03, endpoint (I) no LT', 'total: human health no LT', 'human health no LT') : {'description': '', 'filename': 'LCIA_Implementation_3.9.xlsx', 'unit': 'DALYs', 'abbreviation': 'recipe-2016-v103-endpoint-i-no-ltth.bdccc60bc8f4c1a91246fece6f042625', 'num_cfs': 1435, 'geocollections': ['world']}\n",
      "('ReCiPe 2016 v1.03, endpoint (I) no LT', 'total: natural resources no LT', 'natural resources no LT') : {'description': '', 'filename': 'LCIA_Implementation_3.9.xlsx', 'unit': 'USD 2013', 'abbreviation': 'recipe-2016-v103-endpoint-i-no-lttn.8615eaf93773b30f1c6041d0327cbe77', 'num_cfs': 153, 'geocollections': ['world']}\n",
      "('ReCiPe 2016 v1.03, endpoint (I)', 'ecosystem quality', 'acidification: terrestrial') : {'description': '', 'filename': 'LCIA_Implementation_3.9.xlsx', 'unit': 'species.yr', 'abbreviation': 'recipe-2016-v103-endpoint-iea.74ec077a987f1b7858fd524e1b30bc8c', 'num_cfs': 32, 'geocollections': ['world']}\n",
      "('ReCiPe 2016 v1.03, endpoint (I)', 'ecosystem quality', 'climate change: freshwater ecosystems') : {'description': '', 'filename': 'LCIA_Implementation_3.9.xlsx', 'unit': 'species.yr', 'abbreviation': 'recipe-2016-v103-endpoint-iec.d34ee269382038f2cc095a4c90b73935', 'num_cfs': 155, 'geocollections': ['world']}\n",
      "('ReCiPe 2016 v1.03, endpoint (I)', 'ecosystem quality', 'climate change: terrestrial ecosystems') : {'description': '', 'filename': 'LCIA_Implementation_3.9.xlsx', 'unit': 'species.yr', 'abbreviation': 'recipe-2016-v103-endpoint-iec.44395c8f6bdcc30fc6ea67529f0e2a10', 'num_cfs': 155, 'geocollections': ['world']}\n",
      "('ReCiPe 2016 v1.03, endpoint (I)', 'ecosystem quality', 'ecotoxicity: freshwater') : {'description': '', 'filename': 'LCIA_Implementation_3.9.xlsx', 'unit': 'species.yr', 'abbreviation': 'recipe-2016-v103-endpoint-iee.0a48970bbd8b3c868e9e31d2b8abcdc1', 'num_cfs': 1412, 'geocollections': ['world']}\n",
      "('ReCiPe 2016 v1.03, endpoint (I)', 'ecosystem quality', 'ecotoxicity: marine') : {'description': '', 'filename': 'LCIA_Implementation_3.9.xlsx', 'unit': 'species.yr', 'abbreviation': 'recipe-2016-v103-endpoint-iee.0ca08e9700bc22a4d672bded6656d953', 'num_cfs': 1412, 'geocollections': ['world']}\n",
      "('ReCiPe 2016 v1.03, endpoint (I)', 'ecosystem quality', 'ecotoxicity: terrestrial') : {'description': '', 'filename': 'LCIA_Implementation_3.9.xlsx', 'unit': 'species.yr', 'abbreviation': 'recipe-2016-v103-endpoint-iee.8d0c6877929f485f65dc3b7d20cb7804', 'num_cfs': 1409, 'geocollections': ['world']}\n",
      "('ReCiPe 2016 v1.03, endpoint (I)', 'ecosystem quality', 'eutrophication: freshwater') : {'description': '', 'filename': 'LCIA_Implementation_3.9.xlsx', 'unit': 'species.yr', 'abbreviation': 'recipe-2016-v103-endpoint-iee.267f360d51090e7984169b38917b2359', 'num_cfs': 13, 'geocollections': ['world']}\n",
      "('ReCiPe 2016 v1.03, endpoint (I)', 'ecosystem quality', 'eutrophication: marine') : {'description': '', 'filename': 'LCIA_Implementation_3.9.xlsx', 'unit': 'species.yr', 'abbreviation': 'recipe-2016-v103-endpoint-iee.7ddaf5e261723881b80249c1af60958e', 'num_cfs': 22, 'geocollections': ['world']}\n",
      "('ReCiPe 2016 v1.03, endpoint (I)', 'ecosystem quality', 'land use') : {'description': '', 'filename': 'LCIA_Implementation_3.9.xlsx', 'unit': 'species.yr', 'abbreviation': 'recipe-2016-v103-endpoint-iel.41d8405c27d1a3d4ab3b1581d062ce9c', 'num_cfs': 51, 'geocollections': ['world']}\n",
      "('ReCiPe 2016 v1.03, endpoint (I)', 'ecosystem quality', 'photochemical oxidant formation: terrestrial ecosystems') : {'description': '', 'filename': 'LCIA_Implementation_3.9.xlsx', 'unit': 'species.yr', 'abbreviation': 'recipe-2016-v103-endpoint-iep.7da88abc32ffa19b33ded2844f551cc9', 'num_cfs': 187, 'geocollections': ['world']}\n",
      "('ReCiPe 2016 v1.03, endpoint (I)', 'ecosystem quality', 'water use: aquatic ecosystems') : {'description': '', 'filename': 'LCIA_Implementation_3.9.xlsx', 'unit': 'species.yr', 'abbreviation': 'recipe-2016-v103-endpoint-iew.8f5098ceabe1db4abd909781037efa9c', 'num_cfs': 5, 'geocollections': ['world']}\n",
      "('ReCiPe 2016 v1.03, endpoint (I)', 'human health', 'climate change: human health') : {'description': '', 'filename': 'LCIA_Implementation_3.9.xlsx', 'unit': 'DALYs', 'abbreviation': 'recipe-2016-v103-endpoint-ihc.35cacc5fb4842468b5911f1c1e90bbd0', 'num_cfs': 155, 'geocollections': ['world']}\n",
      "('ReCiPe 2016 v1.03, endpoint (I)', 'human health', 'human toxicity: carcinogenic') : {'description': '', 'filename': 'LCIA_Implementation_3.9.xlsx', 'unit': 'DALYs', 'abbreviation': 'recipe-2016-v103-endpoint-ihh.2fd3410899aeda67574795039d3ce0b5', 'num_cfs': 332, 'geocollections': ['world']}\n",
      "('ReCiPe 2016 v1.03, endpoint (I)', 'human health', 'human toxicity: non-carcinogenic') : {'description': '', 'filename': 'LCIA_Implementation_3.9.xlsx', 'unit': 'DALYs', 'abbreviation': 'recipe-2016-v103-endpoint-ihh.1753fdb1118e29b45744c2f67a3bd9a2', 'num_cfs': 1184, 'geocollections': ['world']}\n",
      "('ReCiPe 2016 v1.03, endpoint (I)', 'human health', 'ionising radiation') : {'description': '', 'filename': 'LCIA_Implementation_3.9.xlsx', 'unit': 'DALYs', 'abbreviation': 'recipe-2016-v103-endpoint-ihi.5a257e0f6d7804c1f9c1f54852fddf73', 'num_cfs': 181, 'geocollections': ['world']}\n",
      "('ReCiPe 2016 v1.03, endpoint (I)', 'human health', 'ozone depletion') : {'description': '', 'filename': 'LCIA_Implementation_3.9.xlsx', 'unit': 'DALYs', 'abbreviation': 'recipe-2016-v103-endpoint-iho.5492d25edd5f90f5e582042a9b30b739', 'num_cfs': 57, 'geocollections': ['world']}\n",
      "('ReCiPe 2016 v1.03, endpoint (I)', 'human health', 'particulate matter formation') : {'description': '', 'filename': 'LCIA_Implementation_3.9.xlsx', 'unit': 'DALYs', 'abbreviation': 'recipe-2016-v103-endpoint-ihp.a2b70959afdc828a393a50c5e32d62c8', 'num_cfs': 5, 'geocollections': ['world']}\n",
      "('ReCiPe 2016 v1.03, endpoint (I)', 'human health', 'photochemical oxidant formation: human health') : {'description': '', 'filename': 'LCIA_Implementation_3.9.xlsx', 'unit': 'DALYs', 'abbreviation': 'recipe-2016-v103-endpoint-ihp.606a507e01309c7e43e241116cbe378d', 'num_cfs': 187, 'geocollections': ['world']}\n",
      "('ReCiPe 2016 v1.03, endpoint (I)', 'human health', 'water use: human health') : {'description': '', 'filename': 'LCIA_Implementation_3.9.xlsx', 'unit': 'DALYs', 'abbreviation': 'recipe-2016-v103-endpoint-ihw.af33a177612b6756cdf9d48643721da4', 'num_cfs': 5, 'geocollections': ['world']}\n",
      "('ReCiPe 2016 v1.03, endpoint (I)', 'natural resources', 'energy resources: non-renewable, fossil') : {'description': '', 'filename': 'LCIA_Implementation_3.9.xlsx', 'unit': 'USD 2013', 'abbreviation': 'recipe-2016-v103-endpoint-ine.b787b4f71b3c1746395f44cd763f41b0', 'num_cfs': 4, 'geocollections': ['world']}\n",
      "('ReCiPe 2016 v1.03, endpoint (I)', 'natural resources', 'material resources: metals/minerals') : {'description': '', 'filename': 'LCIA_Implementation_3.9.xlsx', 'unit': 'USD 2013', 'abbreviation': 'recipe-2016-v103-endpoint-inm.1ed5b73965e42542ac1f7a8ade96b473', 'num_cfs': 149, 'geocollections': ['world']}\n",
      "('ReCiPe 2016 v1.03, endpoint (I)', 'total: ecosystem quality', 'ecosystem quality') : {'description': '', 'filename': 'LCIA_Implementation_3.9.xlsx', 'unit': 'species.yr', 'abbreviation': 'recipe-2016-v103-endpoint-ite.517082a9035adc6e5a021a8eb69dde4a', 'num_cfs': 1765, 'geocollections': ['world']}\n",
      "('ReCiPe 2016 v1.03, endpoint (I)', 'total: human health', 'human health') : {'description': '', 'filename': 'LCIA_Implementation_3.9.xlsx', 'unit': 'DALYs', 'abbreviation': 'recipe-2016-v103-endpoint-ith.4091c8c6471e6eb533702471456415ac', 'num_cfs': 1677, 'geocollections': ['world']}\n",
      "('ReCiPe 2016 v1.03, endpoint (I)', 'total: natural resources', 'natural resources') : {'description': '', 'filename': 'LCIA_Implementation_3.9.xlsx', 'unit': 'USD 2013', 'abbreviation': 'recipe-2016-v103-endpoint-itn.be584b3bc27f9593492468f4c684cf9c', 'num_cfs': 153, 'geocollections': ['world']}\n",
      "('ReCiPe 2016 v1.03, midpoint (E) no LT', 'acidification: terrestrial no LT', 'terrestrial acidification potential (TAP) no LT') : {'description': '', 'filename': 'LCIA_Implementation_3.9.xlsx', 'unit': 'kg SO2-Eq', 'abbreviation': 'recipe-2016-v103-midpoint-e-no-ltat.92d12fac11fe0e283634978f881a62b3', 'num_cfs': 24, 'geocollections': ['world']}\n",
      "('ReCiPe 2016 v1.03, midpoint (E) no LT', 'climate change no LT', 'global warming potential (GWP1000) no LT') : {'description': '', 'filename': 'LCIA_Implementation_3.9.xlsx', 'unit': 'kg CO2-Eq', 'abbreviation': 'recipe-2016-v103-midpoint-e-no-ltcg.ecbc2f3832ec012d006b245ad2e7331e', 'num_cfs': 131, 'geocollections': ['world']}\n",
      "('ReCiPe 2016 v1.03, midpoint (E) no LT', 'ecotoxicity: freshwater no LT', 'freshwater ecotoxicity potential (FETP) no LT') : {'description': '', 'filename': 'LCIA_Implementation_3.9.xlsx', 'unit': 'kg 1,4-DCB-Eq', 'abbreviation': 'recipe-2016-v103-midpoint-e-no-ltef.5b4926164608fa112bb44273d3755448', 'num_cfs': 1538, 'geocollections': ['world']}\n",
      "('ReCiPe 2016 v1.03, midpoint (E) no LT', 'ecotoxicity: marine no LT', 'marine ecotoxicity potential (METP) no LT') : {'description': '', 'filename': 'LCIA_Implementation_3.9.xlsx', 'unit': 'kg 1,4-DCB-Eq', 'abbreviation': 'recipe-2016-v103-midpoint-e-no-ltem.4bfa19b91d5e0e6b465e554b43527ccd', 'num_cfs': 1538, 'geocollections': ['world']}\n",
      "('ReCiPe 2016 v1.03, midpoint (E) no LT', 'ecotoxicity: terrestrial no LT', 'terrestrial ecotoxicity potential (TETP) no LT') : {'description': '', 'filename': 'LCIA_Implementation_3.9.xlsx', 'unit': 'kg 1,4-DCB-Eq', 'abbreviation': 'recipe-2016-v103-midpoint-e-no-ltet.1c6bfb8be70b6cd2478628b486fa8397', 'num_cfs': 1535, 'geocollections': ['world']}\n",
      "('ReCiPe 2016 v1.03, midpoint (E) no LT', 'energy resources: non-renewable, fossil no LT', 'fossil fuel potential (FFP) no LT') : {'description': '', 'filename': 'LCIA_Implementation_3.9.xlsx', 'unit': 'kg oil-Eq', 'abbreviation': 'recipe-2016-v103-midpoint-e-no-ltef.e4501ff70ae799400db8be85894cc64b', 'num_cfs': 6, 'geocollections': ['world']}\n",
      "('ReCiPe 2016 v1.03, midpoint (E) no LT', 'eutrophication: freshwater no LT', 'freshwater eutrophication potential (FEP) no LT') : {'description': '', 'filename': 'LCIA_Implementation_3.9.xlsx', 'unit': 'kg P-Eq', 'abbreviation': 'recipe-2016-v103-midpoint-e-no-ltef.1152fd6e31b4e7fddef32b06d075e77c', 'num_cfs': 11, 'geocollections': ['world']}\n",
      "('ReCiPe 2016 v1.03, midpoint (E) no LT', 'eutrophication: marine no LT', 'marine eutrophication potential (MEP) no LT') : {'description': '', 'filename': 'LCIA_Implementation_3.9.xlsx', 'unit': 'kg N-Eq', 'abbreviation': 'recipe-2016-v103-midpoint-e-no-ltem.2c3e157dc487c7b146a20204090fa2cc', 'num_cfs': 18, 'geocollections': ['world']}\n",
      "('ReCiPe 2016 v1.03, midpoint (E) no LT', 'human toxicity: carcinogenic no LT', 'human toxicity potential (HTPc) no LT') : {'description': '', 'filename': 'LCIA_Implementation_3.9.xlsx', 'unit': 'kg 1,4-DCB-Eq', 'abbreviation': 'recipe-2016-v103-midpoint-e-no-lthh.935e83bbbc1dce2dd7a2f28c52b23991', 'num_cfs': 453, 'geocollections': ['world']}\n",
      "('ReCiPe 2016 v1.03, midpoint (E) no LT', 'human toxicity: non-carcinogenic no LT', 'human toxicity potential (HTPnc) no LT') : {'description': '', 'filename': 'LCIA_Implementation_3.9.xlsx', 'unit': 'kg 1,4-DCB-Eq', 'abbreviation': 'recipe-2016-v103-midpoint-e-no-lthh.8011879c51a2eab528c43d23d02688e1', 'num_cfs': 1034, 'geocollections': ['world']}\n",
      "('ReCiPe 2016 v1.03, midpoint (E) no LT', 'ionising radiation no LT', 'ionising radiation potential (IRP) no LT') : {'description': '', 'filename': 'LCIA_Implementation_3.9.xlsx', 'unit': 'kg Co-60-Eq', 'abbreviation': 'recipe-2016-v103-midpoint-e-no-ltii.0fcc92f5f97ee9f7fbbf705b5caa6d4a', 'num_cfs': 203, 'geocollections': ['world']}\n",
      "('ReCiPe 2016 v1.03, midpoint (E) no LT', 'land use no LT', 'agricultural land occupation (LOP) no LT') : {'description': '', 'filename': 'LCIA_Implementation_3.9.xlsx', 'unit': 'm2*a crop-Eq', 'abbreviation': 'recipe-2016-v103-midpoint-e-no-ltla.35698b31a476f8b737264904ca972694', 'num_cfs': 51, 'geocollections': ['world']}\n",
      "('ReCiPe 2016 v1.03, midpoint (E) no LT', 'material resources: metals/minerals no LT', 'surplus ore potential (SOP) no LT') : {'description': '', 'filename': 'LCIA_Implementation_3.9.xlsx', 'unit': 'kg Cu-Eq', 'abbreviation': 'recipe-2016-v103-midpoint-e-no-ltms.3bd09723f8d6f36793eedbee94b78622', 'num_cfs': 149, 'geocollections': ['world']}\n",
      "('ReCiPe 2016 v1.03, midpoint (E) no LT', 'ozone depletion no LT', 'ozone depletion potential (ODPinfinite) no LT') : {'description': '', 'filename': 'LCIA_Implementation_3.9.xlsx', 'unit': 'kg CFC-11-Eq', 'abbreviation': 'recipe-2016-v103-midpoint-e-no-ltoo.8cec39b4fff47f251d0ccccd271bdb14', 'num_cfs': 50, 'geocollections': ['world']}\n",
      "('ReCiPe 2016 v1.03, midpoint (E) no LT', 'particulate matter formation no LT', 'particulate matter formation potential (PMFP) no LT') : {'description': '', 'filename': 'LCIA_Implementation_3.9.xlsx', 'unit': 'kg PM2.5-Eq', 'abbreviation': 'recipe-2016-v103-midpoint-e-no-ltpp.85f7852b197a2fe8466c5e64a7f9f77f', 'num_cfs': 26, 'geocollections': ['world']}\n",
      "('ReCiPe 2016 v1.03, midpoint (E) no LT', 'photochemical oxidant formation: human health no LT', 'photochemical oxidant formation potential: humans (HOFP) no LT') : {'description': '', 'filename': 'LCIA_Implementation_3.9.xlsx', 'unit': 'kg NOx-Eq', 'abbreviation': 'recipe-2016-v103-midpoint-e-no-ltpp.41e8ca854b2d2636fefea459e9f6aa72', 'num_cfs': 162, 'geocollections': ['world']}\n",
      "('ReCiPe 2016 v1.03, midpoint (E) no LT', 'photochemical oxidant formation: terrestrial ecosystems no LT', 'photochemical oxidant formation potential: ecosystems (EOFP) no LT') : {'description': '', 'filename': 'LCIA_Implementation_3.9.xlsx', 'unit': 'kg NOx-Eq', 'abbreviation': 'recipe-2016-v103-midpoint-e-no-ltpp.6a87411fa4b366e638192bc02e279a17', 'num_cfs': 162, 'geocollections': ['world']}\n",
      "('ReCiPe 2016 v1.03, midpoint (E) no LT', 'water use no LT', 'water consumption potential (WCP) no LT') : {'description': '', 'filename': 'LCIA_Implementation_3.9.xlsx', 'unit': 'cubic meter', 'abbreviation': 'recipe-2016-v103-midpoint-e-no-ltww.fbe05fe613b512c599d575fd5d1aaa56', 'num_cfs': 4, 'geocollections': ['world']}\n",
      "('ReCiPe 2016 v1.03, midpoint (E)', 'acidification: terrestrial', 'terrestrial acidification potential (TAP)') : {'description': '', 'filename': 'LCIA_Implementation_3.9.xlsx', 'unit': 'kg SO2-Eq', 'abbreviation': 'recipe-2016-v103-midpoint-eat.2a21ef015379730951670ebe34f7fbd9', 'num_cfs': 29, 'geocollections': ['world']}\n",
      "('ReCiPe 2016 v1.03, midpoint (E)', 'climate change', 'global warming potential (GWP1000)') : {'description': '', 'filename': 'LCIA_Implementation_3.9.xlsx', 'unit': 'kg CO2-Eq', 'abbreviation': 'recipe-2016-v103-midpoint-ecg.daaeb194f731a118b1a141e7a1ae638b', 'num_cfs': 155, 'geocollections': ['world']}\n",
      "('ReCiPe 2016 v1.03, midpoint (E)', 'ecotoxicity: freshwater', 'freshwater ecotoxicity potential (FETP)') : {'description': '', 'filename': 'LCIA_Implementation_3.9.xlsx', 'unit': 'kg 1,4-DCB-Eq', 'abbreviation': 'recipe-2016-v103-midpoint-eef.a8a41025b0688ebc459f6b43c66a800c', 'num_cfs': 1760, 'geocollections': ['world']}\n",
      "('ReCiPe 2016 v1.03, midpoint (E)', 'ecotoxicity: marine', 'marine ecotoxicity potential (METP)') : {'description': '', 'filename': 'LCIA_Implementation_3.9.xlsx', 'unit': 'kg 1,4-DCB-Eq', 'abbreviation': 'recipe-2016-v103-midpoint-eem.59c941f1e7c3486bea2dedad3ec8a63c', 'num_cfs': 1760, 'geocollections': ['world']}\n",
      "('ReCiPe 2016 v1.03, midpoint (E)', 'ecotoxicity: terrestrial', 'terrestrial ecotoxicity potential (TETP)') : {'description': '', 'filename': 'LCIA_Implementation_3.9.xlsx', 'unit': 'kg 1,4-DCB-Eq', 'abbreviation': 'recipe-2016-v103-midpoint-eet.ba08e721ad1818050d82795f1c236b70', 'num_cfs': 1757, 'geocollections': ['world']}\n",
      "('ReCiPe 2016 v1.03, midpoint (E)', 'energy resources: non-renewable, fossil', 'fossil fuel potential (FFP)') : {'description': '', 'filename': 'LCIA_Implementation_3.9.xlsx', 'unit': 'kg oil-Eq', 'abbreviation': 'recipe-2016-v103-midpoint-eef.0e13561e63c31d3356776c27de07b40c', 'num_cfs': 6, 'geocollections': ['world']}\n",
      "('ReCiPe 2016 v1.03, midpoint (E)', 'eutrophication: freshwater', 'freshwater eutrophication potential (FEP)') : {'description': '', 'filename': 'LCIA_Implementation_3.9.xlsx', 'unit': 'kg P-Eq', 'abbreviation': 'recipe-2016-v103-midpoint-eef.3ab9856b1b8b8ce67fac4f77d3b182d4', 'num_cfs': 13, 'geocollections': ['world']}\n",
      "('ReCiPe 2016 v1.03, midpoint (E)', 'eutrophication: marine', 'marine eutrophication potential (MEP)') : {'description': '', 'filename': 'LCIA_Implementation_3.9.xlsx', 'unit': 'kg N-Eq', 'abbreviation': 'recipe-2016-v103-midpoint-eem.5d165e22953bc4b45c361f6386b6e768', 'num_cfs': 22, 'geocollections': ['world']}\n",
      "('ReCiPe 2016 v1.03, midpoint (E)', 'human toxicity: carcinogenic', 'human toxicity potential (HTPc)') : {'description': '', 'filename': 'LCIA_Implementation_3.9.xlsx', 'unit': 'kg 1,4-DCB-Eq', 'abbreviation': 'recipe-2016-v103-midpoint-ehh.71ea8d24331aa3fc8ccdb5b8ff4d9a00', 'num_cfs': 542, 'geocollections': ['world']}\n",
      "('ReCiPe 2016 v1.03, midpoint (E)', 'human toxicity: non-carcinogenic', 'human toxicity potential (HTPnc)') : {'description': '', 'filename': 'LCIA_Implementation_3.9.xlsx', 'unit': 'kg 1,4-DCB-Eq', 'abbreviation': 'recipe-2016-v103-midpoint-ehh.5fc0154e1c3ca6d58d48d5b25fdb4de1', 'num_cfs': 1184, 'geocollections': ['world']}\n",
      "('ReCiPe 2016 v1.03, midpoint (E)', 'ionising radiation', 'ionising radiation potential (IRP)') : {'description': '', 'filename': 'LCIA_Implementation_3.9.xlsx', 'unit': 'kg Co-60-Eq', 'abbreviation': 'recipe-2016-v103-midpoint-eii.74f923dd0c8ad0c1033c1bf3bd4f6fb7', 'num_cfs': 253, 'geocollections': ['world']}\n",
      "('ReCiPe 2016 v1.03, midpoint (E)', 'land use', 'agricultural land occupation (LOP)') : {'description': '', 'filename': 'LCIA_Implementation_3.9.xlsx', 'unit': 'm2*a crop-Eq', 'abbreviation': 'recipe-2016-v103-midpoint-ela.193b0daa4531470e8b9e096a2273bbcb', 'num_cfs': 51, 'geocollections': ['world']}\n",
      "('ReCiPe 2016 v1.03, midpoint (E)', 'material resources: metals/minerals', 'surplus ore potential (SOP)') : {'description': '', 'filename': 'LCIA_Implementation_3.9.xlsx', 'unit': 'kg Cu-Eq', 'abbreviation': 'recipe-2016-v103-midpoint-ems.eee3164fd3a09960a1473e8f9ff99005', 'num_cfs': 149, 'geocollections': ['world']}\n",
      "('ReCiPe 2016 v1.03, midpoint (E)', 'ozone depletion', 'ozone depletion potential (ODPinfinite)') : {'description': '', 'filename': 'LCIA_Implementation_3.9.xlsx', 'unit': 'kg CFC-11-Eq', 'abbreviation': 'recipe-2016-v103-midpoint-eoo.93c6e99a9a6a070b1b62230250ee2615', 'num_cfs': 57, 'geocollections': ['world']}\n",
      "('ReCiPe 2016 v1.03, midpoint (E)', 'particulate matter formation', 'particulate matter formation potential (PMFP)') : {'description': '', 'filename': 'LCIA_Implementation_3.9.xlsx', 'unit': 'kg PM2.5-Eq', 'abbreviation': 'recipe-2016-v103-midpoint-epp.0d5411530ce035415882a6259c96efe1', 'num_cfs': 32, 'geocollections': ['world']}\n",
      "('ReCiPe 2016 v1.03, midpoint (E)', 'photochemical oxidant formation: human health', 'photochemical oxidant formation potential: humans (HOFP)') : {'description': '', 'filename': 'LCIA_Implementation_3.9.xlsx', 'unit': 'kg NOx-Eq', 'abbreviation': 'recipe-2016-v103-midpoint-epp.9913974612ea8ff4f413721b1a81055a', 'num_cfs': 178, 'geocollections': ['world']}\n",
      "('ReCiPe 2016 v1.03, midpoint (E)', 'photochemical oxidant formation: terrestrial ecosystems', 'photochemical oxidant formation potential: ecosystems (EOFP)') : {'description': '', 'filename': 'LCIA_Implementation_3.9.xlsx', 'unit': 'kg NOx-Eq', 'abbreviation': 'recipe-2016-v103-midpoint-epp.423aaae8d6c44237029e8c3b596d95fa', 'num_cfs': 178, 'geocollections': ['world']}\n",
      "('ReCiPe 2016 v1.03, midpoint (E)', 'water use', 'water consumption potential (WCP)') : {'description': '', 'filename': 'LCIA_Implementation_3.9.xlsx', 'unit': 'cubic meter', 'abbreviation': 'recipe-2016-v103-midpoint-eww.8a5aa8b37daa07e50e9c49383ee4445a', 'num_cfs': 5, 'geocollections': ['world']}\n",
      "('ReCiPe 2016 v1.03, midpoint (H) no LT', 'acidification: terrestrial no LT', 'terrestrial acidification potential (TAP) no LT') : {'description': '', 'filename': 'LCIA_Implementation_3.9.xlsx', 'unit': 'kg SO2-Eq', 'abbreviation': 'recipe-2016-v103-midpoint-h-no-ltat.3df6918ef6b39f668e0ffcba73755602', 'num_cfs': 24, 'geocollections': ['world']}\n",
      "('ReCiPe 2016 v1.03, midpoint (H) no LT', 'climate change no LT', 'global warming potential (GWP1000) no LT') : {'description': '', 'filename': 'LCIA_Implementation_3.9.xlsx', 'unit': 'kg CO2-Eq', 'abbreviation': 'recipe-2016-v103-midpoint-h-no-ltcg.54ce8310473691d0b2e880fedfdaa143', 'num_cfs': 127, 'geocollections': ['world']}\n",
      "('ReCiPe 2016 v1.03, midpoint (H) no LT', 'ecotoxicity: freshwater no LT', 'freshwater ecotoxicity potential (FETP) no LT') : {'description': '', 'filename': 'LCIA_Implementation_3.9.xlsx', 'unit': 'kg 1,4-DCB-Eq', 'abbreviation': 'recipe-2016-v103-midpoint-h-no-ltef.e8ca40aeecbfa9b61d608eabad3a02df', 'num_cfs': 1538, 'geocollections': ['world']}\n",
      "('ReCiPe 2016 v1.03, midpoint (H) no LT', 'ecotoxicity: marine no LT', 'marine ecotoxicity potential (METP) no LT') : {'description': '', 'filename': 'LCIA_Implementation_3.9.xlsx', 'unit': 'kg 1,4-DCB-Eq', 'abbreviation': 'recipe-2016-v103-midpoint-h-no-ltem.8f224a196bcfb746b69749a4f689993e', 'num_cfs': 1538, 'geocollections': ['world']}\n",
      "('ReCiPe 2016 v1.03, midpoint (H) no LT', 'ecotoxicity: terrestrial no LT', 'terrestrial ecotoxicity potential (TETP) no LT') : {'description': '', 'filename': 'LCIA_Implementation_3.9.xlsx', 'unit': 'kg 1,4-DCB-Eq', 'abbreviation': 'recipe-2016-v103-midpoint-h-no-ltet.77762c0a567dae1ba9efe5f1f80d5ba7', 'num_cfs': 1535, 'geocollections': ['world']}\n",
      "('ReCiPe 2016 v1.03, midpoint (H) no LT', 'energy resources: non-renewable, fossil no LT', 'fossil fuel potential (FFP) no LT') : {'description': '', 'filename': 'LCIA_Implementation_3.9.xlsx', 'unit': 'kg oil-Eq', 'abbreviation': 'recipe-2016-v103-midpoint-h-no-ltef.a3e557e46fe448760bf9820303806724', 'num_cfs': 6, 'geocollections': ['world']}\n",
      "('ReCiPe 2016 v1.03, midpoint (H) no LT', 'eutrophication: freshwater no LT', 'freshwater eutrophication potential (FEP) no LT') : {'description': '', 'filename': 'LCIA_Implementation_3.9.xlsx', 'unit': 'kg P-Eq', 'abbreviation': 'recipe-2016-v103-midpoint-h-no-ltef.555614f9c956d573d8f8d7af63dab378', 'num_cfs': 11, 'geocollections': ['world']}\n",
      "('ReCiPe 2016 v1.03, midpoint (H) no LT', 'eutrophication: marine no LT', 'marine eutrophication potential (MEP) no LT') : {'description': '', 'filename': 'LCIA_Implementation_3.9.xlsx', 'unit': 'kg N-Eq', 'abbreviation': 'recipe-2016-v103-midpoint-h-no-ltem.b0a6a8d2b02dc9f83522cecb7a51147b', 'num_cfs': 18, 'geocollections': ['world']}\n",
      "('ReCiPe 2016 v1.03, midpoint (H) no LT', 'human toxicity: carcinogenic no LT', 'human toxicity potential (HTPc) no LT') : {'description': '', 'filename': 'LCIA_Implementation_3.9.xlsx', 'unit': 'kg 1,4-DCB-Eq', 'abbreviation': 'recipe-2016-v103-midpoint-h-no-lthh.a3daea60d88a4a89babea60086d0cc9b', 'num_cfs': 453, 'geocollections': ['world']}\n",
      "('ReCiPe 2016 v1.03, midpoint (H) no LT', 'human toxicity: non-carcinogenic no LT', 'human toxicity potential (HTPnc) no LT') : {'description': '', 'filename': 'LCIA_Implementation_3.9.xlsx', 'unit': 'kg 1,4-DCB-Eq', 'abbreviation': 'recipe-2016-v103-midpoint-h-no-lthh.7e4b9e0c9326f975eae8e1502feea1a8', 'num_cfs': 1034, 'geocollections': ['world']}\n",
      "('ReCiPe 2016 v1.03, midpoint (H) no LT', 'ionising radiation no LT', 'ionising radiation potential (IRP) no LT') : {'description': '', 'filename': 'LCIA_Implementation_3.9.xlsx', 'unit': 'kg Co-60-Eq', 'abbreviation': 'recipe-2016-v103-midpoint-h-no-ltii.b7ab7bca8cb17d6281fd508b4b787c3e', 'num_cfs': 149, 'geocollections': ['world']}\n",
      "('ReCiPe 2016 v1.03, midpoint (H) no LT', 'land use no LT', 'agricultural land occupation (LOP) no LT') : {'description': '', 'filename': 'LCIA_Implementation_3.9.xlsx', 'unit': 'm2*a crop-Eq', 'abbreviation': 'recipe-2016-v103-midpoint-h-no-ltla.80eb25480bb89874813386095e00714f', 'num_cfs': 51, 'geocollections': ['world']}\n",
      "('ReCiPe 2016 v1.03, midpoint (H) no LT', 'material resources: metals/minerals no LT', 'surplus ore potential (SOP) no LT') : {'description': '', 'filename': 'LCIA_Implementation_3.9.xlsx', 'unit': 'kg Cu-Eq', 'abbreviation': 'recipe-2016-v103-midpoint-h-no-ltms.db53ef79984d8041a152a8c8168f5ed5', 'num_cfs': 149, 'geocollections': ['world']}\n",
      "('ReCiPe 2016 v1.03, midpoint (H) no LT', 'ozone depletion no LT', 'ozone depletion potential (ODPinfinite) no LT') : {'description': '', 'filename': 'LCIA_Implementation_3.9.xlsx', 'unit': 'kg CFC-11-Eq', 'abbreviation': 'recipe-2016-v103-midpoint-h-no-ltoo.daf8277b488fc78c34fdee7453c20b22', 'num_cfs': 50, 'geocollections': ['world']}\n",
      "('ReCiPe 2016 v1.03, midpoint (H) no LT', 'particulate matter formation no LT', 'particulate matter formation potential (PMFP) no LT') : {'description': '', 'filename': 'LCIA_Implementation_3.9.xlsx', 'unit': 'kg PM2.5-Eq', 'abbreviation': 'recipe-2016-v103-midpoint-h-no-ltpp.6ae32bd78e4ae759f8af4cc3e95236b3', 'num_cfs': 26, 'geocollections': ['world']}\n",
      "('ReCiPe 2016 v1.03, midpoint (H) no LT', 'photochemical oxidant formation: human health no LT', 'photochemical oxidant formation potential: humans (HOFP) no LT') : {'description': '', 'filename': 'LCIA_Implementation_3.9.xlsx', 'unit': 'kg NOx-Eq', 'abbreviation': 'recipe-2016-v103-midpoint-h-no-ltpp.b7a243a0e0d1af53a14e0825c676608d', 'num_cfs': 162, 'geocollections': ['world']}\n",
      "('ReCiPe 2016 v1.03, midpoint (H) no LT', 'photochemical oxidant formation: terrestrial ecosystems no LT', 'photochemical oxidant formation potential: ecosystems (EOFP) no LT') : {'description': '', 'filename': 'LCIA_Implementation_3.9.xlsx', 'unit': 'kg NOx-Eq', 'abbreviation': 'recipe-2016-v103-midpoint-h-no-ltpp.05c4a08dc05efc03fbebcb664641522e', 'num_cfs': 162, 'geocollections': ['world']}\n",
      "('ReCiPe 2016 v1.03, midpoint (H) no LT', 'water use no LT', 'water consumption potential (WCP) no LT') : {'description': '', 'filename': 'LCIA_Implementation_3.9.xlsx', 'unit': 'cubic meter', 'abbreviation': 'recipe-2016-v103-midpoint-h-no-ltww.e52e3ca79b837a6c290bd539f988ff69', 'num_cfs': 4, 'geocollections': ['world']}\n",
      "('ReCiPe 2016 v1.03, midpoint (H)', 'acidification: terrestrial', 'terrestrial acidification potential (TAP)') : {'description': '', 'filename': 'LCIA_Implementation_3.9.xlsx', 'unit': 'kg SO2-Eq', 'abbreviation': 'recipe-2016-v103-midpoint-hat.fc6c3c6183a2266aa81b27a9f29a6408', 'num_cfs': 29, 'geocollections': ['world']}\n",
      "('ReCiPe 2016 v1.03, midpoint (H)', 'climate change', 'global warming potential (GWP1000)') : {'description': '', 'filename': 'LCIA_Implementation_3.9.xlsx', 'unit': 'kg CO2-Eq', 'abbreviation': 'recipe-2016-v103-midpoint-hcg.ada9dcc212b02b09bc1a78acd951df5b', 'num_cfs': 151, 'geocollections': ['world']}\n",
      "('ReCiPe 2016 v1.03, midpoint (H)', 'ecotoxicity: freshwater', 'freshwater ecotoxicity potential (FETP)') : {'description': '', 'filename': 'LCIA_Implementation_3.9.xlsx', 'unit': 'kg 1,4-DCB-Eq', 'abbreviation': 'recipe-2016-v103-midpoint-hef.b86d3dd1756e4006f595d7c074e50578', 'num_cfs': 1760, 'geocollections': ['world']}\n",
      "('ReCiPe 2016 v1.03, midpoint (H)', 'ecotoxicity: marine', 'marine ecotoxicity potential (METP)') : {'description': '', 'filename': 'LCIA_Implementation_3.9.xlsx', 'unit': 'kg 1,4-DCB-Eq', 'abbreviation': 'recipe-2016-v103-midpoint-hem.26fca9ae20d94086eebc6c764a891abb', 'num_cfs': 1760, 'geocollections': ['world']}\n",
      "('ReCiPe 2016 v1.03, midpoint (H)', 'ecotoxicity: terrestrial', 'terrestrial ecotoxicity potential (TETP)') : {'description': '', 'filename': 'LCIA_Implementation_3.9.xlsx', 'unit': 'kg 1,4-DCB-Eq', 'abbreviation': 'recipe-2016-v103-midpoint-het.4430e3003bcb6842f93337c12efe952f', 'num_cfs': 1757, 'geocollections': ['world']}\n",
      "('ReCiPe 2016 v1.03, midpoint (H)', 'energy resources: non-renewable, fossil', 'fossil fuel potential (FFP)') : {'description': '', 'filename': 'LCIA_Implementation_3.9.xlsx', 'unit': 'kg oil-Eq', 'abbreviation': 'recipe-2016-v103-midpoint-hef.f1e2fc7b0a39111bf5d72bbf6d759aab', 'num_cfs': 6, 'geocollections': ['world']}\n",
      "('ReCiPe 2016 v1.03, midpoint (H)', 'eutrophication: freshwater', 'freshwater eutrophication potential (FEP)') : {'description': '', 'filename': 'LCIA_Implementation_3.9.xlsx', 'unit': 'kg P-Eq', 'abbreviation': 'recipe-2016-v103-midpoint-hef.25258c28245fffc75e07506950fcf585', 'num_cfs': 13, 'geocollections': ['world']}\n",
      "('ReCiPe 2016 v1.03, midpoint (H)', 'eutrophication: marine', 'marine eutrophication potential (MEP)') : {'description': '', 'filename': 'LCIA_Implementation_3.9.xlsx', 'unit': 'kg N-Eq', 'abbreviation': 'recipe-2016-v103-midpoint-hem.3299d071e43d09175feaea7214ffd845', 'num_cfs': 22, 'geocollections': ['world']}\n",
      "('ReCiPe 2016 v1.03, midpoint (H)', 'human toxicity: carcinogenic', 'human toxicity potential (HTPc)') : {'description': '', 'filename': 'LCIA_Implementation_3.9.xlsx', 'unit': 'kg 1,4-DCB-Eq', 'abbreviation': 'recipe-2016-v103-midpoint-hhh.90a2294f139aef9ee2a64f0004787f41', 'num_cfs': 542, 'geocollections': ['world']}\n",
      "('ReCiPe 2016 v1.03, midpoint (H)', 'human toxicity: non-carcinogenic', 'human toxicity potential (HTPnc)') : {'description': '', 'filename': 'LCIA_Implementation_3.9.xlsx', 'unit': 'kg 1,4-DCB-Eq', 'abbreviation': 'recipe-2016-v103-midpoint-hhh.b689809acb16926e066d23afb540f919', 'num_cfs': 1184, 'geocollections': ['world']}\n",
      "('ReCiPe 2016 v1.03, midpoint (H)', 'ionising radiation', 'ionising radiation potential (IRP)') : {'description': '', 'filename': 'LCIA_Implementation_3.9.xlsx', 'unit': 'kg Co-60-Eq', 'abbreviation': 'recipe-2016-v103-midpoint-hii.2018e8cfecc04fd4989e7665e1b64718', 'num_cfs': 186, 'geocollections': ['world']}\n",
      "('ReCiPe 2016 v1.03, midpoint (H)', 'land use', 'agricultural land occupation (LOP)') : {'description': '', 'filename': 'LCIA_Implementation_3.9.xlsx', 'unit': 'm2*a crop-Eq', 'abbreviation': 'recipe-2016-v103-midpoint-hla.0f1297018f5d1afdecf0c1e4bc8b062e', 'num_cfs': 51, 'geocollections': ['world']}\n",
      "('ReCiPe 2016 v1.03, midpoint (H)', 'material resources: metals/minerals', 'surplus ore potential (SOP)') : {'description': '', 'filename': 'LCIA_Implementation_3.9.xlsx', 'unit': 'kg Cu-Eq', 'abbreviation': 'recipe-2016-v103-midpoint-hms.32bfe0dcb5a3f03a076d52d199a40553', 'num_cfs': 149, 'geocollections': ['world']}\n",
      "('ReCiPe 2016 v1.03, midpoint (H)', 'ozone depletion', 'ozone depletion potential (ODPinfinite)') : {'description': '', 'filename': 'LCIA_Implementation_3.9.xlsx', 'unit': 'kg CFC-11-Eq', 'abbreviation': 'recipe-2016-v103-midpoint-hoo.14b4613900d66ec757b0afdad9ade603', 'num_cfs': 57, 'geocollections': ['world']}\n",
      "('ReCiPe 2016 v1.03, midpoint (H)', 'particulate matter formation', 'particulate matter formation potential (PMFP)') : {'description': '', 'filename': 'LCIA_Implementation_3.9.xlsx', 'unit': 'kg PM2.5-Eq', 'abbreviation': 'recipe-2016-v103-midpoint-hpp.26f43fcda4d6d48bab8271688fca4b92', 'num_cfs': 32, 'geocollections': ['world']}\n",
      "('ReCiPe 2016 v1.03, midpoint (H)', 'photochemical oxidant formation: human health', 'photochemical oxidant formation potential: humans (HOFP)') : {'description': '', 'filename': 'LCIA_Implementation_3.9.xlsx', 'unit': 'kg NOx-Eq', 'abbreviation': 'recipe-2016-v103-midpoint-hpp.f8350a0670e13197ad9bd26d1be7993a', 'num_cfs': 178, 'geocollections': ['world']}\n",
      "('ReCiPe 2016 v1.03, midpoint (H)', 'photochemical oxidant formation: terrestrial ecosystems', 'photochemical oxidant formation potential: ecosystems (EOFP)') : {'description': '', 'filename': 'LCIA_Implementation_3.9.xlsx', 'unit': 'kg NOx-Eq', 'abbreviation': 'recipe-2016-v103-midpoint-hpp.4383a1cb9ad541ff895e43d055a0d262', 'num_cfs': 178, 'geocollections': ['world']}\n",
      "('ReCiPe 2016 v1.03, midpoint (H)', 'water use', 'water consumption potential (WCP)') : {'description': '', 'filename': 'LCIA_Implementation_3.9.xlsx', 'unit': 'cubic meter', 'abbreviation': 'recipe-2016-v103-midpoint-hww.d486ca0032ef88c3481939b513949247', 'num_cfs': 5, 'geocollections': ['world']}\n",
      "('ReCiPe 2016 v1.03, midpoint (I) no LT', 'acidification: terrestrial no LT', 'terrestrial acidification potential (TAP) no LT') : {'description': '', 'filename': 'LCIA_Implementation_3.9.xlsx', 'unit': 'kg SO2-Eq', 'abbreviation': 'recipe-2016-v103-midpoint-i-no-ltat.a716aef670ce495b3cc0e875501242b0', 'num_cfs': 26, 'geocollections': ['world']}\n",
      "('ReCiPe 2016 v1.03, midpoint (I) no LT', 'climate change no LT', 'global warming potential (GWP1000) no LT') : {'description': '', 'filename': 'LCIA_Implementation_3.9.xlsx', 'unit': 'kg CO2-Eq', 'abbreviation': 'recipe-2016-v103-midpoint-i-no-ltcg.f9c8a06c7dc616f212e1882cbda8e5f1', 'num_cfs': 127, 'geocollections': ['world']}\n",
      "('ReCiPe 2016 v1.03, midpoint (I) no LT', 'ecotoxicity: freshwater no LT', 'freshwater ecotoxicity potential (FETP) no LT') : {'description': '', 'filename': 'LCIA_Implementation_3.9.xlsx', 'unit': 'kg 1,4-DCB-Eq', 'abbreviation': 'recipe-2016-v103-midpoint-i-no-ltef.3837c3147750b9513078c5381d16e5be', 'num_cfs': 1234, 'geocollections': ['world']}\n",
      "('ReCiPe 2016 v1.03, midpoint (I) no LT', 'ecotoxicity: marine no LT', 'marine ecotoxicity potential (METP) no LT') : {'description': '', 'filename': 'LCIA_Implementation_3.9.xlsx', 'unit': 'kg 1,4-DCB-Eq', 'abbreviation': 'recipe-2016-v103-midpoint-i-no-ltem.820242d1dd4588e50fea2aaf3f451d1d', 'num_cfs': 1234, 'geocollections': ['world']}\n",
      "('ReCiPe 2016 v1.03, midpoint (I) no LT', 'ecotoxicity: terrestrial no LT', 'terrestrial ecotoxicity potential (TETP) no LT') : {'description': '', 'filename': 'LCIA_Implementation_3.9.xlsx', 'unit': 'kg 1,4-DCB-Eq', 'abbreviation': 'recipe-2016-v103-midpoint-i-no-ltet.524322c44685ee680fe7c664689dd956', 'num_cfs': 1231, 'geocollections': ['world']}\n",
      "('ReCiPe 2016 v1.03, midpoint (I) no LT', 'energy resources: non-renewable, fossil no LT', 'fossil fuel potential (FFP) no LT') : {'description': '', 'filename': 'LCIA_Implementation_3.9.xlsx', 'unit': 'kg oil-Eq', 'abbreviation': 'recipe-2016-v103-midpoint-i-no-ltef.716bebd87b5a0dc714525c3d2eede47c', 'num_cfs': 6, 'geocollections': ['world']}\n",
      "('ReCiPe 2016 v1.03, midpoint (I) no LT', 'eutrophication: freshwater no LT', 'freshwater eutrophication potential (FEP) no LT') : {'description': '', 'filename': 'LCIA_Implementation_3.9.xlsx', 'unit': 'kg P-Eq', 'abbreviation': 'recipe-2016-v103-midpoint-i-no-ltef.2101a21110bf41b9189c25d07851dd76', 'num_cfs': 11, 'geocollections': ['world']}\n",
      "('ReCiPe 2016 v1.03, midpoint (I) no LT', 'eutrophication: marine no LT', 'marine eutrophication potential (MEP) no LT') : {'description': '', 'filename': 'LCIA_Implementation_3.9.xlsx', 'unit': 'kg N-Eq', 'abbreviation': 'recipe-2016-v103-midpoint-i-no-ltem.099b13977270bd51e446c773704082a7', 'num_cfs': 18, 'geocollections': ['world']}\n",
      "('ReCiPe 2016 v1.03, midpoint (I) no LT', 'human toxicity: carcinogenic no LT', 'human toxicity potential (HTPc) no LT') : {'description': '', 'filename': 'LCIA_Implementation_3.9.xlsx', 'unit': 'kg 1,4-DCB-Eq', 'abbreviation': 'recipe-2016-v103-midpoint-i-no-lthh.26a01232e1875d79e90cf1630535addc', 'num_cfs': 274, 'geocollections': ['world']}\n",
      "('ReCiPe 2016 v1.03, midpoint (I) no LT', 'human toxicity: non-carcinogenic no LT', 'human toxicity potential (HTPnc) no LT') : {'description': '', 'filename': 'LCIA_Implementation_3.9.xlsx', 'unit': 'kg 1,4-DCB-Eq', 'abbreviation': 'recipe-2016-v103-midpoint-i-no-lthh.7bed1d4ca79440a252f6edd33f6fc69b', 'num_cfs': 1034, 'geocollections': ['world']}\n",
      "('ReCiPe 2016 v1.03, midpoint (I) no LT', 'ionising radiation no LT', 'ionising radiation potential (IRP) no LT') : {'description': '', 'filename': 'LCIA_Implementation_3.9.xlsx', 'unit': 'kg Co-60-Eq', 'abbreviation': 'recipe-2016-v103-midpoint-i-no-ltii.d7f11d84b4362c915e19651def431f5e', 'num_cfs': 145, 'geocollections': ['world']}\n",
      "('ReCiPe 2016 v1.03, midpoint (I) no LT', 'land use no LT', 'agricultural land occupation (LOP) no LT') : {'description': '', 'filename': 'LCIA_Implementation_3.9.xlsx', 'unit': 'm2*a crop-Eq', 'abbreviation': 'recipe-2016-v103-midpoint-i-no-ltla.a7202fb5b867a449de30e3f4f1b83db4', 'num_cfs': 51, 'geocollections': ['world']}\n",
      "('ReCiPe 2016 v1.03, midpoint (I) no LT', 'material resources: metals/minerals no LT', 'surplus ore potential (SOP) no LT') : {'description': '', 'filename': 'LCIA_Implementation_3.9.xlsx', 'unit': 'kg Cu-Eq', 'abbreviation': 'recipe-2016-v103-midpoint-i-no-ltms.6e9292a5206e5e1533fac52e4389a512', 'num_cfs': 149, 'geocollections': ['world']}\n",
      "('ReCiPe 2016 v1.03, midpoint (I) no LT', 'ozone depletion no LT', 'ozone depletion potential (ODPinfinite) no LT') : {'description': '', 'filename': 'LCIA_Implementation_3.9.xlsx', 'unit': 'kg CFC-11-Eq', 'abbreviation': 'recipe-2016-v103-midpoint-i-no-ltoo.5f1bfac00845d142ab2ae9f287b76d19', 'num_cfs': 50, 'geocollections': ['world']}\n",
      "('ReCiPe 2016 v1.03, midpoint (I) no LT', 'particulate matter formation no LT', 'particulate matter formation potential (PMFP) no LT') : {'description': '', 'filename': 'LCIA_Implementation_3.9.xlsx', 'unit': 'kg PM2.5-Eq', 'abbreviation': 'recipe-2016-v103-midpoint-i-no-ltpp.f84860bb3745622ee5669e9c55855f4b', 'num_cfs': 4, 'geocollections': ['world']}\n",
      "('ReCiPe 2016 v1.03, midpoint (I) no LT', 'photochemical oxidant formation: human health no LT', 'photochemical oxidant formation potential: humans (HOFP) no LT') : {'description': '', 'filename': 'LCIA_Implementation_3.9.xlsx', 'unit': 'kg NOx-Eq', 'abbreviation': 'recipe-2016-v103-midpoint-i-no-ltpp.ebaa11952a6fafc00e22d2d136a6bf6e', 'num_cfs': 168, 'geocollections': ['world']}\n",
      "('ReCiPe 2016 v1.03, midpoint (I) no LT', 'photochemical oxidant formation: terrestrial ecosystems no LT', 'photochemical oxidant formation potential: ecosystems (EOFP) no LT') : {'description': '', 'filename': 'LCIA_Implementation_3.9.xlsx', 'unit': 'kg NOx-Eq', 'abbreviation': 'recipe-2016-v103-midpoint-i-no-ltpp.8dc07e2f5f700d4be40fa8c2348590a6', 'num_cfs': 168, 'geocollections': ['world']}\n",
      "('ReCiPe 2016 v1.03, midpoint (I) no LT', 'water use no LT', 'water consumption potential (WCP) no LT') : {'description': '', 'filename': 'LCIA_Implementation_3.9.xlsx', 'unit': 'cubic meter', 'abbreviation': 'recipe-2016-v103-midpoint-i-no-ltww.9868ba698180bd00c8fa955fa3b194b5', 'num_cfs': 4, 'geocollections': ['world']}\n",
      "('ReCiPe 2016 v1.03, midpoint (I)', 'acidification: terrestrial', 'terrestrial acidification potential (TAP)') : {'description': '', 'filename': 'LCIA_Implementation_3.9.xlsx', 'unit': 'kg SO2-Eq', 'abbreviation': 'recipe-2016-v103-midpoint-iat.62551e5cfcf4bb7095c4eb15bbe8e477', 'num_cfs': 32, 'geocollections': ['world']}\n",
      "('ReCiPe 2016 v1.03, midpoint (I)', 'climate change', 'global warming potential (GWP1000)') : {'description': '', 'filename': 'LCIA_Implementation_3.9.xlsx', 'unit': 'kg CO2-Eq', 'abbreviation': 'recipe-2016-v103-midpoint-icg.b437c0e6053bb76139d62e12a43cfaac', 'num_cfs': 151, 'geocollections': ['world']}\n",
      "('ReCiPe 2016 v1.03, midpoint (I)', 'ecotoxicity: freshwater', 'freshwater ecotoxicity potential (FETP)') : {'description': '', 'filename': 'LCIA_Implementation_3.9.xlsx', 'unit': 'kg 1,4-DCB-Eq', 'abbreviation': 'recipe-2016-v103-midpoint-ief.a0e37060d9076dc1de43a5435f2f2f2d', 'num_cfs': 1412, 'geocollections': ['world']}\n",
      "('ReCiPe 2016 v1.03, midpoint (I)', 'ecotoxicity: marine', 'marine ecotoxicity potential (METP)') : {'description': '', 'filename': 'LCIA_Implementation_3.9.xlsx', 'unit': 'kg 1,4-DCB-Eq', 'abbreviation': 'recipe-2016-v103-midpoint-iem.986da9fb2ca3515834472b106162f37f', 'num_cfs': 1412, 'geocollections': ['world']}\n",
      "('ReCiPe 2016 v1.03, midpoint (I)', 'ecotoxicity: terrestrial', 'terrestrial ecotoxicity potential (TETP)') : {'description': '', 'filename': 'LCIA_Implementation_3.9.xlsx', 'unit': 'kg 1,4-DCB-Eq', 'abbreviation': 'recipe-2016-v103-midpoint-iet.28523fe79162abe6d58bc48a85b7a8cc', 'num_cfs': 1409, 'geocollections': ['world']}\n",
      "('ReCiPe 2016 v1.03, midpoint (I)', 'energy resources: non-renewable, fossil', 'fossil fuel potential (FFP)') : {'description': '', 'filename': 'LCIA_Implementation_3.9.xlsx', 'unit': 'kg oil-Eq', 'abbreviation': 'recipe-2016-v103-midpoint-ief.8032ce41feb8d39f096aa814f2b7369f', 'num_cfs': 6, 'geocollections': ['world']}\n",
      "('ReCiPe 2016 v1.03, midpoint (I)', 'eutrophication: freshwater', 'freshwater eutrophication potential (FEP)') : {'description': '', 'filename': 'LCIA_Implementation_3.9.xlsx', 'unit': 'kg P-Eq', 'abbreviation': 'recipe-2016-v103-midpoint-ief.acf41bf43dde2a11896f077715a1a0ab', 'num_cfs': 13, 'geocollections': ['world']}\n",
      "('ReCiPe 2016 v1.03, midpoint (I)', 'eutrophication: marine', 'marine eutrophication potential (MEP)') : {'description': '', 'filename': 'LCIA_Implementation_3.9.xlsx', 'unit': 'kg N-Eq', 'abbreviation': 'recipe-2016-v103-midpoint-iem.3e943a6ecd6456d3f54e3f73e6c98774', 'num_cfs': 22, 'geocollections': ['world']}\n",
      "('ReCiPe 2016 v1.03, midpoint (I)', 'human toxicity: carcinogenic', 'human toxicity potential (HTPc)') : {'description': '', 'filename': 'LCIA_Implementation_3.9.xlsx', 'unit': 'kg 1,4-DCB-Eq', 'abbreviation': 'recipe-2016-v103-midpoint-ihh.264f28b4b12c55d34f62c40c4de8e610', 'num_cfs': 332, 'geocollections': ['world']}\n",
      "('ReCiPe 2016 v1.03, midpoint (I)', 'human toxicity: non-carcinogenic', 'human toxicity potential (HTPnc)') : {'description': '', 'filename': 'LCIA_Implementation_3.9.xlsx', 'unit': 'kg 1,4-DCB-Eq', 'abbreviation': 'recipe-2016-v103-midpoint-ihh.5ab4940c6237e5db3d2349f0dd89a89c', 'num_cfs': 1184, 'geocollections': ['world']}\n",
      "('ReCiPe 2016 v1.03, midpoint (I)', 'ionising radiation', 'ionising radiation potential (IRP)') : {'description': '', 'filename': 'LCIA_Implementation_3.9.xlsx', 'unit': 'kg Co-60-Eq', 'abbreviation': 'recipe-2016-v103-midpoint-iii.41bfff5a509321849ea4e9067ae5b736', 'num_cfs': 181, 'geocollections': ['world']}\n",
      "('ReCiPe 2016 v1.03, midpoint (I)', 'land use', 'agricultural land occupation (LOP)') : {'description': '', 'filename': 'LCIA_Implementation_3.9.xlsx', 'unit': 'm2*a crop-Eq', 'abbreviation': 'recipe-2016-v103-midpoint-ila.e5a920a56b7694c2d4bb049979589f08', 'num_cfs': 51, 'geocollections': ['world']}\n",
      "('ReCiPe 2016 v1.03, midpoint (I)', 'material resources: metals/minerals', 'surplus ore potential (SOP)') : {'description': '', 'filename': 'LCIA_Implementation_3.9.xlsx', 'unit': 'kg Cu-Eq', 'abbreviation': 'recipe-2016-v103-midpoint-ims.14670b0ad1fe5f2e66d09d06326a2e85', 'num_cfs': 149, 'geocollections': ['world']}\n",
      "('ReCiPe 2016 v1.03, midpoint (I)', 'ozone depletion', 'ozone depletion potential (ODPinfinite)') : {'description': '', 'filename': 'LCIA_Implementation_3.9.xlsx', 'unit': 'kg CFC-11-Eq', 'abbreviation': 'recipe-2016-v103-midpoint-ioo.4cd0c35d2161b087d4ab689eadc55a10', 'num_cfs': 57, 'geocollections': ['world']}\n",
      "('ReCiPe 2016 v1.03, midpoint (I)', 'particulate matter formation', 'particulate matter formation potential (PMFP)') : {'description': '', 'filename': 'LCIA_Implementation_3.9.xlsx', 'unit': 'kg PM2.5-Eq', 'abbreviation': 'recipe-2016-v103-midpoint-ipp.9393ec6fecdf4171629b067b1c136e53', 'num_cfs': 5, 'geocollections': ['world']}\n",
      "('ReCiPe 2016 v1.03, midpoint (I)', 'photochemical oxidant formation: human health', 'photochemical oxidant formation potential: humans (HOFP)') : {'description': '', 'filename': 'LCIA_Implementation_3.9.xlsx', 'unit': 'kg NOx-Eq', 'abbreviation': 'recipe-2016-v103-midpoint-ipp.7fa11f4ab09c805162dcf75985f57512', 'num_cfs': 187, 'geocollections': ['world']}\n",
      "('ReCiPe 2016 v1.03, midpoint (I)', 'photochemical oxidant formation: terrestrial ecosystems', 'photochemical oxidant formation potential: ecosystems (EOFP)') : {'description': '', 'filename': 'LCIA_Implementation_3.9.xlsx', 'unit': 'kg NOx-Eq', 'abbreviation': 'recipe-2016-v103-midpoint-ipp.eca4487da224e8eeb87a57fb95692dcb', 'num_cfs': 187, 'geocollections': ['world']}\n",
      "('ReCiPe 2016 v1.03, midpoint (I)', 'water use', 'water consumption potential (WCP)') : {'description': '', 'filename': 'LCIA_Implementation_3.9.xlsx', 'unit': 'cubic meter', 'abbreviation': 'recipe-2016-v103-midpoint-iww.ce150cc14ba2a96df2353e881afba66d', 'num_cfs': 5, 'geocollections': ['world']}\n",
      "('selected LCI results, additional', 'air', 'carbon monoxide') : {'description': '', 'filename': 'LCIA_Implementation_3.9.xlsx', 'unit': 'kilogram', 'abbreviation': 'selected-lci-results-additionalac.37c0e892c751e23fa851041aaf28a05f', 'num_cfs': 15, 'geocollections': ['world']}\n",
      "('selected LCI results, additional', 'air', 'lead') : {'description': '', 'filename': 'LCIA_Implementation_3.9.xlsx', 'unit': 'kilogram', 'abbreviation': 'selected-lci-results-additionalal.b6fe7981f6030853cdfbece395434142', 'num_cfs': 5, 'geocollections': ['world']}\n",
      "('selected LCI results, additional', 'air', 'methane') : {'description': '', 'filename': 'LCIA_Implementation_3.9.xlsx', 'unit': 'kilogram', 'abbreviation': 'selected-lci-results-additionalam.043286386cc999781dd8611ad596ebc9', 'num_cfs': 15, 'geocollections': ['world']}\n",
      "('selected LCI results, additional', 'air', 'N2O') : {'description': '', 'filename': 'LCIA_Implementation_3.9.xlsx', 'unit': 'kilogram', 'abbreviation': 'selected-lci-results-additionalan.3968922b768fa815689564871856e9bb', 'num_cfs': 5, 'geocollections': ['world']}\n",
      "('selected LCI results, additional', 'air', 'particulates') : {'description': '', 'filename': 'LCIA_Implementation_3.9.xlsx', 'unit': 'kilogram', 'abbreviation': 'selected-lci-results-additionalap.7ad0506b1b6be823c54cb8e4e528cc43', 'num_cfs': 15, 'geocollections': ['world']}\n",
      "('selected LCI results, additional', 'air', 'particulates >10 um') : {'description': '', 'filename': 'LCIA_Implementation_3.9.xlsx', 'unit': 'kilogram', 'abbreviation': 'selected-lci-results-additionalap.95d57b92d0d12f4821b53781a5c7753e', 'num_cfs': 5, 'geocollections': ['world']}\n",
      "('selected LCI results, additional', 'air', 'particulates, >2.5 um and <10') : {'description': '', 'filename': 'LCIA_Implementation_3.9.xlsx', 'unit': 'kilogram', 'abbreviation': 'selected-lci-results-additionalap.ff0e1e036cdd173090547565d958bc15', 'num_cfs': 5, 'geocollections': ['world']}\n",
      "('selected LCI results, additional', 'air', 'zinc') : {'description': '', 'filename': 'LCIA_Implementation_3.9.xlsx', 'unit': 'kilogram', 'abbreviation': 'selected-lci-results-additionalaz.0bb68b273b2d62dfc866e590dc5a4153', 'num_cfs': 5, 'geocollections': ['world']}\n",
      "('selected LCI results, additional', 'air, radioactive', 'actinides') : {'description': '', 'filename': 'LCIA_Implementation_3.9.xlsx', 'unit': 'kilo Becquerel', 'abbreviation': 'selected-lci-results-additionalaa.d1d45e378a6ced4a2b6306695f8b1f4b', 'num_cfs': 90, 'geocollections': ['world']}\n",
      "('selected LCI results, additional', 'air, radioactive', 'aerosole') : {'description': '', 'filename': 'LCIA_Implementation_3.9.xlsx', 'unit': 'kilo Becquerel', 'abbreviation': 'selected-lci-results-additionalaa.7b599a571aca17ffbf95a282c2759315', 'num_cfs': 165, 'geocollections': ['world']}\n",
      "('selected LCI results, additional', 'air, radioactive', 'noble gas') : {'description': '', 'filename': 'LCIA_Implementation_3.9.xlsx', 'unit': 'kilo Becquerel', 'abbreviation': 'selected-lci-results-additionalan.89093fe2379afe0e35d304a93e9bc127', 'num_cfs': 80, 'geocollections': ['world']}\n",
      "('selected LCI results, additional', 'air, radioactive', 'radon (+ radium)') : {'description': '', 'filename': 'LCIA_Implementation_3.9.xlsx', 'unit': 'kilo Becquerel', 'abbreviation': 'selected-lci-results-additionalar.f1ed098277d8a145af7eff67ea0e2a45', 'num_cfs': 20, 'geocollections': ['world']}\n",
      "('selected LCI results, additional', 'resource', 'carbon, biogenic, fixed') : {'description': '', 'filename': 'LCIA_Implementation_3.9.xlsx', 'unit': 'kilogram', 'abbreviation': 'selected-lci-results-additionalrc.5cc1b07d998782a5f08d329fd535bbab', 'num_cfs': 17, 'geocollections': ['world']}\n",
      "('selected LCI results, additional', 'resource', 'water') : {'description': '', 'filename': 'LCIA_Implementation_3.9.xlsx', 'unit': 'cubic meter', 'abbreviation': 'selected-lci-results-additionalrw.f769a797c4871f3b04024e67604e155a', 'num_cfs': 7, 'geocollections': ['world']}\n",
      "('selected LCI results, additional', 'total', 'heat, waste') : {'description': '', 'filename': 'LCIA_Implementation_3.9.xlsx', 'unit': 'megajoule', 'abbreviation': 'selected-lci-results-additionalth.3525bc599b402875e3ba2c1ac5a4f88c', 'num_cfs': 14, 'geocollections': ['world']}\n",
      "('selected LCI results, additional', 'total', 'oils, unspecified') : {'description': '', 'filename': 'LCIA_Implementation_3.9.xlsx', 'unit': 'kilogram', 'abbreviation': 'selected-lci-results-additionalto.bb75d3618a21569dab0ddb97ca8b3029', 'num_cfs': 13, 'geocollections': ['world']}\n",
      "('selected LCI results, additional', 'water, radioactive', 'actinides') : {'description': '', 'filename': 'LCIA_Implementation_3.9.xlsx', 'unit': 'kilo Becquerel', 'abbreviation': 'selected-lci-results-additionalwa.7bf0390882a398598ca3f5c3d3ca5868', 'num_cfs': 75, 'geocollections': ['world']}\n",
      "('selected LCI results, additional', 'water, radioactive', 'nuclides') : {'description': '', 'filename': 'LCIA_Implementation_3.9.xlsx', 'unit': 'kilo Becquerel', 'abbreviation': 'selected-lci-results-additionalwn.bb4925f4a22aa9046d02e2f8d32782fd', 'num_cfs': 200, 'geocollections': ['world']}\n",
      "('selected LCI results, additional', 'water, radioactive', 'radium') : {'description': '', 'filename': 'LCIA_Implementation_3.9.xlsx', 'unit': 'kilo Becquerel', 'abbreviation': 'selected-lci-results-additionalwr.9e8bec44eb1cde4356b80995baeca118', 'num_cfs': 15, 'geocollections': ['world']}\n",
      "('selected LCI results, additional', 'water, radioactive', 'tritium') : {'description': '', 'filename': 'LCIA_Implementation_3.9.xlsx', 'unit': 'kilo Becquerel', 'abbreviation': 'selected-lci-results-additionalwt.6e9c58b4f02eefedf2367a7589f497fd', 'num_cfs': 5, 'geocollections': ['world']}\n",
      "('selected LCI results', 'air', 'CO2, fossil') : {'description': '', 'filename': 'LCIA_Implementation_3.9.xlsx', 'unit': 'kilogram', 'abbreviation': 'selected-lci-resultsac.93c24e1dd347ea5bd359fc7ce8ff26f8', 'num_cfs': 11, 'geocollections': ['world']}\n",
      "('selected LCI results', 'air', 'nitrogen oxides') : {'description': '', 'filename': 'LCIA_Implementation_3.9.xlsx', 'unit': 'kilogram', 'abbreviation': 'selected-lci-resultsan.f1af9828e6b0357199be72e8b3645aec', 'num_cfs': 5, 'geocollections': ['world']}\n",
      "('selected LCI results', 'air', 'NMVOC') : {'description': '', 'filename': 'LCIA_Implementation_3.9.xlsx', 'unit': 'kilogram', 'abbreviation': 'selected-lci-resultsan.c4a285e6d61e0ef340c192bf6ef7cc4f', 'num_cfs': 732, 'geocollections': ['world']}\n",
      "('selected LCI results', 'air', 'particulates, < 2.5 um') : {'description': '', 'filename': 'LCIA_Implementation_3.9.xlsx', 'unit': 'kilogram', 'abbreviation': 'selected-lci-resultsap.42b0b87f4d51358e017fc9471fb60f04', 'num_cfs': 5, 'geocollections': ['world']}\n",
      "('selected LCI results', 'air', 'sulphur dioxide') : {'description': '', 'filename': 'LCIA_Implementation_3.9.xlsx', 'unit': 'kilogram', 'abbreviation': 'selected-lci-resultsas.1a11fce06d1cd76ea690a5f4a38c4f1f', 'num_cfs': 5, 'geocollections': ['world']}\n",
      "('selected LCI results', 'resource', 'land occupation') : {'description': '', 'filename': 'LCIA_Implementation_3.9.xlsx', 'unit': 'square meter-year', 'abbreviation': 'selected-lci-resultsrl.f35a95663b7745c1c6d89e835cedea06', 'num_cfs': 58, 'geocollections': ['world']}\n",
      "('selected LCI results', 'soil', 'cadmium') : {'description': '', 'filename': 'LCIA_Implementation_3.9.xlsx', 'unit': 'kilogram', 'abbreviation': 'selected-lci-resultssc.4f72bc4472dea1da6926889ff5d15a6f', 'num_cfs': 4, 'geocollections': ['world']}\n",
      "('selected LCI results', 'water', 'BOD') : {'description': '', 'filename': 'LCIA_Implementation_3.9.xlsx', 'unit': 'kilogram', 'abbreviation': 'selected-lci-resultswb.f9259e6e206ecdfec8a0041eaaf79f19', 'num_cfs': 5, 'geocollections': ['world']}\n",
      "('TRACI v2.1 no LT', 'acidification no LT', 'acidification potential (AP) no LT') : {'description': '', 'filename': 'LCIA_Implementation_3.9.xlsx', 'unit': 'kg SO2-Eq', 'abbreviation': 'traci-v21-no-ltaa.48ce2ab0097b60554a7a7b15ddbea84b', 'num_cfs': 40, 'geocollections': ['world']}\n",
      "('TRACI v2.1 no LT', 'climate change no LT', 'global warming potential (GWP100) no LT') : {'description': '', 'filename': 'LCIA_Implementation_3.9.xlsx', 'unit': 'kg CO2-Eq', 'abbreviation': 'traci-v21-no-ltcg.24929020cad7c30f70be5c4b09a567c6', 'num_cfs': 157, 'geocollections': ['world']}\n",
      "('TRACI v2.1 no LT', 'ecotoxicity: freshwater no LT', 'ecotoxicity: freshwater no LT') : {'description': '', 'filename': 'LCIA_Implementation_3.9.xlsx', 'unit': 'CTUe', 'abbreviation': 'traci-v21-no-ltee.b81c3a56ea71ea9fdbc7858c99742bca', 'num_cfs': 1696, 'geocollections': ['world']}\n",
      "('TRACI v2.1 no LT', 'eutrophication no LT', 'eutrophication potential no LT') : {'description': '', 'filename': 'LCIA_Implementation_3.9.xlsx', 'unit': 'kg N-Eq', 'abbreviation': 'traci-v21-no-ltee.c046c67c249078abd60450e34c4c3e35', 'num_cfs': 55, 'geocollections': ['world']}\n",
      "('TRACI v2.1 no LT', 'human toxicity: carcinogenic no LT', 'human toxicity: carcinogenic no LT') : {'description': '', 'filename': 'LCIA_Implementation_3.9.xlsx', 'unit': 'CTUh', 'abbreviation': 'traci-v21-no-lthh.c7dc1b23b96b6b8f9d017ceb3a04d3e6', 'num_cfs': 429, 'geocollections': ['world']}\n",
      "('TRACI v2.1 no LT', 'human toxicity: non-carcinogenic no LT', 'human toxicity: non-carcinogenic no LT') : {'description': '', 'filename': 'LCIA_Implementation_3.9.xlsx', 'unit': 'CTUh', 'abbreviation': 'traci-v21-no-lthh.70bd294a613ed31f12277177ec05ffa1', 'num_cfs': 1000, 'geocollections': ['world']}\n",
      "('TRACI v2.1 no LT', 'ozone depletion no LT', 'ozone depletion potential (ODP) no LT') : {'description': '', 'filename': 'LCIA_Implementation_3.9.xlsx', 'unit': 'kg CFC-11-Eq', 'abbreviation': 'traci-v21-no-ltoo.3c29f078d02360705313cb17dd1f652d', 'num_cfs': 76, 'geocollections': ['world']}\n",
      "('TRACI v2.1 no LT', 'particulate matter formation no LT', 'particulate matter formation potential (PMFP) no LT') : {'description': '', 'filename': 'LCIA_Implementation_3.9.xlsx', 'unit': 'PM2.5-Eq', 'abbreviation': 'traci-v21-no-ltpp.c40a77d6396e2b730e6aa06c05d52fbb', 'num_cfs': 32, 'geocollections': ['world']}\n",
      "('TRACI v2.1 no LT', 'photochemical oxidant formation no LT', 'maximum incremental reactivity (MIR) no LT') : {'description': '', 'filename': 'LCIA_Implementation_3.9.xlsx', 'unit': 'kg O3-Eq', 'abbreviation': 'traci-v21-no-ltpm.9a2cb1a208c3ee51ac2458a05d5e42ad', 'num_cfs': 384, 'geocollections': ['world']}\n",
      "('TRACI v2.1', 'acidification', 'acidification potential (AP)') : {'description': '', 'filename': 'LCIA_Implementation_3.9.xlsx', 'unit': 'kg SO2-Eq', 'abbreviation': 'traci-v21aa.85160c632b08123ba630538a4749a1da', 'num_cfs': 49, 'geocollections': ['world']}\n",
      "('TRACI v2.1', 'climate change', 'global warming potential (GWP100)') : {'description': '', 'filename': 'LCIA_Implementation_3.9.xlsx', 'unit': 'kg CO2-Eq', 'abbreviation': 'traci-v21cg.dd067ce06228b3166d99d484b9e58e67', 'num_cfs': 195, 'geocollections': ['world']}\n",
      "('TRACI v2.1', 'ecotoxicity: freshwater', 'ecotoxicity: freshwater') : {'description': '', 'filename': 'LCIA_Implementation_3.9.xlsx', 'unit': 'CTUe', 'abbreviation': 'traci-v21ee.b58d40700555079c1b8ce5d18ce06a49', 'num_cfs': 1933, 'geocollections': ['world']}\n",
      "('TRACI v2.1', 'eutrophication', 'eutrophication potential') : {'description': '', 'filename': 'LCIA_Implementation_3.9.xlsx', 'unit': 'kg N-Eq', 'abbreviation': 'traci-v21ee.64d99a675bc38da228bf01bc4f743c09', 'num_cfs': 67, 'geocollections': ['world']}\n",
      "('TRACI v2.1', 'human toxicity: carcinogenic', 'human toxicity: carcinogenic') : {'description': '', 'filename': 'LCIA_Implementation_3.9.xlsx', 'unit': 'CTUh', 'abbreviation': 'traci-v21hh.8204be8ff2e8b468425f24990c5b85d0', 'num_cfs': 512, 'geocollections': ['world']}\n",
      "('TRACI v2.1', 'human toxicity: non-carcinogenic', 'human toxicity: non-carcinogenic') : {'description': '', 'filename': 'LCIA_Implementation_3.9.xlsx', 'unit': 'CTUh', 'abbreviation': 'traci-v21hh.24809de3778695a47cbf2c8895cc3519', 'num_cfs': 1139, 'geocollections': ['world']}\n",
      "('TRACI v2.1', 'ozone depletion', 'ozone depletion potential (ODP)') : {'description': '', 'filename': 'LCIA_Implementation_3.9.xlsx', 'unit': 'kg CFC-11-Eq', 'abbreviation': 'traci-v21oo.0706f7e8c43cba628c1e12f871c4daf0', 'num_cfs': 95, 'geocollections': ['world']}\n",
      "('TRACI v2.1', 'particulate matter formation', 'particulate matter formation potential (PMFP)') : {'description': '', 'filename': 'LCIA_Implementation_3.9.xlsx', 'unit': 'PM2.5-Eq', 'abbreviation': 'traci-v21pp.820e7c3be8bb97e6d88e559c218ea103', 'num_cfs': 40, 'geocollections': ['world']}\n",
      "('TRACI v2.1', 'photochemical oxidant formation', 'maximum incremental reactivity (MIR)') : {'description': '', 'filename': 'LCIA_Implementation_3.9.xlsx', 'unit': 'kg O3-Eq', 'abbreviation': 'traci-v21pm.59f4b54fe3161b3bced56c5c2a03f6c3', 'num_cfs': 477, 'geocollections': ['world']}\n",
      "('USEtox no LT', 'ecotoxicity no LT', 'total no LT') : {'description': '', 'filename': 'LCIA_Implementation_3.9.xlsx', 'unit': 'CTU', 'abbreviation': 'usetox-no-ltet.eec9574592e1b93f7caea6ba4f4e9ec0', 'num_cfs': 1166, 'geocollections': ['world']}\n",
      "('USEtox no LT', 'human toxicity no LT', 'carcinogenic no LT') : {'description': '', 'filename': 'LCIA_Implementation_3.9.xlsx', 'unit': 'CTU', 'abbreviation': 'usetox-no-lthc.b1250b082dbcc181cec6b228e7658541', 'num_cfs': 369, 'geocollections': ['world']}\n",
      "('USEtox no LT', 'human toxicity no LT', 'non-carcinogenic no LT') : {'description': '', 'filename': 'LCIA_Implementation_3.9.xlsx', 'unit': 'CTU', 'abbreviation': 'usetox-no-lthn.1cb2041147db980d1d5df5e01fd39a8d', 'num_cfs': 722, 'geocollections': ['world']}\n",
      "('USEtox no LT', 'human toxicity no LT', 'total no LT') : {'description': '', 'filename': 'LCIA_Implementation_3.9.xlsx', 'unit': 'CTU', 'abbreviation': 'usetox-no-ltht.5a8a9d61e7bdffd54d94efc571766557', 'num_cfs': 792, 'geocollections': ['world']}\n",
      "('USEtox', 'ecotoxicity', 'total') : {'description': '', 'filename': 'LCIA_Implementation_3.9.xlsx', 'unit': 'CTU', 'abbreviation': 'usetoxet.e4677843b35d1a20e2b3b3950029b55e', 'num_cfs': 1373, 'geocollections': ['world']}\n",
      "('USEtox', 'human toxicity', 'carcinogenic') : {'description': '', 'filename': 'LCIA_Implementation_3.9.xlsx', 'unit': 'CTU', 'abbreviation': 'usetoxhc.d385c2943e41c80977feee2c9cf3c9ff', 'num_cfs': 448, 'geocollections': ['world']}\n",
      "('USEtox', 'human toxicity', 'non-carcinogenic') : {'description': '', 'filename': 'LCIA_Implementation_3.9.xlsx', 'unit': 'CTU', 'abbreviation': 'usetoxhn.27dd66de9a709720e828ab7766d26376', 'num_cfs': 849, 'geocollections': ['world']}\n",
      "('USEtox', 'human toxicity', 'total') : {'description': '', 'filename': 'LCIA_Implementation_3.9.xlsx', 'unit': 'CTU', 'abbreviation': 'usetoxht.df53f56082df3fb0a4e999a00bcc7904', 'num_cfs': 935, 'geocollections': ['world']}\n",
      "('EF v3.0 EN15804', 'acidification', 'accumulated exceedance (AE)') : {'description': '', 'filename': 'LCIA_Implementation_3.9.xlsx', 'unit': 'mol H+-Eq', 'abbreviation': 'ef-v30-en15804aa.05f1d7aa808e3cae95010227efe4090b', 'num_cfs': 21, 'geocollections': ['world']}\n",
      "('EF v3.0 EN15804', 'climate change', 'global warming potential (GWP100)') : {'description': '', 'filename': 'LCIA_Implementation_3.9.xlsx', 'unit': 'kg CO2-Eq', 'abbreviation': 'ef-v30-en15804cg.63036b19415ef2d554f795723e0ba14b', 'num_cfs': 205, 'geocollections': ['world']}\n",
      "('EF v3.0 EN15804', 'climate change: biogenic', 'global warming potential (GWP100)') : {'description': '', 'filename': 'LCIA_Implementation_3.9.xlsx', 'unit': 'kg CO2-Eq', 'abbreviation': 'ef-v30-en15804cg.c09ceeb4b3a11ad630c4bd27b233a683', 'num_cfs': 12, 'geocollections': ['world']}\n",
      "('EF v3.0 EN15804', 'climate change: fossil', 'global warming potential (GWP100)') : {'description': '', 'filename': 'LCIA_Implementation_3.9.xlsx', 'unit': 'kg CO2-Eq', 'abbreviation': 'ef-v30-en15804cg.3f9a372c80db6f19f1317156f7e0f906', 'num_cfs': 174, 'geocollections': ['world']}\n",
      "('EF v3.0 EN15804', 'climate change: land use and land use change', 'global warming potential (GWP100)') : {'description': '', 'filename': 'LCIA_Implementation_3.9.xlsx', 'unit': 'kg CO2-Eq', 'abbreviation': 'ef-v30-en15804cg.f2b0fddbee1af89e5d0842f972168659', 'num_cfs': 19, 'geocollections': ['world']}\n",
      "('EF v3.0 EN15804', 'ecotoxicity: freshwater', 'comparative toxic unit for ecosystems (CTUe)') : {'description': '', 'filename': 'LCIA_Implementation_3.9.xlsx', 'unit': 'CTUe', 'abbreviation': 'ef-v30-en15804ec.0c72f454d1535ed9435672c6c23002f7', 'num_cfs': 2482, 'geocollections': ['world']}\n",
      "('EF v3.0 EN15804', 'energy resources: non-renewable', 'abiotic depletion potential (ADP): fossil fuels') : {'description': '', 'filename': 'LCIA_Implementation_3.9.xlsx', 'unit': 'MJ, net calorific value', 'abbreviation': 'ef-v30-en15804ea.852532e6951222ca6f11e950eb6fa84d', 'num_cfs': 7, 'geocollections': ['world']}\n",
      "('EF v3.0 EN15804', 'eutrophication: freshwater', 'fraction of nutrients reaching freshwater end compartment (P)') : {'description': '', 'filename': 'LCIA_Implementation_3.9.xlsx', 'unit': 'kg P-Eq', 'abbreviation': 'ef-v30-en15804ef.4eb18b0d899ade7c371be396522ad9db', 'num_cfs': 13, 'geocollections': ['world']}\n",
      "('EF v3.0 EN15804', 'eutrophication: marine', 'fraction of nutrients reaching marine end compartment (N)') : {'description': '', 'filename': 'LCIA_Implementation_3.9.xlsx', 'unit': 'kg N-Eq', 'abbreviation': 'ef-v30-en15804ef.e5c9f4af5ccef1c3b2a39efcd36d1a61', 'num_cfs': 36, 'geocollections': ['world']}\n",
      "('EF v3.0 EN15804', 'eutrophication: terrestrial', 'accumulated exceedance (AE)') : {'description': '', 'filename': 'LCIA_Implementation_3.9.xlsx', 'unit': 'mol N-Eq', 'abbreviation': 'ef-v30-en15804ea.8d6f82960e5f30691af153a2b0cc2dee', 'num_cfs': 16, 'geocollections': ['world']}\n",
      "('EF v3.0 EN15804', 'human toxicity: carcinogenic', 'comparative toxic unit for human (CTUh)') : {'description': '', 'filename': 'LCIA_Implementation_3.9.xlsx', 'unit': 'CTUh', 'abbreviation': 'ef-v30-en15804hc.895d179ad13f33112ad87cf4a2ac22e4', 'num_cfs': 478, 'geocollections': ['world']}\n",
      "('EF v3.0 EN15804', 'human toxicity: non-carcinogenic', 'comparative toxic unit for human (CTUh)') : {'description': '', 'filename': 'LCIA_Implementation_3.9.xlsx', 'unit': 'CTUh', 'abbreviation': 'ef-v30-en15804hc.b0bca3e5f5cfb441b729f93a280d00a1', 'num_cfs': 2057, 'geocollections': ['world']}\n",
      "('EF v3.0 EN15804', 'ionising radiation: human health', 'human exposure efficiency relative to u235') : {'description': '', 'filename': 'LCIA_Implementation_3.9.xlsx', 'unit': 'kBq U235-Eq', 'abbreviation': 'ef-v30-en15804ih.74feba36ee1861c18aac395df76bfd5e', 'num_cfs': 195, 'geocollections': ['world']}\n",
      "('EF v3.0 EN15804', 'land use', 'soil quality index') : {'description': '', 'filename': 'LCIA_Implementation_3.9.xlsx', 'unit': 'dimensionless', 'abbreviation': 'ef-v30-en15804ls.0a495ce67d29d498915e42111e97c957', 'num_cfs': 155, 'geocollections': ['world']}\n",
      "('EF v3.0 EN15804', 'material resources: metals/minerals', 'abiotic depletion potential (ADP): elements (ultimate reserves)') : {'description': '', 'filename': 'LCIA_Implementation_3.9.xlsx', 'unit': 'kg Sb-Eq', 'abbreviation': 'ef-v30-en15804ma.5de80100c07382d6cac5f963584b485f', 'num_cfs': 148, 'geocollections': ['world']}\n",
      "('EF v3.0 EN15804', 'ozone depletion', 'ozone depletion potential (ODP)') : {'description': '', 'filename': 'LCIA_Implementation_3.9.xlsx', 'unit': 'kg CFC-11-Eq', 'abbreviation': 'ef-v30-en15804oo.53c327671039f88f293f0f3b591aa46d', 'num_cfs': 75, 'geocollections': ['world']}\n",
      "('EF v3.0 EN15804', 'particulate matter formation', 'impact on human health') : {'description': '', 'filename': 'LCIA_Implementation_3.9.xlsx', 'unit': 'disease incidence', 'abbreviation': 'ef-v30-en15804pi.cbf1a254540215111b5281eb18c088e0', 'num_cfs': 27, 'geocollections': ['world']}\n",
      "('EF v3.0 EN15804', 'photochemical oxidant formation: human health', 'tropospheric ozone concentration increase') : {'description': '', 'filename': 'LCIA_Implementation_3.9.xlsx', 'unit': 'kg NMVOC-Eq', 'abbreviation': 'ef-v30-en15804pt.ba2d7950b7fd39c82f238c7fb4c71de2', 'num_cfs': 311, 'geocollections': ['world']}\n",
      "('EF v3.0 EN15804', 'water use', 'user deprivation potential (deprivation-weighted water consumption)') : {'description': '', 'filename': 'LCIA_Implementation_3.9.xlsx', 'unit': 'm3 world eq. deprived', 'abbreviation': 'ef-v30-en15804wu.51329e26f62e7f0119106a3378b53524', 'num_cfs': 5, 'geocollections': ['world']}\n",
      "('EF v3.1 EN15804', 'acidification', 'accumulated exceedance (AE)') : {'description': '', 'filename': 'LCIA_Implementation_3.9.xlsx', 'unit': 'mol H+-Eq', 'abbreviation': 'ef-v31-en15804aa.135223ef5be93cd5040075772d7d5d76', 'num_cfs': 22, 'geocollections': ['world']}\n",
      "('EF v3.1 EN15804', 'climate change', 'global warming potential (GWP100)') : {'description': '', 'filename': 'LCIA_Implementation_3.9.xlsx', 'unit': 'kg CO2-Eq', 'abbreviation': 'ef-v31-en15804cg.6c8284396aeb7522ad52dd060c887bef', 'num_cfs': 230, 'geocollections': ['world']}\n",
      "('EF v3.1 EN15804', 'climate change: biogenic', 'global warming potential (GWP100)') : {'description': '', 'filename': 'LCIA_Implementation_3.9.xlsx', 'unit': 'kg CO2-Eq', 'abbreviation': 'ef-v31-en15804cg.b576180ea47e025cb3721ab34f8a4188', 'num_cfs': 12, 'geocollections': ['world']}\n",
      "('EF v3.1 EN15804', 'climate change: fossil', 'global warming potential (GWP100)') : {'description': '', 'filename': 'LCIA_Implementation_3.9.xlsx', 'unit': 'kg CO2-Eq', 'abbreviation': 'ef-v31-en15804cg.f2d6bc0804c0e79a9a07b2338fce3033', 'num_cfs': 204, 'geocollections': ['world']}\n",
      "('EF v3.1 EN15804', 'climate change: land use and land use change', 'global warming potential (GWP100)') : {'description': '', 'filename': 'LCIA_Implementation_3.9.xlsx', 'unit': 'kg CO2-Eq', 'abbreviation': 'ef-v31-en15804cg.04e1f893bd0be8f0419a5e2acb214707', 'num_cfs': 14, 'geocollections': ['world']}\n",
      "('EF v3.1 EN15804', 'ecotoxicity: freshwater', 'comparative toxic unit for ecosystems (CTUe)') : {'description': '', 'filename': 'LCIA_Implementation_3.9.xlsx', 'unit': 'CTUe', 'abbreviation': 'ef-v31-en15804ec.f3f6592735f6092c5590f3d415e1eca2', 'num_cfs': 2474, 'geocollections': ['world']}\n",
      "('EF v3.1 EN15804', 'energy resources: non-renewable', 'abiotic depletion potential (ADP): fossil fuels') : {'description': '', 'filename': 'LCIA_Implementation_3.9.xlsx', 'unit': 'MJ, net calorific value', 'abbreviation': 'ef-v31-en15804ea.abdd99aae5f9251f1b29b6ff8b482adc', 'num_cfs': 7, 'geocollections': ['world']}\n",
      "('EF v3.1 EN15804', 'eutrophication: freshwater', 'fraction of nutrients reaching freshwater end compartment (P)') : {'description': '', 'filename': 'LCIA_Implementation_3.9.xlsx', 'unit': 'kg P-Eq', 'abbreviation': 'ef-v31-en15804ef.86e607b30f0f7b19d51b64dc7df27097', 'num_cfs': 13, 'geocollections': ['world']}\n",
      "('EF v3.1 EN15804', 'eutrophication: marine', 'fraction of nutrients reaching marine end compartment (N)') : {'description': '', 'filename': 'LCIA_Implementation_3.9.xlsx', 'unit': 'kg N-Eq', 'abbreviation': 'ef-v31-en15804ef.3b2d87ff4b7da9a567660214e47f09f0', 'num_cfs': 36, 'geocollections': ['world']}\n",
      "('EF v3.1 EN15804', 'eutrophication: terrestrial', 'accumulated exceedance (AE)') : {'description': '', 'filename': 'LCIA_Implementation_3.9.xlsx', 'unit': 'mol N-Eq', 'abbreviation': 'ef-v31-en15804ea.9c3da60f051c2978c511edfb3b81a1da', 'num_cfs': 16, 'geocollections': ['world']}\n",
      "('EF v3.1 EN15804', 'human toxicity: carcinogenic', 'comparative toxic unit for human (CTUh)') : {'description': '', 'filename': 'LCIA_Implementation_3.9.xlsx', 'unit': 'CTUh', 'abbreviation': 'ef-v31-en15804hc.379b26b972ec9166bb95834289b397d7', 'num_cfs': 479, 'geocollections': ['world']}\n",
      "('EF v3.1 EN15804', 'human toxicity: non-carcinogenic', 'comparative toxic unit for human (CTUh)') : {'description': '', 'filename': 'LCIA_Implementation_3.9.xlsx', 'unit': 'CTUh', 'abbreviation': 'ef-v31-en15804hc.4bd73ce925c51bb2e88cb59cadd4f50d', 'num_cfs': 2026, 'geocollections': ['world']}\n",
      "('EF v3.1 EN15804', 'ionising radiation: human health', 'human exposure efficiency relative to u235') : {'description': '', 'filename': 'LCIA_Implementation_3.9.xlsx', 'unit': 'kBq U235-Eq', 'abbreviation': 'ef-v31-en15804ih.3221f3710ee15a5c39317332ee500bad', 'num_cfs': 195, 'geocollections': ['world']}\n",
      "('EF v3.1 EN15804', 'land use', 'soil quality index') : {'description': '', 'filename': 'LCIA_Implementation_3.9.xlsx', 'unit': 'dimensionless', 'abbreviation': 'ef-v31-en15804ls.6e9e55ff72faca3fe00b073488f3d73f', 'num_cfs': 155, 'geocollections': ['world']}\n",
      "('EF v3.1 EN15804', 'material resources: metals/minerals', 'abiotic depletion potential (ADP): elements (ultimate reserves)') : {'description': '', 'filename': 'LCIA_Implementation_3.9.xlsx', 'unit': 'kg Sb-Eq', 'abbreviation': 'ef-v31-en15804ma.6cf69649658ad31dacbb6d58801340c6', 'num_cfs': 148, 'geocollections': ['world']}\n",
      "('EF v3.1 EN15804', 'ozone depletion', 'ozone depletion potential (ODP)') : {'description': '', 'filename': 'LCIA_Implementation_3.9.xlsx', 'unit': 'kg CFC-11-Eq', 'abbreviation': 'ef-v31-en15804oo.5a0f547d8364d437ab6e16f2bd67270d', 'num_cfs': 75, 'geocollections': ['world']}\n",
      "('EF v3.1 EN15804', 'particulate matter formation', 'impact on human health') : {'description': '', 'filename': 'LCIA_Implementation_3.9.xlsx', 'unit': 'disease incidence', 'abbreviation': 'ef-v31-en15804pi.5bfeb7d5bb0388dfdcbd6356bd3cadc0', 'num_cfs': 27, 'geocollections': ['world']}\n",
      "('EF v3.1 EN15804', 'photochemical oxidant formation: human health', 'tropospheric ozone concentration increase') : {'description': '', 'filename': 'LCIA_Implementation_3.9.xlsx', 'unit': 'kg NMVOC-Eq', 'abbreviation': 'ef-v31-en15804pt.67b8ec632c46760c4caa373e664dbba3', 'num_cfs': 311, 'geocollections': ['world']}\n",
      "('EF v3.1 EN15804', 'water use', 'user deprivation potential (deprivation-weighted water consumption)') : {'description': '', 'filename': 'LCIA_Implementation_3.9.xlsx', 'unit': 'm3 world eq. deprived', 'abbreviation': 'ef-v31-en15804wu.38effc1a3d2d9f3342346f4d334934d6', 'num_cfs': 5, 'geocollections': ['world']}\n",
      "('EN15804', 'inventory indicators ISO21930', 'exported energy - electricity') : {'description': '', 'filename': 'LCIA_Implementation_3.9.xlsx', 'unit': 'megajoule', 'abbreviation': 'en15804ie.970de9b000374eb9343c760a1caa5b50', 'num_cfs': 1, 'geocollections': ['world']}\n",
      "('EN15804', 'inventory indicators ISO21930', 'exported energy - heat') : {'description': '', 'filename': 'LCIA_Implementation_3.9.xlsx', 'unit': 'megajoule', 'abbreviation': 'en15804ie.7d8815bb9657f5f2f4bcb3bb68f7fa3a', 'num_cfs': 1, 'geocollections': ['world']}\n",
      "('EN15804', 'inventory indicators ISO21930', 'hazardous waste disposed') : {'description': '', 'filename': 'LCIA_Implementation_3.9.xlsx', 'unit': 'kilogram', 'abbreviation': 'en15804ih.8f5a96eb458521330c12c65e9293019d', 'num_cfs': 1, 'geocollections': ['world']}\n",
      "('EN15804', 'inventory indicators ISO21930', 'high-level radioactive waste disposed') : {'description': '', 'filename': 'LCIA_Implementation_3.9.xlsx', 'unit': 'kilogram', 'abbreviation': 'en15804ih.9d650bc0602608243f0dbcae1b832e6e', 'num_cfs': 1, 'geocollections': ['world']}\n",
      "('EN15804', 'inventory indicators ISO21930', 'intermediate and low-level radioactive waste disposed') : {'description': '', 'filename': 'LCIA_Implementation_3.9.xlsx', 'unit': 'kilogram', 'abbreviation': 'en15804ii.697ea6a6a43cc6fff979bff0a250e86b', 'num_cfs': 1, 'geocollections': ['world']}\n",
      "('EN15804', 'inventory indicators ISO21930', 'materials for energy recovery') : {'description': '', 'filename': 'LCIA_Implementation_3.9.xlsx', 'unit': 'kilogram', 'abbreviation': 'en15804im.afffcd81862b1304947711999bd23b45', 'num_cfs': 1, 'geocollections': ['world']}\n",
      "('EN15804', 'inventory indicators ISO21930', 'materials for recycling') : {'description': '', 'filename': 'LCIA_Implementation_3.9.xlsx', 'unit': 'kilogram', 'abbreviation': 'en15804im.2b29daa0d4d692f72becd1dcf538f568', 'num_cfs': 1, 'geocollections': ['world']}\n",
      "('EN15804', 'inventory indicators ISO21930', 'non-hazardous waste disposed') : {'description': '', 'filename': 'LCIA_Implementation_3.9.xlsx', 'unit': 'kilogram', 'abbreviation': 'en15804in.25b071db3f8d9fff724b8ce7e6424d82', 'num_cfs': 1, 'geocollections': ['world']}\n",
      "('EN15804', 'inventory indicators ISO21930', 'recovered energy') : {'description': '', 'filename': 'LCIA_Implementation_3.9.xlsx', 'unit': 'megajoule', 'abbreviation': 'en15804ir.41c51e35ea25d6f7262198745ac8a62d', 'num_cfs': 1, 'geocollections': ['world']}\n",
      "('EN15804', 'inventory indicators ISO21930', 'use of net fresh water') : {'description': '', 'filename': 'LCIA_Implementation_3.9.xlsx', 'unit': 'cubic meter', 'abbreviation': 'en15804iu.5e0d5ab5c46539ae55a7ff6448ebb13b', 'num_cfs': 10, 'geocollections': ['world']}\n",
      "('EN15804', 'inventory indicators ISO21930', 'use of renewable secondary fuels') : {'description': '', 'filename': 'LCIA_Implementation_3.9.xlsx', 'unit': 'megajoule', 'abbreviation': 'en15804iu.82fc686c54d5ed64e287df03d0d3f2bb', 'num_cfs': 1, 'geocollections': ['world']}\n",
      "('EN15804', 'inventory indicators ISO21930', 'use of secondary material') : {'description': '', 'filename': 'LCIA_Implementation_3.9.xlsx', 'unit': 'kilogram', 'abbreviation': 'en15804iu.ddf13e064cfc3383f2dc8f4416988c6b', 'num_cfs': 1, 'geocollections': ['world']}\n",
      "('EN15804', 'inventory indicators ISO21930', 'Cumulative Energy Demand - renewable energy resources') : {'description': '', 'filename': 'LCIA_Implementation_3.9.xlsx', 'unit': 'megajoule', 'abbreviation': 'en15804ic.56214d1bc2a87b07f463df22e398dc79', 'num_cfs': 5, 'geocollections': ['world']}\n",
      "('EN15804', 'inventory indicators ISO21930', 'Cumulative Energy Demand - non-renewable energy resources') : {'description': '', 'filename': 'LCIA_Implementation_3.9.xlsx', 'unit': 'megajoule', 'abbreviation': 'en15804ic.fc900d621e3151c6a49e6e6864b9b46c', 'num_cfs': 9, 'geocollections': ['world']}\n"
     ]
    }
   ],
   "source": [
    "for key in bd.methods:\n",
    "    print(key, ':', bd.methods[key])"
   ]
  },
  {
   "cell_type": "markdown",
   "id": "011bb9ed-23ce-4afe-8a11-e31f0df7860d",
   "metadata": {},
   "source": [
    "To access the description of only one characterization method, type:"
   ]
  },
  {
   "cell_type": "code",
   "execution_count": 26,
   "id": "e7106769-0b0e-48a9-81f4-68c6421f345f",
   "metadata": {},
   "outputs": [
    {
     "data": {
      "text/plain": [
       "{'description': '',\n",
       " 'filename': 'LCIA_Implementation_3.9.xlsx',\n",
       " 'unit': 'kg CO2-Eq',\n",
       " 'abbreviation': 'cml-v48-2016cg.231d6e8f8b1c199a47182515eba4032e',\n",
       " 'num_cfs': 185,\n",
       " 'geocollections': ['world']}"
      ]
     },
     "execution_count": 26,
     "metadata": {},
     "output_type": "execute_result"
    }
   ],
   "source": [
    "bd.methods.get(('CML v4.8 2016', 'climate change', 'global warming potential (GWP100)'))"
   ]
  },
  {
   "cell_type": "markdown",
   "id": "282c47a0-3bf5-4c7e-9def-7cce009cac0d",
   "metadata": {},
   "source": [
    "We can also get the value of an item by specifying the corresponding key. Let's imagine we want to know the units considered by the characterization method:"
   ]
  },
  {
   "cell_type": "code",
   "execution_count": 27,
   "id": "25679ed2-ef1d-475a-8421-3e83335d9500",
   "metadata": {},
   "outputs": [
    {
     "data": {
      "text/plain": [
       "'kg CO2-Eq'"
      ]
     },
     "execution_count": 27,
     "metadata": {},
     "output_type": "execute_result"
    }
   ],
   "source": [
    "bd.methods.get(('CML v4.8 2016', 'climate change', 'global warming potential (GWP100)')).get('unit')"
   ]
  },
  {
   "cell_type": "markdown",
   "id": "2615b4ea-c286-458f-a3a5-7bf9c5477e92",
   "metadata": {},
   "source": [
    "As we did with the biosphere activities, we can also assign variables to characterization methods:"
   ]
  },
  {
   "cell_type": "code",
   "execution_count": 28,
   "id": "9ea4a378-344e-4dec-9917-d15f4d46d98f",
   "metadata": {},
   "outputs": [
    {
     "data": {
      "text/plain": [
       "dict"
      ]
     },
     "execution_count": 28,
     "metadata": {},
     "output_type": "execute_result"
    }
   ],
   "source": [
    "my_method = bd.methods.get(('CML v4.8 2016', 'climate change', 'global warming potential (GWP100)'))\n",
    "type(my_method)"
   ]
  },
  {
   "cell_type": "markdown",
   "id": "0a0bd143-06e0-416f-98d6-a219a88cd225",
   "metadata": {},
   "source": [
    "We can then get the value corresponding to the key we are interested in. Let's consider again we want to know the unitsof the characterization method:"
   ]
  },
  {
   "cell_type": "code",
   "execution_count": 29,
   "id": "d9ca99fa-bb48-4a31-bfef-5e0060b9fd7c",
   "metadata": {},
   "outputs": [
    {
     "data": {
      "text/plain": [
       "'kg CO2-Eq'"
      ]
     },
     "execution_count": 29,
     "metadata": {},
     "output_type": "execute_result"
    }
   ],
   "source": [
    "my_method['unit']"
   ]
  },
  {
   "cell_type": "markdown",
   "id": "a6bf18a5-92a1-4891-be59-4f8a7ba9a67c",
   "metadata": {},
   "source": [
    "We can get the same information by running the code below:"
   ]
  },
  {
   "cell_type": "code",
   "execution_count": 30,
   "id": "15011051-57ea-40c1-a9b2-56e71e67d66a",
   "metadata": {},
   "outputs": [
    {
     "data": {
      "text/plain": [
       "'kg CO2-Eq'"
      ]
     },
     "execution_count": 30,
     "metadata": {},
     "output_type": "execute_result"
    }
   ],
   "source": [
    "my_method.get('unit')"
   ]
  },
  {
   "cell_type": "markdown",
   "id": "29184fad-a751-41ac-a0b4-2841a8b12117",
   "metadata": {},
   "source": [
    "We can also search for a specific method using list comprehensions. In your group assignment you will work with a LCIA methodology called CML, and specifically the version 4.8, released in 2016. To know all impact categories and respective characterization methods considered by CML v4.8, we can type:"
   ]
  },
  {
   "cell_type": "code",
   "execution_count": 31,
   "id": "021b8aa8-5763-4741-8425-e54c9d167c08",
   "metadata": {},
   "outputs": [
    {
     "data": {
      "text/plain": [
       "[('CML v4.8 2016 no LT',\n",
       "  'acidification no LT',\n",
       "  'acidification (incl. fate, average Europe total, A&B) no LT'),\n",
       " ('CML v4.8 2016 no LT',\n",
       "  'climate change no LT',\n",
       "  'global warming potential (GWP100) no LT'),\n",
       " ('CML v4.8 2016 no LT',\n",
       "  'ecotoxicity: freshwater no LT',\n",
       "  'freshwater aquatic ecotoxicity (FAETP inf) no LT'),\n",
       " ('CML v4.8 2016 no LT',\n",
       "  'ecotoxicity: marine no LT',\n",
       "  'marine aquatic ecotoxicity (MAETP inf) no LT'),\n",
       " ('CML v4.8 2016 no LT',\n",
       "  'ecotoxicity: terrestrial no LT',\n",
       "  'terrestrial ecotoxicity (TETP inf) no LT'),\n",
       " ('CML v4.8 2016 no LT',\n",
       "  'energy resources: non-renewable no LT',\n",
       "  'abiotic depletion potential (ADP): fossil fuels no LT'),\n",
       " ('CML v4.8 2016 no LT',\n",
       "  'eutrophication no LT',\n",
       "  'eutrophication (fate not incl.) no LT'),\n",
       " ('CML v4.8 2016 no LT',\n",
       "  'human toxicity no LT',\n",
       "  'human toxicity (HTP inf) no LT'),\n",
       " ('CML v4.8 2016 no LT',\n",
       "  'material resources: metals/minerals no LT',\n",
       "  'abiotic depletion potential (ADP): elements (ultimate reserves) no LT'),\n",
       " ('CML v4.8 2016 no LT',\n",
       "  'ozone depletion no LT',\n",
       "  'ozone layer depletion (ODP steady state) no LT'),\n",
       " ('CML v4.8 2016 no LT',\n",
       "  'photochemical oxidant formation no LT',\n",
       "  'photochemical oxidation (high NOx) no LT'),\n",
       " ('CML v4.8 2016',\n",
       "  'acidification',\n",
       "  'acidification (incl. fate, average Europe total, A&B)'),\n",
       " ('CML v4.8 2016', 'climate change', 'global warming potential (GWP100)'),\n",
       " ('CML v4.8 2016',\n",
       "  'ecotoxicity: freshwater',\n",
       "  'freshwater aquatic ecotoxicity (FAETP inf)'),\n",
       " ('CML v4.8 2016',\n",
       "  'ecotoxicity: marine',\n",
       "  'marine aquatic ecotoxicity (MAETP inf)'),\n",
       " ('CML v4.8 2016',\n",
       "  'ecotoxicity: terrestrial',\n",
       "  'terrestrial ecotoxicity (TETP inf)'),\n",
       " ('CML v4.8 2016',\n",
       "  'energy resources: non-renewable',\n",
       "  'abiotic depletion potential (ADP): fossil fuels'),\n",
       " ('CML v4.8 2016', 'eutrophication', 'eutrophication (fate not incl.)'),\n",
       " ('CML v4.8 2016', 'human toxicity', 'human toxicity (HTP inf)'),\n",
       " ('CML v4.8 2016',\n",
       "  'material resources: metals/minerals',\n",
       "  'abiotic depletion potential (ADP): elements (ultimate reserves)'),\n",
       " ('CML v4.8 2016',\n",
       "  'ozone depletion',\n",
       "  'ozone layer depletion (ODP steady state)'),\n",
       " ('CML v4.8 2016',\n",
       "  'photochemical oxidant formation',\n",
       "  'photochemical oxidation (high NOx)')]"
      ]
     },
     "execution_count": 31,
     "metadata": {},
     "output_type": "execute_result"
    }
   ],
   "source": [
    "[m for m in bd.methods if 'CML v4.8 2016' in str(m)]"
   ]
  },
  {
   "cell_type": "markdown",
   "id": "69ab1ce5-e847-4ff5-a855-edde283b7684",
   "metadata": {},
   "source": [
    "The query above resulted in two \"types\" of CML. One is what we were looking for ('CML v4.8 2016') and another one is 'CML v4.8 2016 no LT', where LT stands for Land Transformation. We can get exactly the one we are looking for by refining the search as follows:"
   ]
  },
  {
   "cell_type": "code",
   "execution_count": 32,
   "id": "ce7d17ed-9785-4690-8b98-279ff4cc760c",
   "metadata": {},
   "outputs": [
    {
     "data": {
      "text/plain": [
       "[('CML v4.8 2016',\n",
       "  'acidification',\n",
       "  'acidification (incl. fate, average Europe total, A&B)'),\n",
       " ('CML v4.8 2016', 'climate change', 'global warming potential (GWP100)'),\n",
       " ('CML v4.8 2016',\n",
       "  'ecotoxicity: freshwater',\n",
       "  'freshwater aquatic ecotoxicity (FAETP inf)'),\n",
       " ('CML v4.8 2016',\n",
       "  'ecotoxicity: marine',\n",
       "  'marine aquatic ecotoxicity (MAETP inf)'),\n",
       " ('CML v4.8 2016',\n",
       "  'ecotoxicity: terrestrial',\n",
       "  'terrestrial ecotoxicity (TETP inf)'),\n",
       " ('CML v4.8 2016',\n",
       "  'energy resources: non-renewable',\n",
       "  'abiotic depletion potential (ADP): fossil fuels'),\n",
       " ('CML v4.8 2016', 'eutrophication', 'eutrophication (fate not incl.)'),\n",
       " ('CML v4.8 2016', 'human toxicity', 'human toxicity (HTP inf)'),\n",
       " ('CML v4.8 2016',\n",
       "  'material resources: metals/minerals',\n",
       "  'abiotic depletion potential (ADP): elements (ultimate reserves)'),\n",
       " ('CML v4.8 2016',\n",
       "  'ozone depletion',\n",
       "  'ozone layer depletion (ODP steady state)'),\n",
       " ('CML v4.8 2016',\n",
       "  'photochemical oxidant formation',\n",
       "  'photochemical oxidation (high NOx)')]"
      ]
     },
     "execution_count": 32,
     "metadata": {},
     "output_type": "execute_result"
    }
   ],
   "source": [
    "[m for m in bd.methods if 'CML v4.8 2016' in str(m) and not 'no LT' in str(m)]"
   ]
  },
  {
   "cell_type": "code",
   "execution_count": 33,
   "id": "21c74cc8-80bd-4b61-a7d2-42dcde610fbb",
   "metadata": {},
   "outputs": [
    {
     "data": {
      "text/plain": [
       "tuple"
      ]
     },
     "execution_count": 33,
     "metadata": {},
     "output_type": "execute_result"
    }
   ],
   "source": [
    "Ozone_depletion = [m for m in bd.methods if 'ReCiPe 2016 v1.03, midpoint (E) no LT' \n",
    "                   in str(m) and 'ozone depletion no LT' in str(m)][0]\n",
    "type(Ozone_depletion)"
   ]
  },
  {
   "cell_type": "markdown",
   "id": "ca77b47b-09e0-4bee-b55d-299e0e56cac4",
   "metadata": {},
   "source": [
    "We can also set the characterization method as an object and benefit from the multiple 'Methods' associated with a pyhton object. In pyhton, methods are functions associated with an object, and can manipulate and perform action on it. et consider in are interested in the impact category Climate Change and respective characterization method, considered by 'CML v4.8 2016':"
   ]
  },
  {
   "cell_type": "code",
   "execution_count": 34,
   "id": "ee70f47b-38dc-4b83-98c4-53af7849a6b0",
   "metadata": {},
   "outputs": [],
   "source": [
    "cml_ClimateChange_method = bd.Method(('CML v4.8 2016', 'climate change', 'global warming potential (GWP100)'))"
   ]
  },
  {
   "cell_type": "code",
   "execution_count": 35,
   "id": "96ccb519-d2d1-4f45-939c-6059ce30df46",
   "metadata": {},
   "outputs": [
    {
     "data": {
      "text/plain": [
       "bw2data.method.Method"
      ]
     },
     "execution_count": 35,
     "metadata": {},
     "output_type": "execute_result"
    }
   ],
   "source": [
    "type(cml_ClimateChange_method)"
   ]
  },
  {
   "cell_type": "code",
   "execution_count": 36,
   "id": "6cee7383-61fd-490e-b384-aaaeb98d0547",
   "metadata": {},
   "outputs": [
    {
     "data": {
      "text/plain": [
       "{'description': '',\n",
       " 'filename': 'LCIA_Implementation_3.9.xlsx',\n",
       " 'unit': 'kg CO2-Eq',\n",
       " 'abbreviation': 'cml-v48-2016cg.231d6e8f8b1c199a47182515eba4032e',\n",
       " 'num_cfs': 185,\n",
       " 'geocollections': ['world']}"
      ]
     },
     "execution_count": 36,
     "metadata": {},
     "output_type": "execute_result"
    }
   ],
   "source": [
    "cml_ClimateChange_method.metadata"
   ]
  },
  {
   "cell_type": "code",
   "execution_count": 37,
   "id": "190d67e8-bb7d-4116-b06f-1397a08ae192",
   "metadata": {},
   "outputs": [
    {
     "data": {
      "text/plain": [
       "'kg CO2-Eq'"
      ]
     },
     "execution_count": 37,
     "metadata": {},
     "output_type": "execute_result"
    }
   ],
   "source": [
    "cml_ClimateChange_method.metadata['unit']"
   ]
  },
  {
   "cell_type": "code",
   "execution_count": 38,
   "id": "ee22162b-66e9-4365-9a7d-34a6ea68536b",
   "metadata": {},
   "outputs": [
    {
     "data": {
      "text/plain": [
       "'kg CO2-Eq'"
      ]
     },
     "execution_count": 38,
     "metadata": {},
     "output_type": "execute_result"
    }
   ],
   "source": [
    "cml_ClimateChange_method.metadata.get('unit')"
   ]
  },
  {
   "cell_type": "markdown",
   "id": "c57e8626-7354-4a01-91e1-b747f2b34132",
   "metadata": {},
   "source": [
    "We can get the elementary flows and corresponding CFs associated witht the LCIA method by doing the following:"
   ]
  },
  {
   "cell_type": "code",
   "execution_count": 39,
   "id": "6b35ed65-4e90-4c21-b1d6-52526e4c8f52",
   "metadata": {},
   "outputs": [
    {
     "data": {
      "text/plain": [
       "[(['biosphere3', 'f9749677-9c9f-4678-ab55-c607dfdc2cb9'], 1),\n",
       " (['biosphere3', '4cadbc9f-0472-4bb9-a942-df5b90e37878'], 16),\n",
       " (['biosphere3', 'fa0c2bee-8dd9-4f8a-8489-b1f3b43de958'], 1300),\n",
       " (['biosphere3', '818cee9e-231c-4b53-8ed2-47a0001802d5'], 160),\n",
       " (['biosphere3', 'f43b2b80-f5a6-4d31-9980-0754305a978d'], 4800),\n",
       " (['biosphere3', '033d3a16-e1a2-4ce8-8769-f4ea867801ca'], 782),\n",
       " (['biosphere3', '393d0862-04cc-45ae-8d08-9dc2a4461b35'], 138),\n",
       " (['biosphere3', '400be66e-4383-482a-93e3-c005e96de261'], 1980),\n",
       " (['biosphere3', 'db907ff7-6cf0-4f88-9376-116262dfad6d'], 79),\n",
       " (['biosphere3', '27f61651-96a5-45c7-9873-832626cf6905'], 527),\n",
       " (['biosphere3', '15e54d5b-aba2-40a6-9aa8-aa2b8c432129'], 7670),\n",
       " (['biosphere3', 'df5dd437-2e12-4af6-8f7a-9c8224857dc5'], 11100),\n",
       " (['biosphere3', '5d1701c5-c4ef-49c7-8a68-ce7c255eee9f'], 3170),\n",
       " (['biosphere3', '4bf1c333-419b-4278-ac14-247c8bf563d6'], 2),\n",
       " (['biosphere3', '816c43d1-bc30-4a72-81db-08cb6be4da4f'], 1750),\n",
       " (['biosphere3', '18ddd879-5496-4419-8ab7-e0d3864d977d'], 6290),\n",
       " (['biosphere3', '8ca6c84b-7f56-47e6-8d17-4f2dbc49a943'], 1760),\n",
       " (['biosphere3', '43bc4fc0-bfeb-46d6-b3de-f69c3ccd622a'], 13900),\n",
       " (['biosphere3', '2716807d-0266-48ff-bb7a-6e6c5fbfd5c5'], 9),\n",
       " (['biosphere3', '31a3e44c-4098-461e-aba2-f79540e05087'], 10200),\n",
       " (['biosphere3', '3c8af80d-7ff8-43f4-b1a7-cef73b1b4682'], 148),\n",
       " (['biosphere3', 'c9028b09-c12d-421b-9944-7d145e196ebc'], 677),\n",
       " (['biosphere3', '5f7aad3d-566c-4d0d-ad59-e765f971aa0f'], 28),\n",
       " (['biosphere3', '370447a7-70d1-47bd-8577-0a32c4f53570'], 12),\n",
       " (['biosphere3', 'baf58fc9-573c-419c-8c16-831ac03203b9'], 28),\n",
       " (['biosphere3', '5c97dd6c-aaa5-4477-aaf8-dbd0674499c4'], 1730),\n",
       " (['biosphere3', 'dfe1da1e-7756-4f7e-a393-6d5e2342a962'], 6630),\n",
       " (['biosphere3', '33a69662-583b-45b8-8cb9-94f59fca9133'], 4660),\n",
       " (['biosphere3', '8f87dcf1-0177-4d62-bea0-a5dd8647ef8c'], 12400),\n",
       " (['biosphere3', '1fdc280a-34d3-4513-b110-3f526b17c443'], 16100),\n",
       " (['biosphere3', '856c9aa2-c20c-49a8-9417-c71bdb5f17b0'], 23500),\n",
       " (['biosphere3', 'aa7cac3a-3625-41d4-bc54-33e2cf11ec46'], 1),\n",
       " (['biosphere3', 'e259263c-d1f1-449f-bb9b-73c6d0a32a00'], 1),\n",
       " (['biosphere3', '16eeda8a-1ea2-408e-ab37-2648495058dd'], 1),\n",
       " (['biosphere3', '349b29d1-3e58-4c66-98b9-9d1a076efd2e'], 1),\n",
       " (['biosphere3', 'fa9b9736-6de8-4bd6-ba22-1bd78c798373'], 16),\n",
       " (['biosphere3', '78259cf2-1bb2-41ec-941c-9d70909df094'], 16),\n",
       " (['biosphere3', '98af3079-fb76-488d-8afe-713814e14d36'], 16),\n",
       " (['biosphere3', 'fbf6ab3a-74e3-4cbe-b61d-959728bdce46'], 16),\n",
       " (['biosphere3', '16fcd4f9-0bb8-4b84-8334-3ffb1a17aa74'], 1300),\n",
       " (['biosphere3', '647ae26f-f2fe-44cb-ac81-39bb7736f28e'], 1300),\n",
       " (['biosphere3', '75fe1a2c-49fa-49e4-90f1-8f102508a96d'], 1300),\n",
       " (['biosphere3', 'e87f039d-d9ce-4242-ac18-c9284cc80f3d'], 1300),\n",
       " (['biosphere3', '99585564-bfce-4845-9aaa-2f24b8f26a41'], 160),\n",
       " (['biosphere3', 'f8ee4881-a003-4e18-aa2a-d9daf97d76f7'], 160),\n",
       " (['biosphere3', '9e7d019f-c8c0-4631-9bbb-ced3e081c90d'], 160),\n",
       " (['biosphere3', 'ce6294f5-2ed7-46ee-a967-33e265e34455'], 160),\n",
       " (['biosphere3', '5253e322-7de5-42aa-9167-daf22ff44031'], 4800),\n",
       " (['biosphere3', 'bf580c6b-1b4d-429d-bed7-1e335920941f'], 4800),\n",
       " (['biosphere3', '5eb2d548-1694-496d-b3bd-a439984fca7d'], 4800),\n",
       " (['biosphere3', 'e86bfec2-1025-4fa2-90b1-81e35e621e91'], 4800),\n",
       " (['biosphere3', 'd2025041-20ee-41bb-b2c8-47631e839ff0'], 5820),\n",
       " (['biosphere3', '416eedbd-a7b4-4693-8031-9bfaa2f20ebc'], 782),\n",
       " (['biosphere3', 'b018c97d-8fea-4258-b4d3-6a65669c77f4'], 782),\n",
       " (['biosphere3', '8c193650-c4ae-4e9a-b25b-eaa7b2b9ea2d'], 782),\n",
       " (['biosphere3', '843fd145-61ac-4fa7-a608-ce4ac4d88d49'], 782),\n",
       " (['biosphere3', '1c4a106a-53bc-40f5-bcae-d30ab191dbfe'], 138),\n",
       " (['biosphere3', '94ca9e00-5268-4663-a0cd-25026c7c6b53'], 138),\n",
       " (['biosphere3', 'fff3d2db-2784-4044-a6a2-2bc7242456ee'], 138),\n",
       " (['biosphere3', '9cf9bf0e-86fe-42c0-90cc-bfed96fbdc8f'], 138),\n",
       " (['biosphere3', '95b6f6da-49f9-413d-8ff5-5342d6cff588'], 1980),\n",
       " (['biosphere3', '50432644-8568-444e-b7e7-8e37a7e1f3e3'], 1980),\n",
       " (['biosphere3', '1652c2e3-c6c5-49e1-9ad1-34c188087ca6'], 1980),\n",
       " (['biosphere3', 'ba781ac6-cdf1-4a09-86b5-76b19ed3438b'], 1980),\n",
       " (['biosphere3', '2cbc6042-2cee-4668-8017-d7f805d9029e'], 79),\n",
       " (['biosphere3', 'f322122f-3059-4cfb-8754-efc82548e7f0'], 79),\n",
       " (['biosphere3', '2fff3bda-1eec-4166-9969-bc9e757c8e8e'], 79),\n",
       " (['biosphere3', '050da0cd-2957-45a9-ae7a-ace372083fe5'], 79),\n",
       " (['biosphere3', '71a6ea76-6642-4573-bed2-c1884e6792fd'], 527),\n",
       " (['biosphere3', '0bf92802-8b5e-43f5-a261-95c06bd5c551'], 527),\n",
       " (['biosphere3', '9b7e5cbf-e1eb-420d-ad43-248df23457ee'], 527),\n",
       " (['biosphere3', '60268f3d-468b-487e-acb1-24d7250cb6b3'], 527),\n",
       " (['biosphere3', '6f8ce7a4-d66a-4593-9314-51778aa09d4b'], 7670),\n",
       " (['biosphere3', '4925cde1-9f43-43d3-bcf1-4865b8de6634'], 7670),\n",
       " (['biosphere3', '30533fd3-b19c-44fc-9a88-fb6b12409b47'], 7670),\n",
       " (['biosphere3', 'ec8789e5-d140-4ca8-b7ef-b3abfd044414'], 7670),\n",
       " (['biosphere3', '8f3e0579-d07d-48c9-b41a-fb559728f9c0'], 11100),\n",
       " (['biosphere3', 'b7e0bddf-7b8a-43f4-9319-6f4b3d9fa65a'], 11100),\n",
       " (['biosphere3', '7f62f535-e81a-476c-9c39-4d59f289db1a'], 11100),\n",
       " (['biosphere3', 'acc39720-dda7-4b3a-80c7-c6394cad4191'], 11100),\n",
       " (['biosphere3', '84386543-b148-465b-9265-ad638c12e263'], 3170),\n",
       " (['biosphere3', 'dc9520c7-6e4a-42fb-b1f6-9fa8f34667a4'], 3170),\n",
       " (['biosphere3', '40022b1f-8906-4c54-a074-bf1a3fc9b13f'], 3170),\n",
       " (['biosphere3', '281e1011-f121-4d5b-ad4d-22d562b2c2cd'], 3170),\n",
       " (['biosphere3', '57bdb443-d4a6-423d-8024-959b8261d02e'], 28),\n",
       " (['biosphere3', '6c977009-5c4e-4901-a4c1-ab20389cb972'], 28),\n",
       " (['biosphere3', '258263a0-6be3-4439-bd84-efee0498b849'], 28),\n",
       " (['biosphere3', 'da1157e2-7593-4dfd-80dd-a3449b37a4d8'], 28),\n",
       " (['biosphere3', '701cda28-4722-431c-b52f-05a735ef5ed3'], 2),\n",
       " (['biosphere3', '09e231fa-b1c2-4d63-9c57-7ea0e2210858'], 2),\n",
       " (['biosphere3', '6bdb666d-e227-4f57-9b1d-d25009d3c44b'], 2),\n",
       " (['biosphere3', '8c283de2-50d3-40c8-8bff-1e172c3398f8'], 2),\n",
       " (['biosphere3', '494eb62d-3e16-4a81-b344-6d6dfd9fd4e2'], 1750),\n",
       " (['biosphere3', '06a4fedf-dab4-4ef1-90df-1d0ce8fe6477'], 1750),\n",
       " (['biosphere3', '50f528ca-45e7-42d0-b399-998ea63ddabf'], 1750),\n",
       " (['biosphere3', 'ee31ac2a-9336-4ed6-8077-9663003bc2f9'], 1750),\n",
       " (['biosphere3', '82957257-07f3-4536-ac8b-175cb2353c75'], 6290),\n",
       " (['biosphere3', '96b52062-5e2f-40de-921a-f443c08862e4'], 6290),\n",
       " (['biosphere3', 'cf719b78-9834-4649-a1dd-8554c366c83f'], 6290),\n",
       " (['biosphere3', '4ac2ffc3-312e-4e2d-88c4-2630d4a73d8c'], 6290),\n",
       " (['biosphere3', '56b7d3b6-83d7-42b0-a65b-5ad23e29db47'], 1760),\n",
       " (['biosphere3', '9b505d7c-4239-40e0-9dbe-55d38f3b85b3'], 1760),\n",
       " (['biosphere3', '26991da1-c263-4707-9f85-78685acc94dc'], 1760),\n",
       " (['biosphere3', '18c582fe-7336-4138-8797-2db8b7a754c7'], 1760),\n",
       " (['biosphere3', '23a9f33d-dbab-4fcc-8f49-1df731b0b827'], 13900),\n",
       " (['biosphere3', '5dfb74d2-fa15-4f2d-bf7c-5aa45a41ec7f'], 13900),\n",
       " (['biosphere3', 'b9c1ac70-e2eb-4fcd-bc63-befa92866af5'], 13900),\n",
       " (['biosphere3', 'e06e2e1e-ad87-49e2-a184-f2d1c48b7b46'], 13900),\n",
       " (['biosphere3', 'd4b61c6c-a620-4a91-afc6-ca87ef97b55a'], 9),\n",
       " (['biosphere3', 'f903c2fb-71bf-4568-99fc-6aa7ed7bc922'], 9),\n",
       " (['biosphere3', 'b328d33e-9a9f-407d-a767-5c64ccdc163f'], 9),\n",
       " (['biosphere3', '432a3326-73f8-4752-bc4d-06b7b4b1243c'], 9),\n",
       " (['biosphere3', 'e93ba406-3df8-4e34-be54-0d556b2bb629'], 10200),\n",
       " (['biosphere3', '31f8976a-6f7d-487e-a850-eb495dbf0351'], 10200),\n",
       " (['biosphere3', '1013b9ec-a7b5-459c-be3d-74f61b9ce06e'], 10200),\n",
       " (['biosphere3', 'c0e8ec60-a5ae-432e-97a5-cf76b6247a00'], 10200),\n",
       " (['biosphere3', '727835b8-c650-4d46-882f-35b2a366b559'], 148),\n",
       " (['biosphere3', '34de4196-871a-4db8-a182-589ab780a935'], 148),\n",
       " (['biosphere3', 'de8d76cb-7216-4e6f-8bf2-8cdf76e99902'], 148),\n",
       " (['biosphere3', '04a6edb8-624a-484e-8f85-d771657adae7'], 148),\n",
       " (['biosphere3', '8fbe2c56-c213-4501-b95e-ff57a76fbd6f'], 677),\n",
       " (['biosphere3', '33a791a2-a1e7-446b-b25a-b3be6159bae4'], 677),\n",
       " (['biosphere3', '20d0fc73-b9ce-4001-ac15-893b30ed10a3'], 677),\n",
       " (['biosphere3', '151212b4-079b-43a2-96d5-a6eef59166ac'], 677),\n",
       " (['biosphere3', '70ef743b-3ed5-4a6d-b192-fb6d62378555'], 28),\n",
       " (['biosphere3', 'f3bd723a-5276-4ae8-9860-b89537351a90'], 28),\n",
       " (['biosphere3', '6b1b495b-70ee-4be6-b1c2-3031aa4d6add'], 28),\n",
       " (['biosphere3', '0795345f-c7ae-410c-ad25-1845784c75f5'], 28),\n",
       " (['biosphere3', 'ed63abd0-7cc6-4825-8759-b367e560fe95'], 12),\n",
       " (['biosphere3', '246c87af-4495-4977-8d39-eae397c1c8f1'], 12),\n",
       " (['biosphere3', '0f70e720-127e-44dc-bb85-438158235ab6'], 12),\n",
       " (['biosphere3', '18ea247b-edc2-43fe-89bd-cedd04102bcc'], 12),\n",
       " (['biosphere3', '0f9f3e17-eb81-4adb-8170-049bc6b66728'], 1730),\n",
       " (['biosphere3', 'ba5c9458-44df-4d93-a7c3-9389f65166d8'], 1730),\n",
       " (['biosphere3', '6c833956-6302-47c3-8abc-7ecae92266fb'], 1730),\n",
       " (['biosphere3', '86d12e70-0c64-4ecf-ba52-114fa0c5d402'], 1730),\n",
       " (['biosphere3', 'b353e7d2-5b94-4b6e-a3e5-de0a10bef851'], 6630),\n",
       " (['biosphere3', 'e59a199f-d4ed-4d43-82b1-71c4a8fae867'], 6630),\n",
       " (['biosphere3', '6d023c39-c04e-4305-b2e4-adc89b53e708'], 6630),\n",
       " (['biosphere3', '33681770-a0e1-4ce8-93c3-941fd607fa5f'], 6630),\n",
       " (['biosphere3', 'a916ca1b-4ece-4630-a563-ae3253efc04f'], 4660),\n",
       " (['biosphere3', '3feb6415-ae50-4bb7-b9d1-c18d99f8a87f'], 4660),\n",
       " (['biosphere3', '6e61b542-5681-44f4-afcb-e30368bca420'], 4660),\n",
       " (['biosphere3', '51e99a55-bcdb-4d18-9484-6de4b142e09d'], 4660),\n",
       " (['biosphere3', '5e2e1740-1bb9-4157-b816-6cb5aa006437'], 12400),\n",
       " (['biosphere3', 'dc78690a-2b0a-49fc-8272-b811fb25ff6c'], 12400),\n",
       " (['biosphere3', 'a3724600-89c1-4f35-97c9-0de3adbadc8b'], 12400),\n",
       " (['biosphere3', 'e5ba3517-a93f-422e-9ce2-f1007fcf6c06'], 12400),\n",
       " (['biosphere3', 'f8cf5fd7-9f94-4870-9e6a-768deae9b766'], 16100),\n",
       " (['biosphere3', '4c097625-506e-4dfc-a170-75fda90cf7cb'], 16100),\n",
       " (['biosphere3', 'fdf090d7-ee05-4f33-8b7f-5504c718c3cd'], 16100),\n",
       " (['biosphere3', 'e79e03c3-5b19-45f6-b3f3-bf710c6663d2'], 16100),\n",
       " (['biosphere3', 'c7c769bb-89b9-4459-afed-e3acecd39339'], 23500),\n",
       " (['biosphere3', 'acbae70a-5450-448f-9038-c403cb496e1a'], 23500),\n",
       " (['biosphere3', '44e4d1ce-fa79-4ed5-93f9-445c4ff8df2e'], 23500),\n",
       " (['biosphere3', '35d1dff5-b535-4628-9826-4a8fce08a1f2'], 23500),\n",
       " (['biosphere3', 'e2ccc98a-6d4e-443b-b11f-d16f32782833'], 8550),\n",
       " (['biosphere3', '9541a975-800f-4fed-9edf-28f6e411a015'], 28),\n",
       " (['biosphere3', 'f757365c-c6fd-41fe-ad32-3594ccd97ef0'], 28),\n",
       " (['biosphere3', 'e4e9febc-07c1-403d-8d3a-6707bb4d96e6'], 1),\n",
       " (['biosphere3', 'ef4566f0-60d5-4bbe-a2cb-7268a81fecd4'], 28),\n",
       " (['biosphere3', 'e1c597cc-14cb-4ebb-af07-7a93a5b77d34'], 1),\n",
       " (['biosphere3', '375bc95e-6596-4aa1-9716-80ff51b9da77'], -1),\n",
       " (['biosphere3', '7f0ba7c9-341e-413d-80f6-8753727d65d1'], 28),\n",
       " (['biosphere3', '6d89125e-e9b7-4d7e-a1fc-ada45dbd8815'], 1),\n",
       " (['biosphere3', '78eb1859-abd9-44c6-9ce3-f3b5b33d619c'], 1),\n",
       " (['biosphere3', 'e8787b5e-d927-446d-81a9-f56977bbfeb4'], 1),\n",
       " (['biosphere3', '299c6564-426e-48c3-b516-fdf301d12127'], 28),\n",
       " (['biosphere3', '259cf8d6-6ea8-4ccf-84b7-23c930a5b2b3'], -1),\n",
       " (['biosphere3', '60d424f7-d5a9-4549-9540-da06684bc3bb'], -1),\n",
       " (['biosphere3', '8ae4d8bb-3e4b-4825-8325-94696d7a64fd'], -1),\n",
       " (['biosphere3', '8a3a44e4-e2f1-476d-9e9e-a90fda263fe3'], 8590),\n",
       " (['biosphere3', '7d05319a-1260-45e0-8872-d5ff1712ea7e'], 8590),\n",
       " (['biosphere3', '1e060d5a-cd41-4f30-9c93-272403b7e004'], 8590),\n",
       " (['biosphere3', '1584734d-c5c8-42a5-aa51-0f6a92a9cc0d'], 8590),\n",
       " (['biosphere3', 'cacfd448-6c2d-4061-9363-fd506b979f25'], 5820),\n",
       " (['biosphere3', '53b87932-00c8-4bf4-b519-ecd3c401ed4d'], 5820),\n",
       " (['biosphere3', '47c12d99-c2dc-41cf-bad1-cd31c2fe0421'], 5820),\n",
       " (['biosphere3', '3b30d058-02ef-4ed2-b357-5fc1a45c63e7'], 8590),\n",
       " (['biosphere3', '9b132374-dce2-4ce0-86aa-53201b30f617'], 5820),\n",
       " (['biosphere3', '6dc1b46f-ee89-4495-95c4-b8a637bcd6cb'], 265),\n",
       " (['biosphere3', 'afd6d670-bbb0-4625-9730-04088a5b035e'], 265),\n",
       " (['biosphere3', '81305cda-63f1-4c1a-99c6-2c2568550ec4'], 265),\n",
       " (['biosphere3', '473826ae-125a-4b02-8c8e-c84322491d80'], 265),\n",
       " (['biosphere3', '20185046-64bb-4c09-a8e7-e8a9e144ca98'], 265)]"
      ]
     },
     "execution_count": 39,
     "metadata": {},
     "output_type": "execute_result"
    }
   ],
   "source": [
    "cml_ClimateChange_method.load()"
   ]
  },
  {
   "cell_type": "markdown",
   "id": "f2c750de-4c92-454c-9f8e-5bec341d3c0f",
   "metadata": {},
   "source": [
    "Lets create a dictionary that has as key the name of the elemenyary flows and as value the corresponding CF:\n",
    "\n",
    "<span style='background:red'> (!!!!! code not working) </span> "
   ]
  },
  {
   "cell_type": "code",
   "execution_count": 40,
   "id": "3e49f473-0356-45e5-b665-450fe791eb86",
   "metadata": {},
   "outputs": [
    {
     "ename": "MultipleResults",
     "evalue": "Found 25947 results for the given search",
     "output_type": "error",
     "traceback": [
      "\u001b[0;31m---------------------------------------------------------------------------\u001b[0m",
      "\u001b[0;31mMultipleResults\u001b[0m                           Traceback (most recent call last)",
      "Cell \u001b[0;32mIn[40], line 1\u001b[0m\n\u001b[0;32m----> 1\u001b[0m OD_dict \u001b[38;5;241m=\u001b[39m \u001b[43m{\u001b[49m\u001b[43mbd\u001b[49m\u001b[38;5;241;43m.\u001b[39;49m\u001b[43mget_activity\u001b[49m\u001b[43m(\u001b[49m\u001b[43mef\u001b[49m\u001b[43m[\u001b[49m\u001b[38;5;241;43m0\u001b[39;49m\u001b[43m]\u001b[49m\u001b[43m)\u001b[49m\u001b[43m[\u001b[49m\u001b[38;5;124;43m'\u001b[39;49m\u001b[38;5;124;43mname\u001b[39;49m\u001b[38;5;124;43m'\u001b[39;49m\u001b[43m]\u001b[49m\u001b[43m:\u001b[49m\u001b[43mef\u001b[49m\u001b[43m[\u001b[49m\u001b[38;5;241;43m1\u001b[39;49m\u001b[43m]\u001b[49m\u001b[43m \u001b[49m\u001b[38;5;28;43;01mfor\u001b[39;49;00m\u001b[43m \u001b[49m\u001b[43mef\u001b[49m\u001b[43m \u001b[49m\u001b[38;5;129;43;01min\u001b[39;49;00m\u001b[43m \u001b[49m\u001b[43mcml_ClimateChange_method\u001b[49m\u001b[38;5;241;43m.\u001b[39;49m\u001b[43mload\u001b[49m\u001b[43m(\u001b[49m\u001b[43m)\u001b[49m\u001b[43m}\u001b[49m\n",
      "Cell \u001b[0;32mIn[40], line 1\u001b[0m, in \u001b[0;36m<dictcomp>\u001b[0;34m(.0)\u001b[0m\n\u001b[0;32m----> 1\u001b[0m OD_dict \u001b[38;5;241m=\u001b[39m {\u001b[43mbd\u001b[49m\u001b[38;5;241;43m.\u001b[39;49m\u001b[43mget_activity\u001b[49m\u001b[43m(\u001b[49m\u001b[43mef\u001b[49m\u001b[43m[\u001b[49m\u001b[38;5;241;43m0\u001b[39;49m\u001b[43m]\u001b[49m\u001b[43m)\u001b[49m[\u001b[38;5;124m'\u001b[39m\u001b[38;5;124mname\u001b[39m\u001b[38;5;124m'\u001b[39m]:ef[\u001b[38;5;241m1\u001b[39m] \u001b[38;5;28;01mfor\u001b[39;00m ef \u001b[38;5;129;01min\u001b[39;00m cml_ClimateChange_method\u001b[38;5;241m.\u001b[39mload()}\n",
      "File \u001b[0;32m/opt/anaconda3/envs/bw25/lib/python3.11/site-packages/bw2data/utils.py:440\u001b[0m, in \u001b[0;36mget_activity\u001b[0;34m(key, **kwargs)\u001b[0m\n\u001b[1;32m    438\u001b[0m \u001b[38;5;28;01melif\u001b[39;00m \u001b[38;5;28misinstance\u001b[39m(key, numbers\u001b[38;5;241m.\u001b[39mIntegral):\n\u001b[1;32m    439\u001b[0m     kwargs[\u001b[38;5;124m\"\u001b[39m\u001b[38;5;124mid\u001b[39m\u001b[38;5;124m\"\u001b[39m] \u001b[38;5;241m=\u001b[39m key\n\u001b[0;32m--> 440\u001b[0m \u001b[38;5;28;01mreturn\u001b[39;00m \u001b[43mget_node\u001b[49m\u001b[43m(\u001b[49m\u001b[38;5;241;43m*\u001b[39;49m\u001b[38;5;241;43m*\u001b[39;49m\u001b[43mkwargs\u001b[49m\u001b[43m)\u001b[49m\n",
      "File \u001b[0;32m/opt/anaconda3/envs/bw25/lib/python3.11/site-packages/bw2data/utils.py:418\u001b[0m, in \u001b[0;36mget_node\u001b[0;34m(**kwargs)\u001b[0m\n\u001b[1;32m    408\u001b[0m     candidates \u001b[38;5;241m=\u001b[39m [\n\u001b[1;32m    409\u001b[0m         obj\n\u001b[1;32m    410\u001b[0m         \u001b[38;5;28;01mfor\u001b[39;00m obj \u001b[38;5;129;01min\u001b[39;00m candidates\n\u001b[0;32m   (...)\u001b[0m\n\u001b[1;32m    415\u001b[0m         )\n\u001b[1;32m    416\u001b[0m     ]\n\u001b[1;32m    417\u001b[0m \u001b[38;5;28;01mif\u001b[39;00m \u001b[38;5;28mlen\u001b[39m(candidates) \u001b[38;5;241m>\u001b[39m \u001b[38;5;241m1\u001b[39m:\n\u001b[0;32m--> 418\u001b[0m     \u001b[38;5;28;01mraise\u001b[39;00m MultipleResults(\n\u001b[1;32m    419\u001b[0m         \u001b[38;5;124m\"\u001b[39m\u001b[38;5;124mFound \u001b[39m\u001b[38;5;132;01m{}\u001b[39;00m\u001b[38;5;124m results for the given search\u001b[39m\u001b[38;5;124m\"\u001b[39m\u001b[38;5;241m.\u001b[39mformat(\u001b[38;5;28mlen\u001b[39m(candidates))\n\u001b[1;32m    420\u001b[0m     )\n\u001b[1;32m    421\u001b[0m \u001b[38;5;28;01melif\u001b[39;00m \u001b[38;5;129;01mnot\u001b[39;00m candidates:\n\u001b[1;32m    422\u001b[0m     \u001b[38;5;28;01mraise\u001b[39;00m UnknownObject\n",
      "\u001b[0;31mMultipleResults\u001b[0m: Found 25947 results for the given search"
     ]
    }
   ],
   "source": [
    "OD_dict = {bd.get_activity(ef[0])['name']:ef[1] for ef in cml_ClimateChange_method.load()}"
   ]
  },
  {
   "cell_type": "code",
   "execution_count": 41,
   "id": "98ec9bc8-8f8c-48da-a60b-3196690d5e28",
   "metadata": {},
   "outputs": [
    {
     "ename": "OperationalError",
     "evalue": "row value misused",
     "output_type": "error",
     "traceback": [
      "\u001b[0;31m---------------------------------------------------------------------------\u001b[0m",
      "\u001b[0;31mOperationalError\u001b[0m                          Traceback (most recent call last)",
      "File \u001b[0;32m/opt/anaconda3/envs/bw25/lib/python3.11/site-packages/peewee.py:3304\u001b[0m, in \u001b[0;36mDatabase.execute_sql\u001b[0;34m(self, sql, params, commit)\u001b[0m\n\u001b[1;32m   3303\u001b[0m     cursor \u001b[38;5;241m=\u001b[39m \u001b[38;5;28mself\u001b[39m\u001b[38;5;241m.\u001b[39mcursor()\n\u001b[0;32m-> 3304\u001b[0m     cursor\u001b[38;5;241m.\u001b[39mexecute(sql, params \u001b[38;5;129;01mor\u001b[39;00m ())\n\u001b[1;32m   3305\u001b[0m \u001b[38;5;28;01mreturn\u001b[39;00m cursor\n",
      "\u001b[0;31mOperationalError\u001b[0m: row value misused",
      "\nDuring handling of the above exception, another exception occurred:\n",
      "\u001b[0;31mOperationalError\u001b[0m                          Traceback (most recent call last)",
      "Cell \u001b[0;32mIn[41], line 1\u001b[0m\n\u001b[0;32m----> 1\u001b[0m OD_dict \u001b[38;5;241m=\u001b[39m \u001b[43m{\u001b[49m\u001b[43mmy_bio\u001b[49m\u001b[38;5;241;43m.\u001b[39;49m\u001b[43mget\u001b[49m\u001b[43m(\u001b[49m\u001b[43mef\u001b[49m\u001b[43m[\u001b[49m\u001b[38;5;241;43m0\u001b[39;49m\u001b[43m]\u001b[49m\u001b[43m)\u001b[49m\u001b[43m[\u001b[49m\u001b[38;5;124;43m'\u001b[39;49m\u001b[38;5;124;43mname\u001b[39;49m\u001b[38;5;124;43m'\u001b[39;49m\u001b[43m]\u001b[49m\u001b[43m:\u001b[49m\u001b[43mef\u001b[49m\u001b[43m[\u001b[49m\u001b[38;5;241;43m1\u001b[39;49m\u001b[43m]\u001b[49m\u001b[43m \u001b[49m\u001b[38;5;28;43;01mfor\u001b[39;49;00m\u001b[43m \u001b[49m\u001b[43mef\u001b[49m\u001b[43m \u001b[49m\u001b[38;5;129;43;01min\u001b[39;49;00m\u001b[43m \u001b[49m\u001b[43mcml_ClimateChange_method\u001b[49m\u001b[38;5;241;43m.\u001b[39;49m\u001b[43mload\u001b[49m\u001b[43m(\u001b[49m\u001b[43m)\u001b[49m\u001b[43m}\u001b[49m\n",
      "Cell \u001b[0;32mIn[41], line 1\u001b[0m, in \u001b[0;36m<dictcomp>\u001b[0;34m(.0)\u001b[0m\n\u001b[0;32m----> 1\u001b[0m OD_dict \u001b[38;5;241m=\u001b[39m {\u001b[43mmy_bio\u001b[49m\u001b[38;5;241;43m.\u001b[39;49m\u001b[43mget\u001b[49m\u001b[43m(\u001b[49m\u001b[43mef\u001b[49m\u001b[43m[\u001b[49m\u001b[38;5;241;43m0\u001b[39;49m\u001b[43m]\u001b[49m\u001b[43m)\u001b[49m[\u001b[38;5;124m'\u001b[39m\u001b[38;5;124mname\u001b[39m\u001b[38;5;124m'\u001b[39m]:ef[\u001b[38;5;241m1\u001b[39m] \u001b[38;5;28;01mfor\u001b[39;00m ef \u001b[38;5;129;01min\u001b[39;00m cml_ClimateChange_method\u001b[38;5;241m.\u001b[39mload()}\n",
      "File \u001b[0;32m/opt/anaconda3/envs/bw25/lib/python3.11/site-packages/bw2data/backends/base.py:404\u001b[0m, in \u001b[0;36mSQLiteBackend.get\u001b[0;34m(self, code, **kwargs)\u001b[0m\n\u001b[1;32m    402\u001b[0m \u001b[38;5;28;01mif\u001b[39;00m code \u001b[38;5;129;01mis\u001b[39;00m \u001b[38;5;129;01mnot\u001b[39;00m \u001b[38;5;28;01mNone\u001b[39;00m:\n\u001b[1;32m    403\u001b[0m     kwargs[\u001b[38;5;124m\"\u001b[39m\u001b[38;5;124mcode\u001b[39m\u001b[38;5;124m\"\u001b[39m] \u001b[38;5;241m=\u001b[39m code\n\u001b[0;32m--> 404\u001b[0m \u001b[38;5;28;01mreturn\u001b[39;00m \u001b[43mget_node\u001b[49m\u001b[43m(\u001b[49m\u001b[38;5;241;43m*\u001b[39;49m\u001b[38;5;241;43m*\u001b[39;49m\u001b[43mkwargs\u001b[49m\u001b[43m)\u001b[49m\n",
      "File \u001b[0;32m/opt/anaconda3/envs/bw25/lib/python3.11/site-packages/bw2data/utils.py:400\u001b[0m, in \u001b[0;36mget_node\u001b[0;34m(**kwargs)\u001b[0m\n\u001b[1;32m    397\u001b[0m     \u001b[38;5;28;01mexcept\u001b[39;00m \u001b[38;5;167;01mKeyError\u001b[39;00m:\n\u001b[1;32m    398\u001b[0m         \u001b[38;5;28;01mcontinue\u001b[39;00m\n\u001b[0;32m--> 400\u001b[0m candidates \u001b[38;5;241m=\u001b[39m \u001b[43m[\u001b[49m\u001b[43mnode_class\u001b[49m\u001b[43m(\u001b[49m\u001b[43mobj\u001b[49m\u001b[38;5;241;43m.\u001b[39;49m\u001b[43mdatabase\u001b[49m\u001b[43m)\u001b[49m\u001b[43m(\u001b[49m\u001b[43mobj\u001b[49m\u001b[43m)\u001b[49m\u001b[43m \u001b[49m\u001b[38;5;28;43;01mfor\u001b[39;49;00m\u001b[43m \u001b[49m\u001b[43mobj\u001b[49m\u001b[43m \u001b[49m\u001b[38;5;129;43;01min\u001b[39;49;00m\u001b[43m \u001b[49m\u001b[43mqs\u001b[49m\u001b[43m]\u001b[49m\n\u001b[1;32m    402\u001b[0m extended_search \u001b[38;5;241m=\u001b[39m \u001b[38;5;28many\u001b[39m(key \u001b[38;5;129;01mnot\u001b[39;00m \u001b[38;5;129;01min\u001b[39;00m mapping \u001b[38;5;28;01mfor\u001b[39;00m key \u001b[38;5;129;01min\u001b[39;00m kwargs)\n\u001b[1;32m    403\u001b[0m \u001b[38;5;28;01mif\u001b[39;00m extended_search:\n",
      "File \u001b[0;32m/opt/anaconda3/envs/bw25/lib/python3.11/site-packages/peewee.py:7256\u001b[0m, in \u001b[0;36mBaseModelSelect.__iter__\u001b[0;34m(self)\u001b[0m\n\u001b[1;32m   7254\u001b[0m \u001b[38;5;28;01mdef\u001b[39;00m \u001b[38;5;21m__iter__\u001b[39m(\u001b[38;5;28mself\u001b[39m):\n\u001b[1;32m   7255\u001b[0m     \u001b[38;5;28;01mif\u001b[39;00m \u001b[38;5;129;01mnot\u001b[39;00m \u001b[38;5;28mself\u001b[39m\u001b[38;5;241m.\u001b[39m_cursor_wrapper:\n\u001b[0;32m-> 7256\u001b[0m         \u001b[38;5;28;43mself\u001b[39;49m\u001b[38;5;241;43m.\u001b[39;49m\u001b[43mexecute\u001b[49m\u001b[43m(\u001b[49m\u001b[43m)\u001b[49m\n\u001b[1;32m   7257\u001b[0m     \u001b[38;5;28;01mreturn\u001b[39;00m \u001b[38;5;28miter\u001b[39m(\u001b[38;5;28mself\u001b[39m\u001b[38;5;241m.\u001b[39m_cursor_wrapper)\n",
      "File \u001b[0;32m/opt/anaconda3/envs/bw25/lib/python3.11/site-packages/peewee.py:2018\u001b[0m, in \u001b[0;36mdatabase_required.<locals>.inner\u001b[0;34m(self, database, *args, **kwargs)\u001b[0m\n\u001b[1;32m   2015\u001b[0m \u001b[38;5;28;01mif\u001b[39;00m \u001b[38;5;129;01mnot\u001b[39;00m database:\n\u001b[1;32m   2016\u001b[0m     \u001b[38;5;28;01mraise\u001b[39;00m InterfaceError(\u001b[38;5;124m'\u001b[39m\u001b[38;5;124mQuery must be bound to a database in order \u001b[39m\u001b[38;5;124m'\u001b[39m\n\u001b[1;32m   2017\u001b[0m                          \u001b[38;5;124m'\u001b[39m\u001b[38;5;124mto call \u001b[39m\u001b[38;5;124m\"\u001b[39m\u001b[38;5;132;01m%s\u001b[39;00m\u001b[38;5;124m\"\u001b[39m\u001b[38;5;124m.\u001b[39m\u001b[38;5;124m'\u001b[39m \u001b[38;5;241m%\u001b[39m method\u001b[38;5;241m.\u001b[39m\u001b[38;5;18m__name__\u001b[39m)\n\u001b[0;32m-> 2018\u001b[0m \u001b[38;5;28;01mreturn\u001b[39;00m \u001b[43mmethod\u001b[49m\u001b[43m(\u001b[49m\u001b[38;5;28;43mself\u001b[39;49m\u001b[43m,\u001b[49m\u001b[43m \u001b[49m\u001b[43mdatabase\u001b[49m\u001b[43m,\u001b[49m\u001b[43m \u001b[49m\u001b[38;5;241;43m*\u001b[39;49m\u001b[43margs\u001b[49m\u001b[43m,\u001b[49m\u001b[43m \u001b[49m\u001b[38;5;241;43m*\u001b[39;49m\u001b[38;5;241;43m*\u001b[39;49m\u001b[43mkwargs\u001b[49m\u001b[43m)\u001b[49m\n",
      "File \u001b[0;32m/opt/anaconda3/envs/bw25/lib/python3.11/site-packages/peewee.py:2089\u001b[0m, in \u001b[0;36mBaseQuery.execute\u001b[0;34m(self, database)\u001b[0m\n\u001b[1;32m   2087\u001b[0m \u001b[38;5;129m@database_required\u001b[39m\n\u001b[1;32m   2088\u001b[0m \u001b[38;5;28;01mdef\u001b[39;00m \u001b[38;5;21mexecute\u001b[39m(\u001b[38;5;28mself\u001b[39m, database):\n\u001b[0;32m-> 2089\u001b[0m     \u001b[38;5;28;01mreturn\u001b[39;00m \u001b[38;5;28;43mself\u001b[39;49m\u001b[38;5;241;43m.\u001b[39;49m\u001b[43m_execute\u001b[49m\u001b[43m(\u001b[49m\u001b[43mdatabase\u001b[49m\u001b[43m)\u001b[49m\n",
      "File \u001b[0;32m/opt/anaconda3/envs/bw25/lib/python3.11/site-packages/peewee.py:2262\u001b[0m, in \u001b[0;36mSelectBase._execute\u001b[0;34m(self, database)\u001b[0m\n\u001b[1;32m   2260\u001b[0m \u001b[38;5;28;01mdef\u001b[39;00m \u001b[38;5;21m_execute\u001b[39m(\u001b[38;5;28mself\u001b[39m, database):\n\u001b[1;32m   2261\u001b[0m     \u001b[38;5;28;01mif\u001b[39;00m \u001b[38;5;28mself\u001b[39m\u001b[38;5;241m.\u001b[39m_cursor_wrapper \u001b[38;5;129;01mis\u001b[39;00m \u001b[38;5;28;01mNone\u001b[39;00m:\n\u001b[0;32m-> 2262\u001b[0m         cursor \u001b[38;5;241m=\u001b[39m \u001b[43mdatabase\u001b[49m\u001b[38;5;241;43m.\u001b[39;49m\u001b[43mexecute\u001b[49m\u001b[43m(\u001b[49m\u001b[38;5;28;43mself\u001b[39;49m\u001b[43m)\u001b[49m\n\u001b[1;32m   2263\u001b[0m         \u001b[38;5;28mself\u001b[39m\u001b[38;5;241m.\u001b[39m_cursor_wrapper \u001b[38;5;241m=\u001b[39m \u001b[38;5;28mself\u001b[39m\u001b[38;5;241m.\u001b[39m_get_cursor_wrapper(cursor)\n\u001b[1;32m   2264\u001b[0m     \u001b[38;5;28;01mreturn\u001b[39;00m \u001b[38;5;28mself\u001b[39m\u001b[38;5;241m.\u001b[39m_cursor_wrapper\n",
      "File \u001b[0;32m/opt/anaconda3/envs/bw25/lib/python3.11/site-packages/peewee.py:3312\u001b[0m, in \u001b[0;36mDatabase.execute\u001b[0;34m(self, query, commit, **context_options)\u001b[0m\n\u001b[1;32m   3310\u001b[0m ctx \u001b[38;5;241m=\u001b[39m \u001b[38;5;28mself\u001b[39m\u001b[38;5;241m.\u001b[39mget_sql_context(\u001b[38;5;241m*\u001b[39m\u001b[38;5;241m*\u001b[39mcontext_options)\n\u001b[1;32m   3311\u001b[0m sql, params \u001b[38;5;241m=\u001b[39m ctx\u001b[38;5;241m.\u001b[39msql(query)\u001b[38;5;241m.\u001b[39mquery()\n\u001b[0;32m-> 3312\u001b[0m \u001b[38;5;28;01mreturn\u001b[39;00m \u001b[38;5;28;43mself\u001b[39;49m\u001b[38;5;241;43m.\u001b[39;49m\u001b[43mexecute_sql\u001b[49m\u001b[43m(\u001b[49m\u001b[43msql\u001b[49m\u001b[43m,\u001b[49m\u001b[43m \u001b[49m\u001b[43mparams\u001b[49m\u001b[43m)\u001b[49m\n",
      "File \u001b[0;32m/opt/anaconda3/envs/bw25/lib/python3.11/site-packages/peewee.py:3302\u001b[0m, in \u001b[0;36mDatabase.execute_sql\u001b[0;34m(self, sql, params, commit)\u001b[0m\n\u001b[1;32m   3300\u001b[0m     __deprecated__(\u001b[38;5;124m'\u001b[39m\u001b[38;5;124m\"\u001b[39m\u001b[38;5;124mcommit\u001b[39m\u001b[38;5;124m\"\u001b[39m\u001b[38;5;124m has been deprecated and is a no-op.\u001b[39m\u001b[38;5;124m'\u001b[39m)\n\u001b[1;32m   3301\u001b[0m logger\u001b[38;5;241m.\u001b[39mdebug((sql, params))\n\u001b[0;32m-> 3302\u001b[0m \u001b[43m\u001b[49m\u001b[38;5;28;43;01mwith\u001b[39;49;00m\u001b[43m \u001b[49m\u001b[43m__exception_wrapper__\u001b[49m\u001b[43m:\u001b[49m\n\u001b[1;32m   3303\u001b[0m \u001b[43m    \u001b[49m\u001b[43mcursor\u001b[49m\u001b[43m \u001b[49m\u001b[38;5;241;43m=\u001b[39;49m\u001b[43m \u001b[49m\u001b[38;5;28;43mself\u001b[39;49m\u001b[38;5;241;43m.\u001b[39;49m\u001b[43mcursor\u001b[49m\u001b[43m(\u001b[49m\u001b[43m)\u001b[49m\n\u001b[1;32m   3304\u001b[0m \u001b[43m    \u001b[49m\u001b[43mcursor\u001b[49m\u001b[38;5;241;43m.\u001b[39;49m\u001b[43mexecute\u001b[49m\u001b[43m(\u001b[49m\u001b[43msql\u001b[49m\u001b[43m,\u001b[49m\u001b[43m \u001b[49m\u001b[43mparams\u001b[49m\u001b[43m \u001b[49m\u001b[38;5;129;43;01mor\u001b[39;49;00m\u001b[43m \u001b[49m\u001b[43m(\u001b[49m\u001b[43m)\u001b[49m\u001b[43m)\u001b[49m\n",
      "File \u001b[0;32m/opt/anaconda3/envs/bw25/lib/python3.11/site-packages/peewee.py:3070\u001b[0m, in \u001b[0;36mExceptionWrapper.__exit__\u001b[0;34m(self, exc_type, exc_value, traceback)\u001b[0m\n\u001b[1;32m   3068\u001b[0m new_type \u001b[38;5;241m=\u001b[39m \u001b[38;5;28mself\u001b[39m\u001b[38;5;241m.\u001b[39mexceptions[exc_type\u001b[38;5;241m.\u001b[39m\u001b[38;5;18m__name__\u001b[39m]\n\u001b[1;32m   3069\u001b[0m exc_args \u001b[38;5;241m=\u001b[39m exc_value\u001b[38;5;241m.\u001b[39margs\n\u001b[0;32m-> 3070\u001b[0m \u001b[43mreraise\u001b[49m\u001b[43m(\u001b[49m\u001b[43mnew_type\u001b[49m\u001b[43m,\u001b[49m\u001b[43m \u001b[49m\u001b[43mnew_type\u001b[49m\u001b[43m(\u001b[49m\u001b[43mexc_value\u001b[49m\u001b[43m,\u001b[49m\u001b[43m \u001b[49m\u001b[38;5;241;43m*\u001b[39;49m\u001b[43mexc_args\u001b[49m\u001b[43m)\u001b[49m\u001b[43m,\u001b[49m\u001b[43m \u001b[49m\u001b[43mtraceback\u001b[49m\u001b[43m)\u001b[49m\n",
      "File \u001b[0;32m/opt/anaconda3/envs/bw25/lib/python3.11/site-packages/peewee.py:196\u001b[0m, in \u001b[0;36mreraise\u001b[0;34m(tp, value, tb)\u001b[0m\n\u001b[1;32m    194\u001b[0m \u001b[38;5;28;01mdef\u001b[39;00m \u001b[38;5;21mreraise\u001b[39m(tp, value, tb\u001b[38;5;241m=\u001b[39m\u001b[38;5;28;01mNone\u001b[39;00m):\n\u001b[1;32m    195\u001b[0m     \u001b[38;5;28;01mif\u001b[39;00m value\u001b[38;5;241m.\u001b[39m__traceback__ \u001b[38;5;129;01mis\u001b[39;00m \u001b[38;5;129;01mnot\u001b[39;00m tb:\n\u001b[0;32m--> 196\u001b[0m         \u001b[38;5;28;01mraise\u001b[39;00m value\u001b[38;5;241m.\u001b[39mwith_traceback(tb)\n\u001b[1;32m    197\u001b[0m     \u001b[38;5;28;01mraise\u001b[39;00m value\n",
      "File \u001b[0;32m/opt/anaconda3/envs/bw25/lib/python3.11/site-packages/peewee.py:3304\u001b[0m, in \u001b[0;36mDatabase.execute_sql\u001b[0;34m(self, sql, params, commit)\u001b[0m\n\u001b[1;32m   3302\u001b[0m \u001b[38;5;28;01mwith\u001b[39;00m __exception_wrapper__:\n\u001b[1;32m   3303\u001b[0m     cursor \u001b[38;5;241m=\u001b[39m \u001b[38;5;28mself\u001b[39m\u001b[38;5;241m.\u001b[39mcursor()\n\u001b[0;32m-> 3304\u001b[0m     cursor\u001b[38;5;241m.\u001b[39mexecute(sql, params \u001b[38;5;129;01mor\u001b[39;00m ())\n\u001b[1;32m   3305\u001b[0m \u001b[38;5;28;01mreturn\u001b[39;00m cursor\n",
      "\u001b[0;31mOperationalError\u001b[0m: row value misused"
     ]
    }
   ],
   "source": [
    "OD_dict = {my_bio.get(ef[0])['name']:ef[1] for ef in cml_ClimateChange_method.load()}"
   ]
  },
  {
   "cell_type": "markdown",
   "id": "17f96e23-856e-4efa-be75-3053fcd93eed",
   "metadata": {},
   "source": [
    "### Ecoinvent\n",
    "\n",
    "#### Importing Ecoinvent\n",
    "\n",
    "You need to get the ecoinvent files first. To do so, follow the following steps:\n",
    "- Go to STI course's Canvas page -> Module <span style='background:yellow'> \"XXXXXX\" </span>\n",
    "- Download the file ecoinvent <span style='background:yellow'> XXXXXX </span>  in a folder of yours. Make sure you remember the full path to this directory.\n",
    "- The file you have downloaded is a compressed archive of many files (like with winzip or winrar). Extract the files from the .7z archive, e.g. by double clicking it. If it does not work, install a software that can do that. \n",
    "Now you an run the cells below. Make sure you change the path line and replace it with the one where you have extracted the files. For example, I have extracted the files in a folder called \"datasets\". The path to this folder is: */Users/joaosantos/Library/CloudStorage/OneDrive-UniversityofTwente/UT_Academic Life/My Software Purchase/ecoinvent v3.9.1/datasets*  You will see this same line in the script and you need to change it with your directory.\n",
    "\n",
    "<span style='background:yellow'> https://medium.com/game-of-data/12-things-to-know-about-jupyter-notebook-markdown-3f6cef811707 </span>\n"
   ]
  },
  {
   "cell_type": "markdown",
   "id": "2013f5d1-6f59-438b-b343-66a0b40359ba",
   "metadata": {},
   "source": [
    "Let’s see the projects you have created:"
   ]
  },
  {
   "cell_type": "code",
   "execution_count": 42,
   "id": "71751ada-5b20-4ae0-b958-74df01f6bffa",
   "metadata": {},
   "outputs": [
    {
     "data": {
      "text/plain": [
       "Brightway2 projects manager with 5 objects:\n",
       "\t2024_STI_BW25_Lecture\n",
       "\tTest_location_specifc_folder\n",
       "\tbw25_20240406\n",
       "\tbw25_test\n",
       "\tdefault\n",
       "Use `projects.report()` to get a report on all projects."
      ]
     },
     "execution_count": 42,
     "metadata": {},
     "output_type": "execute_result"
    }
   ],
   "source": [
    "bd.projects #Checked the projects you created"
   ]
  },
  {
   "cell_type": "code",
   "execution_count": 43,
   "id": "3541139c-8583-46b3-8b23-7e32ec08ff77",
   "metadata": {},
   "outputs": [],
   "source": [
    "# Activate the project we are working on\n",
    "bd.projects.set_current('2024_STI_BW25_Lecture') "
   ]
  },
  {
   "cell_type": "markdown",
   "id": "5862d643-6ff1-44cf-9ace-722ba7009ffa",
   "metadata": {},
   "source": [
    " Let’s see what databases we have:"
   ]
  },
  {
   "cell_type": "code",
   "execution_count": 44,
   "id": "194db14f-c537-4da8-a1e0-a50ef131b96d",
   "metadata": {},
   "outputs": [
    {
     "data": {
      "text/plain": [
       "Databases dictionary with 2 object(s):\n",
       "\tbiosphere3\n",
       "\tecoinvent-391-cutoff"
      ]
     },
     "execution_count": 44,
     "metadata": {},
     "output_type": "execute_result"
    }
   ],
   "source": [
    "# If this is your first time using this project, this should be an empty dictionary! \n",
    "bd.databases"
   ]
  },
  {
   "cell_type": "markdown",
   "id": "edd88a05-abbf-4d0f-872b-b9b0eac51001",
   "metadata": {},
   "source": [
    "Let's import the ecoinvent database"
   ]
  },
  {
   "cell_type": "code",
   "execution_count": 45,
   "id": "87ce4ede-2993-41c5-9483-540eef14bc22",
   "metadata": {},
   "outputs": [
    {
     "name": "stdout",
     "output_type": "stream",
     "text": [
      "Database has already been imported\n"
     ]
    }
   ],
   "source": [
    "#directory where the ecoinvent is saved\n",
    "ei_path = \"ecoinvent 3.9.1_cutoff_ecoSpold02/datasets\"\n",
    "\n",
    "# Give the database a name \n",
    "# In this course we will use ecoinvent v3.9.1 cutoff.\n",
    "ei_name = \"ecoinvent-391-cutoff\"\n",
    "\n",
    "if ei_name in bd.databases:\n",
    "    print(\"Database has already been imported\")\n",
    "else:\n",
    "    # Go ahead and import:\n",
    "    ei_importer = bi.SingleOutputEcospold2Importer(ei_path, ei_name)\n",
    "    # Apply stragegies \n",
    "    ei_importer.apply_strategies()\n",
    "    # We can get some statistics\n",
    "    ei_importer.statistics()\n",
    "    # Now we will write the database into our project. \n",
    "    ei_importer.write_database()\n",
    "    "
   ]
  },
  {
   "cell_type": "markdown",
   "id": "f77a2d4a-e041-485e-955a-9bcdabf2df2f",
   "metadata": {},
   "source": [
    "Let's see the databases we have in our working project:"
   ]
  },
  {
   "cell_type": "code",
   "execution_count": 46,
   "id": "3a43ba73-9a99-47bb-997e-3e2b0d770317",
   "metadata": {},
   "outputs": [
    {
     "data": {
      "text/plain": [
       "Databases dictionary with 2 object(s):\n",
       "\tbiosphere3\n",
       "\tecoinvent-391-cutoff"
      ]
     },
     "execution_count": 46,
     "metadata": {},
     "output_type": "execute_result"
    }
   ],
   "source": [
    "bd.databases"
   ]
  },
  {
   "cell_type": "markdown",
   "id": "7a488106-f205-4cdc-a171-2de462f5aba7",
   "metadata": {},
   "source": [
    "The db we have just imported in now in our project. Let's assign it to a variable:"
   ]
  },
  {
   "cell_type": "code",
   "execution_count": 47,
   "id": "59437872-ce72-401c-b4d4-ce2256d8393f",
   "metadata": {},
   "outputs": [],
   "source": [
    "eidb = bd.Database(ei_name)"
   ]
  },
  {
   "cell_type": "code",
   "execution_count": 48,
   "id": "85ee6733-3022-4e66-9a96-078386f695fb",
   "metadata": {},
   "outputs": [
    {
     "name": "stdout",
     "output_type": "stream",
     "text": [
      "The imported ecoinvent database is of type <class 'bw2data.backends.base.SQLiteBackend'> and has a length of 21238.\n"
     ]
    }
   ],
   "source": [
    "print(\"The imported ecoinvent database is of type {} and has a length of {}.\".format(type(eidb), len(eidb)))"
   ]
  },
  {
   "cell_type": "code",
   "execution_count": null,
   "id": "e326c376-214d-4d89-b9be-3985c476de68",
   "metadata": {},
   "outputs": [],
   "source": []
  },
  {
   "cell_type": "markdown",
   "id": "1b49e8c9-bc7d-4436-b1b1-02baa61fbb89",
   "metadata": {},
   "source": [
    "#### Navigating ecoinvent"
   ]
  },
  {
   "cell_type": "markdown",
   "id": "beaca0f5-22ba-4199-b375-9f5ac79382b2",
   "metadata": {},
   "source": [
    "##### LCI activities"
   ]
  },
  {
   "cell_type": "markdown",
   "id": "71bb8522-256f-4b50-88b4-68e32f318269",
   "metadata": {},
   "source": [
    "In the context of LCI databases, activities are the nodes \"within the technosphere\". They are therefore the columns in the technosphere matrix A.\n",
    "\n",
    "There are different ways to get access to an activity. Similarly to the biosphere database, we can use the random() method  to explore a random activity in the ecoinvent database."
   ]
  },
  {
   "cell_type": "code",
   "execution_count": 49,
   "id": "9bc5e7a6-7b1f-442f-83ec-063d5ecb3304",
   "metadata": {},
   "outputs": [
    {
     "name": "stdout",
     "output_type": "stream",
     "text": [
      "'heat and power co-generation, wood chips, 6667 kW' (kilowatt hour, BR-Southern grid, None)\n"
     ]
    }
   ],
   "source": [
    "random_act = eidb.random()\n",
    "print(random_act)"
   ]
  },
  {
   "cell_type": "code",
   "execution_count": 50,
   "id": "72850782-714b-4995-8313-f9f614a1d60d",
   "metadata": {},
   "outputs": [
    {
     "data": {
      "text/plain": [
       "bw2data.backends.proxies.Activity"
      ]
     },
     "execution_count": 50,
     "metadata": {},
     "output_type": "execute_result"
    }
   ],
   "source": [
    "type(random_act)"
   ]
  },
  {
   "cell_type": "markdown",
   "id": "bd6e5738-6bcf-46ff-9100-e7c2c77d75e6",
   "metadata": {},
   "source": [
    "To know what is stored in an activity object, let's convert our random act in a dictionary:"
   ]
  },
  {
   "cell_type": "code",
   "execution_count": 51,
   "id": "d772a006-70cc-4861-905c-f2b6a8cf0859",
   "metadata": {},
   "outputs": [
    {
     "name": "stdout",
     "output_type": "stream",
     "text": [
      "{'activity': 'aae65b44-fcc0-5f60-bf04-7ba1f93ef06d',\n",
      " 'activity type': 'ordinary transforming activity',\n",
      " 'authors': {'data entry': {'email': 'no@email.com', 'name': '[Current User]'},\n",
      "             'data generator': {'email': 'no@email.com',\n",
      "                                'name': '[Current User]'}},\n",
      " 'classifications': [('ISIC rev.4 ecoinvent',\n",
      "                      '3530:Steam and air conditioning supply'),\n",
      "                     ('CPC', '17100: Electrical energy')],\n",
      " 'code': '7d6c3f5016a7ee860718eb7adede39a0',\n",
      " 'comment': 'This dataset represents the production of heat and electricity '\n",
      "            'with wood chips in a co-generation plant with a capacity of 6667 '\n",
      "            'kW (referring to fuel input) in Switzerland and was used as '\n",
      "            'approximation for this dataset valid for in Brazil Southern grid '\n",
      "            '(uncertainties adjusted accordingly). The technology corresponds '\n",
      "            'to the average installed in 2014 in Switzerland, which is '\n",
      "            'equipped with an electrostatic precipitator for particulate '\n",
      "            'matter (PM) emission reduction. It is assumed that the plant is '\n",
      "            'operated mainly producing heat, i.e. following the heat demand. '\n",
      "            'Heat is therefore considered as the main product and the '\n",
      "            'reference product, whereas electricity is a by-product. '\n",
      "            'Electricity is produced with an organic rankine cycle (ORC) steam '\n",
      "            'generator. \\n'\n",
      "            'Wood chips are burned in a boiler at a temperature of 800-1300 °C '\n",
      "            'under excess air conditions and turned into carbon dioxide and '\n",
      "            'water. Energy is set free in form of heat. Burning takes place '\n",
      "            'with the following steps:\\n'\n",
      "            '1. Drying\\n'\n",
      "            '2. degradation of the wood into carbon and gases\\n'\n",
      "            '3. degradation of the carbon into gases\\n'\n",
      "            '4. oxidation of the gases\\n'\n",
      "            'These phases overlap. The produced heat can be used directly or '\n",
      "            'for steam production in order to generate electricity with a '\n",
      "            'turbine.  \\n'\n",
      "            'Emissions vary with quality of the combustion (temperature, '\n",
      "            'mixing of the combustion gases and the added fresh air, retention '\n",
      "            'time of gases in the combustor), filter technologies and with the '\n",
      "            'efficiency of the plant. The only inevitable emissions are CO2, '\n",
      "            'NOx and ash particles, whereas the latter can be minimized with '\n",
      "            'filters. Emission data in this dataset are taken from '\n",
      "            'measurements and literature as well as from communication with '\n",
      "            'experts. \\n'\n",
      "            'CO2 emissions were calculated out of the carbon content of the '\n",
      "            'wood used as combustible. Carbon emitted in carbon monoxide was '\n",
      "            'subtracted from the result. \\n'\n",
      "            'Key emissions factors for CO, NOx, CH4, NMVOC and particles were '\n",
      "            'updated according to latest data. \\n'\n",
      "            'All other emission factors (per MJ fuel input) correspond to the '\n",
      "            '1000 kW boiler fuelled with wood chips from forest. Other '\n",
      "            'exchanges correspond to the LCI data for the 6400 kW '\n",
      "            'co-generation unit in ecoinvent v2.2.\\n'\n",
      "            'Good J., Nussbaumer T., Bühler R., Jenni A. (1996) '\n",
      "            'Erfolgskontrolle des SNCRVerfahren\\n'\n",
      "            'zur Entstickung von Holzfeuerungen. Schlussbericht des '\n",
      "            'BEWProjektes\\n'\n",
      "            '53894. Zürich, Schweiz.\\n'\n",
      "            'Technology:  Electric efficiency: 0.15; Thermal efficiency: '\n",
      "            '0.45; \\n'\n",
      "            'Total efficiency: 0.6',\n",
      " 'database': 'ecoinvent-391-cutoff',\n",
      " 'filename': 'aae65b44-fcc0-5f60-bf04-7ba1f93ef06d_66c93e71-f32b-4591-901c-55395db5c132.spold',\n",
      " 'flow': '66c93e71-f32b-4591-901c-55395db5c132',\n",
      " 'id': 24106,\n",
      " 'location': 'BR-Southern grid',\n",
      " 'name': 'heat and power co-generation, wood chips, 6667 kW',\n",
      " 'parameters': [{'amount': 0.15,\n",
      "                 'comment': 'Electric efficiency of the cogeration system, '\n",
      "                            'corresponding to annual operation including '\n",
      "                            'warm-up and cool-down\\n'\n",
      "                            'nan',\n",
      "                 'description': 'electrical efficiency',\n",
      "                 'id': 'a5489aea-eb04-4c1c-8cc5-66acc875df44',\n",
      "                 'loc': 0.15,\n",
      "                 'name': 'efficiency_electrical',\n",
      "                 'uncertainty type': 0,\n",
      "                 'unit': 'dimensionless'},\n",
      "                {'amount': 0.45,\n",
      "                 'comment': 'Thermal efficiency of the cogeration system, '\n",
      "                            'corresponding to annual operation including '\n",
      "                            'warm-up and cool-down\\n'\n",
      "                            'nan',\n",
      "                 'description': 'thermal efficiency',\n",
      "                 'id': 'c38db7d6-3656-4bef-a12f-7cfae25cbbe2',\n",
      "                 'loc': 0.45,\n",
      "                 'name': 'efficiency_thermal',\n",
      "                 'uncertainty type': 0,\n",
      "                 'unit': 'dimensionless'}],\n",
      " 'production amount': 1.0,\n",
      " 'reference product': 'electricity, high voltage',\n",
      " 'synonyms': [],\n",
      " 'type': 'process',\n",
      " 'unit': 'kilowatt hour'}\n"
     ]
    }
   ],
   "source": [
    "from pprint import pprint\n",
    "pprint(random_act.as_dict())"
   ]
  },
  {
   "cell_type": "markdown",
   "id": "c9966504-3bc0-43cc-9470-3d267ba847ca",
   "metadata": {},
   "source": [
    "Another way to get the same info consists of using the method _data. "
   ]
  },
  {
   "cell_type": "code",
   "execution_count": 52,
   "id": "885be249-e332-4f82-afc1-49ea7697bb7e",
   "metadata": {},
   "outputs": [
    {
     "data": {
      "text/plain": [
       "{'comment': 'This dataset represents the production of heat and electricity with wood chips in a co-generation plant with a capacity of 6667 kW (referring to fuel input) in Switzerland and was used as approximation for this dataset valid for in Brazil Southern grid (uncertainties adjusted accordingly). The technology corresponds to the average installed in 2014 in Switzerland, which is equipped with an electrostatic precipitator for particulate matter (PM) emission reduction. It is assumed that the plant is operated mainly producing heat, i.e. following the heat demand. Heat is therefore considered as the main product and the reference product, whereas electricity is a by-product. Electricity is produced with an organic rankine cycle (ORC) steam generator. \\nWood chips are burned in a boiler at a temperature of 800-1300 °C under excess air conditions and turned into carbon dioxide and water. Energy is set free in form of heat. Burning takes place with the following steps:\\n1. Drying\\n2. degradation of the wood into carbon and gases\\n3. degradation of the carbon into gases\\n4. oxidation of the gases\\nThese phases overlap. The produced heat can be used directly or for steam production in order to generate electricity with a turbine.  \\nEmissions vary with quality of the combustion (temperature, mixing of the combustion gases and the added fresh air, retention time of gases in the combustor), filter technologies and with the efficiency of the plant. The only inevitable emissions are CO2, NOx and ash particles, whereas the latter can be minimized with filters. Emission data in this dataset are taken from measurements and literature as well as from communication with experts. \\nCO2 emissions were calculated out of the carbon content of the wood used as combustible. Carbon emitted in carbon monoxide was subtracted from the result. \\nKey emissions factors for CO, NOx, CH4, NMVOC and particles were updated according to latest data. \\nAll other emission factors (per MJ fuel input) correspond to the 1000 kW boiler fuelled with wood chips from forest. Other exchanges correspond to the LCI data for the 6400 kW co-generation unit in ecoinvent v2.2.\\nGood J., Nussbaumer T., Bühler R., Jenni A. (1996) Erfolgskontrolle des SNCRVerfahren\\nzur Entstickung von Holzfeuerungen. Schlussbericht des BEWProjektes\\n53894. Zürich, Schweiz.\\nTechnology:  Electric efficiency: 0.15; Thermal efficiency: 0.45; \\nTotal efficiency: 0.6',\n",
       " 'classifications': [('ISIC rev.4 ecoinvent',\n",
       "   '3530:Steam and air conditioning supply'),\n",
       "  ('CPC', '17100: Electrical energy')],\n",
       " 'activity type': 'ordinary transforming activity',\n",
       " 'activity': 'aae65b44-fcc0-5f60-bf04-7ba1f93ef06d',\n",
       " 'database': 'ecoinvent-391-cutoff',\n",
       " 'filename': 'aae65b44-fcc0-5f60-bf04-7ba1f93ef06d_66c93e71-f32b-4591-901c-55395db5c132.spold',\n",
       " 'location': 'BR-Southern grid',\n",
       " 'name': 'heat and power co-generation, wood chips, 6667 kW',\n",
       " 'synonyms': [],\n",
       " 'parameters': [{'description': 'electrical efficiency',\n",
       "   'id': 'a5489aea-eb04-4c1c-8cc5-66acc875df44',\n",
       "   'unit': 'dimensionless',\n",
       "   'comment': 'Electric efficiency of the cogeration system, corresponding to annual operation including warm-up and cool-down\\nnan',\n",
       "   'amount': 0.15,\n",
       "   'uncertainty type': 0,\n",
       "   'loc': 0.15,\n",
       "   'name': 'efficiency_electrical'},\n",
       "  {'description': 'thermal efficiency',\n",
       "   'id': 'c38db7d6-3656-4bef-a12f-7cfae25cbbe2',\n",
       "   'unit': 'dimensionless',\n",
       "   'comment': 'Thermal efficiency of the cogeration system, corresponding to annual operation including warm-up and cool-down\\nnan',\n",
       "   'amount': 0.45,\n",
       "   'uncertainty type': 0,\n",
       "   'loc': 0.45,\n",
       "   'name': 'efficiency_thermal'}],\n",
       " 'authors': {'data entry': {'name': '[Current User]', 'email': 'no@email.com'},\n",
       "  'data generator': {'name': '[Current User]', 'email': 'no@email.com'}},\n",
       " 'type': 'process',\n",
       " 'reference product': 'electricity, high voltage',\n",
       " 'flow': '66c93e71-f32b-4591-901c-55395db5c132',\n",
       " 'unit': 'kilowatt hour',\n",
       " 'production amount': 1.0,\n",
       " 'code': '7d6c3f5016a7ee860718eb7adede39a0',\n",
       " 'id': 24106}"
      ]
     },
     "execution_count": 52,
     "metadata": {},
     "output_type": "execute_result"
    }
   ],
   "source": [
    "random_act._data"
   ]
  },
  {
   "cell_type": "markdown",
   "id": "46281e39-e0b2-46de-ba97-173328625e86",
   "metadata": {},
   "source": [
    "We can get acess to the value of each key by using the method .get(). Let's take as an example the key 'reference product'. The corresponding value is retrieved by running the code below:"
   ]
  },
  {
   "cell_type": "code",
   "execution_count": 53,
   "id": "abfbe70c-e946-49c4-b86b-942af09392d5",
   "metadata": {},
   "outputs": [
    {
     "data": {
      "text/plain": [
       "'electricity, high voltage'"
      ]
     },
     "execution_count": 53,
     "metadata": {},
     "output_type": "execute_result"
    }
   ],
   "source": [
    "random_act.get('reference product')"
   ]
  },
  {
   "cell_type": "markdown",
   "id": "3db24c63-d874-4adb-a4d3-8cc4613be55c",
   "metadata": {},
   "source": [
    "Two alternative ways to obtain the same info are given below:"
   ]
  },
  {
   "cell_type": "code",
   "execution_count": 56,
   "id": "c6660e10-cb55-49fa-905b-9ed8331bc9e9",
   "metadata": {},
   "outputs": [
    {
     "data": {
      "text/plain": [
       "'electricity, high voltage'"
      ]
     },
     "execution_count": 56,
     "metadata": {},
     "output_type": "execute_result"
    }
   ],
   "source": [
    "random_act._data['reference product']"
   ]
  },
  {
   "cell_type": "code",
   "execution_count": 57,
   "id": "6884b30e-2d76-4ea6-8f68-48e39fabd452",
   "metadata": {},
   "outputs": [
    {
     "data": {
      "text/plain": [
       "'electricity, high voltage'"
      ]
     },
     "execution_count": 57,
     "metadata": {},
     "output_type": "execute_result"
    }
   ],
   "source": [
    "random_act['reference product']"
   ]
  },
  {
   "cell_type": "markdown",
   "id": "bd31df96-16c0-4708-909c-846d317f7fb8",
   "metadata": {},
   "source": [
    "We can also use the search method to search for specific activities. Let's search for three activities that commonly used in pavement LCA studies, namely the (1) production of limestone, (2) production of bitumen, and (2) transportation "
   ]
  },
  {
   "cell_type": "code",
   "execution_count": 58,
   "id": "3f602f78-3463-420f-8af6-4d5d481dd06f",
   "metadata": {},
   "outputs": [
    {
     "data": {
      "text/plain": [
       "['limestone quarry operation' (kilogram, IN, None),\n",
       " 'limestone quarry operation' (kilogram, CA-QC, None),\n",
       " 'market for limestone, unprocessed' (kilogram, CH, None),\n",
       " 'limestone quarry operation' (kilogram, RoW, None),\n",
       " 'market for limestone, unprocessed' (kilogram, IN, None),\n",
       " 'limestone quarry operation' (kilogram, CH, None),\n",
       " 'market for limestone residue' (kilogram, CH, None),\n",
       " 'limestone quarry construction' (unit, CH, None),\n",
       " 'recultivation, limestone mine' (square meter, CH, None),\n",
       " 'recultivation, limestone mine' (square meter, RoW, None),\n",
       " 'market for limestone, unprocessed' (kilogram, RoW, None),\n",
       " 'market for limestone residue' (kilogram, RoW, None),\n",
       " 'limestone production, crushed, washed' (kilogram, CA-QC, None),\n",
       " 'limestone quarry construction' (unit, RoW, None),\n",
       " 'limestone production, crushed, washed' (kilogram, CH, None),\n",
       " 'market for limestone, crushed, washed' (kilogram, CH, None),\n",
       " 'market for limestone, crushed, washed' (kilogram, RoW, None),\n",
       " 'limestone production, crushed, for mill' (kilogram, IN, None),\n",
       " 'limestone production, crushed, for mill' (kilogram, CA-QC, None),\n",
       " 'market for recultivation, limestone mine' (square meter, GLO, None),\n",
       " 'limestone production, crushed, washed' (kilogram, RoW, None),\n",
       " 'market for limestone quarry infrastructure' (unit, GLO, None),\n",
       " 'limestone production, crushed, for mill' (kilogram, CH, None),\n",
       " 'market for limestone, crushed, for mill' (kilogram, CH, None),\n",
       " 'market for limestone, crushed, for mill' (kilogram, IN, None)]"
      ]
     },
     "execution_count": 58,
     "metadata": {},
     "output_type": "execute_result"
    }
   ],
   "source": [
    "# Using search\n",
    "eidb.search('limestone')"
   ]
  },
  {
   "cell_type": "markdown",
   "id": "2ce7fbb4-cba9-44a3-820a-28f827be524b",
   "metadata": {},
   "source": [
    "The code above retrieves multiple activities involving limestone. We can refine the search by using filter with as many criteria as we want (provided that they are valid):"
   ]
  },
  {
   "cell_type": "code",
   "execution_count": 59,
   "id": "dcdd187a-a392-4f48-be66-4491ea41e10b",
   "metadata": {},
   "outputs": [
    {
     "name": "stdout",
     "output_type": "stream",
     "text": [
      "Excluding 257 filtered results\n"
     ]
    },
    {
     "data": {
      "text/plain": [
       "['market for limestone, crushed, washed' (kilogram, RoW, None),\n",
       " 'limestone production, crushed, washed' (kilogram, RoW, None),\n",
       " 'market for limestone, crushed, for mill' (kilogram, RoW, None),\n",
       " 'limestone production, crushed, for mill' (kilogram, RoW, None),\n",
       " 'limestone, crushed, washed to generic market for supplementary cementitious materials' (kilogram, RoW, None),\n",
       " 'gravel production, crushed' (kilogram, RoW, None)]"
      ]
     },
     "execution_count": 59,
     "metadata": {},
     "output_type": "execute_result"
    }
   ],
   "source": [
    "# Using search\n",
    "act_name = 'limestone' \n",
    "eidb.search(act_name, filter={'location':'ROW', 'name':'crushed'})\n"
   ]
  },
  {
   "cell_type": "markdown",
   "id": "e288a8c4-b5ab-4a27-9103-c69ae94e8f84",
   "metadata": {},
   "source": [
    "...refining the search a bit more:"
   ]
  },
  {
   "cell_type": "code",
   "execution_count": 60,
   "id": "306cfe2a-1f60-44de-b891-f410332f548d",
   "metadata": {},
   "outputs": [
    {
     "name": "stdout",
     "output_type": "stream",
     "text": [
      "Excluding 260 filtered results\n"
     ]
    },
    {
     "data": {
      "text/plain": [
       "['market for limestone, crushed, washed' (kilogram, RoW, None),\n",
       " 'limestone production, crushed, washed' (kilogram, RoW, None),\n",
       " 'limestone, crushed, washed to generic market for supplementary cementitious materials' (kilogram, RoW, None)]"
      ]
     },
     "execution_count": 60,
     "metadata": {},
     "output_type": "execute_result"
    }
   ],
   "source": [
    "eidb.search(act_name, filter={'location':'ROW', 'name':'crushed', 'name':'washed'})"
   ]
  },
  {
   "cell_type": "markdown",
   "id": "90615dd3-64a0-4698-9e6f-694155cb90ca",
   "metadata": {},
   "source": [
    "It might be useful to know the code of the activities retrived. That can be accomplished by running the following code:"
   ]
  },
  {
   "cell_type": "code",
   "execution_count": 61,
   "id": "200513b4-2fe3-494a-ac18-f9e231607323",
   "metadata": {},
   "outputs": [
    {
     "name": "stdout",
     "output_type": "stream",
     "text": [
      "Excluding 257 filtered results\n",
      "'market for limestone, crushed, washed' (kilogram, RoW, None)\n",
      "f02db7dc2aa90b15c39e38e5b2871a63\n",
      "'limestone production, crushed, washed' (kilogram, RoW, None)\n",
      "570143a9c955c81d5f8bc1e9bd8d22a1\n",
      "'market for limestone, crushed, for mill' (kilogram, RoW, None)\n",
      "80668cba452d7daa47ec2b932c503fd2\n",
      "'limestone production, crushed, for mill' (kilogram, RoW, None)\n",
      "c0505f1c9c2dc2f1a86b087089a33987\n",
      "'limestone, crushed, washed to generic market for supplementary cementitious materials' (kilogram, RoW, None)\n",
      "16f5ec192027775224682821f0453d17\n",
      "'gravel production, crushed' (kilogram, RoW, None)\n",
      "0cff374b6cd6c946c75f0a8dc694ab66\n"
     ]
    }
   ],
   "source": [
    "for activity in eidb.search(act_name, filter={'location':'RoW', 'name':'washed','name':'crushed'}):\n",
    "    print(activity)\n",
    "    print(activity['code'])"
   ]
  },
  {
   "cell_type": "markdown",
   "id": "8a01ede2-609a-4c5e-8e14-86e10c0b3088",
   "metadata": {},
   "source": [
    "This search resulted in three activities. Let's image we are interested in selecting the activity 'limestone production, crushed, washed', which is the second of the list, and we want to assign it to a variable called my_act. Invariably, there are many ways to do this. One of them is presented below:"
   ]
  },
  {
   "cell_type": "code",
   "execution_count": 62,
   "id": "16ff5aba-1ec0-4365-8e01-279a253769d2",
   "metadata": {},
   "outputs": [
    {
     "name": "stdout",
     "output_type": "stream",
     "text": [
      "'market for limestone, crushed, washed' (kilogram, RoW, None)\n"
     ]
    }
   ],
   "source": [
    "my_act = eidb.get('f02db7dc2aa90b15c39e38e5b2871a63')\n",
    "print(my_act)\n"
   ]
  },
  {
   "cell_type": "markdown",
   "id": "5aa40572-4a31-4db8-8bea-39ffd23a90b9",
   "metadata": {},
   "source": [
    "The search method can also be used with list comprehension:"
   ]
  },
  {
   "cell_type": "code",
   "execution_count": 63,
   "id": "a523399f-2ba0-4321-8e53-d23e32423105",
   "metadata": {},
   "outputs": [
    {
     "data": {
      "text/plain": [
       "['market for limestone, crushed, washed' (kilogram, RoW, None),\n",
       " 'limestone production, crushed, washed' (kilogram, RoW, None),\n",
       " 'limestone, crushed, washed to generic market for supplementary cementitious materials' (kilogram, RoW, None)]"
      ]
     },
     "execution_count": 63,
     "metadata": {},
     "output_type": "execute_result"
    }
   ],
   "source": [
    "[act for act in eidb if 'limestone' in act['name']\n",
    "        and 'crushed' in act['name']\n",
    "        and 'washed' in act['name']\n",
    "        and 'RoW' in act['location']\n",
    "]"
   ]
  },
  {
   "cell_type": "code",
   "execution_count": 64,
   "id": "c4d5d73d-cf8f-4755-9fb3-c8a0513438a9",
   "metadata": {},
   "outputs": [
    {
     "data": {
      "text/plain": [
       "'limestone production, crushed, washed' (kilogram, RoW, None)"
      ]
     },
     "execution_count": 64,
     "metadata": {},
     "output_type": "execute_result"
    }
   ],
   "source": [
    "[act for act in eidb if 'limestone' in act['name']\n",
    "        and 'crushed' in act['name']\n",
    "        and 'washed' in act['name']\n",
    "        and 'RoW' in act['location']\n",
    "][0]"
   ]
  },
  {
   "cell_type": "markdown",
   "id": "b276995b-f348-4f27-bbcd-508363312d53",
   "metadata": {},
   "source": []
  },
  {
   "cell_type": "markdown",
   "id": "3b58a043-54c5-4385-9398-aed096fdb471",
   "metadata": {},
   "source": [
    "**Exercise**: Select the activities that best represent: \n",
    "- The production of bitumen used in asphalt mixtures;\n",
    "- The transportation of materials used in road paving activities"
   ]
  },
  {
   "cell_type": "code",
   "execution_count": null,
   "id": "dbb1520d-96e7-4791-a4d5-b93755a64b2a",
   "metadata": {},
   "outputs": [],
   "source": []
  },
  {
   "cell_type": "markdown",
   "id": "7ac6d7c2-b695-4ede-a409-621cab2f11e3",
   "metadata": {},
   "source": [
    "##### LCI exchanges"
   ]
  },
  {
   "cell_type": "markdown",
   "id": "54c5cd8a-e2e2-41b7-abe8-6220d2d56421",
   "metadata": {},
   "source": [
    "Exchanges are the edges between nodes.\n",
    "\n",
    "These can be:\n",
    "\n",
    "- an edge between two activities within the technosphere (an element aij of A matrix)\n",
    "- edges between an activity in the technosphere and an activity in the \"biosphere\" (an element bkj of the biosphere matrix B).\n",
    "  \n",
    "One can iterate through all exchanges that have a given activity as output. Let's use as example the my_act selected above:"
   ]
  },
  {
   "cell_type": "code",
   "execution_count": 65,
   "id": "49a68b41-131d-4445-9a30-25b5d9a42825",
   "metadata": {},
   "outputs": [
    {
     "name": "stdout",
     "output_type": "stream",
     "text": [
      "Exchange: 1.0 kilogram 'market for limestone, crushed, washed' (kilogram, RoW, None) to 'market for limestone, crushed, washed' (kilogram, RoW, None)>\n",
      "Exchange: 1.0 kilogram 'limestone production, crushed, washed' (kilogram, RoW, None) to 'market for limestone, crushed, washed' (kilogram, RoW, None)>\n",
      "Exchange: 0.017352839318965644 ton kilometer 'market for transport, freight, lorry, unspecified' (ton kilometer, RoW, None) to 'market for limestone, crushed, washed' (kilogram, RoW, None)>\n",
      "Exchange: 0.0003583442198355759 ton kilometer 'market for transport, freight, lorry, unspecified' (ton kilometer, ZA, None) to 'market for limestone, crushed, washed' (kilogram, RoW, None)>\n",
      "Exchange: 0.0022888164611987796 ton kilometer 'market for transport, freight, lorry, unspecified' (ton kilometer, BR, None) to 'market for limestone, crushed, washed' (kilogram, RoW, None)>\n"
     ]
    }
   ],
   "source": [
    "for exc in my_act.exchanges():\n",
    "    print(exc)\n"
   ]
  },
  {
   "cell_type": "markdown",
   "id": "e7c6beb5-db70-4c36-a5fb-1efc2118d230",
   "metadata": {},
   "source": [
    "We can also iterate through subsets of the exchanges:\n",
    "\n",
    "- Technosphere exchanges: exchanges linking to other activities in the technosphere, activity.technosphere()\n",
    "- Biosphere exchanges: i.e. elementary flows, linking to activities in the biosphere database activity.biosphere()\n",
    "- Production exchange: the reference flow of the activity activity.production\n",
    "\n",
    "Let's consider we want to learn more info about the second exchange of those listed out above. We can do that by assigning it to a variable:"
   ]
  },
  {
   "cell_type": "code",
   "execution_count": 66,
   "id": "827867d5-27e9-4bfd-9041-b05f060ed0f6",
   "metadata": {},
   "outputs": [
    {
     "data": {
      "text/plain": [
       "{'flow': 'cfbce515-3f54-4411-ad9d-3d26b7faa15a',\n",
       " 'type': 'technosphere',\n",
       " 'name': 'transport, freight, lorry, unspecified',\n",
       " 'classifications': {'CPC': ['6511: Road transport services of freight']},\n",
       " 'production volume': 0.0,\n",
       " 'properties': {'carbon allocation': {'amount': 0.0, 'unit': 'kg'},\n",
       "  'carbon content': {'amount': 0.0, 'unit': 'dimensionless'}},\n",
       " 'activity': '5985dd21-41a0-54ff-9099-307681a5cbfb',\n",
       " 'unit': 'ton kilometer',\n",
       " 'comment': 'transportation over 20 km, based on expert judgement.',\n",
       " 'amount': 0.017352839318965644,\n",
       " 'pedigree': {'reliability': 3,\n",
       "  'completeness': 1,\n",
       "  'temporal correlation': 5,\n",
       "  'geographical correlation': 5,\n",
       "  'further technological correlation': 4},\n",
       " 'uncertainty type': 2,\n",
       " 'loc': -4.053999136470282,\n",
       " 'scale': 0.4516635916254486,\n",
       " 'scale without pedigree': 0.34641016151377546,\n",
       " 'input': ('ecoinvent-391-cutoff', '187ad56dca8970918d4b9bbbb8ffb41d'),\n",
       " 'output': ('ecoinvent-391-cutoff', 'f02db7dc2aa90b15c39e38e5b2871a63')}"
      ]
     },
     "execution_count": 66,
     "metadata": {},
     "output_type": "execute_result"
    }
   ],
   "source": [
    "my_act_exchange = [exc for exc in my_act.technosphere()][1]\n",
    "my_act_exchange._data"
   ]
  },
  {
   "cell_type": "markdown",
   "id": "126dd9e4-4f85-4f87-8217-7e7499a5701a",
   "metadata": {},
   "source": [
    "An alternative way to get the same info:"
   ]
  },
  {
   "cell_type": "code",
   "execution_count": 67,
   "id": "5131af62-a5f1-4430-8446-6ba915356d9f",
   "metadata": {},
   "outputs": [
    {
     "data": {
      "text/plain": [
       "{'flow': 'cfbce515-3f54-4411-ad9d-3d26b7faa15a',\n",
       " 'type': 'technosphere',\n",
       " 'name': 'transport, freight, lorry, unspecified',\n",
       " 'classifications': {'CPC': ['6511: Road transport services of freight']},\n",
       " 'production volume': 0.0,\n",
       " 'properties': {'carbon allocation': {'amount': 0.0, 'unit': 'kg'},\n",
       "  'carbon content': {'amount': 0.0, 'unit': 'dimensionless'}},\n",
       " 'activity': '5985dd21-41a0-54ff-9099-307681a5cbfb',\n",
       " 'unit': 'ton kilometer',\n",
       " 'comment': 'transportation over 20 km, based on expert judgement.',\n",
       " 'amount': 0.017352839318965644,\n",
       " 'pedigree': {'reliability': 3,\n",
       "  'completeness': 1,\n",
       "  'temporal correlation': 5,\n",
       "  'geographical correlation': 5,\n",
       "  'further technological correlation': 4},\n",
       " 'uncertainty type': 2,\n",
       " 'loc': -4.053999136470282,\n",
       " 'scale': 0.4516635916254486,\n",
       " 'scale without pedigree': 0.34641016151377546,\n",
       " 'input': ('ecoinvent-391-cutoff', '187ad56dca8970918d4b9bbbb8ffb41d'),\n",
       " 'output': ('ecoinvent-391-cutoff', 'f02db7dc2aa90b15c39e38e5b2871a63')}"
      ]
     },
     "execution_count": 67,
     "metadata": {},
     "output_type": "execute_result"
    }
   ],
   "source": [
    "my_act_exchange.as_dict()"
   ]
  },
  {
   "cell_type": "code",
   "execution_count": 68,
   "id": "1d696bce-2807-4f8c-9169-3df946be8827",
   "metadata": {},
   "outputs": [
    {
     "data": {
      "text/plain": [
       "'technosphere'"
      ]
     },
     "execution_count": 68,
     "metadata": {},
     "output_type": "execute_result"
    }
   ],
   "source": [
    "my_act_exchange['type']"
   ]
  },
  {
   "cell_type": "code",
   "execution_count": 69,
   "id": "c8ea2dd0-0c46-4e4b-a61b-0032a14785a7",
   "metadata": {},
   "outputs": [
    {
     "data": {
      "text/plain": [
       "0.017352839318965644"
      ]
     },
     "execution_count": 69,
     "metadata": {},
     "output_type": "execute_result"
    }
   ],
   "source": [
    "# Amount, or weight of the edge\n",
    "my_act_exchange.amount # The following code produces the same result: my_act_exchange['amount']"
   ]
  },
  {
   "cell_type": "code",
   "execution_count": 70,
   "id": "ef1022d0-d474-4749-a865-8b6f7148f045",
   "metadata": {},
   "outputs": [
    {
     "data": {
      "text/plain": [
       "'market for limestone, crushed, washed' (kilogram, RoW, None)"
      ]
     },
     "execution_count": 70,
     "metadata": {},
     "output_type": "execute_result"
    }
   ],
   "source": [
    "# Activity the exchange terminates in\n",
    "my_act_exchange.output"
   ]
  },
  {
   "cell_type": "code",
   "execution_count": 71,
   "id": "e2af1619-d0fe-4b76-a4e7-1bebadf431b6",
   "metadata": {},
   "outputs": [
    {
     "data": {
      "text/plain": [
       "'market for transport, freight, lorry, unspecified' (ton kilometer, RoW, None)"
      ]
     },
     "execution_count": 71,
     "metadata": {},
     "output_type": "execute_result"
    }
   ],
   "source": [
    "# Activity the exchange stems from\n",
    "my_act_exchange.input"
   ]
  },
  {
   "cell_type": "code",
   "execution_count": null,
   "id": "0a18b873-aa03-4bef-bb89-94dbd49b6c0d",
   "metadata": {},
   "outputs": [],
   "source": []
  },
  {
   "cell_type": "code",
   "execution_count": 72,
   "id": "4bc5b1fc-6e8b-4b0d-8b95-dcfad1147ab8",
   "metadata": {},
   "outputs": [
    {
     "data": {
      "text/plain": [
       "[Exchange: 1.0 kilogram 'market for limestone, crushed, washed' (kilogram, RoW, None) to 'market for limestone, crushed, washed' (kilogram, RoW, None)>]"
      ]
     },
     "execution_count": 72,
     "metadata": {},
     "output_type": "execute_result"
    }
   ],
   "source": [
    "[exc for exc in my_act.production()]"
   ]
  },
  {
   "cell_type": "markdown",
   "id": "6060df89-ecc6-4960-ae0c-3b7b3a7a5683",
   "metadata": {},
   "source": [
    "This is the reference flow of the selected activity!"
   ]
  },
  {
   "cell_type": "code",
   "execution_count": null,
   "id": "a3dc69a5-c0d8-475c-8fd2-927abbf6cdbf",
   "metadata": {},
   "outputs": [],
   "source": []
  },
  {
   "cell_type": "markdown",
   "id": "b47618bf-4b0e-46ce-8dd3-53468c67069a",
   "metadata": {},
   "source": [
    "Let's assign a biosphere flow to a variable, and check the following:\n",
    "\n",
    "- Is the output the same as for the technosphere exchange?\n",
    "- From what database does the biosphere exchange come from?\n",
    "- What is the amount of the exchange (i.e. the weight of the edge connecting the two activities)?\n",
    "  \n",
    "NOTE: If we get a  list index out of range error when trying to subscript our list comprehension, it means our list comprehension is empty, i.e. that there are no biosphere flows associated with the activity."
   ]
  },
  {
   "cell_type": "code",
   "execution_count": 73,
   "id": "341113eb-96ee-4307-969f-4dc89be0f92c",
   "metadata": {},
   "outputs": [
    {
     "ename": "IndexError",
     "evalue": "list index out of range",
     "output_type": "error",
     "traceback": [
      "\u001b[0;31m---------------------------------------------------------------------------\u001b[0m",
      "\u001b[0;31mIndexError\u001b[0m                                Traceback (most recent call last)",
      "Cell \u001b[0;32mIn[73], line 2\u001b[0m\n\u001b[1;32m      1\u001b[0m \u001b[38;5;66;03m# Assign the exchange to a variable:\u001b[39;00m\n\u001b[0;32m----> 2\u001b[0m bio_exchange \u001b[38;5;241m=\u001b[39m \u001b[43m[\u001b[49m\u001b[43mexc\u001b[49m\u001b[43m \u001b[49m\u001b[38;5;28;43;01mfor\u001b[39;49;00m\u001b[43m \u001b[49m\u001b[43mexc\u001b[49m\u001b[43m \u001b[49m\u001b[38;5;129;43;01min\u001b[39;49;00m\u001b[43m \u001b[49m\u001b[43mmy_act\u001b[49m\u001b[38;5;241;43m.\u001b[39;49m\u001b[43mbiosphere\u001b[49m\u001b[43m(\u001b[49m\u001b[43m)\u001b[49m\u001b[43m]\u001b[49m\u001b[43m[\u001b[49m\u001b[38;5;241;43m0\u001b[39;49m\u001b[43m]\u001b[49m\n\u001b[1;32m      3\u001b[0m bio_exchange\n",
      "\u001b[0;31mIndexError\u001b[0m: list index out of range"
     ]
    }
   ],
   "source": [
    "# Assign the exchange to a variable:\n",
    "bio_exchange = [exc for exc in my_act.biosphere()][0]\n",
    "bio_exchange"
   ]
  },
  {
   "cell_type": "code",
   "execution_count": null,
   "id": "a028c720-101c-47a0-964d-4f8dfaaeb620",
   "metadata": {},
   "outputs": [],
   "source": []
  },
  {
   "cell_type": "code",
   "execution_count": 74,
   "id": "940d141c-62fc-4254-8c52-aa32e5c03b04",
   "metadata": {},
   "outputs": [
    {
     "ename": "NameError",
     "evalue": "name 'bio_exchange' is not defined",
     "output_type": "error",
     "traceback": [
      "\u001b[0;31m---------------------------------------------------------------------------\u001b[0m",
      "\u001b[0;31mNameError\u001b[0m                                 Traceback (most recent call last)",
      "Cell \u001b[0;32mIn[74], line 1\u001b[0m\n\u001b[0;32m----> 1\u001b[0m \u001b[43mbio_exchange\u001b[49m\u001b[38;5;241m.\u001b[39moutput\n",
      "\u001b[0;31mNameError\u001b[0m: name 'bio_exchange' is not defined"
     ]
    }
   ],
   "source": [
    "bio_exchange.output"
   ]
  },
  {
   "cell_type": "code",
   "execution_count": null,
   "id": "833a3642-d1cf-405d-8b01-60dcbe82aaea",
   "metadata": {},
   "outputs": [],
   "source": []
  }
 ],
 "metadata": {
  "kernelspec": {
   "display_name": "Python 3 (ipykernel)",
   "language": "python",
   "name": "python3"
  },
  "language_info": {
   "codemirror_mode": {
    "name": "ipython",
    "version": 3
   },
   "file_extension": ".py",
   "mimetype": "text/x-python",
   "name": "python",
   "nbconvert_exporter": "python",
   "pygments_lexer": "ipython3",
   "version": "3.11.9"
  }
 },
 "nbformat": 4,
 "nbformat_minor": 5
}
